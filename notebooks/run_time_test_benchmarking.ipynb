{
 "cells": [
  {
   "cell_type": "markdown",
   "metadata": {},
   "source": [
    "## Standardized test cases"
   ]
  },
  {
   "cell_type": "markdown",
   "metadata": {},
   "source": [
    "For benchmarking, we need a standardized set of case studies, ranging form simple to very large. This helps us to test and track the performance of improvements of bw_timex with the same set of test cases.\n"
   ]
  },
  {
   "cell_type": "markdown",
   "metadata": {},
   "source": [
    "### 0) set up variables & functions"
   ]
  },
  {
   "cell_type": "code",
   "execution_count": 1,
   "metadata": {},
   "outputs": [],
   "source": [
    "import numpy as np\n",
    "import bw2data as bd\n",
    "\n",
    "from bw_temporalis import TemporalDistribution\n",
    "from datetime import datetime\n",
    "\n",
    "from cProfile import Profile\n",
    "from pstats import SortKey, Stats\n",
    "\n",
    "import time\n",
    "from bw_timex import TimexLCA\n"
   ]
  },
  {
   "cell_type": "code",
   "execution_count": 2,
   "metadata": {},
   "outputs": [],
   "source": [
    "# Define the old and new project names\n",
    "old_project_name = 'Reforrestation_Aforrestation'\n",
    "new_project_name = 'timex_benchmarking'\n",
    "\n",
    "# Restore the old project\n",
    "if new_project_name not in bd.projects:\n",
    "    import bw2io as bi\n",
    "    import shutil\n",
    "    bi.backup.restore_project_directory(fp= '/Users/ajakobs/Documents/Solene_Reforrestation_Aforrestation/brightway2-project-Reforrestation_Aforrestation-backup02-June-2025-05-23PM.tar.gz',\n",
    "                                    overwrite_existing=True)\n",
    "\n",
    "\n",
    "    # Set the current project to the old project\n",
    "    bd.projects.set_current(old_project_name)\n",
    "\n",
    "    # Get the project directory\n",
    "    old_project_dir = bd.projects.dir\n",
    "\n",
    "    # Create a new project\n",
    "    bd.projects.set_current(new_project_name)\n",
    "\n",
    "    # Get the new project directory\n",
    "    new_project_dir = bd.projects.dir\n",
    "\n",
    "    # Copy the old project directory to the new project directory\n",
    "    shutil.copytree(old_project_dir, new_project_dir, dirs_exist_ok=True)\n",
    "\n",
    "    print(f\"Project loaded and copied to {new_project_name}.\")\n",
    "else:\n",
    "    bd.projects.set_current(new_project_name)\n"
   ]
  },
  {
   "cell_type": "code",
   "execution_count": 3,
   "metadata": {},
   "outputs": [
    {
     "data": {
      "text/plain": [
       "['ecoinvent-3.11-biosphere',\n",
       " 'ecoinvent-3.11-cutoff',\n",
       " 'ei_cutoff_3.11_image_SSP2-M_2020 2025-05-30',\n",
       " 'ei_cutoff_3.11_image_SSP2-M_2030 2025-05-30',\n",
       " 'ei_cutoff_3.11_image_SSP2-M_2040 2025-05-30',\n",
       " 'ei_cutoff_3.11_image_SSP2-M_2050 2025-05-30',\n",
       " 'test_2tiers_3processes',\n",
       " 'test_1tiers_1processes']"
      ]
     },
     "execution_count": 3,
     "metadata": {},
     "output_type": "execute_result"
    }
   ],
   "source": [
    "list(bd.databases)"
   ]
  },
  {
   "cell_type": "code",
   "execution_count": 4,
   "metadata": {},
   "outputs": [
    {
     "name": "stdout",
     "output_type": "stream",
     "text": [
      "['test_2tiers_3processes', 'test_1tiers_1processes']\n",
      "Databases dictionary with 6 object(s):\n",
      "\tecoinvent-3.11-biosphere\n",
      "\tecoinvent-3.11-cutoff\n",
      "\tei_cutoff_3.11_image_SSP2-M_2020 2025-05-30\n",
      "\tei_cutoff_3.11_image_SSP2-M_2030 2025-05-30\n",
      "\tei_cutoff_3.11_image_SSP2-M_2040 2025-05-30\n",
      "\tei_cutoff_3.11_image_SSP2-M_2050 2025-05-30\n"
     ]
    }
   ],
   "source": [
    "# Remove all test systems from the project\n",
    "def clear_test_systems():\n",
    "    to_delete = []\n",
    "    for db in bd.databases:  # deleting all test_systems\n",
    "        if \"test\" in db:\n",
    "            to_delete.append(db)\n",
    "    print(to_delete)\n",
    "\n",
    "    for db in to_delete:\n",
    "        del bd.databases[db]\n",
    "\n",
    "    print(bd.databases)\n",
    "\n",
    "clear_test_systems()"
   ]
  },
  {
   "cell_type": "code",
   "execution_count": 5,
   "metadata": {},
   "outputs": [],
   "source": [
    "base_background_db = bd.Database(\"ei_cutoff_3.11_image_SSP2-M_2020 2025-05-30\")"
   ]
  },
  {
   "cell_type": "code",
   "execution_count": 6,
   "metadata": {},
   "outputs": [],
   "source": [
    "list_random_acts = []\n",
    "for i in range(0, 100):\n",
    "    act = base_background_db.random()\n",
    "    list_random_acts.append((act[\"code\"]))"
   ]
  },
  {
   "cell_type": "code",
   "execution_count": 7,
   "metadata": {},
   "outputs": [],
   "source": [
    "fixed_random_acts = list_random_acts"
   ]
  },
  {
   "cell_type": "code",
   "execution_count": 8,
   "metadata": {},
   "outputs": [],
   "source": [
    "def create_standardized_test_system(\n",
    "    db_name,\n",
    "    number_tiers,\n",
    "    number_processes_per_tier,\n",
    "    td_timesteps,\n",
    "    td_dtype,\n",
    "    fixed_random_acts,\n",
    "    number_background_exchanges_per_process,\n",
    "    base_background_db_name,\n",
    "    loop=False,\n",
    "):\n",
    "    \"\"\"\n",
    "    Create a foreground database with a standardized structure for testing purposes. It contains number_tiers supply chain levels, with each containing\n",
    "    number_processes_per_tier processes. Each process consumes from all processes in the tier below. At the last tier, each process consumes a certain numebr of background process\n",
    "    Each process has a temporal distribution with td_timesteps steps, e.g. 3, in td_dtype resolution, e.g. years, starting at a unit of time later than the consuming process\n",
    "    The last tier consumes a process from the background system in 2020, selecting a process from a predefined list of random processes, with the same temporal distribution as above.\n",
    "    If loop = True, a loop is included: the last process in last tier consumes from the last process in first tier, no TDs at this node.\n",
    "    No additional TDs at biosphere flows.\n",
    "\n",
    "    Parameters:\n",
    "    db_name: str, name of the database\n",
    "    number_tiers: int, number of tiers in the supply chain\n",
    "    number_processes_per_tier: int, number of processes per tier\n",
    "    td_timesteps: int, number of timesteps in the temporal distribution\n",
    "    td_dtype: str, dtype of the temporal distribution, e.g. \"timedelta64[Y]\" or \"timedelta64[M]\"\n",
    "    fixed_random_acts: a list of 100 background activities codes that has been pre-generated\n",
    "    number_background_exchanges_per_process: int, number of background exchanges per process in the last tier\n",
    "    base_background_db_name: str, name of the background database to use for the last tier processes, e.g. \"ei_cutoff_3.11_image_SSP2-M_2020 2025-05-30\"\n",
    "    loop: bool, whether to include a loop in the foreground system\n",
    "\n",
    "    returns: None\n",
    "\n",
    "\n",
    "    \"\"\"\n",
    "\n",
    "    # create a new database\n",
    "    if db_name in bd.databases:\n",
    "        del bd.databases[db_name]\n",
    "        print(f\"Database {db_name} already exists, overwriting.\")\n",
    "    foreground = bd.Database(db_name)\n",
    "    foreground.register()\n",
    "\n",
    "    background_db = bd.Database(\n",
    "        base_background_db_name\n",
    "    )  # background database for 2020 in timex project\n",
    "\n",
    "    # save FU node\n",
    "    FU_node = foreground.new_node(code=\"FU\", name=\"functional unit\", unit=\"unit\")\n",
    "    FU_node.save()\n",
    "    FU_node.new_edge(input=FU_node, amount=1, unit=\"unit\", type=\"production\").save()\n",
    "\n",
    "    # create nodes\n",
    "    for tier in range(1, number_tiers + 1):\n",
    "        for process in range(1, number_processes_per_tier + 1):\n",
    "            process_name = f\"tier{tier}_act{process}\"\n",
    "            process_code = f\"t{tier}_a{process}\"\n",
    "            process_node = foreground.new_node(\n",
    "                code=process_code, name=process_name, unit=\"unit\"\n",
    "            )\n",
    "            process_node.save()\n",
    "            process_node.new_edge(\n",
    "                input=process_node, amount=1, unit=\"unit\", type=\"production\"\n",
    "            ).save()\n",
    "\n",
    "    # relink nodes\n",
    "    for tier in range(1, number_tiers + 1):\n",
    "        for process in range(1, number_processes_per_tier + 1):\n",
    "            process_name = f\"tier{tier}_act{process}\"\n",
    "            process_code = f\"t{tier}_a{process}\"\n",
    "            process_node = foreground.get(process_code)\n",
    "            if tier == 1:  # tier 1 = FU\n",
    "                consuming_node = FU_node\n",
    "                new_edge = consuming_node.new_edge(\n",
    "                    input=process_node, amount=1, unit=\"unit\", type=\"technosphere\"\n",
    "                )\n",
    "                new_edge.save()\n",
    "            else:  # lower tiers: all nodes at the tier above consume from all nodes at the tier below, with a temporal distribution specified by the inputs\n",
    "                for process in range(1, number_processes_per_tier + 1):\n",
    "                    consuming_node = foreground.get(f\"t{tier-1}_a{process}\")\n",
    "                    new_edge = consuming_node.new_edge(\n",
    "                        input=process_node, amount=1, unit=\"unit\", type=\"technosphere\"\n",
    "                    )\n",
    "                    temporal_distribution = TemporalDistribution(\n",
    "                        date=np.array(np.arange(1, td_timesteps + 1), dtype=td_dtype),\n",
    "                        amount=np.full(td_timesteps, 1 / td_timesteps),\n",
    "                    )  # linear distribution between 1 and td_timesteps in years\n",
    "                    new_edge[\"temporal_distribution\"] = temporal_distribution\n",
    "                    new_edge.save()\n",
    "\n",
    "    # add background process to nodes on last tier\n",
    "    count_background_act = 0  # counting upward in list of random acts\n",
    "    total_background_count = 0\n",
    "    for process in range(1, number_processes_per_tier + 1):\n",
    "        last_foreground_node = foreground.get(f\"t{number_tiers}_a{process}\")\n",
    "\n",
    "        for _ in range(1, number_background_exchanges_per_process + 1):\n",
    "            background_process = background_db.get(\n",
    "                code=fixed_random_acts[count_background_act]\n",
    "            )\n",
    "            count_background_act += 1\n",
    "\n",
    "            new_edge = last_foreground_node.new_edge(\n",
    "                input=background_process, amount=4, type=\"technosphere\"\n",
    "            )\n",
    "            temporal_distribution = TemporalDistribution(\n",
    "                date=np.array(np.arange(1, td_timesteps + 1), dtype=td_dtype),\n",
    "                amount=np.full(td_timesteps, 1 / td_timesteps),\n",
    "            )  # linear distribution between 1 and td_timesteps in years\n",
    "            new_edge[\"temporal_distribution\"] = temporal_distribution\n",
    "            new_edge.save()\n",
    "\n",
    "            if (\n",
    "                count_background_act == 99\n",
    "            ):  # if all 100 background processes have been used, start again\n",
    "                total_background_count += count_background_act\n",
    "                count_background_act = 0\n",
    "\n",
    "    if loop:\n",
    "        # add loop to foreground: last process in last tier consumes from last process in first tier, no TDs\n",
    "        loop_consumer = foreground.get(f\"t{number_tiers}_a{number_processes_per_tier}\")\n",
    "        loop_producer = foreground.get(f\"t{1}_a{number_processes_per_tier}\")\n",
    "        new_edge = loop_consumer.new_edge(\n",
    "            input=loop_producer, amount=0.3, type=\"technosphere\"\n",
    "        )\n",
    "        new_edge.save()\n",
    "\n",
    "    count_exc = 0\n",
    "    for act in foreground:\n",
    "        for exc in act.technosphere():\n",
    "            count_exc += 1\n",
    "\n",
    "    total_background_count += (\n",
    "        count_background_act  # number of background processes used in total\n",
    "    )\n",
    "\n",
    "    print(\n",
    "        f\"Database {db_name} created with {len(foreground)} processes and {count_exc} exchanges. There are {total_background_count} different background processes used.\"\n",
    "    )\n",
    "    return len(foreground), count_exc, total_background_count"
   ]
  },
  {
   "cell_type": "markdown",
   "metadata": {},
   "source": [
    "### 1) small system"
   ]
  },
  {
   "cell_type": "code",
   "execution_count": 9,
   "metadata": {},
   "outputs": [],
   "source": [
    "def _database_dates(db_name):\n",
    "    database_dates = {\n",
    "    \"ei_cutoff_3.11_image_SSP2-M_2020 2025-05-30\": datetime.strptime(\"2020\", \"%Y\"),\n",
    "    \"ei_cutoff_3.11_image_SSP2-M_2030 2025-05-30\": datetime.strptime(\"2030\", \"%Y\"),\n",
    "    \"ei_cutoff_3.11_image_SSP2-M_2040 2025-05-30\": datetime.strptime(\"2040\", \"%Y\"),\n",
    "    \"ei_cutoff_3.11_image_SSP2-M_2050 2025-05-30\": datetime.strptime(\"2050\", \"%Y\"),\n",
    "    db_name: \"dynamic\",\n",
    "    }\n",
    "    return database_dates"
   ]
  },
  {
   "cell_type": "code",
   "execution_count": 10,
   "metadata": {},
   "outputs": [],
   "source": [
    "# set method\n",
    "method = ('ecoinvent-3.11', 'IPCC 2021 (incl. biogenic CO2)', 'climate change: total (incl. biogenic CO2)', 'global warming potential (GWP100)')"
   ]
  },
  {
   "cell_type": "code",
   "execution_count": 33,
   "metadata": {},
   "outputs": [
    {
     "name": "stdout",
     "output_type": "stream",
     "text": [
      "[]\n",
      "Databases dictionary with 6 object(s):\n",
      "\tecoinvent-3.11-biosphere\n",
      "\tecoinvent-3.11-cutoff\n",
      "\tei_cutoff_3.11_image_SSP2-M_2020 2025-05-30\n",
      "\tei_cutoff_3.11_image_SSP2-M_2030 2025-05-30\n",
      "\tei_cutoff_3.11_image_SSP2-M_2040 2025-05-30\n",
      "\tei_cutoff_3.11_image_SSP2-M_2050 2025-05-30\n",
      "Repeat 1/3 for 1 tiers and 1 processes...\n",
      "Database test_1tiers_1processes created with 2 processes and 3 exchanges. There are 2 different background processes used.\n",
      "benchmarking database test_1tiers_1processes...\n"
     ]
    },
    {
     "name": "stderr",
     "output_type": "stream",
     "text": [
      "/Users/ajakobs/miniconda3/envs/timex/lib/python3.11/site-packages/scikits/umfpack/umfpack.py:736: UmfpackWarning: (almost) singular matrix! (estimated cond. number: 9.30e+12)\n",
      "  warnings.warn(msg, UmfpackWarning)\n",
      "\u001b[32m2025-06-18 10:45:09.083\u001b[0m | \u001b[1mINFO    \u001b[0m | \u001b[36mbw_timex.timex_lca\u001b[0m:\u001b[36mbuild_timeline\u001b[0m:\u001b[36m217\u001b[0m - \u001b[1mNo edge filter function provided. Skipping all edges in background databases.\u001b[0m\n"
     ]
    },
    {
     "name": "stdout",
     "output_type": "stream",
     "text": [
      "Starting graph traversal\n",
      "Calculation count: 3\n"
     ]
    },
    {
     "name": "stderr",
     "output_type": "stream",
     "text": [
      "/Users/ajakobs/miniconda3/envs/timex/lib/python3.11/site-packages/bw2calc/lca_base.py:127: SparseEfficiencyWarning: splu converted its input to CSC format\n",
      "  self.solver = factorized(self.technosphere_matrix)\n",
      "/Users/ajakobs/miniconda3/envs/timex/lib/python3.11/site-packages/scikits/umfpack/umfpack.py:736: UmfpackWarning: (almost) singular matrix! (estimated cond. number: 4.49e+12)\n",
      "  warnings.warn(msg, UmfpackWarning)\n",
      "/Users/ajakobs/miniconda3/envs/timex/lib/python3.11/site-packages/scikits/umfpack/umfpack.py:736: UmfpackWarning: (almost) singular matrix! (estimated cond. number: 4.49e+12)\n",
      "  warnings.warn(msg, UmfpackWarning)\n"
     ]
    },
    {
     "name": "stdout",
     "output_type": "stream",
     "text": [
      "Repeat 2/3 for 1 tiers and 1 processes...\n",
      "Database test_1tiers_1processes created with 2 processes and 3 exchanges. There are 2 different background processes used.\n",
      "benchmarking database test_1tiers_1processes...\n"
     ]
    },
    {
     "name": "stderr",
     "output_type": "stream",
     "text": [
      "/Users/ajakobs/miniconda3/envs/timex/lib/python3.11/site-packages/scikits/umfpack/umfpack.py:736: UmfpackWarning: (almost) singular matrix! (estimated cond. number: 9.30e+12)\n",
      "  warnings.warn(msg, UmfpackWarning)\n",
      "\u001b[32m2025-06-18 10:45:26.918\u001b[0m | \u001b[1mINFO    \u001b[0m | \u001b[36mbw_timex.timex_lca\u001b[0m:\u001b[36mbuild_timeline\u001b[0m:\u001b[36m217\u001b[0m - \u001b[1mNo edge filter function provided. Skipping all edges in background databases.\u001b[0m\n"
     ]
    },
    {
     "name": "stdout",
     "output_type": "stream",
     "text": [
      "Starting graph traversal\n",
      "Calculation count: 3\n"
     ]
    },
    {
     "name": "stderr",
     "output_type": "stream",
     "text": [
      "/Users/ajakobs/miniconda3/envs/timex/lib/python3.11/site-packages/bw2calc/lca_base.py:127: SparseEfficiencyWarning: splu converted its input to CSC format\n",
      "  self.solver = factorized(self.technosphere_matrix)\n",
      "/Users/ajakobs/miniconda3/envs/timex/lib/python3.11/site-packages/scikits/umfpack/umfpack.py:736: UmfpackWarning: (almost) singular matrix! (estimated cond. number: 4.49e+12)\n",
      "  warnings.warn(msg, UmfpackWarning)\n",
      "/Users/ajakobs/miniconda3/envs/timex/lib/python3.11/site-packages/scikits/umfpack/umfpack.py:736: UmfpackWarning: (almost) singular matrix! (estimated cond. number: 4.49e+12)\n",
      "  warnings.warn(msg, UmfpackWarning)\n"
     ]
    },
    {
     "name": "stdout",
     "output_type": "stream",
     "text": [
      "Repeat 3/3 for 1 tiers and 1 processes...\n",
      "Database test_1tiers_1processes created with 2 processes and 3 exchanges. There are 2 different background processes used.\n",
      "benchmarking database test_1tiers_1processes...\n"
     ]
    },
    {
     "name": "stderr",
     "output_type": "stream",
     "text": [
      "/Users/ajakobs/miniconda3/envs/timex/lib/python3.11/site-packages/scikits/umfpack/umfpack.py:736: UmfpackWarning: (almost) singular matrix! (estimated cond. number: 9.30e+12)\n",
      "  warnings.warn(msg, UmfpackWarning)\n",
      "\u001b[32m2025-06-18 10:45:45.404\u001b[0m | \u001b[1mINFO    \u001b[0m | \u001b[36mbw_timex.timex_lca\u001b[0m:\u001b[36mbuild_timeline\u001b[0m:\u001b[36m217\u001b[0m - \u001b[1mNo edge filter function provided. Skipping all edges in background databases.\u001b[0m\n"
     ]
    },
    {
     "name": "stdout",
     "output_type": "stream",
     "text": [
      "Starting graph traversal\n",
      "Calculation count: 3\n"
     ]
    },
    {
     "name": "stderr",
     "output_type": "stream",
     "text": [
      "/Users/ajakobs/miniconda3/envs/timex/lib/python3.11/site-packages/bw2calc/lca_base.py:127: SparseEfficiencyWarning: splu converted its input to CSC format\n",
      "  self.solver = factorized(self.technosphere_matrix)\n",
      "/Users/ajakobs/miniconda3/envs/timex/lib/python3.11/site-packages/scikits/umfpack/umfpack.py:736: UmfpackWarning: (almost) singular matrix! (estimated cond. number: 4.49e+12)\n",
      "  warnings.warn(msg, UmfpackWarning)\n",
      "/Users/ajakobs/miniconda3/envs/timex/lib/python3.11/site-packages/scikits/umfpack/umfpack.py:736: UmfpackWarning: (almost) singular matrix! (estimated cond. number: 4.49e+12)\n",
      "  warnings.warn(msg, UmfpackWarning)\n"
     ]
    },
    {
     "name": "stdout",
     "output_type": "stream",
     "text": [
      "Repeat 1/3 for 1 tiers and 2 processes...\n",
      "Database test_1tiers_2processes created with 3 processes and 6 exchanges. There are 4 different background processes used.\n",
      "benchmarking database test_1tiers_2processes...\n"
     ]
    },
    {
     "name": "stderr",
     "output_type": "stream",
     "text": [
      "/Users/ajakobs/miniconda3/envs/timex/lib/python3.11/site-packages/scikits/umfpack/umfpack.py:736: UmfpackWarning: (almost) singular matrix! (estimated cond. number: 9.30e+12)\n",
      "  warnings.warn(msg, UmfpackWarning)\n",
      "\u001b[32m2025-06-18 10:46:03.448\u001b[0m | \u001b[1mINFO    \u001b[0m | \u001b[36mbw_timex.timex_lca\u001b[0m:\u001b[36mbuild_timeline\u001b[0m:\u001b[36m217\u001b[0m - \u001b[1mNo edge filter function provided. Skipping all edges in background databases.\u001b[0m\n"
     ]
    },
    {
     "name": "stdout",
     "output_type": "stream",
     "text": [
      "Starting graph traversal\n",
      "Calculation count: 6\n"
     ]
    },
    {
     "name": "stderr",
     "output_type": "stream",
     "text": [
      "/Users/ajakobs/miniconda3/envs/timex/lib/python3.11/site-packages/bw2calc/lca_base.py:127: SparseEfficiencyWarning: splu converted its input to CSC format\n",
      "  self.solver = factorized(self.technosphere_matrix)\n",
      "/Users/ajakobs/miniconda3/envs/timex/lib/python3.11/site-packages/scikits/umfpack/umfpack.py:736: UmfpackWarning: (almost) singular matrix! (estimated cond. number: 4.49e+12)\n",
      "  warnings.warn(msg, UmfpackWarning)\n",
      "/Users/ajakobs/miniconda3/envs/timex/lib/python3.11/site-packages/scikits/umfpack/umfpack.py:736: UmfpackWarning: (almost) singular matrix! (estimated cond. number: 4.49e+12)\n",
      "  warnings.warn(msg, UmfpackWarning)\n"
     ]
    },
    {
     "name": "stdout",
     "output_type": "stream",
     "text": [
      "Repeat 2/3 for 1 tiers and 2 processes...\n",
      "Database test_1tiers_2processes created with 3 processes and 6 exchanges. There are 4 different background processes used.\n",
      "benchmarking database test_1tiers_2processes...\n"
     ]
    },
    {
     "name": "stderr",
     "output_type": "stream",
     "text": [
      "/Users/ajakobs/miniconda3/envs/timex/lib/python3.11/site-packages/scikits/umfpack/umfpack.py:736: UmfpackWarning: (almost) singular matrix! (estimated cond. number: 9.30e+12)\n",
      "  warnings.warn(msg, UmfpackWarning)\n",
      "\u001b[32m2025-06-18 10:46:25.013\u001b[0m | \u001b[1mINFO    \u001b[0m | \u001b[36mbw_timex.timex_lca\u001b[0m:\u001b[36mbuild_timeline\u001b[0m:\u001b[36m217\u001b[0m - \u001b[1mNo edge filter function provided. Skipping all edges in background databases.\u001b[0m\n"
     ]
    },
    {
     "name": "stdout",
     "output_type": "stream",
     "text": [
      "Starting graph traversal\n",
      "Calculation count: 6\n"
     ]
    },
    {
     "name": "stderr",
     "output_type": "stream",
     "text": [
      "/Users/ajakobs/miniconda3/envs/timex/lib/python3.11/site-packages/bw2calc/lca_base.py:127: SparseEfficiencyWarning: splu converted its input to CSC format\n",
      "  self.solver = factorized(self.technosphere_matrix)\n",
      "/Users/ajakobs/miniconda3/envs/timex/lib/python3.11/site-packages/scikits/umfpack/umfpack.py:736: UmfpackWarning: (almost) singular matrix! (estimated cond. number: 4.49e+12)\n",
      "  warnings.warn(msg, UmfpackWarning)\n",
      "/Users/ajakobs/miniconda3/envs/timex/lib/python3.11/site-packages/scikits/umfpack/umfpack.py:736: UmfpackWarning: (almost) singular matrix! (estimated cond. number: 4.49e+12)\n",
      "  warnings.warn(msg, UmfpackWarning)\n"
     ]
    },
    {
     "name": "stdout",
     "output_type": "stream",
     "text": [
      "Repeat 3/3 for 1 tiers and 2 processes...\n",
      "Database test_1tiers_2processes created with 3 processes and 6 exchanges. There are 4 different background processes used.\n",
      "benchmarking database test_1tiers_2processes...\n"
     ]
    },
    {
     "name": "stderr",
     "output_type": "stream",
     "text": [
      "/Users/ajakobs/miniconda3/envs/timex/lib/python3.11/site-packages/scikits/umfpack/umfpack.py:736: UmfpackWarning: (almost) singular matrix! (estimated cond. number: 9.30e+12)\n",
      "  warnings.warn(msg, UmfpackWarning)\n",
      "\u001b[32m2025-06-18 10:46:46.914\u001b[0m | \u001b[1mINFO    \u001b[0m | \u001b[36mbw_timex.timex_lca\u001b[0m:\u001b[36mbuild_timeline\u001b[0m:\u001b[36m217\u001b[0m - \u001b[1mNo edge filter function provided. Skipping all edges in background databases.\u001b[0m\n"
     ]
    },
    {
     "name": "stdout",
     "output_type": "stream",
     "text": [
      "Starting graph traversal\n",
      "Calculation count: 6\n"
     ]
    },
    {
     "name": "stderr",
     "output_type": "stream",
     "text": [
      "/Users/ajakobs/miniconda3/envs/timex/lib/python3.11/site-packages/bw2calc/lca_base.py:127: SparseEfficiencyWarning: splu converted its input to CSC format\n",
      "  self.solver = factorized(self.technosphere_matrix)\n",
      "/Users/ajakobs/miniconda3/envs/timex/lib/python3.11/site-packages/scikits/umfpack/umfpack.py:736: UmfpackWarning: (almost) singular matrix! (estimated cond. number: 4.49e+12)\n",
      "  warnings.warn(msg, UmfpackWarning)\n",
      "/Users/ajakobs/miniconda3/envs/timex/lib/python3.11/site-packages/scikits/umfpack/umfpack.py:736: UmfpackWarning: (almost) singular matrix! (estimated cond. number: 4.49e+12)\n",
      "  warnings.warn(msg, UmfpackWarning)\n"
     ]
    },
    {
     "name": "stdout",
     "output_type": "stream",
     "text": [
      "Repeat 1/3 for 1 tiers and 3 processes...\n",
      "Database test_1tiers_3processes created with 4 processes and 9 exchanges. There are 6 different background processes used.\n",
      "benchmarking database test_1tiers_3processes...\n"
     ]
    },
    {
     "name": "stderr",
     "output_type": "stream",
     "text": [
      "/Users/ajakobs/miniconda3/envs/timex/lib/python3.11/site-packages/scikits/umfpack/umfpack.py:736: UmfpackWarning: (almost) singular matrix! (estimated cond. number: 9.30e+12)\n",
      "  warnings.warn(msg, UmfpackWarning)\n",
      "\u001b[32m2025-06-18 10:47:09.487\u001b[0m | \u001b[1mINFO    \u001b[0m | \u001b[36mbw_timex.timex_lca\u001b[0m:\u001b[36mbuild_timeline\u001b[0m:\u001b[36m217\u001b[0m - \u001b[1mNo edge filter function provided. Skipping all edges in background databases.\u001b[0m\n"
     ]
    },
    {
     "name": "stdout",
     "output_type": "stream",
     "text": [
      "Starting graph traversal\n",
      "Calculation count: 9\n"
     ]
    },
    {
     "name": "stderr",
     "output_type": "stream",
     "text": [
      "/Users/ajakobs/miniconda3/envs/timex/lib/python3.11/site-packages/bw2calc/lca_base.py:127: SparseEfficiencyWarning: splu converted its input to CSC format\n",
      "  self.solver = factorized(self.technosphere_matrix)\n",
      "/Users/ajakobs/miniconda3/envs/timex/lib/python3.11/site-packages/scikits/umfpack/umfpack.py:736: UmfpackWarning: (almost) singular matrix! (estimated cond. number: 4.49e+12)\n",
      "  warnings.warn(msg, UmfpackWarning)\n",
      "/Users/ajakobs/miniconda3/envs/timex/lib/python3.11/site-packages/scikits/umfpack/umfpack.py:736: UmfpackWarning: (almost) singular matrix! (estimated cond. number: 4.49e+12)\n",
      "  warnings.warn(msg, UmfpackWarning)\n"
     ]
    },
    {
     "name": "stdout",
     "output_type": "stream",
     "text": [
      "Repeat 2/3 for 1 tiers and 3 processes...\n",
      "Database test_1tiers_3processes created with 4 processes and 9 exchanges. There are 6 different background processes used.\n",
      "benchmarking database test_1tiers_3processes...\n"
     ]
    },
    {
     "name": "stderr",
     "output_type": "stream",
     "text": [
      "/Users/ajakobs/miniconda3/envs/timex/lib/python3.11/site-packages/scikits/umfpack/umfpack.py:736: UmfpackWarning: (almost) singular matrix! (estimated cond. number: 9.30e+12)\n",
      "  warnings.warn(msg, UmfpackWarning)\n",
      "\u001b[32m2025-06-18 10:47:34.847\u001b[0m | \u001b[1mINFO    \u001b[0m | \u001b[36mbw_timex.timex_lca\u001b[0m:\u001b[36mbuild_timeline\u001b[0m:\u001b[36m217\u001b[0m - \u001b[1mNo edge filter function provided. Skipping all edges in background databases.\u001b[0m\n"
     ]
    },
    {
     "name": "stdout",
     "output_type": "stream",
     "text": [
      "Starting graph traversal\n",
      "Calculation count: 9\n"
     ]
    },
    {
     "name": "stderr",
     "output_type": "stream",
     "text": [
      "/Users/ajakobs/miniconda3/envs/timex/lib/python3.11/site-packages/bw2calc/lca_base.py:127: SparseEfficiencyWarning: splu converted its input to CSC format\n",
      "  self.solver = factorized(self.technosphere_matrix)\n",
      "/Users/ajakobs/miniconda3/envs/timex/lib/python3.11/site-packages/scikits/umfpack/umfpack.py:736: UmfpackWarning: (almost) singular matrix! (estimated cond. number: 4.49e+12)\n",
      "  warnings.warn(msg, UmfpackWarning)\n",
      "/Users/ajakobs/miniconda3/envs/timex/lib/python3.11/site-packages/scikits/umfpack/umfpack.py:736: UmfpackWarning: (almost) singular matrix! (estimated cond. number: 4.49e+12)\n",
      "  warnings.warn(msg, UmfpackWarning)\n"
     ]
    },
    {
     "name": "stdout",
     "output_type": "stream",
     "text": [
      "Repeat 3/3 for 1 tiers and 3 processes...\n",
      "Database test_1tiers_3processes created with 4 processes and 9 exchanges. There are 6 different background processes used.\n",
      "benchmarking database test_1tiers_3processes...\n"
     ]
    },
    {
     "name": "stderr",
     "output_type": "stream",
     "text": [
      "/Users/ajakobs/miniconda3/envs/timex/lib/python3.11/site-packages/scikits/umfpack/umfpack.py:736: UmfpackWarning: (almost) singular matrix! (estimated cond. number: 9.30e+12)\n",
      "  warnings.warn(msg, UmfpackWarning)\n",
      "\u001b[32m2025-06-18 10:48:02.765\u001b[0m | \u001b[1mINFO    \u001b[0m | \u001b[36mbw_timex.timex_lca\u001b[0m:\u001b[36mbuild_timeline\u001b[0m:\u001b[36m217\u001b[0m - \u001b[1mNo edge filter function provided. Skipping all edges in background databases.\u001b[0m\n"
     ]
    },
    {
     "name": "stdout",
     "output_type": "stream",
     "text": [
      "Starting graph traversal\n",
      "Calculation count: 9\n"
     ]
    },
    {
     "name": "stderr",
     "output_type": "stream",
     "text": [
      "/Users/ajakobs/miniconda3/envs/timex/lib/python3.11/site-packages/bw2calc/lca_base.py:127: SparseEfficiencyWarning: splu converted its input to CSC format\n",
      "  self.solver = factorized(self.technosphere_matrix)\n",
      "/Users/ajakobs/miniconda3/envs/timex/lib/python3.11/site-packages/scikits/umfpack/umfpack.py:736: UmfpackWarning: (almost) singular matrix! (estimated cond. number: 4.49e+12)\n",
      "  warnings.warn(msg, UmfpackWarning)\n",
      "/Users/ajakobs/miniconda3/envs/timex/lib/python3.11/site-packages/scikits/umfpack/umfpack.py:736: UmfpackWarning: (almost) singular matrix! (estimated cond. number: 4.49e+12)\n",
      "  warnings.warn(msg, UmfpackWarning)\n"
     ]
    },
    {
     "name": "stdout",
     "output_type": "stream",
     "text": [
      "Repeat 1/3 for 1 tiers and 5 processes...\n",
      "Database test_1tiers_5processes created with 6 processes and 15 exchanges. There are 10 different background processes used.\n",
      "benchmarking database test_1tiers_5processes...\n"
     ]
    },
    {
     "name": "stderr",
     "output_type": "stream",
     "text": [
      "/Users/ajakobs/miniconda3/envs/timex/lib/python3.11/site-packages/scikits/umfpack/umfpack.py:736: UmfpackWarning: (almost) singular matrix! (estimated cond. number: 9.30e+12)\n",
      "  warnings.warn(msg, UmfpackWarning)\n",
      "\u001b[32m2025-06-18 10:48:30.597\u001b[0m | \u001b[1mINFO    \u001b[0m | \u001b[36mbw_timex.timex_lca\u001b[0m:\u001b[36mbuild_timeline\u001b[0m:\u001b[36m217\u001b[0m - \u001b[1mNo edge filter function provided. Skipping all edges in background databases.\u001b[0m\n"
     ]
    },
    {
     "name": "stdout",
     "output_type": "stream",
     "text": [
      "Starting graph traversal\n",
      "Calculation count: 13\n"
     ]
    },
    {
     "name": "stderr",
     "output_type": "stream",
     "text": [
      "/Users/ajakobs/miniconda3/envs/timex/lib/python3.11/site-packages/bw2calc/lca_base.py:127: SparseEfficiencyWarning: splu converted its input to CSC format\n",
      "  self.solver = factorized(self.technosphere_matrix)\n",
      "/Users/ajakobs/miniconda3/envs/timex/lib/python3.11/site-packages/scikits/umfpack/umfpack.py:736: UmfpackWarning: (almost) singular matrix! (estimated cond. number: 4.49e+12)\n",
      "  warnings.warn(msg, UmfpackWarning)\n",
      "/Users/ajakobs/miniconda3/envs/timex/lib/python3.11/site-packages/scikits/umfpack/umfpack.py:736: UmfpackWarning: (almost) singular matrix! (estimated cond. number: 4.49e+12)\n",
      "  warnings.warn(msg, UmfpackWarning)\n"
     ]
    },
    {
     "name": "stdout",
     "output_type": "stream",
     "text": [
      "Repeat 2/3 for 1 tiers and 5 processes...\n",
      "Database test_1tiers_5processes created with 6 processes and 15 exchanges. There are 10 different background processes used.\n",
      "benchmarking database test_1tiers_5processes...\n"
     ]
    },
    {
     "name": "stderr",
     "output_type": "stream",
     "text": [
      "/Users/ajakobs/miniconda3/envs/timex/lib/python3.11/site-packages/scikits/umfpack/umfpack.py:736: UmfpackWarning: (almost) singular matrix! (estimated cond. number: 9.30e+12)\n",
      "  warnings.warn(msg, UmfpackWarning)\n",
      "\u001b[32m2025-06-18 10:49:03.486\u001b[0m | \u001b[1mINFO    \u001b[0m | \u001b[36mbw_timex.timex_lca\u001b[0m:\u001b[36mbuild_timeline\u001b[0m:\u001b[36m217\u001b[0m - \u001b[1mNo edge filter function provided. Skipping all edges in background databases.\u001b[0m\n"
     ]
    },
    {
     "name": "stdout",
     "output_type": "stream",
     "text": [
      "Starting graph traversal\n",
      "Calculation count: 13\n"
     ]
    },
    {
     "name": "stderr",
     "output_type": "stream",
     "text": [
      "/Users/ajakobs/miniconda3/envs/timex/lib/python3.11/site-packages/bw2calc/lca_base.py:127: SparseEfficiencyWarning: splu converted its input to CSC format\n",
      "  self.solver = factorized(self.technosphere_matrix)\n",
      "/Users/ajakobs/miniconda3/envs/timex/lib/python3.11/site-packages/scikits/umfpack/umfpack.py:736: UmfpackWarning: (almost) singular matrix! (estimated cond. number: 4.49e+12)\n",
      "  warnings.warn(msg, UmfpackWarning)\n",
      "/Users/ajakobs/miniconda3/envs/timex/lib/python3.11/site-packages/scikits/umfpack/umfpack.py:736: UmfpackWarning: (almost) singular matrix! (estimated cond. number: 4.49e+12)\n",
      "  warnings.warn(msg, UmfpackWarning)\n"
     ]
    },
    {
     "name": "stdout",
     "output_type": "stream",
     "text": [
      "Repeat 3/3 for 1 tiers and 5 processes...\n",
      "Database test_1tiers_5processes created with 6 processes and 15 exchanges. There are 10 different background processes used.\n",
      "benchmarking database test_1tiers_5processes...\n"
     ]
    },
    {
     "name": "stderr",
     "output_type": "stream",
     "text": [
      "/Users/ajakobs/miniconda3/envs/timex/lib/python3.11/site-packages/scikits/umfpack/umfpack.py:736: UmfpackWarning: (almost) singular matrix! (estimated cond. number: 9.30e+12)\n",
      "  warnings.warn(msg, UmfpackWarning)\n",
      "\u001b[32m2025-06-18 10:49:37.832\u001b[0m | \u001b[1mINFO    \u001b[0m | \u001b[36mbw_timex.timex_lca\u001b[0m:\u001b[36mbuild_timeline\u001b[0m:\u001b[36m217\u001b[0m - \u001b[1mNo edge filter function provided. Skipping all edges in background databases.\u001b[0m\n"
     ]
    },
    {
     "name": "stdout",
     "output_type": "stream",
     "text": [
      "Starting graph traversal\n",
      "Calculation count: 13\n"
     ]
    },
    {
     "name": "stderr",
     "output_type": "stream",
     "text": [
      "/Users/ajakobs/miniconda3/envs/timex/lib/python3.11/site-packages/bw2calc/lca_base.py:127: SparseEfficiencyWarning: splu converted its input to CSC format\n",
      "  self.solver = factorized(self.technosphere_matrix)\n",
      "/Users/ajakobs/miniconda3/envs/timex/lib/python3.11/site-packages/scikits/umfpack/umfpack.py:736: UmfpackWarning: (almost) singular matrix! (estimated cond. number: 4.49e+12)\n",
      "  warnings.warn(msg, UmfpackWarning)\n",
      "/Users/ajakobs/miniconda3/envs/timex/lib/python3.11/site-packages/scikits/umfpack/umfpack.py:736: UmfpackWarning: (almost) singular matrix! (estimated cond. number: 4.49e+12)\n",
      "  warnings.warn(msg, UmfpackWarning)\n"
     ]
    },
    {
     "name": "stdout",
     "output_type": "stream",
     "text": [
      "Repeat 1/3 for 1 tiers and 10 processes...\n",
      "Database test_1tiers_10processes created with 11 processes and 30 exchanges. There are 20 different background processes used.\n",
      "benchmarking database test_1tiers_10processes...\n"
     ]
    },
    {
     "name": "stderr",
     "output_type": "stream",
     "text": [
      "/Users/ajakobs/miniconda3/envs/timex/lib/python3.11/site-packages/scikits/umfpack/umfpack.py:736: UmfpackWarning: (almost) singular matrix! (estimated cond. number: 9.30e+12)\n",
      "  warnings.warn(msg, UmfpackWarning)\n",
      "\u001b[32m2025-06-18 10:50:13.950\u001b[0m | \u001b[1mINFO    \u001b[0m | \u001b[36mbw_timex.timex_lca\u001b[0m:\u001b[36mbuild_timeline\u001b[0m:\u001b[36m217\u001b[0m - \u001b[1mNo edge filter function provided. Skipping all edges in background databases.\u001b[0m\n"
     ]
    },
    {
     "name": "stdout",
     "output_type": "stream",
     "text": [
      "Starting graph traversal\n",
      "Calculation count: 25\n"
     ]
    },
    {
     "name": "stderr",
     "output_type": "stream",
     "text": [
      "/Users/ajakobs/miniconda3/envs/timex/lib/python3.11/site-packages/bw2calc/lca_base.py:127: SparseEfficiencyWarning: splu converted its input to CSC format\n",
      "  self.solver = factorized(self.technosphere_matrix)\n",
      "/Users/ajakobs/miniconda3/envs/timex/lib/python3.11/site-packages/scikits/umfpack/umfpack.py:736: UmfpackWarning: (almost) singular matrix! (estimated cond. number: 4.49e+12)\n",
      "  warnings.warn(msg, UmfpackWarning)\n",
      "/Users/ajakobs/miniconda3/envs/timex/lib/python3.11/site-packages/scikits/umfpack/umfpack.py:736: UmfpackWarning: (almost) singular matrix! (estimated cond. number: 4.49e+12)\n",
      "  warnings.warn(msg, UmfpackWarning)\n"
     ]
    },
    {
     "name": "stdout",
     "output_type": "stream",
     "text": [
      "Repeat 2/3 for 1 tiers and 10 processes...\n",
      "Database test_1tiers_10processes created with 11 processes and 30 exchanges. There are 20 different background processes used.\n",
      "benchmarking database test_1tiers_10processes...\n"
     ]
    },
    {
     "name": "stderr",
     "output_type": "stream",
     "text": [
      "/Users/ajakobs/miniconda3/envs/timex/lib/python3.11/site-packages/scikits/umfpack/umfpack.py:736: UmfpackWarning: (almost) singular matrix! (estimated cond. number: 9.30e+12)\n",
      "  warnings.warn(msg, UmfpackWarning)\n",
      "\u001b[32m2025-06-18 10:51:06.407\u001b[0m | \u001b[1mINFO    \u001b[0m | \u001b[36mbw_timex.timex_lca\u001b[0m:\u001b[36mbuild_timeline\u001b[0m:\u001b[36m217\u001b[0m - \u001b[1mNo edge filter function provided. Skipping all edges in background databases.\u001b[0m\n"
     ]
    },
    {
     "name": "stdout",
     "output_type": "stream",
     "text": [
      "Starting graph traversal\n",
      "Calculation count: 25\n"
     ]
    },
    {
     "name": "stderr",
     "output_type": "stream",
     "text": [
      "/Users/ajakobs/miniconda3/envs/timex/lib/python3.11/site-packages/bw2calc/lca_base.py:127: SparseEfficiencyWarning: splu converted its input to CSC format\n",
      "  self.solver = factorized(self.technosphere_matrix)\n",
      "/Users/ajakobs/miniconda3/envs/timex/lib/python3.11/site-packages/scikits/umfpack/umfpack.py:736: UmfpackWarning: (almost) singular matrix! (estimated cond. number: 4.49e+12)\n",
      "  warnings.warn(msg, UmfpackWarning)\n",
      "/Users/ajakobs/miniconda3/envs/timex/lib/python3.11/site-packages/scikits/umfpack/umfpack.py:736: UmfpackWarning: (almost) singular matrix! (estimated cond. number: 4.49e+12)\n",
      "  warnings.warn(msg, UmfpackWarning)\n"
     ]
    },
    {
     "name": "stdout",
     "output_type": "stream",
     "text": [
      "Repeat 3/3 for 1 tiers and 10 processes...\n",
      "Database test_1tiers_10processes created with 11 processes and 30 exchanges. There are 20 different background processes used.\n",
      "benchmarking database test_1tiers_10processes...\n"
     ]
    },
    {
     "name": "stderr",
     "output_type": "stream",
     "text": [
      "/Users/ajakobs/miniconda3/envs/timex/lib/python3.11/site-packages/scikits/umfpack/umfpack.py:736: UmfpackWarning: (almost) singular matrix! (estimated cond. number: 9.30e+12)\n",
      "  warnings.warn(msg, UmfpackWarning)\n",
      "\u001b[32m2025-06-18 10:51:57.314\u001b[0m | \u001b[1mINFO    \u001b[0m | \u001b[36mbw_timex.timex_lca\u001b[0m:\u001b[36mbuild_timeline\u001b[0m:\u001b[36m217\u001b[0m - \u001b[1mNo edge filter function provided. Skipping all edges in background databases.\u001b[0m\n"
     ]
    },
    {
     "name": "stdout",
     "output_type": "stream",
     "text": [
      "Starting graph traversal\n",
      "Calculation count: 25\n"
     ]
    },
    {
     "name": "stderr",
     "output_type": "stream",
     "text": [
      "/Users/ajakobs/miniconda3/envs/timex/lib/python3.11/site-packages/bw2calc/lca_base.py:127: SparseEfficiencyWarning: splu converted its input to CSC format\n",
      "  self.solver = factorized(self.technosphere_matrix)\n",
      "/Users/ajakobs/miniconda3/envs/timex/lib/python3.11/site-packages/scikits/umfpack/umfpack.py:736: UmfpackWarning: (almost) singular matrix! (estimated cond. number: 4.49e+12)\n",
      "  warnings.warn(msg, UmfpackWarning)\n",
      "/Users/ajakobs/miniconda3/envs/timex/lib/python3.11/site-packages/scikits/umfpack/umfpack.py:736: UmfpackWarning: (almost) singular matrix! (estimated cond. number: 4.49e+12)\n",
      "  warnings.warn(msg, UmfpackWarning)\n"
     ]
    },
    {
     "name": "stdout",
     "output_type": "stream",
     "text": [
      "Repeat 1/3 for 1 tiers and 15 processes...\n",
      "Database test_1tiers_15processes created with 16 processes and 45 exchanges. There are 30 different background processes used.\n",
      "benchmarking database test_1tiers_15processes...\n"
     ]
    },
    {
     "name": "stderr",
     "output_type": "stream",
     "text": [
      "/Users/ajakobs/miniconda3/envs/timex/lib/python3.11/site-packages/scikits/umfpack/umfpack.py:736: UmfpackWarning: (almost) singular matrix! (estimated cond. number: 9.30e+12)\n",
      "  warnings.warn(msg, UmfpackWarning)\n",
      "\u001b[32m2025-06-18 10:52:48.133\u001b[0m | \u001b[1mINFO    \u001b[0m | \u001b[36mbw_timex.timex_lca\u001b[0m:\u001b[36mbuild_timeline\u001b[0m:\u001b[36m217\u001b[0m - \u001b[1mNo edge filter function provided. Skipping all edges in background databases.\u001b[0m\n"
     ]
    },
    {
     "name": "stdout",
     "output_type": "stream",
     "text": [
      "Starting graph traversal\n",
      "Calculation count: 33\n"
     ]
    },
    {
     "name": "stderr",
     "output_type": "stream",
     "text": [
      "/Users/ajakobs/miniconda3/envs/timex/lib/python3.11/site-packages/bw2calc/lca_base.py:127: SparseEfficiencyWarning: splu converted its input to CSC format\n",
      "  self.solver = factorized(self.technosphere_matrix)\n",
      "/Users/ajakobs/miniconda3/envs/timex/lib/python3.11/site-packages/scikits/umfpack/umfpack.py:736: UmfpackWarning: (almost) singular matrix! (estimated cond. number: 4.49e+12)\n",
      "  warnings.warn(msg, UmfpackWarning)\n",
      "/Users/ajakobs/miniconda3/envs/timex/lib/python3.11/site-packages/scikits/umfpack/umfpack.py:736: UmfpackWarning: (almost) singular matrix! (estimated cond. number: 4.49e+12)\n",
      "  warnings.warn(msg, UmfpackWarning)\n"
     ]
    },
    {
     "name": "stdout",
     "output_type": "stream",
     "text": [
      "Repeat 2/3 for 1 tiers and 15 processes...\n",
      "Database test_1tiers_15processes created with 16 processes and 45 exchanges. There are 30 different background processes used.\n",
      "benchmarking database test_1tiers_15processes...\n"
     ]
    },
    {
     "name": "stderr",
     "output_type": "stream",
     "text": [
      "/Users/ajakobs/miniconda3/envs/timex/lib/python3.11/site-packages/scikits/umfpack/umfpack.py:736: UmfpackWarning: (almost) singular matrix! (estimated cond. number: 9.30e+12)\n",
      "  warnings.warn(msg, UmfpackWarning)\n",
      "\u001b[32m2025-06-18 10:53:54.921\u001b[0m | \u001b[1mINFO    \u001b[0m | \u001b[36mbw_timex.timex_lca\u001b[0m:\u001b[36mbuild_timeline\u001b[0m:\u001b[36m217\u001b[0m - \u001b[1mNo edge filter function provided. Skipping all edges in background databases.\u001b[0m\n"
     ]
    },
    {
     "name": "stdout",
     "output_type": "stream",
     "text": [
      "Starting graph traversal\n",
      "Calculation count: 33\n"
     ]
    },
    {
     "name": "stderr",
     "output_type": "stream",
     "text": [
      "/Users/ajakobs/miniconda3/envs/timex/lib/python3.11/site-packages/bw2calc/lca_base.py:127: SparseEfficiencyWarning: splu converted its input to CSC format\n",
      "  self.solver = factorized(self.technosphere_matrix)\n",
      "/Users/ajakobs/miniconda3/envs/timex/lib/python3.11/site-packages/scikits/umfpack/umfpack.py:736: UmfpackWarning: (almost) singular matrix! (estimated cond. number: 4.49e+12)\n",
      "  warnings.warn(msg, UmfpackWarning)\n",
      "/Users/ajakobs/miniconda3/envs/timex/lib/python3.11/site-packages/scikits/umfpack/umfpack.py:736: UmfpackWarning: (almost) singular matrix! (estimated cond. number: 4.49e+12)\n",
      "  warnings.warn(msg, UmfpackWarning)\n"
     ]
    },
    {
     "name": "stdout",
     "output_type": "stream",
     "text": [
      "Repeat 3/3 for 1 tiers and 15 processes...\n",
      "Database test_1tiers_15processes created with 16 processes and 45 exchanges. There are 30 different background processes used.\n",
      "benchmarking database test_1tiers_15processes...\n"
     ]
    },
    {
     "name": "stderr",
     "output_type": "stream",
     "text": [
      "/Users/ajakobs/miniconda3/envs/timex/lib/python3.11/site-packages/scikits/umfpack/umfpack.py:736: UmfpackWarning: (almost) singular matrix! (estimated cond. number: 9.30e+12)\n",
      "  warnings.warn(msg, UmfpackWarning)\n",
      "\u001b[32m2025-06-18 10:55:01.323\u001b[0m | \u001b[1mINFO    \u001b[0m | \u001b[36mbw_timex.timex_lca\u001b[0m:\u001b[36mbuild_timeline\u001b[0m:\u001b[36m217\u001b[0m - \u001b[1mNo edge filter function provided. Skipping all edges in background databases.\u001b[0m\n"
     ]
    },
    {
     "name": "stdout",
     "output_type": "stream",
     "text": [
      "Starting graph traversal\n",
      "Calculation count: 33\n"
     ]
    },
    {
     "name": "stderr",
     "output_type": "stream",
     "text": [
      "/Users/ajakobs/miniconda3/envs/timex/lib/python3.11/site-packages/bw2calc/lca_base.py:127: SparseEfficiencyWarning: splu converted its input to CSC format\n",
      "  self.solver = factorized(self.technosphere_matrix)\n",
      "/Users/ajakobs/miniconda3/envs/timex/lib/python3.11/site-packages/scikits/umfpack/umfpack.py:736: UmfpackWarning: (almost) singular matrix! (estimated cond. number: 4.49e+12)\n",
      "  warnings.warn(msg, UmfpackWarning)\n",
      "/Users/ajakobs/miniconda3/envs/timex/lib/python3.11/site-packages/scikits/umfpack/umfpack.py:736: UmfpackWarning: (almost) singular matrix! (estimated cond. number: 4.49e+12)\n",
      "  warnings.warn(msg, UmfpackWarning)\n"
     ]
    },
    {
     "name": "stdout",
     "output_type": "stream",
     "text": [
      "Repeat 1/3 for 1 tiers and 20 processes...\n",
      "Database test_1tiers_20processes created with 21 processes and 60 exchanges. There are 40 different background processes used.\n",
      "benchmarking database test_1tiers_20processes...\n"
     ]
    },
    {
     "name": "stderr",
     "output_type": "stream",
     "text": [
      "/Users/ajakobs/miniconda3/envs/timex/lib/python3.11/site-packages/scikits/umfpack/umfpack.py:736: UmfpackWarning: (almost) singular matrix! (estimated cond. number: 9.30e+12)\n",
      "  warnings.warn(msg, UmfpackWarning)\n",
      "\u001b[32m2025-06-18 10:56:10.628\u001b[0m | \u001b[1mINFO    \u001b[0m | \u001b[36mbw_timex.timex_lca\u001b[0m:\u001b[36mbuild_timeline\u001b[0m:\u001b[36m217\u001b[0m - \u001b[1mNo edge filter function provided. Skipping all edges in background databases.\u001b[0m\n"
     ]
    },
    {
     "name": "stdout",
     "output_type": "stream",
     "text": [
      "Starting graph traversal\n",
      "Calculation count: 44\n"
     ]
    },
    {
     "name": "stderr",
     "output_type": "stream",
     "text": [
      "/Users/ajakobs/miniconda3/envs/timex/lib/python3.11/site-packages/bw2calc/lca_base.py:127: SparseEfficiencyWarning: splu converted its input to CSC format\n",
      "  self.solver = factorized(self.technosphere_matrix)\n",
      "/Users/ajakobs/miniconda3/envs/timex/lib/python3.11/site-packages/scikits/umfpack/umfpack.py:736: UmfpackWarning: (almost) singular matrix! (estimated cond. number: 4.49e+12)\n",
      "  warnings.warn(msg, UmfpackWarning)\n",
      "/Users/ajakobs/miniconda3/envs/timex/lib/python3.11/site-packages/scikits/umfpack/umfpack.py:736: UmfpackWarning: (almost) singular matrix! (estimated cond. number: 4.49e+12)\n",
      "  warnings.warn(msg, UmfpackWarning)\n"
     ]
    },
    {
     "name": "stdout",
     "output_type": "stream",
     "text": [
      "Repeat 2/3 for 1 tiers and 20 processes...\n",
      "Database test_1tiers_20processes created with 21 processes and 60 exchanges. There are 40 different background processes used.\n",
      "benchmarking database test_1tiers_20processes...\n"
     ]
    },
    {
     "name": "stderr",
     "output_type": "stream",
     "text": [
      "/Users/ajakobs/miniconda3/envs/timex/lib/python3.11/site-packages/scikits/umfpack/umfpack.py:736: UmfpackWarning: (almost) singular matrix! (estimated cond. number: 9.30e+12)\n",
      "  warnings.warn(msg, UmfpackWarning)\n",
      "\u001b[32m2025-06-18 10:57:37.850\u001b[0m | \u001b[1mINFO    \u001b[0m | \u001b[36mbw_timex.timex_lca\u001b[0m:\u001b[36mbuild_timeline\u001b[0m:\u001b[36m217\u001b[0m - \u001b[1mNo edge filter function provided. Skipping all edges in background databases.\u001b[0m\n"
     ]
    },
    {
     "name": "stdout",
     "output_type": "stream",
     "text": [
      "Starting graph traversal\n",
      "Calculation count: 44\n"
     ]
    },
    {
     "name": "stderr",
     "output_type": "stream",
     "text": [
      "/Users/ajakobs/miniconda3/envs/timex/lib/python3.11/site-packages/bw2calc/lca_base.py:127: SparseEfficiencyWarning: splu converted its input to CSC format\n",
      "  self.solver = factorized(self.technosphere_matrix)\n",
      "/Users/ajakobs/miniconda3/envs/timex/lib/python3.11/site-packages/scikits/umfpack/umfpack.py:736: UmfpackWarning: (almost) singular matrix! (estimated cond. number: 4.49e+12)\n",
      "  warnings.warn(msg, UmfpackWarning)\n",
      "/Users/ajakobs/miniconda3/envs/timex/lib/python3.11/site-packages/scikits/umfpack/umfpack.py:736: UmfpackWarning: (almost) singular matrix! (estimated cond. number: 4.49e+12)\n",
      "  warnings.warn(msg, UmfpackWarning)\n"
     ]
    },
    {
     "name": "stdout",
     "output_type": "stream",
     "text": [
      "Repeat 3/3 for 1 tiers and 20 processes...\n",
      "Database test_1tiers_20processes created with 21 processes and 60 exchanges. There are 40 different background processes used.\n",
      "benchmarking database test_1tiers_20processes...\n"
     ]
    },
    {
     "name": "stderr",
     "output_type": "stream",
     "text": [
      "/Users/ajakobs/miniconda3/envs/timex/lib/python3.11/site-packages/scikits/umfpack/umfpack.py:736: UmfpackWarning: (almost) singular matrix! (estimated cond. number: 9.30e+12)\n",
      "  warnings.warn(msg, UmfpackWarning)\n",
      "\u001b[32m2025-06-18 10:59:06.203\u001b[0m | \u001b[1mINFO    \u001b[0m | \u001b[36mbw_timex.timex_lca\u001b[0m:\u001b[36mbuild_timeline\u001b[0m:\u001b[36m217\u001b[0m - \u001b[1mNo edge filter function provided. Skipping all edges in background databases.\u001b[0m\n"
     ]
    },
    {
     "name": "stdout",
     "output_type": "stream",
     "text": [
      "Starting graph traversal\n",
      "Calculation count: 44\n"
     ]
    },
    {
     "name": "stderr",
     "output_type": "stream",
     "text": [
      "/Users/ajakobs/miniconda3/envs/timex/lib/python3.11/site-packages/bw2calc/lca_base.py:127: SparseEfficiencyWarning: splu converted its input to CSC format\n",
      "  self.solver = factorized(self.technosphere_matrix)\n",
      "/Users/ajakobs/miniconda3/envs/timex/lib/python3.11/site-packages/scikits/umfpack/umfpack.py:736: UmfpackWarning: (almost) singular matrix! (estimated cond. number: 4.49e+12)\n",
      "  warnings.warn(msg, UmfpackWarning)\n",
      "/Users/ajakobs/miniconda3/envs/timex/lib/python3.11/site-packages/scikits/umfpack/umfpack.py:736: UmfpackWarning: (almost) singular matrix! (estimated cond. number: 4.49e+12)\n",
      "  warnings.warn(msg, UmfpackWarning)\n"
     ]
    },
    {
     "name": "stdout",
     "output_type": "stream",
     "text": [
      "Repeat 1/3 for 1 tiers and 25 processes...\n",
      "Database test_1tiers_25processes created with 26 processes and 75 exchanges. There are 50 different background processes used.\n",
      "benchmarking database test_1tiers_25processes...\n"
     ]
    },
    {
     "name": "stderr",
     "output_type": "stream",
     "text": [
      "/Users/ajakobs/miniconda3/envs/timex/lib/python3.11/site-packages/scikits/umfpack/umfpack.py:736: UmfpackWarning: (almost) singular matrix! (estimated cond. number: 9.30e+12)\n",
      "  warnings.warn(msg, UmfpackWarning)\n",
      "\u001b[32m2025-06-18 11:00:35.665\u001b[0m | \u001b[1mINFO    \u001b[0m | \u001b[36mbw_timex.timex_lca\u001b[0m:\u001b[36mbuild_timeline\u001b[0m:\u001b[36m217\u001b[0m - \u001b[1mNo edge filter function provided. Skipping all edges in background databases.\u001b[0m\n"
     ]
    },
    {
     "name": "stdout",
     "output_type": "stream",
     "text": [
      "Starting graph traversal\n",
      "Calculation count: 54\n"
     ]
    },
    {
     "name": "stderr",
     "output_type": "stream",
     "text": [
      "/Users/ajakobs/miniconda3/envs/timex/lib/python3.11/site-packages/bw2calc/lca_base.py:127: SparseEfficiencyWarning: splu converted its input to CSC format\n",
      "  self.solver = factorized(self.technosphere_matrix)\n",
      "/Users/ajakobs/miniconda3/envs/timex/lib/python3.11/site-packages/scikits/umfpack/umfpack.py:736: UmfpackWarning: (almost) singular matrix! (estimated cond. number: 4.49e+12)\n",
      "  warnings.warn(msg, UmfpackWarning)\n",
      "/Users/ajakobs/miniconda3/envs/timex/lib/python3.11/site-packages/scikits/umfpack/umfpack.py:736: UmfpackWarning: (almost) singular matrix! (estimated cond. number: 4.49e+12)\n",
      "  warnings.warn(msg, UmfpackWarning)\n"
     ]
    },
    {
     "name": "stdout",
     "output_type": "stream",
     "text": [
      "Repeat 2/3 for 1 tiers and 25 processes...\n",
      "Database test_1tiers_25processes created with 26 processes and 75 exchanges. There are 50 different background processes used.\n",
      "benchmarking database test_1tiers_25processes...\n"
     ]
    },
    {
     "name": "stderr",
     "output_type": "stream",
     "text": [
      "/Users/ajakobs/miniconda3/envs/timex/lib/python3.11/site-packages/scikits/umfpack/umfpack.py:736: UmfpackWarning: (almost) singular matrix! (estimated cond. number: 9.30e+12)\n",
      "  warnings.warn(msg, UmfpackWarning)\n",
      "\u001b[32m2025-06-18 11:02:20.836\u001b[0m | \u001b[1mINFO    \u001b[0m | \u001b[36mbw_timex.timex_lca\u001b[0m:\u001b[36mbuild_timeline\u001b[0m:\u001b[36m217\u001b[0m - \u001b[1mNo edge filter function provided. Skipping all edges in background databases.\u001b[0m\n"
     ]
    },
    {
     "name": "stdout",
     "output_type": "stream",
     "text": [
      "Starting graph traversal\n",
      "Calculation count: 54\n"
     ]
    },
    {
     "name": "stderr",
     "output_type": "stream",
     "text": [
      "/Users/ajakobs/miniconda3/envs/timex/lib/python3.11/site-packages/bw2calc/lca_base.py:127: SparseEfficiencyWarning: splu converted its input to CSC format\n",
      "  self.solver = factorized(self.technosphere_matrix)\n",
      "/Users/ajakobs/miniconda3/envs/timex/lib/python3.11/site-packages/scikits/umfpack/umfpack.py:736: UmfpackWarning: (almost) singular matrix! (estimated cond. number: 4.49e+12)\n",
      "  warnings.warn(msg, UmfpackWarning)\n",
      "/Users/ajakobs/miniconda3/envs/timex/lib/python3.11/site-packages/scikits/umfpack/umfpack.py:736: UmfpackWarning: (almost) singular matrix! (estimated cond. number: 4.49e+12)\n",
      "  warnings.warn(msg, UmfpackWarning)\n"
     ]
    },
    {
     "name": "stdout",
     "output_type": "stream",
     "text": [
      "Repeat 3/3 for 1 tiers and 25 processes...\n",
      "Database test_1tiers_25processes created with 26 processes and 75 exchanges. There are 50 different background processes used.\n",
      "benchmarking database test_1tiers_25processes...\n"
     ]
    },
    {
     "name": "stderr",
     "output_type": "stream",
     "text": [
      "/Users/ajakobs/miniconda3/envs/timex/lib/python3.11/site-packages/scikits/umfpack/umfpack.py:736: UmfpackWarning: (almost) singular matrix! (estimated cond. number: 9.30e+12)\n",
      "  warnings.warn(msg, UmfpackWarning)\n",
      "\u001b[32m2025-06-18 11:04:03.800\u001b[0m | \u001b[1mINFO    \u001b[0m | \u001b[36mbw_timex.timex_lca\u001b[0m:\u001b[36mbuild_timeline\u001b[0m:\u001b[36m217\u001b[0m - \u001b[1mNo edge filter function provided. Skipping all edges in background databases.\u001b[0m\n"
     ]
    },
    {
     "name": "stdout",
     "output_type": "stream",
     "text": [
      "Starting graph traversal\n",
      "Calculation count: 54\n"
     ]
    },
    {
     "name": "stderr",
     "output_type": "stream",
     "text": [
      "/Users/ajakobs/miniconda3/envs/timex/lib/python3.11/site-packages/bw2calc/lca_base.py:127: SparseEfficiencyWarning: splu converted its input to CSC format\n",
      "  self.solver = factorized(self.technosphere_matrix)\n",
      "/Users/ajakobs/miniconda3/envs/timex/lib/python3.11/site-packages/scikits/umfpack/umfpack.py:736: UmfpackWarning: (almost) singular matrix! (estimated cond. number: 4.49e+12)\n",
      "  warnings.warn(msg, UmfpackWarning)\n",
      "/Users/ajakobs/miniconda3/envs/timex/lib/python3.11/site-packages/scikits/umfpack/umfpack.py:736: UmfpackWarning: (almost) singular matrix! (estimated cond. number: 4.49e+12)\n",
      "  warnings.warn(msg, UmfpackWarning)\n"
     ]
    },
    {
     "name": "stdout",
     "output_type": "stream",
     "text": [
      "Repeat 1/3 for 1 tiers and 30 processes...\n",
      "Database test_1tiers_30processes created with 31 processes and 90 exchanges. There are 60 different background processes used.\n",
      "benchmarking database test_1tiers_30processes...\n"
     ]
    },
    {
     "name": "stderr",
     "output_type": "stream",
     "text": [
      "/Users/ajakobs/miniconda3/envs/timex/lib/python3.11/site-packages/scikits/umfpack/umfpack.py:736: UmfpackWarning: (almost) singular matrix! (estimated cond. number: 9.30e+12)\n",
      "  warnings.warn(msg, UmfpackWarning)\n",
      "\u001b[32m2025-06-18 11:05:52.591\u001b[0m | \u001b[1mINFO    \u001b[0m | \u001b[36mbw_timex.timex_lca\u001b[0m:\u001b[36mbuild_timeline\u001b[0m:\u001b[36m217\u001b[0m - \u001b[1mNo edge filter function provided. Skipping all edges in background databases.\u001b[0m\n"
     ]
    },
    {
     "name": "stdout",
     "output_type": "stream",
     "text": [
      "Starting graph traversal\n",
      "Calculation count: 61\n"
     ]
    },
    {
     "name": "stderr",
     "output_type": "stream",
     "text": [
      "/Users/ajakobs/miniconda3/envs/timex/lib/python3.11/site-packages/bw2calc/lca_base.py:127: SparseEfficiencyWarning: splu converted its input to CSC format\n",
      "  self.solver = factorized(self.technosphere_matrix)\n",
      "/Users/ajakobs/miniconda3/envs/timex/lib/python3.11/site-packages/scikits/umfpack/umfpack.py:736: UmfpackWarning: (almost) singular matrix! (estimated cond. number: 4.49e+12)\n",
      "  warnings.warn(msg, UmfpackWarning)\n",
      "/Users/ajakobs/miniconda3/envs/timex/lib/python3.11/site-packages/scikits/umfpack/umfpack.py:736: UmfpackWarning: (almost) singular matrix! (estimated cond. number: 4.49e+12)\n",
      "  warnings.warn(msg, UmfpackWarning)\n"
     ]
    },
    {
     "name": "stdout",
     "output_type": "stream",
     "text": [
      "Repeat 2/3 for 1 tiers and 30 processes...\n",
      "Database test_1tiers_30processes created with 31 processes and 90 exchanges. There are 60 different background processes used.\n",
      "benchmarking database test_1tiers_30processes...\n"
     ]
    },
    {
     "name": "stderr",
     "output_type": "stream",
     "text": [
      "/Users/ajakobs/miniconda3/envs/timex/lib/python3.11/site-packages/scikits/umfpack/umfpack.py:736: UmfpackWarning: (almost) singular matrix! (estimated cond. number: 9.30e+12)\n",
      "  warnings.warn(msg, UmfpackWarning)\n",
      "\u001b[32m2025-06-18 11:07:50.294\u001b[0m | \u001b[1mINFO    \u001b[0m | \u001b[36mbw_timex.timex_lca\u001b[0m:\u001b[36mbuild_timeline\u001b[0m:\u001b[36m217\u001b[0m - \u001b[1mNo edge filter function provided. Skipping all edges in background databases.\u001b[0m\n"
     ]
    },
    {
     "name": "stdout",
     "output_type": "stream",
     "text": [
      "Starting graph traversal\n",
      "Calculation count: 61\n"
     ]
    },
    {
     "name": "stderr",
     "output_type": "stream",
     "text": [
      "/Users/ajakobs/miniconda3/envs/timex/lib/python3.11/site-packages/bw2calc/lca_base.py:127: SparseEfficiencyWarning: splu converted its input to CSC format\n",
      "  self.solver = factorized(self.technosphere_matrix)\n",
      "/Users/ajakobs/miniconda3/envs/timex/lib/python3.11/site-packages/scikits/umfpack/umfpack.py:736: UmfpackWarning: (almost) singular matrix! (estimated cond. number: 4.49e+12)\n",
      "  warnings.warn(msg, UmfpackWarning)\n",
      "/Users/ajakobs/miniconda3/envs/timex/lib/python3.11/site-packages/scikits/umfpack/umfpack.py:736: UmfpackWarning: (almost) singular matrix! (estimated cond. number: 4.49e+12)\n",
      "  warnings.warn(msg, UmfpackWarning)\n"
     ]
    },
    {
     "name": "stdout",
     "output_type": "stream",
     "text": [
      "Repeat 3/3 for 1 tiers and 30 processes...\n",
      "Database test_1tiers_30processes created with 31 processes and 90 exchanges. There are 60 different background processes used.\n",
      "benchmarking database test_1tiers_30processes...\n"
     ]
    },
    {
     "name": "stderr",
     "output_type": "stream",
     "text": [
      "/Users/ajakobs/miniconda3/envs/timex/lib/python3.11/site-packages/scikits/umfpack/umfpack.py:736: UmfpackWarning: (almost) singular matrix! (estimated cond. number: 9.30e+12)\n",
      "  warnings.warn(msg, UmfpackWarning)\n",
      "\u001b[32m2025-06-18 11:09:52.538\u001b[0m | \u001b[1mINFO    \u001b[0m | \u001b[36mbw_timex.timex_lca\u001b[0m:\u001b[36mbuild_timeline\u001b[0m:\u001b[36m217\u001b[0m - \u001b[1mNo edge filter function provided. Skipping all edges in background databases.\u001b[0m\n"
     ]
    },
    {
     "name": "stdout",
     "output_type": "stream",
     "text": [
      "Starting graph traversal\n",
      "Calculation count: 61\n"
     ]
    },
    {
     "name": "stderr",
     "output_type": "stream",
     "text": [
      "/Users/ajakobs/miniconda3/envs/timex/lib/python3.11/site-packages/bw2calc/lca_base.py:127: SparseEfficiencyWarning: splu converted its input to CSC format\n",
      "  self.solver = factorized(self.technosphere_matrix)\n",
      "/Users/ajakobs/miniconda3/envs/timex/lib/python3.11/site-packages/scikits/umfpack/umfpack.py:736: UmfpackWarning: (almost) singular matrix! (estimated cond. number: 4.49e+12)\n",
      "  warnings.warn(msg, UmfpackWarning)\n",
      "/Users/ajakobs/miniconda3/envs/timex/lib/python3.11/site-packages/scikits/umfpack/umfpack.py:736: UmfpackWarning: (almost) singular matrix! (estimated cond. number: 4.49e+12)\n",
      "  warnings.warn(msg, UmfpackWarning)\n"
     ]
    },
    {
     "name": "stdout",
     "output_type": "stream",
     "text": [
      "Repeat 1/3 for 2 tiers and 1 processes...\n",
      "Database test_2tiers_1processes created with 3 processes and 4 exchanges. There are 2 different background processes used.\n",
      "benchmarking database test_2tiers_1processes...\n"
     ]
    },
    {
     "name": "stderr",
     "output_type": "stream",
     "text": [
      "/Users/ajakobs/miniconda3/envs/timex/lib/python3.11/site-packages/scikits/umfpack/umfpack.py:736: UmfpackWarning: (almost) singular matrix! (estimated cond. number: 9.30e+12)\n",
      "  warnings.warn(msg, UmfpackWarning)\n",
      "\u001b[32m2025-06-18 11:11:49.917\u001b[0m | \u001b[1mINFO    \u001b[0m | \u001b[36mbw_timex.timex_lca\u001b[0m:\u001b[36mbuild_timeline\u001b[0m:\u001b[36m217\u001b[0m - \u001b[1mNo edge filter function provided. Skipping all edges in background databases.\u001b[0m\n"
     ]
    },
    {
     "name": "stdout",
     "output_type": "stream",
     "text": [
      "Starting graph traversal\n",
      "Calculation count: 4\n"
     ]
    },
    {
     "name": "stderr",
     "output_type": "stream",
     "text": [
      "/Users/ajakobs/miniconda3/envs/timex/lib/python3.11/site-packages/bw2calc/lca_base.py:127: SparseEfficiencyWarning: splu converted its input to CSC format\n",
      "  self.solver = factorized(self.technosphere_matrix)\n",
      "/Users/ajakobs/miniconda3/envs/timex/lib/python3.11/site-packages/scikits/umfpack/umfpack.py:736: UmfpackWarning: (almost) singular matrix! (estimated cond. number: 4.49e+12)\n",
      "  warnings.warn(msg, UmfpackWarning)\n",
      "/Users/ajakobs/miniconda3/envs/timex/lib/python3.11/site-packages/scikits/umfpack/umfpack.py:736: UmfpackWarning: (almost) singular matrix! (estimated cond. number: 4.49e+12)\n",
      "  warnings.warn(msg, UmfpackWarning)\n"
     ]
    },
    {
     "name": "stdout",
     "output_type": "stream",
     "text": [
      "Repeat 2/3 for 2 tiers and 1 processes...\n",
      "Database test_2tiers_1processes created with 3 processes and 4 exchanges. There are 2 different background processes used.\n",
      "benchmarking database test_2tiers_1processes...\n"
     ]
    },
    {
     "name": "stderr",
     "output_type": "stream",
     "text": [
      "/Users/ajakobs/miniconda3/envs/timex/lib/python3.11/site-packages/scikits/umfpack/umfpack.py:736: UmfpackWarning: (almost) singular matrix! (estimated cond. number: 9.30e+12)\n",
      "  warnings.warn(msg, UmfpackWarning)\n",
      "\u001b[32m2025-06-18 11:12:09.729\u001b[0m | \u001b[1mINFO    \u001b[0m | \u001b[36mbw_timex.timex_lca\u001b[0m:\u001b[36mbuild_timeline\u001b[0m:\u001b[36m217\u001b[0m - \u001b[1mNo edge filter function provided. Skipping all edges in background databases.\u001b[0m\n"
     ]
    },
    {
     "name": "stdout",
     "output_type": "stream",
     "text": [
      "Starting graph traversal\n",
      "Calculation count: 4\n"
     ]
    },
    {
     "name": "stderr",
     "output_type": "stream",
     "text": [
      "/Users/ajakobs/miniconda3/envs/timex/lib/python3.11/site-packages/bw2calc/lca_base.py:127: SparseEfficiencyWarning: splu converted its input to CSC format\n",
      "  self.solver = factorized(self.technosphere_matrix)\n",
      "/Users/ajakobs/miniconda3/envs/timex/lib/python3.11/site-packages/scikits/umfpack/umfpack.py:736: UmfpackWarning: (almost) singular matrix! (estimated cond. number: 4.49e+12)\n",
      "  warnings.warn(msg, UmfpackWarning)\n",
      "/Users/ajakobs/miniconda3/envs/timex/lib/python3.11/site-packages/scikits/umfpack/umfpack.py:736: UmfpackWarning: (almost) singular matrix! (estimated cond. number: 4.49e+12)\n",
      "  warnings.warn(msg, UmfpackWarning)\n"
     ]
    },
    {
     "name": "stdout",
     "output_type": "stream",
     "text": [
      "Repeat 3/3 for 2 tiers and 1 processes...\n",
      "Database test_2tiers_1processes created with 3 processes and 4 exchanges. There are 2 different background processes used.\n",
      "benchmarking database test_2tiers_1processes...\n"
     ]
    },
    {
     "name": "stderr",
     "output_type": "stream",
     "text": [
      "/Users/ajakobs/miniconda3/envs/timex/lib/python3.11/site-packages/scikits/umfpack/umfpack.py:736: UmfpackWarning: (almost) singular matrix! (estimated cond. number: 9.30e+12)\n",
      "  warnings.warn(msg, UmfpackWarning)\n",
      "\u001b[32m2025-06-18 11:12:30.753\u001b[0m | \u001b[1mINFO    \u001b[0m | \u001b[36mbw_timex.timex_lca\u001b[0m:\u001b[36mbuild_timeline\u001b[0m:\u001b[36m217\u001b[0m - \u001b[1mNo edge filter function provided. Skipping all edges in background databases.\u001b[0m\n"
     ]
    },
    {
     "name": "stdout",
     "output_type": "stream",
     "text": [
      "Starting graph traversal\n",
      "Calculation count: 4\n"
     ]
    },
    {
     "name": "stderr",
     "output_type": "stream",
     "text": [
      "/Users/ajakobs/miniconda3/envs/timex/lib/python3.11/site-packages/bw2calc/lca_base.py:127: SparseEfficiencyWarning: splu converted its input to CSC format\n",
      "  self.solver = factorized(self.technosphere_matrix)\n",
      "/Users/ajakobs/miniconda3/envs/timex/lib/python3.11/site-packages/scikits/umfpack/umfpack.py:736: UmfpackWarning: (almost) singular matrix! (estimated cond. number: 4.49e+12)\n",
      "  warnings.warn(msg, UmfpackWarning)\n",
      "/Users/ajakobs/miniconda3/envs/timex/lib/python3.11/site-packages/scikits/umfpack/umfpack.py:736: UmfpackWarning: (almost) singular matrix! (estimated cond. number: 4.49e+12)\n",
      "  warnings.warn(msg, UmfpackWarning)\n"
     ]
    },
    {
     "name": "stdout",
     "output_type": "stream",
     "text": [
      "Repeat 1/3 for 2 tiers and 2 processes...\n",
      "Database test_2tiers_2processes created with 5 processes and 10 exchanges. There are 4 different background processes used.\n",
      "benchmarking database test_2tiers_2processes...\n"
     ]
    },
    {
     "name": "stderr",
     "output_type": "stream",
     "text": [
      "/Users/ajakobs/miniconda3/envs/timex/lib/python3.11/site-packages/scikits/umfpack/umfpack.py:736: UmfpackWarning: (almost) singular matrix! (estimated cond. number: 9.30e+12)\n",
      "  warnings.warn(msg, UmfpackWarning)\n",
      "\u001b[32m2025-06-18 11:12:50.570\u001b[0m | \u001b[1mINFO    \u001b[0m | \u001b[36mbw_timex.timex_lca\u001b[0m:\u001b[36mbuild_timeline\u001b[0m:\u001b[36m217\u001b[0m - \u001b[1mNo edge filter function provided. Skipping all edges in background databases.\u001b[0m\n"
     ]
    },
    {
     "name": "stdout",
     "output_type": "stream",
     "text": [
      "Starting graph traversal\n",
      "Calculation count: 14\n"
     ]
    },
    {
     "name": "stderr",
     "output_type": "stream",
     "text": [
      "/Users/ajakobs/miniconda3/envs/timex/lib/python3.11/site-packages/bw2calc/lca_base.py:127: SparseEfficiencyWarning: splu converted its input to CSC format\n",
      "  self.solver = factorized(self.technosphere_matrix)\n",
      "/Users/ajakobs/miniconda3/envs/timex/lib/python3.11/site-packages/scikits/umfpack/umfpack.py:736: UmfpackWarning: (almost) singular matrix! (estimated cond. number: 4.49e+12)\n",
      "  warnings.warn(msg, UmfpackWarning)\n",
      "/Users/ajakobs/miniconda3/envs/timex/lib/python3.11/site-packages/scikits/umfpack/umfpack.py:736: UmfpackWarning: (almost) singular matrix! (estimated cond. number: 4.49e+12)\n",
      "  warnings.warn(msg, UmfpackWarning)\n"
     ]
    },
    {
     "name": "stdout",
     "output_type": "stream",
     "text": [
      "Repeat 2/3 for 2 tiers and 2 processes...\n",
      "Database test_2tiers_2processes created with 5 processes and 10 exchanges. There are 4 different background processes used.\n",
      "benchmarking database test_2tiers_2processes...\n"
     ]
    },
    {
     "name": "stderr",
     "output_type": "stream",
     "text": [
      "/Users/ajakobs/miniconda3/envs/timex/lib/python3.11/site-packages/scikits/umfpack/umfpack.py:736: UmfpackWarning: (almost) singular matrix! (estimated cond. number: 9.30e+12)\n",
      "  warnings.warn(msg, UmfpackWarning)\n",
      "\u001b[32m2025-06-18 11:13:17.930\u001b[0m | \u001b[1mINFO    \u001b[0m | \u001b[36mbw_timex.timex_lca\u001b[0m:\u001b[36mbuild_timeline\u001b[0m:\u001b[36m217\u001b[0m - \u001b[1mNo edge filter function provided. Skipping all edges in background databases.\u001b[0m\n"
     ]
    },
    {
     "name": "stdout",
     "output_type": "stream",
     "text": [
      "Starting graph traversal\n",
      "Calculation count: 14\n"
     ]
    },
    {
     "name": "stderr",
     "output_type": "stream",
     "text": [
      "/Users/ajakobs/miniconda3/envs/timex/lib/python3.11/site-packages/bw2calc/lca_base.py:127: SparseEfficiencyWarning: splu converted its input to CSC format\n",
      "  self.solver = factorized(self.technosphere_matrix)\n",
      "/Users/ajakobs/miniconda3/envs/timex/lib/python3.11/site-packages/scikits/umfpack/umfpack.py:736: UmfpackWarning: (almost) singular matrix! (estimated cond. number: 4.49e+12)\n",
      "  warnings.warn(msg, UmfpackWarning)\n",
      "/Users/ajakobs/miniconda3/envs/timex/lib/python3.11/site-packages/scikits/umfpack/umfpack.py:736: UmfpackWarning: (almost) singular matrix! (estimated cond. number: 4.49e+12)\n",
      "  warnings.warn(msg, UmfpackWarning)\n"
     ]
    },
    {
     "name": "stdout",
     "output_type": "stream",
     "text": [
      "Repeat 3/3 for 2 tiers and 2 processes...\n",
      "Database test_2tiers_2processes created with 5 processes and 10 exchanges. There are 4 different background processes used.\n",
      "benchmarking database test_2tiers_2processes...\n"
     ]
    },
    {
     "name": "stderr",
     "output_type": "stream",
     "text": [
      "/Users/ajakobs/miniconda3/envs/timex/lib/python3.11/site-packages/scikits/umfpack/umfpack.py:736: UmfpackWarning: (almost) singular matrix! (estimated cond. number: 9.30e+12)\n",
      "  warnings.warn(msg, UmfpackWarning)\n",
      "\u001b[32m2025-06-18 11:13:44.168\u001b[0m | \u001b[1mINFO    \u001b[0m | \u001b[36mbw_timex.timex_lca\u001b[0m:\u001b[36mbuild_timeline\u001b[0m:\u001b[36m217\u001b[0m - \u001b[1mNo edge filter function provided. Skipping all edges in background databases.\u001b[0m\n"
     ]
    },
    {
     "name": "stdout",
     "output_type": "stream",
     "text": [
      "Starting graph traversal\n",
      "Calculation count: 14\n"
     ]
    },
    {
     "name": "stderr",
     "output_type": "stream",
     "text": [
      "/Users/ajakobs/miniconda3/envs/timex/lib/python3.11/site-packages/bw2calc/lca_base.py:127: SparseEfficiencyWarning: splu converted its input to CSC format\n",
      "  self.solver = factorized(self.technosphere_matrix)\n",
      "/Users/ajakobs/miniconda3/envs/timex/lib/python3.11/site-packages/scikits/umfpack/umfpack.py:736: UmfpackWarning: (almost) singular matrix! (estimated cond. number: 4.49e+12)\n",
      "  warnings.warn(msg, UmfpackWarning)\n",
      "/Users/ajakobs/miniconda3/envs/timex/lib/python3.11/site-packages/scikits/umfpack/umfpack.py:736: UmfpackWarning: (almost) singular matrix! (estimated cond. number: 4.49e+12)\n",
      "  warnings.warn(msg, UmfpackWarning)\n"
     ]
    },
    {
     "name": "stdout",
     "output_type": "stream",
     "text": [
      "Repeat 1/3 for 2 tiers and 3 processes...\n",
      "Database test_2tiers_3processes created with 7 processes and 18 exchanges. There are 6 different background processes used.\n",
      "benchmarking database test_2tiers_3processes...\n"
     ]
    },
    {
     "name": "stderr",
     "output_type": "stream",
     "text": [
      "/Users/ajakobs/miniconda3/envs/timex/lib/python3.11/site-packages/scikits/umfpack/umfpack.py:736: UmfpackWarning: (almost) singular matrix! (estimated cond. number: 9.30e+12)\n",
      "  warnings.warn(msg, UmfpackWarning)\n",
      "\u001b[32m2025-06-18 11:14:11.703\u001b[0m | \u001b[1mINFO    \u001b[0m | \u001b[36mbw_timex.timex_lca\u001b[0m:\u001b[36mbuild_timeline\u001b[0m:\u001b[36m217\u001b[0m - \u001b[1mNo edge filter function provided. Skipping all edges in background databases.\u001b[0m\n"
     ]
    },
    {
     "name": "stdout",
     "output_type": "stream",
     "text": [
      "Starting graph traversal\n",
      "Calculation count: 30\n"
     ]
    },
    {
     "name": "stderr",
     "output_type": "stream",
     "text": [
      "/Users/ajakobs/miniconda3/envs/timex/lib/python3.11/site-packages/bw2calc/lca_base.py:127: SparseEfficiencyWarning: splu converted its input to CSC format\n",
      "  self.solver = factorized(self.technosphere_matrix)\n",
      "/Users/ajakobs/miniconda3/envs/timex/lib/python3.11/site-packages/scikits/umfpack/umfpack.py:736: UmfpackWarning: (almost) singular matrix! (estimated cond. number: 4.49e+12)\n",
      "  warnings.warn(msg, UmfpackWarning)\n",
      "/Users/ajakobs/miniconda3/envs/timex/lib/python3.11/site-packages/scikits/umfpack/umfpack.py:736: UmfpackWarning: (almost) singular matrix! (estimated cond. number: 4.49e+12)\n",
      "  warnings.warn(msg, UmfpackWarning)\n"
     ]
    },
    {
     "name": "stdout",
     "output_type": "stream",
     "text": [
      "Repeat 2/3 for 2 tiers and 3 processes...\n",
      "Database test_2tiers_3processes created with 7 processes and 18 exchanges. There are 6 different background processes used.\n",
      "benchmarking database test_2tiers_3processes...\n"
     ]
    },
    {
     "name": "stderr",
     "output_type": "stream",
     "text": [
      "/Users/ajakobs/miniconda3/envs/timex/lib/python3.11/site-packages/scikits/umfpack/umfpack.py:736: UmfpackWarning: (almost) singular matrix! (estimated cond. number: 9.30e+12)\n",
      "  warnings.warn(msg, UmfpackWarning)\n",
      "\u001b[32m2025-06-18 11:14:46.365\u001b[0m | \u001b[1mINFO    \u001b[0m | \u001b[36mbw_timex.timex_lca\u001b[0m:\u001b[36mbuild_timeline\u001b[0m:\u001b[36m217\u001b[0m - \u001b[1mNo edge filter function provided. Skipping all edges in background databases.\u001b[0m\n"
     ]
    },
    {
     "name": "stdout",
     "output_type": "stream",
     "text": [
      "Starting graph traversal\n",
      "Calculation count: 30\n"
     ]
    },
    {
     "name": "stderr",
     "output_type": "stream",
     "text": [
      "/Users/ajakobs/miniconda3/envs/timex/lib/python3.11/site-packages/bw2calc/lca_base.py:127: SparseEfficiencyWarning: splu converted its input to CSC format\n",
      "  self.solver = factorized(self.technosphere_matrix)\n",
      "/Users/ajakobs/miniconda3/envs/timex/lib/python3.11/site-packages/scikits/umfpack/umfpack.py:736: UmfpackWarning: (almost) singular matrix! (estimated cond. number: 4.49e+12)\n",
      "  warnings.warn(msg, UmfpackWarning)\n",
      "/Users/ajakobs/miniconda3/envs/timex/lib/python3.11/site-packages/scikits/umfpack/umfpack.py:736: UmfpackWarning: (almost) singular matrix! (estimated cond. number: 4.49e+12)\n",
      "  warnings.warn(msg, UmfpackWarning)\n"
     ]
    },
    {
     "name": "stdout",
     "output_type": "stream",
     "text": [
      "Repeat 3/3 for 2 tiers and 3 processes...\n",
      "Database test_2tiers_3processes created with 7 processes and 18 exchanges. There are 6 different background processes used.\n",
      "benchmarking database test_2tiers_3processes...\n"
     ]
    },
    {
     "name": "stderr",
     "output_type": "stream",
     "text": [
      "/Users/ajakobs/miniconda3/envs/timex/lib/python3.11/site-packages/scikits/umfpack/umfpack.py:736: UmfpackWarning: (almost) singular matrix! (estimated cond. number: 9.30e+12)\n",
      "  warnings.warn(msg, UmfpackWarning)\n",
      "\u001b[32m2025-06-18 11:15:20.087\u001b[0m | \u001b[1mINFO    \u001b[0m | \u001b[36mbw_timex.timex_lca\u001b[0m:\u001b[36mbuild_timeline\u001b[0m:\u001b[36m217\u001b[0m - \u001b[1mNo edge filter function provided. Skipping all edges in background databases.\u001b[0m\n"
     ]
    },
    {
     "name": "stdout",
     "output_type": "stream",
     "text": [
      "Starting graph traversal\n",
      "Calculation count: 30\n"
     ]
    },
    {
     "name": "stderr",
     "output_type": "stream",
     "text": [
      "/Users/ajakobs/miniconda3/envs/timex/lib/python3.11/site-packages/bw2calc/lca_base.py:127: SparseEfficiencyWarning: splu converted its input to CSC format\n",
      "  self.solver = factorized(self.technosphere_matrix)\n",
      "/Users/ajakobs/miniconda3/envs/timex/lib/python3.11/site-packages/scikits/umfpack/umfpack.py:736: UmfpackWarning: (almost) singular matrix! (estimated cond. number: 4.49e+12)\n",
      "  warnings.warn(msg, UmfpackWarning)\n",
      "/Users/ajakobs/miniconda3/envs/timex/lib/python3.11/site-packages/scikits/umfpack/umfpack.py:736: UmfpackWarning: (almost) singular matrix! (estimated cond. number: 4.49e+12)\n",
      "  warnings.warn(msg, UmfpackWarning)\n"
     ]
    },
    {
     "name": "stdout",
     "output_type": "stream",
     "text": [
      "Repeat 1/3 for 2 tiers and 5 processes...\n",
      "Database test_2tiers_5processes created with 11 processes and 40 exchanges. There are 10 different background processes used.\n",
      "benchmarking database test_2tiers_5processes...\n"
     ]
    },
    {
     "name": "stderr",
     "output_type": "stream",
     "text": [
      "/Users/ajakobs/miniconda3/envs/timex/lib/python3.11/site-packages/scikits/umfpack/umfpack.py:736: UmfpackWarning: (almost) singular matrix! (estimated cond. number: 9.30e+12)\n",
      "  warnings.warn(msg, UmfpackWarning)\n",
      "\u001b[32m2025-06-18 11:15:54.994\u001b[0m | \u001b[1mINFO    \u001b[0m | \u001b[36mbw_timex.timex_lca\u001b[0m:\u001b[36mbuild_timeline\u001b[0m:\u001b[36m217\u001b[0m - \u001b[1mNo edge filter function provided. Skipping all edges in background databases.\u001b[0m\n"
     ]
    },
    {
     "name": "stdout",
     "output_type": "stream",
     "text": [
      "Starting graph traversal\n",
      "Calculation count: 55\n"
     ]
    },
    {
     "name": "stderr",
     "output_type": "stream",
     "text": [
      "/Users/ajakobs/miniconda3/envs/timex/lib/python3.11/site-packages/bw2calc/lca_base.py:127: SparseEfficiencyWarning: splu converted its input to CSC format\n",
      "  self.solver = factorized(self.technosphere_matrix)\n",
      "/Users/ajakobs/miniconda3/envs/timex/lib/python3.11/site-packages/scikits/umfpack/umfpack.py:736: UmfpackWarning: (almost) singular matrix! (estimated cond. number: 4.49e+12)\n",
      "  warnings.warn(msg, UmfpackWarning)\n",
      "/Users/ajakobs/miniconda3/envs/timex/lib/python3.11/site-packages/scikits/umfpack/umfpack.py:736: UmfpackWarning: (almost) singular matrix! (estimated cond. number: 4.49e+12)\n",
      "  warnings.warn(msg, UmfpackWarning)\n"
     ]
    },
    {
     "name": "stdout",
     "output_type": "stream",
     "text": [
      "Repeat 2/3 for 2 tiers and 5 processes...\n",
      "Database test_2tiers_5processes created with 11 processes and 40 exchanges. There are 10 different background processes used.\n",
      "benchmarking database test_2tiers_5processes...\n"
     ]
    },
    {
     "name": "stderr",
     "output_type": "stream",
     "text": [
      "/Users/ajakobs/miniconda3/envs/timex/lib/python3.11/site-packages/scikits/umfpack/umfpack.py:736: UmfpackWarning: (almost) singular matrix! (estimated cond. number: 9.30e+12)\n",
      "  warnings.warn(msg, UmfpackWarning)\n",
      "\u001b[32m2025-06-18 11:16:39.636\u001b[0m | \u001b[1mINFO    \u001b[0m | \u001b[36mbw_timex.timex_lca\u001b[0m:\u001b[36mbuild_timeline\u001b[0m:\u001b[36m217\u001b[0m - \u001b[1mNo edge filter function provided. Skipping all edges in background databases.\u001b[0m\n"
     ]
    },
    {
     "name": "stdout",
     "output_type": "stream",
     "text": [
      "Starting graph traversal\n",
      "Calculation count: 55\n"
     ]
    },
    {
     "name": "stderr",
     "output_type": "stream",
     "text": [
      "/Users/ajakobs/miniconda3/envs/timex/lib/python3.11/site-packages/bw2calc/lca_base.py:127: SparseEfficiencyWarning: splu converted its input to CSC format\n",
      "  self.solver = factorized(self.technosphere_matrix)\n",
      "/Users/ajakobs/miniconda3/envs/timex/lib/python3.11/site-packages/scikits/umfpack/umfpack.py:736: UmfpackWarning: (almost) singular matrix! (estimated cond. number: 4.49e+12)\n",
      "  warnings.warn(msg, UmfpackWarning)\n",
      "/Users/ajakobs/miniconda3/envs/timex/lib/python3.11/site-packages/scikits/umfpack/umfpack.py:736: UmfpackWarning: (almost) singular matrix! (estimated cond. number: 4.49e+12)\n",
      "  warnings.warn(msg, UmfpackWarning)\n"
     ]
    },
    {
     "name": "stdout",
     "output_type": "stream",
     "text": [
      "Repeat 3/3 for 2 tiers and 5 processes...\n",
      "Database test_2tiers_5processes created with 11 processes and 40 exchanges. There are 10 different background processes used.\n",
      "benchmarking database test_2tiers_5processes...\n"
     ]
    },
    {
     "name": "stderr",
     "output_type": "stream",
     "text": [
      "/Users/ajakobs/miniconda3/envs/timex/lib/python3.11/site-packages/scikits/umfpack/umfpack.py:736: UmfpackWarning: (almost) singular matrix! (estimated cond. number: 9.30e+12)\n",
      "  warnings.warn(msg, UmfpackWarning)\n",
      "\u001b[32m2025-06-18 11:17:23.866\u001b[0m | \u001b[1mINFO    \u001b[0m | \u001b[36mbw_timex.timex_lca\u001b[0m:\u001b[36mbuild_timeline\u001b[0m:\u001b[36m217\u001b[0m - \u001b[1mNo edge filter function provided. Skipping all edges in background databases.\u001b[0m\n"
     ]
    },
    {
     "name": "stdout",
     "output_type": "stream",
     "text": [
      "Starting graph traversal\n",
      "Calculation count: 55\n"
     ]
    },
    {
     "name": "stderr",
     "output_type": "stream",
     "text": [
      "/Users/ajakobs/miniconda3/envs/timex/lib/python3.11/site-packages/bw2calc/lca_base.py:127: SparseEfficiencyWarning: splu converted its input to CSC format\n",
      "  self.solver = factorized(self.technosphere_matrix)\n",
      "/Users/ajakobs/miniconda3/envs/timex/lib/python3.11/site-packages/scikits/umfpack/umfpack.py:736: UmfpackWarning: (almost) singular matrix! (estimated cond. number: 4.49e+12)\n",
      "  warnings.warn(msg, UmfpackWarning)\n",
      "/Users/ajakobs/miniconda3/envs/timex/lib/python3.11/site-packages/scikits/umfpack/umfpack.py:736: UmfpackWarning: (almost) singular matrix! (estimated cond. number: 4.49e+12)\n",
      "  warnings.warn(msg, UmfpackWarning)\n"
     ]
    },
    {
     "name": "stdout",
     "output_type": "stream",
     "text": [
      "Repeat 1/3 for 2 tiers and 10 processes...\n",
      "Database test_2tiers_10processes created with 21 processes and 130 exchanges. There are 20 different background processes used.\n",
      "benchmarking database test_2tiers_10processes...\n"
     ]
    },
    {
     "name": "stderr",
     "output_type": "stream",
     "text": [
      "/Users/ajakobs/miniconda3/envs/timex/lib/python3.11/site-packages/scikits/umfpack/umfpack.py:736: UmfpackWarning: (almost) singular matrix! (estimated cond. number: 9.30e+12)\n",
      "  warnings.warn(msg, UmfpackWarning)\n",
      "\u001b[32m2025-06-18 11:18:08.772\u001b[0m | \u001b[1mINFO    \u001b[0m | \u001b[36mbw_timex.timex_lca\u001b[0m:\u001b[36mbuild_timeline\u001b[0m:\u001b[36m217\u001b[0m - \u001b[1mNo edge filter function provided. Skipping all edges in background databases.\u001b[0m\n"
     ]
    },
    {
     "name": "stdout",
     "output_type": "stream",
     "text": [
      "Starting graph traversal\n",
      "Calculation count: 160\n"
     ]
    },
    {
     "name": "stderr",
     "output_type": "stream",
     "text": [
      "/Users/ajakobs/miniconda3/envs/timex/lib/python3.11/site-packages/bw2calc/lca_base.py:127: SparseEfficiencyWarning: splu converted its input to CSC format\n",
      "  self.solver = factorized(self.technosphere_matrix)\n",
      "/Users/ajakobs/miniconda3/envs/timex/lib/python3.11/site-packages/scikits/umfpack/umfpack.py:736: UmfpackWarning: (almost) singular matrix! (estimated cond. number: 4.49e+12)\n",
      "  warnings.warn(msg, UmfpackWarning)\n",
      "/Users/ajakobs/miniconda3/envs/timex/lib/python3.11/site-packages/scikits/umfpack/umfpack.py:736: UmfpackWarning: (almost) singular matrix! (estimated cond. number: 4.49e+12)\n",
      "  warnings.warn(msg, UmfpackWarning)\n"
     ]
    },
    {
     "name": "stdout",
     "output_type": "stream",
     "text": [
      "Repeat 2/3 for 2 tiers and 10 processes...\n",
      "Database test_2tiers_10processes created with 21 processes and 130 exchanges. There are 20 different background processes used.\n",
      "benchmarking database test_2tiers_10processes...\n"
     ]
    },
    {
     "name": "stderr",
     "output_type": "stream",
     "text": [
      "/Users/ajakobs/miniconda3/envs/timex/lib/python3.11/site-packages/scikits/umfpack/umfpack.py:736: UmfpackWarning: (almost) singular matrix! (estimated cond. number: 9.30e+12)\n",
      "  warnings.warn(msg, UmfpackWarning)\n",
      "\u001b[32m2025-06-18 11:19:28.106\u001b[0m | \u001b[1mINFO    \u001b[0m | \u001b[36mbw_timex.timex_lca\u001b[0m:\u001b[36mbuild_timeline\u001b[0m:\u001b[36m217\u001b[0m - \u001b[1mNo edge filter function provided. Skipping all edges in background databases.\u001b[0m\n"
     ]
    },
    {
     "name": "stdout",
     "output_type": "stream",
     "text": [
      "Starting graph traversal\n",
      "Calculation count: 160\n"
     ]
    },
    {
     "name": "stderr",
     "output_type": "stream",
     "text": [
      "/Users/ajakobs/miniconda3/envs/timex/lib/python3.11/site-packages/bw2calc/lca_base.py:127: SparseEfficiencyWarning: splu converted its input to CSC format\n",
      "  self.solver = factorized(self.technosphere_matrix)\n",
      "/Users/ajakobs/miniconda3/envs/timex/lib/python3.11/site-packages/scikits/umfpack/umfpack.py:736: UmfpackWarning: (almost) singular matrix! (estimated cond. number: 4.49e+12)\n",
      "  warnings.warn(msg, UmfpackWarning)\n",
      "/Users/ajakobs/miniconda3/envs/timex/lib/python3.11/site-packages/scikits/umfpack/umfpack.py:736: UmfpackWarning: (almost) singular matrix! (estimated cond. number: 4.49e+12)\n",
      "  warnings.warn(msg, UmfpackWarning)\n"
     ]
    },
    {
     "name": "stdout",
     "output_type": "stream",
     "text": [
      "Repeat 3/3 for 2 tiers and 10 processes...\n",
      "Database test_2tiers_10processes created with 21 processes and 130 exchanges. There are 20 different background processes used.\n",
      "benchmarking database test_2tiers_10processes...\n"
     ]
    },
    {
     "name": "stderr",
     "output_type": "stream",
     "text": [
      "/Users/ajakobs/miniconda3/envs/timex/lib/python3.11/site-packages/scikits/umfpack/umfpack.py:736: UmfpackWarning: (almost) singular matrix! (estimated cond. number: 9.30e+12)\n",
      "  warnings.warn(msg, UmfpackWarning)\n",
      "\u001b[32m2025-06-18 11:20:49.125\u001b[0m | \u001b[1mINFO    \u001b[0m | \u001b[36mbw_timex.timex_lca\u001b[0m:\u001b[36mbuild_timeline\u001b[0m:\u001b[36m217\u001b[0m - \u001b[1mNo edge filter function provided. Skipping all edges in background databases.\u001b[0m\n"
     ]
    },
    {
     "name": "stdout",
     "output_type": "stream",
     "text": [
      "Starting graph traversal\n",
      "Calculation count: 160\n"
     ]
    },
    {
     "name": "stderr",
     "output_type": "stream",
     "text": [
      "/Users/ajakobs/miniconda3/envs/timex/lib/python3.11/site-packages/bw2calc/lca_base.py:127: SparseEfficiencyWarning: splu converted its input to CSC format\n",
      "  self.solver = factorized(self.technosphere_matrix)\n",
      "/Users/ajakobs/miniconda3/envs/timex/lib/python3.11/site-packages/scikits/umfpack/umfpack.py:736: UmfpackWarning: (almost) singular matrix! (estimated cond. number: 4.49e+12)\n",
      "  warnings.warn(msg, UmfpackWarning)\n",
      "/Users/ajakobs/miniconda3/envs/timex/lib/python3.11/site-packages/scikits/umfpack/umfpack.py:736: UmfpackWarning: (almost) singular matrix! (estimated cond. number: 4.49e+12)\n",
      "  warnings.warn(msg, UmfpackWarning)\n"
     ]
    },
    {
     "name": "stdout",
     "output_type": "stream",
     "text": [
      "Repeat 1/3 for 2 tiers and 15 processes...\n",
      "Database test_2tiers_15processes created with 31 processes and 270 exchanges. There are 30 different background processes used.\n",
      "benchmarking database test_2tiers_15processes...\n"
     ]
    },
    {
     "name": "stderr",
     "output_type": "stream",
     "text": [
      "/Users/ajakobs/miniconda3/envs/timex/lib/python3.11/site-packages/scikits/umfpack/umfpack.py:736: UmfpackWarning: (almost) singular matrix! (estimated cond. number: 9.30e+12)\n",
      "  warnings.warn(msg, UmfpackWarning)\n",
      "\u001b[32m2025-06-18 11:22:07.129\u001b[0m | \u001b[1mINFO    \u001b[0m | \u001b[36mbw_timex.timex_lca\u001b[0m:\u001b[36mbuild_timeline\u001b[0m:\u001b[36m217\u001b[0m - \u001b[1mNo edge filter function provided. Skipping all edges in background databases.\u001b[0m\n"
     ]
    },
    {
     "name": "stdout",
     "output_type": "stream",
     "text": [
      "Starting graph traversal\n",
      "Calculation count: 240\n"
     ]
    },
    {
     "name": "stderr",
     "output_type": "stream",
     "text": [
      "/Users/ajakobs/miniconda3/envs/timex/lib/python3.11/site-packages/bw2calc/lca_base.py:127: SparseEfficiencyWarning: splu converted its input to CSC format\n",
      "  self.solver = factorized(self.technosphere_matrix)\n",
      "/Users/ajakobs/miniconda3/envs/timex/lib/python3.11/site-packages/scikits/umfpack/umfpack.py:736: UmfpackWarning: (almost) singular matrix! (estimated cond. number: 4.49e+12)\n",
      "  warnings.warn(msg, UmfpackWarning)\n",
      "/Users/ajakobs/miniconda3/envs/timex/lib/python3.11/site-packages/scikits/umfpack/umfpack.py:736: UmfpackWarning: (almost) singular matrix! (estimated cond. number: 4.49e+12)\n",
      "  warnings.warn(msg, UmfpackWarning)\n"
     ]
    },
    {
     "name": "stdout",
     "output_type": "stream",
     "text": [
      "Repeat 2/3 for 2 tiers and 15 processes...\n",
      "Database test_2tiers_15processes created with 31 processes and 270 exchanges. There are 30 different background processes used.\n",
      "benchmarking database test_2tiers_15processes...\n"
     ]
    },
    {
     "name": "stderr",
     "output_type": "stream",
     "text": [
      "/Users/ajakobs/miniconda3/envs/timex/lib/python3.11/site-packages/scikits/umfpack/umfpack.py:736: UmfpackWarning: (almost) singular matrix! (estimated cond. number: 9.30e+12)\n",
      "  warnings.warn(msg, UmfpackWarning)\n",
      "\u001b[32m2025-06-18 11:23:47.997\u001b[0m | \u001b[1mINFO    \u001b[0m | \u001b[36mbw_timex.timex_lca\u001b[0m:\u001b[36mbuild_timeline\u001b[0m:\u001b[36m217\u001b[0m - \u001b[1mNo edge filter function provided. Skipping all edges in background databases.\u001b[0m\n"
     ]
    },
    {
     "name": "stdout",
     "output_type": "stream",
     "text": [
      "Starting graph traversal\n",
      "Calculation count: 240\n"
     ]
    },
    {
     "name": "stderr",
     "output_type": "stream",
     "text": [
      "/Users/ajakobs/miniconda3/envs/timex/lib/python3.11/site-packages/bw2calc/lca_base.py:127: SparseEfficiencyWarning: splu converted its input to CSC format\n",
      "  self.solver = factorized(self.technosphere_matrix)\n",
      "/Users/ajakobs/miniconda3/envs/timex/lib/python3.11/site-packages/scikits/umfpack/umfpack.py:736: UmfpackWarning: (almost) singular matrix! (estimated cond. number: 4.49e+12)\n",
      "  warnings.warn(msg, UmfpackWarning)\n",
      "/Users/ajakobs/miniconda3/envs/timex/lib/python3.11/site-packages/scikits/umfpack/umfpack.py:736: UmfpackWarning: (almost) singular matrix! (estimated cond. number: 4.49e+12)\n",
      "  warnings.warn(msg, UmfpackWarning)\n"
     ]
    },
    {
     "name": "stdout",
     "output_type": "stream",
     "text": [
      "Repeat 3/3 for 2 tiers and 15 processes...\n",
      "Database test_2tiers_15processes created with 31 processes and 270 exchanges. There are 30 different background processes used.\n",
      "benchmarking database test_2tiers_15processes...\n"
     ]
    },
    {
     "name": "stderr",
     "output_type": "stream",
     "text": [
      "/Users/ajakobs/miniconda3/envs/timex/lib/python3.11/site-packages/scikits/umfpack/umfpack.py:736: UmfpackWarning: (almost) singular matrix! (estimated cond. number: 9.30e+12)\n",
      "  warnings.warn(msg, UmfpackWarning)\n",
      "\u001b[32m2025-06-18 11:25:30.070\u001b[0m | \u001b[1mINFO    \u001b[0m | \u001b[36mbw_timex.timex_lca\u001b[0m:\u001b[36mbuild_timeline\u001b[0m:\u001b[36m217\u001b[0m - \u001b[1mNo edge filter function provided. Skipping all edges in background databases.\u001b[0m\n"
     ]
    },
    {
     "name": "stdout",
     "output_type": "stream",
     "text": [
      "Starting graph traversal\n",
      "Calculation count: 240\n"
     ]
    },
    {
     "name": "stderr",
     "output_type": "stream",
     "text": [
      "/Users/ajakobs/miniconda3/envs/timex/lib/python3.11/site-packages/bw2calc/lca_base.py:127: SparseEfficiencyWarning: splu converted its input to CSC format\n",
      "  self.solver = factorized(self.technosphere_matrix)\n",
      "/Users/ajakobs/miniconda3/envs/timex/lib/python3.11/site-packages/scikits/umfpack/umfpack.py:736: UmfpackWarning: (almost) singular matrix! (estimated cond. number: 4.49e+12)\n",
      "  warnings.warn(msg, UmfpackWarning)\n",
      "/Users/ajakobs/miniconda3/envs/timex/lib/python3.11/site-packages/scikits/umfpack/umfpack.py:736: UmfpackWarning: (almost) singular matrix! (estimated cond. number: 4.49e+12)\n",
      "  warnings.warn(msg, UmfpackWarning)\n"
     ]
    },
    {
     "name": "stdout",
     "output_type": "stream",
     "text": [
      "Repeat 1/3 for 2 tiers and 20 processes...\n",
      "Database test_2tiers_20processes created with 41 processes and 460 exchanges. There are 40 different background processes used.\n",
      "benchmarking database test_2tiers_20processes...\n"
     ]
    },
    {
     "name": "stderr",
     "output_type": "stream",
     "text": [
      "/Users/ajakobs/miniconda3/envs/timex/lib/python3.11/site-packages/scikits/umfpack/umfpack.py:736: UmfpackWarning: (almost) singular matrix! (estimated cond. number: 9.30e+12)\n",
      "  warnings.warn(msg, UmfpackWarning)\n",
      "\u001b[32m2025-06-18 11:27:13.800\u001b[0m | \u001b[1mINFO    \u001b[0m | \u001b[36mbw_timex.timex_lca\u001b[0m:\u001b[36mbuild_timeline\u001b[0m:\u001b[36m217\u001b[0m - \u001b[1mNo edge filter function provided. Skipping all edges in background databases.\u001b[0m\n"
     ]
    },
    {
     "name": "stdout",
     "output_type": "stream",
     "text": [
      "Starting graph traversal\n",
      "Calculation count: 400\n"
     ]
    },
    {
     "name": "stderr",
     "output_type": "stream",
     "text": [
      "/Users/ajakobs/miniconda3/envs/timex/lib/python3.11/site-packages/bw2calc/lca_base.py:127: SparseEfficiencyWarning: splu converted its input to CSC format\n",
      "  self.solver = factorized(self.technosphere_matrix)\n",
      "/Users/ajakobs/miniconda3/envs/timex/lib/python3.11/site-packages/scikits/umfpack/umfpack.py:736: UmfpackWarning: (almost) singular matrix! (estimated cond. number: 4.49e+12)\n",
      "  warnings.warn(msg, UmfpackWarning)\n",
      "/Users/ajakobs/miniconda3/envs/timex/lib/python3.11/site-packages/scikits/umfpack/umfpack.py:736: UmfpackWarning: (almost) singular matrix! (estimated cond. number: 4.49e+12)\n",
      "  warnings.warn(msg, UmfpackWarning)\n"
     ]
    },
    {
     "name": "stdout",
     "output_type": "stream",
     "text": [
      "Repeat 2/3 for 2 tiers and 20 processes...\n",
      "Database test_2tiers_20processes created with 41 processes and 460 exchanges. There are 40 different background processes used.\n",
      "benchmarking database test_2tiers_20processes...\n"
     ]
    },
    {
     "name": "stderr",
     "output_type": "stream",
     "text": [
      "/Users/ajakobs/miniconda3/envs/timex/lib/python3.11/site-packages/scikits/umfpack/umfpack.py:736: UmfpackWarning: (almost) singular matrix! (estimated cond. number: 9.30e+12)\n",
      "  warnings.warn(msg, UmfpackWarning)\n",
      "\u001b[32m2025-06-18 11:29:36.527\u001b[0m | \u001b[1mINFO    \u001b[0m | \u001b[36mbw_timex.timex_lca\u001b[0m:\u001b[36mbuild_timeline\u001b[0m:\u001b[36m217\u001b[0m - \u001b[1mNo edge filter function provided. Skipping all edges in background databases.\u001b[0m\n"
     ]
    },
    {
     "name": "stdout",
     "output_type": "stream",
     "text": [
      "Starting graph traversal\n",
      "Calculation count: 400\n"
     ]
    },
    {
     "name": "stderr",
     "output_type": "stream",
     "text": [
      "/Users/ajakobs/miniconda3/envs/timex/lib/python3.11/site-packages/bw2calc/lca_base.py:127: SparseEfficiencyWarning: splu converted its input to CSC format\n",
      "  self.solver = factorized(self.technosphere_matrix)\n",
      "/Users/ajakobs/miniconda3/envs/timex/lib/python3.11/site-packages/scikits/umfpack/umfpack.py:736: UmfpackWarning: (almost) singular matrix! (estimated cond. number: 4.49e+12)\n",
      "  warnings.warn(msg, UmfpackWarning)\n",
      "/Users/ajakobs/miniconda3/envs/timex/lib/python3.11/site-packages/scikits/umfpack/umfpack.py:736: UmfpackWarning: (almost) singular matrix! (estimated cond. number: 4.49e+12)\n",
      "  warnings.warn(msg, UmfpackWarning)\n"
     ]
    },
    {
     "name": "stdout",
     "output_type": "stream",
     "text": [
      "Repeat 3/3 for 2 tiers and 20 processes...\n",
      "Database test_2tiers_20processes created with 41 processes and 460 exchanges. There are 40 different background processes used.\n",
      "benchmarking database test_2tiers_20processes...\n"
     ]
    },
    {
     "name": "stderr",
     "output_type": "stream",
     "text": [
      "/Users/ajakobs/miniconda3/envs/timex/lib/python3.11/site-packages/scikits/umfpack/umfpack.py:736: UmfpackWarning: (almost) singular matrix! (estimated cond. number: 9.30e+12)\n",
      "  warnings.warn(msg, UmfpackWarning)\n",
      "\u001b[32m2025-06-18 11:31:57.728\u001b[0m | \u001b[1mINFO    \u001b[0m | \u001b[36mbw_timex.timex_lca\u001b[0m:\u001b[36mbuild_timeline\u001b[0m:\u001b[36m217\u001b[0m - \u001b[1mNo edge filter function provided. Skipping all edges in background databases.\u001b[0m\n"
     ]
    },
    {
     "name": "stdout",
     "output_type": "stream",
     "text": [
      "Starting graph traversal\n",
      "Calculation count: 400\n"
     ]
    },
    {
     "name": "stderr",
     "output_type": "stream",
     "text": [
      "/Users/ajakobs/miniconda3/envs/timex/lib/python3.11/site-packages/bw2calc/lca_base.py:127: SparseEfficiencyWarning: splu converted its input to CSC format\n",
      "  self.solver = factorized(self.technosphere_matrix)\n",
      "/Users/ajakobs/miniconda3/envs/timex/lib/python3.11/site-packages/scikits/umfpack/umfpack.py:736: UmfpackWarning: (almost) singular matrix! (estimated cond. number: 4.49e+12)\n",
      "  warnings.warn(msg, UmfpackWarning)\n",
      "/Users/ajakobs/miniconda3/envs/timex/lib/python3.11/site-packages/scikits/umfpack/umfpack.py:736: UmfpackWarning: (almost) singular matrix! (estimated cond. number: 4.49e+12)\n",
      "  warnings.warn(msg, UmfpackWarning)\n"
     ]
    },
    {
     "name": "stdout",
     "output_type": "stream",
     "text": [
      "Repeat 1/3 for 2 tiers and 25 processes...\n",
      "Database test_2tiers_25processes created with 51 processes and 700 exchanges. There are 50 different background processes used.\n",
      "benchmarking database test_2tiers_25processes...\n"
     ]
    },
    {
     "name": "stderr",
     "output_type": "stream",
     "text": [
      "/Users/ajakobs/miniconda3/envs/timex/lib/python3.11/site-packages/scikits/umfpack/umfpack.py:736: UmfpackWarning: (almost) singular matrix! (estimated cond. number: 9.30e+12)\n",
      "  warnings.warn(msg, UmfpackWarning)\n",
      "\u001b[32m2025-06-18 11:34:20.038\u001b[0m | \u001b[1mINFO    \u001b[0m | \u001b[36mbw_timex.timex_lca\u001b[0m:\u001b[36mbuild_timeline\u001b[0m:\u001b[36m217\u001b[0m - \u001b[1mNo edge filter function provided. Skipping all edges in background databases.\u001b[0m\n"
     ]
    },
    {
     "name": "stdout",
     "output_type": "stream",
     "text": [
      "Starting graph traversal\n",
      "Calculation count: 600\n"
     ]
    },
    {
     "name": "stderr",
     "output_type": "stream",
     "text": [
      "/Users/ajakobs/miniconda3/envs/timex/lib/python3.11/site-packages/bw2calc/lca_base.py:127: SparseEfficiencyWarning: splu converted its input to CSC format\n",
      "  self.solver = factorized(self.technosphere_matrix)\n",
      "/Users/ajakobs/miniconda3/envs/timex/lib/python3.11/site-packages/scikits/umfpack/umfpack.py:736: UmfpackWarning: (almost) singular matrix! (estimated cond. number: 4.49e+12)\n",
      "  warnings.warn(msg, UmfpackWarning)\n",
      "/Users/ajakobs/miniconda3/envs/timex/lib/python3.11/site-packages/scikits/umfpack/umfpack.py:736: UmfpackWarning: (almost) singular matrix! (estimated cond. number: 4.49e+12)\n",
      "  warnings.warn(msg, UmfpackWarning)\n"
     ]
    },
    {
     "name": "stdout",
     "output_type": "stream",
     "text": [
      "Repeat 2/3 for 2 tiers and 25 processes...\n",
      "Database test_2tiers_25processes created with 51 processes and 700 exchanges. There are 50 different background processes used.\n",
      "benchmarking database test_2tiers_25processes...\n"
     ]
    },
    {
     "name": "stderr",
     "output_type": "stream",
     "text": [
      "/Users/ajakobs/miniconda3/envs/timex/lib/python3.11/site-packages/scikits/umfpack/umfpack.py:736: UmfpackWarning: (almost) singular matrix! (estimated cond. number: 9.30e+12)\n",
      "  warnings.warn(msg, UmfpackWarning)\n",
      "\u001b[32m2025-06-18 11:37:24.291\u001b[0m | \u001b[1mINFO    \u001b[0m | \u001b[36mbw_timex.timex_lca\u001b[0m:\u001b[36mbuild_timeline\u001b[0m:\u001b[36m217\u001b[0m - \u001b[1mNo edge filter function provided. Skipping all edges in background databases.\u001b[0m\n"
     ]
    },
    {
     "name": "stdout",
     "output_type": "stream",
     "text": [
      "Starting graph traversal\n",
      "Calculation count: 600\n"
     ]
    },
    {
     "name": "stderr",
     "output_type": "stream",
     "text": [
      "/Users/ajakobs/miniconda3/envs/timex/lib/python3.11/site-packages/bw2calc/lca_base.py:127: SparseEfficiencyWarning: splu converted its input to CSC format\n",
      "  self.solver = factorized(self.technosphere_matrix)\n",
      "/Users/ajakobs/miniconda3/envs/timex/lib/python3.11/site-packages/scikits/umfpack/umfpack.py:736: UmfpackWarning: (almost) singular matrix! (estimated cond. number: 4.49e+12)\n",
      "  warnings.warn(msg, UmfpackWarning)\n",
      "/Users/ajakobs/miniconda3/envs/timex/lib/python3.11/site-packages/scikits/umfpack/umfpack.py:736: UmfpackWarning: (almost) singular matrix! (estimated cond. number: 4.49e+12)\n",
      "  warnings.warn(msg, UmfpackWarning)\n"
     ]
    },
    {
     "name": "stdout",
     "output_type": "stream",
     "text": [
      "Repeat 3/3 for 2 tiers and 25 processes...\n",
      "Database test_2tiers_25processes created with 51 processes and 700 exchanges. There are 50 different background processes used.\n",
      "benchmarking database test_2tiers_25processes...\n"
     ]
    },
    {
     "name": "stderr",
     "output_type": "stream",
     "text": [
      "/Users/ajakobs/miniconda3/envs/timex/lib/python3.11/site-packages/scikits/umfpack/umfpack.py:736: UmfpackWarning: (almost) singular matrix! (estimated cond. number: 9.30e+12)\n",
      "  warnings.warn(msg, UmfpackWarning)\n",
      "\u001b[32m2025-06-18 11:40:26.084\u001b[0m | \u001b[1mINFO    \u001b[0m | \u001b[36mbw_timex.timex_lca\u001b[0m:\u001b[36mbuild_timeline\u001b[0m:\u001b[36m217\u001b[0m - \u001b[1mNo edge filter function provided. Skipping all edges in background databases.\u001b[0m\n"
     ]
    },
    {
     "name": "stdout",
     "output_type": "stream",
     "text": [
      "Starting graph traversal\n",
      "Calculation count: 600\n"
     ]
    },
    {
     "name": "stderr",
     "output_type": "stream",
     "text": [
      "/Users/ajakobs/miniconda3/envs/timex/lib/python3.11/site-packages/bw2calc/lca_base.py:127: SparseEfficiencyWarning: splu converted its input to CSC format\n",
      "  self.solver = factorized(self.technosphere_matrix)\n",
      "/Users/ajakobs/miniconda3/envs/timex/lib/python3.11/site-packages/scikits/umfpack/umfpack.py:736: UmfpackWarning: (almost) singular matrix! (estimated cond. number: 4.49e+12)\n",
      "  warnings.warn(msg, UmfpackWarning)\n",
      "/Users/ajakobs/miniconda3/envs/timex/lib/python3.11/site-packages/scikits/umfpack/umfpack.py:736: UmfpackWarning: (almost) singular matrix! (estimated cond. number: 4.49e+12)\n",
      "  warnings.warn(msg, UmfpackWarning)\n"
     ]
    },
    {
     "name": "stdout",
     "output_type": "stream",
     "text": [
      "Repeat 1/3 for 2 tiers and 30 processes...\n",
      "Database test_2tiers_30processes created with 61 processes and 990 exchanges. There are 60 different background processes used.\n",
      "benchmarking database test_2tiers_30processes...\n"
     ]
    },
    {
     "name": "stderr",
     "output_type": "stream",
     "text": [
      "/Users/ajakobs/miniconda3/envs/timex/lib/python3.11/site-packages/scikits/umfpack/umfpack.py:736: UmfpackWarning: (almost) singular matrix! (estimated cond. number: 9.30e+12)\n",
      "  warnings.warn(msg, UmfpackWarning)\n",
      "\u001b[32m2025-06-18 11:43:28.555\u001b[0m | \u001b[1mINFO    \u001b[0m | \u001b[36mbw_timex.timex_lca\u001b[0m:\u001b[36mbuild_timeline\u001b[0m:\u001b[36m217\u001b[0m - \u001b[1mNo edge filter function provided. Skipping all edges in background databases.\u001b[0m\n"
     ]
    },
    {
     "name": "stdout",
     "output_type": "stream",
     "text": [
      "Starting graph traversal\n",
      "Calculation count: 780\n"
     ]
    },
    {
     "name": "stderr",
     "output_type": "stream",
     "text": [
      "/Users/ajakobs/miniconda3/envs/timex/lib/python3.11/site-packages/bw2calc/lca_base.py:127: SparseEfficiencyWarning: splu converted its input to CSC format\n",
      "  self.solver = factorized(self.technosphere_matrix)\n",
      "/Users/ajakobs/miniconda3/envs/timex/lib/python3.11/site-packages/scikits/umfpack/umfpack.py:736: UmfpackWarning: (almost) singular matrix! (estimated cond. number: 4.49e+12)\n",
      "  warnings.warn(msg, UmfpackWarning)\n",
      "/Users/ajakobs/miniconda3/envs/timex/lib/python3.11/site-packages/scikits/umfpack/umfpack.py:736: UmfpackWarning: (almost) singular matrix! (estimated cond. number: 4.49e+12)\n",
      "  warnings.warn(msg, UmfpackWarning)\n"
     ]
    },
    {
     "name": "stdout",
     "output_type": "stream",
     "text": [
      "Repeat 2/3 for 2 tiers and 30 processes...\n",
      "Database test_2tiers_30processes created with 61 processes and 990 exchanges. There are 60 different background processes used.\n",
      "benchmarking database test_2tiers_30processes...\n"
     ]
    },
    {
     "name": "stderr",
     "output_type": "stream",
     "text": [
      "/Users/ajakobs/miniconda3/envs/timex/lib/python3.11/site-packages/scikits/umfpack/umfpack.py:736: UmfpackWarning: (almost) singular matrix! (estimated cond. number: 9.30e+12)\n",
      "  warnings.warn(msg, UmfpackWarning)\n",
      "\u001b[32m2025-06-18 11:47:10.906\u001b[0m | \u001b[1mINFO    \u001b[0m | \u001b[36mbw_timex.timex_lca\u001b[0m:\u001b[36mbuild_timeline\u001b[0m:\u001b[36m217\u001b[0m - \u001b[1mNo edge filter function provided. Skipping all edges in background databases.\u001b[0m\n"
     ]
    },
    {
     "name": "stdout",
     "output_type": "stream",
     "text": [
      "Starting graph traversal\n",
      "Calculation count: 780\n"
     ]
    },
    {
     "name": "stderr",
     "output_type": "stream",
     "text": [
      "/Users/ajakobs/miniconda3/envs/timex/lib/python3.11/site-packages/bw2calc/lca_base.py:127: SparseEfficiencyWarning: splu converted its input to CSC format\n",
      "  self.solver = factorized(self.technosphere_matrix)\n",
      "/Users/ajakobs/miniconda3/envs/timex/lib/python3.11/site-packages/scikits/umfpack/umfpack.py:736: UmfpackWarning: (almost) singular matrix! (estimated cond. number: 4.49e+12)\n",
      "  warnings.warn(msg, UmfpackWarning)\n",
      "/Users/ajakobs/miniconda3/envs/timex/lib/python3.11/site-packages/scikits/umfpack/umfpack.py:736: UmfpackWarning: (almost) singular matrix! (estimated cond. number: 4.49e+12)\n",
      "  warnings.warn(msg, UmfpackWarning)\n"
     ]
    },
    {
     "name": "stdout",
     "output_type": "stream",
     "text": [
      "Repeat 3/3 for 2 tiers and 30 processes...\n",
      "Database test_2tiers_30processes created with 61 processes and 990 exchanges. There are 60 different background processes used.\n",
      "benchmarking database test_2tiers_30processes...\n"
     ]
    },
    {
     "name": "stderr",
     "output_type": "stream",
     "text": [
      "/Users/ajakobs/miniconda3/envs/timex/lib/python3.11/site-packages/scikits/umfpack/umfpack.py:736: UmfpackWarning: (almost) singular matrix! (estimated cond. number: 9.30e+12)\n",
      "  warnings.warn(msg, UmfpackWarning)\n",
      "\u001b[32m2025-06-18 11:50:51.824\u001b[0m | \u001b[1mINFO    \u001b[0m | \u001b[36mbw_timex.timex_lca\u001b[0m:\u001b[36mbuild_timeline\u001b[0m:\u001b[36m217\u001b[0m - \u001b[1mNo edge filter function provided. Skipping all edges in background databases.\u001b[0m\n"
     ]
    },
    {
     "name": "stdout",
     "output_type": "stream",
     "text": [
      "Starting graph traversal\n",
      "Calculation count: 780\n"
     ]
    },
    {
     "name": "stderr",
     "output_type": "stream",
     "text": [
      "/Users/ajakobs/miniconda3/envs/timex/lib/python3.11/site-packages/bw2calc/lca_base.py:127: SparseEfficiencyWarning: splu converted its input to CSC format\n",
      "  self.solver = factorized(self.technosphere_matrix)\n",
      "/Users/ajakobs/miniconda3/envs/timex/lib/python3.11/site-packages/scikits/umfpack/umfpack.py:736: UmfpackWarning: (almost) singular matrix! (estimated cond. number: 4.49e+12)\n",
      "  warnings.warn(msg, UmfpackWarning)\n",
      "/Users/ajakobs/miniconda3/envs/timex/lib/python3.11/site-packages/scikits/umfpack/umfpack.py:736: UmfpackWarning: (almost) singular matrix! (estimated cond. number: 4.49e+12)\n",
      "  warnings.warn(msg, UmfpackWarning)\n"
     ]
    }
   ],
   "source": [
    "# Clear any existing test systems in the project\n",
    "clear_test_systems()\n",
    "\n",
    "n_processes = np.array([1,2,3,5,10,15,20,25,30])\n",
    "n_tiers = np.array([1,2])\n",
    "time_steps = 3\n",
    "N_repeats = 3  # number of repeats for each test to get averages\n",
    "\n",
    "time_initialize = []\n",
    "time_build_timeline = []\n",
    "time_lci = []\n",
    "time_lcia = []\n",
    "time_total = []\n",
    "\n",
    "# Create foreground databases with different numbers of processes and tiers\n",
    "test_db_names = []\n",
    "n_foreground = []\n",
    "n_exchanges = []\n",
    "n_background = []\n",
    "nr_processes = []\n",
    "nr_tiers = []\n",
    "\n",
    "for n_tier in n_tiers[:]:\n",
    "    for n_process in n_processes[:]:\n",
    "        # repeat to get averages\n",
    "        for repeat in range(N_repeats):\n",
    "            print(f\"Repeat {repeat + 1}/{N_repeats} for {n_tier} tiers and {n_process} processes...\")\n",
    "            nr_processes.append(n_process)\n",
    "            nr_tiers.append(n_tier)\n",
    "            # Create a unique database name based on the number of tiers and processes\n",
    "            db_name = f\"test_{n_tier}tiers_{n_process}processes\"\n",
    "            database_dates = _database_dates(db_name)\n",
    "            test_db_names.append(db_name)\n",
    "            # print(f\"Processing database {db_name} with {n_tier} tiers and {n_process} processes per tier...\")\n",
    "            # Check if the database already exists\n",
    "            if db_name not in bd.databases:\n",
    "                # Create the standardized test system\n",
    "                # print(f\"Creating database {db_name}...\")\n",
    "                db_name = f\"test_{n_tier}tiers_{n_process}processes\"\n",
    "                n_fg, n_exch, n_bg = create_standardized_test_system(db_name=db_name,\n",
    "                                                number_tiers=n_tier,\n",
    "                                                number_processes_per_tier=n_process,\n",
    "                                                td_timesteps=time_steps,\n",
    "                                                td_dtype=\"timedelta64[Y]\",\n",
    "                                                fixed_random_acts=fixed_random_acts,\n",
    "                                                number_background_exchanges_per_process=2,\n",
    "                                                base_background_db_name=\"ei_cutoff_3.11_image_SSP2-M_2020 2025-05-30\",\n",
    "                                                loop=False)\n",
    "                n_foreground.append(n_fg)\n",
    "                n_exchanges.append(n_exch)\n",
    "                n_background.append(n_bg)\n",
    "            \n",
    "            # Process each database\n",
    "            print(f\"benchmarking database {db_name}...\")\n",
    "            # set funcitonal unit\n",
    "            FU_node = bd.Database(db_name).get(\"FU\")\n",
    "            #initialize the TimexLCA object\n",
    "            t0 = time.time()\n",
    "            tlca = TimexLCA(demand={FU_node: 1},\n",
    "            method=method,\n",
    "            database_dates=database_dates,\n",
    "            )\n",
    "            t1 = time.time()\n",
    "            time_initialize.append(t1 - t0)\n",
    "            # build the timeline\n",
    "            t2 = time.time()\n",
    "            tlca.build_timeline()\n",
    "            t3 = time.time()\n",
    "            time_build_timeline.append(t3 - t2)\n",
    "            # run the LCI\n",
    "            t4 = time.time()\n",
    "            tlca.lci()\n",
    "            t5 = time.time()\n",
    "            time_lci.append(t5 - t4)\n",
    "            # run the LCIA\n",
    "            t6 = time.time()\n",
    "            tlca.static_lcia()\n",
    "            t7 = time.time()\n",
    "            time_lcia.append(t7 - t6)\n",
    "            time_total.append(t7 - t0)\n",
    "            # print(f\"{time.ctime()}: Database {db_name} processed in {t7 - t0:.2f} seconds.\")\n",
    "            # print(\"deleting test db from project...\")\n",
    "            del bd.databases[db_name]"
   ]
  },
  {
   "cell_type": "code",
   "execution_count": null,
   "metadata": {},
   "outputs": [],
   "source": [
    "len_processes = len(n_processes)\n",
    "len_tiers = len(n_tiers)\n",
    "# Reshape the results\n",
    "time_initialize = np.asarray(time_initialize).reshape(len_tiers, len_processes, N_repeats)\n",
    "time_build_timeline = np.asarray(time_build_timeline).reshape(len_tiers, len_processes, N_repeats)\n",
    "time_lci = np.asarray(time_lci).reshape(len_tiers, len_processes, N_repeats)\n",
    "time_lcia = np.asarray(time_lcia).reshape(len_tiers, len_processes, N_repeats)\n",
    "time_total = np.asarray(time_total).reshape(len_tiers, len_processes, N_repeats)\n",
    "nr_processes = np.asarray(nr_processes).reshape(len_tiers, len_processes, N_repeats)\n",
    "nr_tiers = np.asarray(nr_tiers).reshape(len_tiers, len_processes, N_repeats)\n",
    "n_foreground = np.asarray(n_foreground).reshape(len_tiers, len_processes, N_repeats)\n",
    "n_exchanges = np.asarray(n_exchanges).reshape(len_tiers, len_processes, N_repeats)\n",
    "n_background = np.asarray(n_background).reshape(len_tiers, len_processes, N_repeats)"
   ]
  },
  {
   "cell_type": "code",
   "execution_count": null,
   "metadata": {},
   "outputs": [],
   "source": [
    "# option to save results\n",
    "\n",
    "import os\n",
    "\n",
    "# Ensure the save_path directory exists\n",
    "save_path = \"~/timex_benchmarking_results\" # change to your name\n",
    "\n",
    "os.makedirs(save_path, exist_ok=True)\n",
    "\n",
    "# List of arrays to save\n",
    "arrays_to_save = [\n",
    "    'time_initialize', 'time_build_timeline', 'time_lci', 'time_lcia', 'time_total',\n",
    "    'nr_processes', 'nr_tiers', 'n_foreground', 'n_exchanges', 'n_background'\n",
    "]\n",
    "\n",
    "for arr_name in arrays_to_save:\n",
    "    arr = globals()[arr_name]\n",
    "    np.save(os.path.join(save_path, f\"{arr_name}.npy\"), arr)"
   ]
  },
  {
   "cell_type": "code",
   "execution_count": 35,
   "metadata": {},
   "outputs": [
    {
     "name": "stdout",
     "output_type": "stream",
     "text": [
      "Database test_1tiers_1processes total time: 18.09 +/- 0.31 seconds.\n",
      "Time to initialize: 4.88 +/- 0.33 seconds.\n",
      "Time to build timeline: 7.65 +/- 0.20 seconds.\n",
      "Time to run LCI: 5.56 +/- 0.04 seconds.\n",
      "Time to run LCIA: 0.00 +/- 0.00 seconds.\n",
      "Database test_1tiers_2processes total time: 21.95 +/- 0.33 seconds.\n",
      "Time to initialize: 5.03 +/- 0.04 seconds.\n",
      "Time to build timeline: 10.74 +/- 0.41 seconds.\n",
      "Time to run LCI: 6.18 +/- 0.07 seconds.\n",
      "Time to run LCIA: 0.00 +/- 0.00 seconds.\n",
      "Database test_1tiers_3processes total time: 26.92 +/- 1.22 seconds.\n",
      "Time to initialize: 5.30 +/- 0.41 seconds.\n",
      "Time to build timeline: 14.61 +/- 0.79 seconds.\n",
      "Time to run LCI: 7.00 +/- 0.25 seconds.\n",
      "Time to run LCIA: 0.00 +/- 0.00 seconds.\n",
      "Database test_1tiers_5processes total time: 34.11 +/- 1.02 seconds.\n",
      "Time to initialize: 5.10 +/- 0.05 seconds.\n",
      "Time to build timeline: 20.96 +/- 0.48 seconds.\n",
      "Time to run LCI: 8.05 +/- 0.65 seconds.\n",
      "Time to run LCIA: 0.00 +/- 0.00 seconds.\n",
      "Database test_1tiers_10processes total time: 51.43 +/- 0.91 seconds.\n",
      "Time to initialize: 5.25 +/- 0.24 seconds.\n",
      "Time to build timeline: 36.26 +/- 0.93 seconds.\n",
      "Time to run LCI: 9.92 +/- 0.29 seconds.\n",
      "Time to run LCIA: 0.00 +/- 0.00 seconds.\n",
      "Database test_1tiers_15processes total time: 66.81 +/- 1.26 seconds.\n",
      "Time to initialize: 4.89 +/- 0.28 seconds.\n",
      "Time to build timeline: 50.73 +/- 0.74 seconds.\n",
      "Time to run LCI: 11.18 +/- 0.39 seconds.\n",
      "Time to run LCIA: 0.00 +/- 0.00 seconds.\n",
      "Database test_1tiers_20processes total time: 87.70 +/- 0.65 seconds.\n",
      "Time to initialize: 5.10 +/- 0.34 seconds.\n",
      "Time to build timeline: 69.42 +/- 0.48 seconds.\n",
      "Time to run LCI: 13.18 +/- 0.03 seconds.\n",
      "Time to run LCIA: 0.00 +/- 0.00 seconds.\n",
      "Database test_1tiers_25processes total time: 105.06 +/- 2.08 seconds.\n",
      "Time to initialize: 5.57 +/- 0.29 seconds.\n",
      "Time to build timeline: 84.20 +/- 2.23 seconds.\n",
      "Time to run LCI: 15.29 +/- 0.21 seconds.\n",
      "Time to run LCIA: 0.00 +/- 0.00 seconds.\n",
      "Database test_1tiers_30processes total time: 118.59 +/- 1.96 seconds.\n",
      "Time to initialize: 5.22 +/- 0.10 seconds.\n",
      "Time to build timeline: 97.10 +/- 1.99 seconds.\n",
      "Time to run LCI: 16.27 +/- 0.09 seconds.\n",
      "Time to run LCIA: 0.00 +/- 0.00 seconds.\n",
      "Database test_2tiers_1processes total time: 20.26 +/- 0.39 seconds.\n",
      "Time to initialize: 5.20 +/- 0.14 seconds.\n",
      "Time to build timeline: 8.51 +/- 0.46 seconds.\n",
      "Time to run LCI: 6.55 +/- 0.05 seconds.\n",
      "Time to run LCIA: 0.00 +/- 0.00 seconds.\n",
      "Database test_2tiers_2processes total time: 26.89 +/- 0.42 seconds.\n",
      "Time to initialize: 5.05 +/- 0.07 seconds.\n",
      "Time to build timeline: 13.38 +/- 0.48 seconds.\n",
      "Time to run LCI: 8.45 +/- 0.02 seconds.\n",
      "Time to run LCIA: 0.00 +/- 0.00 seconds.\n",
      "Database test_2tiers_3processes total time: 34.20 +/- 0.14 seconds.\n",
      "Time to initialize: 5.00 +/- 0.23 seconds.\n",
      "Time to build timeline: 18.02 +/- 0.22 seconds.\n",
      "Time to run LCI: 11.18 +/- 0.05 seconds.\n",
      "Time to run LCIA: 0.00 +/- 0.00 seconds.\n",
      "Database test_2tiers_5processes total time: 44.20 +/- 0.61 seconds.\n",
      "Time to initialize: 4.92 +/- 0.28 seconds.\n",
      "Time to build timeline: 25.09 +/- 0.17 seconds.\n",
      "Time to run LCI: 14.19 +/- 0.21 seconds.\n",
      "Time to run LCIA: 0.00 +/- 0.00 seconds.\n",
      "Database test_2tiers_10processes total time: 78.79 +/- 1.47 seconds.\n",
      "Time to initialize: 5.31 +/- 0.16 seconds.\n",
      "Time to build timeline: 43.03 +/- 1.62 seconds.\n",
      "Time to run LCI: 30.45 +/- 0.85 seconds.\n",
      "Time to run LCIA: 0.00 +/- 0.00 seconds.\n",
      "Database test_2tiers_15processes total time: 101.10 +/- 1.06 seconds.\n",
      "Time to initialize: 5.18 +/- 0.11 seconds.\n",
      "Time to build timeline: 55.23 +/- 0.80 seconds.\n",
      "Time to run LCI: 40.68 +/- 0.20 seconds.\n",
      "Time to run LCIA: 0.00 +/- 0.00 seconds.\n",
      "Database test_2tiers_20processes total time: 140.47 +/- 0.46 seconds.\n",
      "Time to initialize: 5.33 +/- 0.14 seconds.\n",
      "Time to build timeline: 71.87 +/- 0.45 seconds.\n",
      "Time to run LCI: 63.27 +/- 0.16 seconds.\n",
      "Time to run LCIA: 0.00 +/- 0.00 seconds.\n",
      "Database test_2tiers_25processes total time: 180.77 +/- 1.31 seconds.\n",
      "Time to initialize: 5.26 +/- 0.08 seconds.\n",
      "Time to build timeline: 85.78 +/- 0.82 seconds.\n",
      "Time to run LCI: 89.72 +/- 0.41 seconds.\n",
      "Time to run LCIA: 0.00 +/- 0.00 seconds.\n",
      "Database test_2tiers_30processes total time: 218.98 +/- 0.79 seconds.\n",
      "Time to initialize: 5.43 +/- 0.13 seconds.\n",
      "Time to build timeline: 99.03 +/- 0.90 seconds.\n",
      "Time to run LCI: 114.51 +/- 0.17 seconds.\n",
      "Time to run LCIA: 0.00 +/- 0.00 seconds.\n"
     ]
    }
   ],
   "source": [
    "for i,tier in enumerate(n_tiers[:]):\n",
    "    for j,process in enumerate(n_processes[:]):\n",
    "        db_name = f\"test_{tier}tiers_{process}processes\"\n",
    "        print(f\"Database {db_name} total time: {time_total[i,j,:].mean():.2f} +/- {time_total[i,j,:].std():.2f} seconds.\")\n",
    "        print(f\"Time to initialize: {time_initialize[i,j,:].mean():.2f} +/- {time_initialize[i,j,:].std():.2f} seconds.\")\n",
    "        print(f\"Time to build timeline: {time_build_timeline[i,j,:].mean():.2f} +/- {time_build_timeline[i,j,:].std():.2f} seconds.\")\n",
    "        print(f\"Time to run LCI: {time_lci[i,j,:].mean():.2f} +/- {time_lci[i,j,:].std():.2f} seconds.\")\n",
    "        print(f\"Time to run LCIA: {time_lcia[i,j,:].mean():.2f} +/- {time_lcia[i,j,:].std():.2f} seconds.\")"
   ]
  },
  {
   "cell_type": "markdown",
   "metadata": {},
   "source": [
    "# Plotting the results"
   ]
  },
  {
   "cell_type": "code",
   "execution_count": null,
   "metadata": {},
   "outputs": [],
   "source": [
    "# import plotting libraries\n",
    "from matplotlib import pyplot as plt\n",
    "import seaborn as sns\n",
    "sns.set_theme()"
   ]
  },
  {
   "cell_type": "markdown",
   "metadata": {},
   "source": [
    "## Plot the time for the different TLCA steps vs the nr of processes (per tier) "
   ]
  },
  {
   "cell_type": "code",
   "execution_count": 36,
   "metadata": {},
   "outputs": [
    {
     "data": {
      "image/png": "[encoded data removed]",
      "text/plain": [
       "<Figure size 640x480 with 4 Axes>"
      ]
     },
     "metadata": {},
     "output_type": "display_data"
    }
   ],
   "source": [
    "timing_cat_names = ['initialization','building timeline', 'calculating lci', 'total time']\n",
    "timing_cats = [time_initialize,time_build_timeline, time_lci, time_total]\n",
    "fig = plt.figure()\n",
    "\n",
    "for i,(cat_name, timing_cat) in enumerate(zip(timing_cat_names, timing_cats)):\n",
    "   \n",
    "    ax = fig.add_subplot(2,2,i+1)\n",
    "    ax.set_xlabel('Number of Proceses')\n",
    "    ax.set_ylabel('Computation Time (s)')\n",
    "    ax.set_title(cat_name)\n",
    "    for j,n_tier in enumerate(n_tiers[:]):\n",
    "        ax.errorbar(nr_processes[j,:,:].mean(axis=1), timing_cat[j,:,:].mean(axis=1), yerr=timing_cat[j,:,:].std(axis=1),  label=f'{n_tier} Tiers')\n",
    "    \n",
    "    if i == 0:\n",
    "        ax.legend(frameon=False)   \n",
    "\n",
    "fig.suptitle('Computation time')\n",
    "plt.tight_layout()\n",
    "\n",
    "\n"
   ]
  },
  {
   "cell_type": "markdown",
   "metadata": {},
   "source": [
    "## Plot the Total time against the various metrics (nr of processes, exchanges, etc)"
   ]
  },
  {
   "cell_type": "code",
   "execution_count": 44,
   "metadata": {},
   "outputs": [
    {
     "data": {
      "image/png": "[encoded data removed]",
      "text/plain": [
       "<Figure size 640x480 with 4 Axes>"
      ]
     },
     "metadata": {},
     "output_type": "display_data"
    }
   ],
   "source": [
    "timing_cat_names = ['# foreground processes','# of exchanges (in fg)', '# background processes', '# processes per tier']\n",
    "timing_cats = [n_foreground, n_exchanges, n_background, nr_processes]\n",
    "\n",
    "fig = plt.figure()\n",
    "\n",
    "for i,(cat_name,timing_cat) in enumerate(zip(timing_cat_names, timing_cats)):\n",
    "   \n",
    "    ax = fig.add_subplot(2,2,i+1)\n",
    "    ax.set_xlabel(cat_name)\n",
    "    ax.set_ylabel('Time (s)')\n",
    "    # ax.set_title(cat_name)\n",
    "    for j,n_tier in enumerate(n_tiers[:2]):\n",
    "        ax.errorbar(timing_cat[j,:,:].mean(axis=1), time_total[j,:,:].mean(axis=1), yerr=time_total[j,:,:].std(axis=1), label=f'{n_tier} Tiers')\n",
    "    \n",
    "    if i == 0:\n",
    "        ax.legend(frameon=False)   \n",
    "\n",
    "fig.suptitle('Total time')\n",
    "plt.tight_layout()\n",
    "\n",
    "\n"
   ]
  },
  {
   "cell_type": "code",
   "execution_count": 45,
   "metadata": {},
   "outputs": [],
   "source": [
    "## Plot the time to build the timeline against the various metrics (nr of processes, exchanges, etc)"
   ]
  },
  {
   "cell_type": "code",
   "execution_count": 46,
   "metadata": {},
   "outputs": [
    {
     "data": {
      "image/png": "[encoded data removed]",
      "text/plain": [
       "<Figure size 640x480 with 4 Axes>"
      ]
     },
     "metadata": {},
     "output_type": "display_data"
    }
   ],
   "source": [
    "\n",
    "\n",
    "fig = plt.figure()\n",
    "\n",
    "for i,(cat_name,timing_cat) in enumerate(zip(timing_cat_names, timing_cats)):\n",
    "   \n",
    "    ax = fig.add_subplot(2,2,i+1)\n",
    "    ax.set_xlabel(cat_name)\n",
    "    ax.set_ylabel('Time (s)')\n",
    "    # ax.set_title(cat_name)\n",
    "    for j,n_tier in enumerate(n_tiers[:2]):\n",
    "        ax.errorbar(timing_cat[j,:,:].mean(axis=1), time_build_timeline[j,:,:].mean(axis=1), yerr=time_build_timeline[j,:,:].std(axis=1), label=f'{n_tier} Tiers')\n",
    "    \n",
    "    if i == 0:\n",
    "        ax.legend(frameon=False)   \n",
    "\n",
    "fig.suptitle('Building timeline')\n",
    "plt.tight_layout()\n",
    "\n",
    "\n"
   ]
  },
  {
   "cell_type": "markdown",
   "metadata": {},
   "source": [
    "## Plot the LCI calculation time against the various metrics (nr of processes, exchanges, etc)"
   ]
  },
  {
   "cell_type": "code",
   "execution_count": 47,
   "metadata": {},
   "outputs": [
    {
     "data": {
      "image/png": "[encoded data removed]",
      "text/plain": [
       "<Figure size 640x480 with 4 Axes>"
      ]
     },
     "metadata": {},
     "output_type": "display_data"
    }
   ],
   "source": [
    "\n",
    "fig = plt.figure()\n",
    "\n",
    "for i,(cat_name,timing_cat) in enumerate(zip(timing_cat_names, timing_cats)):\n",
    "   \n",
    "    ax = fig.add_subplot(2,2,i+1)\n",
    "    ax.set_xlabel(cat_name)\n",
    "    ax.set_ylabel('Time (s)')\n",
    "    # ax.set_title(cat_name)\n",
    "    for j,n_tier in enumerate(n_tiers[:2]):\n",
    "        ax.errorbar(timing_cat[j,:,:].mean(axis=1), time_lci[j,:,:].mean(axis=1), yerr=time_lci[j,:,:].std(axis=1), label=f'{n_tier} Tiers')\n",
    "    \n",
    "    if i == 0:\n",
    "        ax.legend(frameon=False)   \n",
    "\n",
    "fig.suptitle('Calculating LCI')\n",
    "plt.tight_layout()\n",
    "\n",
    "\n"
   ]
  },
  {
   "cell_type": "code",
   "execution_count": null,
   "metadata": {},
   "outputs": [],
   "source": []
  }
 ],
 "metadata": {
  "kernelspec": {
   "display_name": "timex",
   "language": "python",
   "name": "python3"
  },
  "language_info": {
   "codemirror_mode": {
    "name": "ipython",
    "version": 3
   },
   "file_extension": ".py",
   "mimetype": "text/x-python",
   "name": "python",
   "nbconvert_exporter": "python",
   "pygments_lexer": "ipython3",
   "version": "3.11.12"
  }
 },
 "nbformat": 4,
 "nbformat_minor": 2
}
