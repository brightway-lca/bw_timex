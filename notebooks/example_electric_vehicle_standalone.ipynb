{
    "cells": [
        {
            "cell_type": "markdown",
            "metadata": {},
            "source": [
                "# Time-explicit LCA of an electric vehicle\n"
            ]
        },
        {
            "cell_type": "markdown",
            "metadata": {},
            "source": [
                "This notebook shows how to use `bw_timex` with a cradle-to-grave case study of an electric vehicle (ev). The case study is simplified, not meant to reflect the complexity of electric mobility but to demonstrate how to use `bw_timex`. \n",
                "\n",
                "> **Note:** This is the \"standalone\" version of this notebook with some made up background processes, but there is also a version available that works with ecoinvent and premise databases."
            ]
        },
        {
            "cell_type": "markdown",
            "metadata": {},
            "source": [
                "## Prospective background databases\n",
                "\n",
                "The `bw_timex` package itself does not provide any data - specifying prospective and dynamic information is up to the user. To make this notebook executable for anyone, anywhere, and not rely on any external data, we make up three different background databases for this example, representing the years 2020, 2030 and 2040. Also, we create a very simple biosphere database."
            ]
        },
        {
            "cell_type": "code",
            "execution_count": null,
            "metadata": {},
            "outputs": [],
            "source": [
                "import bw2data as bd\n",
                "\n",
                "bd.projects.set_current(\"electric_vehicle_standalone\")\n",
                "\n",
                "# making sure to start fresh\n",
                "for db in list(bd.databases):\n",
                "    del bd.databases[db]"
            ]
        },
        {
            "cell_type": "code",
            "execution_count": null,
            "metadata": {},
            "outputs": [],
            "source": [
                "biosphere = bd.Database(\"biosphere\")\n",
                "biosphere.write(\n",
                "    {\n",
                "        (\"biosphere\", \"CO2\"): {\n",
                "            \"type\": \"emission\",\n",
                "            \"name\": \"carbon dioxide\",\n",
                "        },\n",
                "    }\n",
                ")\n",
                "\n",
                "background_2020 = bd.Database(\"background_2020\")\n",
                "background_2030 = bd.Database(\"background_2030\")\n",
                "background_2040 = bd.Database(\"background_2040\")\n",
                "\n",
                "background_2020.write({})\n",
                "background_2030.write({})\n",
                "background_2040.write({})\n",
                "\n",
                "background_databases = [\n",
                "    background_2020,\n",
                "    background_2030,\n",
                "    background_2040,\n",
                "]"
            ]
        },
        {
            "cell_type": "markdown",
            "metadata": {},
            "source": [
                "We now create some very simple processes within these databases. These process get only one aggregated CO2-emission each. The amounts of these emissions change over time."
            ]
        },
        {
            "cell_type": "code",
            "execution_count": null,
            "metadata": {},
            "outputs": [],
            "source": [
                "process_co2_emissions = {\n",
                "    \"glider\": (10, 5, 2.5), # for 2020, 2030 and 2040\n",
                "    \"powertrain\": (20, 10, 7.5),\n",
                "    \"battery\": (10, 5, 4),\n",
                "    \"electricity\": (0.5, 0.25, 0.075),\n",
                "    \"glider_eol\": (0.01, 0.0075, 0.005),\n",
                "    \"powertrain_eol\": (0.01, 0.0075, 0.005),\n",
                "    \"battery_eol\": (1, 0.5, 0.25),\n",
                "}\n",
                "\n",
                "node_co2 = biosphere.get(\"CO2\")\n",
                "\n",
                "for component_name, gwis in process_co2_emissions.items():\n",
                "    for database, gwi in zip(background_databases, gwis):\n",
                "        database.new_node(component_name, name=component_name, location=\"somewhere\").save()\n",
                "        component = database.get(component_name)\n",
                "        component[\"reference product\"] = component_name        \n",
                "        component.save()\n",
                "        production_amount = -1 if \"eol\" in component_name else 1\n",
                "        component.new_edge(input=component, amount=production_amount, type=\"production\").save()\n",
                "        component.new_edge(input=node_co2, amount=gwi, type=\"biosphere\").save()       \n",
                "    "
            ]
        },
        {
            "cell_type": "markdown",
            "metadata": {},
            "source": [
                "## Case study setup\n"
            ]
        },
        {
            "cell_type": "markdown",
            "metadata": {},
            "source": [
                "In this study, we consider the following production system for our ev. Purple boxes are foreground, cyan boxes are background (i.e., ecoinvent/premise)."
            ]
        },
        {
            "cell_type": "markdown",
            "metadata": {},
            "source": [
                "```{mermaid}\n",
                "flowchart LR\n",
                "    glider_production(glider production):::ei-->ev_production\n",
                "    powertrain_production(powertrain production):::ei-->ev_production\n",
                "    battery_production(battery production):::ei-->ev_production\n",
                "    ev_production(ev production):::fg-->driving\n",
                "    electricity_generation(electricity generation):::ei-->driving\n",
                "    driving(driving):::fg-->used_ev\n",
                "    used_ev(used ev):::fg-->glider_eol(glider eol):::ei\n",
                "    used_ev-->powertrain_eol(powertrain eol):::ei\n",
                "    used_ev-->battery_eol(battery eol):::ei\n",
                "\n",
                "    classDef ei color:#222832, fill:#3fb1c5, stroke:none;\n",
                "    classDef fg color:#222832, fill:#9c5ffd, stroke:none;\n",
                "```"
            ]
        },
        {
            "cell_type": "markdown",
            "metadata": {},
            "source": [
                "### Modeling the production system\n",
                "\n",
                "Now, we need to build this with brightway. If you are not interested in the modeling details, feel free to skip this section.\n",
                "\n",
                "For our ev model we make the following assumptions:"
            ]
        },
        {
            "cell_type": "code",
            "execution_count": null,
            "metadata": {},
            "outputs": [],
            "source": [
                "ELECTRICITY_CONSUMPTION = 0.2 # kWh/km\n",
                "MILEAGE = 150_000 # km\n",
                "LIFETIME = 15 # years\n",
                "\n",
                "# Overall mass: 1200 kg\n",
                "MASS_GLIDER = 840 # kg\n",
                "MASS_POWERTRAIN = 80 # kg\n",
                "MASS_BATTERY = 280 # kg"
            ]
        },
        {
            "cell_type": "markdown",
            "metadata": {},
            "source": [
                "First, we create a new foreground database:"
            ]
        },
        {
            "cell_type": "code",
            "execution_count": null,
            "metadata": {},
            "outputs": [],
            "source": [
                "if \"foreground\" in bd.databases:\n",
                "    del bd.databases[\"foreground\"] # to make sure we create the foreground from scratch\n",
                "foreground = bd.Database(\"foreground\")\n",
                "foreground.register()"
            ]
        },
        {
            "cell_type": "markdown",
            "metadata": {},
            "source": [
                "Now, let's creating the foreground activities:\n"
            ]
        },
        {
            "cell_type": "code",
            "execution_count": null,
            "metadata": {},
            "outputs": [],
            "source": [
                "ev_production = foreground.new_node(\"ev_production\", name=\"production of an electric vehicle\", unit=\"unit\")\n",
                "ev_production['reference product'] = \"electric vehicle\"\n",
                "ev_production.save()\n",
                "\n",
                "driving = foreground.new_node(\"driving\", name=\"driving an electric vehicle\", unit=\"transport over an ev lifetime\")\n",
                "driving['reference product'] = \"transport\"\n",
                "driving.save()\n",
                "\n",
                "used_ev = foreground.new_node(\"used_ev\", name=\"used electric vehicle\", unit=\"unit\")\n",
                "used_ev['reference product'] = \"used electric vehicle\"\n",
                "used_ev.save()"
            ]
        },
        {
            "cell_type": "markdown",
            "metadata": {},
            "source": [
                "Now, let's build the exchanges, starting with the ev production:"
            ]
        },
        {
            "cell_type": "code",
            "execution_count": null,
            "metadata": {},
            "outputs": [],
            "source": [
                "glider_production = background_2020.get(code=\"glider\")\n",
                "powertrain_production = background_2020.get(code=\"powertrain\")\n",
                "battery_production = background_2020.get(code=\"battery\")\n",
                "\n",
                "ev_production.new_edge(input=ev_production, amount=1, type=\"production\").save()\n",
                "\n",
                "glider_to_ev = ev_production.new_edge(\n",
                "    input=glider_production,\n",
                "    amount=MASS_GLIDER, \n",
                "    type=\"technosphere\"\n",
                ")\n",
                "powertrain_to_ev = ev_production.new_edge(\n",
                "    input=powertrain_production, \n",
                "    amount=MASS_POWERTRAIN, \n",
                "    type=\"technosphere\"\n",
                ")\n",
                "battery_to_ev = ev_production.new_edge(\n",
                "    input=battery_production, \n",
                "    amount=MASS_BATTERY, \n",
                "    type=\"technosphere\"\n",
                ")"
            ]
        },
        {
            "cell_type": "markdown",
            "metadata": {},
            "source": [
                "... the end of life:"
            ]
        },
        {
            "cell_type": "code",
            "execution_count": null,
            "metadata": {},
            "outputs": [],
            "source": [
                "glider_eol = background_2020.get(name=\"glider_eol\")\n",
                "powertrain_eol = background_2020.get(name=\"powertrain_eol\")\n",
                "battery_eol = background_2020.get(name=\"battery_eol\")\n",
                "\n",
                "used_ev.new_edge(input=used_ev, amount=-1, type=\"production\").save()  # -1 as this gets rid of a used car\n",
                "\n",
                "used_ev_to_glider_eol = used_ev.new_edge(\n",
                "    input=glider_eol,\n",
                "    amount=-MASS_GLIDER,\n",
                "    type=\"technosphere\",\n",
                ")\n",
                "used_ev_to_powertrain_eol = used_ev.new_edge(\n",
                "    input=powertrain_eol,\n",
                "    amount=-MASS_POWERTRAIN,\n",
                "    type=\"technosphere\",\n",
                ")\n",
                "used_ev_to_battery_eol = used_ev.new_edge(\n",
                "    input=battery_eol,\n",
                "    amount=-MASS_BATTERY,\n",
                "    type=\"technosphere\",\n",
                ")"
            ]
        },
        {
            "cell_type": "markdown",
            "metadata": {},
            "source": [
                "...and, finally, driving:"
            ]
        },
        {
            "cell_type": "code",
            "execution_count": null,
            "metadata": {},
            "outputs": [],
            "source": [
                "electricity_production = background_2020.get(name=\"electricity\")\n",
                "\n",
                "driving.new_edge(input=driving, amount=1, type=\"production\").save()\n",
                "\n",
                "driving_to_used_ev = driving.new_edge(input=used_ev, amount=-1, type=\"technosphere\")\n",
                "ev_to_driving = driving.new_edge(\n",
                "    input=ev_production, \n",
                "    amount=1, \n",
                "    type=\"technosphere\"\n",
                ")\n",
                "electricity_to_driving = driving.new_edge(\n",
                "    input=electricity_production,\n",
                "    amount=ELECTRICITY_CONSUMPTION * MILEAGE,\n",
                "    type=\"technosphere\",\n",
                ")"
            ]
        },
        {
            "cell_type": "markdown",
            "metadata": {},
            "source": [
                "### Adding temporal information\n",
                "\n",
                "Now that the production system is modelled, we can add temporal distributions at the exchange level. The temporal information we want to embed in our product system looks somewhat like this:\n",
                "\n",
                "```{mermaid}\n",
                "flowchart LR\n",
                "    glider_production(glider production):::ei-->|0-2 years prior|ev_production\n",
                "    powertrain_production(powertrain production):::ei-->|1 year prior|ev_production\n",
                "    battery_production(battery production):::ei-->|1 year prior|ev_production\n",
                "    ev_production(ev production):::fg-->|0-3 months prior|driving\n",
                "    electricity_generation(electricity generation):::ei-->|uniformly distributed \\n over lifetime|driving\n",
                "    driving(driving):::fg-->|after ev lifetime|used_ev\n",
                "    used_ev(used ev):::fg-->|3 months after \\n ev lifetime|glider_eol(glider eol):::ei\n",
                "    used_ev-->|3 months after \\n ev lifetime|powertrain_eol(powertrain eol):::ei\n",
                "    used_ev-->|3 months after \\n ev lifetime|battery_eol(battery eol):::ei\n",
                "\n",
                "    classDef ei color:#222832, fill:#3fb1c5, stroke:none;\n",
                "    classDef fg color:#222832, fill:#9c5ffd, stroke:none;\n",
                "```\n",
                "\n",
                "To include this temopral information, we use the `TemporalDistribution` class from `bw_temporalis`. For more info, take a look at the [bw_temporalis documentation](https://github.com/brightway-lca/bw_temporalis).\n",
                "\n",
                "Notably, in addition to the timestamp of the occurence of the process (which is shown in the flowchart above), we also need to specify the amount share of the exchange that happens at that time to fully define a `TemporalDistribution`.\n"
            ]
        },
        {
            "cell_type": "code",
            "execution_count": null,
            "metadata": {},
            "outputs": [],
            "source": [
                "from bw_temporalis import TemporalDistribution, easy_timedelta_distribution\n",
                "import numpy as np\n",
                "\n",
                "td_assembly_and_delivery = TemporalDistribution(\n",
                "    date=np.array([-3, -2], dtype=\"timedelta64[M]\"), amount=np.array([0.2, 0.8])\n",
                ")\n",
                "\n",
                "td_glider_production = TemporalDistribution(\n",
                "    date=np.array([-2, -1, 0], dtype=\"timedelta64[Y]\"), amount=np.array([0.7, 0.1, 0.2])\n",
                ")\n",
                "\n",
                "td_produce_powertrain_and_battery = TemporalDistribution(\n",
                "    date=np.array([-1], dtype=\"timedelta64[Y]\"), amount=np.array([1])\n",
                ")\n",
                "\n",
                "td_use_phase = easy_timedelta_distribution(\n",
                "    start=0,\n",
                "    end=LIFETIME,\n",
                "    resolution=\"Y\",\n",
                "    steps=(LIFETIME + 1),\n",
                "    kind=\"uniform\", # you can also do \"normal\" or \"triangular\" distributions\n",
                ")\n",
                "\n",
                "td_disassemble_used_ev = TemporalDistribution(\n",
                "    date=np.array([LIFETIME + 1], dtype=\"timedelta64[Y]\"), amount=np.array([1])\n",
                ")\n",
                "\n",
                "td_treating_waste = TemporalDistribution(\n",
                "    date=np.array([3], dtype=\"timedelta64[M]\"), amount=np.array([1])\n",
                ")"
            ]
        },
        {
            "cell_type": "markdown",
            "metadata": {},
            "source": [
                "Let's explore what a `TemporalDistribution` looks like:"
            ]
        },
        {
            "cell_type": "code",
            "execution_count": null,
            "metadata": {},
            "outputs": [],
            "source": [
                "td_assembly_and_delivery.graph(resolution=\"M\")"
            ]
        },
        {
            "cell_type": "code",
            "execution_count": null,
            "metadata": {},
            "outputs": [],
            "source": [
                "td_glider_production.graph(resolution=\"M\")"
            ]
        },
        {
            "cell_type": "markdown",
            "metadata": {},
            "source": [
                "Starting from the functional unit in our supply chain graph, the temporal distributions of consecutive edges get \"multiplied\", or more specifically, convolved. Let's look at an example to clarify this. The assembly and delivery of our ev happens either 2 or 3 months before we can start using it. Each of these occurences of this process demands a glider, which also has a temporal distribution that then gets convolved \"back in time\". Also pay attention to how the amounts get scaled."
            ]
        },
        {
            "cell_type": "code",
            "execution_count": null,
            "metadata": {},
            "outputs": [],
            "source": [
                "(td_assembly_and_delivery * td_glider_production).graph(resolution=\"M\")"
            ]
        },
        {
            "cell_type": "markdown",
            "metadata": {},
            "source": [
                "We now add the temporal information to the exchanges of our EV. We add temporal distributions to all (technosphere) exchanges, but you don't have to.\n"
            ]
        },
        {
            "cell_type": "code",
            "execution_count": null,
            "metadata": {},
            "outputs": [],
            "source": [
                "glider_to_ev[\"temporal_distribution\"] = td_glider_production\n",
                "glider_to_ev.save()\n",
                "\n",
                "powertrain_to_ev[\"temporal_distribution\"] = td_produce_powertrain_and_battery\n",
                "powertrain_to_ev.save()\n",
                "\n",
                "battery_to_ev[\"temporal_distribution\"] = td_produce_powertrain_and_battery\n",
                "battery_to_ev.save()\n",
                "\n",
                "ev_to_driving[\"temporal_distribution\"] = td_assembly_and_delivery\n",
                "ev_to_driving.save()\n",
                "\n",
                "electricity_to_driving[\"temporal_distribution\"] = td_use_phase\n",
                "electricity_to_driving.save()\n",
                "\n",
                "driving_to_used_ev[\"temporal_distribution\"] = td_disassemble_used_ev\n",
                "driving_to_used_ev.save()\n",
                "\n",
                "used_ev_to_glider_eol[\"temporal_distribution\"] = td_treating_waste\n",
                "used_ev_to_glider_eol.save()\n",
                "\n",
                "used_ev_to_powertrain_eol[\"temporal_distribution\"] = td_treating_waste\n",
                "used_ev_to_powertrain_eol.save()\n",
                "\n",
                "used_ev_to_battery_eol[\"temporal_distribution\"] = td_treating_waste\n",
                "used_ev_to_battery_eol.save()"
            ]
        },
        {
            "cell_type": "markdown",
            "metadata": {},
            "source": [
                "### Add a characterization method"
            ]
        },
        {
            "cell_type": "markdown",
            "metadata": {},
            "source": [
                "Finally, we need some characterization method. Again, this is just a simple made-up one:"
            ]
        },
        {
            "cell_type": "code",
            "execution_count": null,
            "metadata": {},
            "outputs": [],
            "source": [
                "bd.Method((\"GWP\", \"example\")).write(\n",
                "    [\n",
                "        ((\"biosphere\", \"CO2\"), 1),\n",
                "    ]\n",
                ")"
            ]
        },
        {
            "cell_type": "markdown",
            "metadata": {},
            "source": [
                "## LCA using `bw_timex`\n"
            ]
        },
        {
            "cell_type": "markdown",
            "metadata": {},
            "source": [
                "Now that the data is set up, we can get startet with the actual time-explicit LCA. As usual, we need to select a method first:"
            ]
        },
        {
            "cell_type": "code",
            "execution_count": null,
            "metadata": {},
            "outputs": [],
            "source": [
                "method = (\"GWP\", \"example\")"
            ]
        },
        {
            "cell_type": "markdown",
            "metadata": {},
            "source": [
                "`bw_timex` needs to know the representative time of the databases:"
            ]
        },
        {
            "cell_type": "code",
            "execution_count": null,
            "metadata": {},
            "outputs": [],
            "source": [
                "from datetime import datetime\n",
                "\n",
                "database_dates = {\n",
                "    background_2020.name: datetime.strptime(\"2020\", \"%Y\"),\n",
                "    background_2030.name: datetime.strptime(\"2030\", \"%Y\"),\n",
                "    background_2040.name: datetime.strptime(\"2040\", \"%Y\"),\n",
                "    \"foreground\": \"dynamic\",  # flag databases that should be temporally distributed with \"dynamic\"\n",
                "}"
            ]
        },
        {
            "cell_type": "markdown",
            "metadata": {},
            "source": [
                "Now, we can instantiate a `TimexLCA`. It's structure is similar to a normal `bw2calc.LCA`, but with the additional argument `database_dates`.\n",
                "\n",
                "Not sure about the required inputs? Check the documentation using `?`. All our classes and methods have docstrings!"
            ]
        },
        {
            "cell_type": "code",
            "execution_count": null,
            "metadata": {},
            "outputs": [],
            "source": [
                "from bw_timex import TimexLCA\n",
                "TimexLCA?"
            ]
        },
        {
            "cell_type": "markdown",
            "metadata": {},
            "source": [
                "Let's create a `TimexLCA` object for our EV life cycle:"
            ]
        },
        {
            "cell_type": "code",
            "execution_count": null,
            "metadata": {},
            "outputs": [],
            "source": [
                "tlca = TimexLCA({driving: 1}, method, database_dates)"
            ]
        },
        {
            "cell_type": "markdown",
            "metadata": {},
            "source": [
                "Next, we build a timeline of the exchanges. To do this, we can call the `build_timeline()` method, which does the graph traversal and creates a timeline dataframe from the results. The exchanges (rows of the dataframe) are aggregated to the resolution specified in the argument `temporal_grouping`. There are also many more options to specify the timeline creation and graph traversal process. Here are the most important ones:\n",
                "- `temporal_grouping`: temporal resolution to which processes will be aggregated,\"year\" (default), \"month\", \"day\" or \"hour\"\n",
                "- `interpolation_type`: How the best fitting background database is selected: \"linear\"(default), \"closest\"\n",
                "- `edge_filter_function`: Custom filter function specifying when to stop the graph traversal.\n",
                "- `cutoff`: stops graph traversal for nodes below this contribution to the static impact score.\n",
                "- `max_calc`: stops graph traversal if this number of nodes has been traversed\n",
                "\n",
                "For all these options, we provide sensible default values. Of course you can always just check the docstrings to see all your options and our assumptions for default values. \n",
                "\n",
                "So, let's build the timeline. We choose a monthly temporal grouping here because we use that resolution in our temporal distributions.\n"
            ]
        },
        {
            "cell_type": "code",
            "execution_count": null,
            "metadata": {},
            "outputs": [],
            "source": [
                "tlca.build_timeline(temporal_grouping=\"month\")"
            ]
        },
        {
            "cell_type": "markdown",
            "metadata": {},
            "source": [
                "The interpolation weights in the timeline (right most column above) specify the share of the amount of an exchange to be sourced from the respective database. \n",
                "`None` means that the exchange is in the foreground supply chain, and not at the intersection with the background system.  "
            ]
        },
        {
            "cell_type": "markdown",
            "metadata": {},
            "source": [
                "Next, we calculate the time-explicit LCI. The `TimexLCA.lci()` function takes care of all the relinking, based on the information from the timeline. "
            ]
        },
        {
            "cell_type": "code",
            "execution_count": null,
            "metadata": {},
            "outputs": [],
            "source": [
                "tlca.lci()"
            ]
        },
        {
            "cell_type": "markdown",
            "metadata": {},
            "source": [
                "Taking a look at the `dynamic_inventory` that was now created, we can see that it has more rows (emissions) one - even though co2 is the only biosphere flow we modeled. Instead of one row for each emission in the biosphere database we now get one row for each emission at each point in time."
            ]
        },
        {
            "cell_type": "code",
            "execution_count": null,
            "metadata": {},
            "outputs": [],
            "source": [
                "tlca.dynamic_inventory"
            ]
        },
        {
            "cell_type": "markdown",
            "metadata": {},
            "source": [
                "The standard, non-dynamic inventory has far less rows because the temporal resolution is missing. Looking at the timeline again, we see that we have processes at 23 different points in time (only counting the ones that actually directly produce emissions), which exactly matches the ratio of the dimensions of our two inventories:"
            ]
        },
        {
            "cell_type": "code",
            "execution_count": null,
            "metadata": {},
            "outputs": [],
            "source": [
                "tlca.base_lca.inventory.shape # (#rows, #cols)"
            ]
        },
        {
            "cell_type": "code",
            "execution_count": null,
            "metadata": {},
            "outputs": [],
            "source": [
                "tlca.dynamic_inventory.shape[0]/tlca.base_lca.inventory.shape[0]"
            ]
        },
        {
            "cell_type": "markdown",
            "metadata": {},
            "source": [
                "While under the hood, the dynamic inventory is calculated as a sparse matrix, there is also a more human-friendly version as a pandas DataFrame:"
            ]
        },
        {
            "cell_type": "code",
            "execution_count": null,
            "metadata": {},
            "outputs": [],
            "source": [
                "tlca.dynamic_inventory_df"
            ]
        },
        {
            "cell_type": "markdown",
            "metadata": {},
            "source": [
                "If we are only interested in the new overall time-explicit scores and don't care about the timing of the emissions, we can set `build_dynamic_biosphere=False` (default is `True`), which saves time and memory. In that case, you only get the `TimexLCA.inventory`, but not the `TimexLCA.dynamic_inventory`."
            ]
        },
        {
            "cell_type": "markdown",
            "metadata": {},
            "source": [
                "In case the timing of emissions is not important, one can directly calculate the LCIA the \"standard way\" using static characterization methods. Per default, the following calculates the static lcia score based on the impact method chosen in the very beginning:"
            ]
        },
        {
            "cell_type": "code",
            "execution_count": null,
            "metadata": {},
            "outputs": [],
            "source": [
                "tlca.static_lcia()\n",
                "tlca.static_score   #kg CO2-eq"
            ]
        },
        {
            "cell_type": "markdown",
            "metadata": {},
            "source": [
                "At this point, we can already compare these time-explicit results to the results of an \"ordinary\", completely static LCA. These already exist within the TimexLCA class, originally to set the priorities for the graph traversal:"
            ]
        },
        {
            "cell_type": "code",
            "execution_count": null,
            "metadata": {},
            "outputs": [],
            "source": [
                "tlca.base_lca.score"
            ]
        },
        {
            "cell_type": "markdown",
            "metadata": {},
            "source": [
                "## Dynamic Characterization\n",
                "In addition to the standard static characterization, the time-explicit, dynamic inventory generated by a `TimexLCA` allows for dynamic characterization. Users can provide their own dynamic characterization functions and link them to corresponding biosphere flows (see example on [dynamic characterization](https://github.com/TimoDiepers/timex/blob/main/notebooks/example_simple_dynamic_characterization.ipynb)). \n",
                "\n",
                "Alternatively, you can use the functions from our separate (but fully compatible) package [dynamic_characterization](https://dynamic-characterization.readthedocs.io/en/latest/). We provide two different metrics for dynamic LCIA of Climate Change: Radiative forcing [W/m2] and Global Warming Potential (GWP) [kg CO2-eq]. For both of these metrics, we have parameterized dynamic characterization functions for all GHG's that [IPCC AR6](https://www.ipcc.ch/report/ar6/wg1/chapter/chapter-7/) provides data for.\n",
                "\n",
                "For the dynamic characterization, users can also choose the length of the considered time horizon (`time_horizon`) and whether it is a fixed time horizon (`fixed_time_horizon`). Fixed means that the time horizon for all emissions (no matter when they occur) starts counting at the time of the functional unit, resulting in shorter time horizons for emissions occuring later. If the time horizon is not fixed (this is what conventional impact assessment factors assume), it starts counting from the timing of the emission.\n"
            ]
        },
        {
            "cell_type": "markdown",
            "metadata": {},
            "source": [
                "### Radiative forcing\n"
            ]
        },
        {
            "cell_type": "markdown",
            "metadata": {},
            "source": [
                "First, let's import a dynamic characterization function for CO2"
            ]
        },
        {
            "cell_type": "code",
            "execution_count": null,
            "metadata": {},
            "outputs": [],
            "source": [
                "from dynamic_characterization.ipcc_ar6.radiative_forcing import characterize_co2"
            ]
        },
        {
            "cell_type": "markdown",
            "metadata": {},
            "source": [
                "Then, we can create the characterization_functions where we map the function to the corresponding flow via its ID:"
            ]
        },
        {
            "cell_type": "code",
            "execution_count": null,
            "metadata": {},
            "outputs": [],
            "source": [
                "characterization_functions = {\n",
                "    bd.get_node(code=\"CO2\").id: characterize_co2,\n",
                "}"
            ]
        },
        {
            "cell_type": "markdown",
            "metadata": {},
            "source": [
                "Now we can do the actual dynamic characterization:"
            ]
        },
        {
            "cell_type": "code",
            "execution_count": null,
            "metadata": {},
            "outputs": [],
            "source": [
                "tlca.dynamic_lcia(metric=\"radiative_forcing\", fixed_time_horizon=True, characterization_functions=characterization_functions)"
            ]
        },
        {
            "cell_type": "markdown",
            "metadata": {},
            "source": [
                "The method call returns a dataframe of all the individual emissions at their respective timesteps, but we can also just look at the overall score:"
            ]
        },
        {
            "cell_type": "code",
            "execution_count": null,
            "metadata": {},
            "outputs": [],
            "source": [
                "tlca.dynamic_score #W/m2 (radiative forcing)"
            ]
        },
        {
            "cell_type": "markdown",
            "metadata": {},
            "source": [
                "To visualize the results, we provide a simple plotting functions:"
            ]
        },
        {
            "cell_type": "code",
            "execution_count": null,
            "metadata": {},
            "outputs": [],
            "source": [
                "tlca.plot_dynamic_characterized_inventory()  "
            ]
        },
        {
            "cell_type": "markdown",
            "metadata": {},
            "source": [
                "This can be a bit messy, though, because all the individual impacts caused by individual emissions (e.g., CO2, CH4, N2O, ...) appear. Luckily, there is also an option to sum the emissions within each activity:"
            ]
        },
        {
            "cell_type": "code",
            "execution_count": null,
            "metadata": {},
            "outputs": [],
            "source": [
                "tlca.plot_dynamic_characterized_inventory(sum_emissions_within_activity=True)"
            ]
        },
        {
            "cell_type": "markdown",
            "metadata": {},
            "source": [
                "There is also a flag to plot the cumulative score over time:"
            ]
        },
        {
            "cell_type": "code",
            "execution_count": null,
            "metadata": {},
            "outputs": [],
            "source": [
                "tlca.plot_dynamic_characterized_inventory(sum_activities=True, cumsum=True)"
            ]
        },
        {
            "cell_type": "markdown",
            "metadata": {},
            "source": [
                "### GWP\n"
            ]
        },
        {
            "cell_type": "markdown",
            "metadata": {},
            "source": [
                "Similar options are available for the metric GWP, which compares the radiative forcing of a GHG to that of CO2 over a certain time horizon (commonly 100 years, but it can be set flexibly in `time_horizon`)."
            ]
        },
        {
            "cell_type": "code",
            "execution_count": null,
            "metadata": {},
            "outputs": [],
            "source": [
                "tlca.dynamic_lcia(metric=\"GWP\", fixed_time_horizon=False, time_horizon=70, characterization_functions=characterization_functions)\n",
                "tlca.dynamic_score #kg CO2-eq (GWP)"
            ]
        },
        {
            "cell_type": "markdown",
            "metadata": {},
            "source": [
                "Plotting the GWP results over time:"
            ]
        },
        {
            "cell_type": "code",
            "execution_count": null,
            "metadata": {},
            "outputs": [],
            "source": [
                "tlca.plot_dynamic_characterized_inventory(sum_emissions_within_activity=True)"
            ]
        },
        {
            "cell_type": "markdown",
            "metadata": {},
            "source": [
                "Cumulative:"
            ]
        },
        {
            "cell_type": "code",
            "execution_count": null,
            "metadata": {},
            "outputs": [],
            "source": [
                "tlca.plot_dynamic_characterized_inventory(sum_emissions_within_activity=True, cumsum=True)"
            ]
        },
        {
            "cell_type": "markdown",
            "metadata": {},
            "source": [
                "### Comparison of time-explicit results to static results\n",
                "It's helpful to understand how the time-explicit results differ from those using static assessments. \n",
                "\n",
                "We compare the time-explicit results with those of an LCA for the year 2020 and 2040 for the standard GWP100 metric (time horizon=100 and no fixed time horizon). This means we neglect the additional differences of the time-explicit results that would arise from using dynamic LCIA. "
            ]
        },
        {
            "cell_type": "markdown",
            "metadata": {},
            "source": [
                "Time-explicit scores:"
            ]
        },
        {
            "cell_type": "code",
            "execution_count": null,
            "metadata": {},
            "outputs": [],
            "source": [
                "tlca.dynamic_lcia(metric=\"GWP\", fixed_time_horizon=False, time_horizon=100, characterization_functions=characterization_functions)\n",
                "tlca.dynamic_score"
            ]
        },
        {
            "cell_type": "markdown",
            "metadata": {},
            "source": [
                "The 2020 (static) score has already been calculated by TimexLCA in the beginning, but we can still access the score:"
            ]
        },
        {
            "cell_type": "code",
            "execution_count": null,
            "metadata": {},
            "outputs": [],
            "source": [
                "tlca.base_lca.score"
            ]
        },
        {
            "cell_type": "markdown",
            "metadata": {},
            "source": [
                "However, further down we also want to look at what part of the life cycle has what contribution. To get this info, we need some more calculations:"
            ]
        },
        {
            "cell_type": "code",
            "execution_count": null,
            "metadata": {},
            "outputs": [],
            "source": [
                "static_scores = {}\n",
                "for exc in driving.technosphere():\n",
                "    if exc.input == ev_production:\n",
                "        for subexc in exc.input.technosphere():\n",
                "            tlca.base_lca.lcia(demand={subexc.input.id: exc.amount * subexc.amount * subexc.input.rp_exchange().amount})\n",
                "            static_scores[subexc.input[\"name\"]] = tlca.base_lca.score\n",
                "    elif exc.input == used_ev:\n",
                "        for subexc in exc.input.technosphere():\n",
                "            tlca.base_lca.lcia(demand={subexc.input.id: exc.amount * subexc.amount * subexc.input.rp_exchange().amount})\n",
                "            static_scores[subexc.input[\"name\"]] = tlca.base_lca.score\n",
                "    else:\n",
                "        tlca.base_lca.lcia(demand={exc.input.id: exc.amount})\n",
                "        static_scores[exc.input[\"name\"]] = tlca.base_lca.score"
            ]
        },
        {
            "cell_type": "markdown",
            "metadata": {},
            "source": [
                "Similarly, we calculate the 2040 (prospective) scores by just changing the database the exchanges point to:"
            ]
        },
        {
            "cell_type": "code",
            "execution_count": null,
            "metadata": {},
            "outputs": [],
            "source": [
                "import bw2calc as bc\n",
                "\n",
                "# first create a copy of the system and relink to processes from 2040 database\n",
                "try:\n",
                "    prospective_driving = driving.copy(code=\"prospective_driving\", name=\"driving an electric vehi0cle in 2040\")\n",
                "except:\n",
                "    foreground.get(code=\"prospective_driving\").delete()\n",
                "    prospective_driving = driving.copy(code=\"prospective_driving\", name=\"driving an electric vehicle in 2040\")\n",
                "    \n",
                "\n",
                "for exc in prospective_driving.technosphere():\n",
                "    if exc.input == ev_production:\n",
                "        prospective_ev_production = ev_production.copy(name=\"production of an electric vehicle in 2040\")\n",
                "        exc.input = prospective_ev_production\n",
                "        exc.save()\n",
                "        for subexc in prospective_ev_production.technosphere():\n",
                "            subexc.input = bd.get_node(\n",
                "                database=background_2040.name,\n",
                "                name=subexc.input[\"name\"],\n",
                "                product=subexc.input[\"reference product\"],\n",
                "                location=subexc.input[\"location\"],\n",
                "            )\n",
                "            subexc.save()\n",
                "    elif exc.input == used_ev:\n",
                "        prospective_used_ev = used_ev.copy(name=\"used electric vehicle in 2040\")\n",
                "        exc.input = prospective_used_ev\n",
                "        exc.save()\n",
                "        for subexc in prospective_used_ev.technosphere():\n",
                "            subexc.input = bd.get_node(\n",
                "                database=background_2040.name,\n",
                "                name=subexc.input[\"name\"],\n",
                "                product=subexc.input[\"reference product\"],\n",
                "                location=subexc.input[\"location\"],\n",
                "            )\n",
                "            subexc.save()\n",
                "    else:\n",
                "        exc.input = bd.get_node(\n",
                "            database=background_2040.name,\n",
                "            name=exc.input[\"name\"],\n",
                "            product=exc.input[\"reference product\"],\n",
                "            location=exc.input[\"location\"],\n",
                "        )\n",
                "    exc.save()\n",
                "\n",
                "prospective_scores = {}\n",
                "lca = bc.LCA({prospective_driving.key: 1}, method)\n",
                "lca.lci(factorize=True)\n",
                "for exc in prospective_driving.technosphere():\n",
                "    if exc.input[\"name\"] in (prospective_ev_production[\"name\"], prospective_used_ev[\"name\"]):\n",
                "        for subexc in exc.input.technosphere():\n",
                "            lca.lcia(demand={subexc.input.id: exc.amount * subexc.amount * subexc.input.rp_exchange().amount})\n",
                "            prospective_scores[subexc.input[\"name\"]] = lca.score\n",
                "    else:\n",
                "        lca.lcia(demand={exc.input.id: exc.amount})\n",
                "        prospective_scores[exc.input[\"name\"]] = lca.score"
            ]
        },
        {
            "cell_type": "markdown",
            "metadata": {},
            "source": [
                "Lets compare the overall scores:"
            ]
        },
        {
            "cell_type": "code",
            "execution_count": null,
            "metadata": {},
            "outputs": [],
            "source": [
                "print(\"Static score: \", sum(static_scores.values())) # should be the same as tlca.base_lca.score\n",
                "print(\"Prospective score: \", sum(prospective_scores.values()))\n",
                "print(\"Time-explicit score: \", tlca.dynamic_score)"
            ]
        },
        {
            "cell_type": "markdown",
            "metadata": {},
            "source": [
                "To better understand what's going on, let's plot the scores as a waterfall chart  based on timing of emission. Also, we can look at the \"first-level contributions\":"
            ]
        },
        {
            "cell_type": "code",
            "execution_count": null,
            "metadata": {},
            "outputs": [],
            "source": [
                "from bw_timex.utils import plot_characterized_inventory_as_waterfall\n",
                "\n",
                "order_stacked_activities = (\n",
                "    [ \n",
                "        glider_production[\"name\"],\n",
                "        battery_production[\"name\"],\n",
                "        powertrain_production[\"name\"],\n",
                "        electricity_production[\"name\"],\n",
                "        glider_eol[\"name\"],\n",
                "        battery_eol[\"name\"],\n",
                "        powertrain_eol[\"name\"],\n",
                "    ]\n",
                ")\n",
                "\n",
                "plot_characterized_inventory_as_waterfall(\n",
                "    tlca,\n",
                "    static_scores=static_scores,\n",
                "    prospective_scores=prospective_scores,\n",
                "    order_stacked_activities=order_stacked_activities,\n",
                ")"
            ]
        },
        {
            "cell_type": "markdown",
            "metadata": {},
            "source": [
                "One can see that the time-explicit results (in the middle) are somewhere in between the static and the prospective results. This makes sense as at each timestep, the underlying processes are sourced from progressively \"cleaner\" background databases, reaching a lower impact than if they are only sourced from the current database, but not so low as the prospective results, which are fully sourced from the most decarbonized database. Notably, the electricity consumption in the use-phase, modelled uniformly over the lifetime of the EV, contributes less and less to the score in the later years, since the electricity becomes cleaner in the future databases."
            ]
        }
    ],
    "metadata": {
        "kernelspec": {
            "display_name": "timex",
            "language": "python",
            "name": "python3"
        },
        "language_info": {
            "codemirror_mode": {
                "name": "ipython",
                "version": 3
            },
            "file_extension": ".py",
            "mimetype": "text/x-python",
            "name": "python",
            "nbconvert_exporter": "python",
            "pygments_lexer": "ipython3",
            "version": "3.11.13"
        }
    },
    "nbformat": 4,
    "nbformat_minor": 2
}
