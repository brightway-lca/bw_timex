{
 "cells": [
  {
   "cell_type": "markdown",
   "metadata": {},
   "source": [
    "# `bw_timex` Teaching Exercise - Time-explicit LCA of an Electric Vehicle vs Petrol Vehicle\n",
    "\n",
    "In this exercise notebook you will compare the climate performance of a battery electric vehicle (BEV) and an internal combustion engine car (ICEC), in a time explicit way, using different decarbonisation scenarios. \n",
    "\n",
    "In order to have a fair comparison**, we will start from two existing Ecoinvent activities (listed below) and will add the temporal information as needed. This notebook will guide you through the steps needed to build the model. But if you are unsure, you can either ask the instructors or have a look at the solution notebook (Note that this just provides one solution, and there are often multiple ways to get to the same result, so we encourage you to use the way that is most intuitive to you!). \n",
    "\n",
    "At the end of this notebook, there are a few bonus questions. \n",
    "\n",
    "\n",
    "> ** Warning: Any LCA is only every as good as the underlying data. the data on cars in Ecoinvent is really outdated (check the description/comment of the activities to get an idea about the data), so the results from this exercise should be interpreted with care, as should any LCA result be of course!"
   ]
  },
  {
   "cell_type": "code",
   "execution_count": null,
   "metadata": {},
   "outputs": [],
   "source": [
    "import bw2data as bd\n",
    "\n",
    "bd.projects.set_current(\"Timex_teaching_ei310\")"
   ]
  },
  {
   "cell_type": "markdown",
   "metadata": {},
   "source": [
    "## Prospective background databases\n",
    "\n",
    "In addition to the very optimistic PkBudg650 scenario used in the previous notebook, we'll also consider a 'national policies implemented' (NPi) as a business as usual (BAU) scenario here:\n",
    "\n",
    "- REMIND-EU - SSP2-NPi       : BAU scenario with ~3˚ warming by 2100\n",
    "- REMIND-EU - SSP2-PkBudg650 : Optimistic scenario in line with Paris 2015 with 1.5˚-1.9˚ warming by 2100\n",
    "\n",
    "> See [the Premise documentation](https://premise.readthedocs.io/en/latest/introduction.html#default-iam-scenarios) for a brief overview of the IAM scenarios"
   ]
  },
  {
   "cell_type": "markdown",
   "metadata": {},
   "source": [
    "Let's get easy handles for the databases for ease of use:\n",
    "\n",
    "National Policies and Implemention (NPi) scenario:"
   ]
  },
  {
   "cell_type": "code",
   "execution_count": null,
   "metadata": {},
   "outputs": [],
   "source": [
    "db_2020_NPi = bd.Database(\"ei_cutoff_3.10_remind-eu_SSP2-NPi_2020 2025-10-08\")\n",
    "db_2030_NPi = bd.Database(\"ei_cutoff_3.10_remind-eu_SSP2-NPi_2030 2025-10-08\")\n",
    "db_2040_NPi = bd.Database(\"ei_cutoff_3.10_remind-eu_SSP2-NPi_2040 2025-10-08\")\n",
    "db_2050_NPi = bd.Database(\"ei_cutoff_3.10_remind-eu_SSP2-NPi_2050 2025-10-08\")"
   ]
  },
  {
   "cell_type": "markdown",
   "metadata": {},
   "source": [
    "Peak-Budget 650 scenario:"
   ]
  },
  {
   "cell_type": "code",
   "execution_count": null,
   "metadata": {},
   "outputs": [],
   "source": [
    "db_2020_PkBudg650 = bd.Database(\"ei_cutoff_3.10_remind-eu_SSP2-PkBudg650_2020 2025-10-08\")\n",
    "db_2030_PkBudg650 = bd.Database(\"ei_cutoff_3.10_remind-eu_SSP2-PkBudg650_2030 2025-10-08\")\n",
    "db_2040_PkBudg650 = bd.Database(\"ei_cutoff_3.10_remind-eu_SSP2-PkBudg650_2040 2025-10-08\")\n",
    "db_2050_PkBudg650 = bd.Database(\"ei_cutoff_3.10_remind-eu_SSP2-PkBudg650_2050 2025-10-08\")"
   ]
  },
  {
   "cell_type": "markdown",
   "metadata": {},
   "source": [
    "## Case study setup\n",
    "\n",
    "In this exercise we will go about setting up the forground system in a slightly different way. In our case, driving a(n electric) car is already represented in ecoinvent. So all we would need to do is to add the temporal distributions to the exchanges. \n",
    "\n",
    "In the current implementation of `bw_timex`, all activities containing temporal information on the exchanges need to 'live' in the foreground system, so that their inputs can get linked to different background activities.\n",
    "\n",
    "Let's start with the definition of our functional unit (FU): \n",
    "\n",
    "- Driving a passenger car for 200,000km (including production, EoL treatment, maintenance, etc), over a period of 15 years."
   ]
  },
  {
   "cell_type": "markdown",
   "metadata": {},
   "source": [
    "### Modeling the production system\n",
    "\n",
    "As a first step of modelling the production system, let's create a new foreground database:\n"
   ]
  },
  {
   "cell_type": "code",
   "execution_count": null,
   "metadata": {},
   "outputs": [],
   "source": [
    "fg_db_name = \"foreground_bev_vs_icec\"\n",
    "\n",
    "if fg_db_name in bd.databases:\n",
    "    del bd.databases[fg_db_name] # to make sure we create the foreground from scratch"
   ]
  },
  {
   "cell_type": "code",
   "execution_count": null,
   "metadata": {},
   "outputs": [],
   "source": [
    "foreground = bd.Database(fg_db_name)\n",
    "foreground.register()"
   ]
  },
  {
   "cell_type": "markdown",
   "metadata": {},
   "source": [
    "And let's define the FU relevant quantities: "
   ]
  },
  {
   "cell_type": "code",
   "execution_count": null,
   "metadata": {},
   "outputs": [],
   "source": [
    "LIFETIME_KM = 200000.  # lifetime of the vehicle in km\n",
    "LIFETIME = 15  # lifetime of the vehicle in years\n",
    "ANNUAL_KM = LIFETIME_KM / LIFETIME  # annual km"
   ]
  },
  {
   "cell_type": "markdown",
   "metadata": {},
   "source": [
    "Now let's create two activities in the foreground that represent the functional units as defined above (production/driving/EoL treatment of a car for 200,000km over 15 years). We can call them LC_BEV and LC_ICEC for example (LC=life cyle)."
   ]
  },
  {
   "cell_type": "code",
   "execution_count": null,
   "metadata": {},
   "outputs": [],
   "source": []
  },
  {
   "cell_type": "markdown",
   "metadata": {},
   "source": [
    "Let's make a simplified overview of the activities at every step (example for the ICEC). So far, we only have defined the life cycle activity\n",
    "in the foreground. We will use different colours for the foreground and background processes. You can also do this on paper.\n",
    "\n",
    "... DIY"
   ]
  },
  {
   "cell_type": "markdown",
   "metadata": {},
   "source": [
    "Ecoinvent already contains activities that represent transport with a passenger car. So let's get the following two activities from the base database** for the BAU scenario and create a copy in our foreground database:\n",
    "\n",
    "- Driving a ICEC: \"transport, passenger car, gasoline, Medium SUV, EURO-6\"\n",
    "- Driving a BEV: \"transport, passenger car, gasoline, Medium SUV, EURO-6\"\n",
    "\n",
    "The idea is to first see how these activities are set up. It might help to draw your own system definition to create an overview of the exchanges and see to which exchanges you want to add temporal information. The following steps guide you through the process. \n",
    "\n",
    "HINT: there are multiple locations of this activity in the premise database, choose one of your liking/or that makes sense for you.\n",
    "HINT: copy to a different database by first copying the activity and then changing the database.\n",
    "\n",
    "> ** We consider 2020 as our base year and db_2020 as the 'base' database"
   ]
  },
  {
   "cell_type": "code",
   "execution_count": null,
   "metadata": {},
   "outputs": [],
   "source": []
  },
  {
   "cell_type": "markdown",
   "metadata": {},
   "source": [
    "The reference product of these activities should be 1 km traveled by the respective vehicle, but let's check the reference product and its unit:"
   ]
  },
  {
   "cell_type": "code",
   "execution_count": null,
   "metadata": {},
   "outputs": [],
   "source": []
  },
  {
   "cell_type": "markdown",
   "metadata": {},
   "source": [
    "Have a look at what the inputs into such a car are and identify the relevant exchanges:"
   ]
  },
  {
   "cell_type": "markdown",
   "metadata": {},
   "source": []
  },
  {
   "cell_type": "markdown",
   "metadata": {},
   "source": []
  },
  {
   "cell_type": "code",
   "execution_count": null,
   "metadata": {},
   "outputs": [],
   "source": []
  },
  {
   "cell_type": "code",
   "execution_count": null,
   "metadata": {},
   "outputs": [],
   "source": []
  },
  {
   "cell_type": "markdown",
   "metadata": {},
   "source": [
    "Let's make a simplified overview of these activities so far (example for the ICEC): \n",
    "\n",
    "... DIY"
   ]
  },
  {
   "cell_type": "markdown",
   "metadata": {},
   "source": [
    "These 'transport activities' include both the car, which in itself contains both production and EoL treatment (check this!!), as well as the fuel/electricity, maintenance and wear etc. \n",
    "\n",
    "As we want to add temporal information to the car process (production and EoL), we need to move a copy of this process into the foreground.\n",
    "Here, we need to remember to set the original input of the car process from the 'base' database into the driving activity to 0 to avoid double counting. "
   ]
  },
  {
   "cell_type": "code",
   "execution_count": null,
   "metadata": {},
   "outputs": [],
   "source": []
  },
  {
   "cell_type": "markdown",
   "metadata": {},
   "source": [
    "Have a look at the exchanges of the production/EoL activity and see that these indeed include both production and EoL.\n"
   ]
  },
  {
   "cell_type": "code",
   "execution_count": null,
   "metadata": {},
   "outputs": [],
   "source": []
  },
  {
   "cell_type": "code",
   "execution_count": null,
   "metadata": {},
   "outputs": [],
   "source": []
  },
  {
   "cell_type": "markdown",
   "metadata": {},
   "source": [
    "Let's update our overview:\n",
    "\n",
    "...DIY\n",
    "\n"
   ]
  },
  {
   "cell_type": "markdown",
   "metadata": {},
   "source": [
    "### Adding the relevant exchanges and temporal information\n",
    "\n",
    "Now it is time to add the relevant exchanges to the functional unit activities together with relevant temporal distributions. Be careful to add the temporal distribution to production and EoL at the right exchange, so that production happens before the use phase and EoL after the use phase. \n",
    "\n",
    "Tipp: for ease of use, or if you forgot how to define temporal distributions, you can use the interactive_td_widget!\n",
    "\n",
    "Tipp 2: Use the utility function add_temporal_distribution_to_exchange to add the temporal distribution to the production/EoL activity of the cars. \n"
   ]
  },
  {
   "cell_type": "markdown",
   "metadata": {},
   "source": [
    "Let's first draw the system we want including where we want TD's\n",
    "\n",
    "\n",
    "... DIY\n",
    "\n",
    "\n"
   ]
  },
  {
   "cell_type": "markdown",
   "metadata": {},
   "source": [
    "Now define and add the temporal distributions to the relevant exchanges.\n",
    "\n",
    "Some relevant imports:"
   ]
  },
  {
   "cell_type": "code",
   "execution_count": null,
   "metadata": {},
   "outputs": [],
   "source": [
    "import numpy as np\n",
    "\n",
    "from bw_temporalis import TemporalDistribution, easy_timedelta_distribution\n",
    "from bw_timex.utils import add_temporal_distribution_to_exchange"
   ]
  },
  {
   "cell_type": "markdown",
   "metadata": {},
   "source": [
    "Tipp: for ease of use, or if you forgot how to define temporal distributions you can use the interactive_td_widget!\n",
    "You might have to run this cell twice for the widget to show up."
   ]
  },
  {
   "cell_type": "code",
   "execution_count": null,
   "metadata": {},
   "outputs": [],
   "source": [
    "from bw_timex.utils import interactive_td_widget\n",
    "\n",
    "interactive_td_widget()"
   ]
  },
  {
   "cell_type": "code",
   "execution_count": null,
   "metadata": {},
   "outputs": [],
   "source": []
  },
  {
   "cell_type": "code",
   "execution_count": null,
   "metadata": {},
   "outputs": [],
   "source": []
  },
  {
   "cell_type": "code",
   "execution_count": null,
   "metadata": {},
   "outputs": [],
   "source": []
  },
  {
   "cell_type": "code",
   "execution_count": null,
   "metadata": {},
   "outputs": [],
   "source": []
  },
  {
   "cell_type": "markdown",
   "metadata": {},
   "source": [
    "### Checking all went right\n",
    "\n",
    "Before calculating the time-explicit LCA, make sure that everything went right so far. As a check, the standard LCA score of the original transport activity with the corresponding amount should be equal the standard LCA of the modified life cycle activity created in the foreground!"
   ]
  },
  {
   "cell_type": "code",
   "execution_count": null,
   "metadata": {},
   "outputs": [],
   "source": [
    "# import bw2calc for standard LCA calculations\n",
    "import bw2calc as bc\n",
    "\n"
   ]
  },
  {
   "cell_type": "code",
   "execution_count": null,
   "metadata": {},
   "outputs": [],
   "source": []
  },
  {
   "cell_type": "markdown",
   "metadata": {},
   "source": [
    "## Time-explicit LCA with `bw_timex`"
   ]
  },
  {
   "cell_type": "markdown",
   "metadata": {},
   "source": [
    "Now we can start using `bw_timex` to build the process timeline, build the time-explicit inventory and calculate the time explicit scores.\n",
    "\n",
    "Start by creating a dictionary mapping the respective databases to the relevant timestamps. \n",
    "Then instantiate your timexLCA object, build the timeline, calculate the LCI, and the LCIA for both options.\n"
   ]
  },
  {
   "cell_type": "code",
   "execution_count": null,
   "metadata": {},
   "outputs": [],
   "source": [
    "# import datetime for defining database dates\n",
    "from datetime import datetime\n",
    "\n"
   ]
  },
  {
   "cell_type": "code",
   "execution_count": null,
   "metadata": {},
   "outputs": [],
   "source": [
    "# import TimexLCA for time-explicit LCA calculations\n",
    "from bw_timex import TimexLCA"
   ]
  },
  {
   "cell_type": "code",
   "execution_count": null,
   "metadata": {},
   "outputs": [],
   "source": []
  },
  {
   "cell_type": "code",
   "execution_count": null,
   "metadata": {},
   "outputs": [],
   "source": []
  },
  {
   "cell_type": "code",
   "execution_count": null,
   "metadata": {},
   "outputs": [],
   "source": []
  },
  {
   "cell_type": "code",
   "execution_count": null,
   "metadata": {},
   "outputs": [],
   "source": []
  },
  {
   "cell_type": "code",
   "execution_count": null,
   "metadata": {},
   "outputs": [],
   "source": []
  },
  {
   "cell_type": "markdown",
   "metadata": {},
   "source": [
    "## Visualise results and compare the different cars and scenarios\n",
    "\n",
    "- Now find a good way to visualise the results. There are some simple plotting functions included such as plot_dynamic_inventory().\n",
    "\n",
    "- Compare the the time-explicit results with the static and prospective cases\n",
    "\n",
    "- Try another base year (Hint: you can just change the starting year)\n",
    "\n",
    "- Run the other scenario to see the differences for both cars. \n",
    "\n"
   ]
  },
  {
   "cell_type": "code",
   "execution_count": null,
   "metadata": {},
   "outputs": [],
   "source": []
  },
  {
   "cell_type": "code",
   "execution_count": null,
   "metadata": {},
   "outputs": [],
   "source": []
  },
  {
   "cell_type": "markdown",
   "metadata": {},
   "source": [
    "## BONUS options:\n",
    "\n",
    "- Add temporal information further throughout the supply chain. To do this, move further background processes to the foreground and add TDs, e.g., for the steel that is needed for the vehicle production processes\n",
    "\n",
    "- Use temporal distributions to model a fleet (of changing composition). (hint a for a fleet some cars will live longer, some shorter. This can be modelled using a distribution for the use phase and the EoL)\n",
    "    - Now you can also look at different impacts (e.g. metal demand for example and see the metal demand per year needed to build a fleet)\n",
    "\n",
    "- How does the comparison change if we replace the petrol consumption of the car with biofuel (e.g. this activity:  'petrol production, 85% ethanol by volume from biomass' (kilogram, CH, None)). And then what about if you include biogenic carbon emissions by using for example this method: ('ecoinvent-3.10',\n",
    "  'IPCC 2021',\n",
    "  'climate change: biogenic',\n",
    "  'global warming potential (GWP100)')\n",
    "\n",
    "- Use dynamic_lcia(use_disaggregated_lci=TRUE) to perform a contribution analysis on the background activities contributing to the impacts. (Note that this function can take a while), find a good way to visualize this."
   ]
  }
 ],
 "metadata": {
  "kernelspec": {
   "display_name": "timex_brightcon",
   "language": "python",
   "name": "python3"
  },
  "language_info": {
   "codemirror_mode": {
    "name": "ipython",
    "version": 3
   },
   "file_extension": ".py",
   "mimetype": "text/x-python",
   "name": "python",
   "nbconvert_exporter": "python",
   "pygments_lexer": "ipython3",
   "version": "3.11.13"
  }
 },
 "nbformat": 4,
 "nbformat_minor": 4
}
