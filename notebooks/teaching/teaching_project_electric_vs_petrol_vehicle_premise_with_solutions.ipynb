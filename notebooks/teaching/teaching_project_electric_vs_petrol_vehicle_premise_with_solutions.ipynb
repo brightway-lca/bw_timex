{
 "cells": [
  {
   "cell_type": "markdown",
   "metadata": {},
   "source": [
    "# `bw_timex` Teaching Exercise - Time-explicit LCA of an Electric Vehicle vs Petrol Vehicle (SOLUTION NOTEBOOK)\n",
    "\n",
    "In this exercise notebook you will compare the climate performance of a battery electric vehicle (BEV) and an internal combustion engine car (ICEC), in a time explicit way, using different decarbonisation scenarios. \n",
    "\n",
    "In order to have a fair comparison**, we will start from two existing Ecoinvent activities (listed below) and will add the temporal information as needed. This notebook will guide you through the steps needed to build the model. But if you are unsure, you can either ask the instructors or have a look at the solution notebook (Note that this just provides one solution, and there are often multiple ways to get to the same result, so we encourage you to use the way that is most intuitive to you!). \n",
    "\n",
    "At the end of this notebook, there are a few bonus questions. \n",
    "\n",
    "\n",
    "> ** Warning: Any LCA is only every as good as the underlying data. the data on cars in Ecoinvent is really outdated (check the description/comment of the activities to get an idea about the data), so the results from this exercise should be interpreted with care, as should any LCA result be of course!"
   ]
  },
  {
   "cell_type": "code",
   "execution_count": null,
   "metadata": {},
   "outputs": [],
   "source": [
    "import bw2data as bd\n",
    "\n",
    "bd.projects.set_current(\"Timex_teaching_ei310\")"
   ]
  },
  {
   "cell_type": "markdown",
   "metadata": {},
   "source": [
    "## Prospective background databases\n",
    "\n",
    "In addition to the very optimistic PkBudg650 scenario used in the previous notebook, we'll also consider a 'national policies implemented' (NPi) as a business as usual (BAU) scenario here:\n",
    "\n",
    "- REMIND-EU - SSP2-NPi       : BAU scenario with ~3˚ warming by 2100\n",
    "- REMIND-EU - SSP2-PkBudg650 : Optimistic scenario in line with Paris 2015 with 1.5˚-1.9˚ warming by 2100\n",
    "\n",
    "> See [the Premise documentation](https://premise.readthedocs.io/en/latest/introduction.html#default-iam-scenarios) for a brief overview of the IAM scenarios"
   ]
  },
  {
   "cell_type": "markdown",
   "metadata": {},
   "source": [
    "Let's get easy handles for the databases for ease of use:\n",
    "\n",
    "National Policies and Implemention (NPi) scenario:"
   ]
  },
  {
   "cell_type": "code",
   "execution_count": null,
   "metadata": {},
   "outputs": [],
   "source": [
    "db_2020_NPi = bd.Database(\"ei_cutoff_3.10_remind-eu_SSP2-NPi_2020 2025-10-08\")\n",
    "db_2030_NPi = bd.Database(\"ei_cutoff_3.10_remind-eu_SSP2-NPi_2030 2025-10-08\")\n",
    "db_2040_NPi = bd.Database(\"ei_cutoff_3.10_remind-eu_SSP2-NPi_2040 2025-10-08\")\n",
    "db_2050_NPi = bd.Database(\"ei_cutoff_3.10_remind-eu_SSP2-NPi_2050 2025-10-08\")"
   ]
  },
  {
   "cell_type": "markdown",
   "metadata": {},
   "source": [
    "Peak-Budget 650 scenario:"
   ]
  },
  {
   "cell_type": "code",
   "execution_count": null,
   "metadata": {},
   "outputs": [],
   "source": [
    "db_2020_PkBudg650 = bd.Database(\"ei_cutoff_3.10_remind-eu_SSP2-PkBudg650_2020 2025-10-08\")\n",
    "db_2030_PkBudg650 = bd.Database(\"ei_cutoff_3.10_remind-eu_SSP2-PkBudg650_2030 2025-10-08\")\n",
    "db_2040_PkBudg650 = bd.Database(\"ei_cutoff_3.10_remind-eu_SSP2-PkBudg650_2040 2025-10-08\")\n",
    "db_2050_PkBudg650 = bd.Database(\"ei_cutoff_3.10_remind-eu_SSP2-PkBudg650_2050 2025-10-08\")"
   ]
  },
  {
   "cell_type": "markdown",
   "metadata": {},
   "source": [
    "## Case study setup\n",
    "\n",
    "In this exercise we will go about setting up the forground system in a slightly different way. In our case, driving a(n electric) car is already represented in ecoinvent. So all we would need to do is to add the temporal distributions to the exchanges. \n",
    "\n",
    "In the current implementation of `bw_timex`, all activities containing temporal information on the exchanges need to 'live' in the foreground system, so that their inputs can get linked to different background activities.\n",
    "\n",
    "Let's start the definition of our functional unit (FU): \n",
    "\n",
    "- Driving a passenger car for 200,000km (including production, EoL treatment, maintenance, etc), over a period of 15 years.\n"
   ]
  },
  {
   "cell_type": "markdown",
   "metadata": {},
   "source": [
    "### Modeling the production system\n",
    "\n",
    "As a first step of modelling the production system, let's create a new foreground database:\n"
   ]
  },
  {
   "cell_type": "code",
   "execution_count": null,
   "metadata": {},
   "outputs": [],
   "source": [
    "fg_db_name = \"foreground_bev_vs_icec\"\n",
    "\n",
    "if fg_db_name in bd.databases:\n",
    "    del bd.databases[fg_db_name] # to make sure we create the foreground from scratch"
   ]
  },
  {
   "cell_type": "code",
   "execution_count": null,
   "metadata": {},
   "outputs": [],
   "source": [
    "foreground = bd.Database(fg_db_name)\n",
    "foreground.register()"
   ]
  },
  {
   "cell_type": "markdown",
   "metadata": {},
   "source": [
    "And let's define the FU relevant quantities: "
   ]
  },
  {
   "cell_type": "code",
   "execution_count": null,
   "metadata": {},
   "outputs": [],
   "source": [
    "LIFETIME_KM = 200000.  # lifetime of the vehicle in km\n",
    "LIFETIME = 15  # lifetime of the vehicle in years\n",
    "ANNUAL_KM = LIFETIME_KM / LIFETIME  # annual km"
   ]
  },
  {
   "cell_type": "markdown",
   "metadata": {},
   "source": [
    "Now let's create two activities in the foreground that represent the functional units as defined above (production/driving/EoL treatment of a car for 200,000km over 15 years). We can call them LC_BEV and LC_ICEC for example (LC=life cyle)."
   ]
  },
  {
   "cell_type": "code",
   "execution_count": null,
   "metadata": {},
   "outputs": [],
   "source": [
    "LC_BEV = foreground.new_node(\"lc_bev\", name=\"Life cycle of a battery electric vehicle (BEV)\", unit=\"unit\")\n",
    "LC_BEV['reference product'] = \"LC_BEV\"\n",
    "LC_BEV.new_edge(input=LC_BEV, amount=1, type='production')\n",
    "LC_BEV.save()\n",
    "\n",
    "LC_ICEC = foreground.new_node(\"lc_icec\", name=\"Life cycle of a internal combustion engine car (ICEC)\", unit=\"unit\")\n",
    "LC_ICEC['reference product'] = \"LC_ICEC\"\n",
    "LC_ICEC.new_edge(input=LC_ICEC, amount=1, type='production')\n",
    "LC_ICEC.save()"
   ]
  },
  {
   "cell_type": "markdown",
   "metadata": {},
   "source": [
    "Let's make a simplified overview of the activities at every step (example for the ICEC). So far, we only have defined the life cycle activity\n",
    "in the foreground. We will use different colours for the foreground and background processes. You can also do this on paper.\n",
    "\n",
    "```mermaid\n",
    "flowchart LR\n",
    "    LC_ICEC(Life Cycle ICEC):::fg\n",
    "\n",
    "    classDef ei color:#222832, fill:#3fb1c5, stroke:none;\n",
    "    classDef fg color:#222832, fill:#9c5ffd, stroke:none;\n",
    "\n",
    "```\n",
    "Legend:\n",
    "```mermaid\n",
    "flowchart TD\n",
    "    foreground(Foreground process):::fg \n",
    "    background(Background process):::ei\n",
    "\n",
    "    classDef ei color:#222832, fill:#3fb1c5, stroke:none;\n",
    "    classDef fg color:#222832, fill:#9c5ffd, stroke:none;\n",
    "\n",
    "```\n"
   ]
  },
  {
   "cell_type": "markdown",
   "metadata": {},
   "source": [
    "Ecoinvent already contains activities that represent transport with a passenger car. So let's get the following two activities from the base database** for the BAU scenario and create a copy in our foreground database:\n",
    "\n",
    "- Driving a ICEC: \"transport, passenger car, gasoline, Medium SUV, EURO-6\"\n",
    "- Driving a BEV: \"transport, passenger car, gasoline, Medium SUV, EURO-6\"\n",
    "\n",
    "The idea is to first see how these activities are set up. It might help to draw your own system definition to create an overview of the exchanges and see to which exchanges you want to add temporal information. The following steps guide you through the process. \n",
    "\n",
    "HINT: There are multiple locations of this activity in the premise database, choose one of your liking/or that makes sense for you.\n",
    "HINT: Copy to a different database by first copying the activity and then changing the database.\n",
    "\n",
    "> ** We consider 2020 as our base year and db_2020 as the 'base' database"
   ]
  },
  {
   "cell_type": "code",
   "execution_count": null,
   "metadata": {},
   "outputs": [],
   "source": [
    "# only run this cell once!\n",
    "driving_icec = db_2020_NPi.get(name='transport, passenger car, gasoline, Medium SUV, EURO-6', location=\"RER\").copy()\n",
    "driving_icec['database'] = fg_db_name\n",
    "driving_bev = db_2020_NPi.get(name='transport, passenger car, battery electric, Medium SUV', location=\"RER\").copy()\n",
    "driving_bev['database'] = fg_db_name"
   ]
  },
  {
   "cell_type": "markdown",
   "metadata": {},
   "source": [
    "The reference product of these activities should be 1 km traveled by the respective vehicle, but let's check the reference product and its unit:"
   ]
  },
  {
   "cell_type": "code",
   "execution_count": null,
   "metadata": {},
   "outputs": [],
   "source": [
    "print(f'Driving BEV reference product: {driving_bev.rp_exchange()}')\n",
    "print(f'Driving BEV rp unit: {driving_bev.rp_exchange()[\"unit\"]}')\n",
    "print(f'Driving ICEC reference product: {driving_icec.rp_exchange()}')\n",
    "print(f'Driving ICEC rp unit: {driving_icec.rp_exchange()[\"unit\"]}')"
   ]
  },
  {
   "cell_type": "markdown",
   "metadata": {},
   "source": [
    "Have a look at what the inputs into such a car are and identify the relevant exchanges:"
   ]
  },
  {
   "cell_type": "code",
   "execution_count": null,
   "metadata": {},
   "outputs": [],
   "source": [
    "list(driving_bev.technosphere())"
   ]
  },
  {
   "cell_type": "code",
   "execution_count": null,
   "metadata": {},
   "outputs": [],
   "source": [
    "list(driving_icec.technosphere())"
   ]
  },
  {
   "cell_type": "markdown",
   "metadata": {},
   "source": [
    "Let's make a simplified overview of these activities so far (example for the ICEC): \n",
    "\n",
    "```mermaid\n",
    "flowchart LR\n",
    "    passenger_icec(Passenger car, gasoline, ...):::ei-->transport_icec\n",
    "    petrol(Market for Petrol, ...):::ei-->transport_icec\n",
    "    maintenance_wear(Maintenance and wear):::ei-->transport_icec\n",
    "    transport_icec(Driving an ICEC):::fg -.-> lc_icec(Life Cycle ICEC):::fg\n",
    "    \n",
    "    \n",
    "\n",
    "    classDef ei color:#222832, fill:#3fb1c5, stroke:none;\n",
    "    classDef fg color:#222832, fill:#9c5ffd, stroke:none;\n",
    "```\n",
    "\n",
    "Where the dotted line indicates that we have not made this connection yet. "
   ]
  },
  {
   "cell_type": "markdown",
   "metadata": {},
   "source": [
    "These 'transport activities' include both the car, which in itself contains both production and EoL treatment (check this!!), as well as the fuel/electricity, maintenance and wear etc. \n",
    "\n",
    "As we want to add temporal information to the car process (production and EoL), we need to move a copy of this process into the foreground.\n",
    "Here, we need to remember to set the original input of the car process from the 'base' database into the driving activity to 0 to avoid double counting."
   ]
  },
  {
   "cell_type": "code",
   "execution_count": null,
   "metadata": {},
   "outputs": [],
   "source": [
    "# first copy the activities production/EoL treatment of the cars into the foreground\n",
    "bev_production_eol = db_2020_NPi.get(name='passenger car, battery electric, Medium SUV').copy()\n",
    "bev_production_eol['database'] = fg_db_name\n",
    "\n",
    "icec_production_eol = db_2020_NPi.get(name='Passenger car, gasoline, Medium SUV, EURO-6d').copy()\n",
    "icec_production_eol['database'] = fg_db_name\n"
   ]
  },
  {
   "cell_type": "markdown",
   "metadata": {},
   "source": [
    "Have a look at the exchanges of the production/EoL activity and see that these indeed include both production and EoL.\n"
   ]
  },
  {
   "cell_type": "code",
   "execution_count": null,
   "metadata": {},
   "outputs": [],
   "source": [
    "for exc in bev_production_eol.technosphere():\n",
    "    print(exc)"
   ]
  },
  {
   "cell_type": "code",
   "execution_count": null,
   "metadata": {},
   "outputs": [],
   "source": [
    "# now set the input of the car into the driving activity to 0 to avoid double counting\n",
    "for exc in driving_bev.technosphere():\n",
    "    if exc.input['name'] == 'passenger car, battery electric, Medium SUV':\n",
    "        exc.delete()\n",
    "        break\n",
    "for exc in driving_icec.technosphere():\n",
    "    if exc.input['name'] == 'Passenger car, gasoline, Medium SUV, EURO-6d':\n",
    "        exc.delete()\n",
    "        break"
   ]
  },
  {
   "cell_type": "markdown",
   "metadata": {},
   "source": [
    "So now update our overview:\n",
    "\n",
    "```{mermaid}\n",
    "flowchart LR\n",
    "    petrol(Market for Petrol, ...):::ei-->transport_icec\n",
    "    maintenance_wear(Maintenance and wear):::ei-->transport_icec\n",
    "    transport_icec(Driving an ICEC):::fg -.-> lc_icec(Life Cycle ICEC):::fg\n",
    "    passenger_icec(Passenger car, gasoline, ...):::fg-.->lc_icec\n",
    "    production_icec(Production ICEC):::ei-->passenger_icec\n",
    "    eol_icec(EoL treatment ICEC):::ei-->passenger_icec\n",
    "    \n",
    "\n",
    "    classDef ei color:#222832, fill:#3fb1c5, stroke:none;\n",
    "    classDef fg color:#222832, fill:#9c5ffd, stroke:none;\n",
    "```\n",
    "\n",
    "Where the dotted line indicates that we have not made this connection yet. "
   ]
  },
  {
   "cell_type": "markdown",
   "metadata": {},
   "source": [
    "### Adding the relevant exchanges and temporal information\n",
    "\n",
    "Now it is time to add the relevant exchanges to the functional unit activities together with relevant temporal distributions. Be careful to add the temporal distribution to production and EoL at the right exchange, so that production happens before the use phase and EoL after the use phase. \n",
    "\n",
    "Tipp: for ease of use, or if you forgot how to define temporal distributions you can use the interactive_td_widget!\n",
    "\n",
    "Tipp 2: Use the utility function add_temporal_distribution_to_exchange to add the temporal distribution to the EoL of the production/EoL activity of the cars. \n"
   ]
  },
  {
   "cell_type": "markdown",
   "metadata": {},
   "source": [
    "Let's first draw the system we want including where we want TD's\n",
    "\n",
    "\n",
    "```mermaid\n",
    "flowchart LR\n",
    "    petrol(Market for Petrol, ...):::ei-->transport_icec\n",
    "    maintenance_wear(Maintenance and wear):::ei-->transport_icec\n",
    "    transport_icec(Driving an ICEC):::fg ==>|Temporal information|lc_icec(Life Cycle ICEC):::fg\n",
    "    passenger_icec(Passenger car, gasoline, ...):::fg==>|Temporal information|lc_icec\n",
    "    production_icec(Production ICEC):::ei-->passenger_icec\n",
    "    eol_icec(EoL treatment ICEC):::ei==>|Temporal information|passenger_icec\n",
    "    \n",
    "\n",
    "    classDef ei color:#222832, fill:#3fb1c5, stroke:none;\n",
    "    classDef fg color:#222832, fill:#9c5ffd, stroke:none;\n",
    "```\n",
    "\n",
    "\n"
   ]
  },
  {
   "cell_type": "code",
   "execution_count": null,
   "metadata": {},
   "outputs": [],
   "source": [
    "\n",
    "LC_BEV.new_edge(input=driving_bev, amount=LIFETIME_KM, type='technosphere').save()\n",
    "LC_BEV.new_edge(input=bev_production_eol, amount=1, type='technosphere').save()\n",
    "\n",
    "\n",
    "LC_ICEC.new_edge(input=driving_icec, amount=LIFETIME_KM, type='technosphere').save()\n",
    "LC_ICEC.new_edge(input=icec_production_eol, amount=1, type='technosphere').save()"
   ]
  },
  {
   "cell_type": "markdown",
   "metadata": {},
   "source": [
    "Now define and add the temporal distributions to the relevant exchanges.\n",
    "\n",
    "Some relevant imports:"
   ]
  },
  {
   "cell_type": "code",
   "execution_count": null,
   "metadata": {},
   "outputs": [],
   "source": [
    "import numpy as np\n",
    "\n",
    "from bw_timex.utils import add_temporal_distribution_to_exchange\n",
    "from bw_temporalis import TemporalDistribution, easy_timedelta_distribution"
   ]
  },
  {
   "cell_type": "markdown",
   "metadata": {},
   "source": [
    "We came up with the following temporal information:\n",
    "* for the use phase, we assume a uniform distribution over the lifetime of the car (15 years)\n",
    "* for the production of the cars, we assume a normal distribution over 4 years prior to use\n",
    "* for the EoL, a fixed point in time at the end of the lifetime + 1 year"
   ]
  },
  {
   "cell_type": "code",
   "execution_count": null,
   "metadata": {},
   "outputs": [],
   "source": [
    "td_driving =  easy_timedelta_distribution(\n",
    "    start=0,\n",
    "    end=15,\n",
    "    resolution='Y',\n",
    "    steps=16,\n",
    "    kind='uniform'\n",
    ")\n",
    "\n",
    "td_production = easy_timedelta_distribution(\n",
    "    start=-4,\n",
    "    end=-1,\n",
    "    resolution='Y',\n",
    "    steps=4,\n",
    "    kind='normal',\n",
    "    param = 1\n",
    ")\n",
    "\n",
    "\n",
    "date = np.array([16], dtype='timedelta64[Y]')\n",
    "amount = np.array([1], dtype=float)\n",
    "td_eol = TemporalDistribution(date=date, amount=amount)\n",
    "\n",
    "\n",
    "add_temporal_distribution_to_exchange(td_driving,\n",
    "                                      input_node=driving_bev,\n",
    "                                      output_node=LC_BEV\n",
    "                                      )\n",
    "add_temporal_distribution_to_exchange(td_driving,\n",
    "                                      input_node=driving_icec,\n",
    "                                      output_node=LC_ICEC\n",
    "                                      )"
   ]
  },
  {
   "cell_type": "markdown",
   "metadata": {},
   "source": [
    "Now we add the temporal distributions for production and end of life to the exchanges of the production/EoL activities of the cars. Here we will make use of the fact that in ecoinvent waste treatment activities are modelled as negative inputs."
   ]
  },
  {
   "cell_type": "code",
   "execution_count": null,
   "metadata": {},
   "outputs": [],
   "source": [
    "for exc in bev_production_eol.technosphere():\n",
    "    if exc['amount'] >= 0:  # production\n",
    "        add_temporal_distribution_to_exchange(td_production,\n",
    "                                              input_node=exc.input,\n",
    "                                              output_node=exc.output)\n",
    "    else:  # EoL\n",
    "        add_temporal_distribution_to_exchange(td_eol,\n",
    "                                              input_node=exc.input,\n",
    "                                              output_node=exc.output)"
   ]
  },
  {
   "cell_type": "code",
   "execution_count": null,
   "metadata": {},
   "outputs": [],
   "source": [
    "for exc in icec_production_eol.technosphere():\n",
    "    if exc['amount'] >= 0:  # production\n",
    "        add_temporal_distribution_to_exchange(td_production,\n",
    "                                              input_node=exc.input,\n",
    "                                              output_node=exc.output)\n",
    "    else:  # EoL\n",
    "        add_temporal_distribution_to_exchange(td_eol,\n",
    "                                              input_node=exc.input,\n",
    "                                              output_node=exc.output)"
   ]
  },
  {
   "cell_type": "markdown",
   "metadata": {},
   "source": [
    "### Checking all went right\n",
    "\n",
    "Before calculating the time-explicit LCA, make sure that everything went right so far. As a check, the standard LCA score of the original transport activity with the corresponding amount should be equal the standard LCA of the modified life cycle activity created in the foreground!"
   ]
  },
  {
   "cell_type": "code",
   "execution_count": null,
   "metadata": {},
   "outputs": [],
   "source": [
    "import bw2calc as bc\n",
    "\n",
    "# standard LCA of the original transport activity with the corresponding amount\n",
    "transport_icec= db_2020_NPi.get(name='transport, passenger car, gasoline, Medium SUV, EURO-6', location=\"RER\")\n",
    "method = ('ecoinvent-3.10', 'EF v3.1', 'climate change', 'global warming potential (GWP100)')\n",
    "lca = bc.LCA({transport_icec: LIFETIME_KM}, method)\n",
    "lca.lci()\n",
    "lca.lcia()\n",
    "\n",
    "# standard LCA of the modified life cycle activity created in the foreground\n",
    "lca_fg = bc.LCA({LC_ICEC: 1}, method)\n",
    "lca_fg.lci()\n",
    "lca_fg.lcia()\n",
    "\n",
    "assert(np.isclose(lca.score, lca_fg.score)) # if this passes, it's all good"
   ]
  },
  {
   "cell_type": "code",
   "execution_count": null,
   "metadata": {},
   "outputs": [],
   "source": [
    "# now the same for the BEV\n",
    "# standard LCA of the original transport activity with the corresponding amount\n",
    "transport_bev = db_2020_NPi.get(name='transport, passenger car, battery electric, Medium SUV', location=\"RER\")\n",
    "lca_bev = bc.LCA({transport_bev: LIFETIME_KM}, method)\n",
    "lca_bev.lci()\n",
    "lca_bev.lcia()\n",
    "\n",
    "# standard LCA of the modified life cycle activity created in the foreground\n",
    "lca_bev_fg = bc.LCA({LC_BEV: 1}, method)\n",
    "lca_bev_fg.lci()\n",
    "lca_bev_fg.lcia()\n",
    "\n",
    "assert(np.isclose(lca_bev.score, lca_bev_fg.score)) # if this passes, it's all good"
   ]
  },
  {
   "cell_type": "markdown",
   "metadata": {},
   "source": [
    "## Time-explicit LCA with `bw_timex`"
   ]
  },
  {
   "cell_type": "markdown",
   "metadata": {},
   "source": [
    "Now we can start using `bw_timex` to build the process timeline, build the time-explicit inventory and calculate the time explicit scores.\n",
    "\n",
    "Start by creating a dictionary mapping the respective databases to the relevant timestamps. \n",
    "Then instantiate your timexLCA object, build the timeline, calculate the LCI, and the LCIA for both options.\n"
   ]
  },
  {
   "cell_type": "code",
   "execution_count": null,
   "metadata": {},
   "outputs": [],
   "source": [
    "from datetime import datetime\n",
    "\n",
    "database_dates = {\n",
    "    db_2020_NPi.name: datetime.strptime(\"2020\", \"%Y\"),\n",
    "    db_2030_NPi.name: datetime.strptime(\"2030\", \"%Y\"),\n",
    "    db_2040_NPi.name: datetime.strptime(\"2040\", \"%Y\"),\n",
    "    db_2050_NPi.name: datetime.strptime(\"2050\", \"%Y\"),\n",
    "    foreground.name: \"dynamic\", # flag databases that should be temporally distributed with \"dynamic\"\n",
    "}"
   ]
  },
  {
   "cell_type": "code",
   "execution_count": null,
   "metadata": {},
   "outputs": [],
   "source": [
    "from bw_timex import TimexLCA\n",
    "\n",
    "tlca_BEV = TimexLCA({LC_BEV: 1}, method, database_dates)\n",
    "tlca_BEV.build_timeline(temporal_grouping=\"year\")  # build timeline with yearly steps"
   ]
  },
  {
   "cell_type": "code",
   "execution_count": null,
   "metadata": {},
   "outputs": [],
   "source": [
    "tlca_BEV.lci()"
   ]
  },
  {
   "cell_type": "code",
   "execution_count": null,
   "metadata": {},
   "outputs": [],
   "source": [
    "tlca_BEV.dynamic_lcia(metric=\"GWP\", time_horizon=100, fixed_time_horizon=True)  # calculate the dynamic LCIA for GWP100"
   ]
  },
  {
   "cell_type": "code",
   "execution_count": null,
   "metadata": {},
   "outputs": [],
   "source": [
    "print(f'Total: {tlca_BEV.dynamic_score:.2e} kg CO2-eq for {LIFETIME_KM} km driving with BEV')"
   ]
  },
  {
   "cell_type": "code",
   "execution_count": null,
   "metadata": {},
   "outputs": [],
   "source": [
    "tlca_ICEC = TimexLCA({LC_ICEC: 1}, method, database_dates)\n",
    "tlca_ICEC.build_timeline(temporal_grouping=\"year\")  # build timeline with yearly steps\n",
    "tlca_ICEC.lci()  # calculate the dynamic inventory\n",
    "tlca_ICEC.dynamic_lcia(metric=\"GWP\", time_horizon=100, fixed_time_horizon=True)"
   ]
  },
  {
   "cell_type": "code",
   "execution_count": null,
   "metadata": {},
   "outputs": [],
   "source": [
    "print(f'Total: {tlca_ICEC.dynamic_score:.2e} kg CO2-eq for {LIFETIME_KM} km driving with ICEC')"
   ]
  },
  {
   "cell_type": "markdown",
   "metadata": {},
   "source": [
    "## Visualise results and compare the different cars and scenarios\n",
    "\n",
    "- Now find a good way to visualise the results. There are some simple plotting functions included such as plot_dynamic_inventory()\n",
    "\n",
    "- Compare the the time-explicit results with the static and prospective cases\n",
    "\n",
    "- Try another base year (Hint: you can just change the starting year)\n",
    "\n",
    "- Run the other scenario to see the differences for both cars \n",
    "\n"
   ]
  },
  {
   "cell_type": "code",
   "execution_count": null,
   "metadata": {},
   "outputs": [],
   "source": [
    "# As a first try we can use the integrated plotting function of timex\n",
    "tlca_BEV.plot_dynamic_characterized_inventory(sum_emissions_within_activity=True)\n",
    "tlca_ICEC.plot_dynamic_characterized_inventory(sum_emissions_within_activity=True)"
   ]
  },
  {
   "cell_type": "markdown",
   "metadata": {},
   "source": [
    "## BONUS options:\n",
    "\n",
    "- Add temporal information further throughout the supply chain. To do this, move further background processes to the foreground and add TDs, e.g., for the steel that is needed for the vehicle production processes.\n",
    "\n",
    "- Use temporal distributions to model a fleet (of changing composition). (Hint: for a fleet some cars will live longer, some shorter. This can be modelled using a temporal distribution for the use phase and the EoL)\n",
    "    - Now you can also look at different impacts (e.g. metal demand for example and see the metal demand per year needed to build a fleet)\n",
    "\n",
    "- How does the comparison change if we replace the petrol consumption of the car with biofuel (e.g. this activity:  'petrol production, 85% ethanol by volume from biomass' (kilogram, CH, None)). And then what about if you include biogenic carbon emissions by using for example this method: ('ecoinvent-3.10',\n",
    "  'IPCC 2021',\n",
    "  'climate change: biogenic',\n",
    "  'global warming potential (GWP100)')\n",
    "\n",
    "- Use dynamic_lcia(use_disaggregated_lci=TRUE) to perform a contribution analysis on the background activities contributing to the impacts. (Note that this function can take a while), find a good way to visualize this."
   ]
  }
 ],
 "metadata": {
  "kernelspec": {
   "display_name": "timex_brightcon",
   "language": "python",
   "name": "python3"
  },
  "language_info": {
   "codemirror_mode": {
    "name": "ipython",
    "version": 3
   },
   "file_extension": ".py",
   "mimetype": "text/x-python",
   "name": "python",
   "nbconvert_exporter": "python",
   "pygments_lexer": "ipython3",
   "version": "3.11.13"
  }
 },
 "nbformat": 4,
 "nbformat_minor": 4
}
