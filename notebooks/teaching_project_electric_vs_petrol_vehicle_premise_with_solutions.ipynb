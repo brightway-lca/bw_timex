{
 "cells": [
  {
   "cell_type": "markdown",
   "metadata": {},
   "source": [
    "# `bw_timex` Teaching Exercise - Time-explicit LCA of an Electric Vehicle vs Petrol Vehicle. SOLUTION NOTEBOOK\n",
    "\n",
    "In this exercise notebook you will compare the climate preformance of a battery electric vehicle (BEV) and an internal combustion engine (ICE) car, in a time explicit way, using in different decarbonisation scenarios. \n",
    "\n",
    "In order to have a fair comparison**, we will start from two existing ecoinvent activities (listed below) and will add the temporal information as needed. This notebook will guide you through the steps needed to build the model. But if you are you can either ask the instructors or have a look at the solution notebook (Note that this just provides one solution, and there are often multiple ways to get to the same result, so we encourage you to use the way that is most intuative to you!). \n",
    "\n",
    "At the end of this notebook there are a few bonus questions. \n",
    "\n",
    "\n",
    "** Warning: Any LCA is only every as good as the underlying data. the data on cars in Ecoinvent is really outdated (check the description/comment of the activities to get an idea about the data), so the results from this exercise should be interpreted with care, as should any LCA result be of course!\n",
    "\n",
    "\n"
   ]
  },
  {
   "cell_type": "code",
   "execution_count": 1,
   "metadata": {},
   "outputs": [
    {
     "name": "stderr",
     "output_type": "stream",
     "text": [
      "/Users/ajakobs/miniconda3/envs/timex_new/lib/python3.11/site-packages/scikits/__init__.py:1: UserWarning: pkg_resources is deprecated as an API. See https://setuptools.pypa.io/en/latest/pkg_resources.html. The pkg_resources package is slated for removal as early as 2025-11-30. Refrain from using this package or pin to Setuptools<81.\n",
      "  __import__('pkg_resources').declare_namespace(__name__)\n"
     ]
    }
   ],
   "source": [
    "# first we need to load the correct Brightway2 project with the required databases\n",
    "import bw2data as bd\n",
    "import bw2io as bi\n",
    "\n",
    "\n",
    "project_name = \"Timex_teaching_ei310\"\n",
    "\n",
    "# let's make sure to start fresh\n",
    "if project_name in bd.projects:\n",
    "    print(f\"Project '{project_name}' already exists. Deleting it for fresh import.\")\n",
    "    bd.projects.delete(project_name)\n",
    "\n",
    "\n",
    "bi.backup.restore_project_directory(fp= '/Users/ajakobs/Documents/prospective_dynamic_lca/brightway2-project-Timex_teaching_ei310-backup08-October-2025-05-15PM.tar.gz',\n",
    "                                    overwrite_existing=True)\n",
    "\n"
   ]
  },
  {
   "cell_type": "code",
   "execution_count": 3,
   "metadata": {},
   "outputs": [
    {
     "name": "stdout",
     "output_type": "stream",
     "text": [
      "Databases dictionary with 11 object(s):\n",
      "\tecoinvent-3.10-biosphere\n",
      "\tecoinvent-3.10-cutoff\n",
      "\tei_cutoff_3.10_remind-eu_SSP2-NPi_2020 2025-10-08\n",
      "\tei_cutoff_3.10_remind-eu_SSP2-NPi_2030 2025-10-08\n",
      "\tei_cutoff_3.10_remind-eu_SSP2-NPi_2040 2025-10-08\n",
      "\tei_cutoff_3.10_remind-eu_SSP2-NPi_2050 2025-10-08\n",
      "\tei_cutoff_3.10_remind-eu_SSP2-PkBudg650_2020 2025-10-08\n",
      "\tei_cutoff_3.10_remind-eu_SSP2-PkBudg650_2030 2025-10-08\n",
      "\tei_cutoff_3.10_remind-eu_SSP2-PkBudg650_2040 2025-10-08\n",
      "\tei_cutoff_3.10_remind-eu_SSP2-PkBudg650_2050 2025-10-08\n",
      "\tforeground\n"
     ]
    }
   ],
   "source": [
    "# check the databases present\n",
    "print(bd.databases)"
   ]
  },
  {
   "cell_type": "markdown",
   "metadata": {},
   "source": [
    "## Prospective background databases\n",
    "\n",
    "We used `premise` to create two different sets of 'ecoinvent-databases' representing two different carbonisation pathways. They are the based on the REMIND-EU IAM for the SSP2 scenario in combination with Paris Agreement consistent policies (PkBud650) as an (very) optimistic scenario, and the 'national policies implemented' (NPi) as a business as usual (BAU) scenario:\n",
    "\n",
    "- REMIND-EU - SSP2-NPi       : BAU scenario with ~3˚ warming by 2100\n",
    "- REMIND-EU - SSP2-PkBudg650 : Optimistic scenario in line with Paris 2015 with 1.5˚-1.9˚ warming bby 2100\n",
    "\n",
    "(See [the Premise documentation](https://premise.readthedocs.io/en/latest/introduction.html#default-iam-scenarios) for a brief overview of the IAM scenarios) \n",
    "\n"
   ]
  },
  {
   "cell_type": "code",
   "execution_count": 4,
   "metadata": {},
   "outputs": [],
   "source": [
    "# Let's get easy handles for the databases for ease of use:\n",
    "# National Policies and Implemention (NPi) scenario\n",
    "db_2020_NPi = bd.Database(\"ei_cutoff_3.10_remind-eu_SSP2-NPi_2020 2025-10-08\")\n",
    "db_2030_NPi = bd.Database(\"ei_cutoff_3.10_remind-eu_SSP2-NPi_2030 2025-10-08\")\n",
    "db_2040_NPi = bd.Database(\"ei_cutoff_3.10_remind-eu_SSP2-NPi_2040 2025-10-08\")\n",
    "db_2050_NPi = bd.Database(\"ei_cutoff_3.10_remind-eu_SSP2-NPi_2050 2025-10-08\")"
   ]
  },
  {
   "cell_type": "code",
   "execution_count": 6,
   "metadata": {},
   "outputs": [],
   "source": [
    "# Peak-Budget 650 scenario\n",
    "db_2020_PkBudg650 = bd.Database(\"ei_cutoff_3.10_remind-eu_SSP2-PkBudg650_2020 2025-10-08\")\n",
    "db_2030_PkBudg650 = bd.Database(\"ei_cutoff_3.10_remind-eu_SSP2-PkBudg650_2030 2025-10-08\")\n",
    "db_2040_PkBudg650 = bd.Database(\"ei_cutoff_3.10_remind-eu_SSP2-PkBudg650_2040 2025-10-08\")\n",
    "db_2050_PkBudg650 = bd.Database(\"ei_cutoff_3.10_remind-eu_SSP2-PkBudg650_2050 2025-10-08\")"
   ]
  },
  {
   "cell_type": "markdown",
   "metadata": {},
   "source": [
    "## Case study setup\n",
    "\n",
    "In this exercise we will go about setting up the forground system in a slightly different way. In our case driving a(n electric) car is already represented in ecoinvent. So all we would need to do is to add the temporal distributions to the exchanges. In the current implementation of `bw_timex`, all activities \n",
    "containing temporal information on the exchanges need to 'live' in the foreground system, so that their inputs can get linked to different background activities.\n",
    "\n",
    "Let's start the definition of our functional unit (FU): \n",
    "\n",
    "- Driving a passenger car for 200,000km (including production, EoL treatment, maintenance, etc), over a period of 15 years.\n"
   ]
  },
  {
   "cell_type": "markdown",
   "metadata": {},
   "source": [
    "### Modeling the production system\n",
    "\n",
    "As a first step of modelling the production system let's create a new foreground database:\n"
   ]
  },
  {
   "cell_type": "code",
   "execution_count": 7,
   "metadata": {},
   "outputs": [],
   "source": [
    "fg_db_name = \"foreground\"\n",
    "\n",
    "if fg_db_name in bd.databases:\n",
    "    del bd.databases[fg_db_name] # to make sure we create the foreground from scratch\n",
    "# foreground = bd.Database(fg_db_name)\n",
    "# foreground.register()"
   ]
  },
  {
   "cell_type": "code",
   "execution_count": 8,
   "metadata": {},
   "outputs": [],
   "source": [
    "foreground = bd.Database(fg_db_name)\n",
    "foreground.register()"
   ]
  },
  {
   "cell_type": "markdown",
   "metadata": {},
   "source": [
    "And let's define the FU relevant quantities: "
   ]
  },
  {
   "cell_type": "code",
   "execution_count": 10,
   "metadata": {},
   "outputs": [],
   "source": [
    "LIFETIME_KM = 200000.  # lifetime of the vehicle in km\n",
    "LIFETIME = 15  # lifetime of the vehicle in years\n",
    "ANNUAL_KM = LIFETIME_KM / LIFETIME  # annual km"
   ]
  },
  {
   "cell_type": "markdown",
   "metadata": {},
   "source": [
    "Now let's create two activities in the foreground that represent the functional units as defined above (production/driving/EoL treatment of a car for 200,000km over 15 years). We can call them LC_BEV and LC_ICEC for example (LC=life cyle)"
   ]
  },
  {
   "cell_type": "code",
   "execution_count": 11,
   "metadata": {},
   "outputs": [],
   "source": [
    "LC_BEV = foreground.new_node(\"lc_bev\", name=\"Life cycle of a BEV\", unit=\"unit\")\n",
    "LC_BEV['reference product'] = \"LC_BEV\"\n",
    "LC_BEV.save()\n",
    "\n",
    "LC_ICEC = foreground.new_node(\"lc_icec\", name=\"Life cycle of a internal combustion engine car\")\n",
    "LC_ICEC['reference product'] = \"LC_ICEC\"\n",
    "LC_ICEC.save()\n"
   ]
  },
  {
   "cell_type": "markdown",
   "metadata": {},
   "source": [
    "Let's make a simplified overview of the activities at every step (example for the ICEC). So far we only have defined the lifecycle activity:\n",
    "in the foreground. We will use different colours for the foreground and backgroudn processes. \n",
    "\n",
    "```{mermaid}\n",
    "flowchart LR\n",
    "    LC_ICEC(Life Cycle ICEC):::fg\n",
    "\n",
    "    classDef ei color:#222832, fill:#3fb1c5, stroke:none;\n",
    "    classDef fg color:#222832, fill:#9c5ffd, stroke:none;\n",
    "\n",
    "```\n",
    "Legend:\n",
    "```{mermaid}\n",
    "flowchart TD\n",
    "    foreground(Foreground process):::fg \n",
    "    background(Background process):::ei\n",
    "\n",
    "    classDef ei color:#222832, fill:#3fb1c5, stroke:none;\n",
    "    classDef fg color:#222832, fill:#9c5ffd, stroke:none;\n",
    "\n",
    "```\n"
   ]
  },
  {
   "cell_type": "markdown",
   "metadata": {},
   "source": [
    "Ecoinvent already contains activities that represent transport with a passenger car. So let's get the following two activities from the base database** for the BAU scenario and create a copy in our foreground database:\n",
    "\n",
    "- Driving a gasoline car: \"transport, passenger car, gasoline, Medium SUV, EURO-6\"\n",
    "- Driving a BEV: \"transport, passenger car, gasoline, Medium SUV, EURO-6\"\n",
    "\n",
    "The idea is to first see how these activities are set up. It might help to draw your own system definition to create an overview of the exchnages and to which you want to add temporal information. The following steps guide you through the process. \n",
    "\n",
    "HINT: their are multiple locations of this activity in the premise database, choose one of your liking/or that makes sense for you.\n",
    "HINT: copy to a different database by first copying the activity and then changing the database.\n",
    "\n",
    "** We consider that as our base year and db_2020 as the 'base' database"
   ]
  },
  {
   "cell_type": "code",
   "execution_count": 13,
   "metadata": {},
   "outputs": [
    {
     "name": "stdout",
     "output_type": "stream",
     "text": [
      "Successfully switch activity dataset to database `foreground`\n",
      "Successfully switch activity dataset to database `foreground`\n"
     ]
    }
   ],
   "source": [
    "# only run this cell once!\n",
    "driving_icec = db_2020_NPi.get(name='transport, passenger car, gasoline, Medium SUV, EURO-6', location=\"RER\").copy()\n",
    "driving_icec['database'] = fg_db_name\n",
    "driving_bev = db_2020_NPi.get(name='transport, passenger car, battery electric, Medium SUV', location=\"RER\").copy()\n",
    "driving_bev['database'] = fg_db_name"
   ]
  },
  {
   "cell_type": "markdown",
   "metadata": {},
   "source": [
    "The Reference product of these activities should be 1 km traveled by the resepctive vehicle, but let's check the reference product and its unit:"
   ]
  },
  {
   "cell_type": "code",
   "execution_count": 14,
   "metadata": {},
   "outputs": [
    {
     "name": "stdout",
     "output_type": "stream",
     "text": [
      "Driving BEV reference product: Exchange: 1.0 kilometer 'transport, passenger car, battery electric, Medium SUV' (kilometer, RER, None) to 'transport, passenger car, battery electric, Medium SUV' (kilometer, RER, None)>\n",
      "Driving BEV rp unit: kilometer\n",
      "Driving ICEC reference product: Exchange: 1.0 kilometer 'transport, passenger car, gasoline, Medium SUV, EURO-6' (kilometer, RER, None) to 'transport, passenger car, gasoline, Medium SUV, EURO-6' (kilometer, RER, None)>\n",
      "Driving ICEC rp unit: kilometer\n"
     ]
    }
   ],
   "source": [
    "print(f'Driving BEV reference product: {driving_bev.rp_exchange()}')\n",
    "print(f'Driving BEV rp unit: {driving_bev.rp_exchange()[\"unit\"]}')\n",
    "print(f'Driving ICEC reference product: {driving_icec.rp_exchange()}')\n",
    "print(f'Driving ICEC rp unit: {driving_icec.rp_exchange()[\"unit\"]}')"
   ]
  },
  {
   "cell_type": "markdown",
   "metadata": {},
   "source": [
    "Have a look at what the inputs into such a car is and identify the relevant exchanges:"
   ]
  },
  {
   "cell_type": "code",
   "execution_count": 15,
   "metadata": {},
   "outputs": [
    {
     "data": {
      "text/plain": [
       "[Exchange: 1.0032746104116086e-05 unit 'maintenance, passenger car' (unit, RER, None) to 'transport, passenger car, battery electric, Medium SUV' (kilometer, RER, None)>,\n",
       " Exchange: -8.875493222149089e-06 kilogram 'market for brake wear emissions, passenger car' (kilogram, GLO, None) to 'transport, passenger car, battery electric, Medium SUV' (kilometer, RER, None)>,\n",
       " Exchange: 6.330434644041816e-06 kilogram 'market for refrigerant R134a' (kilogram, GLO, None) to 'transport, passenger car, battery electric, Medium SUV' (kilometer, RER, None)>,\n",
       " Exchange: 0.0010772707173600793 meter-year 'market for road' (meter-year, GLO, None) to 'transport, passenger car, battery electric, Medium SUV' (kilometer, RER, None)>,\n",
       " Exchange: 0.001290000043809414 meter-year 'market for road maintenance' (meter-year, RER, None) to 'transport, passenger car, battery electric, Medium SUV' (kilometer, RER, None)>,\n",
       " Exchange: -1.896191679406911e-05 kilogram 'market for road wear emissions, passenger car' (kilogram, GLO, None) to 'transport, passenger car, battery electric, Medium SUV' (kilometer, RER, None)>,\n",
       " Exchange: -2.1572961486526765e-05 kilogram 'market for tyre wear emissions, passenger car' (kilogram, GLO, None) to 'transport, passenger car, battery electric, Medium SUV' (kilometer, RER, None)>,\n",
       " Exchange: 4.999999873689376e-06 unit 'passenger car, battery electric, Medium SUV' (unit, RER, None) to 'transport, passenger car, battery electric, Medium SUV' (kilometer, RER, None)>,\n",
       " Exchange: 0.2626369893550873 kilowatt hour 'market group for electricity, low voltage' (kilowatt hour, DEU, None) to 'transport, passenger car, battery electric, Medium SUV' (kilometer, RER, None)>]"
      ]
     },
     "execution_count": 15,
     "metadata": {},
     "output_type": "execute_result"
    }
   ],
   "source": [
    "[exc for exc in driving_bev.technosphere()]"
   ]
  },
  {
   "cell_type": "code",
   "execution_count": 50,
   "metadata": {},
   "outputs": [
    {
     "data": {
      "text/plain": [
       "[Exchange: 7.640378498763312e-06 unit 'maintenance, passenger car' (unit, RER, None) to 'transport, passenger car, gasoline, Medium SUV, EURO-6' (kilometer, RER, None)>,\n",
       " Exchange: -1.4271368854679167e-05 kilogram 'market for brake wear emissions, passenger car' (kilogram, GLO, None) to 'transport, passenger car, gasoline, Medium SUV, EURO-6' (kilometer, RER, None)>,\n",
       " Exchange: 6.330434644041816e-06 kilogram 'market for refrigerant R134a' (kilogram, GLO, None) to 'transport, passenger car, gasoline, Medium SUV, EURO-6' (kilometer, RER, None)>,\n",
       " Exchange: 0.0008383162785321474 meter-year 'market for road' (meter-year, GLO, None) to 'transport, passenger car, gasoline, Medium SUV, EURO-6' (kilometer, RER, None)>,\n",
       " Exchange: 0.001290000043809414 meter-year 'market for road maintenance' (meter-year, RER, None) to 'transport, passenger car, gasoline, Medium SUV, EURO-6' (kilometer, RER, None)>,\n",
       " Exchange: -1.5723269825684838e-05 kilogram 'market for road wear emissions, passenger car' (kilogram, GLO, None) to 'transport, passenger car, gasoline, Medium SUV, EURO-6' (kilometer, RER, None)>,\n",
       " Exchange: -1.8701161025092006e-05 kilogram 'market for tyre wear emissions, passenger car' (kilogram, GLO, None) to 'transport, passenger car, gasoline, Medium SUV, EURO-6' (kilometer, RER, None)>,\n",
       " Exchange: 0.05594037100672722 kilogram 'market for petrol, low-sulfur' (kilogram, DEU, None) to 'transport, passenger car, gasoline, Medium SUV, EURO-6' (kilometer, RER, None)>]"
      ]
     },
     "execution_count": 50,
     "metadata": {},
     "output_type": "execute_result"
    }
   ],
   "source": [
    "[exc for exc in driving_icec.technosphere()]"
   ]
  },
  {
   "cell_type": "markdown",
   "metadata": {},
   "source": [
    "LEt's make a simplified overview of these activities so far (example for the ICEC): \n",
    "\n",
    "```{mermaid}\n",
    "flowchart LR\n",
    "    passenger_icec(Passenger car, gasoline, ...):::ei-->transport_icec\n",
    "    petrol(Market for Petrol, ...):::ei-->transport_icec\n",
    "    maintenance_wear(Maintenance and wear):::ei-->transport_icec\n",
    "    transport_icec(Driving an ICEC):::fg -.-> lc_icec(Life Cycle ICEC):::fg\n",
    "    \n",
    "    \n",
    "\n",
    "    classDef ei color:#222832, fill:#3fb1c5, stroke:none;\n",
    "    classDef fg color:#222832, fill:#9c5ffd, stroke:none;\n",
    "```\n",
    "\n",
    "Where the dotted line indicates that we have not made this connection yet. "
   ]
  },
  {
   "cell_type": "markdown",
   "metadata": {},
   "source": [
    "These 'transport activities' include both the car, which in itself contains both production and EoL treatment (check this!!), as well as the fuel/electricity, maintenance and wear etc. Now we want to model the production and EoL treatment of car and it's elements separately so let's make a copy of these activities in the foreground so that we can add temporal distributions to the production and EoL.\n",
    "\n",
    "At the same time we want to split the driving and production/EoL so set the input of the car into the driving activity to 0 to avoid double counting."
   ]
  },
  {
   "cell_type": "code",
   "execution_count": 17,
   "metadata": {},
   "outputs": [
    {
     "name": "stdout",
     "output_type": "stream",
     "text": [
      "Successfully switch activity dataset to database `foreground`\n",
      "Successfully switch activity dataset to database `foreground`\n"
     ]
    }
   ],
   "source": [
    "# first copy the activities production/EoL treatment of the cars into the foreground\n",
    "bev_production_eol = db_2020_NPi.get(name='passenger car, battery electric, Medium SUV').copy()\n",
    "bev_production_eol['database'] = fg_db_name\n",
    "\n",
    "icec_production_eol = db_2020_NPi.get(name='Passenger car, gasoline, Medium SUV, EURO-6d').copy()\n",
    "icec_production_eol['database'] = fg_db_name\n"
   ]
  },
  {
   "cell_type": "markdown",
   "metadata": {},
   "source": [
    "Have a look at the exchanges of the production/EoL activity and see that these indeed include both production and EoL.\n"
   ]
  },
  {
   "cell_type": "code",
   "execution_count": 18,
   "metadata": {},
   "outputs": [
    {
     "name": "stdout",
     "output_type": "stream",
     "text": [
      "Exchange: 55.0 kilowatt hour 'market for battery capacity (MIX scenario)' (kilowatt hour, GLO, None) to 'passenger car, battery electric, Medium SUV' (unit, RER, None)>\n",
      "Exchange: 196.0 kilogram 'glider lightweighting' (kilogram, GLO, None) to 'passenger car, battery electric, Medium SUV' (unit, RER, None)>\n",
      "Exchange: 5.960869789123535 kilogram 'market for charger, electric passenger car' (kilogram, GLO, None) to 'passenger car, battery electric, Medium SUV' (unit, RER, None)>\n",
      "Exchange: 4.470652103424072 kilogram 'market for converter, for electric passenger car' (kilogram, GLO, None) to 'passenger car, battery electric, Medium SUV' (unit, RER, None)>\n",
      "Exchange: 89.32574462890625 kilogram 'market for electric motor, electric passenger car' (kilogram, GLO, None) to 'passenger car, battery electric, Medium SUV' (unit, RER, None)>\n",
      "Exchange: 1400.0 kilogram 'market for glider, passenger car' (kilogram, GLO, None) to 'passenger car, battery electric, Medium SUV' (unit, RER, None)>\n",
      "Exchange: 89.41740417480469 kilogram 'market for internal combustion engine, passenger car' (kilogram, GLO, None) to 'passenger car, battery electric, Medium SUV' (unit, RER, None)>\n",
      "Exchange: 8.941304206848145 kilogram 'market for inverter, for electric passenger car' (kilogram, GLO, None) to 'passenger car, battery electric, Medium SUV' (unit, RER, None)>\n",
      "Exchange: 3.9739129543304443 kilogram 'market for power distribution unit, for electric passenger car' (kilogram, GLO, None) to 'passenger car, battery electric, Medium SUV' (unit, RER, None)>\n",
      "Exchange: -112.6724853515625 kilogram 'market for used powertrain from electric passenger car, manual dismantling' (kilogram, GLO, None) to 'passenger car, battery electric, Medium SUV' (unit, RER, None)>\n",
      "Exchange: -1204.0 kilogram 'treatment of used glider, passenger car, shredding' (kilogram, GLO, None) to 'passenger car, battery electric, Medium SUV' (unit, RER, None)>\n",
      "Exchange: -89.41740417480469 kilogram 'treatment of used internal combustion engine, passenger car, shredding' (kilogram, GLO, None) to 'passenger car, battery electric, Medium SUV' (unit, RER, None)>\n",
      "Exchange: 1104.0 kilowatt hour 'market group for electricity, low voltage' (kilowatt hour, DEU, None) to 'passenger car, battery electric, Medium SUV' (unit, RER, None)>\n"
     ]
    }
   ],
   "source": [
    "for exc in bev_production_eol.technosphere():\n",
    "    print(exc)"
   ]
  },
  {
   "cell_type": "code",
   "execution_count": 19,
   "metadata": {},
   "outputs": [],
   "source": [
    "# now set the input of the car into the driving activity to 0 to avoid double counting\n",
    "for exc in driving_bev.technosphere():\n",
    "    if exc.input['name'] == 'passenger car, battery electric, Medium SUV':\n",
    "        exc.delete()\n",
    "        break\n",
    "for exc in driving_icec.technosphere():\n",
    "    if exc.input['name'] == 'Passenger car, gasoline, Medium SUV, EURO-6d':\n",
    "        exc.delete()\n",
    "        break"
   ]
  },
  {
   "cell_type": "markdown",
   "metadata": {},
   "source": [
    "So now update our overview:\n",
    "\n",
    "```{mermaid}\n",
    "flowchart LR\n",
    "    petrol(Market for Petrol, ...):::ei-->transport_icec\n",
    "    maintenance_wear(Maintenance and wear):::ei-->transport_icec\n",
    "    transport_icec(Driving an ICEC):::fg -.-> lc_icec(Life Cycle ICEC):::fg\n",
    "    passenger_icec(Passenger car, gasoline, ...):::fg-.->lc_icec\n",
    "    production_icec(Production ICEC):::ei-->passenger_icec\n",
    "    eol_icec(EoL treatment ICEC):::ei-->passenger_icec\n",
    "    \n",
    "\n",
    "    classDef ei color:#222832, fill:#3fb1c5, stroke:none;\n",
    "    classDef fg color:#222832, fill:#9c5ffd, stroke:none;\n",
    "```\n",
    "\n",
    "Where the dotted line indicates that we have not made this connection yet. "
   ]
  },
  {
   "cell_type": "markdown",
   "metadata": {},
   "source": [
    "### Adding the relevant exchanges and temporal information\n",
    "\n",
    "Now it is time to add the relevant exchanges to the functional unit activities together with relevant temporal distributions. Be carefull to add the temporal distribution to poduction and EoL at the right exchnage, so that production happens before the use phase but EoL after the use phase. \n",
    "\n",
    "Tipp: for ease of use, or if you forgot how to define temporal distributions you can use the interactive_td_widget!\n",
    "\n",
    "Tipp 2: Use the utility function add_temporal_distribution_to_exchange to add the temporal distribution to the EoL of the production/EoL activity of the cars. \n"
   ]
  },
  {
   "cell_type": "markdown",
   "metadata": {},
   "source": [
    "Let's first draw the system we want including where we want TD's\n",
    "\n",
    "\n",
    "```{mermaid}\n",
    "flowchart LR\n",
    "    petrol(Market for Petrol, ...):::ei-->transport_icec\n",
    "    maintenance_wear(Maintenance and wear):::ei-->transport_icec\n",
    "    transport_icec(Driving an ICEC):::fg ==>|Temporal information|lc_icec(Life Cycle ICEC):::fg\n",
    "    passenger_icec(Passenger car, gasoline, ...):::fg==>|Temporal information|lc_icec\n",
    "    production_icec(Production ICEC):::ei-->passenger_icec\n",
    "    eol_icec(EoL treatment ICEC):::ei==>|Temporal information|passenger_icec\n",
    "    \n",
    "\n",
    "    classDef ei color:#222832, fill:#3fb1c5, stroke:none;\n",
    "    classDef fg color:#222832, fill:#9c5ffd, stroke:none;\n",
    "```\n",
    "\n",
    "\n"
   ]
  },
  {
   "cell_type": "code",
   "execution_count": null,
   "metadata": {},
   "outputs": [],
   "source": [
    "# some relevant imports\n",
    "from bw_timex.utils import interactive_td_widget\n",
    "from bw_timex.utils import add_temporal_distribution_to_exchange\n",
    "from bw_temporalis import easy_timedelta_distribution"
   ]
  },
  {
   "cell_type": "code",
   "execution_count": 21,
   "metadata": {},
   "outputs": [
    {
     "data": {
      "application/vnd.jupyter.widget-view+json": {
       "model_id": "274dcfa6695d414bb969ac9e3c228ab6",
       "version_major": 2,
       "version_minor": 0
      },
      "text/plain": [
       "VBox(children=(ToggleButtons(description='Mode', options=('Generator', 'Manual'), value='Generator'), ToggleBu…"
      ]
     },
     "execution_count": 21,
     "metadata": {},
     "output_type": "execute_result"
    }
   ],
   "source": [
    "interactive_td_widget()"
   ]
  },
  {
   "cell_type": "code",
   "execution_count": 22,
   "metadata": {},
   "outputs": [],
   "source": [
    "LC_BEV.new_edge(input=LC_BEV, amount=1, type='production').save()\n",
    "LC_BEV.new_edge(input=driving_bev, amount=LIFETIME_KM, type='technosphere').save()\n",
    "LC_BEV.new_edge(input=bev_production_eol, amount=1, type='technosphere').save()\n",
    "\n",
    "LC_ICEC.new_edge(input=LC_ICEC, amount=1, type='production').save()\n",
    "LC_ICEC.new_edge(input=driving_icec, amount=LIFETIME_KM, type='technosphere').save()\n",
    "LC_ICEC.new_edge(input=icec_production_eol, amount=1, type='technosphere').save()"
   ]
  },
  {
   "cell_type": "code",
   "execution_count": 23,
   "metadata": {},
   "outputs": [
    {
     "name": "stderr",
     "output_type": "stream",
     "text": [
      "/Users/ajakobs/miniconda3/envs/timex_new/lib/python3.11/site-packages/bw_temporalis/utils.py:194: UserWarning: More steps than discrete possibilities (6 versus 5).\n",
      "    Values will be duplicated due to rounding.\n",
      "  warnings.warn(MESSAGE)\n",
      "\u001b[32m2025-10-09 10:44:09.209\u001b[0m | \u001b[1mINFO    \u001b[0m | \u001b[36mbw_timex.utils\u001b[0m:\u001b[36madd_temporal_distribution_to_exchange\u001b[0m:\u001b[36m472\u001b[0m - \u001b[1mAdded temporal distribution to exchange Exchange: 200000.0 kilometer 'transport, passenger car, battery electric, Medium SUV' (kilometer, RER, None) to 'Life cycle of a BEV' (unit, GLO, None)>.\u001b[0m\n",
      "\u001b[32m2025-10-09 10:44:09.212\u001b[0m | \u001b[1mINFO    \u001b[0m | \u001b[36mbw_timex.utils\u001b[0m:\u001b[36madd_temporal_distribution_to_exchange\u001b[0m:\u001b[36m472\u001b[0m - \u001b[1mAdded temporal distribution to exchange Exchange: 200000.0 kilometer 'transport, passenger car, gasoline, Medium SUV, EURO-6' (kilometer, RER, None) to 'Life cycle of a internal combustion engine car' (None, GLO, None)>.\u001b[0m\n"
     ]
    }
   ],
   "source": [
    "# now define and add the temporal distributions to the relevant exchanges\n",
    "# for the production of the cars, we assume a uniform distribution over 5 years prior to use\n",
    "# for the use phase, we assume a uniform distribution over the lifetime of the car (15 years)\n",
    "# for the EoL, a fixed point in time at the end of the lifetime + 1 year\n",
    "\n",
    "td_driving =  easy_timedelta_distribution(\n",
    "    start=0,\n",
    "    end=15,\n",
    "    resolution='Y',\n",
    "    steps=16,\n",
    "    kind='uniform'\n",
    ")\n",
    "\n",
    "td_production = easy_timedelta_distribution(\n",
    "    start=-5,\n",
    "    end=-1,\n",
    "    resolution='Y',\n",
    "    steps=6,\n",
    "    kind='uniform'\n",
    ")\n",
    "\n",
    "import numpy as np\n",
    "from bw_temporalis import TemporalDistribution\n",
    "\n",
    "date = np.array([16], dtype='timedelta64[Y]')\n",
    "amount = np.array([1], dtype=float)\n",
    "td_eol = TemporalDistribution(date=date, amount=amount)\n",
    "\n",
    "\n",
    "add_temporal_distribution_to_exchange(td_driving,\n",
    "                                      input_node=driving_bev,\n",
    "                                      output_node=LC_BEV\n",
    "                                      )\n",
    "add_temporal_distribution_to_exchange(td_driving,\n",
    "                                      input_node=driving_icec,\n",
    "                                      output_node=LC_ICEC\n",
    "                                      )"
   ]
  },
  {
   "cell_type": "code",
   "execution_count": 24,
   "metadata": {},
   "outputs": [
    {
     "name": "stderr",
     "output_type": "stream",
     "text": [
      "\u001b[32m2025-10-09 10:44:09.539\u001b[0m | \u001b[1mINFO    \u001b[0m | \u001b[36mbw_timex.utils\u001b[0m:\u001b[36madd_temporal_distribution_to_exchange\u001b[0m:\u001b[36m472\u001b[0m - \u001b[1mAdded temporal distribution to exchange Exchange: 55.0 kilowatt hour 'market for battery capacity (MIX scenario)' (kilowatt hour, GLO, None) to 'passenger car, battery electric, Medium SUV' (unit, RER, None)>.\u001b[0m\n",
      "\u001b[32m2025-10-09 10:44:09.544\u001b[0m | \u001b[1mINFO    \u001b[0m | \u001b[36mbw_timex.utils\u001b[0m:\u001b[36madd_temporal_distribution_to_exchange\u001b[0m:\u001b[36m472\u001b[0m - \u001b[1mAdded temporal distribution to exchange Exchange: 196.0 kilogram 'glider lightweighting' (kilogram, GLO, None) to 'passenger car, battery electric, Medium SUV' (unit, RER, None)>.\u001b[0m\n",
      "\u001b[32m2025-10-09 10:44:09.548\u001b[0m | \u001b[1mINFO    \u001b[0m | \u001b[36mbw_timex.utils\u001b[0m:\u001b[36madd_temporal_distribution_to_exchange\u001b[0m:\u001b[36m472\u001b[0m - \u001b[1mAdded temporal distribution to exchange Exchange: 5.960869789123535 kilogram 'market for charger, electric passenger car' (kilogram, GLO, None) to 'passenger car, battery electric, Medium SUV' (unit, RER, None)>.\u001b[0m\n",
      "\u001b[32m2025-10-09 10:44:09.552\u001b[0m | \u001b[1mINFO    \u001b[0m | \u001b[36mbw_timex.utils\u001b[0m:\u001b[36madd_temporal_distribution_to_exchange\u001b[0m:\u001b[36m472\u001b[0m - \u001b[1mAdded temporal distribution to exchange Exchange: 4.470652103424072 kilogram 'market for converter, for electric passenger car' (kilogram, GLO, None) to 'passenger car, battery electric, Medium SUV' (unit, RER, None)>.\u001b[0m\n",
      "\u001b[32m2025-10-09 10:44:09.555\u001b[0m | \u001b[1mINFO    \u001b[0m | \u001b[36mbw_timex.utils\u001b[0m:\u001b[36madd_temporal_distribution_to_exchange\u001b[0m:\u001b[36m472\u001b[0m - \u001b[1mAdded temporal distribution to exchange Exchange: 89.32574462890625 kilogram 'market for electric motor, electric passenger car' (kilogram, GLO, None) to 'passenger car, battery electric, Medium SUV' (unit, RER, None)>.\u001b[0m\n",
      "\u001b[32m2025-10-09 10:44:09.558\u001b[0m | \u001b[1mINFO    \u001b[0m | \u001b[36mbw_timex.utils\u001b[0m:\u001b[36madd_temporal_distribution_to_exchange\u001b[0m:\u001b[36m472\u001b[0m - \u001b[1mAdded temporal distribution to exchange Exchange: 1400.0 kilogram 'market for glider, passenger car' (kilogram, GLO, None) to 'passenger car, battery electric, Medium SUV' (unit, RER, None)>.\u001b[0m\n",
      "\u001b[32m2025-10-09 10:44:09.561\u001b[0m | \u001b[1mINFO    \u001b[0m | \u001b[36mbw_timex.utils\u001b[0m:\u001b[36madd_temporal_distribution_to_exchange\u001b[0m:\u001b[36m472\u001b[0m - \u001b[1mAdded temporal distribution to exchange Exchange: 89.41740417480469 kilogram 'market for internal combustion engine, passenger car' (kilogram, GLO, None) to 'passenger car, battery electric, Medium SUV' (unit, RER, None)>.\u001b[0m\n",
      "\u001b[32m2025-10-09 10:44:09.565\u001b[0m | \u001b[1mINFO    \u001b[0m | \u001b[36mbw_timex.utils\u001b[0m:\u001b[36madd_temporal_distribution_to_exchange\u001b[0m:\u001b[36m472\u001b[0m - \u001b[1mAdded temporal distribution to exchange Exchange: 8.941304206848145 kilogram 'market for inverter, for electric passenger car' (kilogram, GLO, None) to 'passenger car, battery electric, Medium SUV' (unit, RER, None)>.\u001b[0m\n",
      "\u001b[32m2025-10-09 10:44:09.567\u001b[0m | \u001b[1mINFO    \u001b[0m | \u001b[36mbw_timex.utils\u001b[0m:\u001b[36madd_temporal_distribution_to_exchange\u001b[0m:\u001b[36m472\u001b[0m - \u001b[1mAdded temporal distribution to exchange Exchange: 3.9739129543304443 kilogram 'market for power distribution unit, for electric passenger car' (kilogram, GLO, None) to 'passenger car, battery electric, Medium SUV' (unit, RER, None)>.\u001b[0m\n",
      "\u001b[32m2025-10-09 10:44:09.571\u001b[0m | \u001b[1mINFO    \u001b[0m | \u001b[36mbw_timex.utils\u001b[0m:\u001b[36madd_temporal_distribution_to_exchange\u001b[0m:\u001b[36m472\u001b[0m - \u001b[1mAdded temporal distribution to exchange Exchange: -112.6724853515625 kilogram 'market for used powertrain from electric passenger car, manual dismantling' (kilogram, GLO, None) to 'passenger car, battery electric, Medium SUV' (unit, RER, None)>.\u001b[0m\n",
      "\u001b[32m2025-10-09 10:44:09.574\u001b[0m | \u001b[1mINFO    \u001b[0m | \u001b[36mbw_timex.utils\u001b[0m:\u001b[36madd_temporal_distribution_to_exchange\u001b[0m:\u001b[36m472\u001b[0m - \u001b[1mAdded temporal distribution to exchange Exchange: -1204.0 kilogram 'treatment of used glider, passenger car, shredding' (kilogram, GLO, None) to 'passenger car, battery electric, Medium SUV' (unit, RER, None)>.\u001b[0m\n",
      "\u001b[32m2025-10-09 10:44:09.576\u001b[0m | \u001b[1mINFO    \u001b[0m | \u001b[36mbw_timex.utils\u001b[0m:\u001b[36madd_temporal_distribution_to_exchange\u001b[0m:\u001b[36m472\u001b[0m - \u001b[1mAdded temporal distribution to exchange Exchange: -89.41740417480469 kilogram 'treatment of used internal combustion engine, passenger car, shredding' (kilogram, GLO, None) to 'passenger car, battery electric, Medium SUV' (unit, RER, None)>.\u001b[0m\n",
      "\u001b[32m2025-10-09 10:44:09.581\u001b[0m | \u001b[1mINFO    \u001b[0m | \u001b[36mbw_timex.utils\u001b[0m:\u001b[36madd_temporal_distribution_to_exchange\u001b[0m:\u001b[36m472\u001b[0m - \u001b[1mAdded temporal distribution to exchange Exchange: 1104.0 kilowatt hour 'market group for electricity, low voltage' (kilowatt hour, DEU, None) to 'passenger car, battery electric, Medium SUV' (unit, RER, None)>.\u001b[0m\n",
      "\u001b[32m2025-10-09 10:44:09.589\u001b[0m | \u001b[1mINFO    \u001b[0m | \u001b[36mbw_timex.utils\u001b[0m:\u001b[36madd_temporal_distribution_to_exchange\u001b[0m:\u001b[36m472\u001b[0m - \u001b[1mAdded temporal distribution to exchange Exchange: 127.82608795166016 kilogram 'glider lightweighting' (kilogram, GLO, None) to 'Passenger car, gasoline, Medium SUV, EURO-6d' (unit, RER, None)>.\u001b[0m\n",
      "\u001b[32m2025-10-09 10:44:09.595\u001b[0m | \u001b[1mINFO    \u001b[0m | \u001b[36mbw_timex.utils\u001b[0m:\u001b[36madd_temporal_distribution_to_exchange\u001b[0m:\u001b[36m472\u001b[0m - \u001b[1mAdded temporal distribution to exchange Exchange: 1200.0 kilogram 'market for glider, passenger car' (kilogram, GLO, None) to 'Passenger car, gasoline, Medium SUV, EURO-6d' (unit, RER, None)>.\u001b[0m\n",
      "\u001b[32m2025-10-09 10:44:09.599\u001b[0m | \u001b[1mINFO    \u001b[0m | \u001b[36mbw_timex.utils\u001b[0m:\u001b[36madd_temporal_distribution_to_exchange\u001b[0m:\u001b[36m472\u001b[0m - \u001b[1mAdded temporal distribution to exchange Exchange: 244.88034057617188 kilogram 'market for internal combustion engine, passenger car' (kilogram, GLO, None) to 'Passenger car, gasoline, Medium SUV, EURO-6d' (unit, RER, None)>.\u001b[0m\n",
      "\u001b[32m2025-10-09 10:44:09.604\u001b[0m | \u001b[1mINFO    \u001b[0m | \u001b[36mbw_timex.utils\u001b[0m:\u001b[36madd_temporal_distribution_to_exchange\u001b[0m:\u001b[36m472\u001b[0m - \u001b[1mAdded temporal distribution to exchange Exchange: 48.80416488647461 kilogram 'polyethylene production, high density, granulate' (kilogram, RER, None) to 'Passenger car, gasoline, Medium SUV, EURO-6d' (unit, RER, None)>.\u001b[0m\n",
      "\u001b[32m2025-10-09 10:44:09.609\u001b[0m | \u001b[1mINFO    \u001b[0m | \u001b[36mbw_timex.utils\u001b[0m:\u001b[36madd_temporal_distribution_to_exchange\u001b[0m:\u001b[36m472\u001b[0m - \u001b[1mAdded temporal distribution to exchange Exchange: -1120.97802734375 kilogram 'treatment of used glider, passenger car, shredding' (kilogram, GLO, None) to 'Passenger car, gasoline, Medium SUV, EURO-6d' (unit, RER, None)>.\u001b[0m\n",
      "\u001b[32m2025-10-09 10:44:09.612\u001b[0m | \u001b[1mINFO    \u001b[0m | \u001b[36mbw_timex.utils\u001b[0m:\u001b[36madd_temporal_distribution_to_exchange\u001b[0m:\u001b[36m472\u001b[0m - \u001b[1mAdded temporal distribution to exchange Exchange: -244.88034057617188 kilogram 'treatment of used internal combustion engine, passenger car, shredding' (kilogram, GLO, None) to 'Passenger car, gasoline, Medium SUV, EURO-6d' (unit, RER, None)>.\u001b[0m\n"
     ]
    }
   ],
   "source": [
    "# Now we add the temporal distributions for production and end of life to the exchanges of the \n",
    "# production/EoL activities of the cars. Here we will make use of the fact that in ecoinvent waste treatment\n",
    "# activities are modelled as negative inputs. \n",
    "\n",
    "for exc in bev_production_eol.technosphere():\n",
    "    if exc['amount'] >= 0:  # production\n",
    "        add_temporal_distribution_to_exchange(td_production,\n",
    "                                              input_node=exc.input,\n",
    "                                              output_node=exc.output)\n",
    "    else:  # EoL\n",
    "        add_temporal_distribution_to_exchange(td_eol,\n",
    "                                              input_node=exc.input,\n",
    "                                              output_node=exc.output)\n",
    "for exc in icec_production_eol.technosphere():\n",
    "    if exc['amount'] >= 0:  # production\n",
    "        add_temporal_distribution_to_exchange(td_production,\n",
    "                                              input_node=exc.input,\n",
    "                                              output_node=exc.output)\n",
    "    else:  # EoL\n",
    "        add_temporal_distribution_to_exchange(td_eol,\n",
    "                                              input_node=exc.input,\n",
    "                                              output_node=exc.output)"
   ]
  },
  {
   "cell_type": "markdown",
   "metadata": {},
   "source": [
    "### Checking all went right\n",
    "\n",
    "Now before calculating the time-explicit LCA, make sure that everything went right so far. As a check, the standard LCA score of the original transport activity with the corresponding amount should be equal the standard LCA of the modified life cycle activity created in the foreground!"
   ]
  },
  {
   "cell_type": "code",
   "execution_count": 25,
   "metadata": {},
   "outputs": [
    {
     "name": "stderr",
     "output_type": "stream",
     "text": [
      "/Users/ajakobs/miniconda3/envs/timex_new/lib/python3.11/site-packages/scikits/umfpack/umfpack.py:736: UmfpackWarning: (almost) singular matrix! (estimated cond. number: 6.53e+12)\n",
      "  warnings.warn(msg, UmfpackWarning)\n"
     ]
    },
    {
     "name": "stdout",
     "output_type": "stream",
     "text": [
      "Life cycle impact score: 59312.39430285427 kg CO2-eq for 200000.0 km driving with ICEC\n",
      "Life cycle impact score: 59312.39458546932 kg CO2-eq for 200000.0 km driving with ICEC\n"
     ]
    }
   ],
   "source": [
    "import bw2calc as bc\n",
    "\n",
    "# standard LCA of the original transport activity with the corresponding amount\n",
    "transport_icec= db_2020_NPi.get(name='transport, passenger car, gasoline, Medium SUV, EURO-6', location=\"RER\")\n",
    "method = ('ecoinvent-3.10', 'EF v3.1', 'climate change', 'global warming potential (GWP100)')\n",
    "lca = bc.LCA({transport_icec: LIFETIME_KM}, method)\n",
    "lca.lci()\n",
    "lca.lcia()\n",
    "print(f'Life cycle impact score: {lca.score} kg CO2-eq for {LIFETIME_KM} km driving with ICEC')\n",
    "\n",
    "# standard LCA of the modified life cycle activity created in the foreground\n",
    "lca_fg = bc.LCA({LC_ICEC: 1}, method)\n",
    "lca_fg.lci()\n",
    "lca_fg.lcia()\n",
    "print(f'Life cycle impact score: {lca_fg.score} kg CO2-eq for {LIFETIME_KM} km driving with ICEC')"
   ]
  },
  {
   "cell_type": "code",
   "execution_count": 26,
   "metadata": {},
   "outputs": [
    {
     "name": "stdout",
     "output_type": "stream",
     "text": [
      "Life cycle impact score: 45363.17175278414 kg CO2-eq for 200000.0 km driving with BEV\n",
      "Life cycle impact score: 45363.172195333136 kg CO2-eq for 200000.0 km driving with BEV\n"
     ]
    }
   ],
   "source": [
    "# now the same for the BEV\n",
    "# standard LCA of the original transport activity with the corresponding amount\n",
    "transport_bev = db_2020_NPi.get(name='transport, passenger car, battery electric, Medium SUV', location=\"RER\")\n",
    "lca_bev = bc.LCA({transport_bev: LIFETIME_KM}, method)\n",
    "lca_bev.lci()\n",
    "lca_bev.lcia()\n",
    "print(f'Life cycle impact score: {lca_bev.score} kg CO2-eq for {LIFETIME_KM} km driving with BEV')  \n",
    "\n",
    "# standard LCA of the modified life cycle activity created in the foreground\n",
    "lca_bev_fg = bc.LCA({LC_BEV: 1}, method)\n",
    "lca_bev_fg.lci()\n",
    "lca_bev_fg.lcia()\n",
    "print(f'Life cycle impact score: {lca_bev_fg.score} kg CO2-eq for {LIFETIME_KM} km driving with BEV')"
   ]
  },
  {
   "cell_type": "markdown",
   "metadata": {},
   "source": [
    "## Time-explicit LCA with `bw_timex`"
   ]
  },
  {
   "cell_type": "markdown",
   "metadata": {},
   "source": [
    "Now we can start using `bw_timex` to build the process timeline, build the time-explicit inventory and calculate the time explicit scores.\n",
    "\n",
    "Start by creating a dictionary mapping the respective databases to the relevant timestamps. \n",
    "Then instantiate your timexLCA object, build the timeline, calculate the lci, and the LCIA for both options.\n"
   ]
  },
  {
   "cell_type": "code",
   "execution_count": 27,
   "metadata": {},
   "outputs": [],
   "source": [
    "from datetime import datetime\n",
    "\n",
    "database_dates = {\n",
    "    db_2020_NPi.name: datetime.strptime(\"2020\", \"%Y\"),\n",
    "    db_2030_NPi.name: datetime.strptime(\"2030\", \"%Y\"),\n",
    "    db_2040_NPi.name: datetime.strptime(\"2040\", \"%Y\"),\n",
    "    db_2050_NPi.name: datetime.strptime(\"2050\", \"%Y\"),\n",
    "    \"foreground\": \"dynamic\", # flag databases that should be temporally distributed with \"dynamic\"\n",
    "}"
   ]
  },
  {
   "cell_type": "code",
   "execution_count": 28,
   "metadata": {},
   "outputs": [],
   "source": [
    "from bw_timex import TimexLCA"
   ]
  },
  {
   "cell_type": "code",
   "execution_count": 29,
   "metadata": {},
   "outputs": [
    {
     "name": "stderr",
     "output_type": "stream",
     "text": [
      "\u001b[32m2025-10-09 10:44:36.665\u001b[0m | \u001b[1mINFO    \u001b[0m | \u001b[36mbw_timex.timex_lca\u001b[0m:\u001b[36m__init__\u001b[0m:\u001b[36m114\u001b[0m - \u001b[1mInitializing TimexLCA object...\u001b[0m\n",
      "\u001b[32m2025-10-09 10:44:36.665\u001b[0m | \u001b[1mINFO    \u001b[0m | \u001b[36mbw_timex.timex_lca\u001b[0m:\u001b[36m__init__\u001b[0m:\u001b[36m136\u001b[0m - \u001b[1mCollecting node infos...\u001b[0m\n",
      "\u001b[32m2025-10-09 10:44:42.731\u001b[0m | \u001b[1mINFO    \u001b[0m | \u001b[36mbw_timex.timex_lca\u001b[0m:\u001b[36mbuild_timeline\u001b[0m:\u001b[36m216\u001b[0m - \u001b[1mNo edge filter function provided. Skipping all edges in background databases.\u001b[0m\n",
      "\u001b[32m2025-10-09 10:44:45.933\u001b[0m | \u001b[1mINFO    \u001b[0m | \u001b[36mbw_timex.timex_lca\u001b[0m:\u001b[36mbuild_timeline\u001b[0m:\u001b[36m232\u001b[0m - \u001b[1mCalculating base LCA...\u001b[0m\n",
      "/Users/ajakobs/miniconda3/envs/timex_new/lib/python3.11/site-packages/scikits/umfpack/umfpack.py:736: UmfpackWarning: (almost) singular matrix! (estimated cond. number: 3.71e+13)\n",
      "  warnings.warn(msg, UmfpackWarning)\n",
      "\u001b[32m2025-10-09 10:44:48.162\u001b[0m | \u001b[1mINFO    \u001b[0m | \u001b[36mbw_timex.timex_lca\u001b[0m:\u001b[36mbuild_timeline\u001b[0m:\u001b[36m242\u001b[0m - \u001b[1mCreating activity time mapping...\u001b[0m\n",
      "\u001b[32m2025-10-09 10:44:48.426\u001b[0m | \u001b[1mINFO    \u001b[0m | \u001b[36mbw_timex.timeline_builder\u001b[0m:\u001b[36m__init__\u001b[0m:\u001b[36m99\u001b[0m - \u001b[1mTraversing supply chain graph...\u001b[0m\n"
     ]
    },
    {
     "name": "stdout",
     "output_type": "stream",
     "text": [
      "Starting graph traversal\n"
     ]
    },
    {
     "name": "stderr",
     "output_type": "stream",
     "text": [
      "\u001b[32m2025-10-09 10:45:16.227\u001b[0m | \u001b[1mINFO    \u001b[0m | \u001b[36mbw_timex.timeline_builder\u001b[0m:\u001b[36mbuild_timeline\u001b[0m:\u001b[36m142\u001b[0m - \u001b[1mBuilding timeline...\u001b[0m\n"
     ]
    },
    {
     "name": "stdout",
     "output_type": "stream",
     "text": [
      "Calculation count: 21\n"
     ]
    },
    {
     "data": {
      "application/vnd.microsoft.datawrangler.viewer.v0+json": {
       "columns": [
        {
         "name": "index",
         "rawType": "int64",
         "type": "integer"
        },
        {
         "name": "date_producer",
         "rawType": "datetime64[ns]",
         "type": "datetime"
        },
        {
         "name": "producer_name",
         "rawType": "object",
         "type": "string"
        },
        {
         "name": "date_consumer",
         "rawType": "datetime64[ns]",
         "type": "datetime"
        },
        {
         "name": "consumer_name",
         "rawType": "object",
         "type": "string"
        },
        {
         "name": "amount",
         "rawType": "object",
         "type": "unknown"
        },
        {
         "name": "temporal_market_shares",
         "rawType": "object",
         "type": "unknown"
        }
       ],
       "ref": "f71c4ee9-0695-4281-9f80-8cee61260f6f",
       "rows": [
        [
         "0",
         "2021-01-01 00:00:00",
         "market for glider, passenger car",
         "2026-01-01 00:00:00",
         "passenger car, battery electric, Medium SUV",
         "233.33333333333331",
         "{'ei_cutoff_3.10_remind-eu_SSP2-NPi_2020 2025-10-08': 0.9, 'ei_cutoff_3.10_remind-eu_SSP2-NPi_2030 2025-10-08': 0.1}"
        ],
        [
         "1",
         "2021-01-01 00:00:00",
         "market for power distribution unit, for electric passenger car",
         "2026-01-01 00:00:00",
         "passenger car, battery electric, Medium SUV",
         "0.6623188257217407",
         "{'ei_cutoff_3.10_remind-eu_SSP2-NPi_2020 2025-10-08': 0.9, 'ei_cutoff_3.10_remind-eu_SSP2-NPi_2030 2025-10-08': 0.1}"
        ],
        [
         "2",
         "2021-01-01 00:00:00",
         "market for inverter, for electric passenger car",
         "2026-01-01 00:00:00",
         "passenger car, battery electric, Medium SUV",
         "1.490217367808024",
         "{'ei_cutoff_3.10_remind-eu_SSP2-NPi_2020 2025-10-08': 0.9, 'ei_cutoff_3.10_remind-eu_SSP2-NPi_2030 2025-10-08': 0.1}"
        ],
        [
         "3",
         "2021-01-01 00:00:00",
         "market for charger, electric passenger car",
         "2026-01-01 00:00:00",
         "passenger car, battery electric, Medium SUV",
         "0.9934782981872559",
         "{'ei_cutoff_3.10_remind-eu_SSP2-NPi_2020 2025-10-08': 0.9, 'ei_cutoff_3.10_remind-eu_SSP2-NPi_2030 2025-10-08': 0.1}"
        ],
        [
         "4",
         "2021-01-01 00:00:00",
         "market for converter, for electric passenger car",
         "2026-01-01 00:00:00",
         "passenger car, battery electric, Medium SUV",
         "0.745108683904012",
         "{'ei_cutoff_3.10_remind-eu_SSP2-NPi_2020 2025-10-08': 0.9, 'ei_cutoff_3.10_remind-eu_SSP2-NPi_2030 2025-10-08': 0.1}"
        ],
        [
         "5",
         "2021-01-01 00:00:00",
         "market for internal combustion engine, passenger car",
         "2026-01-01 00:00:00",
         "passenger car, battery electric, Medium SUV",
         "14.902900695800781",
         "{'ei_cutoff_3.10_remind-eu_SSP2-NPi_2020 2025-10-08': 0.9, 'ei_cutoff_3.10_remind-eu_SSP2-NPi_2030 2025-10-08': 0.1}"
        ],
        [
         "6",
         "2021-01-01 00:00:00",
         "market for electric motor, electric passenger car",
         "2026-01-01 00:00:00",
         "passenger car, battery electric, Medium SUV",
         "14.887624104817707",
         "{'ei_cutoff_3.10_remind-eu_SSP2-NPi_2020 2025-10-08': 0.9, 'ei_cutoff_3.10_remind-eu_SSP2-NPi_2030 2025-10-08': 0.1}"
        ],
        [
         "7",
         "2021-01-01 00:00:00",
         "market for battery capacity (MIX scenario)",
         "2026-01-01 00:00:00",
         "passenger car, battery electric, Medium SUV",
         "9.166666666666666",
         "{'ei_cutoff_3.10_remind-eu_SSP2-NPi_2020 2025-10-08': 0.9, 'ei_cutoff_3.10_remind-eu_SSP2-NPi_2030 2025-10-08': 0.1}"
        ],
        [
         "8",
         "2021-01-01 00:00:00",
         "glider lightweighting",
         "2026-01-01 00:00:00",
         "passenger car, battery electric, Medium SUV",
         "32.666666666666664",
         "{'ei_cutoff_3.10_remind-eu_SSP2-NPi_2020 2025-10-08': 0.9, 'ei_cutoff_3.10_remind-eu_SSP2-NPi_2030 2025-10-08': 0.1}"
        ],
        [
         "9",
         "2021-01-01 00:00:00",
         "market group for electricity, low voltage",
         "2026-01-01 00:00:00",
         "passenger car, battery electric, Medium SUV",
         "184.0",
         "{'ei_cutoff_3.10_remind-eu_SSP2-NPi_2020 2025-10-08': 0.9, 'ei_cutoff_3.10_remind-eu_SSP2-NPi_2030 2025-10-08': 0.1}"
        ],
        [
         "10",
         "2022-01-01 00:00:00",
         "market for glider, passenger car",
         "2026-01-01 00:00:00",
         "passenger car, battery electric, Medium SUV",
         "233.33333333333331",
         "{'ei_cutoff_3.10_remind-eu_SSP2-NPi_2020 2025-10-08': 0.8, 'ei_cutoff_3.10_remind-eu_SSP2-NPi_2030 2025-10-08': 0.2}"
        ],
        [
         "11",
         "2022-01-01 00:00:00",
         "market for power distribution unit, for electric passenger car",
         "2026-01-01 00:00:00",
         "passenger car, battery electric, Medium SUV",
         "0.6623188257217407",
         "{'ei_cutoff_3.10_remind-eu_SSP2-NPi_2020 2025-10-08': 0.8, 'ei_cutoff_3.10_remind-eu_SSP2-NPi_2030 2025-10-08': 0.2}"
        ],
        [
         "12",
         "2022-01-01 00:00:00",
         "market for inverter, for electric passenger car",
         "2026-01-01 00:00:00",
         "passenger car, battery electric, Medium SUV",
         "1.490217367808024",
         "{'ei_cutoff_3.10_remind-eu_SSP2-NPi_2020 2025-10-08': 0.8, 'ei_cutoff_3.10_remind-eu_SSP2-NPi_2030 2025-10-08': 0.2}"
        ],
        [
         "13",
         "2022-01-01 00:00:00",
         "market for charger, electric passenger car",
         "2026-01-01 00:00:00",
         "passenger car, battery electric, Medium SUV",
         "0.9934782981872559",
         "{'ei_cutoff_3.10_remind-eu_SSP2-NPi_2020 2025-10-08': 0.8, 'ei_cutoff_3.10_remind-eu_SSP2-NPi_2030 2025-10-08': 0.2}"
        ],
        [
         "14",
         "2022-01-01 00:00:00",
         "market for converter, for electric passenger car",
         "2026-01-01 00:00:00",
         "passenger car, battery electric, Medium SUV",
         "0.745108683904012",
         "{'ei_cutoff_3.10_remind-eu_SSP2-NPi_2020 2025-10-08': 0.8, 'ei_cutoff_3.10_remind-eu_SSP2-NPi_2030 2025-10-08': 0.2}"
        ],
        [
         "15",
         "2022-01-01 00:00:00",
         "market for internal combustion engine, passenger car",
         "2026-01-01 00:00:00",
         "passenger car, battery electric, Medium SUV",
         "14.902900695800781",
         "{'ei_cutoff_3.10_remind-eu_SSP2-NPi_2020 2025-10-08': 0.8, 'ei_cutoff_3.10_remind-eu_SSP2-NPi_2030 2025-10-08': 0.2}"
        ],
        [
         "16",
         "2022-01-01 00:00:00",
         "market for electric motor, electric passenger car",
         "2026-01-01 00:00:00",
         "passenger car, battery electric, Medium SUV",
         "14.887624104817707",
         "{'ei_cutoff_3.10_remind-eu_SSP2-NPi_2020 2025-10-08': 0.8, 'ei_cutoff_3.10_remind-eu_SSP2-NPi_2030 2025-10-08': 0.2}"
        ],
        [
         "17",
         "2022-01-01 00:00:00",
         "market for battery capacity (MIX scenario)",
         "2026-01-01 00:00:00",
         "passenger car, battery electric, Medium SUV",
         "9.166666666666666",
         "{'ei_cutoff_3.10_remind-eu_SSP2-NPi_2020 2025-10-08': 0.8, 'ei_cutoff_3.10_remind-eu_SSP2-NPi_2030 2025-10-08': 0.2}"
        ],
        [
         "18",
         "2022-01-01 00:00:00",
         "glider lightweighting",
         "2026-01-01 00:00:00",
         "passenger car, battery electric, Medium SUV",
         "32.666666666666664",
         "{'ei_cutoff_3.10_remind-eu_SSP2-NPi_2020 2025-10-08': 0.8, 'ei_cutoff_3.10_remind-eu_SSP2-NPi_2030 2025-10-08': 0.2}"
        ],
        [
         "19",
         "2022-01-01 00:00:00",
         "market group for electricity, low voltage",
         "2026-01-01 00:00:00",
         "passenger car, battery electric, Medium SUV",
         "184.0",
         "{'ei_cutoff_3.10_remind-eu_SSP2-NPi_2020 2025-10-08': 0.8, 'ei_cutoff_3.10_remind-eu_SSP2-NPi_2030 2025-10-08': 0.2}"
        ],
        [
         "20",
         "2023-01-01 00:00:00",
         "market for glider, passenger car",
         "2026-01-01 00:00:00",
         "passenger car, battery electric, Medium SUV",
         "233.33333333333331",
         "{'ei_cutoff_3.10_remind-eu_SSP2-NPi_2020 2025-10-08': 0.7, 'ei_cutoff_3.10_remind-eu_SSP2-NPi_2030 2025-10-08': 0.3}"
        ],
        [
         "21",
         "2023-01-01 00:00:00",
         "market for power distribution unit, for electric passenger car",
         "2026-01-01 00:00:00",
         "passenger car, battery electric, Medium SUV",
         "0.6623188257217407",
         "{'ei_cutoff_3.10_remind-eu_SSP2-NPi_2020 2025-10-08': 0.7, 'ei_cutoff_3.10_remind-eu_SSP2-NPi_2030 2025-10-08': 0.3}"
        ],
        [
         "22",
         "2023-01-01 00:00:00",
         "market for inverter, for electric passenger car",
         "2026-01-01 00:00:00",
         "passenger car, battery electric, Medium SUV",
         "1.490217367808024",
         "{'ei_cutoff_3.10_remind-eu_SSP2-NPi_2020 2025-10-08': 0.7, 'ei_cutoff_3.10_remind-eu_SSP2-NPi_2030 2025-10-08': 0.3}"
        ],
        [
         "23",
         "2023-01-01 00:00:00",
         "market for charger, electric passenger car",
         "2026-01-01 00:00:00",
         "passenger car, battery electric, Medium SUV",
         "0.9934782981872559",
         "{'ei_cutoff_3.10_remind-eu_SSP2-NPi_2020 2025-10-08': 0.7, 'ei_cutoff_3.10_remind-eu_SSP2-NPi_2030 2025-10-08': 0.3}"
        ],
        [
         "24",
         "2023-01-01 00:00:00",
         "market for converter, for electric passenger car",
         "2026-01-01 00:00:00",
         "passenger car, battery electric, Medium SUV",
         "0.745108683904012",
         "{'ei_cutoff_3.10_remind-eu_SSP2-NPi_2020 2025-10-08': 0.7, 'ei_cutoff_3.10_remind-eu_SSP2-NPi_2030 2025-10-08': 0.3}"
        ],
        [
         "25",
         "2023-01-01 00:00:00",
         "market for internal combustion engine, passenger car",
         "2026-01-01 00:00:00",
         "passenger car, battery electric, Medium SUV",
         "14.902900695800781",
         "{'ei_cutoff_3.10_remind-eu_SSP2-NPi_2020 2025-10-08': 0.7, 'ei_cutoff_3.10_remind-eu_SSP2-NPi_2030 2025-10-08': 0.3}"
        ],
        [
         "26",
         "2023-01-01 00:00:00",
         "market for electric motor, electric passenger car",
         "2026-01-01 00:00:00",
         "passenger car, battery electric, Medium SUV",
         "14.887624104817707",
         "{'ei_cutoff_3.10_remind-eu_SSP2-NPi_2020 2025-10-08': 0.7, 'ei_cutoff_3.10_remind-eu_SSP2-NPi_2030 2025-10-08': 0.3}"
        ],
        [
         "27",
         "2023-01-01 00:00:00",
         "market for battery capacity (MIX scenario)",
         "2026-01-01 00:00:00",
         "passenger car, battery electric, Medium SUV",
         "9.166666666666666",
         "{'ei_cutoff_3.10_remind-eu_SSP2-NPi_2020 2025-10-08': 0.7, 'ei_cutoff_3.10_remind-eu_SSP2-NPi_2030 2025-10-08': 0.3}"
        ],
        [
         "28",
         "2023-01-01 00:00:00",
         "glider lightweighting",
         "2026-01-01 00:00:00",
         "passenger car, battery electric, Medium SUV",
         "32.666666666666664",
         "{'ei_cutoff_3.10_remind-eu_SSP2-NPi_2020 2025-10-08': 0.7, 'ei_cutoff_3.10_remind-eu_SSP2-NPi_2030 2025-10-08': 0.3}"
        ],
        [
         "29",
         "2023-01-01 00:00:00",
         "market group for electricity, low voltage",
         "2026-01-01 00:00:00",
         "passenger car, battery electric, Medium SUV",
         "184.0",
         "{'ei_cutoff_3.10_remind-eu_SSP2-NPi_2020 2025-10-08': 0.7, 'ei_cutoff_3.10_remind-eu_SSP2-NPi_2030 2025-10-08': 0.3}"
        ],
        [
         "30",
         "2024-01-01 00:00:00",
         "market for glider, passenger car",
         "2026-01-01 00:00:00",
         "passenger car, battery electric, Medium SUV",
         "233.33333333333331",
         "{'ei_cutoff_3.10_remind-eu_SSP2-NPi_2020 2025-10-08': 0.6, 'ei_cutoff_3.10_remind-eu_SSP2-NPi_2030 2025-10-08': 0.4}"
        ],
        [
         "31",
         "2024-01-01 00:00:00",
         "market for power distribution unit, for electric passenger car",
         "2026-01-01 00:00:00",
         "passenger car, battery electric, Medium SUV",
         "0.6623188257217407",
         "{'ei_cutoff_3.10_remind-eu_SSP2-NPi_2020 2025-10-08': 0.6, 'ei_cutoff_3.10_remind-eu_SSP2-NPi_2030 2025-10-08': 0.4}"
        ],
        [
         "32",
         "2024-01-01 00:00:00",
         "market for inverter, for electric passenger car",
         "2026-01-01 00:00:00",
         "passenger car, battery electric, Medium SUV",
         "1.490217367808024",
         "{'ei_cutoff_3.10_remind-eu_SSP2-NPi_2020 2025-10-08': 0.6, 'ei_cutoff_3.10_remind-eu_SSP2-NPi_2030 2025-10-08': 0.4}"
        ],
        [
         "33",
         "2024-01-01 00:00:00",
         "market for charger, electric passenger car",
         "2026-01-01 00:00:00",
         "passenger car, battery electric, Medium SUV",
         "0.9934782981872559",
         "{'ei_cutoff_3.10_remind-eu_SSP2-NPi_2020 2025-10-08': 0.6, 'ei_cutoff_3.10_remind-eu_SSP2-NPi_2030 2025-10-08': 0.4}"
        ],
        [
         "34",
         "2024-01-01 00:00:00",
         "market for converter, for electric passenger car",
         "2026-01-01 00:00:00",
         "passenger car, battery electric, Medium SUV",
         "0.745108683904012",
         "{'ei_cutoff_3.10_remind-eu_SSP2-NPi_2020 2025-10-08': 0.6, 'ei_cutoff_3.10_remind-eu_SSP2-NPi_2030 2025-10-08': 0.4}"
        ],
        [
         "35",
         "2024-01-01 00:00:00",
         "market for internal combustion engine, passenger car",
         "2026-01-01 00:00:00",
         "passenger car, battery electric, Medium SUV",
         "14.902900695800781",
         "{'ei_cutoff_3.10_remind-eu_SSP2-NPi_2020 2025-10-08': 0.6, 'ei_cutoff_3.10_remind-eu_SSP2-NPi_2030 2025-10-08': 0.4}"
        ],
        [
         "36",
         "2024-01-01 00:00:00",
         "market for electric motor, electric passenger car",
         "2026-01-01 00:00:00",
         "passenger car, battery electric, Medium SUV",
         "14.887624104817707",
         "{'ei_cutoff_3.10_remind-eu_SSP2-NPi_2020 2025-10-08': 0.6, 'ei_cutoff_3.10_remind-eu_SSP2-NPi_2030 2025-10-08': 0.4}"
        ],
        [
         "37",
         "2024-01-01 00:00:00",
         "market for battery capacity (MIX scenario)",
         "2026-01-01 00:00:00",
         "passenger car, battery electric, Medium SUV",
         "9.166666666666666",
         "{'ei_cutoff_3.10_remind-eu_SSP2-NPi_2020 2025-10-08': 0.6, 'ei_cutoff_3.10_remind-eu_SSP2-NPi_2030 2025-10-08': 0.4}"
        ],
        [
         "38",
         "2024-01-01 00:00:00",
         "glider lightweighting",
         "2026-01-01 00:00:00",
         "passenger car, battery electric, Medium SUV",
         "32.666666666666664",
         "{'ei_cutoff_3.10_remind-eu_SSP2-NPi_2020 2025-10-08': 0.6, 'ei_cutoff_3.10_remind-eu_SSP2-NPi_2030 2025-10-08': 0.4}"
        ],
        [
         "39",
         "2024-01-01 00:00:00",
         "market group for electricity, low voltage",
         "2026-01-01 00:00:00",
         "passenger car, battery electric, Medium SUV",
         "184.0",
         "{'ei_cutoff_3.10_remind-eu_SSP2-NPi_2020 2025-10-08': 0.6, 'ei_cutoff_3.10_remind-eu_SSP2-NPi_2030 2025-10-08': 0.4}"
        ],
        [
         "40",
         "2025-01-01 00:00:00",
         "market for glider, passenger car",
         "2026-01-01 00:00:00",
         "passenger car, battery electric, Medium SUV",
         "233.33333333333331",
         "{'ei_cutoff_3.10_remind-eu_SSP2-NPi_2020 2025-10-08': 0.5, 'ei_cutoff_3.10_remind-eu_SSP2-NPi_2030 2025-10-08': 0.5}"
        ],
        [
         "41",
         "2025-01-01 00:00:00",
         "market for power distribution unit, for electric passenger car",
         "2026-01-01 00:00:00",
         "passenger car, battery electric, Medium SUV",
         "0.6623188257217407",
         "{'ei_cutoff_3.10_remind-eu_SSP2-NPi_2020 2025-10-08': 0.5, 'ei_cutoff_3.10_remind-eu_SSP2-NPi_2030 2025-10-08': 0.5}"
        ],
        [
         "42",
         "2025-01-01 00:00:00",
         "market for inverter, for electric passenger car",
         "2026-01-01 00:00:00",
         "passenger car, battery electric, Medium SUV",
         "1.490217367808024",
         "{'ei_cutoff_3.10_remind-eu_SSP2-NPi_2020 2025-10-08': 0.5, 'ei_cutoff_3.10_remind-eu_SSP2-NPi_2030 2025-10-08': 0.5}"
        ],
        [
         "43",
         "2025-01-01 00:00:00",
         "market for charger, electric passenger car",
         "2026-01-01 00:00:00",
         "passenger car, battery electric, Medium SUV",
         "0.9934782981872559",
         "{'ei_cutoff_3.10_remind-eu_SSP2-NPi_2020 2025-10-08': 0.5, 'ei_cutoff_3.10_remind-eu_SSP2-NPi_2030 2025-10-08': 0.5}"
        ],
        [
         "44",
         "2025-01-01 00:00:00",
         "market for converter, for electric passenger car",
         "2026-01-01 00:00:00",
         "passenger car, battery electric, Medium SUV",
         "0.745108683904012",
         "{'ei_cutoff_3.10_remind-eu_SSP2-NPi_2020 2025-10-08': 0.5, 'ei_cutoff_3.10_remind-eu_SSP2-NPi_2030 2025-10-08': 0.5}"
        ],
        [
         "45",
         "2025-01-01 00:00:00",
         "market for internal combustion engine, passenger car",
         "2026-01-01 00:00:00",
         "passenger car, battery electric, Medium SUV",
         "14.902900695800781",
         "{'ei_cutoff_3.10_remind-eu_SSP2-NPi_2020 2025-10-08': 0.5, 'ei_cutoff_3.10_remind-eu_SSP2-NPi_2030 2025-10-08': 0.5}"
        ],
        [
         "46",
         "2025-01-01 00:00:00",
         "market for electric motor, electric passenger car",
         "2026-01-01 00:00:00",
         "passenger car, battery electric, Medium SUV",
         "14.887624104817707",
         "{'ei_cutoff_3.10_remind-eu_SSP2-NPi_2020 2025-10-08': 0.5, 'ei_cutoff_3.10_remind-eu_SSP2-NPi_2030 2025-10-08': 0.5}"
        ],
        [
         "47",
         "2025-01-01 00:00:00",
         "market for battery capacity (MIX scenario)",
         "2026-01-01 00:00:00",
         "passenger car, battery electric, Medium SUV",
         "9.166666666666666",
         "{'ei_cutoff_3.10_remind-eu_SSP2-NPi_2020 2025-10-08': 0.5, 'ei_cutoff_3.10_remind-eu_SSP2-NPi_2030 2025-10-08': 0.5}"
        ],
        [
         "48",
         "2025-01-01 00:00:00",
         "glider lightweighting",
         "2026-01-01 00:00:00",
         "passenger car, battery electric, Medium SUV",
         "32.666666666666664",
         "{'ei_cutoff_3.10_remind-eu_SSP2-NPi_2020 2025-10-08': 0.5, 'ei_cutoff_3.10_remind-eu_SSP2-NPi_2030 2025-10-08': 0.5}"
        ],
        [
         "49",
         "2025-01-01 00:00:00",
         "market group for electricity, low voltage",
         "2026-01-01 00:00:00",
         "passenger car, battery electric, Medium SUV",
         "184.0",
         "{'ei_cutoff_3.10_remind-eu_SSP2-NPi_2020 2025-10-08': 0.5, 'ei_cutoff_3.10_remind-eu_SSP2-NPi_2030 2025-10-08': 0.5}"
        ]
       ],
       "shape": {
        "columns": 6,
        "rows": 151
       }
      },
      "text/html": [
       "<div>\n",
       "<style scoped>\n",
       "    .dataframe tbody tr th:only-of-type {\n",
       "        vertical-align: middle;\n",
       "    }\n",
       "\n",
       "    .dataframe tbody tr th {\n",
       "        vertical-align: top;\n",
       "    }\n",
       "\n",
       "    .dataframe thead th {\n",
       "        text-align: right;\n",
       "    }\n",
       "</style>\n",
       "<table border=\"1\" class=\"dataframe\">\n",
       "  <thead>\n",
       "    <tr style=\"text-align: right;\">\n",
       "      <th></th>\n",
       "      <th>date_producer</th>\n",
       "      <th>producer_name</th>\n",
       "      <th>date_consumer</th>\n",
       "      <th>consumer_name</th>\n",
       "      <th>amount</th>\n",
       "      <th>temporal_market_shares</th>\n",
       "    </tr>\n",
       "  </thead>\n",
       "  <tbody>\n",
       "    <tr>\n",
       "      <th>0</th>\n",
       "      <td>2021-01-01</td>\n",
       "      <td>market for glider, passenger car</td>\n",
       "      <td>2026-01-01</td>\n",
       "      <td>passenger car, battery electric, Medium SUV</td>\n",
       "      <td>233.333333</td>\n",
       "      <td>{'ei_cutoff_3.10_remind-eu_SSP2-NPi_2020 2025-...</td>\n",
       "    </tr>\n",
       "    <tr>\n",
       "      <th>1</th>\n",
       "      <td>2021-01-01</td>\n",
       "      <td>market for power distribution unit, for electr...</td>\n",
       "      <td>2026-01-01</td>\n",
       "      <td>passenger car, battery electric, Medium SUV</td>\n",
       "      <td>0.662319</td>\n",
       "      <td>{'ei_cutoff_3.10_remind-eu_SSP2-NPi_2020 2025-...</td>\n",
       "    </tr>\n",
       "    <tr>\n",
       "      <th>2</th>\n",
       "      <td>2021-01-01</td>\n",
       "      <td>market for inverter, for electric passenger car</td>\n",
       "      <td>2026-01-01</td>\n",
       "      <td>passenger car, battery electric, Medium SUV</td>\n",
       "      <td>1.490217</td>\n",
       "      <td>{'ei_cutoff_3.10_remind-eu_SSP2-NPi_2020 2025-...</td>\n",
       "    </tr>\n",
       "    <tr>\n",
       "      <th>3</th>\n",
       "      <td>2021-01-01</td>\n",
       "      <td>market for charger, electric passenger car</td>\n",
       "      <td>2026-01-01</td>\n",
       "      <td>passenger car, battery electric, Medium SUV</td>\n",
       "      <td>0.993478</td>\n",
       "      <td>{'ei_cutoff_3.10_remind-eu_SSP2-NPi_2020 2025-...</td>\n",
       "    </tr>\n",
       "    <tr>\n",
       "      <th>4</th>\n",
       "      <td>2021-01-01</td>\n",
       "      <td>market for converter, for electric passenger car</td>\n",
       "      <td>2026-01-01</td>\n",
       "      <td>passenger car, battery electric, Medium SUV</td>\n",
       "      <td>0.745109</td>\n",
       "      <td>{'ei_cutoff_3.10_remind-eu_SSP2-NPi_2020 2025-...</td>\n",
       "    </tr>\n",
       "    <tr>\n",
       "      <th>...</th>\n",
       "      <td>...</td>\n",
       "      <td>...</td>\n",
       "      <td>...</td>\n",
       "      <td>...</td>\n",
       "      <td>...</td>\n",
       "      <td>...</td>\n",
       "    </tr>\n",
       "    <tr>\n",
       "      <th>146</th>\n",
       "      <td>2041-01-01</td>\n",
       "      <td>market for road</td>\n",
       "      <td>2041-01-01</td>\n",
       "      <td>transport, passenger car, battery electric, Me...</td>\n",
       "      <td>0.001077</td>\n",
       "      <td>{'ei_cutoff_3.10_remind-eu_SSP2-NPi_2040 2025-...</td>\n",
       "    </tr>\n",
       "    <tr>\n",
       "      <th>147</th>\n",
       "      <td>2041-01-01</td>\n",
       "      <td>market group for electricity, low voltage</td>\n",
       "      <td>2041-01-01</td>\n",
       "      <td>transport, passenger car, battery electric, Me...</td>\n",
       "      <td>0.262637</td>\n",
       "      <td>{'ei_cutoff_3.10_remind-eu_SSP2-NPi_2040 2025-...</td>\n",
       "    </tr>\n",
       "    <tr>\n",
       "      <th>148</th>\n",
       "      <td>2042-01-01</td>\n",
       "      <td>treatment of used internal combustion engine, ...</td>\n",
       "      <td>2026-01-01</td>\n",
       "      <td>passenger car, battery electric, Medium SUV</td>\n",
       "      <td>-89.417404</td>\n",
       "      <td>{'ei_cutoff_3.10_remind-eu_SSP2-NPi_2040 2025-...</td>\n",
       "    </tr>\n",
       "    <tr>\n",
       "      <th>149</th>\n",
       "      <td>2042-01-01</td>\n",
       "      <td>market for used powertrain from electric passe...</td>\n",
       "      <td>2026-01-01</td>\n",
       "      <td>passenger car, battery electric, Medium SUV</td>\n",
       "      <td>-112.672485</td>\n",
       "      <td>{'ei_cutoff_3.10_remind-eu_SSP2-NPi_2040 2025-...</td>\n",
       "    </tr>\n",
       "    <tr>\n",
       "      <th>150</th>\n",
       "      <td>2042-01-01</td>\n",
       "      <td>treatment of used glider, passenger car, shred...</td>\n",
       "      <td>2026-01-01</td>\n",
       "      <td>passenger car, battery electric, Medium SUV</td>\n",
       "      <td>-1204.0</td>\n",
       "      <td>{'ei_cutoff_3.10_remind-eu_SSP2-NPi_2040 2025-...</td>\n",
       "    </tr>\n",
       "  </tbody>\n",
       "</table>\n",
       "<p>151 rows × 6 columns</p>\n",
       "</div>"
      ],
      "text/plain": [
       "    date_producer                                      producer_name  \\\n",
       "0      2021-01-01                   market for glider, passenger car   \n",
       "1      2021-01-01  market for power distribution unit, for electr...   \n",
       "2      2021-01-01    market for inverter, for electric passenger car   \n",
       "3      2021-01-01         market for charger, electric passenger car   \n",
       "4      2021-01-01   market for converter, for electric passenger car   \n",
       "..            ...                                                ...   \n",
       "146    2041-01-01                                    market for road   \n",
       "147    2041-01-01          market group for electricity, low voltage   \n",
       "148    2042-01-01  treatment of used internal combustion engine, ...   \n",
       "149    2042-01-01  market for used powertrain from electric passe...   \n",
       "150    2042-01-01  treatment of used glider, passenger car, shred...   \n",
       "\n",
       "    date_consumer                                      consumer_name  \\\n",
       "0      2026-01-01        passenger car, battery electric, Medium SUV   \n",
       "1      2026-01-01        passenger car, battery electric, Medium SUV   \n",
       "2      2026-01-01        passenger car, battery electric, Medium SUV   \n",
       "3      2026-01-01        passenger car, battery electric, Medium SUV   \n",
       "4      2026-01-01        passenger car, battery electric, Medium SUV   \n",
       "..            ...                                                ...   \n",
       "146    2041-01-01  transport, passenger car, battery electric, Me...   \n",
       "147    2041-01-01  transport, passenger car, battery electric, Me...   \n",
       "148    2026-01-01        passenger car, battery electric, Medium SUV   \n",
       "149    2026-01-01        passenger car, battery electric, Medium SUV   \n",
       "150    2026-01-01        passenger car, battery electric, Medium SUV   \n",
       "\n",
       "         amount                             temporal_market_shares  \n",
       "0    233.333333  {'ei_cutoff_3.10_remind-eu_SSP2-NPi_2020 2025-...  \n",
       "1      0.662319  {'ei_cutoff_3.10_remind-eu_SSP2-NPi_2020 2025-...  \n",
       "2      1.490217  {'ei_cutoff_3.10_remind-eu_SSP2-NPi_2020 2025-...  \n",
       "3      0.993478  {'ei_cutoff_3.10_remind-eu_SSP2-NPi_2020 2025-...  \n",
       "4      0.745109  {'ei_cutoff_3.10_remind-eu_SSP2-NPi_2020 2025-...  \n",
       "..          ...                                                ...  \n",
       "146    0.001077  {'ei_cutoff_3.10_remind-eu_SSP2-NPi_2040 2025-...  \n",
       "147    0.262637  {'ei_cutoff_3.10_remind-eu_SSP2-NPi_2040 2025-...  \n",
       "148  -89.417404  {'ei_cutoff_3.10_remind-eu_SSP2-NPi_2040 2025-...  \n",
       "149 -112.672485  {'ei_cutoff_3.10_remind-eu_SSP2-NPi_2040 2025-...  \n",
       "150     -1204.0  {'ei_cutoff_3.10_remind-eu_SSP2-NPi_2040 2025-...  \n",
       "\n",
       "[151 rows x 6 columns]"
      ]
     },
     "execution_count": 29,
     "metadata": {},
     "output_type": "execute_result"
    }
   ],
   "source": [
    "tlca_BEV = TimexLCA({LC_BEV: 1}, method, database_dates)\n",
    "tlca_BEV.build_timeline(temporal_grouping=\"year\")  # build timeline with yearly steps"
   ]
  },
  {
   "cell_type": "code",
   "execution_count": 30,
   "metadata": {},
   "outputs": [
    {
     "name": "stderr",
     "output_type": "stream",
     "text": [
      "\u001b[32m2025-10-09 10:45:16.840\u001b[0m | \u001b[1mINFO    \u001b[0m | \u001b[36mbw_timex.timex_lca\u001b[0m:\u001b[36mlci\u001b[0m:\u001b[36m360\u001b[0m - \u001b[1mExpanding matrices...\u001b[0m\n",
      "\u001b[32m2025-10-09 10:45:16.930\u001b[0m | \u001b[1mINFO    \u001b[0m | \u001b[36mbw_timex.timex_lca\u001b[0m:\u001b[36mlci\u001b[0m:\u001b[36m379\u001b[0m - \u001b[1mCalculating dynamic inventory...\u001b[0m\n",
      "/Users/ajakobs/miniconda3/envs/timex_new/lib/python3.11/site-packages/bw2calc/lca_base.py:127: SparseEfficiencyWarning: splu converted its input to CSC format\n",
      "  self.solver = factorized(self.technosphere_matrix)\n",
      "/Users/ajakobs/miniconda3/envs/timex_new/lib/python3.11/site-packages/scikits/umfpack/umfpack.py:736: UmfpackWarning: (almost) singular matrix! (estimated cond. number: 9.42e+12)\n",
      "  warnings.warn(msg, UmfpackWarning)\n",
      "/Users/ajakobs/miniconda3/envs/timex_new/lib/python3.11/site-packages/scikits/umfpack/umfpack.py:736: UmfpackWarning: (almost) singular matrix! (estimated cond. number: 9.42e+12)\n",
      "  warnings.warn(msg, UmfpackWarning)\n",
      "\u001b[32m2025-10-09 10:45:37.382\u001b[0m | \u001b[1mINFO    \u001b[0m | \u001b[36mdynamic_characterization.dynamic_characterization\u001b[0m:\u001b[36mcharacterize\u001b[0m:\u001b[36m82\u001b[0m - \u001b[1mNo custom dynamic characterization functions provided. Using default dynamic             characterization functions. The flows that are characterized are based on the selection                of the initially chosen impact category.\u001b[0m\n"
     ]
    },
    {
     "data": {
      "application/vnd.microsoft.datawrangler.viewer.v0+json": {
       "columns": [
        {
         "name": "index",
         "rawType": "int64",
         "type": "integer"
        },
        {
         "name": "date",
         "rawType": "datetime64[s]",
         "type": "unknown"
        },
        {
         "name": "amount",
         "rawType": "float64",
         "type": "float"
        },
        {
         "name": "flow",
         "rawType": "int64",
         "type": "integer"
        },
        {
         "name": "activity",
         "rawType": "int64",
         "type": "integer"
        }
       ],
       "ref": "21360125-7be2-48de-a86d-5996cde87a81",
       "rows": [
        [
         "0",
         "2021-01-01 00:00:00",
         "-30.983839662974113",
         "1034",
         "347697"
        ],
        [
         "1",
         "2021-01-01 00:00:00",
         "-0.12065910150459805",
         "1392",
         "347697"
        ],
        [
         "2",
         "2021-01-01 00:00:00",
         "-0.007914128980182419",
         "3269",
         "347689"
        ],
        [
         "3",
         "2021-01-01 00:00:00",
         "-0.006026573793398347",
         "3269",
         "347691"
        ],
        [
         "4",
         "2021-01-01 00:00:00",
         "-0.0052418472508287154",
         "3269",
         "347693"
        ],
        [
         "5",
         "2021-01-01 00:00:00",
         "-0.002922799413317465",
         "1369",
         "347697"
        ],
        [
         "6",
         "2021-01-01 00:00:00",
         "-0.0019717096745513188",
         "3269",
         "347696"
        ],
        [
         "7",
         "2021-01-01 00:00:00",
         "-0.0018821206208910822",
         "3269",
         "347692"
        ],
        [
         "8",
         "2021-01-01 00:00:00",
         "-0.0012089154263652346",
         "3269",
         "347695"
        ],
        [
         "9",
         "2021-01-01 00:00:00",
         "-0.001079057809324096",
         "3269",
         "347697"
        ],
        [
         "10",
         "2021-01-01 00:00:00",
         "-0.0007024746233945945",
         "3211",
         "347696"
        ],
        [
         "11",
         "2021-01-01 00:00:00",
         "-0.0004421326006001268",
         "3211",
         "347689"
        ],
        [
         "12",
         "2021-01-01 00:00:00",
         "-0.0003606220013044737",
         "3269",
         "347694"
        ],
        [
         "13",
         "2021-01-01 00:00:00",
         "-0.00018111975575177479",
         "3269",
         "347690"
        ],
        [
         "14",
         "2021-01-01 00:00:00",
         "-6.405472043166492e-05",
         "3211",
         "347697"
        ],
        [
         "15",
         "2021-01-01 00:00:00",
         "-3.397077450130228e-05",
         "3211",
         "347691"
        ],
        [
         "16",
         "2021-01-01 00:00:00",
         "-3.214140622181347e-05",
         "3211",
         "347695"
        ],
        [
         "17",
         "2021-01-01 00:00:00",
         "-3.119707482749964e-05",
         "3211",
         "347694"
        ],
        [
         "18",
         "2021-01-01 00:00:00",
         "-3.0373405392029186e-05",
         "3269",
         "347698"
        ],
        [
         "19",
         "2021-01-01 00:00:00",
         "-2.5098010446538158e-05",
         "3211",
         "347692"
        ],
        [
         "20",
         "2021-01-01 00:00:00",
         "-1.9197166642141285e-05",
         "3211",
         "347693"
        ],
        [
         "21",
         "2021-01-01 00:00:00",
         "-1.2694721100685485e-05",
         "3211",
         "347690"
        ],
        [
         "22",
         "2021-01-01 00:00:00",
         "-7.425191571959704e-06",
         "3211",
         "347698"
        ],
        [
         "23",
         "2021-01-01 00:00:00",
         "-7.291007153847628e-10",
         "1144",
         "347697"
        ],
        [
         "24",
         "2021-01-01 00:00:00",
         "3.966163889340501e-26",
         "1152",
         "347690"
        ],
        [
         "25",
         "2021-01-01 00:00:00",
         "5.719617344172212e-26",
         "1152",
         "347693"
        ],
        [
         "26",
         "2021-01-01 00:00:00",
         "6.378536771146501e-26",
         "1152",
         "347698"
        ],
        [
         "27",
         "2021-01-01 00:00:00",
         "7.49348527852234e-26",
         "1152",
         "347697"
        ],
        [
         "28",
         "2021-01-01 00:00:00",
         "7.625207546650208e-26",
         "1152",
         "347692"
        ],
        [
         "29",
         "2021-01-01 00:00:00",
         "8.722245871978821e-26",
         "1152",
         "347691"
        ],
        [
         "30",
         "2021-01-01 00:00:00",
         "2.4435420628724943e-25",
         "1152",
         "347695"
        ],
        [
         "31",
         "2021-01-01 00:00:00",
         "3.2872053131081983e-25",
         "1183",
         "347690"
        ],
        [
         "32",
         "2021-01-01 00:00:00",
         "3.984876257843712e-25",
         "1152",
         "347694"
        ],
        [
         "33",
         "2021-01-01 00:00:00",
         "4.740489056900017e-25",
         "1183",
         "347693"
        ],
        [
         "34",
         "2021-01-01 00:00:00",
         "5.286609567867502e-25",
         "1183",
         "347698"
        ],
        [
         "35",
         "2021-01-01 00:00:00",
         "6.210692575969191e-25",
         "1183",
         "347697"
        ],
        [
         "36",
         "2021-01-01 00:00:00",
         "6.31986560451966e-25",
         "1183",
         "347692"
        ],
        [
         "37",
         "2021-01-01 00:00:00",
         "7.229104435273851e-25",
         "1183",
         "347691"
        ],
        [
         "38",
         "2021-01-01 00:00:00",
         "2.0252376541690038e-24",
         "1183",
         "347695"
        ],
        [
         "39",
         "2021-01-01 00:00:00",
         "3.302714353986069e-24",
         "1183",
         "347694"
        ],
        [
         "40",
         "2021-01-01 00:00:00",
         "4.2745993923631485e-24",
         "1152",
         "347689"
        ],
        [
         "41",
         "2021-01-01 00:00:00",
         "5.5029691332759565e-24",
         "1152",
         "347696"
        ],
        [
         "42",
         "2021-01-01 00:00:00",
         "3.5428404435321734e-23",
         "1183",
         "347689"
        ],
        [
         "43",
         "2021-01-01 00:00:00",
         "4.560928362635309e-23",
         "1183",
         "347696"
        ],
        [
         "44",
         "2021-01-01 00:00:00",
         "5.361555223767667e-18",
         "384",
         "347690"
        ],
        [
         "45",
         "2021-01-01 00:00:00",
         "7.731915555121106e-18",
         "384",
         "347693"
        ],
        [
         "46",
         "2021-01-01 00:00:00",
         "8.62265859312158e-18",
         "384",
         "347698"
        ],
        [
         "47",
         "2021-01-01 00:00:00",
         "1.0129872656935236e-17",
         "384",
         "347697"
        ],
        [
         "48",
         "2021-01-01 00:00:00",
         "1.030793798129621e-17",
         "384",
         "347692"
        ],
        [
         "49",
         "2021-01-01 00:00:00",
         "1.1790940628785432e-17",
         "384",
         "347691"
        ]
       ],
       "shape": {
        "columns": 4,
        "rows": 11055
       }
      },
      "text/html": [
       "<div>\n",
       "<style scoped>\n",
       "    .dataframe tbody tr th:only-of-type {\n",
       "        vertical-align: middle;\n",
       "    }\n",
       "\n",
       "    .dataframe tbody tr th {\n",
       "        vertical-align: top;\n",
       "    }\n",
       "\n",
       "    .dataframe thead th {\n",
       "        text-align: right;\n",
       "    }\n",
       "</style>\n",
       "<table border=\"1\" class=\"dataframe\">\n",
       "  <thead>\n",
       "    <tr style=\"text-align: right;\">\n",
       "      <th></th>\n",
       "      <th>date</th>\n",
       "      <th>amount</th>\n",
       "      <th>flow</th>\n",
       "      <th>activity</th>\n",
       "    </tr>\n",
       "  </thead>\n",
       "  <tbody>\n",
       "    <tr>\n",
       "      <th>0</th>\n",
       "      <td>2021-01-01</td>\n",
       "      <td>-30.983840</td>\n",
       "      <td>1034</td>\n",
       "      <td>347697</td>\n",
       "    </tr>\n",
       "    <tr>\n",
       "      <th>1</th>\n",
       "      <td>2021-01-01</td>\n",
       "      <td>-0.120659</td>\n",
       "      <td>1392</td>\n",
       "      <td>347697</td>\n",
       "    </tr>\n",
       "    <tr>\n",
       "      <th>2</th>\n",
       "      <td>2021-01-01</td>\n",
       "      <td>-0.007914</td>\n",
       "      <td>3269</td>\n",
       "      <td>347689</td>\n",
       "    </tr>\n",
       "    <tr>\n",
       "      <th>3</th>\n",
       "      <td>2021-01-01</td>\n",
       "      <td>-0.006027</td>\n",
       "      <td>3269</td>\n",
       "      <td>347691</td>\n",
       "    </tr>\n",
       "    <tr>\n",
       "      <th>4</th>\n",
       "      <td>2021-01-01</td>\n",
       "      <td>-0.005242</td>\n",
       "      <td>3269</td>\n",
       "      <td>347693</td>\n",
       "    </tr>\n",
       "    <tr>\n",
       "      <th>...</th>\n",
       "      <td>...</td>\n",
       "      <td>...</td>\n",
       "      <td>...</td>\n",
       "      <td>...</td>\n",
       "    </tr>\n",
       "    <tr>\n",
       "      <th>11050</th>\n",
       "      <td>2042-01-01</td>\n",
       "      <td>8.442053</td>\n",
       "      <td>4192</td>\n",
       "      <td>347839</td>\n",
       "    </tr>\n",
       "    <tr>\n",
       "      <th>11051</th>\n",
       "      <td>2042-01-01</td>\n",
       "      <td>20.847749</td>\n",
       "      <td>1390</td>\n",
       "      <td>347839</td>\n",
       "    </tr>\n",
       "    <tr>\n",
       "      <th>11052</th>\n",
       "      <td>2042-01-01</td>\n",
       "      <td>31.248061</td>\n",
       "      <td>107</td>\n",
       "      <td>347837</td>\n",
       "    </tr>\n",
       "    <tr>\n",
       "      <th>11053</th>\n",
       "      <td>2042-01-01</td>\n",
       "      <td>50.124668</td>\n",
       "      <td>1031</td>\n",
       "      <td>347839</td>\n",
       "    </tr>\n",
       "    <tr>\n",
       "      <th>11054</th>\n",
       "      <td>2042-01-01</td>\n",
       "      <td>492.680948</td>\n",
       "      <td>107</td>\n",
       "      <td>347839</td>\n",
       "    </tr>\n",
       "  </tbody>\n",
       "</table>\n",
       "<p>11055 rows × 4 columns</p>\n",
       "</div>"
      ],
      "text/plain": [
       "            date      amount  flow  activity\n",
       "0     2021-01-01  -30.983840  1034    347697\n",
       "1     2021-01-01   -0.120659  1392    347697\n",
       "2     2021-01-01   -0.007914  3269    347689\n",
       "3     2021-01-01   -0.006027  3269    347691\n",
       "4     2021-01-01   -0.005242  3269    347693\n",
       "...          ...         ...   ...       ...\n",
       "11050 2042-01-01    8.442053  4192    347839\n",
       "11051 2042-01-01   20.847749  1390    347839\n",
       "11052 2042-01-01   31.248061   107    347837\n",
       "11053 2042-01-01   50.124668  1031    347839\n",
       "11054 2042-01-01  492.680948   107    347839\n",
       "\n",
       "[11055 rows x 4 columns]"
      ]
     },
     "execution_count": 30,
     "metadata": {},
     "output_type": "execute_result"
    }
   ],
   "source": [
    "tlca_BEV.lci()  # calculate the dynamic inventory\n",
    "tlca_BEV.dynamic_lcia(metric=\"GWP\", fixed_time_horizon=True)  # calculate the dynamic LCIA for GWP100"
   ]
  },
  {
   "cell_type": "code",
   "execution_count": 31,
   "metadata": {},
   "outputs": [
    {
     "name": "stdout",
     "output_type": "stream",
     "text": [
      "Time-explicit impacts for: 2.86e+04 kg CO2-eq for 200000.0 km driving with BEV\n"
     ]
    }
   ],
   "source": [
    "print(f'Time-explicit impacts for: {tlca_BEV.dynamic_score:.2e} kg CO2-eq for {LIFETIME_KM} km driving with BEV')"
   ]
  },
  {
   "cell_type": "code",
   "execution_count": 32,
   "metadata": {},
   "outputs": [
    {
     "name": "stderr",
     "output_type": "stream",
     "text": [
      "\u001b[32m2025-10-09 10:45:40.118\u001b[0m | \u001b[1mINFO    \u001b[0m | \u001b[36mbw_timex.timex_lca\u001b[0m:\u001b[36m__init__\u001b[0m:\u001b[36m114\u001b[0m - \u001b[1mInitializing TimexLCA object...\u001b[0m\n",
      "\u001b[32m2025-10-09 10:45:40.119\u001b[0m | \u001b[1mINFO    \u001b[0m | \u001b[36mbw_timex.timex_lca\u001b[0m:\u001b[36m__init__\u001b[0m:\u001b[36m136\u001b[0m - \u001b[1mCollecting node infos...\u001b[0m\n",
      "\u001b[32m2025-10-09 10:45:44.738\u001b[0m | \u001b[1mINFO    \u001b[0m | \u001b[36mbw_timex.timex_lca\u001b[0m:\u001b[36mbuild_timeline\u001b[0m:\u001b[36m216\u001b[0m - \u001b[1mNo edge filter function provided. Skipping all edges in background databases.\u001b[0m\n",
      "\u001b[32m2025-10-09 10:45:48.190\u001b[0m | \u001b[1mINFO    \u001b[0m | \u001b[36mbw_timex.timex_lca\u001b[0m:\u001b[36mbuild_timeline\u001b[0m:\u001b[36m232\u001b[0m - \u001b[1mCalculating base LCA...\u001b[0m\n",
      "/Users/ajakobs/miniconda3/envs/timex_new/lib/python3.11/site-packages/scikits/umfpack/umfpack.py:736: UmfpackWarning: (almost) singular matrix! (estimated cond. number: 3.71e+13)\n",
      "  warnings.warn(msg, UmfpackWarning)\n",
      "\u001b[32m2025-10-09 10:45:50.316\u001b[0m | \u001b[1mINFO    \u001b[0m | \u001b[36mbw_timex.timex_lca\u001b[0m:\u001b[36mbuild_timeline\u001b[0m:\u001b[36m242\u001b[0m - \u001b[1mCreating activity time mapping...\u001b[0m\n",
      "\u001b[32m2025-10-09 10:45:50.563\u001b[0m | \u001b[1mINFO    \u001b[0m | \u001b[36mbw_timex.timeline_builder\u001b[0m:\u001b[36m__init__\u001b[0m:\u001b[36m99\u001b[0m - \u001b[1mTraversing supply chain graph...\u001b[0m\n"
     ]
    },
    {
     "name": "stdout",
     "output_type": "stream",
     "text": [
      "Starting graph traversal\n"
     ]
    },
    {
     "name": "stderr",
     "output_type": "stream",
     "text": [
      "\u001b[32m2025-10-09 10:46:12.482\u001b[0m | \u001b[1mINFO    \u001b[0m | \u001b[36mbw_timex.timeline_builder\u001b[0m:\u001b[36mbuild_timeline\u001b[0m:\u001b[36m142\u001b[0m - \u001b[1mBuilding timeline...\u001b[0m\n"
     ]
    },
    {
     "name": "stdout",
     "output_type": "stream",
     "text": [
      "Calculation count: 14\n"
     ]
    },
    {
     "name": "stderr",
     "output_type": "stream",
     "text": [
      "\u001b[32m2025-10-09 10:46:12.875\u001b[0m | \u001b[1mINFO    \u001b[0m | \u001b[36mbw_timex.timex_lca\u001b[0m:\u001b[36mlci\u001b[0m:\u001b[36m360\u001b[0m - \u001b[1mExpanding matrices...\u001b[0m\n",
      "\u001b[32m2025-10-09 10:46:13.151\u001b[0m | \u001b[1mINFO    \u001b[0m | \u001b[36mbw_timex.timex_lca\u001b[0m:\u001b[36mlci\u001b[0m:\u001b[36m379\u001b[0m - \u001b[1mCalculating dynamic inventory...\u001b[0m\n",
      "/Users/ajakobs/miniconda3/envs/timex_new/lib/python3.11/site-packages/bw2calc/lca_base.py:127: SparseEfficiencyWarning: splu converted its input to CSC format\n",
      "  self.solver = factorized(self.technosphere_matrix)\n",
      "/Users/ajakobs/miniconda3/envs/timex_new/lib/python3.11/site-packages/scikits/umfpack/umfpack.py:736: UmfpackWarning: (almost) singular matrix! (estimated cond. number: 9.42e+12)\n",
      "  warnings.warn(msg, UmfpackWarning)\n",
      "/Users/ajakobs/miniconda3/envs/timex_new/lib/python3.11/site-packages/scikits/umfpack/umfpack.py:736: UmfpackWarning: (almost) singular matrix! (estimated cond. number: 9.42e+12)\n",
      "  warnings.warn(msg, UmfpackWarning)\n",
      "\u001b[32m2025-10-09 10:46:31.518\u001b[0m | \u001b[1mINFO    \u001b[0m | \u001b[36mdynamic_characterization.dynamic_characterization\u001b[0m:\u001b[36mcharacterize\u001b[0m:\u001b[36m82\u001b[0m - \u001b[1mNo custom dynamic characterization functions provided. Using default dynamic             characterization functions. The flows that are characterized are based on the selection                of the initially chosen impact category.\u001b[0m\n"
     ]
    },
    {
     "data": {
      "application/vnd.microsoft.datawrangler.viewer.v0+json": {
       "columns": [
        {
         "name": "index",
         "rawType": "int64",
         "type": "integer"
        },
        {
         "name": "date",
         "rawType": "datetime64[s]",
         "type": "unknown"
        },
        {
         "name": "amount",
         "rawType": "float64",
         "type": "float"
        },
        {
         "name": "flow",
         "rawType": "int64",
         "type": "integer"
        },
        {
         "name": "activity",
         "rawType": "int64",
         "type": "integer"
        }
       ],
       "ref": "c13edde8-79f9-4780-9d04-b5d55aa55d08",
       "rows": [
        [
         "0",
         "2021-01-01 00:00:00",
         "-20.20685211142585",
         "1034",
         "347692"
        ],
        [
         "1",
         "2021-01-01 00:00:00",
         "-0.07869071898517879",
         "1392",
         "347692"
        ],
        [
         "2",
         "2021-01-01 00:00:00",
         "-0.006783539125870644",
         "3269",
         "347689"
        ],
        [
         "3",
         "2021-01-01 00:00:00",
         "-0.0019061735452641786",
         "1369",
         "347692"
        ],
        [
         "4",
         "2021-01-01 00:00:00",
         "-0.0009876068234553298",
         "3269",
         "347691"
        ],
        [
         "5",
         "2021-01-01 00:00:00",
         "-0.000703733359385651",
         "3269",
         "347692"
        ],
        [
         "6",
         "2021-01-01 00:00:00",
         "-0.00037897080051439453",
         "3211",
         "347689"
        ],
        [
         "7",
         "2021-01-01 00:00:00",
         "-8.543695021389405e-05",
         "3211",
         "347691"
        ],
        [
         "8",
         "2021-01-01 00:00:00",
         "-4.1774817998045916e-05",
         "3211",
         "347692"
        ],
        [
         "9",
         "2021-01-01 00:00:00",
         "-7.63878018026613e-06",
         "3211",
         "347690"
        ],
        [
         "10",
         "2021-01-01 00:00:00",
         "-4.540061695942695e-06",
         "3269",
         "347690"
        ],
        [
         "11",
         "2021-01-01 00:00:00",
         "-4.75500470257097e-10",
         "1144",
         "347692"
        ],
        [
         "12",
         "2021-01-01 00:00:00",
         "4.887055654473812e-26",
         "1152",
         "347692"
        ],
        [
         "13",
         "2021-01-01 00:00:00",
         "1.1606149357858679e-25",
         "1152",
         "347690"
        ],
        [
         "14",
         "2021-01-01 00:00:00",
         "4.0504517115130647e-25",
         "1183",
         "347692"
        ],
        [
         "15",
         "2021-01-01 00:00:00",
         "9.619319044914146e-25",
         "1183",
         "347690"
        ],
        [
         "16",
         "2021-01-01 00:00:00",
         "1.0913064007841412e-24",
         "1152",
         "347691"
        ],
        [
         "17",
         "2021-01-01 00:00:00",
         "3.663942336311271e-24",
         "1152",
         "347689"
        ],
        [
         "18",
         "2021-01-01 00:00:00",
         "9.044881399697448e-24",
         "1183",
         "347691"
        ],
        [
         "19",
         "2021-01-01 00:00:00",
         "3.036720380170434e-23",
         "1183",
         "347689"
        ],
        [
         "20",
         "2021-01-01 00:00:00",
         "6.606438740737352e-18",
         "384",
         "347692"
        ],
        [
         "21",
         "2021-01-01 00:00:00",
         "1.5689470341573307e-17",
         "384",
         "347690"
        ],
        [
         "22",
         "2021-01-01 00:00:00",
         "1.4752540985590072e-16",
         "384",
         "347691"
        ],
        [
         "23",
         "2021-01-01 00:00:00",
         "4.953004899360697e-16",
         "384",
         "347689"
        ],
        [
         "24",
         "2021-01-01 00:00:00",
         "2.6161349423223373e-14",
         "642",
         "347690"
        ],
        [
         "25",
         "2021-01-01 00:00:00",
         "4.3651086210694706e-13",
         "642",
         "347692"
        ],
        [
         "26",
         "2021-01-01 00:00:00",
         "3.554279877756907e-12",
         "642",
         "347691"
        ],
        [
         "27",
         "2021-01-01 00:00:00",
         "1.1724773593767133e-11",
         "1013",
         "347690"
        ],
        [
         "28",
         "2021-01-01 00:00:00",
         "1.5410713392626386e-11",
         "1395",
         "347690"
        ],
        [
         "29",
         "2021-01-01 00:00:00",
         "1.9128699749875038e-11",
         "1549",
         "347690"
        ],
        [
         "30",
         "2021-01-01 00:00:00",
         "5.199423024108882e-11",
         "1013",
         "347692"
        ],
        [
         "31",
         "2021-01-01 00:00:00",
         "9.248250062029471e-11",
         "386",
         "347690"
        ],
        [
         "32",
         "2021-01-01 00:00:00",
         "1.3031028501781674e-10",
         "1549",
         "347692"
        ],
        [
         "33",
         "2021-01-01 00:00:00",
         "1.5299570703375522e-10",
         "1144",
         "347690"
        ],
        [
         "34",
         "2021-01-01 00:00:00",
         "1.7109497569874085e-10",
         "1196",
         "347690"
        ],
        [
         "35",
         "2021-01-01 00:00:00",
         "1.932756525534162e-10",
         "1550",
         "347690"
        ],
        [
         "36",
         "2021-01-01 00:00:00",
         "2.562316899536464e-10",
         "1013",
         "347691"
        ],
        [
         "37",
         "2021-01-01 00:00:00",
         "3.411717270488477e-10",
         "4219",
         "347690"
        ],
        [
         "38",
         "2021-01-01 00:00:00",
         "4.808429105748632e-10",
         "1549",
         "347691"
        ],
        [
         "39",
         "2021-01-01 00:00:00",
         "5.231781032697754e-10",
         "1014",
         "347692"
        ],
        [
         "40",
         "2021-01-01 00:00:00",
         "5.78382282807695e-10",
         "642",
         "347689"
        ],
        [
         "41",
         "2021-01-01 00:00:00",
         "1.0853173155874187e-09",
         "1013",
         "347689"
        ],
        [
         "42",
         "2021-01-01 00:00:00",
         "1.302431977124197e-09",
         "386",
         "347692"
        ],
        [
         "43",
         "2021-01-01 00:00:00",
         "1.4624426914471911e-09",
         "3372",
         "347690"
        ],
        [
         "44",
         "2021-01-01 00:00:00",
         "1.4907856907849988e-09",
         "1439",
         "347692"
        ],
        [
         "45",
         "2021-01-01 00:00:00",
         "1.7500459697734789e-09",
         "1144",
         "347691"
        ],
        [
         "46",
         "2021-01-01 00:00:00",
         "1.9604266194447768e-09",
         "386",
         "347691"
        ],
        [
         "47",
         "2021-01-01 00:00:00",
         "1.9635688085299854e-09",
         "1549",
         "347689"
        ],
        [
         "48",
         "2021-01-01 00:00:00",
         "2.2893055442144408e-09",
         "1395",
         "347689"
        ],
        [
         "49",
         "2021-01-01 00:00:00",
         "2.7060727398066343e-09",
         "392",
         "347690"
        ]
       ],
       "shape": {
        "columns": 4,
        "rows": 8738
       }
      },
      "text/html": [
       "<div>\n",
       "<style scoped>\n",
       "    .dataframe tbody tr th:only-of-type {\n",
       "        vertical-align: middle;\n",
       "    }\n",
       "\n",
       "    .dataframe tbody tr th {\n",
       "        vertical-align: top;\n",
       "    }\n",
       "\n",
       "    .dataframe thead th {\n",
       "        text-align: right;\n",
       "    }\n",
       "</style>\n",
       "<table border=\"1\" class=\"dataframe\">\n",
       "  <thead>\n",
       "    <tr style=\"text-align: right;\">\n",
       "      <th></th>\n",
       "      <th>date</th>\n",
       "      <th>amount</th>\n",
       "      <th>flow</th>\n",
       "      <th>activity</th>\n",
       "    </tr>\n",
       "  </thead>\n",
       "  <tbody>\n",
       "    <tr>\n",
       "      <th>0</th>\n",
       "      <td>2021-01-01</td>\n",
       "      <td>-20.206852</td>\n",
       "      <td>1034</td>\n",
       "      <td>347692</td>\n",
       "    </tr>\n",
       "    <tr>\n",
       "      <th>1</th>\n",
       "      <td>2021-01-01</td>\n",
       "      <td>-0.078691</td>\n",
       "      <td>1392</td>\n",
       "      <td>347692</td>\n",
       "    </tr>\n",
       "    <tr>\n",
       "      <th>2</th>\n",
       "      <td>2021-01-01</td>\n",
       "      <td>-0.006784</td>\n",
       "      <td>3269</td>\n",
       "      <td>347689</td>\n",
       "    </tr>\n",
       "    <tr>\n",
       "      <th>3</th>\n",
       "      <td>2021-01-01</td>\n",
       "      <td>-0.001906</td>\n",
       "      <td>1369</td>\n",
       "      <td>347692</td>\n",
       "    </tr>\n",
       "    <tr>\n",
       "      <th>4</th>\n",
       "      <td>2021-01-01</td>\n",
       "      <td>-0.000988</td>\n",
       "      <td>3269</td>\n",
       "      <td>347691</td>\n",
       "    </tr>\n",
       "    <tr>\n",
       "      <th>...</th>\n",
       "      <td>...</td>\n",
       "      <td>...</td>\n",
       "      <td>...</td>\n",
       "      <td>...</td>\n",
       "    </tr>\n",
       "    <tr>\n",
       "      <th>8733</th>\n",
       "      <td>2042-01-01</td>\n",
       "      <td>9.106782</td>\n",
       "      <td>1031</td>\n",
       "      <td>347807</td>\n",
       "    </tr>\n",
       "    <tr>\n",
       "      <th>8734</th>\n",
       "      <td>2042-01-01</td>\n",
       "      <td>19.410190</td>\n",
       "      <td>1390</td>\n",
       "      <td>347808</td>\n",
       "    </tr>\n",
       "    <tr>\n",
       "      <th>8735</th>\n",
       "      <td>2042-01-01</td>\n",
       "      <td>46.668315</td>\n",
       "      <td>1031</td>\n",
       "      <td>347808</td>\n",
       "    </tr>\n",
       "    <tr>\n",
       "      <th>8736</th>\n",
       "      <td>2042-01-01</td>\n",
       "      <td>85.576582</td>\n",
       "      <td>107</td>\n",
       "      <td>347807</td>\n",
       "    </tr>\n",
       "    <tr>\n",
       "      <th>8737</th>\n",
       "      <td>2042-01-01</td>\n",
       "      <td>458.708071</td>\n",
       "      <td>107</td>\n",
       "      <td>347808</td>\n",
       "    </tr>\n",
       "  </tbody>\n",
       "</table>\n",
       "<p>8738 rows × 4 columns</p>\n",
       "</div>"
      ],
      "text/plain": [
       "           date      amount  flow  activity\n",
       "0    2021-01-01  -20.206852  1034    347692\n",
       "1    2021-01-01   -0.078691  1392    347692\n",
       "2    2021-01-01   -0.006784  3269    347689\n",
       "3    2021-01-01   -0.001906  1369    347692\n",
       "4    2021-01-01   -0.000988  3269    347691\n",
       "...         ...         ...   ...       ...\n",
       "8733 2042-01-01    9.106782  1031    347807\n",
       "8734 2042-01-01   19.410190  1390    347808\n",
       "8735 2042-01-01   46.668315  1031    347808\n",
       "8736 2042-01-01   85.576582   107    347807\n",
       "8737 2042-01-01  458.708071   107    347808\n",
       "\n",
       "[8738 rows x 4 columns]"
      ]
     },
     "execution_count": 32,
     "metadata": {},
     "output_type": "execute_result"
    }
   ],
   "source": [
    "tlca_ICEC = TimexLCA({LC_ICEC: 1}, method, database_dates)\n",
    "tlca_ICEC.build_timeline(temporal_grouping=\"year\")  # build timeline with yearly steps\n",
    "tlca_ICEC.lci()  # calculate the dynamic inventory\n",
    "tlca_ICEC.dynamic_lcia(metric=\"GWP\", fixed_time_horizon=True)"
   ]
  },
  {
   "cell_type": "code",
   "execution_count": 33,
   "metadata": {},
   "outputs": [
    {
     "name": "stdout",
     "output_type": "stream",
     "text": [
      "Time-explicit impacts for: 5.14e+04 kg CO2-eq for 200000.0 km driving with ICEC\n"
     ]
    }
   ],
   "source": [
    "print(f'Time-explicit impacts for: {tlca_ICEC.dynamic_score:.2e} kg CO2-eq for {LIFETIME_KM} km driving with ICEC')"
   ]
  },
  {
   "cell_type": "markdown",
   "metadata": {},
   "source": [
    "## Visualise Results and compare the different cars and scenarios\n",
    "\n",
    "- Now find a good way to visualise the results. There are some simple plotting functions included such as plot_dynamic_inventory().\n",
    "\n",
    "- Run the other scenario to see the differences for both cars. "
   ]
  },
  {
   "cell_type": "code",
   "execution_count": 39,
   "metadata": {},
   "outputs": [
    {
     "data": {
      "image/png": "[encoded data removed]",
      "text/plain": [
       "<Figure size 1400x600 with 1 Axes>"
      ]
     },
     "metadata": {},
     "output_type": "display_data"
    },
    {
     "data": {
      "image/png": "[encoded data removed]",
      "text/plain": [
       "<Figure size 1400x600 with 1 Axes>"
      ]
     },
     "metadata": {},
     "output_type": "display_data"
    }
   ],
   "source": [
    "# As a first try we can use the integrated plotting function of timex\n",
    "tlca_BEV.plot_dynamic_characterized_inventory(sum_emissions_within_activity=True, cumsum=False)\n",
    "tlca_ICEC.plot_dynamic_characterized_inventory(sum_emissions_within_activity=True, cumsum=False)"
   ]
  },
  {
   "cell_type": "code",
   "execution_count": null,
   "metadata": {},
   "outputs": [],
   "source": [
    "# Now this does not seem to be great because of the many processes, so maybe we can group them into categories\n",
    "# and plot those instead...\n"
   ]
  },
  {
   "cell_type": "code",
   "execution_count": 43,
   "metadata": {},
   "outputs": [
    {
     "data": {
      "text/plain": [
       "[Exchange: 7.640378498763312e-06 unit 'maintenance, passenger car' (unit, RER, None) to 'transport, passenger car, gasoline, Medium SUV, EURO-6' (kilometer, RER, None)>,\n",
       " Exchange: -1.4271368854679167e-05 kilogram 'market for brake wear emissions, passenger car' (kilogram, GLO, None) to 'transport, passenger car, gasoline, Medium SUV, EURO-6' (kilometer, RER, None)>,\n",
       " Exchange: 6.330434644041816e-06 kilogram 'market for refrigerant R134a' (kilogram, GLO, None) to 'transport, passenger car, gasoline, Medium SUV, EURO-6' (kilometer, RER, None)>,\n",
       " Exchange: 0.0008383162785321474 meter-year 'market for road' (meter-year, GLO, None) to 'transport, passenger car, gasoline, Medium SUV, EURO-6' (kilometer, RER, None)>,\n",
       " Exchange: 0.001290000043809414 meter-year 'market for road maintenance' (meter-year, RER, None) to 'transport, passenger car, gasoline, Medium SUV, EURO-6' (kilometer, RER, None)>,\n",
       " Exchange: -1.5723269825684838e-05 kilogram 'market for road wear emissions, passenger car' (kilogram, GLO, None) to 'transport, passenger car, gasoline, Medium SUV, EURO-6' (kilometer, RER, None)>,\n",
       " Exchange: -1.8701161025092006e-05 kilogram 'market for tyre wear emissions, passenger car' (kilogram, GLO, None) to 'transport, passenger car, gasoline, Medium SUV, EURO-6' (kilometer, RER, None)>,\n",
       " Exchange: 0.05594037100672722 kilogram 'market for petrol, low-sulfur' (kilogram, DEU, None) to 'transport, passenger car, gasoline, Medium SUV, EURO-6' (kilometer, RER, None)>]"
      ]
     },
     "execution_count": 43,
     "metadata": {},
     "output_type": "execute_result"
    }
   ],
   "source": [
    "[exc for exc in driving_icec.technosphere()]"
   ]
  },
  {
   "cell_type": "markdown",
   "metadata": {},
   "source": [
    "## BONUS options:\n",
    "\n",
    "- Use dynamic_lcia(use_disaggregated_lci=TRUE) to perform a contribution analysis on the background activities contributing to the impacts. (Note that this function can take a while), find a good way to visualize thi\n",
    "\n",
    "- Adavanced: Use temporal distritbutions to modell a fleet (of changing composition). (hint a for a fleet some cars will live longer, some shorter. This can be modelled using a distribution for the usephase and the EoL)\n",
    "    - Now you can also look at different impacts (e.g. metal demand for example and see the metal demand per year needed to build a fleet)\n",
    "\n",
    "- How is the comparison if we replace the petrol consumption of the car with biofuel (e.g. this activity:  'petrol production, 85% ethanol by volume from biomass' (kilogram, CH, None)). And then what about if you include biogenic carbon emissions by using for example this method: ('ecoinvent-3.10',\n",
    "  'IPCC 2021',\n",
    "  'climate change: biogenic, including SLCFs',\n",
    "  'global warming potential (GWP20)')\n",
    "\n",
    "\n"
   ]
  },
  {
   "cell_type": "code",
   "execution_count": null,
   "metadata": {},
   "outputs": [],
   "source": [
    "db_2020_NPi.metadata"
   ]
  },
  {
   "cell_type": "code",
   "execution_count": null,
   "metadata": {},
   "outputs": [],
   "source": []
  }
 ],
 "metadata": {
  "kernelspec": {
   "display_name": "timex_new",
   "language": "python",
   "name": "python3"
  },
  "language_info": {
   "codemirror_mode": {
    "name": "ipython",
    "version": 3
   },
   "file_extension": ".py",
   "mimetype": "text/x-python",
   "name": "python",
   "nbconvert_exporter": "python",
   "pygments_lexer": "ipython3",
   "version": "3.11.13"
  }
 },
 "nbformat": 4,
 "nbformat_minor": 4
}
