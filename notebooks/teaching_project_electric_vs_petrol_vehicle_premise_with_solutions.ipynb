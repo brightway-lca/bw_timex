{
 "cells": [
  {
   "cell_type": "markdown",
   "metadata": {},
   "source": [
    "# `bw_timex` Teaching Exercise - Time-explicit LCA of an Electric Vehicle vs Petrol Vehicle.\n",
    "\n",
    "In this exercise notebook you will compare the climate preformance of a battery electric vehicle (BEV) and an internal combustion engine (ICE) car, in a time explicit way, using in different decarbonisation scenarios. \n",
    "\n",
    "Optional challenge at the end: \n",
    "\n",
    "- using temporal distributions, model the material requirements of a fleet of electric cars/busses.\n"
   ]
  },
  {
   "cell_type": "code",
   "execution_count": 1,
   "metadata": {},
   "outputs": [
    {
     "name": "stderr",
     "output_type": "stream",
     "text": [
      "/Users/ajakobs/miniconda3/envs/timex_new/lib/python3.11/site-packages/scikits/__init__.py:1: UserWarning: pkg_resources is deprecated as an API. See https://setuptools.pypa.io/en/latest/pkg_resources.html. The pkg_resources package is slated for removal as early as 2025-11-30. Refrain from using this package or pin to Setuptools<81.\n",
      "  __import__('pkg_resources').declare_namespace(__name__)\n"
     ]
    },
    {
     "name": "stdout",
     "output_type": "stream",
     "text": [
      "Restoring project backup archive - this could take a few minutes...\n",
      "Restored project: BAFU_report\n"
     ]
    }
   ],
   "source": [
    "# first we need to load the correct Brightway2 project with the required databases\n",
    "import bw2data as bd\n",
    "\n",
    "# project_name = \"Timex_teaching\"\n",
    "project_name = \"BAFU_report\"\n",
    "\n",
    "if project_name:# not in bd.projects:\n",
    "    import bw2io as bi\n",
    "    bi.backup.restore_project_directory(fp= '/Users/ajakobs/Documents/SCENE/LCA model/databases/base_projects/brightway2-project-BAFU_report-backup07-November-2024-12-21PM.tar.gz',\n",
    "                                    overwrite_existing=True)\n",
    "\n",
    "bd.projects.set_current(project_name)"
   ]
  },
  {
   "cell_type": "code",
   "execution_count": 2,
   "metadata": {},
   "outputs": [
    {
     "name": "stdout",
     "output_type": "stream",
     "text": [
      "Databases dictionary with 6 object(s):\n",
      "\tecoinvent-3.10-biosphere\n",
      "\tecoinvent-3.10-cutoff\n",
      "\tei_cutoff_3.10_image_SSP2-Base_2020 2024-11-07\n",
      "\tei_cutoff_3.10_image_SSP2-Base_2030 2024-11-07\n",
      "\tei_cutoff_3.10_image_SSP2-Base_2040 2024-11-07\n",
      "\tei_cutoff_3.10_image_SSP2-Base_2050 2024-11-07\n"
     ]
    }
   ],
   "source": [
    "# check the databases present\n",
    "print(bd.databases)"
   ]
  },
  {
   "cell_type": "markdown",
   "metadata": {},
   "source": [
    "## Prospective background databases\n",
    "\n",
    "We used `premise` to create two different sets of 'ecoinvent-databases' representing two different carbonisation pathways. They are the based on the REMIND-EU IAM for the SSP2 scenario in combination with Paris Agreement consistent policies (PkBud650) as an (very) optimistic scenario, and the 'national policies implemented' (NPi) as a business as usual (BAU) scenario:\n",
    "\n",
    "- REMIND-EU - SSP2-NPi       : BAU scenario with ~3˚ warming by 2100\n",
    "- REMIND-EU - SSP2-PkBudg650 : Optimistic scenario in line with Paris 2015 with 1.5˚-1.9˚ warming bby 2100\n",
    "\n",
    "(See [the Premise documentation](https://premise.readthedocs.io/en/latest/introduction.html#default-iam-scenarios) for a brief overview of the IAM scenarios) \n",
    "\n"
   ]
  },
  {
   "cell_type": "code",
   "execution_count": 3,
   "metadata": {},
   "outputs": [],
   "source": [
    "# Let's get easy handles for the databases for ease of use:\n",
    "\n",
    "db_2020 = bd.Database(\"ei_cutoff_3.10_image_SSP2-Base_2020 2024-11-07\")\n",
    "db_2030 = bd.Database(\"ei_cutoff_3.10_image_SSP2-Base_2030 2024-11-07\")\n",
    "db_2040 = bd.Database(\"ei_cutoff_3.10_image_SSP2-Base_2040 2024-11-07\")\n",
    "db_2050 = bd.Database(\"ei_cutoff_3.10_image_SSP2-Base_2050 2024-11-07\")\n"
   ]
  },
  {
   "cell_type": "code",
   "execution_count": 4,
   "metadata": {},
   "outputs": [],
   "source": [
    "# db_2020_NPi = bd.Database(\"ei_cutoff_3.11_remind-eu_SSP2-NPi_2020 2025-10-01\")\n",
    "# db_2030_NPi = bd.Database(\"ei_cutoff_3.11_remind-eu_SSP2-NPi_2030 2025-10-01\")\n",
    "# db_2040_NPi = bd.Database(\"ei_cutoff_3.11_remind-eu_SSP2-NPi_2040 2025-10-01\")\n",
    "# db_2050_NPi = bd.Database(\"ei_cutoff_3.11_remind-eu_SSP2-NPi_2050 2025-10-01\")"
   ]
  },
  {
   "cell_type": "markdown",
   "metadata": {},
   "source": [
    "## Case study setup\n",
    "\n",
    "In this exercise we will go about setting up the forground system in a slightly different way. In our case driving a(n electric) car is already represented in ecoinvent. So all we would need to do is to add the temporal distributions to the exchanges. In the current implementation of `bw_timex`, all activities \n",
    "containing temporal information on the exchanges need to 'live' in the foreground system, so that their inputs can get linked to different background activities.\n",
    "\n",
    "Let's start the definition of our functional unit (FU): \n",
    "\n",
    "- Driving a passenger car for 200,000km (including production, EoL treatment, maintenance, etc), over a period of 15 years.\n"
   ]
  },
  {
   "cell_type": "markdown",
   "metadata": {},
   "source": [
    "### Modeling the production system\n",
    "\n",
    "As a first step of modelling the production system let's create a new foreground database:\n"
   ]
  },
  {
   "cell_type": "code",
   "execution_count": 5,
   "metadata": {},
   "outputs": [],
   "source": [
    "fg_db_name = \"foreground\"\n",
    "\n",
    "if fg_db_name in bd.databases:\n",
    "    del bd.databases[fg_db_name] # to make sure we create the foreground from scratch\n",
    "foreground = bd.Database(fg_db_name)\n",
    "foreground.register()"
   ]
  },
  {
   "cell_type": "markdown",
   "metadata": {},
   "source": [
    "And let's define the FU relevant quantities: "
   ]
  },
  {
   "cell_type": "code",
   "execution_count": 6,
   "metadata": {},
   "outputs": [],
   "source": [
    "LIFETIME_KM = 200000.  # lifetime of the vehicle in km\n",
    "LIFETIME = 15  # lifetime of the vehicle in years\n",
    "ANNUAL_KM = LIFETIME_KM / LIFETIME  # annual km"
   ]
  },
  {
   "cell_type": "markdown",
   "metadata": {},
   "source": [
    "Now let's create two activities in the foreground that represent the functional units as defined above (production/driving/EoL treatment of a car for 200,000km over 15 years). We can call them LC_BEV and LC_ICEC for example (LC=life cyle)"
   ]
  },
  {
   "cell_type": "code",
   "execution_count": 7,
   "metadata": {},
   "outputs": [],
   "source": [
    "LC_BEV = foreground.new_node(\"lc_bev\", name=\"Life cycle of a BEV\", unit=\"unit\")\n",
    "LC_BEV['reference product'] = \"LC_BEV\"\n",
    "LC_BEV.save()\n",
    "\n",
    "LC_ICEC = foreground.new_node(\"lc_icec\", name=\"Life cycle of a internal combustion engine car\")\n",
    "LC_ICEC['reference product'] = \"LC_ICEC\"\n",
    "LC_ICEC.save()\n"
   ]
  },
  {
   "cell_type": "markdown",
   "metadata": {},
   "source": [
    "Ecoinvent already contains activities that represent transport with a passenger car. So let's get the following two activities from the base database** for the BAU scenario and create a copy in our foreground database:\n",
    "\n",
    "- Driving a gasoline car: \"transport, passenger car, gasoline, Medium SUV, EURO-6\"\n",
    "- Driving a BEV: \"transport, passenger car, gasoline, Medium SUV, EURO-6\"\n",
    "\n",
    "HINT: copy to a different database by first copying the activity and then changing the database.\n",
    "\n",
    "** We consider that as our base year and db_2020 as the 'base' database"
   ]
  },
  {
   "cell_type": "code",
   "execution_count": 8,
   "metadata": {},
   "outputs": [
    {
     "name": "stdout",
     "output_type": "stream",
     "text": [
      "Successfully switch activity dataset to database `foreground`\n",
      "Successfully switch activity dataset to database `foreground`\n"
     ]
    }
   ],
   "source": [
    "# only run this cell once!\n",
    "driving_icec = db_2020.get(name='transport, passenger car, gasoline, Medium SUV, EURO-6').copy()\n",
    "driving_icec['database'] = fg_db_name\n",
    "driving_bev = db_2020.get(name='transport, passenger car, battery electric, Medium SUV').copy()\n",
    "driving_bev['database'] = fg_db_name"
   ]
  },
  {
   "cell_type": "markdown",
   "metadata": {},
   "source": [
    "The Reference product of these activities should be 1 km traveled by the resepctive vehicle, but let's check the reference product and its unit:"
   ]
  },
  {
   "cell_type": "code",
   "execution_count": 9,
   "metadata": {},
   "outputs": [
    {
     "name": "stdout",
     "output_type": "stream",
     "text": [
      "Driving BEV reference product: Exchange: 1.0 kilometer 'transport, passenger car, battery electric, Medium SUV' (kilometer, RER, None) to 'transport, passenger car, battery electric, Medium SUV' (kilometer, RER, None)>\n",
      "Driving BEV rp unit: kilometer\n",
      "Driving ICEC reference product: Exchange: 1.0 kilometer 'transport, passenger car, gasoline, Medium SUV, EURO-6' (kilometer, RER, None) to 'transport, passenger car, gasoline, Medium SUV, EURO-6' (kilometer, RER, None)>\n",
      "Driving ICEC rp unit: kilometer\n"
     ]
    }
   ],
   "source": [
    "print(f'Driving BEV reference product: {driving_bev.rp_exchange()}')\n",
    "print(f'Driving BEV rp unit: {driving_bev.rp_exchange()[\"unit\"]}')\n",
    "print(f'Driving ICEC reference product: {driving_icec.rp_exchange()}')\n",
    "print(f'Driving ICEC rp unit: {driving_icec.rp_exchange()[\"unit\"]}')"
   ]
  },
  {
   "cell_type": "markdown",
   "metadata": {},
   "source": [
    "Have a look at what the inputs into such a car is and identify the relevant exchanges:"
   ]
  },
  {
   "cell_type": "code",
   "execution_count": 10,
   "metadata": {},
   "outputs": [
    {
     "data": {
      "text/plain": [
       "[Exchange: 1.003274597657886e-05 unit 'maintenance, passenger car' (unit, RER, None) to 'transport, passenger car, battery electric, Medium SUV' (kilometer, RER, None)>,\n",
       " Exchange: -8.875492874499866e-06 kilogram 'market for brake wear emissions, passenger car' (kilogram, GLO, None) to 'transport, passenger car, battery electric, Medium SUV' (kilometer, RER, None)>,\n",
       " Exchange: 6.330434782608695e-06 kilogram 'market for refrigerant R134a' (kilogram, GLO, None) to 'transport, passenger car, battery electric, Medium SUV' (kilometer, RER, None)>,\n",
       " Exchange: 0.00107727073363265 meter-year 'market for road' (meter-year, GLO, None) to 'transport, passenger car, battery electric, Medium SUV' (kilometer, RER, None)>,\n",
       " Exchange: 0.00129 meter-year 'market for road maintenance' (meter-year, RER, None) to 'transport, passenger car, battery electric, Medium SUV' (kilometer, RER, None)>,\n",
       " Exchange: -1.896191731771129e-05 kilogram 'market for road wear emissions, passenger car' (kilogram, GLO, None) to 'transport, passenger car, battery electric, Medium SUV' (kilometer, RER, None)>,\n",
       " Exchange: -2.157296080667847e-05 kilogram 'market for tyre wear emissions, passenger car' (kilogram, GLO, None) to 'transport, passenger car, battery electric, Medium SUV' (kilometer, RER, None)>,\n",
       " Exchange: 5e-06 unit 'passenger car, battery electric, Medium SUV' (unit, RER, None) to 'transport, passenger car, battery electric, Medium SUV' (kilometer, RER, None)>,\n",
       " Exchange: 0.2626370017121174 kilowatt hour 'market group for electricity, low voltage' (kilowatt hour, WEU, None) to 'transport, passenger car, battery electric, Medium SUV' (kilometer, RER, None)>]"
      ]
     },
     "execution_count": 10,
     "metadata": {},
     "output_type": "execute_result"
    }
   ],
   "source": [
    "[exc for exc in driving_bev.technosphere()]"
   ]
  },
  {
   "cell_type": "code",
   "execution_count": 11,
   "metadata": {},
   "outputs": [
    {
     "data": {
      "text/plain": [
       "[Exchange: 7.640378645840602e-06 unit 'maintenance, passenger car' (unit, RER, None) to 'transport, passenger car, gasoline, Medium SUV, EURO-6' (kilometer, RER, None)>,\n",
       " Exchange: -1.427136857274651e-05 kilogram 'market for brake wear emissions, passenger car' (kilogram, GLO, None) to 'transport, passenger car, gasoline, Medium SUV, EURO-6' (kilometer, RER, None)>,\n",
       " Exchange: 6.330434782608695e-06 kilogram 'market for refrigerant R134a' (kilogram, GLO, None) to 'transport, passenger car, gasoline, Medium SUV, EURO-6' (kilometer, RER, None)>,\n",
       " Exchange: 0.000838316299903851 meter-year 'market for road' (meter-year, GLO, None) to 'transport, passenger car, gasoline, Medium SUV, EURO-6' (kilometer, RER, None)>,\n",
       " Exchange: 0.00129 meter-year 'market for road maintenance' (meter-year, RER, None) to 'transport, passenger car, gasoline, Medium SUV, EURO-6' (kilometer, RER, None)>,\n",
       " Exchange: -1.572326934208801e-05 kilogram 'market for road wear emissions, passenger car' (kilogram, GLO, None) to 'transport, passenger car, gasoline, Medium SUV, EURO-6' (kilometer, RER, None)>,\n",
       " Exchange: -1.870116097811374e-05 kilogram 'market for tyre wear emissions, passenger car' (kilogram, GLO, None) to 'transport, passenger car, gasoline, Medium SUV, EURO-6' (kilometer, RER, None)>,\n",
       " Exchange: 5e-06 unit 'Passenger car, gasoline, Medium SUV, EURO-6d' (unit, RER, None) to 'transport, passenger car, gasoline, Medium SUV, EURO-6' (kilometer, RER, None)>,\n",
       " Exchange: 0.05594037114371183 kilogram 'market for petrol, low-sulfur' (kilogram, WEU, None) to 'transport, passenger car, gasoline, Medium SUV, EURO-6' (kilometer, RER, None)>]"
      ]
     },
     "execution_count": 11,
     "metadata": {},
     "output_type": "execute_result"
    }
   ],
   "source": [
    "[exc for exc in driving_icec.technosphere()]"
   ]
  },
  {
   "cell_type": "markdown",
   "metadata": {},
   "source": [
    "These activities include both the car, which in itself contains both production and EoL treatment (check this!!), as well as the fuel/electricity, maintenance and wear etc. Now we want to model the production and EoL treatment of car and it's elements separately so let's make a copy of these activities in the foreground so that we can add temporal distributions to the production and EoL.\n",
    "\n",
    "At the same time we want to split the driving and production/EoL so set the input of the car into the driving activity to 0 to avoid double counting."
   ]
  },
  {
   "cell_type": "code",
   "execution_count": 12,
   "metadata": {},
   "outputs": [
    {
     "name": "stdout",
     "output_type": "stream",
     "text": [
      "Successfully switch activity dataset to database `foreground`\n",
      "Successfully switch activity dataset to database `foreground`\n"
     ]
    }
   ],
   "source": [
    "# first copy the activities production/EoL treatment of the cars into the foreground\n",
    "bev_production_eol = db_2020.get(name='passenger car, battery electric, Medium SUV').copy()\n",
    "bev_production_eol['database'] = fg_db_name\n",
    "\n",
    "icec_production_eol = db_2020.get(name='Passenger car, gasoline, Medium SUV, EURO-6d').copy()\n",
    "icec_production_eol['database'] = fg_db_name\n"
   ]
  },
  {
   "cell_type": "code",
   "execution_count": 13,
   "metadata": {},
   "outputs": [],
   "source": [
    "# now set the input of the car into the driving activity to 0 to avoid double counting\n",
    "for exc in driving_bev.technosphere():\n",
    "    if exc.input['name'] == 'passenger car, battery electric, Medium SUV':\n",
    "        exc.delete()\n",
    "        break\n",
    "for exc in driving_icec.technosphere():\n",
    "    if exc.input['name'] == 'Passenger car, gasoline, Medium SUV, EURO-6d':\n",
    "        exc.delete()\n",
    "        break"
   ]
  },
  {
   "cell_type": "markdown",
   "metadata": {},
   "source": [
    "Now it is time to add the relevant exchanges to the functional unit activities together with relevant temporal distributions. Be carefull to add the temporal distribution to poduction and EoL at the right exchnage, so that production happens before the use phase but EoL after the use phase. \n",
    "\n",
    "Tipp: for ease of use, or if you forgot how to define temporal distributions you can use the interactive_td_widget!\n",
    "\n",
    "Tipp 2: Use the utility function add_temporal_distribution_to_exchange to add the temporal distribution to the EoL of the production/EoL activity of the cars. \n"
   ]
  },
  {
   "cell_type": "code",
   "execution_count": 14,
   "metadata": {},
   "outputs": [],
   "source": [
    "# from bw_timex.utils import interactive_td_widget\n",
    "from bw_timex.utils import add_temporal_distribution_to_exchange\n",
    "from bw_temporalis import easy_timedelta_distribution"
   ]
  },
  {
   "cell_type": "code",
   "execution_count": 15,
   "metadata": {},
   "outputs": [],
   "source": [
    "# interactive_td_widget()"
   ]
  },
  {
   "cell_type": "code",
   "execution_count": 16,
   "metadata": {},
   "outputs": [],
   "source": [
    "LC_BEV.new_edge(input=LC_BEV, amount=1, type='production').save()\n",
    "LC_BEV.new_edge(input=driving_bev, amount=LIFETIME_KM, type='technosphere').save()\n",
    "LC_BEV.new_edge(input=bev_production_eol, amount=1, type='technosphere').save()\n",
    "\n",
    "LC_ICEC.new_edge(input=LC_ICEC, amount=1, type='production').save()\n",
    "LC_ICEC.new_edge(input=driving_icec, amount=LIFETIME_KM, type='technosphere').save()\n",
    "LC_ICEC.new_edge(input=icec_production_eol, amount=1, type='technosphere').save()"
   ]
  },
  {
   "cell_type": "code",
   "execution_count": 17,
   "metadata": {},
   "outputs": [
    {
     "name": "stderr",
     "output_type": "stream",
     "text": [
      "/Users/ajakobs/miniconda3/envs/timex_new/lib/python3.11/site-packages/bw_temporalis/utils.py:194: UserWarning: More steps than discrete possibilities (6 versus 5).\n",
      "    Values will be duplicated due to rounding.\n",
      "  warnings.warn(MESSAGE)\n"
     ]
    }
   ],
   "source": [
    "# now define and add the temporal distributions to the relevant exchanges\n",
    "# for the production of the cars, we assume a uniform distribution over 5 years prior to use\n",
    "# for the use phase, we assume a uniform distribution over the lifetime of the car (15 years)\n",
    "# for the EoL, a fixed point in time at the end of the lifetime + 1 year\n",
    "\n",
    "td_driving =  easy_timedelta_distribution(\n",
    "    start=0,\n",
    "    end=15,\n",
    "    resolution='Y',\n",
    "    steps=16,\n",
    "    kind='uniform'\n",
    ")\n",
    "\n",
    "td_production = easy_timedelta_distribution(\n",
    "    start=-5,\n",
    "    end=-1,\n",
    "    resolution='Y',\n",
    "    steps=6,\n",
    "    kind='uniform'\n",
    ")\n",
    "\n",
    "import numpy as np\n",
    "from bw_temporalis import TemporalDistribution\n",
    "\n",
    "date = np.array([16], dtype='timedelta64[Y]')\n",
    "amount = np.array([1], dtype=float)\n",
    "td_eol = TemporalDistribution(date=date, amount=amount)\n",
    "\n",
    "\n",
    "add_temporal_distribution_to_exchange(td_driving,\n",
    "                                      input_node=driving_bev,\n",
    "                                      output_node=LC_BEV\n",
    "                                      )\n",
    "add_temporal_distribution_to_exchange(td_driving,\n",
    "                                      input_node=driving_icec,\n",
    "                                      output_node=LC_ICEC\n",
    "                                      )"
   ]
  },
  {
   "cell_type": "code",
   "execution_count": 18,
   "metadata": {},
   "outputs": [],
   "source": [
    "# Now we add the temporal distributions for production and end of life to the exchanges of the \n",
    "# production/EoL activities of the cars. Here we will make use of the fact that in ecoinvent waste treatment\n",
    "# activities are modelled as negative inputs. \n",
    "\n",
    "for exc in bev_production_eol.technosphere():\n",
    "    if exc['amount'] >= 0:  # production\n",
    "        add_temporal_distribution_to_exchange(td_production,\n",
    "                                              input_node=exc.input,\n",
    "                                              output_node=exc.output)\n",
    "    else:  # EoL\n",
    "        add_temporal_distribution_to_exchange(td_eol,\n",
    "                                              input_node=exc.input,\n",
    "                                              output_node=exc.output)\n",
    "for exc in icec_production_eol.technosphere():\n",
    "    if exc['amount'] >= 0:  # production\n",
    "        add_temporal_distribution_to_exchange(td_production,\n",
    "                                              input_node=exc.input,\n",
    "                                              output_node=exc.output)\n",
    "    else:  # EoL\n",
    "        add_temporal_distribution_to_exchange(td_eol,\n",
    "                                              input_node=exc.input,\n",
    "                                              output_node=exc.output)"
   ]
  },
  {
   "cell_type": "markdown",
   "metadata": {},
   "source": [
    "### Checking all went right\n",
    "\n",
    "Now before calculating the time-explicit LCA, make sure that everything went right so far. As a check, the standard LCA score of the original transport activity with the corresponding amount should be equal the standard LCA of the modified life cycle activity created in the foreground!"
   ]
  },
  {
   "cell_type": "code",
   "execution_count": 19,
   "metadata": {},
   "outputs": [
    {
     "name": "stdout",
     "output_type": "stream",
     "text": [
      "('ecoinvent-3.10', 'CML v4.8 2016', 'climate change', 'global warming potential (GWP100)')\n",
      "('ecoinvent-3.10', 'Ecological Scarcity 2021', 'climate change', 'global warming potential (GWP100)')\n",
      "('ecoinvent-3.10', 'EF v3.0', 'climate change', 'global warming potential (GWP100)')\n",
      "('ecoinvent-3.10', 'EF v3.1', 'climate change', 'global warming potential (GWP100)')\n",
      "('ecoinvent-3.10', 'IMPACT World+ v2.0.1, footprint version', 'climate change', 'carbon footprint')\n",
      "('ecoinvent-3.10', 'IPCC 2013', 'climate change', 'global temperature change potential (GTP100)')\n",
      "('ecoinvent-3.10', 'IPCC 2013', 'climate change', 'global temperature change potential (GTP20)')\n",
      "('ecoinvent-3.10', 'IPCC 2013', 'climate change', 'global warming potential (GWP100)')\n",
      "('ecoinvent-3.10', 'IPCC 2013', 'climate change', 'global warming potential (GWP20)')\n",
      "('ecoinvent-3.10', 'IPCC 2021', 'climate change', 'global temperature change potential (GTP100)')\n",
      "('ecoinvent-3.10', 'IPCC 2021', 'climate change', 'global temperature change potential (GTP50)')\n",
      "('ecoinvent-3.10', 'IPCC 2021', 'climate change', 'global warming potential (GWP100)')\n",
      "('ecoinvent-3.10', 'IPCC 2021', 'climate change', 'global warming potential (GWP20)')\n",
      "('ecoinvent-3.10', 'IPCC 2021', 'climate change', 'global warming potential (GWP500)')\n",
      "('ecoinvent-3.10', 'ReCiPe 2016 v1.03, midpoint (E)', 'climate change', 'global warming potential (GWP1000)')\n",
      "('ecoinvent-3.10', 'ReCiPe 2016 v1.03, midpoint (H)', 'climate change', 'global warming potential (GWP100)')\n",
      "('ecoinvent-3.10', 'ReCiPe 2016 v1.03, midpoint (I)', 'climate change', 'global warming potential (GWP20)')\n",
      "('ecoinvent-3.10', 'TRACI v2.1', 'climate change', 'global warming potential (GWP100)')\n",
      "('ecoinvent-3.10', 'EF v3.0 EN15804', 'climate change', 'global warming potential (GWP100)')\n",
      "('ecoinvent-3.10', 'EF v3.1 EN15804', 'climate change', 'global warming potential (GWP100)')\n"
     ]
    }
   ],
   "source": [
    "for method in bd.methods:\n",
    "    if 'climate change' in method:\n",
    "        print(method)"
   ]
  },
  {
   "cell_type": "code",
   "execution_count": 20,
   "metadata": {},
   "outputs": [
    {
     "name": "stderr",
     "output_type": "stream",
     "text": [
      "/Users/ajakobs/miniconda3/envs/timex_new/lib/python3.11/site-packages/scikits/umfpack/umfpack.py:736: UmfpackWarning: (almost) singular matrix! (estimated cond. number: 1.21e+13)\n",
      "  warnings.warn(msg, UmfpackWarning)\n"
     ]
    },
    {
     "name": "stdout",
     "output_type": "stream",
     "text": [
      "Life cycle impact score: 66786.77290576225 kg CO2-eq for 200000.0 km driving with ICEC\n",
      "Life cycle impact score: 66786.77317649123 kg CO2-eq for 200000.0 km driving with ICEC\n"
     ]
    }
   ],
   "source": [
    "import bw2calc as bc\n",
    "\n",
    "# standard LCA of the original transport activity with the corresponding amount\n",
    "transport_icec = db_2020.get(name='transport, passenger car, gasoline, Medium SUV, EURO-6')\n",
    "method = ('ecoinvent-3.10', 'EF v3.1', 'climate change', 'global warming potential (GWP100)')\n",
    "lca = bc.LCA({transport_icec: LIFETIME_KM}, method)\n",
    "lca.lci()\n",
    "lca.lcia()\n",
    "print(f'Life cycle impact score: {lca.score} kg CO2-eq for {LIFETIME_KM} km driving with ICEC')\n",
    "\n",
    "# standard LCA of the modified life cycle activity created in the foreground\n",
    "lca_fg = bc.LCA({LC_ICEC: 1}, method)\n",
    "lca_fg.lci()\n",
    "lca_fg.lcia()\n",
    "print(f'Life cycle impact score: {lca_fg.score} kg CO2-eq for {LIFETIME_KM} km driving with ICEC')"
   ]
  },
  {
   "cell_type": "code",
   "execution_count": 21,
   "metadata": {},
   "outputs": [
    {
     "name": "stdout",
     "output_type": "stream",
     "text": [
      "Life cycle impact score: 41335.40820351815 kg CO2-eq for 200000.0 km driving with BEV\n",
      "Life cycle impact score: 41335.40864914075 kg CO2-eq for 200000.0 km driving with BEV\n"
     ]
    }
   ],
   "source": [
    "# now the same for the BEV\n",
    "# standard LCA of the original transport activity with the corresponding amount\n",
    "transport_bev = db_2020.get(name='transport, passenger car, battery electric, Medium SUV')\n",
    "lca_bev = bc.LCA({transport_bev: LIFETIME_KM}, method)\n",
    "lca_bev.lci()\n",
    "lca_bev.lcia()\n",
    "print(f'Life cycle impact score: {lca_bev.score} kg CO2-eq for {LIFETIME_KM} km driving with BEV')  \n",
    "\n",
    "# standard LCA of the modified life cycle activity created in the foreground\n",
    "lca_bev_fg = bc.LCA({LC_BEV: 1}, method)\n",
    "lca_bev_fg.lci()\n",
    "lca_bev_fg.lcia()\n",
    "print(f'Life cycle impact score: {lca_bev_fg.score} kg CO2-eq for {LIFETIME_KM} km driving with BEV')"
   ]
  },
  {
   "cell_type": "markdown",
   "metadata": {},
   "source": [
    "## Time-explicit LCA with `bw_timex`"
   ]
  },
  {
   "cell_type": "markdown",
   "metadata": {},
   "source": [
    "Now we can start using `bw_timex` to build the process timeline, build the time-explicit inventory and calculate the time explicit scores.\n",
    "\n",
    "Start by creating a dictionary mapping the respective databases to the relevant timestamps. \n",
    "Then instantiate your timexLCA object, build the timeline, calculate the lci, and the LCIA for both options.\n"
   ]
  },
  {
   "cell_type": "code",
   "execution_count": 22,
   "metadata": {},
   "outputs": [],
   "source": [
    "from datetime import datetime\n",
    "\n",
    "database_dates = {\n",
    "    db_2020.name: datetime.strptime(\"2020\", \"%Y\"),\n",
    "    db_2030.name: datetime.strptime(\"2030\", \"%Y\"),\n",
    "    db_2040.name: datetime.strptime(\"2040\", \"%Y\"),\n",
    "    db_2050.name: datetime.strptime(\"2050\", \"%Y\"),\n",
    "    \"foreground\": \"dynamic\", # flag databases that should be temporally distributed with \"dynamic\"\n",
    "}"
   ]
  },
  {
   "cell_type": "code",
   "execution_count": 23,
   "metadata": {},
   "outputs": [],
   "source": [
    "from bw_timex import TimexLCA"
   ]
  },
  {
   "cell_type": "code",
   "execution_count": 42,
   "metadata": {},
   "outputs": [
    {
     "name": "stderr",
     "output_type": "stream",
     "text": [
      "/Users/ajakobs/miniconda3/envs/timex_new/lib/python3.11/site-packages/scikits/umfpack/umfpack.py:736: UmfpackWarning: (almost) singular matrix! (estimated cond. number: 1.21e+13)\n",
      "  warnings.warn(msg, UmfpackWarning)\n",
      "\u001b[32m2025-10-07 20:59:12.920\u001b[0m | \u001b[1mINFO    \u001b[0m | \u001b[36mbw_timex.timex_lca\u001b[0m:\u001b[36mbuild_timeline\u001b[0m:\u001b[36m217\u001b[0m - \u001b[1mNo edge filter function provided. Skipping all edges in background databases.\u001b[0m\n"
     ]
    },
    {
     "name": "stdout",
     "output_type": "stream",
     "text": [
      "Starting graph traversal\n",
      "Calculation count: 21\n"
     ]
    },
    {
     "data": {
      "application/vnd.microsoft.datawrangler.viewer.v0+json": {
       "columns": [
        {
         "name": "index",
         "rawType": "int64",
         "type": "integer"
        },
        {
         "name": "date_producer",
         "rawType": "datetime64[ns]",
         "type": "datetime"
        },
        {
         "name": "producer_name",
         "rawType": "object",
         "type": "string"
        },
        {
         "name": "date_consumer",
         "rawType": "datetime64[ns]",
         "type": "datetime"
        },
        {
         "name": "consumer_name",
         "rawType": "object",
         "type": "string"
        },
        {
         "name": "amount",
         "rawType": "object",
         "type": "unknown"
        },
        {
         "name": "temporal_market_shares",
         "rawType": "object",
         "type": "unknown"
        }
       ],
       "ref": "ce0936db-4107-4fa9-8b1b-42f34a79b2fd",
       "rows": [
        [
         "0",
         "2021-01-01 00:00:00",
         "market for glider, passenger car",
         "2026-01-01 00:00:00",
         "passenger car, battery electric, Medium SUV",
         "233.33333333333331",
         "{'ei_cutoff_3.10_image_SSP2-Base_2020 2024-11-07': 0.9, 'ei_cutoff_3.10_image_SSP2-Base_2030 2024-11-07': 0.1}"
        ],
        [
         "1",
         "2021-01-01 00:00:00",
         "market for power distribution unit, for electric passenger car",
         "2026-01-01 00:00:00",
         "passenger car, battery electric, Medium SUV",
         "0.6623188257217407",
         "{'ei_cutoff_3.10_image_SSP2-Base_2020 2024-11-07': 0.9, 'ei_cutoff_3.10_image_SSP2-Base_2030 2024-11-07': 0.1}"
        ],
        [
         "2",
         "2021-01-01 00:00:00",
         "market for inverter, for electric passenger car",
         "2026-01-01 00:00:00",
         "passenger car, battery electric, Medium SUV",
         "1.490217367808024",
         "{'ei_cutoff_3.10_image_SSP2-Base_2020 2024-11-07': 0.9, 'ei_cutoff_3.10_image_SSP2-Base_2030 2024-11-07': 0.1}"
        ],
        [
         "3",
         "2021-01-01 00:00:00",
         "market for charger, electric passenger car",
         "2026-01-01 00:00:00",
         "passenger car, battery electric, Medium SUV",
         "0.9934782981872559",
         "{'ei_cutoff_3.10_image_SSP2-Base_2020 2024-11-07': 0.9, 'ei_cutoff_3.10_image_SSP2-Base_2030 2024-11-07': 0.1}"
        ],
        [
         "4",
         "2021-01-01 00:00:00",
         "market for converter, for electric passenger car",
         "2026-01-01 00:00:00",
         "passenger car, battery electric, Medium SUV",
         "0.745108683904012",
         "{'ei_cutoff_3.10_image_SSP2-Base_2020 2024-11-07': 0.9, 'ei_cutoff_3.10_image_SSP2-Base_2030 2024-11-07': 0.1}"
        ],
        [
         "5",
         "2021-01-01 00:00:00",
         "market for internal combustion engine, passenger car",
         "2026-01-01 00:00:00",
         "passenger car, battery electric, Medium SUV",
         "14.902900695800781",
         "{'ei_cutoff_3.10_image_SSP2-Base_2020 2024-11-07': 0.9, 'ei_cutoff_3.10_image_SSP2-Base_2030 2024-11-07': 0.1}"
        ],
        [
         "6",
         "2021-01-01 00:00:00",
         "market for electric motor, electric passenger car",
         "2026-01-01 00:00:00",
         "passenger car, battery electric, Medium SUV",
         "14.887624104817707",
         "{'ei_cutoff_3.10_image_SSP2-Base_2020 2024-11-07': 0.9, 'ei_cutoff_3.10_image_SSP2-Base_2030 2024-11-07': 0.1}"
        ],
        [
         "7",
         "2021-01-01 00:00:00",
         "market for battery capacity (MIX scenario)",
         "2026-01-01 00:00:00",
         "passenger car, battery electric, Medium SUV",
         "9.166666666666666",
         "{'ei_cutoff_3.10_image_SSP2-Base_2020 2024-11-07': 0.9, 'ei_cutoff_3.10_image_SSP2-Base_2030 2024-11-07': 0.1}"
        ],
        [
         "8",
         "2021-01-01 00:00:00",
         "glider lightweighting",
         "2026-01-01 00:00:00",
         "passenger car, battery electric, Medium SUV",
         "32.666666666666664",
         "{'ei_cutoff_3.10_image_SSP2-Base_2020 2024-11-07': 0.9, 'ei_cutoff_3.10_image_SSP2-Base_2030 2024-11-07': 0.1}"
        ],
        [
         "9",
         "2021-01-01 00:00:00",
         "market group for electricity, low voltage",
         "2026-01-01 00:00:00",
         "passenger car, battery electric, Medium SUV",
         "184.0",
         "{'ei_cutoff_3.10_image_SSP2-Base_2020 2024-11-07': 0.9, 'ei_cutoff_3.10_image_SSP2-Base_2030 2024-11-07': 0.1}"
        ],
        [
         "10",
         "2022-01-01 00:00:00",
         "market for glider, passenger car",
         "2026-01-01 00:00:00",
         "passenger car, battery electric, Medium SUV",
         "233.33333333333331",
         "{'ei_cutoff_3.10_image_SSP2-Base_2020 2024-11-07': 0.8, 'ei_cutoff_3.10_image_SSP2-Base_2030 2024-11-07': 0.2}"
        ],
        [
         "11",
         "2022-01-01 00:00:00",
         "market for power distribution unit, for electric passenger car",
         "2026-01-01 00:00:00",
         "passenger car, battery electric, Medium SUV",
         "0.6623188257217407",
         "{'ei_cutoff_3.10_image_SSP2-Base_2020 2024-11-07': 0.8, 'ei_cutoff_3.10_image_SSP2-Base_2030 2024-11-07': 0.2}"
        ],
        [
         "12",
         "2022-01-01 00:00:00",
         "market for inverter, for electric passenger car",
         "2026-01-01 00:00:00",
         "passenger car, battery electric, Medium SUV",
         "1.490217367808024",
         "{'ei_cutoff_3.10_image_SSP2-Base_2020 2024-11-07': 0.8, 'ei_cutoff_3.10_image_SSP2-Base_2030 2024-11-07': 0.2}"
        ],
        [
         "13",
         "2022-01-01 00:00:00",
         "market for charger, electric passenger car",
         "2026-01-01 00:00:00",
         "passenger car, battery electric, Medium SUV",
         "0.9934782981872559",
         "{'ei_cutoff_3.10_image_SSP2-Base_2020 2024-11-07': 0.8, 'ei_cutoff_3.10_image_SSP2-Base_2030 2024-11-07': 0.2}"
        ],
        [
         "14",
         "2022-01-01 00:00:00",
         "market for converter, for electric passenger car",
         "2026-01-01 00:00:00",
         "passenger car, battery electric, Medium SUV",
         "0.745108683904012",
         "{'ei_cutoff_3.10_image_SSP2-Base_2020 2024-11-07': 0.8, 'ei_cutoff_3.10_image_SSP2-Base_2030 2024-11-07': 0.2}"
        ],
        [
         "15",
         "2022-01-01 00:00:00",
         "market for internal combustion engine, passenger car",
         "2026-01-01 00:00:00",
         "passenger car, battery electric, Medium SUV",
         "14.902900695800781",
         "{'ei_cutoff_3.10_image_SSP2-Base_2020 2024-11-07': 0.8, 'ei_cutoff_3.10_image_SSP2-Base_2030 2024-11-07': 0.2}"
        ],
        [
         "16",
         "2022-01-01 00:00:00",
         "market for electric motor, electric passenger car",
         "2026-01-01 00:00:00",
         "passenger car, battery electric, Medium SUV",
         "14.887624104817707",
         "{'ei_cutoff_3.10_image_SSP2-Base_2020 2024-11-07': 0.8, 'ei_cutoff_3.10_image_SSP2-Base_2030 2024-11-07': 0.2}"
        ],
        [
         "17",
         "2022-01-01 00:00:00",
         "market for battery capacity (MIX scenario)",
         "2026-01-01 00:00:00",
         "passenger car, battery electric, Medium SUV",
         "9.166666666666666",
         "{'ei_cutoff_3.10_image_SSP2-Base_2020 2024-11-07': 0.8, 'ei_cutoff_3.10_image_SSP2-Base_2030 2024-11-07': 0.2}"
        ],
        [
         "18",
         "2022-01-01 00:00:00",
         "glider lightweighting",
         "2026-01-01 00:00:00",
         "passenger car, battery electric, Medium SUV",
         "32.666666666666664",
         "{'ei_cutoff_3.10_image_SSP2-Base_2020 2024-11-07': 0.8, 'ei_cutoff_3.10_image_SSP2-Base_2030 2024-11-07': 0.2}"
        ],
        [
         "19",
         "2022-01-01 00:00:00",
         "market group for electricity, low voltage",
         "2026-01-01 00:00:00",
         "passenger car, battery electric, Medium SUV",
         "184.0",
         "{'ei_cutoff_3.10_image_SSP2-Base_2020 2024-11-07': 0.8, 'ei_cutoff_3.10_image_SSP2-Base_2030 2024-11-07': 0.2}"
        ],
        [
         "20",
         "2023-01-01 00:00:00",
         "market for glider, passenger car",
         "2026-01-01 00:00:00",
         "passenger car, battery electric, Medium SUV",
         "233.33333333333331",
         "{'ei_cutoff_3.10_image_SSP2-Base_2020 2024-11-07': 0.7, 'ei_cutoff_3.10_image_SSP2-Base_2030 2024-11-07': 0.3}"
        ],
        [
         "21",
         "2023-01-01 00:00:00",
         "market for power distribution unit, for electric passenger car",
         "2026-01-01 00:00:00",
         "passenger car, battery electric, Medium SUV",
         "0.6623188257217407",
         "{'ei_cutoff_3.10_image_SSP2-Base_2020 2024-11-07': 0.7, 'ei_cutoff_3.10_image_SSP2-Base_2030 2024-11-07': 0.3}"
        ],
        [
         "22",
         "2023-01-01 00:00:00",
         "market for inverter, for electric passenger car",
         "2026-01-01 00:00:00",
         "passenger car, battery electric, Medium SUV",
         "1.490217367808024",
         "{'ei_cutoff_3.10_image_SSP2-Base_2020 2024-11-07': 0.7, 'ei_cutoff_3.10_image_SSP2-Base_2030 2024-11-07': 0.3}"
        ],
        [
         "23",
         "2023-01-01 00:00:00",
         "market for charger, electric passenger car",
         "2026-01-01 00:00:00",
         "passenger car, battery electric, Medium SUV",
         "0.9934782981872559",
         "{'ei_cutoff_3.10_image_SSP2-Base_2020 2024-11-07': 0.7, 'ei_cutoff_3.10_image_SSP2-Base_2030 2024-11-07': 0.3}"
        ],
        [
         "24",
         "2023-01-01 00:00:00",
         "market for converter, for electric passenger car",
         "2026-01-01 00:00:00",
         "passenger car, battery electric, Medium SUV",
         "0.745108683904012",
         "{'ei_cutoff_3.10_image_SSP2-Base_2020 2024-11-07': 0.7, 'ei_cutoff_3.10_image_SSP2-Base_2030 2024-11-07': 0.3}"
        ],
        [
         "25",
         "2023-01-01 00:00:00",
         "market for internal combustion engine, passenger car",
         "2026-01-01 00:00:00",
         "passenger car, battery electric, Medium SUV",
         "14.902900695800781",
         "{'ei_cutoff_3.10_image_SSP2-Base_2020 2024-11-07': 0.7, 'ei_cutoff_3.10_image_SSP2-Base_2030 2024-11-07': 0.3}"
        ],
        [
         "26",
         "2023-01-01 00:00:00",
         "market for electric motor, electric passenger car",
         "2026-01-01 00:00:00",
         "passenger car, battery electric, Medium SUV",
         "14.887624104817707",
         "{'ei_cutoff_3.10_image_SSP2-Base_2020 2024-11-07': 0.7, 'ei_cutoff_3.10_image_SSP2-Base_2030 2024-11-07': 0.3}"
        ],
        [
         "27",
         "2023-01-01 00:00:00",
         "market for battery capacity (MIX scenario)",
         "2026-01-01 00:00:00",
         "passenger car, battery electric, Medium SUV",
         "9.166666666666666",
         "{'ei_cutoff_3.10_image_SSP2-Base_2020 2024-11-07': 0.7, 'ei_cutoff_3.10_image_SSP2-Base_2030 2024-11-07': 0.3}"
        ],
        [
         "28",
         "2023-01-01 00:00:00",
         "glider lightweighting",
         "2026-01-01 00:00:00",
         "passenger car, battery electric, Medium SUV",
         "32.666666666666664",
         "{'ei_cutoff_3.10_image_SSP2-Base_2020 2024-11-07': 0.7, 'ei_cutoff_3.10_image_SSP2-Base_2030 2024-11-07': 0.3}"
        ],
        [
         "29",
         "2023-01-01 00:00:00",
         "market group for electricity, low voltage",
         "2026-01-01 00:00:00",
         "passenger car, battery electric, Medium SUV",
         "184.0",
         "{'ei_cutoff_3.10_image_SSP2-Base_2020 2024-11-07': 0.7, 'ei_cutoff_3.10_image_SSP2-Base_2030 2024-11-07': 0.3}"
        ],
        [
         "30",
         "2024-01-01 00:00:00",
         "market for glider, passenger car",
         "2026-01-01 00:00:00",
         "passenger car, battery electric, Medium SUV",
         "233.33333333333331",
         "{'ei_cutoff_3.10_image_SSP2-Base_2020 2024-11-07': 0.6, 'ei_cutoff_3.10_image_SSP2-Base_2030 2024-11-07': 0.4}"
        ],
        [
         "31",
         "2024-01-01 00:00:00",
         "market for power distribution unit, for electric passenger car",
         "2026-01-01 00:00:00",
         "passenger car, battery electric, Medium SUV",
         "0.6623188257217407",
         "{'ei_cutoff_3.10_image_SSP2-Base_2020 2024-11-07': 0.6, 'ei_cutoff_3.10_image_SSP2-Base_2030 2024-11-07': 0.4}"
        ],
        [
         "32",
         "2024-01-01 00:00:00",
         "market for inverter, for electric passenger car",
         "2026-01-01 00:00:00",
         "passenger car, battery electric, Medium SUV",
         "1.490217367808024",
         "{'ei_cutoff_3.10_image_SSP2-Base_2020 2024-11-07': 0.6, 'ei_cutoff_3.10_image_SSP2-Base_2030 2024-11-07': 0.4}"
        ],
        [
         "33",
         "2024-01-01 00:00:00",
         "market for charger, electric passenger car",
         "2026-01-01 00:00:00",
         "passenger car, battery electric, Medium SUV",
         "0.9934782981872559",
         "{'ei_cutoff_3.10_image_SSP2-Base_2020 2024-11-07': 0.6, 'ei_cutoff_3.10_image_SSP2-Base_2030 2024-11-07': 0.4}"
        ],
        [
         "34",
         "2024-01-01 00:00:00",
         "market for converter, for electric passenger car",
         "2026-01-01 00:00:00",
         "passenger car, battery electric, Medium SUV",
         "0.745108683904012",
         "{'ei_cutoff_3.10_image_SSP2-Base_2020 2024-11-07': 0.6, 'ei_cutoff_3.10_image_SSP2-Base_2030 2024-11-07': 0.4}"
        ],
        [
         "35",
         "2024-01-01 00:00:00",
         "market for internal combustion engine, passenger car",
         "2026-01-01 00:00:00",
         "passenger car, battery electric, Medium SUV",
         "14.902900695800781",
         "{'ei_cutoff_3.10_image_SSP2-Base_2020 2024-11-07': 0.6, 'ei_cutoff_3.10_image_SSP2-Base_2030 2024-11-07': 0.4}"
        ],
        [
         "36",
         "2024-01-01 00:00:00",
         "market for electric motor, electric passenger car",
         "2026-01-01 00:00:00",
         "passenger car, battery electric, Medium SUV",
         "14.887624104817707",
         "{'ei_cutoff_3.10_image_SSP2-Base_2020 2024-11-07': 0.6, 'ei_cutoff_3.10_image_SSP2-Base_2030 2024-11-07': 0.4}"
        ],
        [
         "37",
         "2024-01-01 00:00:00",
         "market for battery capacity (MIX scenario)",
         "2026-01-01 00:00:00",
         "passenger car, battery electric, Medium SUV",
         "9.166666666666666",
         "{'ei_cutoff_3.10_image_SSP2-Base_2020 2024-11-07': 0.6, 'ei_cutoff_3.10_image_SSP2-Base_2030 2024-11-07': 0.4}"
        ],
        [
         "38",
         "2024-01-01 00:00:00",
         "glider lightweighting",
         "2026-01-01 00:00:00",
         "passenger car, battery electric, Medium SUV",
         "32.666666666666664",
         "{'ei_cutoff_3.10_image_SSP2-Base_2020 2024-11-07': 0.6, 'ei_cutoff_3.10_image_SSP2-Base_2030 2024-11-07': 0.4}"
        ],
        [
         "39",
         "2024-01-01 00:00:00",
         "market group for electricity, low voltage",
         "2026-01-01 00:00:00",
         "passenger car, battery electric, Medium SUV",
         "184.0",
         "{'ei_cutoff_3.10_image_SSP2-Base_2020 2024-11-07': 0.6, 'ei_cutoff_3.10_image_SSP2-Base_2030 2024-11-07': 0.4}"
        ],
        [
         "40",
         "2025-01-01 00:00:00",
         "market for glider, passenger car",
         "2026-01-01 00:00:00",
         "passenger car, battery electric, Medium SUV",
         "233.33333333333331",
         "{'ei_cutoff_3.10_image_SSP2-Base_2020 2024-11-07': 0.5, 'ei_cutoff_3.10_image_SSP2-Base_2030 2024-11-07': 0.5}"
        ],
        [
         "41",
         "2025-01-01 00:00:00",
         "market for power distribution unit, for electric passenger car",
         "2026-01-01 00:00:00",
         "passenger car, battery electric, Medium SUV",
         "0.6623188257217407",
         "{'ei_cutoff_3.10_image_SSP2-Base_2020 2024-11-07': 0.5, 'ei_cutoff_3.10_image_SSP2-Base_2030 2024-11-07': 0.5}"
        ],
        [
         "42",
         "2025-01-01 00:00:00",
         "market for inverter, for electric passenger car",
         "2026-01-01 00:00:00",
         "passenger car, battery electric, Medium SUV",
         "1.490217367808024",
         "{'ei_cutoff_3.10_image_SSP2-Base_2020 2024-11-07': 0.5, 'ei_cutoff_3.10_image_SSP2-Base_2030 2024-11-07': 0.5}"
        ],
        [
         "43",
         "2025-01-01 00:00:00",
         "market for charger, electric passenger car",
         "2026-01-01 00:00:00",
         "passenger car, battery electric, Medium SUV",
         "0.9934782981872559",
         "{'ei_cutoff_3.10_image_SSP2-Base_2020 2024-11-07': 0.5, 'ei_cutoff_3.10_image_SSP2-Base_2030 2024-11-07': 0.5}"
        ],
        [
         "44",
         "2025-01-01 00:00:00",
         "market for converter, for electric passenger car",
         "2026-01-01 00:00:00",
         "passenger car, battery electric, Medium SUV",
         "0.745108683904012",
         "{'ei_cutoff_3.10_image_SSP2-Base_2020 2024-11-07': 0.5, 'ei_cutoff_3.10_image_SSP2-Base_2030 2024-11-07': 0.5}"
        ],
        [
         "45",
         "2025-01-01 00:00:00",
         "market for internal combustion engine, passenger car",
         "2026-01-01 00:00:00",
         "passenger car, battery electric, Medium SUV",
         "14.902900695800781",
         "{'ei_cutoff_3.10_image_SSP2-Base_2020 2024-11-07': 0.5, 'ei_cutoff_3.10_image_SSP2-Base_2030 2024-11-07': 0.5}"
        ],
        [
         "46",
         "2025-01-01 00:00:00",
         "market for electric motor, electric passenger car",
         "2026-01-01 00:00:00",
         "passenger car, battery electric, Medium SUV",
         "14.887624104817707",
         "{'ei_cutoff_3.10_image_SSP2-Base_2020 2024-11-07': 0.5, 'ei_cutoff_3.10_image_SSP2-Base_2030 2024-11-07': 0.5}"
        ],
        [
         "47",
         "2025-01-01 00:00:00",
         "market for battery capacity (MIX scenario)",
         "2026-01-01 00:00:00",
         "passenger car, battery electric, Medium SUV",
         "9.166666666666666",
         "{'ei_cutoff_3.10_image_SSP2-Base_2020 2024-11-07': 0.5, 'ei_cutoff_3.10_image_SSP2-Base_2030 2024-11-07': 0.5}"
        ],
        [
         "48",
         "2025-01-01 00:00:00",
         "glider lightweighting",
         "2026-01-01 00:00:00",
         "passenger car, battery electric, Medium SUV",
         "32.666666666666664",
         "{'ei_cutoff_3.10_image_SSP2-Base_2020 2024-11-07': 0.5, 'ei_cutoff_3.10_image_SSP2-Base_2030 2024-11-07': 0.5}"
        ],
        [
         "49",
         "2025-01-01 00:00:00",
         "market group for electricity, low voltage",
         "2026-01-01 00:00:00",
         "passenger car, battery electric, Medium SUV",
         "184.0",
         "{'ei_cutoff_3.10_image_SSP2-Base_2020 2024-11-07': 0.5, 'ei_cutoff_3.10_image_SSP2-Base_2030 2024-11-07': 0.5}"
        ]
       ],
       "shape": {
        "columns": 6,
        "rows": 151
       }
      },
      "text/html": [
       "<div>\n",
       "<style scoped>\n",
       "    .dataframe tbody tr th:only-of-type {\n",
       "        vertical-align: middle;\n",
       "    }\n",
       "\n",
       "    .dataframe tbody tr th {\n",
       "        vertical-align: top;\n",
       "    }\n",
       "\n",
       "    .dataframe thead th {\n",
       "        text-align: right;\n",
       "    }\n",
       "</style>\n",
       "<table border=\"1\" class=\"dataframe\">\n",
       "  <thead>\n",
       "    <tr style=\"text-align: right;\">\n",
       "      <th></th>\n",
       "      <th>date_producer</th>\n",
       "      <th>producer_name</th>\n",
       "      <th>date_consumer</th>\n",
       "      <th>consumer_name</th>\n",
       "      <th>amount</th>\n",
       "      <th>temporal_market_shares</th>\n",
       "    </tr>\n",
       "  </thead>\n",
       "  <tbody>\n",
       "    <tr>\n",
       "      <th>0</th>\n",
       "      <td>2021-01-01</td>\n",
       "      <td>market for glider, passenger car</td>\n",
       "      <td>2026-01-01</td>\n",
       "      <td>passenger car, battery electric, Medium SUV</td>\n",
       "      <td>233.333333</td>\n",
       "      <td>{'ei_cutoff_3.10_image_SSP2-Base_2020 2024-11-...</td>\n",
       "    </tr>\n",
       "    <tr>\n",
       "      <th>1</th>\n",
       "      <td>2021-01-01</td>\n",
       "      <td>market for power distribution unit, for electr...</td>\n",
       "      <td>2026-01-01</td>\n",
       "      <td>passenger car, battery electric, Medium SUV</td>\n",
       "      <td>0.662319</td>\n",
       "      <td>{'ei_cutoff_3.10_image_SSP2-Base_2020 2024-11-...</td>\n",
       "    </tr>\n",
       "    <tr>\n",
       "      <th>2</th>\n",
       "      <td>2021-01-01</td>\n",
       "      <td>market for inverter, for electric passenger car</td>\n",
       "      <td>2026-01-01</td>\n",
       "      <td>passenger car, battery electric, Medium SUV</td>\n",
       "      <td>1.490217</td>\n",
       "      <td>{'ei_cutoff_3.10_image_SSP2-Base_2020 2024-11-...</td>\n",
       "    </tr>\n",
       "    <tr>\n",
       "      <th>3</th>\n",
       "      <td>2021-01-01</td>\n",
       "      <td>market for charger, electric passenger car</td>\n",
       "      <td>2026-01-01</td>\n",
       "      <td>passenger car, battery electric, Medium SUV</td>\n",
       "      <td>0.993478</td>\n",
       "      <td>{'ei_cutoff_3.10_image_SSP2-Base_2020 2024-11-...</td>\n",
       "    </tr>\n",
       "    <tr>\n",
       "      <th>4</th>\n",
       "      <td>2021-01-01</td>\n",
       "      <td>market for converter, for electric passenger car</td>\n",
       "      <td>2026-01-01</td>\n",
       "      <td>passenger car, battery electric, Medium SUV</td>\n",
       "      <td>0.745109</td>\n",
       "      <td>{'ei_cutoff_3.10_image_SSP2-Base_2020 2024-11-...</td>\n",
       "    </tr>\n",
       "    <tr>\n",
       "      <th>...</th>\n",
       "      <td>...</td>\n",
       "      <td>...</td>\n",
       "      <td>...</td>\n",
       "      <td>...</td>\n",
       "      <td>...</td>\n",
       "      <td>...</td>\n",
       "    </tr>\n",
       "    <tr>\n",
       "      <th>146</th>\n",
       "      <td>2041-01-01</td>\n",
       "      <td>market for road</td>\n",
       "      <td>2041-01-01</td>\n",
       "      <td>transport, passenger car, battery electric, Me...</td>\n",
       "      <td>0.001077</td>\n",
       "      <td>{'ei_cutoff_3.10_image_SSP2-Base_2040 2024-11-...</td>\n",
       "    </tr>\n",
       "    <tr>\n",
       "      <th>147</th>\n",
       "      <td>2041-01-01</td>\n",
       "      <td>market group for electricity, low voltage</td>\n",
       "      <td>2041-01-01</td>\n",
       "      <td>transport, passenger car, battery electric, Me...</td>\n",
       "      <td>0.262637</td>\n",
       "      <td>{'ei_cutoff_3.10_image_SSP2-Base_2040 2024-11-...</td>\n",
       "    </tr>\n",
       "    <tr>\n",
       "      <th>148</th>\n",
       "      <td>2042-01-01</td>\n",
       "      <td>treatment of used internal combustion engine, ...</td>\n",
       "      <td>2026-01-01</td>\n",
       "      <td>passenger car, battery electric, Medium SUV</td>\n",
       "      <td>-89.417404</td>\n",
       "      <td>{'ei_cutoff_3.10_image_SSP2-Base_2040 2024-11-...</td>\n",
       "    </tr>\n",
       "    <tr>\n",
       "      <th>149</th>\n",
       "      <td>2042-01-01</td>\n",
       "      <td>market for used powertrain from electric passe...</td>\n",
       "      <td>2026-01-01</td>\n",
       "      <td>passenger car, battery electric, Medium SUV</td>\n",
       "      <td>-112.672485</td>\n",
       "      <td>{'ei_cutoff_3.10_image_SSP2-Base_2040 2024-11-...</td>\n",
       "    </tr>\n",
       "    <tr>\n",
       "      <th>150</th>\n",
       "      <td>2042-01-01</td>\n",
       "      <td>treatment of used glider, passenger car, shred...</td>\n",
       "      <td>2026-01-01</td>\n",
       "      <td>passenger car, battery electric, Medium SUV</td>\n",
       "      <td>-1204.0</td>\n",
       "      <td>{'ei_cutoff_3.10_image_SSP2-Base_2040 2024-11-...</td>\n",
       "    </tr>\n",
       "  </tbody>\n",
       "</table>\n",
       "<p>151 rows × 6 columns</p>\n",
       "</div>"
      ],
      "text/plain": [
       "    date_producer                                      producer_name  \\\n",
       "0      2021-01-01                   market for glider, passenger car   \n",
       "1      2021-01-01  market for power distribution unit, for electr...   \n",
       "2      2021-01-01    market for inverter, for electric passenger car   \n",
       "3      2021-01-01         market for charger, electric passenger car   \n",
       "4      2021-01-01   market for converter, for electric passenger car   \n",
       "..            ...                                                ...   \n",
       "146    2041-01-01                                    market for road   \n",
       "147    2041-01-01          market group for electricity, low voltage   \n",
       "148    2042-01-01  treatment of used internal combustion engine, ...   \n",
       "149    2042-01-01  market for used powertrain from electric passe...   \n",
       "150    2042-01-01  treatment of used glider, passenger car, shred...   \n",
       "\n",
       "    date_consumer                                      consumer_name  \\\n",
       "0      2026-01-01        passenger car, battery electric, Medium SUV   \n",
       "1      2026-01-01        passenger car, battery electric, Medium SUV   \n",
       "2      2026-01-01        passenger car, battery electric, Medium SUV   \n",
       "3      2026-01-01        passenger car, battery electric, Medium SUV   \n",
       "4      2026-01-01        passenger car, battery electric, Medium SUV   \n",
       "..            ...                                                ...   \n",
       "146    2041-01-01  transport, passenger car, battery electric, Me...   \n",
       "147    2041-01-01  transport, passenger car, battery electric, Me...   \n",
       "148    2026-01-01        passenger car, battery electric, Medium SUV   \n",
       "149    2026-01-01        passenger car, battery electric, Medium SUV   \n",
       "150    2026-01-01        passenger car, battery electric, Medium SUV   \n",
       "\n",
       "         amount                             temporal_market_shares  \n",
       "0    233.333333  {'ei_cutoff_3.10_image_SSP2-Base_2020 2024-11-...  \n",
       "1      0.662319  {'ei_cutoff_3.10_image_SSP2-Base_2020 2024-11-...  \n",
       "2      1.490217  {'ei_cutoff_3.10_image_SSP2-Base_2020 2024-11-...  \n",
       "3      0.993478  {'ei_cutoff_3.10_image_SSP2-Base_2020 2024-11-...  \n",
       "4      0.745109  {'ei_cutoff_3.10_image_SSP2-Base_2020 2024-11-...  \n",
       "..          ...                                                ...  \n",
       "146    0.001077  {'ei_cutoff_3.10_image_SSP2-Base_2040 2024-11-...  \n",
       "147    0.262637  {'ei_cutoff_3.10_image_SSP2-Base_2040 2024-11-...  \n",
       "148  -89.417404  {'ei_cutoff_3.10_image_SSP2-Base_2040 2024-11-...  \n",
       "149 -112.672485  {'ei_cutoff_3.10_image_SSP2-Base_2040 2024-11-...  \n",
       "150     -1204.0  {'ei_cutoff_3.10_image_SSP2-Base_2040 2024-11-...  \n",
       "\n",
       "[151 rows x 6 columns]"
      ]
     },
     "execution_count": 42,
     "metadata": {},
     "output_type": "execute_result"
    }
   ],
   "source": [
    "tlca_BEV = TimexLCA({LC_BEV: 1}, method, database_dates)\n",
    "tlca_BEV.build_timeline(temporal_grouping=\"year\")  # build timeline with yearly steps"
   ]
  },
  {
   "cell_type": "code",
   "execution_count": null,
   "metadata": {},
   "outputs": [
    {
     "name": "stderr",
     "output_type": "stream",
     "text": [
      "\u001b[32m2025-10-07 20:55:34.401\u001b[0m | \u001b[1mINFO    \u001b[0m | \u001b[36mdynamic_characterization.dynamic_characterization\u001b[0m:\u001b[36mcharacterize\u001b[0m:\u001b[36m82\u001b[0m - \u001b[1mNo custom dynamic characterization functions provided. Using default dynamic             characterization functions. The flows that are characterized are based on the selection                of the initially chosen impact category.\u001b[0m\n"
     ]
    },
    {
     "data": {
      "application/vnd.microsoft.datawrangler.viewer.v0+json": {
       "columns": [
        {
         "name": "index",
         "rawType": "int64",
         "type": "integer"
        },
        {
         "name": "date",
         "rawType": "datetime64[s]",
         "type": "unknown"
        },
        {
         "name": "amount",
         "rawType": "float64",
         "type": "float"
        },
        {
         "name": "flow",
         "rawType": "int64",
         "type": "integer"
        },
        {
         "name": "activity",
         "rawType": "int64",
         "type": "integer"
        }
       ],
       "ref": "e6238267-cd17-4787-9538-1cea3cd18bfb",
       "rows": [
        [
         "0",
         "2021-01-01 00:00:00",
         "-18.28443495484406",
         "1034",
         "167140"
        ],
        [
         "1",
         "2021-01-01 00:00:00",
         "-0.0858986213997357",
         "1392",
         "167140"
        ],
        [
         "2",
         "2021-01-01 00:00:00",
         "-0.008224497049248939",
         "3269",
         "167132"
        ],
        [
         "3",
         "2021-01-01 00:00:00",
         "-0.005098248784470786",
         "4194",
         "167140"
        ],
        [
         "4",
         "2021-01-01 00:00:00",
         "-0.0031427430732368397",
         "1369",
         "167140"
        ],
        [
         "5",
         "2021-01-01 00:00:00",
         "-0.0013521677631450637",
         "3269",
         "167139"
        ],
        [
         "6",
         "2021-01-01 00:00:00",
         "-0.0008945795283367007",
         "3211",
         "167139"
        ],
        [
         "7",
         "2021-01-01 00:00:00",
         "-0.0006606874643270159",
         "3211",
         "167132"
        ],
        [
         "8",
         "2021-01-01 00:00:00",
         "-0.0006558989548952652",
         "3269",
         "167138"
        ],
        [
         "9",
         "2021-01-01 00:00:00",
         "-0.0005785166443442908",
         "3269",
         "167135"
        ],
        [
         "10",
         "2021-01-01 00:00:00",
         "-0.0004956551382414073",
         "3269",
         "167134"
        ],
        [
         "11",
         "2021-01-01 00:00:00",
         "-0.0003615816031187685",
         "3269",
         "167136"
        ],
        [
         "12",
         "2021-01-01 00:00:00",
         "-0.00025077233826633277",
         "3269",
         "167140"
        ],
        [
         "13",
         "2021-01-01 00:00:00",
         "-0.00018910124974321732",
         "3269",
         "167137"
        ],
        [
         "14",
         "2021-01-01 00:00:00",
         "-0.00014840310467968706",
         "3211",
         "167138"
        ],
        [
         "15",
         "2021-01-01 00:00:00",
         "-8.657351001809071e-05",
         "3269",
         "167133"
        ],
        [
         "16",
         "2021-01-01 00:00:00",
         "-4.075333374910835e-05",
         "3211",
         "167140"
        ],
        [
         "17",
         "2021-01-01 00:00:00",
         "-3.996353696458063e-05",
         "3211",
         "167134"
        ],
        [
         "18",
         "2021-01-01 00:00:00",
         "-2.9221968327953795e-05",
         "3211",
         "167137"
        ],
        [
         "19",
         "2021-01-01 00:00:00",
         "-2.7939241054358113e-05",
         "3211",
         "167135"
        ],
        [
         "20",
         "2021-01-01 00:00:00",
         "-2.0870577204310842e-05",
         "3211",
         "167136"
        ],
        [
         "21",
         "2021-01-01 00:00:00",
         "-1.79697373674759e-05",
         "3211",
         "167133"
        ],
        [
         "22",
         "2021-01-01 00:00:00",
         "-1.0849550577997101e-05",
         "3211",
         "167141"
        ],
        [
         "23",
         "2021-01-01 00:00:00",
         "-9.975156524864024e-06",
         "1391",
         "167140"
        ],
        [
         "24",
         "2021-01-01 00:00:00",
         "-9.311023146113408e-06",
         "3269",
         "167141"
        ],
        [
         "25",
         "2021-01-01 00:00:00",
         "-2.3620856775044753e-09",
         "1144",
         "167140"
        ],
        [
         "26",
         "2021-01-01 00:00:00",
         "-8.105430669355696e-10",
         "642",
         "167140"
        ],
        [
         "27",
         "2021-01-01 00:00:00",
         "-3.589395491788513e-10",
         "1549",
         "167140"
        ],
        [
         "28",
         "2021-01-01 00:00:00",
         "-1.6727607863416992e-10",
         "1013",
         "167140"
        ],
        [
         "29",
         "2021-01-01 00:00:00",
         "1.2973829752203022e-27",
         "1152",
         "167141"
        ],
        [
         "30",
         "2021-01-01 00:00:00",
         "1.8567736307214077e-27",
         "1152",
         "167133"
        ],
        [
         "31",
         "2021-01-01 00:00:00",
         "3.330202542511039e-27",
         "1152",
         "167136"
        ],
        [
         "32",
         "2021-01-01 00:00:00",
         "4.931694226171382e-27",
         "1152",
         "167134"
        ],
        [
         "33",
         "2021-01-01 00:00:00",
         "5.500342930591379e-27",
         "1152",
         "167135"
        ],
        [
         "34",
         "2021-01-01 00:00:00",
         "6.3598276752746974e-27",
         "1152",
         "167140"
        ],
        [
         "35",
         "2021-01-01 00:00:00",
         "1.0752869342966607e-26",
         "1183",
         "167141"
        ],
        [
         "36",
         "2021-01-01 00:00:00",
         "1.2677486162728321e-26",
         "1152",
         "167138"
        ],
        [
         "37",
         "2021-01-01 00:00:00",
         "1.3271972255758598e-26",
         "1152",
         "167137"
        ],
        [
         "38",
         "2021-01-01 00:00:00",
         "1.5389167738830683e-26",
         "1183",
         "167133"
        ],
        [
         "39",
         "2021-01-01 00:00:00",
         "2.760112721743616e-26",
         "1183",
         "167136"
        ],
        [
         "40",
         "2021-01-01 00:00:00",
         "4.0874486805743163e-26",
         "1183",
         "167134"
        ],
        [
         "41",
         "2021-01-01 00:00:00",
         "4.5587516928842746e-26",
         "1183",
         "167135"
        ],
        [
         "42",
         "2021-01-01 00:00:00",
         "5.271103239550765e-26",
         "1183",
         "167140"
        ],
        [
         "43",
         "2021-01-01 00:00:00",
         "1.0507256112844686e-25",
         "1183",
         "167138"
        ],
        [
         "44",
         "2021-01-01 00:00:00",
         "1.099997350945152e-25",
         "1183",
         "167137"
        ],
        [
         "45",
         "2021-01-01 00:00:00",
         "1.954033141530165e-25",
         "1152",
         "167132"
        ],
        [
         "46",
         "2021-01-01 00:00:00",
         "2.3424990286735398e-25",
         "1152",
         "167139"
        ],
        [
         "47",
         "2021-01-01 00:00:00",
         "1.6195266471829554e-24",
         "1183",
         "167132"
        ],
        [
         "48",
         "2021-01-01 00:00:00",
         "1.9414919473951315e-24",
         "1183",
         "167139"
        ],
        [
         "49",
         "2021-01-01 00:00:00",
         "1.753833341618018e-19",
         "384",
         "167141"
        ]
       ],
       "shape": {
        "columns": 4,
        "rows": 11055
       }
      },
      "text/html": [
       "<div>\n",
       "<style scoped>\n",
       "    .dataframe tbody tr th:only-of-type {\n",
       "        vertical-align: middle;\n",
       "    }\n",
       "\n",
       "    .dataframe tbody tr th {\n",
       "        vertical-align: top;\n",
       "    }\n",
       "\n",
       "    .dataframe thead th {\n",
       "        text-align: right;\n",
       "    }\n",
       "</style>\n",
       "<table border=\"1\" class=\"dataframe\">\n",
       "  <thead>\n",
       "    <tr style=\"text-align: right;\">\n",
       "      <th></th>\n",
       "      <th>date</th>\n",
       "      <th>amount</th>\n",
       "      <th>flow</th>\n",
       "      <th>activity</th>\n",
       "    </tr>\n",
       "  </thead>\n",
       "  <tbody>\n",
       "    <tr>\n",
       "      <th>0</th>\n",
       "      <td>2021-01-01</td>\n",
       "      <td>-18.284435</td>\n",
       "      <td>1034</td>\n",
       "      <td>167140</td>\n",
       "    </tr>\n",
       "    <tr>\n",
       "      <th>1</th>\n",
       "      <td>2021-01-01</td>\n",
       "      <td>-0.085899</td>\n",
       "      <td>1392</td>\n",
       "      <td>167140</td>\n",
       "    </tr>\n",
       "    <tr>\n",
       "      <th>2</th>\n",
       "      <td>2021-01-01</td>\n",
       "      <td>-0.008224</td>\n",
       "      <td>3269</td>\n",
       "      <td>167132</td>\n",
       "    </tr>\n",
       "    <tr>\n",
       "      <th>3</th>\n",
       "      <td>2021-01-01</td>\n",
       "      <td>-0.005098</td>\n",
       "      <td>4194</td>\n",
       "      <td>167140</td>\n",
       "    </tr>\n",
       "    <tr>\n",
       "      <th>4</th>\n",
       "      <td>2021-01-01</td>\n",
       "      <td>-0.003143</td>\n",
       "      <td>1369</td>\n",
       "      <td>167140</td>\n",
       "    </tr>\n",
       "    <tr>\n",
       "      <th>...</th>\n",
       "      <td>...</td>\n",
       "      <td>...</td>\n",
       "      <td>...</td>\n",
       "      <td>...</td>\n",
       "    </tr>\n",
       "    <tr>\n",
       "      <th>11050</th>\n",
       "      <td>2042-01-01</td>\n",
       "      <td>8.436186</td>\n",
       "      <td>4192</td>\n",
       "      <td>167282</td>\n",
       "    </tr>\n",
       "    <tr>\n",
       "      <th>11051</th>\n",
       "      <td>2042-01-01</td>\n",
       "      <td>23.349415</td>\n",
       "      <td>1390</td>\n",
       "      <td>167282</td>\n",
       "    </tr>\n",
       "    <tr>\n",
       "      <th>11052</th>\n",
       "      <td>2042-01-01</td>\n",
       "      <td>31.487699</td>\n",
       "      <td>107</td>\n",
       "      <td>167280</td>\n",
       "    </tr>\n",
       "    <tr>\n",
       "      <th>11053</th>\n",
       "      <td>2042-01-01</td>\n",
       "      <td>71.300076</td>\n",
       "      <td>1031</td>\n",
       "      <td>167282</td>\n",
       "    </tr>\n",
       "    <tr>\n",
       "      <th>11054</th>\n",
       "      <td>2042-01-01</td>\n",
       "      <td>496.306371</td>\n",
       "      <td>107</td>\n",
       "      <td>167282</td>\n",
       "    </tr>\n",
       "  </tbody>\n",
       "</table>\n",
       "<p>11055 rows × 4 columns</p>\n",
       "</div>"
      ],
      "text/plain": [
       "            date      amount  flow  activity\n",
       "0     2021-01-01  -18.284435  1034    167140\n",
       "1     2021-01-01   -0.085899  1392    167140\n",
       "2     2021-01-01   -0.008224  3269    167132\n",
       "3     2021-01-01   -0.005098  4194    167140\n",
       "4     2021-01-01   -0.003143  1369    167140\n",
       "...          ...         ...   ...       ...\n",
       "11050 2042-01-01    8.436186  4192    167282\n",
       "11051 2042-01-01   23.349415  1390    167282\n",
       "11052 2042-01-01   31.487699   107    167280\n",
       "11053 2042-01-01   71.300076  1031    167282\n",
       "11054 2042-01-01  496.306371   107    167282\n",
       "\n",
       "[11055 rows x 4 columns]"
      ]
     },
     "execution_count": 37,
     "metadata": {},
     "output_type": "execute_result"
    }
   ],
   "source": [
    "tlca_BEV.lci()  # calculate the dynamic inventory\n",
    "tlca_BEV.dynamic_lcia(metric=\"GWP\", fixed_time_horizon=True)  # calculate the dynamic LCIA for GWP100"
   ]
  },
  {
   "cell_type": "code",
   "execution_count": 64,
   "metadata": {},
   "outputs": [
    {
     "data": {
      "text/plain": [
       "33196.52307420372"
      ]
     },
     "execution_count": 64,
     "metadata": {},
     "output_type": "execute_result"
    }
   ],
   "source": [
    "tlca_BEV.dynamic_score"
   ]
  },
  {
   "cell_type": "code",
   "execution_count": 59,
   "metadata": {},
   "outputs": [
    {
     "name": "stderr",
     "output_type": "stream",
     "text": [
      "\u001b[32m2025-10-07 21:15:12.910\u001b[0m | \u001b[1mINFO    \u001b[0m | \u001b[36mbw_timex.timex_lca\u001b[0m:\u001b[36mbuild_timeline\u001b[0m:\u001b[36m217\u001b[0m - \u001b[1mNo edge filter function provided. Skipping all edges in background databases.\u001b[0m\n"
     ]
    },
    {
     "name": "stdout",
     "output_type": "stream",
     "text": [
      "Starting graph traversal\n",
      "Calculation count: 15\n"
     ]
    },
    {
     "name": "stderr",
     "output_type": "stream",
     "text": [
      "/Users/ajakobs/miniconda3/envs/timex_new/lib/python3.11/site-packages/bw2calc/lca_base.py:127: SparseEfficiencyWarning: splu converted its input to CSC format\n",
      "  self.solver = factorized(self.technosphere_matrix)\n",
      "/Users/ajakobs/miniconda3/envs/timex_new/lib/python3.11/site-packages/scikits/umfpack/umfpack.py:736: UmfpackWarning: (almost) singular matrix! (estimated cond. number: 3.70e+12)\n",
      "  warnings.warn(msg, UmfpackWarning)\n",
      "/Users/ajakobs/miniconda3/envs/timex_new/lib/python3.11/site-packages/scikits/umfpack/umfpack.py:736: UmfpackWarning: (almost) singular matrix! (estimated cond. number: 3.70e+12)\n",
      "  warnings.warn(msg, UmfpackWarning)\n",
      "\u001b[32m2025-10-07 21:15:52.914\u001b[0m | \u001b[1mINFO    \u001b[0m | \u001b[36mdynamic_characterization.dynamic_characterization\u001b[0m:\u001b[36mcharacterize\u001b[0m:\u001b[36m82\u001b[0m - \u001b[1mNo custom dynamic characterization functions provided. Using default dynamic             characterization functions. The flows that are characterized are based on the selection                of the initially chosen impact category.\u001b[0m\n"
     ]
    },
    {
     "data": {
      "application/vnd.microsoft.datawrangler.viewer.v0+json": {
       "columns": [
        {
         "name": "index",
         "rawType": "int64",
         "type": "integer"
        },
        {
         "name": "date",
         "rawType": "datetime64[s]",
         "type": "unknown"
        },
        {
         "name": "amount",
         "rawType": "float64",
         "type": "float"
        },
        {
         "name": "flow",
         "rawType": "int64",
         "type": "integer"
        },
        {
         "name": "activity",
         "rawType": "int64",
         "type": "integer"
        }
       ],
       "ref": "af14d86b-ca57-41a5-b6f6-da977f93bef1",
       "rows": [
        [
         "0",
         "2021-01-01 00:00:00",
         "-11.924631585124004",
         "1034",
         "167135"
        ],
        [
         "1",
         "2021-01-01 00:00:00",
         "-0.05602084047943353",
         "1392",
         "167135"
        ],
        [
         "2",
         "2021-01-01 00:00:00",
         "-0.0070495688993562336",
         "3269",
         "167132"
        ],
        [
         "3",
         "2021-01-01 00:00:00",
         "-0.003324944885322484",
         "4194",
         "167135"
        ],
        [
         "4",
         "2021-01-01 00:00:00",
         "-0.0020496150637196067",
         "1369",
         "167135"
        ],
        [
         "5",
         "2021-01-01 00:00:00",
         "-0.000566303540851728",
         "3211",
         "167132"
        ],
        [
         "6",
         "2021-01-01 00:00:00",
         "-0.0005178765685254243",
         "3269",
         "167134"
        ],
        [
         "7",
         "2021-01-01 00:00:00",
         "-0.00016354717840344758",
         "3269",
         "167135"
        ],
        [
         "8",
         "2021-01-01 00:00:00",
         "-8.00278829663427e-05",
         "3211",
         "167134"
        ],
        [
         "9",
         "2021-01-01 00:00:00",
         "-2.657826134763717e-05",
         "3211",
         "167135"
        ],
        [
         "10",
         "2021-01-01 00:00:00",
         "-1.7718371603951087e-05",
         "3269",
         "167133"
        ],
        [
         "11",
         "2021-01-01 00:00:00",
         "-1.1406937266980216e-05",
         "3211",
         "167133"
        ],
        [
         "12",
         "2021-01-01 00:00:00",
         "-6.505536914687984e-06",
         "1391",
         "167135"
        ],
        [
         "13",
         "2021-01-01 00:00:00",
         "-1.540490671234917e-09",
         "1144",
         "167135"
        ],
        [
         "14",
         "2021-01-01 00:00:00",
         "-5.286150477689515e-10",
         "642",
         "167135"
        ],
        [
         "15",
         "2021-01-01 00:00:00",
         "-2.340910121564545e-10",
         "1549",
         "167135"
        ],
        [
         "16",
         "2021-01-01 00:00:00",
         "-1.0909309561071537e-10",
         "1013",
         "167135"
        ],
        [
         "17",
         "2021-01-01 00:00:00",
         "1.596018155210541e-27",
         "1152",
         "167133"
        ],
        [
         "18",
         "2021-01-01 00:00:00",
         "4.14771373355646e-27",
         "1152",
         "167135"
        ],
        [
         "19",
         "2021-01-01 00:00:00",
         "1.3227994369936212e-26",
         "1183",
         "167133"
        ],
        [
         "20",
         "2021-01-01 00:00:00",
         "3.437676052556617e-26",
         "1183",
         "167135"
        ],
        [
         "21",
         "2021-01-01 00:00:00",
         "3.6346895954998434e-26",
         "1152",
         "167134"
        ],
        [
         "22",
         "2021-01-01 00:00:00",
         "1.6748855498829979e-25",
         "1152",
         "167132"
        ],
        [
         "23",
         "2021-01-01 00:00:00",
         "3.012475349941282e-25",
         "1183",
         "167134"
        ],
        [
         "24",
         "2021-01-01 00:00:00",
         "1.3881656975853904e-24",
         "1183",
         "167132"
        ],
        [
         "25",
         "2021-01-01 00:00:00",
         "2.157535521839912e-19",
         "384",
         "167133"
        ],
        [
         "26",
         "2021-01-01 00:00:00",
         "5.606978645704749e-19",
         "384",
         "167135"
        ],
        [
         "27",
         "2021-01-01 00:00:00",
         "4.913460343413913e-18",
         "384",
         "167134"
        ],
        [
         "28",
         "2021-01-01 00:00:00",
         "2.264150364112776e-17",
         "384",
         "167132"
        ],
        [
         "29",
         "2021-01-01 00:00:00",
         "1.4636739904317943e-11",
         "1395",
         "167133"
        ],
        [
         "30",
         "2021-01-01 00:00:00",
         "4.229879438004486e-11",
         "386",
         "167133"
        ],
        [
         "31",
         "2021-01-01 00:00:00",
         "6.1239119731716e-11",
         "1013",
         "167133"
        ],
        [
         "32",
         "2021-01-01 00:00:00",
         "1.314063686767489e-10",
         "1549",
         "167133"
        ],
        [
         "33",
         "2021-01-01 00:00:00",
         "1.6250205908384252e-10",
         "1196",
         "167133"
        ],
        [
         "34",
         "2021-01-01 00:00:00",
         "1.962391691729046e-10",
         "1550",
         "167133"
        ],
        [
         "35",
         "2021-01-01 00:00:00",
         "3.0448356069278646e-10",
         "386",
         "167135"
        ],
        [
         "36",
         "2021-01-01 00:00:00",
         "3.24037032178778e-10",
         "4219",
         "167133"
        ],
        [
         "37",
         "2021-01-01 00:00:00",
         "5.730082462927295e-10",
         "1014",
         "167135"
        ],
        [
         "38",
         "2021-01-01 00:00:00",
         "8.199944887591237e-10",
         "642",
         "167133"
        ],
        [
         "39",
         "2021-01-01 00:00:00",
         "8.647503535518344e-10",
         "1144",
         "167133"
        ],
        [
         "40",
         "2021-01-01 00:00:00",
         "9.613268418882993e-10",
         "386",
         "167134"
        ],
        [
         "41",
         "2021-01-01 00:00:00",
         "1.465620378580547e-09",
         "3372",
         "167133"
        ],
        [
         "42",
         "2021-01-01 00:00:00",
         "1.8296613220280076e-09",
         "1439",
         "167135"
        ],
        [
         "43",
         "2021-01-01 00:00:00",
         "1.8331056577475574e-09",
         "1013",
         "167134"
        ],
        [
         "44",
         "2021-01-01 00:00:00",
         "2.1929950833947825e-09",
         "1395",
         "167132"
        ],
        [
         "45",
         "2021-01-01 00:00:00",
         "2.4531920946789263e-09",
         "392",
         "167133"
        ],
        [
         "46",
         "2021-01-01 00:00:00",
         "2.6123998624676274e-09",
         "1165",
         "167133"
        ],
        [
         "47",
         "2021-01-01 00:00:00",
         "3.1502103601149557e-09",
         "1550",
         "167135"
        ],
        [
         "48",
         "2021-01-01 00:00:00",
         "3.933462120276793e-09",
         "1549",
         "167134"
        ],
        [
         "49",
         "2021-01-01 00:00:00",
         "4.433004654903316e-09",
         "3372",
         "167135"
        ]
       ],
       "shape": {
        "columns": 4,
        "rows": 8738
       }
      },
      "text/html": [
       "<div>\n",
       "<style scoped>\n",
       "    .dataframe tbody tr th:only-of-type {\n",
       "        vertical-align: middle;\n",
       "    }\n",
       "\n",
       "    .dataframe tbody tr th {\n",
       "        vertical-align: top;\n",
       "    }\n",
       "\n",
       "    .dataframe thead th {\n",
       "        text-align: right;\n",
       "    }\n",
       "</style>\n",
       "<table border=\"1\" class=\"dataframe\">\n",
       "  <thead>\n",
       "    <tr style=\"text-align: right;\">\n",
       "      <th></th>\n",
       "      <th>date</th>\n",
       "      <th>amount</th>\n",
       "      <th>flow</th>\n",
       "      <th>activity</th>\n",
       "    </tr>\n",
       "  </thead>\n",
       "  <tbody>\n",
       "    <tr>\n",
       "      <th>0</th>\n",
       "      <td>2021-01-01</td>\n",
       "      <td>-11.924632</td>\n",
       "      <td>1034</td>\n",
       "      <td>167135</td>\n",
       "    </tr>\n",
       "    <tr>\n",
       "      <th>1</th>\n",
       "      <td>2021-01-01</td>\n",
       "      <td>-0.056021</td>\n",
       "      <td>1392</td>\n",
       "      <td>167135</td>\n",
       "    </tr>\n",
       "    <tr>\n",
       "      <th>2</th>\n",
       "      <td>2021-01-01</td>\n",
       "      <td>-0.007050</td>\n",
       "      <td>3269</td>\n",
       "      <td>167132</td>\n",
       "    </tr>\n",
       "    <tr>\n",
       "      <th>3</th>\n",
       "      <td>2021-01-01</td>\n",
       "      <td>-0.003325</td>\n",
       "      <td>4194</td>\n",
       "      <td>167135</td>\n",
       "    </tr>\n",
       "    <tr>\n",
       "      <th>4</th>\n",
       "      <td>2021-01-01</td>\n",
       "      <td>-0.002050</td>\n",
       "      <td>1369</td>\n",
       "      <td>167135</td>\n",
       "    </tr>\n",
       "    <tr>\n",
       "      <th>...</th>\n",
       "      <td>...</td>\n",
       "      <td>...</td>\n",
       "      <td>...</td>\n",
       "      <td>...</td>\n",
       "    </tr>\n",
       "    <tr>\n",
       "      <th>8733</th>\n",
       "      <td>2042-01-01</td>\n",
       "      <td>13.438397</td>\n",
       "      <td>1031</td>\n",
       "      <td>167250</td>\n",
       "    </tr>\n",
       "    <tr>\n",
       "      <th>8734</th>\n",
       "      <td>2042-01-01</td>\n",
       "      <td>21.739354</td>\n",
       "      <td>1390</td>\n",
       "      <td>167251</td>\n",
       "    </tr>\n",
       "    <tr>\n",
       "      <th>8735</th>\n",
       "      <td>2042-01-01</td>\n",
       "      <td>66.383570</td>\n",
       "      <td>1031</td>\n",
       "      <td>167251</td>\n",
       "    </tr>\n",
       "    <tr>\n",
       "      <th>8736</th>\n",
       "      <td>2042-01-01</td>\n",
       "      <td>86.232860</td>\n",
       "      <td>107</td>\n",
       "      <td>167250</td>\n",
       "    </tr>\n",
       "    <tr>\n",
       "      <th>8737</th>\n",
       "      <td>2042-01-01</td>\n",
       "      <td>462.083502</td>\n",
       "      <td>107</td>\n",
       "      <td>167251</td>\n",
       "    </tr>\n",
       "  </tbody>\n",
       "</table>\n",
       "<p>8738 rows × 4 columns</p>\n",
       "</div>"
      ],
      "text/plain": [
       "           date      amount  flow  activity\n",
       "0    2021-01-01  -11.924632  1034    167135\n",
       "1    2021-01-01   -0.056021  1392    167135\n",
       "2    2021-01-01   -0.007050  3269    167132\n",
       "3    2021-01-01   -0.003325  4194    167135\n",
       "4    2021-01-01   -0.002050  1369    167135\n",
       "...         ...         ...   ...       ...\n",
       "8733 2042-01-01   13.438397  1031    167250\n",
       "8734 2042-01-01   21.739354  1390    167251\n",
       "8735 2042-01-01   66.383570  1031    167251\n",
       "8736 2042-01-01   86.232860   107    167250\n",
       "8737 2042-01-01  462.083502   107    167251\n",
       "\n",
       "[8738 rows x 4 columns]"
      ]
     },
     "execution_count": 59,
     "metadata": {},
     "output_type": "execute_result"
    }
   ],
   "source": [
    "tlca_ICEC = TimexLCA({LC_ICEC: 1}, method, database_dates)\n",
    "tlca_ICEC.build_timeline(temporal_grouping=\"year\")  # build timeline with yearly steps\n",
    "tlca_ICEC.lci()  # calculate the dynamic inventory\n",
    "tlca_ICEC.dynamic_lcia(metric=\"GWP\", fixed_time_horizon=True)"
   ]
  },
  {
   "cell_type": "code",
   "execution_count": 60,
   "metadata": {},
   "outputs": [
    {
     "data": {
      "text/plain": [
       "63554.55699311766"
      ]
     },
     "execution_count": 60,
     "metadata": {},
     "output_type": "execute_result"
    }
   ],
   "source": [
    "tlca_ICEC.dynamic_score"
   ]
  },
  {
   "cell_type": "markdown",
   "metadata": {},
   "source": [
    "## Visualise Results and compare the different cars and scenarios\n",
    "\n",
    "now find a good way to visualise the results. There are some simple plotting functions included such as plot_dynamic_inventory().\n",
    "\n",
    "Run the other scenario to see the differences for both cars. "
   ]
  },
  {
   "cell_type": "code",
   "execution_count": 65,
   "metadata": {},
   "outputs": [
    {
     "data": {
      "image/png": "[encoded data removed]",
      "text/plain": [
       "<Figure size 1400x600 with 1 Axes>"
      ]
     },
     "metadata": {},
     "output_type": "display_data"
    }
   ],
   "source": [
    "tlca_BEV.plot_dynamic_characterized_inventory(sum_emissions_within_activity=True, cumsum=True)"
   ]
  },
  {
   "cell_type": "code",
   "execution_count": 62,
   "metadata": {},
   "outputs": [
    {
     "data": {
      "image/png": "[encoded data removed]",
      "text/plain": [
       "<Figure size 1400x600 with 1 Axes>"
      ]
     },
     "metadata": {},
     "output_type": "display_data"
    }
   ],
   "source": [
    "tlca_ICEC.plot_dynamic_characterized_inventory(sum_emissions_within_activity=True, cumsum=True)"
   ]
  },
  {
   "cell_type": "markdown",
   "metadata": {},
   "source": [
    "## BONUS options:\n",
    "\n",
    "- Use dynamic_lcia(use_disaggregated_lci=TRUE) to perform a contribution analysis on the background activities contributing to the impacts. (Note that this function can take a while), find a good way to visualize thi\n",
    "\n",
    "- Adavanced: Use temporal distritbutions to modell a fleet (of changing composition). (hint a for a fleet some cars will live longer, some shorter. This can be modelled using a distribution for the usephase and the EoL)\n",
    "\n",
    "\n",
    "\n"
   ]
  },
  {
   "cell_type": "markdown",
   "metadata": {},
   "source": []
  }
 ],
 "metadata": {
  "kernelspec": {
   "display_name": "timex_new",
   "language": "python",
   "name": "python3"
  },
  "language_info": {
   "codemirror_mode": {
    "name": "ipython",
    "version": 3
   },
   "file_extension": ".py",
   "mimetype": "text/x-python",
   "name": "python",
   "nbconvert_exporter": "python",
   "pygments_lexer": "ipython3",
   "version": "3.11.13"
  }
 },
 "nbformat": 4,
 "nbformat_minor": 4
}
