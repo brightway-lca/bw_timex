{
 "cells": [
  {
   "cell_type": "markdown",
   "metadata": {},
   "source": [
    "# Getting Started with `bw_timex`\n",
    "\n",
    "This notebook will help you quickly getting started with your time-explicit LCA project. We're keeping it simple here - no deep dives into how things work in the background, no exploring of all the features and options `bw_timex` has. Just a quick walkthrough of the different steps of a `TimexLCA`. Here's a rundown:\n",
    "\n",
    "<div style=\"display: flex; justify-content: center; background-color: white; border-radius: 15px; padding: 10px; width: 600px; margin: auto;\">\n",
    "  <img src=\"data/workflow.svg\" style=\"border-radius: 15px; width: 100%;\">\n",
    "</div>\n",
    "\n",
    "In the following sections, we'll walk through the steps 1-4, considering a very simple dummy system.\n"
   ]
  },
  {
   "cell_type": "markdown",
   "metadata": {},
   "source": [
    "## Step 1 - Temporalization\n",
    "\n",
    "To get you started with time-explicit LCA, we'll investigate this very simple production system with two \"technosphere\" nodes A and B and a \"biosphere\" node representing some CO2 emissions. For the sake of this example, we'll assume that we demand Process A to run exactly once.\n",
    "\n",
    "```mermaid\n",
    "flowchart LR\n",
    "subgraph background[<i>background</i>]\n",
    "    B(Process B):::bg\n",
    "end\n",
    "\n",
    "subgraph foreground[<i>foreground</i>]\n",
    "    A(Process A):::fg\n",
    "end\n",
    "\n",
    "subgraph biosphere[<i>biosphere</i>]\n",
    "    CO2(CO2):::bio\n",
    "end\n",
    "\n",
    "B-->|\"3 kg\"|A\n",
    "A-.->|\"5 kg\"|CO2\n",
    "B-.->|\"11 kg\"|CO2\n",
    "\n",
    "classDef fg color:#222832, fill:#3fb1c5, stroke:none;\n",
    "classDef bg color:#222832, fill:#3fb1c5, stroke:none;\n",
    "classDef bio color:#222832, fill:#9c5ffd, stroke:none;\n",
    "style background fill:none, stroke:none;\n",
    "style foreground fill:none, stroke:none;\n",
    "style biosphere fill:none, stroke:none;\n",
    "```"
   ]
  },
  {
   "cell_type": "markdown",
   "metadata": {
    "vscode": {
     "languageId": "plaintext"
    }
   },
   "source": [
    "First, we need to model this production system - so far only \"normal\" brightway stuff:"
   ]
  },
  {
   "cell_type": "code",
   "execution_count": null,
   "metadata": {
    "jupyter": {
     "source_hidden": true
    }
   },
   "outputs": [],
   "source": [
    "import bw2data as bd\n",
    "\n",
    "bd.projects.set_current(\"getting_started_with_timex\")\n",
    "\n",
    "bd.Database(\"biosphere\").write(\n",
    "    {\n",
    "        (\"biosphere\", \"CO2\"): {\n",
    "            \"type\": \"emission\",\n",
    "            \"name\": \"CO2\",\n",
    "        },\n",
    "    }\n",
    ")\n",
    "\n",
    "bd.Database(\"background\").write(\n",
    "    {\n",
    "        (\"background\", \"B\"): {\n",
    "            \"name\": \"B\",\n",
    "            \"location\": \"somewhere\",\n",
    "            \"reference product\": \"B\",\n",
    "            \"exchanges\": [\n",
    "                {\n",
    "                    \"amount\": 1,\n",
    "                    \"type\": \"production\",\n",
    "                    \"input\": (\"background\", \"B\"),\n",
    "                },\n",
    "                {\n",
    "                    \"amount\": 11,\n",
    "                    \"type\": \"biosphere\",\n",
    "                    \"input\": (\"biosphere\", \"CO2\"),\n",
    "                },\n",
    "            ],\n",
    "        },\n",
    "    }\n",
    ")\n",
    "\n",
    "bd.Database(\"foreground\").write(\n",
    "    {\n",
    "        (\"foreground\", \"A\"): {\n",
    "            \"name\": \"A\",\n",
    "            \"location\": \"somewhere\",\n",
    "            \"reference product\": \"A\",\n",
    "            \"exchanges\": [\n",
    "                {\n",
    "                    \"amount\": 1,\n",
    "                    \"type\": \"production\",\n",
    "                    \"input\": (\"foreground\", \"A\"),\n",
    "                },\n",
    "                {\n",
    "                    \"amount\": 3,\n",
    "                    \"type\": \"technosphere\",\n",
    "                    \"input\": (\"background\", \"B\"),\n",
    "                },\n",
    "                {\n",
    "                    \"amount\": 5,\n",
    "                    \"type\": \"biosphere\",\n",
    "                    \"input\": (\"biosphere\", \"CO2\"),\n",
    "                }\n",
    "            ],\n",
    "        },\n",
    "    }\n",
    ")\n",
    "\n",
    "bd.Method((\"our\", \"method\")).write(\n",
    "    [\n",
    "        ((\"biosphere\", \"CO2\"), 1),\n",
    "    ]\n",
    ")"
   ]
  },
  {
   "cell_type": "markdown",
   "metadata": {},
   "source": [
    "Now, if you want to consider time in your LCA, you need to somehow add temporal information. For time-explicit LCA, we consider two kinds of temporal information, that will be discussed in the following."
   ]
  },
  {
   "cell_type": "markdown",
   "metadata": {},
   "source": [
    "### Temporal distribution\n",
    "\n",
    "To determine the timing of the exchanges within the production system, we add the `temporal_distribution` attribute to the respective exchanges. To carry the temporal information, we use the [`TemporalDistribution`](https://docs.brightway.dev/projects/bw-temporalis/en/stable/content/api/bw_temporalis/temporal_distribution/index.html#bw_temporalis.temporal_distribution.TemporalDistribution) class from [`bw_temporalis`](https://github.com/brightway-lca/bw_temporalis). \n",
    "\n",
    "> A TemporalDistribution is a *container for a series of amount spread over time*, so it tells you what share of an exchange happens at what point in time, relative to the consuming/emitting process. \n",
    "\n",
    "So, let's include this information in out production system - visually at first:\n",
    "\n",
    "```mermaid\n",
    "flowchart LR\n",
    "subgraph background[\" \"]\n",
    "    B_2020(Process B):::bg\n",
    "end\n",
    "\n",
    "subgraph foreground[\" \"]\n",
    "    A(Process A):::fg\n",
    "end\n",
    "\n",
    "subgraph biosphere[\" \"]\n",
    "    CO2(CO2):::b\n",
    "end\n",
    "\n",
    "B_2020-->|\"amounts: [30%,50%,20%] * 3 kg\\n dates:[-2,0,+4]\" years|A\n",
    "A-.->|\"amounts: [60%, 40%] * 5 kg\\n dates: [0,+1]\" years|CO2\n",
    "B_2020-.->|\"amounts: [100%] * 11 kg\\n dates:[0]\" years|CO2\n",
    "\n",
    "classDef bg color:#222832, fill:#3fb1c5, stroke:none;\n",
    "classDef fg color:#222832, fill:#3fb1c5, stroke:none;\n",
    "classDef b color:#222832, fill:#9c5ffd, stroke:none;\n",
    "style foreground fill:none, stroke:none;\n",
    "style background fill:none, stroke:none;\n",
    "style biosphere fill:none, stroke:none;\n",
    "\n",
    "```\n",
    "\n",
    "Now it's time to add this information to our modeled production system in brightway. We start by creating the `TemporalDistribution` for the exchange between A and B:\n"
   ]
  },
  {
   "cell_type": "code",
   "execution_count": null,
   "metadata": {},
   "outputs": [],
   "source": [
    "import numpy as np\n",
    "from bw_temporalis import TemporalDistribution\n",
    "\n",
    "td_b_to_a = TemporalDistribution(\n",
    "    date=np.array([-2, 0, 4], dtype=\"timedelta64[Y]\"),\n",
    "    amount=np.array([0.3, 0.5, 0.2]),\n",
    ")"
   ]
  },
  {
   "cell_type": "markdown",
   "metadata": {},
   "source": [
    "Now add the temporal distribution to the corresponding exchange. In principle, you just have to do the following:\n",
    "```python\n",
    "exchange_object[\"temporal_distribution\"] = TemporalDistribution \n",
    "```\n",
    "\n",
    "We currently don't have the `exchange_object` at hand here, but we can use the utility function `add_temporal_distribution_to_exchange()` to help."
   ]
  },
  {
   "cell_type": "code",
   "execution_count": null,
   "metadata": {},
   "outputs": [],
   "source": [
    "from bw_timex.utils import add_temporal_distribution_to_exchange\n",
    "\n",
    "add_temporal_distribution_to_exchange(\n",
    "    temporal_distribution=td_b_to_a, \n",
    "    input_code=\"B\", \n",
    "    input_database=\"background\",\n",
    "    output_code=\"A\",\n",
    "    output_database=\"foreground\"\n",
    ")"
   ]
  },
  {
   "cell_type": "markdown",
   "metadata": {},
   "source": [
    "Now we do the same for our other temporalized exchange between A and CO2:"
   ]
  },
  {
   "cell_type": "code",
   "execution_count": null,
   "metadata": {},
   "outputs": [],
   "source": [
    "td_a_to_co2 = TemporalDistribution(\n",
    "    date=np.array([0, 1], dtype=\"timedelta64[Y]\"),\n",
    "    amount=np.array([0.6, 0.4]),\n",
    ")\n",
    "\n",
    "# We actually only have to define enough fields to uniquely identify the exchange here\n",
    "add_temporal_distribution_to_exchange(\n",
    "    temporal_distribution=td_a_to_co2, \n",
    "    input_code=\"CO2\", \n",
    "    output_code=\"A\"\n",
    ")"
   ]
  },
  {
   "cell_type": "markdown",
   "metadata": {},
   "source": [
    "### Temporal evolution\n",
    "\n",
    "Wile the temporal information above tells us when the processes occurs, we also need information on how our processes evolve over time. So, for our simple example, let's say our background process B changes somehow, so that it emits less CO2 in the future. To make it precise, we assume that the original process we modeled above represents the process state in the year 2020, emitting 11 kg CO2, which reduces to 7 kg CO2 by 2030:\n",
    "\n",
    "```mermaid\n",
    "flowchart LR\n",
    "subgraph background[\" \"]\n",
    "    B_2020(Process B \\n 2020):::bg\n",
    "    B_2030(Process B \\n 2030):::bg\n",
    "end\n",
    "\n",
    "subgraph foreground[\" \"]\n",
    "    A(Process A):::fg\n",
    "end\n",
    "\n",
    "subgraph biosphere[\" \"]\n",
    "    CO2(CO2):::b\n",
    "end\n",
    "\n",
    "B_2020-->|\"amounts: [30%,50%,20%] * 3 kg\\n dates:[-2,0,+4]\" years|A\n",
    "A-.->|\"amounts: [60%, 40%] * 5 kg\\n dates: [0,+1]\" years|CO2\n",
    "B_2020-.->|\"amounts: [100%] * <span style='color:#9c5ffd'><b>11 kg</b></span>\\n dates:[0]\" years|CO2\n",
    "B_2030-.->|\"amounts: [100%] * <span style='color:#9c5ffd'><b>7 kg</b></span>\\n dates:[0]\" years|CO2\n",
    "\n",
    "classDef bg color:#222832, fill:#3fb1c5, stroke:none;\n",
    "classDef fg color:#222832, fill:#3fb1c5, stroke:none;\n",
    "classDef b color:#222832, fill:#9c5ffd, stroke:none;\n",
    "style foreground fill:none, stroke:none;\n",
    "style background fill:none, stroke:none;\n",
    "style biosphere fill:none, stroke:none;\n",
    "\n",
    "```\n"
   ]
  },
  {
   "cell_type": "code",
   "execution_count": null,
   "metadata": {
    "jupyter": {
     "source_hidden": true
    }
   },
   "outputs": [],
   "source": [
    "bd.Database(\"background_2030\").write(\n",
    "    {\n",
    "        (\"background_2030\", \"B\"): {\n",
    "            \"name\": \"B\",\n",
    "            \"location\": \"somewhere\",\n",
    "            \"reference product\": \"B\",\n",
    "            \"exchanges\": [\n",
    "                {\n",
    "                    \"amount\": 1,\n",
    "                    \"type\": \"production\",\n",
    "                    \"input\": (\"background_2030\", \"B\"),\n",
    "                },\n",
    "                {\n",
    "                    \"amount\": 7,\n",
    "                    \"type\": \"biosphere\",\n",
    "                    \"input\": (\"biosphere\", \"CO2\"),\n",
    "                },\n",
    "            ],\n",
    "        },\n",
    "    }\n",
    ")"
   ]
  },
  {
   "cell_type": "markdown",
   "metadata": {},
   "source": [
    "So, as you can see, the \"time-specific\" databases can reside within your normal brightway databases. To hand them to `bw_timex`, we just need to define a dictionary that maps the time-specific database names to the point in time that they represent:"
   ]
  },
  {
   "cell_type": "code",
   "execution_count": null,
   "metadata": {},
   "outputs": [],
   "source": [
    "from datetime import datetime\n",
    "\n",
    "# Note: The foreground does not represent a specific point in time, but should \n",
    "# later be dynamically distributed over time\n",
    "database_dates = {\n",
    "    \"background\": datetime.strptime(\"2020\", \"%Y\"),\n",
    "    \"background_2030\": datetime.strptime(\"2030\", \"%Y\"),\n",
    "    \"foreground\": \"dynamic\",\n",
    "}"
   ]
  },
  {
   "cell_type": "markdown",
   "metadata": {},
   "source": [
    "> **Note:** You can use whatever data source you want for this time-specific data. A nice package from the Brightway cosmos that can help you is [premise](https://premise.readthedocs.io/en/latest/introduction.html)."
   ]
  },
  {
   "cell_type": "markdown",
   "metadata": {},
   "source": [
    "## Step 2 - Building the timeline \n",
    "\n",
    "With all the temporal information prepared, we can now instantiate our TimexLCA object. This is very similar to a normal Brightway LCA object, but with the additional argument of our `database_dates`:"
   ]
  },
  {
   "cell_type": "code",
   "execution_count": null,
   "metadata": {},
   "outputs": [],
   "source": [
    "from bw_timex import TimexLCA\n",
    "\n",
    "tlca = TimexLCA(\n",
    "    demand={(\"foreground\", \"A\"): 1},\n",
    "    method=(\"our\", \"method\"),\n",
    "    database_dates=database_dates,\n",
    ")"
   ]
  },
  {
   "cell_type": "markdown",
   "metadata": {},
   "source": [
    "Using our new `tlca` object, we can now build the timeline of technosphere exchanges that leads to our functional unit, \"A\". If not specified otherwise, it's assumed that the demand occurs in the current year, which is 2024 at the time of writing. Building the timeline is very simple:"
   ]
  },
  {
   "cell_type": "code",
   "execution_count": null,
   "metadata": {},
   "outputs": [],
   "source": [
    "tlca.build_timeline()"
   ]
  },
  {
   "cell_type": "markdown",
   "metadata": {},
   "source": [
    "Calling this directly returned the `tlca.timeline` dataframe. Here we can see which share of which exchange happens at what point in time. Additionally, the \"temporal_market_shares\" already tell us what share of an exchange should come from which database. With this info, we can calculate our time-explicit LCI in the next step."
   ]
  },
  {
   "cell_type": "markdown",
   "metadata": {},
   "source": [
    "## Step 3 - Calculating the time-explicit LCI\n",
    "\n",
    "Calculating the time-explicit LCI from the timeline is very simple, at least from the user perspective:\n"
   ]
  },
  {
   "cell_type": "code",
   "execution_count": null,
   "metadata": {},
   "outputs": [],
   "source": [
    "tlca.lci()"
   ]
  },
  {
   "cell_type": "markdown",
   "metadata": {},
   "source": [
    "Under the hood, we re-build the technosphere and biosphere matrices, adding new rows and columns to carry the extra temporal information. More on that in the [Theory Section](https://docs.brightway.dev/projects/bw-timex/en/latest/content/theory.html#modifying-the-matrices) of our docs.\n",
    "\n",
    "Now that the inventory is calculated, we can characterize it in the next step."
   ]
  },
  {
   "cell_type": "markdown",
   "metadata": {},
   "source": [
    "## Step 4 - Impact assessment\n",
    "\n",
    "To characterize the calculated inventory, we have two options: Static and dynamic life cycle impact assessment (LCIA).\n",
    "\n",
    "### Static LCIA\n",
    "If we don't care about the timing of the emissions, we can do static LCIA using the standard characterization factors. To characterize the inventory with the impact assessment method that we initially chose when creating our `TimexLCA` object, we can simply call:"
   ]
  },
  {
   "cell_type": "code",
   "execution_count": null,
   "metadata": {},
   "outputs": [],
   "source": [
    "tlca.static_lcia()"
   ]
  },
  {
   "cell_type": "markdown",
   "metadata": {},
   "source": [
    "and investigate the resulting score like this:"
   ]
  },
  {
   "cell_type": "code",
   "execution_count": null,
   "metadata": {},
   "outputs": [],
   "source": [
    "tlca.static_score"
   ]
  },
  {
   "cell_type": "markdown",
   "metadata": {},
   "source": [
    "### Dynamic LCIA\n",
    "\n",
    "The inventory calculated by a `TimexLCA` retains temporal information. That means that in addition to knowing which process emits what substance, we also know the timing of each emission. This allows for more advanced, dynamic characterization using characterization functions instead of just factors. In `bw_timex`, users can either use their own custom functions or use some existing ones, e.g., from the package [`dynamic_characterization`](https://dynamic-characterization.readthedocs.io/en/latest/). We'll do the latter here. \n",
    "\n",
    "First, we need to define which characterization function we want to apply to which biosphere flow:"
   ]
  },
  {
   "cell_type": "code",
   "execution_count": null,
   "metadata": {},
   "outputs": [],
   "source": [
    "from dynamic_characterization.ipcc_ar6 import characterize_co2\n",
    "emission_id = bd.get_activity((\"biosphere\", \"CO2\")).id\n",
    "\n",
    "characterization_functions = {\n",
    "    emission_id: characterize_co2,\n",
    "}"
   ]
  },
  {
   "cell_type": "markdown",
   "metadata": {},
   "source": [
    "So, let's characterize our inventory. As a metric we choose radiative forcing, and a time horizon of 100 years:"
   ]
  },
  {
   "cell_type": "code",
   "execution_count": null,
   "metadata": {},
   "outputs": [],
   "source": [
    "tlca.dynamic_lcia(\n",
    "    metric=\"radiative_forcing\",\n",
    "    time_horizon=100,\n",
    "    characterization_functions=characterization_functions,\n",
    ")"
   ]
  },
  {
   "cell_type": "markdown",
   "metadata": {},
   "source": [
    "To visualize what's going on, we can conveniently plot it with:"
   ]
  },
  {
   "cell_type": "code",
   "execution_count": null,
   "metadata": {},
   "outputs": [],
   "source": [
    "tlca.plot_dynamic_characterized_inventory()"
   ]
  },
  {
   "cell_type": "markdown",
   "metadata": {},
   "source": [
    "Of course we can also assess the \"standard\" climate change metric Global Warming Potential (GWP):"
   ]
  },
  {
   "cell_type": "code",
   "execution_count": null,
   "metadata": {},
   "outputs": [],
   "source": [
    "tlca.dynamic_lcia(\n",
    "    metric=\"GWP\",\n",
    "    time_horizon=100,\n",
    "    characterization_functions=characterization_functions,\n",
    ")"
   ]
  },
  {
   "cell_type": "markdown",
   "metadata": {},
   "source": [
    "... and plot it:"
   ]
  },
  {
   "cell_type": "code",
   "execution_count": null,
   "metadata": {},
   "outputs": [],
   "source": [
    "tlca.plot_dynamic_characterized_inventory()"
   ]
  },
  {
   "cell_type": "markdown",
   "metadata": {},
   "source": [
    "There is also a function to plot this as a \"Waterfall plot\":"
   ]
  },
  {
   "cell_type": "code",
   "execution_count": null,
   "metadata": {},
   "outputs": [],
   "source": [
    "from bw_timex.utils import plot_characterized_inventory_as_waterfall\n",
    "\n",
    "plot_characterized_inventory_as_waterfall(tlca)"
   ]
  },
  {
   "cell_type": "markdown",
   "metadata": {},
   "source": [
    "For most of the functions we used here, there are numerous optional arguments and settings you can tweak. We explore some of them in our other [Examples](https://docs.brightway.dev/projects/bw-timex/en/latest/content/examples/index.html), but when in doubt: Our code is pretty well documented, see our [docstrings](https://docs.brightway.dev/projects/bw-timex/en/latest/content/api/index.html) - so please browse through them as needed ☀️"
   ]
  }
 ],
 "metadata": {
  "kernelspec": {
   "display_name": "timex",
   "language": "python",
   "name": "python3"
  },
  "language_info": {
   "codemirror_mode": {
    "name": "ipython",
    "version": 3
   },
   "file_extension": ".py",
   "mimetype": "text/x-python",
   "name": "python",
   "nbconvert_exporter": "python",
   "pygments_lexer": "ipython3",
   "version": "3.11.11"
  }
 },
 "nbformat": 4,
 "nbformat_minor": 4
}
