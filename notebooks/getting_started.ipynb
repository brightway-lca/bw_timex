{
    "cells": [
        {
            "cell_type": "markdown",
            "metadata": {},
            "source": [
                "# Getting Started with `bw_timex`\n",
                "\n",
                "Here's a rundown of the steps involved in a `TimexLCA`:\n",
                "\n",
                "<div style=\"display: flex; justify-content: center; background-color: white; border-radius: 15px; padding: 10px; width: 600px; margin: auto;\">\n",
                "  <img src=\"data/workflow.svg\" style=\"border-radius: 15px; width: 100%;\">\n",
                "</div>"
            ]
        },
        {
            "cell_type": "markdown",
            "metadata": {
                "slideshow": {
                    "slide_type": "slide"
                }
            },
            "source": [
                "Let's walk through steps 1-4 considering a very simple dummy system:\n",
                "\n",
                "```mermaid\n",
                "flowchart LR\n",
                "subgraph background[<i>background</i>]\n",
                "    B(\"Process B\"):::bg\n",
                "end\n",
                "\n",
                "subgraph foreground[<i>foreground</i>]\n",
                "    A(\"Process A\"):::fg\n",
                "end\n",
                "\n",
                "subgraph biosphere[<i>biosphere</i>]\n",
                "    CO2(\"CO2\"):::bio\n",
                "end\n",
                "\n",
                "B-->|\"3 kg\"|A\n",
                "A-.->|\"5 kg\"|CO2\n",
                "B-.->|\"11 kg\"|CO2\n",
                "\n",
                "classDef fg color:#222832, fill:#3fb1c5, stroke:none;\n",
                "classDef bg color:#222832, fill:#3fb1c5, stroke:none;\n",
                "classDef bio color:#222832, fill:#9c5ffd, stroke:none;\n",
                "style background fill:none, stroke:none;\n",
                "style foreground fill:none, stroke:none;\n",
                "style biosphere fill:none, stroke:none;\n",
                "```"
            ]
        },
        {
            "cell_type": "markdown",
            "metadata": {},
            "source": [
                "Setting this up with brightway:"
            ]
        },
        {
            "cell_type": "code",
            "execution_count": 1,
            "metadata": {
                "jupyter": {
                    "source_hidden": true
                }
            },
            "outputs": [],
            "source": [
                "# Create static system model\n",
                "\n",
                "import bw2data as bd\n",
                "\n",
                "bd.projects.set_current(\"getting_started_with_timex\")\n",
                "\n",
                "bd.Database(\"biosphere\").write(\n",
                "    {\n",
                "        (\"biosphere\", \"CO2\"): {\n",
                "            \"type\": \"emission\",\n",
                "            \"name\": \"CO2\",\n",
                "        },\n",
                "    }\n",
                ")\n",
                "\n",
                "bd.Database(\"background_2020\").write(\n",
                "    {\n",
                "        (\"background_2020\", \"B\"): {\n",
                "            \"name\": \"B\",\n",
                "            \"location\": \"somewhere\",\n",
                "            \"reference product\": \"B\",\n",
                "            \"exchanges\": [\n",
                "                {\n",
                "                    \"amount\": 1,\n",
                "                    \"type\": \"production\",\n",
                "                    \"input\": (\"background_2020\", \"B\"),\n",
                "                },\n",
                "                {\n",
                "                    \"amount\": 11,\n",
                "                    \"type\": \"biosphere\",\n",
                "                    \"input\": (\"biosphere\", \"CO2\"),\n",
                "                },\n",
                "            ],\n",
                "        },\n",
                "    }\n",
                ")\n",
                "\n",
                "bd.Database(\"foreground\").write(\n",
                "    {\n",
                "        (\"foreground\", \"A\"): {\n",
                "            \"name\": \"A\",\n",
                "            \"location\": \"somewhere\",\n",
                "            \"reference product\": \"A\",\n",
                "            \"exchanges\": [\n",
                "                {\n",
                "                    \"amount\": 1,\n",
                "                    \"type\": \"production\",\n",
                "                    \"input\": (\"foreground\", \"A\"),\n",
                "                },\n",
                "                {\n",
                "                    \"amount\": 3,\n",
                "                    \"type\": \"technosphere\",\n",
                "                    \"input\": (\"background_2020\", \"B\"),\n",
                "                },\n",
                "                {\n",
                "                    \"amount\": 5,\n",
                "                    \"type\": \"biosphere\",\n",
                "                    \"input\": (\"biosphere\", \"CO2\"),\n",
                "                }\n",
                "            ],\n",
                "        },\n",
                "    }\n",
                ")\n",
                "\n",
                "bd.Method((\"our\", \"method\")).write(\n",
                "    [\n",
                "        ((\"biosphere\", \"CO2\"), 1),\n",
                "    ]\n",
                ")"
            ]
        },
        {
            "cell_type": "markdown",
            "metadata": {},
            "source": [
                "We also need time-specific background databases. Let's say our original background system represents the year 2020, where process B emitts 11 kg CO2. By 2030, process B only emitts 7 kg CO2:"
            ]
        },
        {
            "cell_type": "markdown",
            "metadata": {},
            "source": [
                "```mermaid\n",
                "flowchart LR\n",
                "subgraph background[<i>background</i>]\n",
                "    B2020(\"Process B \\n 2020\"):::bg\n",
                "    B2030(\"Process B \\n 2030\"):::bg\n",
                "end\n",
                "\n",
                "subgraph foreground[<i>foreground</i>]\n",
                "    A(\"Process A\"):::fg\n",
                "end\n",
                "\n",
                "subgraph biosphere[<i>biosphere</i>]\n",
                "    CO2(\"CO2\"):::bio\n",
                "end\n",
                "\n",
                "B2020-->|\"3 kg\"|A\n",
                "A-.->|\"5 kg\"|CO2\n",
                "B2020-.->|\"<span style='color:#9c5ffd'><b>11 kg</b></span>\"|CO2\n",
                "B2030-.->|\"<span style='color:#9c5ffd'><b>7 kg</b></span>\"|CO2\n",
                "\n",
                "classDef fg color:#222832, fill:#3fb1c5, stroke:none;\n",
                "classDef bg color:#222832, fill:#3fb1c5, stroke:none;\n",
                "classDef bio color:#222832, fill:#9c5ffd, stroke:none;\n",
                "style background fill:none, stroke:none;\n",
                "style foreground fill:none, stroke:none;\n",
                "style biosphere fill:none, stroke:none;\n",
                "```"
            ]
        },
        {
            "cell_type": "markdown",
            "metadata": {},
            "source": [
                "We write this new process to a separate database:"
            ]
        },
        {
            "cell_type": "code",
            "execution_count": 2,
            "metadata": {
                "jupyter": {
                    "source_hidden": true
                }
            },
            "outputs": [],
            "source": [
                "# Write prospective database for 2030\n",
                "\n",
                "bd.Database(\"background_2030\").write(\n",
                "    {\n",
                "        (\"background_2030\", \"B\"): {\n",
                "            \"name\": \"B\",\n",
                "            \"location\": \"somewhere\",\n",
                "            \"reference product\": \"B\",\n",
                "            \"exchanges\": [\n",
                "                {\n",
                "                    \"amount\": 1,\n",
                "                    \"type\": \"production\",\n",
                "                    \"input\": (\"background_2030\", \"B\"),\n",
                "                },\n",
                "                {\n",
                "                    \"amount\": 7,\n",
                "                    \"type\": \"biosphere\",\n",
                "                    \"input\": (\"biosphere\", \"CO2\"),\n",
                "                },\n",
                "            ],\n",
                "        },\n",
                "    }\n",
                ")"
            ]
        },
        {
            "cell_type": "markdown",
            "metadata": {},
            "source": [
                "> **Note:** It does not matter where your time-specific data comes from - you can also use [premise](https://premise.readthedocs.io/en/latest/introduction.html)."
            ]
        },
        {
            "cell_type": "markdown",
            "metadata": {},
            "source": [
                "To save the information which background database represents which point in time, we define `database_dates`:"
            ]
        },
        {
            "cell_type": "code",
            "execution_count": 3,
            "metadata": {},
            "outputs": [],
            "source": [
                "from datetime import datetime\n",
                "\n",
                "database_dates = {\n",
                "    \"background_2020\": datetime.strptime(\"2020\", \"%Y\"),\n",
                "    \"background_2030\": datetime.strptime(\"2030\", \"%Y\"),\n",
                "    \"foreground\": \"dynamic\", # no specific point in time, but should be \"distributed over time\"\n",
                "}"
            ]
        },
        {
            "cell_type": "markdown",
            "metadata": {},
            "source": [
                "## Step 1 - Adding temporal information"
            ]
        },
        {
            "cell_type": "markdown",
            "metadata": {},
            "source": [
                "Temporal information on the exchange level is carried by [`TemporalDistribution`](https://docs.brightway.dev/projects/bw-temporalis/en/stable/content/api/bw_temporalis/temporal_distribution/index.html#bw_temporalis.temporal_distribution.TemporalDistribution) objects, originally introduced by [`bw_temporalis`](https://github.com/brightway-lca/bw_temporalis). \n",
                "\n",
                "A `TemporalDistribution` tells you what share of an exchange (*amount array*) happens at what point in time (*dates array*). \n"
            ]
        },
        {
            "cell_type": "markdown",
            "metadata": {},
            "source": [
                "Making up some temporal information:\n",
                "\n",
                "```mermaid\n",
                "flowchart LR\n",
                "subgraph background[\" \"]\n",
                "    B_2020(Process B \\n 2020):::bg\n",
                "    B_2030(Process B \\n 2030):::bg\n",
                "end\n",
                "\n",
                "subgraph foreground[\" \"]\n",
                "    A(Process A):::fg\n",
                "end\n",
                "\n",
                "subgraph biosphere[\" \"]\n",
                "    CO2(CO2):::b\n",
                "end\n",
                "\n",
                "B_2020-->|\"amounts: [30%,50%,20%] * 3 kg\\n dates:[-2,0,+4]\" years|A\n",
                "A-.->|\"amounts: [60%, 40%] * 5 kg\\n dates: [0,+1]\" years|CO2\n",
                "B_2020-.->|\"amounts: [100%] * <span style='color:#9c5ffd'><b>11 kg</b></span>\\n dates:[0]\" years|CO2\n",
                "B_2030-.->|\"amounts: [100%] * <span style='color:#9c5ffd'><b>7 kg</b></span>\\n dates:[0]\" years|CO2\n",
                "\n",
                "classDef bg color:#222832, fill:#3fb1c5, stroke:none;\n",
                "classDef fg color:#222832, fill:#3fb1c5, stroke:none;\n",
                "classDef b color:#222832, fill:#9c5ffd, stroke:none;\n",
                "style foreground fill:none, stroke:none;\n",
                "style background fill:none, stroke:none;\n",
                "style biosphere fill:none, stroke:none;\n",
                "\n",
                "```"
            ]
        },
        {
            "cell_type": "markdown",
            "metadata": {},
            "source": [
                "Pouring this into a `TemporalDistribution`:"
            ]
        },
        {
            "cell_type": "code",
            "execution_count": 4,
            "metadata": {},
            "outputs": [],
            "source": [
                "import numpy as np\n",
                "from bw_temporalis import TemporalDistribution\n",
                "\n",
                "td_b_to_a = TemporalDistribution(\n",
                "    date=np.array([-2, 0, 4], dtype=\"timedelta64[Y]\"),\n",
                "    amount=np.array([0.3, 0.5, 0.2]),\n",
                ")"
            ]
        },
        {
            "cell_type": "markdown",
            "metadata": {},
            "source": [
                "Now we add this `TemporalDistribution` to the corresponding exchange:"
            ]
        },
        {
            "cell_type": "code",
            "execution_count": 5,
            "metadata": {},
            "outputs": [],
            "source": [
                "from bw_timex.utils import add_temporal_distribution_to_exchange\n",
                "\n",
                "add_temporal_distribution_to_exchange(\n",
                "    temporal_distribution=td_b_to_a, \n",
                "    input_code=\"B\", \n",
                "    input_database=\"background_2020\",\n",
                "    output_code=\"A\",\n",
                "    output_database=\"foreground\"\n",
                ")"
            ]
        },
        {
            "cell_type": "markdown",
            "metadata": {},
            "source": [
                "The same for the exchange between A and CO2:"
            ]
        },
        {
            "cell_type": "code",
            "execution_count": 6,
            "metadata": {
                "jupyter": {
                    "source_hidden": true
                }
            },
            "outputs": [],
            "source": [
                "td_a_to_co2 = TemporalDistribution(\n",
                "    date=np.array([0, 1], dtype=\"timedelta64[Y]\"),\n",
                "    amount=np.array([0.6, 0.4]),\n",
                ")\n",
                "\n",
                "# We actually only have to define enough fields to uniquely identify the exchange here\n",
                "add_temporal_distribution_to_exchange(\n",
                "    temporal_distribution=td_a_to_co2, \n",
                "    input_code=\"CO2\", \n",
                "    output_code=\"A\"\n",
                ")"
            ]
        },
        {
            "cell_type": "markdown",
            "metadata": {},
            "source": [
                "## Step 2 - Building the timeline \n",
                "\n",
                "Now we can instantiate a `TimexLCA` object - similarly to a normal Brightway LCA object, but with the additional argument of our `database_dates`.\n",
                "\n",
                "Our demand will be the product of process A:"
            ]
        },
        {
            "cell_type": "code",
            "execution_count": 7,
            "metadata": {},
            "outputs": [],
            "source": [
                "from bw_timex import TimexLCA\n",
                "\n",
                "tlca = TimexLCA(\n",
                "    demand={(\"foreground\", \"A\"): 1},\n",
                "    method=(\"our\", \"method\"),\n",
                "    database_dates=database_dates,\n",
                ")"
            ]
        },
        {
            "cell_type": "markdown",
            "metadata": {},
            "source": [
                "Building the timeline is very simple now. To define when the demand occurs, you can specify a `starting_datetime` (default is \"now\"):"
            ]
        },
        {
            "cell_type": "code",
            "execution_count": 8,
            "metadata": {},
            "outputs": [],
            "source": [
                "tlca.build_timeline(starting_datetime=\"2024-01-01\")"
            ]
        },
        {
            "cell_type": "markdown",
            "metadata": {},
            "source": [
                "The timeline tells us which exchange happens at what time. \n",
                "\n",
                "Also, we see the \"temporal_market_shares\", already giving a hint on how the processes will be re-linked in the next step. For the first row of the timeline, the interpolation weights are:"
            ]
        },
        {
            "cell_type": "code",
            "execution_count": 9,
            "metadata": {},
            "outputs": [],
            "source": [
                "tlca.timeline.temporal_market_shares[0]"
            ]
        },
        {
            "cell_type": "markdown",
            "metadata": {},
            "source": [
                "## Step 3 - Calculating the time-explicit LCI\n",
                "\n",
                "Calculating the time-explicit LCI from the timeline is very simple, at least from the user perspective:\n"
            ]
        },
        {
            "cell_type": "code",
            "execution_count": 10,
            "metadata": {},
            "outputs": [],
            "source": [
                "tlca.lci()"
            ]
        },
        {
            "cell_type": "markdown",
            "metadata": {},
            "source": [
                "Under the hood, before solving the inventory problem, we're re-build the technosphere and biosphere matrices here. More specifically, we add new rows and columns to carry the extra temporal information. Details are explained in the [Theory Section](https://docs.brightway.dev/projects/bw-timex/en/latest/content/theory.html#modifying-the-matrices) of our docs."
            ]
        },
        {
            "cell_type": "markdown",
            "metadata": {},
            "source": [
                "## Step 4 - Impact assessment\n",
                "\n",
                "The impact assessment can be very simple now. To characterize the inventory with the impact assessment method that we initially chose when creating our `TimexLCA`, we can simply call:"
            ]
        },
        {
            "cell_type": "code",
            "execution_count": 11,
            "metadata": {},
            "outputs": [],
            "source": [
                "tlca.static_lcia()\n",
                "tlca.static_score"
            ]
        },
        {
            "cell_type": "markdown",
            "metadata": {},
            "source": [
                "But there's more: Because a `TimexLCA` retains temporal information in the inventory, it also allows for dynamic characterization. To help with that, we created another package, simply called [`dynamic_characterization`](https://dynamic-characterization.readthedocs.io/en/latest/). This is not today's topic, but here's a quick demo:"
            ]
        },
        {
            "cell_type": "code",
            "execution_count": 12,
            "metadata": {
                "jupyter": {
                    "source_hidden": true
                }
            },
            "outputs": [],
            "source": [
                "from dynamic_characterization.ipcc_ar6 import characterize_co2 # <- dynamic characterization function\n",
                "emission_id = bd.get_activity((\"biosphere\", \"CO2\")).id\n",
                "\n",
                "# defining which characterization function to use for which emission\n",
                "characterization_functions = {\n",
                "    emission_id: characterize_co2,\n",
                "}\n",
                "\n",
                "# characterizing the inventory\n",
                "tlca.dynamic_lcia(\n",
                "    metric=\"radiative_forcing\",\n",
                "    time_horizon=100,\n",
                "    characterization_functions=characterization_functions,\n",
                ")\n",
                "\n",
                "tlca.plot_dynamic_characterized_inventory()"
            ]
        },
        {
            "cell_type": "code",
            "execution_count": 13,
            "metadata": {},
            "outputs": [],
            "source": [
                "from bw_timex.utils import plot_characterized_inventory_as_waterfall\n",
                "\n",
                "tlca.dynamic_lcia(\n",
                "    metric=\"GWP\",\n",
                "    time_horizon=100,\n",
                "    characterization_functions=characterization_functions,\n",
                ")\n",
                "\n",
                "plot_characterized_inventory_as_waterfall(tlca)\n"
            ]
        },
        {
            "cell_type": "markdown",
            "metadata": {},
            "source": [
                "## Quick Recap\n",
                "This might have seemed quite lengthy now. But essentially, calculating a `TimexLCA` is just this:"
            ]
        },
        {
            "cell_type": "code",
            "execution_count": 14,
            "metadata": {},
            "outputs": [],
            "source": [
                "tlca = TimexLCA(\n",
                "    demand={(\"foreground\", \"A\"): 1},\n",
                "    method=(\"our\", \"method\"),\n",
                "    database_dates=database_dates,\n",
                ")\n",
                "tlca.build_timeline()\n",
                "tlca.lci()\n",
                "tlca.static_lcia()\n",
                "tlca.static_score"
            ]
        },
        {
            "cell_type": "markdown",
            "metadata": {},
            "source": [
                "For most of the functions we used here, there are numerous optional arguments and settings you can tweak. We explore some of them in our other [Examples](https://docs.brightway.dev/projects/bw-timex/en/latest/content/examples/index.html), but when in doubt: Our code is pretty well documented, see our [API Reference](https://docs.brightway.dev/projects/bw-timex/en/latest/content/api/index.html) - so please browse through that as needed ☀️"
            ]
        }
    ],
    "metadata": {
        "kernelspec": {
            "display_name": "timex_app",
            "language": "python",
            "name": "python3"
        },
        "language_info": {
            "codemirror_mode": {
                "name": "ipython",
                "version": 3
            },
            "file_extension": ".py",
            "mimetype": "text/x-python",
            "name": "python",
            "nbconvert_exporter": "python",
            "pygments_lexer": "ipython3",
            "version": "3.10.16"
        }
    },
    "nbformat": 4,
    "nbformat_minor": 4
}
