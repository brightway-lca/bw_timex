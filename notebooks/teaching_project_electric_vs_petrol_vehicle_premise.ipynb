{
 "cells": [
  {
   "cell_type": "markdown",
   "metadata": {},
   "source": [
    "# `bw_timex` Teaching Exercise - Time-explicit LCA of an Electric Vehicle vs Petrol Vehicle.\n",
    "\n",
    "In this exercise notebook you will compare the climate preformance of a battery electric vehicle (BEV) and an internal combustion engine (ICE) car, in a time explicit way, using in different decarbonisation scenarios. \n",
    "\n",
    "Optional challenge at the end: \n",
    "\n",
    "- using temporal distributions, model the material requirements of a fleet of electric cars/busses.\n"
   ]
  },
  {
   "cell_type": "code",
   "execution_count": null,
   "metadata": {},
   "outputs": [],
   "source": [
    "# first we need to load the correct Brightway2 project with the required databases\n",
    "import bw2data as bd\n",
    "\n",
    "# project_name = \"Timex_teaching\"\n",
    "project_name = \"BAFU_report\"\n",
    "\n",
    "if project_name:# not in bd.projects:\n",
    "    import bw2io as bi\n",
    "    bi.backup.restore_project_directory(fp= '/Users/ajakobs/Documents/SCENE/LCA model/databases/base_projects/brightway2-project-BAFU_report-backup07-November-2024-12-21PM.tar.gz',\n",
    "                                    overwrite_existing=True)\n",
    "\n",
    "bd.projects.set_current(project_name)"
   ]
  },
  {
   "cell_type": "code",
   "execution_count": null,
   "metadata": {},
   "outputs": [],
   "source": [
    "# check the databases present\n",
    "print(bd.databases)"
   ]
  },
  {
   "cell_type": "markdown",
   "metadata": {},
   "source": [
    "## Prospective background databases\n",
    "\n",
    "We used `premise` to create two different sets of 'ecoinvent-databases' representing two different carbonisation pathways. They are the based on the REMIND-EU IAM for the SSP2 scenario in combination with Paris Agreement consistent policies (PkBud650) as an (very) optimistic scenario, and the 'national policies implemented' (NPi) as a business as usual (BAU) scenario:\n",
    "\n",
    "- REMIND-EU - SSP2-NPi       : BAU scenario with ~3˚ warming by 2100\n",
    "- REMIND-EU - SSP2-PkBudg650 : Optimistic scenario in line with Paris 2015 with 1.5˚-1.9˚ warming bby 2100\n",
    "\n",
    "(See [the Premise documentation](https://premise.readthedocs.io/en/latest/introduction.html#default-iam-scenarios) for a brief overview of the IAM scenarios) \n",
    "\n"
   ]
  },
  {
   "cell_type": "code",
   "execution_count": null,
   "metadata": {},
   "outputs": [],
   "source": []
  },
  {
   "cell_type": "code",
   "execution_count": 3,
   "metadata": {},
   "outputs": [],
   "source": [
    "# Let's get easy handles for the databases for ease of use:\n",
    "\n",
    "db_2020 = bd.Database(\"ei_cutoff_3.10_image_SSP2-Base_2020 2024-11-07\")\n",
    "db_2030 = bd.Database(\"ei_cutoff_3.10_image_SSP2-Base_2030 2024-11-07\")\n",
    "db_2040 = bd.Database(\"ei_cutoff_3.10_image_SSP2-Base_2040 2024-11-07\")\n",
    "db_2050 = bd.Database(\"ei_cutoff_3.10_image_SSP2-Base_2050 2024-11-07\")\n"
   ]
  },
  {
   "cell_type": "code",
   "execution_count": 4,
   "metadata": {},
   "outputs": [],
   "source": [
    "# db_2020_NPi = bd.Database(\"ei_cutoff_3.11_remind-eu_SSP2-NPi_2020 2025-10-01\")\n",
    "# db_2030_NPi = bd.Database(\"ei_cutoff_3.11_remind-eu_SSP2-NPi_2030 2025-10-01\")\n",
    "# db_2040_NPi = bd.Database(\"ei_cutoff_3.11_remind-eu_SSP2-NPi_2040 2025-10-01\")\n",
    "# db_2050_NPi = bd.Database(\"ei_cutoff_3.11_remind-eu_SSP2-NPi_2050 2025-10-01\")"
   ]
  },
  {
   "cell_type": "markdown",
   "metadata": {},
   "source": [
    "## Case study setup\n",
    "\n",
    "In this exercise we will go about setting up the forground system in a slightly different way. In our case driving a(n electric) car is already represented in ecoinvent. So all we would need to do is to add the temporal distributions to the exchanges. In the current implementation of `bw_timex`, all activities \n",
    "containing temporal information on the exchanges need to 'live' in the foreground system, so that their inputs can get linked to different background activities.\n",
    "\n",
    "Let's start the definition of our functional unit (FU): \n",
    "\n",
    "- Driving a passenger car for 200,000km (including production, EoL treatment, maintenance, etc), over a period of 15 years.\n",
    "\n",
    "\n"
   ]
  },
  {
   "cell_type": "markdown",
   "metadata": {},
   "source": [
    "### Modeling the production system\n",
    "\n",
    "As a first step of modelling the production system let's create a new foreground database:\n"
   ]
  },
  {
   "cell_type": "code",
   "execution_count": 5,
   "metadata": {},
   "outputs": [],
   "source": [
    "fg_db_name = \"foreground\"\n",
    "\n",
    "if fg_db_name in bd.databases:\n",
    "    del bd.databases[fg_db_name] # to make sure we create the foreground from scratch\n",
    "foreground = bd.Database(fg_db_name)\n",
    "foreground.register()"
   ]
  },
  {
   "cell_type": "markdown",
   "metadata": {},
   "source": [
    "And let's define the FU relevant quantities: "
   ]
  },
  {
   "cell_type": "code",
   "execution_count": null,
   "metadata": {},
   "outputs": [],
   "source": [
    "LIFETIME_KM = 200000.  # lifetime of the vehicle in km\n",
    "LIFETIME = 15  # lifetime of the vehicle in years\n",
    "ANNUAL_KM = LIFETIME_KM / LIFETIME  # annual km"
   ]
  },
  {
   "cell_type": "markdown",
   "metadata": {},
   "source": [
    "Now let's create two activities in the foreground that represent the functional units as defined above (production/driving/EoL treatment of a car for 200,000km over 15 years). We can call them LC_BEV and LC_ICEC for example (LC=life cyle)"
   ]
  },
  {
   "cell_type": "code",
   "execution_count": null,
   "metadata": {},
   "outputs": [],
   "source": []
  },
  {
   "cell_type": "markdown",
   "metadata": {},
   "source": [
    "Ecoinvent already contains activities that represent transport with a passenger car. So let's get the following two activities from the base database** for the BAU scenario and create a copy in our foreground database:\n",
    "\n",
    "- Driving a gasoline car: \"transport, passenger car, gasoline, Medium SUV, EURO-6\"\n",
    "- Driving a BEV: \"transport, passenger car, gasoline, Medium SUV, EURO-6\"\n",
    "\n",
    "HINT: copy to a different database by first copying the activity and then changing the database.\n",
    "\n",
    "** We consider that as our base year and db_2020 as the 'base' database"
   ]
  },
  {
   "cell_type": "code",
   "execution_count": null,
   "metadata": {},
   "outputs": [],
   "source": []
  },
  {
   "cell_type": "markdown",
   "metadata": {},
   "source": [
    "The Reference product of these activities should be 1 km traveled by the resepctive vehicle, but let's check the reference product and its unit:"
   ]
  },
  {
   "cell_type": "code",
   "execution_count": null,
   "metadata": {},
   "outputs": [],
   "source": []
  },
  {
   "cell_type": "markdown",
   "metadata": {},
   "source": [
    "Have a look at what the inputs into such a car is and identify the relevant exchanges:"
   ]
  },
  {
   "cell_type": "code",
   "execution_count": null,
   "metadata": {},
   "outputs": [],
   "source": []
  },
  {
   "cell_type": "code",
   "execution_count": null,
   "metadata": {},
   "outputs": [],
   "source": []
  },
  {
   "cell_type": "markdown",
   "metadata": {},
   "source": [
    "These activities include both the car, which in itself contains both production and EoL treatment (check this!!), as well as the fuel/electricity, maintenance and wear etc. Now we want to model the production and EoL treatment of car and it's elements separately so let's make a copy of these activities in the foreground so that we can add temporal distributions to the production and EoL.\n",
    "\n",
    "At the same time we want to split the driving and production/EoL so set the input of the car into the driving activity to 0 to avoid double counting."
   ]
  },
  {
   "cell_type": "code",
   "execution_count": null,
   "metadata": {},
   "outputs": [],
   "source": []
  },
  {
   "cell_type": "code",
   "execution_count": null,
   "metadata": {},
   "outputs": [],
   "source": []
  },
  {
   "cell_type": "markdown",
   "metadata": {},
   "source": [
    "Now it is time to add the relevant exchanges to the functional unit activities together with relevant temporal distributions. Be carefull to add the temporal distribution to poduction and EoL at the right exchnage, so that production happens before the use phase but EoL after the use phase. \n",
    "\n",
    "Tipp: for ease of use, or if you forgot how to define temporal distributions you can use the interactive_td_widget!\n",
    "\n",
    "Tipp 2: Use the utility function add_temporal_distribution_to_exchange to add the temporal distribution to the EoL of the production/EoL activity of the cars. \n"
   ]
  },
  {
   "cell_type": "code",
   "execution_count": null,
   "metadata": {},
   "outputs": [],
   "source": []
  },
  {
   "cell_type": "code",
   "execution_count": null,
   "metadata": {},
   "outputs": [],
   "source": []
  },
  {
   "cell_type": "code",
   "execution_count": null,
   "metadata": {},
   "outputs": [],
   "source": []
  },
  {
   "cell_type": "code",
   "execution_count": null,
   "metadata": {},
   "outputs": [],
   "source": []
  },
  {
   "cell_type": "code",
   "execution_count": null,
   "metadata": {},
   "outputs": [],
   "source": []
  },
  {
   "cell_type": "markdown",
   "metadata": {},
   "source": [
    "### Checking all went right\n",
    "\n",
    "Now before calculating the time-explicit LCA, make sure that everything went right so far. As a check, the standard LCA score of the original transport activity with the corresponding amount should be equal the standard LCA of the modified life cycle activity created in the foreground!"
   ]
  },
  {
   "cell_type": "code",
   "execution_count": null,
   "metadata": {},
   "outputs": [],
   "source": []
  },
  {
   "cell_type": "code",
   "execution_count": null,
   "metadata": {},
   "outputs": [],
   "source": []
  },
  {
   "cell_type": "code",
   "execution_count": null,
   "metadata": {},
   "outputs": [],
   "source": []
  },
  {
   "cell_type": "markdown",
   "metadata": {},
   "source": [
    "## Time-explicit LCA with `bw_timex`"
   ]
  },
  {
   "cell_type": "markdown",
   "metadata": {},
   "source": [
    "Now we can start using `bw_timex` to build the process timeline, build the time-explicit inventory and calculate the time explicit scores.\n",
    "\n",
    "Start by creating a dictionary mapping the respective databases to the relevant timestamps. \n",
    "Then instantiate your timexLCA object, build the timeline, calculate the lci, and the LCIA for both options.\n"
   ]
  },
  {
   "cell_type": "code",
   "execution_count": null,
   "metadata": {},
   "outputs": [],
   "source": []
  },
  {
   "cell_type": "code",
   "execution_count": null,
   "metadata": {},
   "outputs": [],
   "source": []
  },
  {
   "cell_type": "code",
   "execution_count": null,
   "metadata": {},
   "outputs": [],
   "source": [
    "\n"
   ]
  },
  {
   "cell_type": "code",
   "execution_count": null,
   "metadata": {},
   "outputs": [],
   "source": [
    "\n"
   ]
  },
  {
   "cell_type": "code",
   "execution_count": null,
   "metadata": {},
   "outputs": [],
   "source": []
  },
  {
   "cell_type": "code",
   "execution_count": null,
   "metadata": {},
   "outputs": [],
   "source": []
  },
  {
   "cell_type": "code",
   "execution_count": null,
   "metadata": {},
   "outputs": [],
   "source": []
  },
  {
   "cell_type": "markdown",
   "metadata": {},
   "source": [
    "## Visualise Results and compare the different cars and scenarios\n",
    "\n",
    "now find a good way to visualise the results. There are some simple plotting functions included such as plot_dynamic_inventory().\n",
    "\n",
    "Run the other scenario to see the differences for both cars. "
   ]
  },
  {
   "cell_type": "code",
   "execution_count": null,
   "metadata": {},
   "outputs": [],
   "source": []
  },
  {
   "cell_type": "code",
   "execution_count": null,
   "metadata": {},
   "outputs": [],
   "source": []
  },
  {
   "cell_type": "markdown",
   "metadata": {},
   "source": [
    "## BONUS options:\n",
    "\n",
    "- Use dynamic_lcia(use_disaggregated_lci=TRUE) to perform a contribution analysis on the background activities contributing to the impacts. (Note that this function can take a while), find a good way to visualize thi\n",
    "\n",
    "- Adavanced: Use temporal distritbutions to modell a fleet (of changing composition). (hint a for a fleet some cars will live longer, some shorter. This can be modelled using a distribution for the usephase and the EoL)\n",
    "\n",
    "\n",
    "\n"
   ]
  },
  {
   "cell_type": "markdown",
   "metadata": {},
   "source": []
  }
 ],
 "metadata": {
  "kernelspec": {
   "display_name": "timex_new",
   "language": "python",
   "name": "python3"
  },
  "language_info": {
   "codemirror_mode": {
    "name": "ipython",
    "version": 3
   },
   "file_extension": ".py",
   "mimetype": "text/x-python",
   "name": "python",
   "nbconvert_exporter": "python",
   "pygments_lexer": "ipython3",
   "version": "3.11.13"
  }
 },
 "nbformat": 4,
 "nbformat_minor": 4
}
