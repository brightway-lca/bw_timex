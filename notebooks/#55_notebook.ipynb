{
 "cells": [
  {
   "cell_type": "markdown",
   "metadata": {},
   "source": [
    "trying to replicate a system that results in different scores\n",
    "because of "
   ]
  },
  {
   "cell_type": "code",
   "execution_count": 1,
   "metadata": {},
   "outputs": [
    {
     "name": "stdout",
     "output_type": "stream",
     "text": [
      "(4, 0, 'dev46')\n",
      "2.0.DEV23\n",
      "0.9.DEV31\n",
      "0.3.0\n"
     ]
    }
   ],
   "source": [
    "import bw2data as bd\n",
    "print(bd.__version__)\n",
    "\n",
    "import bw2calc as bc\n",
    "print(bc.__version__)\n",
    "\n",
    "import bw2io as bi\n",
    "print(bi.__version__)\n",
    "\n",
    "import bw_timex\n",
    "print(bw_timex.__version__)\n",
    "\n",
    "from datetime import datetime\n",
    "from bw_timex import TimexLCA"
   ]
  },
  {
   "cell_type": "markdown",
   "metadata": {},
   "source": [
    "## orig system from tests"
   ]
  },
  {
   "cell_type": "code",
   "execution_count": 2,
   "metadata": {},
   "outputs": [
    {
     "name": "stderr",
     "output_type": "stream",
     "text": [
      "100%|██████████| 1/1 [00:00<?, ?it/s]"
     ]
    },
    {
     "name": "stdout",
     "output_type": "stream",
     "text": [
      "Vacuuming database \n"
     ]
    },
    {
     "name": "stderr",
     "output_type": "stream",
     "text": [
      "\n"
     ]
    },
    {
     "name": "stdout",
     "output_type": "stream",
     "text": [
      "Not able to determine geocollections for all datasets. This database is not ready for regionalization.\n"
     ]
    },
    {
     "name": "stderr",
     "output_type": "stream",
     "text": [
      "100%|██████████| 1/1 [00:00<?, ?it/s]\n"
     ]
    },
    {
     "name": "stdout",
     "output_type": "stream",
     "text": [
      "Vacuuming database \n",
      "Not able to determine geocollections for all datasets. This database is not ready for regionalization.\n"
     ]
    },
    {
     "name": "stderr",
     "output_type": "stream",
     "text": [
      "100%|██████████| 2/2 [00:00<00:00, 14027.77it/s]"
     ]
    },
    {
     "name": "stdout",
     "output_type": "stream",
     "text": [
      "Vacuuming database \n"
     ]
    },
    {
     "name": "stderr",
     "output_type": "stream",
     "text": [
      "\n"
     ]
    }
   ],
   "source": [
    "bd.projects.set_current(\"__test_nonunitary__\")\n",
    "bd.Database(\"bio\").write(\n",
    "    {\n",
    "        (\"bio\", \"CO2\"): {\n",
    "            \"type\": \"emission\",\n",
    "            \"name\": \"carbon dioxide\",\n",
    "        },\n",
    "    },\n",
    ")\n",
    "bd.Database(\"db_2020\").write(\n",
    "    {\n",
    "        (\"db_2020\", \"C\"): {\n",
    "            \"name\": \"c\",\n",
    "            \"location\": \"somewhere\",\n",
    "            \"reference product\": \"c\",\n",
    "            \"exchanges\": [\n",
    "                {\n",
    "                    \"amount\": 3,  # produces a non unitary (not 1) amount\n",
    "                    \"type\": \"production\",\n",
    "                    \"input\": (\"db_2020\", \"C\"),\n",
    "                },\n",
    "                {\n",
    "                    \"amount\": 0.5,\n",
    "                    \"type\": \"biosphere\",\n",
    "                    \"input\": (\"bio\", \"CO2\"),\n",
    "                },\n",
    "            ],\n",
    "        },\n",
    "    }\n",
    ")\n",
    "\n",
    "bd.Database(\"foreground\").write(\n",
    "    {\n",
    "        (\"foreground\", \"A\"): {\n",
    "            \"name\": \"a\",\n",
    "            \"location\": \"somewhere\",\n",
    "            \"reference product\": \"a\",\n",
    "            \"exchanges\": [\n",
    "                {\n",
    "                    \"amount\": 1,\n",
    "                    \"type\": \"production\",\n",
    "                    \"input\": (\"foreground\", \"A\"),\n",
    "                },\n",
    "                {\n",
    "                    \"amount\": 1.5,\n",
    "                    \"type\": \"technosphere\",\n",
    "                    \"input\": (\"db_2020\", \"C\"),\n",
    "                },\n",
    "                {\n",
    "                    \"amount\": 4,\n",
    "                    \"type\": \"technosphere\",\n",
    "                    \"input\": (\"foreground\", \"B\"),\n",
    "                },\n",
    "            ],\n",
    "        },\n",
    "        (\"foreground\", \"B\"): {\n",
    "            \"name\": \"b\",\n",
    "            \"location\": \"somewhere\",\n",
    "            \"reference product\": \"b\",\n",
    "            \"exchanges\": [\n",
    "                {\n",
    "                    \"amount\": 7,  # produces a non unitary (not 1) amount\n",
    "                    \"type\": \"production\",\n",
    "                    \"input\": (\"foreground\", \"B\"),\n",
    "                },\n",
    "                {\n",
    "                    \"amount\": 0.9,\n",
    "                    \"type\": \"biosphere\",\n",
    "                    \"input\": (\"bio\", \"CO2\"),\n",
    "                },\n",
    "                \n",
    "            ],\n",
    "        },\n",
    "    }\n",
    ")\n",
    "\n",
    "bd.Method((\"GWP\", \"example\")).write(\n",
    "    [\n",
    "        ((\"bio\", \"CO2\"), 1),\n",
    "    ]\n",
    ")\n"
   ]
  },
  {
   "cell_type": "code",
   "execution_count": 3,
   "metadata": {},
   "outputs": [
    {
     "name": "stderr",
     "output_type": "stream",
     "text": [
      "\u001b[32m2025-03-21 12:12:39.264\u001b[0m | \u001b[1mINFO    \u001b[0m | \u001b[36mbw_timex.timex_lca\u001b[0m:\u001b[36mbuild_timeline\u001b[0m:\u001b[36m217\u001b[0m - \u001b[1mNo edge filter function provided. Skipping all edges in background databases.\u001b[0m\n",
      "\u001b[32m2025-03-21 12:12:39.314\u001b[0m | \u001b[1mINFO    \u001b[0m | \u001b[36mbw_timex.timeline_builder\u001b[0m:\u001b[36mget_weights_for_interpolation_between_nearest_years\u001b[0m:\u001b[36m520\u001b[0m - \u001b[1mReference date 2024-01-01 00:00:00 is lower than all provided dates. Data will be taken from the closest higher year.\u001b[0m\n"
     ]
    },
    {
     "name": "stdout",
     "output_type": "stream",
     "text": [
      "Starting graph traversal\n",
      "Calculation count: 2\n"
     ]
    },
    {
     "name": "stderr",
     "output_type": "stream",
     "text": [
      "\u001b[32m2025-03-21 12:12:39.315\u001b[0m | \u001b[1mINFO    \u001b[0m | \u001b[36mbw_timex.timeline_builder\u001b[0m:\u001b[36mget_weights_for_interpolation_between_nearest_years\u001b[0m:\u001b[36m520\u001b[0m - \u001b[1mReference date 2024-01-01 00:00:00 is lower than all provided dates. Data will be taken from the closest higher year.\u001b[0m\n",
      "\u001b[32m2025-03-21 12:12:39.316\u001b[0m | \u001b[1mINFO    \u001b[0m | \u001b[36mbw_timex.timeline_builder\u001b[0m:\u001b[36mget_weights_for_interpolation_between_nearest_years\u001b[0m:\u001b[36m520\u001b[0m - \u001b[1mReference date 2024-01-01 00:00:00 is lower than all provided dates. Data will be taken from the closest higher year.\u001b[0m\n"
     ]
    },
    {
     "data": {
      "application/vnd.microsoft.datawrangler.viewer.v0+json": {
       "columns": [
        {
         "name": "index",
         "rawType": "int64",
         "type": "integer"
        },
        {
         "name": "date_producer",
         "rawType": "datetime64[ns]",
         "type": "datetime"
        },
        {
         "name": "producer_name",
         "rawType": "object",
         "type": "string"
        },
        {
         "name": "date_consumer",
         "rawType": "datetime64[ns]",
         "type": "datetime"
        },
        {
         "name": "consumer_name",
         "rawType": "object",
         "type": "string"
        },
        {
         "name": "amount",
         "rawType": "object",
         "type": "unknown"
        },
        {
         "name": "temporal_market_shares",
         "rawType": "object",
         "type": "unknown"
        }
       ],
       "conversionMethod": "pd.DataFrame",
       "ref": "0fda78ff-f1e6-4941-96bd-99ba02750063",
       "rows": [
        [
         "0",
         "2024-01-01 00:00:00",
         "c",
         "2024-01-01 00:00:00",
         "a",
         "1.5",
         "{'db_2020': 1}"
        ],
        [
         "1",
         "2024-01-01 00:00:00",
         "a",
         "2024-01-01 00:00:00",
         "-1",
         "1.0",
         null
        ],
        [
         "2",
         "2024-01-01 00:00:00",
         "b",
         "2024-01-01 00:00:00",
         "a",
         "4.0",
         null
        ]
       ],
       "shape": {
        "columns": 6,
        "rows": 3
       }
      },
      "text/html": [
       "<div>\n",
       "<style scoped>\n",
       "    .dataframe tbody tr th:only-of-type {\n",
       "        vertical-align: middle;\n",
       "    }\n",
       "\n",
       "    .dataframe tbody tr th {\n",
       "        vertical-align: top;\n",
       "    }\n",
       "\n",
       "    .dataframe thead th {\n",
       "        text-align: right;\n",
       "    }\n",
       "</style>\n",
       "<table border=\"1\" class=\"dataframe\">\n",
       "  <thead>\n",
       "    <tr style=\"text-align: right;\">\n",
       "      <th></th>\n",
       "      <th>date_producer</th>\n",
       "      <th>producer_name</th>\n",
       "      <th>date_consumer</th>\n",
       "      <th>consumer_name</th>\n",
       "      <th>amount</th>\n",
       "      <th>temporal_market_shares</th>\n",
       "    </tr>\n",
       "  </thead>\n",
       "  <tbody>\n",
       "    <tr>\n",
       "      <th>0</th>\n",
       "      <td>2024-01-01</td>\n",
       "      <td>c</td>\n",
       "      <td>2024-01-01</td>\n",
       "      <td>a</td>\n",
       "      <td>1.5</td>\n",
       "      <td>{'db_2020': 1}</td>\n",
       "    </tr>\n",
       "    <tr>\n",
       "      <th>1</th>\n",
       "      <td>2024-01-01</td>\n",
       "      <td>a</td>\n",
       "      <td>2024-01-01</td>\n",
       "      <td>-1</td>\n",
       "      <td>1.0</td>\n",
       "      <td>None</td>\n",
       "    </tr>\n",
       "    <tr>\n",
       "      <th>2</th>\n",
       "      <td>2024-01-01</td>\n",
       "      <td>b</td>\n",
       "      <td>2024-01-01</td>\n",
       "      <td>a</td>\n",
       "      <td>4.0</td>\n",
       "      <td>None</td>\n",
       "    </tr>\n",
       "  </tbody>\n",
       "</table>\n",
       "</div>"
      ],
      "text/plain": [
       "  date_producer producer_name date_consumer consumer_name amount  \\\n",
       "0    2024-01-01             c    2024-01-01             a    1.5   \n",
       "1    2024-01-01             a    2024-01-01            -1    1.0   \n",
       "2    2024-01-01             b    2024-01-01             a    4.0   \n",
       "\n",
       "  temporal_market_shares  \n",
       "0         {'db_2020': 1}  \n",
       "1                   None  \n",
       "2                   None  "
      ]
     },
     "execution_count": 3,
     "metadata": {},
     "output_type": "execute_result"
    }
   ],
   "source": [
    "bd.projects.set_current(\"__test_nonunitary__\")\n",
    "\n",
    "node_a = bd.get_node(database=\"foreground\", code=\"A\")\n",
    "\n",
    "database_dates = {\n",
    "    \"db_2020\": datetime.strptime(\"2020\", \"%Y\"), #one or two dbs don't make a difference\n",
    "    \"db_2020\": datetime.strptime(\"2030\", \"%Y\"),\n",
    "    \"foreground\": \"dynamic\",\n",
    "}\n",
    "\n",
    "tlca = TimexLCA(\n",
    "    demand={node_a: 1},\n",
    "    method=(\"GWP\", \"example\"),\n",
    "    database_dates=database_dates,\n",
    ")\n",
    "\n",
    "tlca.build_timeline(\n",
    "    starting_datetime=datetime.strptime(\"2024-01-02\", \"%Y-%m-%d\"),\n",
    ")\n",
    "\n"
   ]
  },
  {
   "cell_type": "code",
   "execution_count": 4,
   "metadata": {},
   "outputs": [
    {
     "name": "stdout",
     "output_type": "stream",
     "text": [
      "'a' (None, somewhere, None)\n",
      "0.7642857142857142\n",
      "0.7642857006617955\n",
      "0.9999999821743119\n"
     ]
    },
    {
     "name": "stderr",
     "output_type": "stream",
     "text": [
      "c:\\Users\\MULLERA\\AppData\\Local\\anaconda3\\envs\\test_env1\\Lib\\site-packages\\scipy\\sparse\\linalg\\_dsolve\\linsolve.py:603: SparseEfficiencyWarning: splu converted its input to CSC format\n",
      "  return splu(A).solve\n"
     ]
    }
   ],
   "source": [
    "tlca.lci()\n",
    "tlca.static_lcia()\n",
    "print(node_a)\n",
    "print(tlca.static_score)\n",
    "print(tlca.base_lca.score)\n",
    "print(tlca.base_lca.score/tlca.static_score)"
   ]
  },
  {
   "cell_type": "code",
   "execution_count": 5,
   "metadata": {},
   "outputs": [
    {
     "data": {
      "application/vnd.microsoft.datawrangler.viewer.v0+json": {
       "columns": [
        {
         "name": "index",
         "rawType": "object",
         "type": "unknown"
        },
        {
         "name": "(('db_2020', 'C'), 2030)",
         "rawType": "float64",
         "type": "float"
        },
        {
         "name": "(('foreground', 'A'), 'dynamic')",
         "rawType": "float64",
         "type": "float"
        },
        {
         "name": "(('foreground', 'B'), 'dynamic')",
         "rawType": "float64",
         "type": "float"
        },
        {
         "name": "(('temporalized', 'C'), 2024)",
         "rawType": "float64",
         "type": "float"
        },
        {
         "name": "(('temporalized', 'A'), 2024)",
         "rawType": "float64",
         "type": "float"
        },
        {
         "name": "(('temporalized', 'B'), 2024)",
         "rawType": "float64",
         "type": "float"
        }
       ],
       "conversionMethod": "pd.DataFrame",
       "ref": "a15800e4-a9e7-4413-b14d-2f198a56a102",
       "rows": [
        [
         "(('db_2020', 'C'), 2030)",
         "3.0",
         "-1.5",
         "0.0",
         "-1.0",
         "0.0",
         "0.0"
        ],
        [
         "(('foreground', 'A'), 'dynamic')",
         "0.0",
         "1.0",
         "0.0",
         "0.0",
         "0.0",
         "0.0"
        ],
        [
         "(('foreground', 'B'), 'dynamic')",
         "0.0",
         "-4.0",
         "7.0",
         "0.0",
         "0.0",
         "0.0"
        ],
        [
         "(('temporalized', 'C'), 2024)",
         "0.0",
         "0.0",
         "0.0",
         "1.0",
         "-1.5",
         "0.0"
        ],
        [
         "(('temporalized', 'A'), 2024)",
         "0.0",
         "0.0",
         "0.0",
         "0.0",
         "1.0",
         "0.0"
        ],
        [
         "(('temporalized', 'B'), 2024)",
         "0.0",
         "0.0",
         "0.0",
         "0.0",
         "-4.0",
         "7.0"
        ]
       ],
       "shape": {
        "columns": 6,
        "rows": 6
       }
      },
      "text/html": [
       "<div>\n",
       "<style scoped>\n",
       "    .dataframe tbody tr th:only-of-type {\n",
       "        vertical-align: middle;\n",
       "    }\n",
       "\n",
       "    .dataframe tbody tr th {\n",
       "        vertical-align: top;\n",
       "    }\n",
       "\n",
       "    .dataframe thead th {\n",
       "        text-align: right;\n",
       "    }\n",
       "</style>\n",
       "<table border=\"1\" class=\"dataframe\">\n",
       "  <thead>\n",
       "    <tr style=\"text-align: right;\">\n",
       "      <th></th>\n",
       "      <th>((db_2020, C), 2030)</th>\n",
       "      <th>((foreground, A), dynamic)</th>\n",
       "      <th>((foreground, B), dynamic)</th>\n",
       "      <th>((temporalized, C), 2024)</th>\n",
       "      <th>((temporalized, A), 2024)</th>\n",
       "      <th>((temporalized, B), 2024)</th>\n",
       "    </tr>\n",
       "  </thead>\n",
       "  <tbody>\n",
       "    <tr>\n",
       "      <th>((db_2020, C), 2030)</th>\n",
       "      <td>3.0</td>\n",
       "      <td>-1.5</td>\n",
       "      <td>0.0</td>\n",
       "      <td>-1.0</td>\n",
       "      <td>0.0</td>\n",
       "      <td>0.0</td>\n",
       "    </tr>\n",
       "    <tr>\n",
       "      <th>((foreground, A), dynamic)</th>\n",
       "      <td>0.0</td>\n",
       "      <td>1.0</td>\n",
       "      <td>0.0</td>\n",
       "      <td>0.0</td>\n",
       "      <td>0.0</td>\n",
       "      <td>0.0</td>\n",
       "    </tr>\n",
       "    <tr>\n",
       "      <th>((foreground, B), dynamic)</th>\n",
       "      <td>0.0</td>\n",
       "      <td>-4.0</td>\n",
       "      <td>7.0</td>\n",
       "      <td>0.0</td>\n",
       "      <td>0.0</td>\n",
       "      <td>0.0</td>\n",
       "    </tr>\n",
       "    <tr>\n",
       "      <th>((temporalized, C), 2024)</th>\n",
       "      <td>0.0</td>\n",
       "      <td>0.0</td>\n",
       "      <td>0.0</td>\n",
       "      <td>1.0</td>\n",
       "      <td>-1.5</td>\n",
       "      <td>0.0</td>\n",
       "    </tr>\n",
       "    <tr>\n",
       "      <th>((temporalized, A), 2024)</th>\n",
       "      <td>0.0</td>\n",
       "      <td>0.0</td>\n",
       "      <td>0.0</td>\n",
       "      <td>0.0</td>\n",
       "      <td>1.0</td>\n",
       "      <td>0.0</td>\n",
       "    </tr>\n",
       "    <tr>\n",
       "      <th>((temporalized, B), 2024)</th>\n",
       "      <td>0.0</td>\n",
       "      <td>0.0</td>\n",
       "      <td>0.0</td>\n",
       "      <td>0.0</td>\n",
       "      <td>-4.0</td>\n",
       "      <td>7.0</td>\n",
       "    </tr>\n",
       "  </tbody>\n",
       "</table>\n",
       "</div>"
      ],
      "text/plain": [
       "                            ((db_2020, C), 2030)  ((foreground, A), dynamic)  \\\n",
       "((db_2020, C), 2030)                         3.0                        -1.5   \n",
       "((foreground, A), dynamic)                   0.0                         1.0   \n",
       "((foreground, B), dynamic)                   0.0                        -4.0   \n",
       "((temporalized, C), 2024)                    0.0                         0.0   \n",
       "((temporalized, A), 2024)                    0.0                         0.0   \n",
       "((temporalized, B), 2024)                    0.0                         0.0   \n",
       "\n",
       "                            ((foreground, B), dynamic)  \\\n",
       "((db_2020, C), 2030)                               0.0   \n",
       "((foreground, A), dynamic)                         0.0   \n",
       "((foreground, B), dynamic)                         7.0   \n",
       "((temporalized, C), 2024)                          0.0   \n",
       "((temporalized, A), 2024)                          0.0   \n",
       "((temporalized, B), 2024)                          0.0   \n",
       "\n",
       "                            ((temporalized, C), 2024)  \\\n",
       "((db_2020, C), 2030)                             -1.0   \n",
       "((foreground, A), dynamic)                        0.0   \n",
       "((foreground, B), dynamic)                        0.0   \n",
       "((temporalized, C), 2024)                         1.0   \n",
       "((temporalized, A), 2024)                         0.0   \n",
       "((temporalized, B), 2024)                         0.0   \n",
       "\n",
       "                            ((temporalized, A), 2024)  \\\n",
       "((db_2020, C), 2030)                              0.0   \n",
       "((foreground, A), dynamic)                        0.0   \n",
       "((foreground, B), dynamic)                        0.0   \n",
       "((temporalized, C), 2024)                        -1.5   \n",
       "((temporalized, A), 2024)                         1.0   \n",
       "((temporalized, B), 2024)                        -4.0   \n",
       "\n",
       "                            ((temporalized, B), 2024)  \n",
       "((db_2020, C), 2030)                              0.0  \n",
       "((foreground, A), dynamic)                        0.0  \n",
       "((foreground, B), dynamic)                        0.0  \n",
       "((temporalized, C), 2024)                         0.0  \n",
       "((temporalized, A), 2024)                         0.0  \n",
       "((temporalized, B), 2024)                         7.0  "
      ]
     },
     "execution_count": 5,
     "metadata": {},
     "output_type": "execute_result"
    }
   ],
   "source": [
    "dyn_tech = tlca.create_labelled_technosphere_dataframe()\n",
    "dyn_tech"
   ]
  },
  {
   "cell_type": "code",
   "execution_count": 6,
   "metadata": {},
   "outputs": [
    {
     "data": {
      "application/vnd.microsoft.datawrangler.viewer.v0+json": {
       "columns": [
        {
         "name": "index",
         "rawType": "object",
         "type": "unknown"
        },
        {
         "name": "(('db_2020', 'C'), 2030)",
         "rawType": "float64",
         "type": "float"
        },
        {
         "name": "(('foreground', 'A'), 'dynamic')",
         "rawType": "float64",
         "type": "float"
        },
        {
         "name": "(('foreground', 'B'), 'dynamic')",
         "rawType": "float64",
         "type": "float"
        },
        {
         "name": "(('temporalized', 'C'), 2024)",
         "rawType": "float64",
         "type": "float"
        },
        {
         "name": "(('temporalized', 'A'), 2024)",
         "rawType": "float64",
         "type": "float"
        },
        {
         "name": "(('temporalized', 'B'), 2024)",
         "rawType": "float64",
         "type": "float"
        }
       ],
       "conversionMethod": "pd.DataFrame",
       "ref": "1e540551-e782-40b6-a14f-beda43eaf6d2",
       "rows": [
        [
         "(128, numpy.datetime64('2024-01-01T00:00:00'))",
         "0.0",
         "0.0",
         "0.0",
         "0.16666666666666663",
         "0.0",
         "0.9"
        ]
       ],
       "shape": {
        "columns": 6,
        "rows": 1
       }
      },
      "text/html": [
       "<div>\n",
       "<style scoped>\n",
       "    .dataframe tbody tr th:only-of-type {\n",
       "        vertical-align: middle;\n",
       "    }\n",
       "\n",
       "    .dataframe tbody tr th {\n",
       "        vertical-align: top;\n",
       "    }\n",
       "\n",
       "    .dataframe thead th {\n",
       "        text-align: right;\n",
       "    }\n",
       "</style>\n",
       "<table border=\"1\" class=\"dataframe\">\n",
       "  <thead>\n",
       "    <tr style=\"text-align: right;\">\n",
       "      <th></th>\n",
       "      <th>((db_2020, C), 2030)</th>\n",
       "      <th>((foreground, A), dynamic)</th>\n",
       "      <th>((foreground, B), dynamic)</th>\n",
       "      <th>((temporalized, C), 2024)</th>\n",
       "      <th>((temporalized, A), 2024)</th>\n",
       "      <th>((temporalized, B), 2024)</th>\n",
       "    </tr>\n",
       "  </thead>\n",
       "  <tbody>\n",
       "    <tr>\n",
       "      <th>(128, 2024-01-01T00:00:00)</th>\n",
       "      <td>0.0</td>\n",
       "      <td>0.0</td>\n",
       "      <td>0.0</td>\n",
       "      <td>0.166667</td>\n",
       "      <td>0.0</td>\n",
       "      <td>0.9</td>\n",
       "    </tr>\n",
       "  </tbody>\n",
       "</table>\n",
       "</div>"
      ],
      "text/plain": [
       "                            ((db_2020, C), 2030)  ((foreground, A), dynamic)  \\\n",
       "(128, 2024-01-01T00:00:00)                   0.0                         0.0   \n",
       "\n",
       "                            ((foreground, B), dynamic)  \\\n",
       "(128, 2024-01-01T00:00:00)                         0.0   \n",
       "\n",
       "                            ((temporalized, C), 2024)  \\\n",
       "(128, 2024-01-01T00:00:00)                   0.166667   \n",
       "\n",
       "                            ((temporalized, A), 2024)  \\\n",
       "(128, 2024-01-01T00:00:00)                        0.0   \n",
       "\n",
       "                            ((temporalized, B), 2024)  \n",
       "(128, 2024-01-01T00:00:00)                        0.9  "
      ]
     },
     "execution_count": 6,
     "metadata": {},
     "output_type": "execute_result"
    }
   ],
   "source": [
    "dyn_bio = tlca.create_labelled_dynamic_biosphere_dataframe()\n",
    "dyn_bio"
   ]
  },
  {
   "cell_type": "markdown",
   "metadata": {},
   "source": [
    "## mod system 1"
   ]
  },
  {
   "cell_type": "code",
   "execution_count": 7,
   "metadata": {},
   "outputs": [
    {
     "name": "stderr",
     "output_type": "stream",
     "text": [
      "100%|██████████| 1/1 [00:00<?, ?it/s]\n"
     ]
    },
    {
     "name": "stdout",
     "output_type": "stream",
     "text": [
      "Vacuuming database \n",
      "Not able to determine geocollections for all datasets. This database is not ready for regionalization.\n"
     ]
    },
    {
     "name": "stderr",
     "output_type": "stream",
     "text": [
      "100%|██████████| 1/1 [00:00<00:00, 1999.19it/s]\n"
     ]
    },
    {
     "name": "stdout",
     "output_type": "stream",
     "text": [
      "Vacuuming database \n",
      "Not able to determine geocollections for all datasets. This database is not ready for regionalization.\n"
     ]
    },
    {
     "name": "stderr",
     "output_type": "stream",
     "text": [
      "100%|██████████| 2/2 [00:00<?, ?it/s]"
     ]
    },
    {
     "name": "stdout",
     "output_type": "stream",
     "text": [
      "Vacuuming database \n"
     ]
    },
    {
     "name": "stderr",
     "output_type": "stream",
     "text": [
      "\n"
     ]
    }
   ],
   "source": [
    "from bw_temporalis import TemporalDistribution\n",
    "import numpy as np\n",
    "bd.projects.set_current(\"__test_nonunitary_mod__\")\n",
    "bd.Database(\"bio\").write(\n",
    "    {\n",
    "        (\"bio\", \"CO2\"): {\n",
    "            \"type\": \"emission\",\n",
    "            \"name\": \"carbon dioxide\",\n",
    "        },\n",
    "    },\n",
    ")\n",
    "bd.Database(\"db_2020\").write(\n",
    "    {\n",
    "        (\"db_2020\", \"C\"): {\n",
    "            \"name\": \"c\",\n",
    "            \"location\": \"somewhere\",\n",
    "            \"reference product\": \"c\",\n",
    "            \"exchanges\": [\n",
    "                {\n",
    "                    \"amount\": 3,  # produces a non unitary (not 1) amount\n",
    "                    \"type\": \"production\",\n",
    "                    \"input\": (\"db_2020\", \"C\"),\n",
    "                },\n",
    "                {\n",
    "                    \"amount\": 0.5,\n",
    "                    \"type\": \"biosphere\",\n",
    "                    \"input\": (\"bio\", \"CO2\"),\n",
    "                },\n",
    "            ],\n",
    "        },\n",
    "    }\n",
    ")\n",
    "\n",
    "bd.Database(\"foreground\").write(\n",
    "    {\n",
    "        (\"foreground\", \"A\"): {\n",
    "            \"name\": \"a\",\n",
    "            \"location\": \"somewhere\",\n",
    "            \"reference product\": \"a\",\n",
    "            \"exchanges\": [\n",
    "                {\n",
    "                    \"amount\":-0.67,\n",
    "                    \"type\": \"production\",\n",
    "                    \"input\": (\"foreground\", \"A\"),\n",
    "                },\n",
    "                {\n",
    "                    \"amount\": 1.5,\n",
    "                    \"type\": \"technosphere\",\n",
    "                    \"input\": (\"db_2020\", \"C\"),\n",
    "                },\n",
    "                {\n",
    "                    \"amount\": -3,\n",
    "                    \"type\": \"technosphere\",\n",
    "                    \"input\": (\"foreground\", \"B\"),\n",
    "                    \"temporal_distribution\": TemporalDistribution(\n",
    "                            np.array([-24, -12], dtype=\"timedelta64[M]\"),\n",
    "                            np.array([0.5, 0.5]),\n",
    "                        ),\n",
    "                },\n",
    "                {\n",
    "                    \"amount\": 3.5,\n",
    "                    \"type\": \"biosphere\",\n",
    "                    \"input\": (\"bio\", \"CO2\"),\n",
    "                },\n",
    "            ],\n",
    "        },\n",
    "        (\"foreground\", \"B\"): {\n",
    "            \"name\": \"b\",\n",
    "            \"location\": \"somewhere\",\n",
    "            \"reference product\": \"b\",\n",
    "            \"exchanges\": [\n",
    "                {\n",
    "                    \"amount\": -12,  # produces a non unitary (not 1) amount\n",
    "                    \"type\": \"production\",\n",
    "                    \"input\": (\"foreground\", \"B\"),\n",
    "                },\n",
    "                {\n",
    "                    \"amount\": 6,\n",
    "                    \"type\": \"technosphere\",\n",
    "                    \"input\": (\"db_2020\", \"C\"),\n",
    "                },\n",
    "                {\n",
    "                    \"amount\":-34,\n",
    "                    \"type\": \"biosphere\",\n",
    "                    \"input\": (\"bio\", \"CO2\"),\n",
    "                },\n",
    "            ],\n",
    "        },\n",
    "    }\n",
    ")\n",
    "\n",
    "bd.Method((\"GWP\", \"example\")).write(\n",
    "    [\n",
    "        ((\"bio\", \"CO2\"), 1),\n",
    "    ]\n",
    ")\n",
    "\n"
   ]
  },
  {
   "cell_type": "code",
   "execution_count": 8,
   "metadata": {},
   "outputs": [
    {
     "name": "stderr",
     "output_type": "stream",
     "text": [
      "\u001b[32m2025-03-21 12:12:40.208\u001b[0m | \u001b[1mINFO    \u001b[0m | \u001b[36mbw_timex.timex_lca\u001b[0m:\u001b[36mbuild_timeline\u001b[0m:\u001b[36m217\u001b[0m - \u001b[1mNo edge filter function provided. Skipping all edges in background databases.\u001b[0m\n",
      "\u001b[32m2025-03-21 12:12:40.271\u001b[0m | \u001b[1mINFO    \u001b[0m | \u001b[36mbw_timex.timeline_builder\u001b[0m:\u001b[36mget_weights_for_interpolation_between_nearest_years\u001b[0m:\u001b[36m520\u001b[0m - \u001b[1mReference date 2022-01-01 00:00:00 is lower than all provided dates. Data will be taken from the closest higher year.\u001b[0m\n",
      "\u001b[32m2025-03-21 12:12:40.272\u001b[0m | \u001b[1mINFO    \u001b[0m | \u001b[36mbw_timex.timeline_builder\u001b[0m:\u001b[36mget_weights_for_interpolation_between_nearest_years\u001b[0m:\u001b[36m520\u001b[0m - \u001b[1mReference date 2022-01-01 00:00:00 is lower than all provided dates. Data will be taken from the closest higher year.\u001b[0m\n",
      "\u001b[32m2025-03-21 12:12:40.274\u001b[0m | \u001b[1mINFO    \u001b[0m | \u001b[36mbw_timex.timeline_builder\u001b[0m:\u001b[36mget_weights_for_interpolation_between_nearest_years\u001b[0m:\u001b[36m520\u001b[0m - \u001b[1mReference date 2023-01-01 00:00:00 is lower than all provided dates. Data will be taken from the closest higher year.\u001b[0m\n",
      "\u001b[32m2025-03-21 12:12:40.275\u001b[0m | \u001b[1mINFO    \u001b[0m | \u001b[36mbw_timex.timeline_builder\u001b[0m:\u001b[36mget_weights_for_interpolation_between_nearest_years\u001b[0m:\u001b[36m520\u001b[0m - \u001b[1mReference date 2023-01-01 00:00:00 is lower than all provided dates. Data will be taken from the closest higher year.\u001b[0m\n",
      "\u001b[32m2025-03-21 12:12:40.276\u001b[0m | \u001b[1mINFO    \u001b[0m | \u001b[36mbw_timex.timeline_builder\u001b[0m:\u001b[36mget_weights_for_interpolation_between_nearest_years\u001b[0m:\u001b[36m520\u001b[0m - \u001b[1mReference date 2024-01-01 00:00:00 is lower than all provided dates. Data will be taken from the closest higher year.\u001b[0m\n",
      "\u001b[32m2025-03-21 12:12:40.279\u001b[0m | \u001b[1mINFO    \u001b[0m | \u001b[36mbw_timex.timeline_builder\u001b[0m:\u001b[36mget_weights_for_interpolation_between_nearest_years\u001b[0m:\u001b[36m520\u001b[0m - \u001b[1mReference date 2024-01-01 00:00:00 is lower than all provided dates. Data will be taken from the closest higher year.\u001b[0m\n"
     ]
    },
    {
     "name": "stdout",
     "output_type": "stream",
     "text": [
      "Starting graph traversal\n",
      "Calculation count: 3\n"
     ]
    },
    {
     "data": {
      "application/vnd.microsoft.datawrangler.viewer.v0+json": {
       "columns": [
        {
         "name": "index",
         "rawType": "int64",
         "type": "integer"
        },
        {
         "name": "date_producer",
         "rawType": "datetime64[ns]",
         "type": "datetime"
        },
        {
         "name": "producer_name",
         "rawType": "object",
         "type": "string"
        },
        {
         "name": "date_consumer",
         "rawType": "datetime64[ns]",
         "type": "datetime"
        },
        {
         "name": "consumer_name",
         "rawType": "object",
         "type": "string"
        },
        {
         "name": "amount",
         "rawType": "object",
         "type": "unknown"
        },
        {
         "name": "temporal_market_shares",
         "rawType": "object",
         "type": "unknown"
        }
       ],
       "conversionMethod": "pd.DataFrame",
       "ref": "24288bc4-f7fa-427e-9741-9de2fe2c1614",
       "rows": [
        [
         "0",
         "2022-01-01 00:00:00",
         "c",
         "2022-01-01 00:00:00",
         "b",
         "0.5",
         "{'db_2020': 1}"
        ],
        [
         "1",
         "2022-01-01 00:00:00",
         "b",
         "2024-01-01 00:00:00",
         "a",
         "-2.238805914381933",
         null
        ],
        [
         "2",
         "2023-01-01 00:00:00",
         "c",
         "2023-01-01 00:00:00",
         "b",
         "0.5",
         "{'db_2020': 1}"
        ],
        [
         "3",
         "2023-01-01 00:00:00",
         "b",
         "2024-01-01 00:00:00",
         "a",
         "-2.238805914381933",
         null
        ],
        [
         "4",
         "2024-01-01 00:00:00",
         "c",
         "2024-01-01 00:00:00",
         "a",
         "2.238805914381933",
         "{'db_2020': 1}"
        ],
        [
         "5",
         "2024-01-01 00:00:00",
         "a",
         "2024-01-01 00:00:00",
         "-1",
         "1.0",
         null
        ]
       ],
       "shape": {
        "columns": 6,
        "rows": 6
       }
      },
      "text/html": [
       "<div>\n",
       "<style scoped>\n",
       "    .dataframe tbody tr th:only-of-type {\n",
       "        vertical-align: middle;\n",
       "    }\n",
       "\n",
       "    .dataframe tbody tr th {\n",
       "        vertical-align: top;\n",
       "    }\n",
       "\n",
       "    .dataframe thead th {\n",
       "        text-align: right;\n",
       "    }\n",
       "</style>\n",
       "<table border=\"1\" class=\"dataframe\">\n",
       "  <thead>\n",
       "    <tr style=\"text-align: right;\">\n",
       "      <th></th>\n",
       "      <th>date_producer</th>\n",
       "      <th>producer_name</th>\n",
       "      <th>date_consumer</th>\n",
       "      <th>consumer_name</th>\n",
       "      <th>amount</th>\n",
       "      <th>temporal_market_shares</th>\n",
       "    </tr>\n",
       "  </thead>\n",
       "  <tbody>\n",
       "    <tr>\n",
       "      <th>0</th>\n",
       "      <td>2022-01-01</td>\n",
       "      <td>c</td>\n",
       "      <td>2022-01-01</td>\n",
       "      <td>b</td>\n",
       "      <td>0.5</td>\n",
       "      <td>{'db_2020': 1}</td>\n",
       "    </tr>\n",
       "    <tr>\n",
       "      <th>1</th>\n",
       "      <td>2022-01-01</td>\n",
       "      <td>b</td>\n",
       "      <td>2024-01-01</td>\n",
       "      <td>a</td>\n",
       "      <td>-2.238806</td>\n",
       "      <td>None</td>\n",
       "    </tr>\n",
       "    <tr>\n",
       "      <th>2</th>\n",
       "      <td>2023-01-01</td>\n",
       "      <td>c</td>\n",
       "      <td>2023-01-01</td>\n",
       "      <td>b</td>\n",
       "      <td>0.5</td>\n",
       "      <td>{'db_2020': 1}</td>\n",
       "    </tr>\n",
       "    <tr>\n",
       "      <th>3</th>\n",
       "      <td>2023-01-01</td>\n",
       "      <td>b</td>\n",
       "      <td>2024-01-01</td>\n",
       "      <td>a</td>\n",
       "      <td>-2.238806</td>\n",
       "      <td>None</td>\n",
       "    </tr>\n",
       "    <tr>\n",
       "      <th>4</th>\n",
       "      <td>2024-01-01</td>\n",
       "      <td>c</td>\n",
       "      <td>2024-01-01</td>\n",
       "      <td>a</td>\n",
       "      <td>2.238806</td>\n",
       "      <td>{'db_2020': 1}</td>\n",
       "    </tr>\n",
       "    <tr>\n",
       "      <th>5</th>\n",
       "      <td>2024-01-01</td>\n",
       "      <td>a</td>\n",
       "      <td>2024-01-01</td>\n",
       "      <td>-1</td>\n",
       "      <td>1.0</td>\n",
       "      <td>None</td>\n",
       "    </tr>\n",
       "  </tbody>\n",
       "</table>\n",
       "</div>"
      ],
      "text/plain": [
       "  date_producer producer_name date_consumer consumer_name    amount  \\\n",
       "0    2022-01-01             c    2022-01-01             b       0.5   \n",
       "1    2022-01-01             b    2024-01-01             a -2.238806   \n",
       "2    2023-01-01             c    2023-01-01             b       0.5   \n",
       "3    2023-01-01             b    2024-01-01             a -2.238806   \n",
       "4    2024-01-01             c    2024-01-01             a  2.238806   \n",
       "5    2024-01-01             a    2024-01-01            -1       1.0   \n",
       "\n",
       "  temporal_market_shares  \n",
       "0         {'db_2020': 1}  \n",
       "1                   None  \n",
       "2         {'db_2020': 1}  \n",
       "3                   None  \n",
       "4         {'db_2020': 1}  \n",
       "5                   None  "
      ]
     },
     "execution_count": 8,
     "metadata": {},
     "output_type": "execute_result"
    }
   ],
   "source": [
    "bd.projects.set_current(\"__test_nonunitary_mod__\")\n",
    "\n",
    "node_a = bd.get_node(database=\"foreground\", code=\"A\")\n",
    "\n",
    "database_dates = {\n",
    "    \"db_2020\": datetime.strptime(\"2020\", \"%Y\"), #one or two dbs don't make a difference\n",
    "    \"db_2020\": datetime.strptime(\"2030\", \"%Y\"),\n",
    "    \"foreground\": \"dynamic\",\n",
    "}\n",
    "\n",
    "tlca = TimexLCA(\n",
    "    demand={node_a: 1},\n",
    "    method=(\"GWP\", \"example\"),\n",
    "    database_dates=database_dates,\n",
    ")\n",
    "\n",
    "tlca.build_timeline(\n",
    "    starting_datetime=datetime.strptime(\"2024-01-02\", \"%Y-%m-%d\"),\n",
    ")\n",
    "\n",
    "\n"
   ]
  },
  {
   "cell_type": "code",
   "execution_count": 9,
   "metadata": {},
   "outputs": [
    {
     "name": "stdout",
     "output_type": "stream",
     "text": [
      "'a' (None, somewhere, None)\n",
      "6.716417613022053\n",
      "6.7164177431458\n",
      "1.0000000193739809\n"
     ]
    },
    {
     "name": "stderr",
     "output_type": "stream",
     "text": [
      "c:\\Users\\MULLERA\\AppData\\Local\\anaconda3\\envs\\test_env1\\Lib\\site-packages\\scipy\\sparse\\linalg\\_dsolve\\linsolve.py:603: SparseEfficiencyWarning: splu converted its input to CSC format\n",
      "  return splu(A).solve\n"
     ]
    }
   ],
   "source": [
    "tlca.lci()\n",
    "tlca.static_lcia()\n",
    "print(node_a)\n",
    "print(tlca.static_score)\n",
    "print(tlca.base_lca.score)\n",
    "print(tlca.base_lca.score/tlca.static_score)"
   ]
  },
  {
   "cell_type": "code",
   "execution_count": 10,
   "metadata": {},
   "outputs": [
    {
     "data": {
      "application/vnd.microsoft.datawrangler.viewer.v0+json": {
       "columns": [
        {
         "name": "index",
         "rawType": "object",
         "type": "unknown"
        },
        {
         "name": "(('db_2020', 'C'), 2030)",
         "rawType": "float64",
         "type": "float"
        },
        {
         "name": "(('foreground', 'A'), 'dynamic')",
         "rawType": "float64",
         "type": "float"
        },
        {
         "name": "(('foreground', 'B'), 'dynamic')",
         "rawType": "float64",
         "type": "float"
        },
        {
         "name": "(('temporalized', 'C'), 2022)",
         "rawType": "float64",
         "type": "float"
        },
        {
         "name": "(('temporalized', 'B'), 2022)",
         "rawType": "float64",
         "type": "float"
        },
        {
         "name": "(('temporalized', 'C'), 2023)",
         "rawType": "float64",
         "type": "float"
        },
        {
         "name": "(('temporalized', 'B'), 2023)",
         "rawType": "float64",
         "type": "float"
        },
        {
         "name": "(('temporalized', 'C'), 2024)",
         "rawType": "float64",
         "type": "float"
        },
        {
         "name": "(('temporalized', 'A'), 2024)",
         "rawType": "float64",
         "type": "float"
        }
       ],
       "conversionMethod": "pd.DataFrame",
       "ref": "4c2e9938-b4b9-40f1-b530-f0f21e658fd0",
       "rows": [
        [
         "(('db_2020', 'C'), 2030)",
         "3.0",
         "-1.5",
         "-6.0",
         "-1.0",
         "0.0",
         "-1.0",
         "0.0",
         "-1.0",
         "0.0"
        ],
        [
         "(('foreground', 'A'), 'dynamic')",
         "0.0",
         "-0.6700000166893005",
         "0.0",
         "0.0",
         "0.0",
         "0.0",
         "0.0",
         "0.0",
         "0.0"
        ],
        [
         "(('foreground', 'B'), 'dynamic')",
         "0.0",
         "3.0",
         "-12.0",
         "0.0",
         "0.0",
         "0.0",
         "0.0",
         "0.0",
         "0.0"
        ],
        [
         "(('temporalized', 'C'), 2022)",
         "0.0",
         "0.0",
         "0.0",
         "1.0",
         "-6.0",
         "0.0",
         "0.0",
         "0.0",
         "0.0"
        ],
        [
         "(('temporalized', 'B'), 2022)",
         "0.0",
         "0.0",
         "0.0",
         "0.0",
         "-12.0",
         "0.0",
         "0.0",
         "0.0",
         "1.4999999626358953"
        ],
        [
         "(('temporalized', 'C'), 2023)",
         "0.0",
         "0.0",
         "0.0",
         "0.0",
         "0.0",
         "1.0",
         "-6.0",
         "0.0",
         "0.0"
        ],
        [
         "(('temporalized', 'B'), 2023)",
         "0.0",
         "0.0",
         "0.0",
         "0.0",
         "0.0",
         "0.0",
         "-12.0",
         "0.0",
         "1.4999999626358953"
        ],
        [
         "(('temporalized', 'C'), 2024)",
         "0.0",
         "0.0",
         "0.0",
         "0.0",
         "0.0",
         "0.0",
         "0.0",
         "1.0",
         "-1.4999999626358953"
        ],
        [
         "(('temporalized', 'A'), 2024)",
         "0.0",
         "0.0",
         "0.0",
         "0.0",
         "0.0",
         "0.0",
         "0.0",
         "0.0",
         "-0.67"
        ]
       ],
       "shape": {
        "columns": 9,
        "rows": 9
       }
      },
      "text/html": [
       "<div>\n",
       "<style scoped>\n",
       "    .dataframe tbody tr th:only-of-type {\n",
       "        vertical-align: middle;\n",
       "    }\n",
       "\n",
       "    .dataframe tbody tr th {\n",
       "        vertical-align: top;\n",
       "    }\n",
       "\n",
       "    .dataframe thead th {\n",
       "        text-align: right;\n",
       "    }\n",
       "</style>\n",
       "<table border=\"1\" class=\"dataframe\">\n",
       "  <thead>\n",
       "    <tr style=\"text-align: right;\">\n",
       "      <th></th>\n",
       "      <th>((db_2020, C), 2030)</th>\n",
       "      <th>((foreground, A), dynamic)</th>\n",
       "      <th>((foreground, B), dynamic)</th>\n",
       "      <th>((temporalized, C), 2022)</th>\n",
       "      <th>((temporalized, B), 2022)</th>\n",
       "      <th>((temporalized, C), 2023)</th>\n",
       "      <th>((temporalized, B), 2023)</th>\n",
       "      <th>((temporalized, C), 2024)</th>\n",
       "      <th>((temporalized, A), 2024)</th>\n",
       "    </tr>\n",
       "  </thead>\n",
       "  <tbody>\n",
       "    <tr>\n",
       "      <th>((db_2020, C), 2030)</th>\n",
       "      <td>3.0</td>\n",
       "      <td>-1.50</td>\n",
       "      <td>-6.0</td>\n",
       "      <td>-1.0</td>\n",
       "      <td>0.0</td>\n",
       "      <td>-1.0</td>\n",
       "      <td>0.0</td>\n",
       "      <td>-1.0</td>\n",
       "      <td>0.00</td>\n",
       "    </tr>\n",
       "    <tr>\n",
       "      <th>((foreground, A), dynamic)</th>\n",
       "      <td>0.0</td>\n",
       "      <td>-0.67</td>\n",
       "      <td>0.0</td>\n",
       "      <td>0.0</td>\n",
       "      <td>0.0</td>\n",
       "      <td>0.0</td>\n",
       "      <td>0.0</td>\n",
       "      <td>0.0</td>\n",
       "      <td>0.00</td>\n",
       "    </tr>\n",
       "    <tr>\n",
       "      <th>((foreground, B), dynamic)</th>\n",
       "      <td>0.0</td>\n",
       "      <td>3.00</td>\n",
       "      <td>-12.0</td>\n",
       "      <td>0.0</td>\n",
       "      <td>0.0</td>\n",
       "      <td>0.0</td>\n",
       "      <td>0.0</td>\n",
       "      <td>0.0</td>\n",
       "      <td>0.00</td>\n",
       "    </tr>\n",
       "    <tr>\n",
       "      <th>((temporalized, C), 2022)</th>\n",
       "      <td>0.0</td>\n",
       "      <td>0.00</td>\n",
       "      <td>0.0</td>\n",
       "      <td>1.0</td>\n",
       "      <td>-6.0</td>\n",
       "      <td>0.0</td>\n",
       "      <td>0.0</td>\n",
       "      <td>0.0</td>\n",
       "      <td>0.00</td>\n",
       "    </tr>\n",
       "    <tr>\n",
       "      <th>((temporalized, B), 2022)</th>\n",
       "      <td>0.0</td>\n",
       "      <td>0.00</td>\n",
       "      <td>0.0</td>\n",
       "      <td>0.0</td>\n",
       "      <td>-12.0</td>\n",
       "      <td>0.0</td>\n",
       "      <td>0.0</td>\n",
       "      <td>0.0</td>\n",
       "      <td>1.50</td>\n",
       "    </tr>\n",
       "    <tr>\n",
       "      <th>((temporalized, C), 2023)</th>\n",
       "      <td>0.0</td>\n",
       "      <td>0.00</td>\n",
       "      <td>0.0</td>\n",
       "      <td>0.0</td>\n",
       "      <td>0.0</td>\n",
       "      <td>1.0</td>\n",
       "      <td>-6.0</td>\n",
       "      <td>0.0</td>\n",
       "      <td>0.00</td>\n",
       "    </tr>\n",
       "    <tr>\n",
       "      <th>((temporalized, B), 2023)</th>\n",
       "      <td>0.0</td>\n",
       "      <td>0.00</td>\n",
       "      <td>0.0</td>\n",
       "      <td>0.0</td>\n",
       "      <td>0.0</td>\n",
       "      <td>0.0</td>\n",
       "      <td>-12.0</td>\n",
       "      <td>0.0</td>\n",
       "      <td>1.50</td>\n",
       "    </tr>\n",
       "    <tr>\n",
       "      <th>((temporalized, C), 2024)</th>\n",
       "      <td>0.0</td>\n",
       "      <td>0.00</td>\n",
       "      <td>0.0</td>\n",
       "      <td>0.0</td>\n",
       "      <td>0.0</td>\n",
       "      <td>0.0</td>\n",
       "      <td>0.0</td>\n",
       "      <td>1.0</td>\n",
       "      <td>-1.50</td>\n",
       "    </tr>\n",
       "    <tr>\n",
       "      <th>((temporalized, A), 2024)</th>\n",
       "      <td>0.0</td>\n",
       "      <td>0.00</td>\n",
       "      <td>0.0</td>\n",
       "      <td>0.0</td>\n",
       "      <td>0.0</td>\n",
       "      <td>0.0</td>\n",
       "      <td>0.0</td>\n",
       "      <td>0.0</td>\n",
       "      <td>-0.67</td>\n",
       "    </tr>\n",
       "  </tbody>\n",
       "</table>\n",
       "</div>"
      ],
      "text/plain": [
       "                            ((db_2020, C), 2030)  ((foreground, A), dynamic)  \\\n",
       "((db_2020, C), 2030)                         3.0                       -1.50   \n",
       "((foreground, A), dynamic)                   0.0                       -0.67   \n",
       "((foreground, B), dynamic)                   0.0                        3.00   \n",
       "((temporalized, C), 2022)                    0.0                        0.00   \n",
       "((temporalized, B), 2022)                    0.0                        0.00   \n",
       "((temporalized, C), 2023)                    0.0                        0.00   \n",
       "((temporalized, B), 2023)                    0.0                        0.00   \n",
       "((temporalized, C), 2024)                    0.0                        0.00   \n",
       "((temporalized, A), 2024)                    0.0                        0.00   \n",
       "\n",
       "                            ((foreground, B), dynamic)  \\\n",
       "((db_2020, C), 2030)                              -6.0   \n",
       "((foreground, A), dynamic)                         0.0   \n",
       "((foreground, B), dynamic)                       -12.0   \n",
       "((temporalized, C), 2022)                          0.0   \n",
       "((temporalized, B), 2022)                          0.0   \n",
       "((temporalized, C), 2023)                          0.0   \n",
       "((temporalized, B), 2023)                          0.0   \n",
       "((temporalized, C), 2024)                          0.0   \n",
       "((temporalized, A), 2024)                          0.0   \n",
       "\n",
       "                            ((temporalized, C), 2022)  \\\n",
       "((db_2020, C), 2030)                             -1.0   \n",
       "((foreground, A), dynamic)                        0.0   \n",
       "((foreground, B), dynamic)                        0.0   \n",
       "((temporalized, C), 2022)                         1.0   \n",
       "((temporalized, B), 2022)                         0.0   \n",
       "((temporalized, C), 2023)                         0.0   \n",
       "((temporalized, B), 2023)                         0.0   \n",
       "((temporalized, C), 2024)                         0.0   \n",
       "((temporalized, A), 2024)                         0.0   \n",
       "\n",
       "                            ((temporalized, B), 2022)  \\\n",
       "((db_2020, C), 2030)                              0.0   \n",
       "((foreground, A), dynamic)                        0.0   \n",
       "((foreground, B), dynamic)                        0.0   \n",
       "((temporalized, C), 2022)                        -6.0   \n",
       "((temporalized, B), 2022)                       -12.0   \n",
       "((temporalized, C), 2023)                         0.0   \n",
       "((temporalized, B), 2023)                         0.0   \n",
       "((temporalized, C), 2024)                         0.0   \n",
       "((temporalized, A), 2024)                         0.0   \n",
       "\n",
       "                            ((temporalized, C), 2023)  \\\n",
       "((db_2020, C), 2030)                             -1.0   \n",
       "((foreground, A), dynamic)                        0.0   \n",
       "((foreground, B), dynamic)                        0.0   \n",
       "((temporalized, C), 2022)                         0.0   \n",
       "((temporalized, B), 2022)                         0.0   \n",
       "((temporalized, C), 2023)                         1.0   \n",
       "((temporalized, B), 2023)                         0.0   \n",
       "((temporalized, C), 2024)                         0.0   \n",
       "((temporalized, A), 2024)                         0.0   \n",
       "\n",
       "                            ((temporalized, B), 2023)  \\\n",
       "((db_2020, C), 2030)                              0.0   \n",
       "((foreground, A), dynamic)                        0.0   \n",
       "((foreground, B), dynamic)                        0.0   \n",
       "((temporalized, C), 2022)                         0.0   \n",
       "((temporalized, B), 2022)                         0.0   \n",
       "((temporalized, C), 2023)                        -6.0   \n",
       "((temporalized, B), 2023)                       -12.0   \n",
       "((temporalized, C), 2024)                         0.0   \n",
       "((temporalized, A), 2024)                         0.0   \n",
       "\n",
       "                            ((temporalized, C), 2024)  \\\n",
       "((db_2020, C), 2030)                             -1.0   \n",
       "((foreground, A), dynamic)                        0.0   \n",
       "((foreground, B), dynamic)                        0.0   \n",
       "((temporalized, C), 2022)                         0.0   \n",
       "((temporalized, B), 2022)                         0.0   \n",
       "((temporalized, C), 2023)                         0.0   \n",
       "((temporalized, B), 2023)                         0.0   \n",
       "((temporalized, C), 2024)                         1.0   \n",
       "((temporalized, A), 2024)                         0.0   \n",
       "\n",
       "                            ((temporalized, A), 2024)  \n",
       "((db_2020, C), 2030)                             0.00  \n",
       "((foreground, A), dynamic)                       0.00  \n",
       "((foreground, B), dynamic)                       0.00  \n",
       "((temporalized, C), 2022)                        0.00  \n",
       "((temporalized, B), 2022)                        1.50  \n",
       "((temporalized, C), 2023)                        0.00  \n",
       "((temporalized, B), 2023)                        1.50  \n",
       "((temporalized, C), 2024)                       -1.50  \n",
       "((temporalized, A), 2024)                       -0.67  "
      ]
     },
     "execution_count": 10,
     "metadata": {},
     "output_type": "execute_result"
    }
   ],
   "source": [
    "tlca.create_labelled_technosphere_dataframe()"
   ]
  },
  {
   "cell_type": "code",
   "execution_count": 11,
   "metadata": {},
   "outputs": [
    {
     "data": {
      "application/vnd.microsoft.datawrangler.viewer.v0+json": {
       "columns": [
        {
         "name": "index",
         "rawType": "object",
         "type": "unknown"
        },
        {
         "name": "(('db_2020', 'C'), 2030)",
         "rawType": "float64",
         "type": "float"
        },
        {
         "name": "(('foreground', 'A'), 'dynamic')",
         "rawType": "float64",
         "type": "float"
        },
        {
         "name": "(('foreground', 'B'), 'dynamic')",
         "rawType": "float64",
         "type": "float"
        },
        {
         "name": "(('temporalized', 'C'), 2022)",
         "rawType": "float64",
         "type": "float"
        },
        {
         "name": "(('temporalized', 'B'), 2022)",
         "rawType": "float64",
         "type": "float"
        },
        {
         "name": "(('temporalized', 'C'), 2023)",
         "rawType": "float64",
         "type": "float"
        },
        {
         "name": "(('temporalized', 'B'), 2023)",
         "rawType": "float64",
         "type": "float"
        },
        {
         "name": "(('temporalized', 'C'), 2024)",
         "rawType": "float64",
         "type": "float"
        },
        {
         "name": "(('temporalized', 'A'), 2024)",
         "rawType": "float64",
         "type": "float"
        }
       ],
       "conversionMethod": "pd.DataFrame",
       "ref": "4a44d65f-0a28-454d-ad55-a636e1aef87a",
       "rows": [
        [
         "('bio', 'CO2')",
         "0.5",
         "3.5",
         "-34.0",
         "0.0",
         "-34.0",
         "0.0",
         "-34.0",
         "0.0",
         "3.5"
        ]
       ],
       "shape": {
        "columns": 9,
        "rows": 1
       }
      },
      "text/html": [
       "<div>\n",
       "<style scoped>\n",
       "    .dataframe tbody tr th:only-of-type {\n",
       "        vertical-align: middle;\n",
       "    }\n",
       "\n",
       "    .dataframe tbody tr th {\n",
       "        vertical-align: top;\n",
       "    }\n",
       "\n",
       "    .dataframe thead th {\n",
       "        text-align: right;\n",
       "    }\n",
       "</style>\n",
       "<table border=\"1\" class=\"dataframe\">\n",
       "  <thead>\n",
       "    <tr style=\"text-align: right;\">\n",
       "      <th></th>\n",
       "      <th>((db_2020, C), 2030)</th>\n",
       "      <th>((foreground, A), dynamic)</th>\n",
       "      <th>((foreground, B), dynamic)</th>\n",
       "      <th>((temporalized, C), 2022)</th>\n",
       "      <th>((temporalized, B), 2022)</th>\n",
       "      <th>((temporalized, C), 2023)</th>\n",
       "      <th>((temporalized, B), 2023)</th>\n",
       "      <th>((temporalized, C), 2024)</th>\n",
       "      <th>((temporalized, A), 2024)</th>\n",
       "    </tr>\n",
       "  </thead>\n",
       "  <tbody>\n",
       "    <tr>\n",
       "      <th>(bio, CO2)</th>\n",
       "      <td>0.5</td>\n",
       "      <td>3.5</td>\n",
       "      <td>-34.0</td>\n",
       "      <td>0.0</td>\n",
       "      <td>-34.0</td>\n",
       "      <td>0.0</td>\n",
       "      <td>-34.0</td>\n",
       "      <td>0.0</td>\n",
       "      <td>3.5</td>\n",
       "    </tr>\n",
       "  </tbody>\n",
       "</table>\n",
       "</div>"
      ],
      "text/plain": [
       "            ((db_2020, C), 2030)  ((foreground, A), dynamic)  \\\n",
       "(bio, CO2)                   0.5                         3.5   \n",
       "\n",
       "            ((foreground, B), dynamic)  ((temporalized, C), 2022)  \\\n",
       "(bio, CO2)                       -34.0                        0.0   \n",
       "\n",
       "            ((temporalized, B), 2022)  ((temporalized, C), 2023)  \\\n",
       "(bio, CO2)                      -34.0                        0.0   \n",
       "\n",
       "            ((temporalized, B), 2023)  ((temporalized, C), 2024)  \\\n",
       "(bio, CO2)                      -34.0                        0.0   \n",
       "\n",
       "            ((temporalized, A), 2024)  \n",
       "(bio, CO2)                        3.5  "
      ]
     },
     "execution_count": 11,
     "metadata": {},
     "output_type": "execute_result"
    }
   ],
   "source": [
    "tlca.create_labelled_biosphere_dataframe()"
   ]
  },
  {
   "cell_type": "markdown",
   "metadata": {},
   "source": [
    "## mod sys 2"
   ]
  },
  {
   "cell_type": "code",
   "execution_count": 12,
   "metadata": {},
   "outputs": [
    {
     "name": "stderr",
     "output_type": "stream",
     "text": [
      "100%|██████████| 1/1 [00:00<?, ?it/s]\n"
     ]
    },
    {
     "name": "stdout",
     "output_type": "stream",
     "text": [
      "Vacuuming database \n",
      "Not able to determine geocollections for all datasets. This database is not ready for regionalization.\n"
     ]
    },
    {
     "name": "stderr",
     "output_type": "stream",
     "text": [
      "100%|██████████| 1/1 [00:00<?, ?it/s]\n"
     ]
    },
    {
     "name": "stdout",
     "output_type": "stream",
     "text": [
      "Vacuuming database \n",
      "Not able to determine geocollections for all datasets. This database is not ready for regionalization.\n"
     ]
    },
    {
     "name": "stderr",
     "output_type": "stream",
     "text": [
      "100%|██████████| 3/3 [00:00<?, ?it/s]"
     ]
    },
    {
     "name": "stdout",
     "output_type": "stream",
     "text": [
      "Vacuuming database \n"
     ]
    },
    {
     "name": "stderr",
     "output_type": "stream",
     "text": [
      "\n"
     ]
    }
   ],
   "source": [
    "bd.projects.set_current(\"__test_nonunitary_mod2__\")\n",
    "bd.Database(\"bio\").write(\n",
    "    {\n",
    "        (\"bio\", \"CO2\"): {\n",
    "            \"type\": \"emission\",\n",
    "            \"name\": \"carbon dioxide\",\n",
    "        },\n",
    "    },\n",
    ")\n",
    "bd.Database(\"db_2020\").write(\n",
    "    {\n",
    "        (\"db_2020\", \"C\"): {\n",
    "            \"name\": \"c\",\n",
    "            \"location\": \"somewhere\",\n",
    "            \"reference product\": \"c\",\n",
    "            \"exchanges\": [\n",
    "                {\n",
    "                    \"amount\": 3,  # produces a non unitary (not 1) amount\n",
    "                    \"type\": \"production\",\n",
    "                    \"input\": (\"db_2020\", \"C\"),\n",
    "                },\n",
    "                {\n",
    "                    \"amount\": 0.5,\n",
    "                    \"type\": \"biosphere\",\n",
    "                    \"input\": (\"bio\", \"CO2\"),\n",
    "                },\n",
    "            ],\n",
    "        },\n",
    "    }\n",
    ")\n",
    "\n",
    "bd.Database(\"foreground\").write(\n",
    "    {\n",
    "        (\"foreground\", \"A\"): {\n",
    "            \"name\": \"a\",\n",
    "            \"location\": \"somewhere\",\n",
    "            \"reference product\": \"a\",\n",
    "            \"exchanges\": [\n",
    "                {\n",
    "                    \"amount\": 1,\n",
    "                    \"type\": \"production\",\n",
    "                    \"input\": (\"foreground\", \"A\"),\n",
    "                },\n",
    "                {\n",
    "                    \"amount\": 1.5,\n",
    "                    \"type\": \"technosphere\",\n",
    "                    \"input\": (\"db_2020\", \"C\"),\n",
    "                },\n",
    "                {\n",
    "                    \"amount\": 4,\n",
    "                    \"type\": \"technosphere\",\n",
    "                    \"input\": (\"foreground\", \"A1\"),\n",
    "                },\n",
    "                \n",
    "            ],\n",
    "            \n",
    "        },\n",
    "        (\"foreground\", \"A1\"): {\n",
    "            \"name\": \"a1\",\n",
    "            \"location\": \"somewhere\",\n",
    "            \"reference product\": \"a1\",\n",
    "            \"exchanges\": [\n",
    "                {\n",
    "                    \"amount\": 2,  # produces a non unitary (not 1) amount\n",
    "                    \"type\": \"production\",\n",
    "                    \"input\": (\"foreground\", \"A1\"),\n",
    "                },\n",
    "                {\n",
    "                    \"amount\": 2,\n",
    "                    \"type\": \"technosphere\",\n",
    "                    \"input\": (\"foreground\", \"B\"),\n",
    "                },\n",
    "            ],\n",
    "        },\n",
    "        (\"foreground\", \"B\"): {\n",
    "            \"name\": \"b\",\n",
    "            \"location\": \"somewhere\",\n",
    "            \"reference product\": \"b\",\n",
    "            \"exchanges\": [\n",
    "                {\n",
    "                    \"amount\": 7,  # produces a non unitary (not 1) amount\n",
    "                    \"type\": \"production\",\n",
    "                    \"input\": (\"foreground\", \"B\"),\n",
    "                },\n",
    "                {\n",
    "                    \"amount\": 0.9,\n",
    "                    \"type\": \"biosphere\",\n",
    "                    \"input\": (\"bio\", \"CO2\"),\n",
    "                },\n",
    "            ],\n",
    "        },\n",
    "\n",
    "    }\n",
    ")\n",
    "\n",
    "bd.Method((\"GWP\", \"example\")).write(\n",
    "    [\n",
    "        ((\"bio\", \"CO2\"), 1),\n",
    "    ]\n",
    ")"
   ]
  },
  {
   "cell_type": "code",
   "execution_count": 13,
   "metadata": {},
   "outputs": [
    {
     "name": "stderr",
     "output_type": "stream",
     "text": [
      "\u001b[32m2025-03-21 12:12:41.394\u001b[0m | \u001b[1mINFO    \u001b[0m | \u001b[36mbw_timex.timex_lca\u001b[0m:\u001b[36mbuild_timeline\u001b[0m:\u001b[36m217\u001b[0m - \u001b[1mNo edge filter function provided. Skipping all edges in background databases.\u001b[0m\n",
      "\u001b[32m2025-03-21 12:12:41.442\u001b[0m | \u001b[1mINFO    \u001b[0m | \u001b[36mbw_timex.timeline_builder\u001b[0m:\u001b[36mget_weights_for_interpolation_between_nearest_years\u001b[0m:\u001b[36m520\u001b[0m - \u001b[1mReference date 2024-01-01 00:00:00 is lower than all provided dates. Data will be taken from the closest higher year.\u001b[0m\n",
      "\u001b[32m2025-03-21 12:12:41.443\u001b[0m | \u001b[1mINFO    \u001b[0m | \u001b[36mbw_timex.timeline_builder\u001b[0m:\u001b[36mget_weights_for_interpolation_between_nearest_years\u001b[0m:\u001b[36m520\u001b[0m - \u001b[1mReference date 2024-01-01 00:00:00 is lower than all provided dates. Data will be taken from the closest higher year.\u001b[0m\n",
      "\u001b[32m2025-03-21 12:12:41.444\u001b[0m | \u001b[1mINFO    \u001b[0m | \u001b[36mbw_timex.timeline_builder\u001b[0m:\u001b[36mget_weights_for_interpolation_between_nearest_years\u001b[0m:\u001b[36m520\u001b[0m - \u001b[1mReference date 2024-01-01 00:00:00 is lower than all provided dates. Data will be taken from the closest higher year.\u001b[0m\n",
      "\u001b[32m2025-03-21 12:12:41.446\u001b[0m | \u001b[1mINFO    \u001b[0m | \u001b[36mbw_timex.timeline_builder\u001b[0m:\u001b[36mget_weights_for_interpolation_between_nearest_years\u001b[0m:\u001b[36m520\u001b[0m - \u001b[1mReference date 2024-01-01 00:00:00 is lower than all provided dates. Data will be taken from the closest higher year.\u001b[0m\n"
     ]
    },
    {
     "name": "stdout",
     "output_type": "stream",
     "text": [
      "Starting graph traversal\n",
      "Calculation count: 3\n"
     ]
    },
    {
     "data": {
      "application/vnd.microsoft.datawrangler.viewer.v0+json": {
       "columns": [
        {
         "name": "index",
         "rawType": "int64",
         "type": "integer"
        },
        {
         "name": "date_producer",
         "rawType": "datetime64[ns]",
         "type": "datetime"
        },
        {
         "name": "producer_name",
         "rawType": "object",
         "type": "string"
        },
        {
         "name": "date_consumer",
         "rawType": "datetime64[ns]",
         "type": "datetime"
        },
        {
         "name": "consumer_name",
         "rawType": "object",
         "type": "string"
        },
        {
         "name": "amount",
         "rawType": "object",
         "type": "unknown"
        },
        {
         "name": "temporal_market_shares",
         "rawType": "object",
         "type": "unknown"
        }
       ],
       "conversionMethod": "pd.DataFrame",
       "ref": "7bc31c43-b0a9-45ab-bf79-3b456e25d449",
       "rows": [
        [
         "0",
         "2024-01-01 00:00:00",
         "c",
         "2024-01-01 00:00:00",
         "a",
         "1.5",
         "{'db_2020': 1}"
        ],
        [
         "1",
         "2024-01-01 00:00:00",
         "a",
         "2024-01-01 00:00:00",
         "-1",
         "1.0",
         null
        ],
        [
         "2",
         "2024-01-01 00:00:00",
         "a1",
         "2024-01-01 00:00:00",
         "a",
         "4.0",
         null
        ],
        [
         "3",
         "2024-01-01 00:00:00",
         "b",
         "2024-01-01 00:00:00",
         "a1",
         "1.0",
         null
        ]
       ],
       "shape": {
        "columns": 6,
        "rows": 4
       }
      },
      "text/html": [
       "<div>\n",
       "<style scoped>\n",
       "    .dataframe tbody tr th:only-of-type {\n",
       "        vertical-align: middle;\n",
       "    }\n",
       "\n",
       "    .dataframe tbody tr th {\n",
       "        vertical-align: top;\n",
       "    }\n",
       "\n",
       "    .dataframe thead th {\n",
       "        text-align: right;\n",
       "    }\n",
       "</style>\n",
       "<table border=\"1\" class=\"dataframe\">\n",
       "  <thead>\n",
       "    <tr style=\"text-align: right;\">\n",
       "      <th></th>\n",
       "      <th>date_producer</th>\n",
       "      <th>producer_name</th>\n",
       "      <th>date_consumer</th>\n",
       "      <th>consumer_name</th>\n",
       "      <th>amount</th>\n",
       "      <th>temporal_market_shares</th>\n",
       "    </tr>\n",
       "  </thead>\n",
       "  <tbody>\n",
       "    <tr>\n",
       "      <th>0</th>\n",
       "      <td>2024-01-01</td>\n",
       "      <td>c</td>\n",
       "      <td>2024-01-01</td>\n",
       "      <td>a</td>\n",
       "      <td>1.5</td>\n",
       "      <td>{'db_2020': 1}</td>\n",
       "    </tr>\n",
       "    <tr>\n",
       "      <th>1</th>\n",
       "      <td>2024-01-01</td>\n",
       "      <td>a</td>\n",
       "      <td>2024-01-01</td>\n",
       "      <td>-1</td>\n",
       "      <td>1.0</td>\n",
       "      <td>None</td>\n",
       "    </tr>\n",
       "    <tr>\n",
       "      <th>2</th>\n",
       "      <td>2024-01-01</td>\n",
       "      <td>a1</td>\n",
       "      <td>2024-01-01</td>\n",
       "      <td>a</td>\n",
       "      <td>4.0</td>\n",
       "      <td>None</td>\n",
       "    </tr>\n",
       "    <tr>\n",
       "      <th>3</th>\n",
       "      <td>2024-01-01</td>\n",
       "      <td>b</td>\n",
       "      <td>2024-01-01</td>\n",
       "      <td>a1</td>\n",
       "      <td>1.0</td>\n",
       "      <td>None</td>\n",
       "    </tr>\n",
       "  </tbody>\n",
       "</table>\n",
       "</div>"
      ],
      "text/plain": [
       "  date_producer producer_name date_consumer consumer_name amount  \\\n",
       "0    2024-01-01             c    2024-01-01             a    1.5   \n",
       "1    2024-01-01             a    2024-01-01            -1    1.0   \n",
       "2    2024-01-01            a1    2024-01-01             a    4.0   \n",
       "3    2024-01-01             b    2024-01-01            a1    1.0   \n",
       "\n",
       "  temporal_market_shares  \n",
       "0         {'db_2020': 1}  \n",
       "1                   None  \n",
       "2                   None  \n",
       "3                   None  "
      ]
     },
     "execution_count": 13,
     "metadata": {},
     "output_type": "execute_result"
    }
   ],
   "source": [
    "bd.projects.set_current(\"__test_nonunitary_mod2__\")\n",
    "\n",
    "node_a = bd.get_node(database=\"foreground\", code=\"A\")\n",
    "\n",
    "database_dates = {\n",
    "    \"db_2020\": datetime.strptime(\"2020\", \"%Y\"), #one or two dbs don't make a difference\n",
    "    \"db_2020\": datetime.strptime(\"2030\", \"%Y\"),\n",
    "    \"foreground\": \"dynamic\",\n",
    "}\n",
    "\n",
    "tlca = TimexLCA(\n",
    "    demand={node_a: 1},\n",
    "    method=(\"GWP\", \"example\"),\n",
    "    database_dates=database_dates,\n",
    ")\n",
    "\n",
    "tlca.build_timeline(\n",
    "    starting_datetime=datetime.strptime(\"2024-01-02\", \"%Y-%m-%d\"),\n",
    ")\n"
   ]
  },
  {
   "cell_type": "code",
   "execution_count": 14,
   "metadata": {},
   "outputs": [
    {
     "name": "stdout",
     "output_type": "stream",
     "text": [
      "'a' (None, somewhere, None)\n",
      "0.7642857142857142\n",
      "0.7642857006617955\n",
      "0.9999999821743119\n"
     ]
    },
    {
     "name": "stderr",
     "output_type": "stream",
     "text": [
      "c:\\Users\\MULLERA\\AppData\\Local\\anaconda3\\envs\\test_env1\\Lib\\site-packages\\scipy\\sparse\\linalg\\_dsolve\\linsolve.py:603: SparseEfficiencyWarning: splu converted its input to CSC format\n",
      "  return splu(A).solve\n"
     ]
    }
   ],
   "source": [
    "tlca.lci()\n",
    "tlca.static_lcia()\n",
    "print(node_a)\n",
    "print(tlca.static_score)\n",
    "print(tlca.base_lca.score)\n",
    "print(tlca.base_lca.score/tlca.static_score)"
   ]
  },
  {
   "cell_type": "code",
   "execution_count": 15,
   "metadata": {},
   "outputs": [
    {
     "data": {
      "application/vnd.microsoft.datawrangler.viewer.v0+json": {
       "columns": [
        {
         "name": "index",
         "rawType": "object",
         "type": "unknown"
        },
        {
         "name": "(('db_2020', 'C'), 2030)",
         "rawType": "float64",
         "type": "float"
        },
        {
         "name": "(('foreground', 'A'), 'dynamic')",
         "rawType": "float64",
         "type": "float"
        },
        {
         "name": "(('foreground', 'A1'), 'dynamic')",
         "rawType": "float64",
         "type": "float"
        },
        {
         "name": "(('foreground', 'B'), 'dynamic')",
         "rawType": "float64",
         "type": "float"
        },
        {
         "name": "(('temporalized', 'C'), 2024)",
         "rawType": "float64",
         "type": "float"
        },
        {
         "name": "(('temporalized', 'A'), 2024)",
         "rawType": "float64",
         "type": "float"
        },
        {
         "name": "(('temporalized', 'A1'), 2024)",
         "rawType": "float64",
         "type": "float"
        },
        {
         "name": "(('temporalized', 'B'), 2024)",
         "rawType": "float64",
         "type": "float"
        }
       ],
       "conversionMethod": "pd.DataFrame",
       "ref": "90ad2ee2-4ed7-4dba-9d2d-6085b74b74ea",
       "rows": [
        [
         "(('db_2020', 'C'), 2030)",
         "3.0",
         "-1.5",
         "0.0",
         "0.0",
         "-1.0",
         "0.0",
         "0.0",
         "0.0"
        ],
        [
         "(('foreground', 'A'), 'dynamic')",
         "0.0",
         "1.0",
         "0.0",
         "0.0",
         "0.0",
         "0.0",
         "0.0",
         "0.0"
        ],
        [
         "(('foreground', 'A1'), 'dynamic')",
         "0.0",
         "-4.0",
         "2.0",
         "0.0",
         "0.0",
         "0.0",
         "0.0",
         "0.0"
        ],
        [
         "(('foreground', 'B'), 'dynamic')",
         "0.0",
         "0.0",
         "-2.0",
         "7.0",
         "0.0",
         "0.0",
         "0.0",
         "0.0"
        ],
        [
         "(('temporalized', 'C'), 2024)",
         "0.0",
         "0.0",
         "0.0",
         "0.0",
         "1.0",
         "-1.5",
         "0.0",
         "0.0"
        ],
        [
         "(('temporalized', 'A'), 2024)",
         "0.0",
         "0.0",
         "0.0",
         "0.0",
         "0.0",
         "1.0",
         "0.0",
         "0.0"
        ],
        [
         "(('temporalized', 'A1'), 2024)",
         "0.0",
         "0.0",
         "0.0",
         "0.0",
         "0.0",
         "-4.0",
         "2.0",
         "0.0"
        ],
        [
         "(('temporalized', 'B'), 2024)",
         "0.0",
         "0.0",
         "0.0",
         "0.0",
         "0.0",
         "0.0",
         "-2.0",
         "7.0"
        ]
       ],
       "shape": {
        "columns": 8,
        "rows": 8
       }
      },
      "text/html": [
       "<div>\n",
       "<style scoped>\n",
       "    .dataframe tbody tr th:only-of-type {\n",
       "        vertical-align: middle;\n",
       "    }\n",
       "\n",
       "    .dataframe tbody tr th {\n",
       "        vertical-align: top;\n",
       "    }\n",
       "\n",
       "    .dataframe thead th {\n",
       "        text-align: right;\n",
       "    }\n",
       "</style>\n",
       "<table border=\"1\" class=\"dataframe\">\n",
       "  <thead>\n",
       "    <tr style=\"text-align: right;\">\n",
       "      <th></th>\n",
       "      <th>((db_2020, C), 2030)</th>\n",
       "      <th>((foreground, A), dynamic)</th>\n",
       "      <th>((foreground, A1), dynamic)</th>\n",
       "      <th>((foreground, B), dynamic)</th>\n",
       "      <th>((temporalized, C), 2024)</th>\n",
       "      <th>((temporalized, A), 2024)</th>\n",
       "      <th>((temporalized, A1), 2024)</th>\n",
       "      <th>((temporalized, B), 2024)</th>\n",
       "    </tr>\n",
       "  </thead>\n",
       "  <tbody>\n",
       "    <tr>\n",
       "      <th>((db_2020, C), 2030)</th>\n",
       "      <td>3.0</td>\n",
       "      <td>-1.5</td>\n",
       "      <td>0.0</td>\n",
       "      <td>0.0</td>\n",
       "      <td>-1.0</td>\n",
       "      <td>0.0</td>\n",
       "      <td>0.0</td>\n",
       "      <td>0.0</td>\n",
       "    </tr>\n",
       "    <tr>\n",
       "      <th>((foreground, A), dynamic)</th>\n",
       "      <td>0.0</td>\n",
       "      <td>1.0</td>\n",
       "      <td>0.0</td>\n",
       "      <td>0.0</td>\n",
       "      <td>0.0</td>\n",
       "      <td>0.0</td>\n",
       "      <td>0.0</td>\n",
       "      <td>0.0</td>\n",
       "    </tr>\n",
       "    <tr>\n",
       "      <th>((foreground, A1), dynamic)</th>\n",
       "      <td>0.0</td>\n",
       "      <td>-4.0</td>\n",
       "      <td>2.0</td>\n",
       "      <td>0.0</td>\n",
       "      <td>0.0</td>\n",
       "      <td>0.0</td>\n",
       "      <td>0.0</td>\n",
       "      <td>0.0</td>\n",
       "    </tr>\n",
       "    <tr>\n",
       "      <th>((foreground, B), dynamic)</th>\n",
       "      <td>0.0</td>\n",
       "      <td>0.0</td>\n",
       "      <td>-2.0</td>\n",
       "      <td>7.0</td>\n",
       "      <td>0.0</td>\n",
       "      <td>0.0</td>\n",
       "      <td>0.0</td>\n",
       "      <td>0.0</td>\n",
       "    </tr>\n",
       "    <tr>\n",
       "      <th>((temporalized, C), 2024)</th>\n",
       "      <td>0.0</td>\n",
       "      <td>0.0</td>\n",
       "      <td>0.0</td>\n",
       "      <td>0.0</td>\n",
       "      <td>1.0</td>\n",
       "      <td>-1.5</td>\n",
       "      <td>0.0</td>\n",
       "      <td>0.0</td>\n",
       "    </tr>\n",
       "    <tr>\n",
       "      <th>((temporalized, A), 2024)</th>\n",
       "      <td>0.0</td>\n",
       "      <td>0.0</td>\n",
       "      <td>0.0</td>\n",
       "      <td>0.0</td>\n",
       "      <td>0.0</td>\n",
       "      <td>1.0</td>\n",
       "      <td>0.0</td>\n",
       "      <td>0.0</td>\n",
       "    </tr>\n",
       "    <tr>\n",
       "      <th>((temporalized, A1), 2024)</th>\n",
       "      <td>0.0</td>\n",
       "      <td>0.0</td>\n",
       "      <td>0.0</td>\n",
       "      <td>0.0</td>\n",
       "      <td>0.0</td>\n",
       "      <td>-4.0</td>\n",
       "      <td>2.0</td>\n",
       "      <td>0.0</td>\n",
       "    </tr>\n",
       "    <tr>\n",
       "      <th>((temporalized, B), 2024)</th>\n",
       "      <td>0.0</td>\n",
       "      <td>0.0</td>\n",
       "      <td>0.0</td>\n",
       "      <td>0.0</td>\n",
       "      <td>0.0</td>\n",
       "      <td>0.0</td>\n",
       "      <td>-2.0</td>\n",
       "      <td>7.0</td>\n",
       "    </tr>\n",
       "  </tbody>\n",
       "</table>\n",
       "</div>"
      ],
      "text/plain": [
       "                             ((db_2020, C), 2030)  ((foreground, A), dynamic)  \\\n",
       "((db_2020, C), 2030)                          3.0                        -1.5   \n",
       "((foreground, A), dynamic)                    0.0                         1.0   \n",
       "((foreground, A1), dynamic)                   0.0                        -4.0   \n",
       "((foreground, B), dynamic)                    0.0                         0.0   \n",
       "((temporalized, C), 2024)                     0.0                         0.0   \n",
       "((temporalized, A), 2024)                     0.0                         0.0   \n",
       "((temporalized, A1), 2024)                    0.0                         0.0   \n",
       "((temporalized, B), 2024)                     0.0                         0.0   \n",
       "\n",
       "                             ((foreground, A1), dynamic)  \\\n",
       "((db_2020, C), 2030)                                 0.0   \n",
       "((foreground, A), dynamic)                           0.0   \n",
       "((foreground, A1), dynamic)                          2.0   \n",
       "((foreground, B), dynamic)                          -2.0   \n",
       "((temporalized, C), 2024)                            0.0   \n",
       "((temporalized, A), 2024)                            0.0   \n",
       "((temporalized, A1), 2024)                           0.0   \n",
       "((temporalized, B), 2024)                            0.0   \n",
       "\n",
       "                             ((foreground, B), dynamic)  \\\n",
       "((db_2020, C), 2030)                                0.0   \n",
       "((foreground, A), dynamic)                          0.0   \n",
       "((foreground, A1), dynamic)                         0.0   \n",
       "((foreground, B), dynamic)                          7.0   \n",
       "((temporalized, C), 2024)                           0.0   \n",
       "((temporalized, A), 2024)                           0.0   \n",
       "((temporalized, A1), 2024)                          0.0   \n",
       "((temporalized, B), 2024)                           0.0   \n",
       "\n",
       "                             ((temporalized, C), 2024)  \\\n",
       "((db_2020, C), 2030)                              -1.0   \n",
       "((foreground, A), dynamic)                         0.0   \n",
       "((foreground, A1), dynamic)                        0.0   \n",
       "((foreground, B), dynamic)                         0.0   \n",
       "((temporalized, C), 2024)                          1.0   \n",
       "((temporalized, A), 2024)                          0.0   \n",
       "((temporalized, A1), 2024)                         0.0   \n",
       "((temporalized, B), 2024)                          0.0   \n",
       "\n",
       "                             ((temporalized, A), 2024)  \\\n",
       "((db_2020, C), 2030)                               0.0   \n",
       "((foreground, A), dynamic)                         0.0   \n",
       "((foreground, A1), dynamic)                        0.0   \n",
       "((foreground, B), dynamic)                         0.0   \n",
       "((temporalized, C), 2024)                         -1.5   \n",
       "((temporalized, A), 2024)                          1.0   \n",
       "((temporalized, A1), 2024)                        -4.0   \n",
       "((temporalized, B), 2024)                          0.0   \n",
       "\n",
       "                             ((temporalized, A1), 2024)  \\\n",
       "((db_2020, C), 2030)                                0.0   \n",
       "((foreground, A), dynamic)                          0.0   \n",
       "((foreground, A1), dynamic)                         0.0   \n",
       "((foreground, B), dynamic)                          0.0   \n",
       "((temporalized, C), 2024)                           0.0   \n",
       "((temporalized, A), 2024)                           0.0   \n",
       "((temporalized, A1), 2024)                          2.0   \n",
       "((temporalized, B), 2024)                          -2.0   \n",
       "\n",
       "                             ((temporalized, B), 2024)  \n",
       "((db_2020, C), 2030)                               0.0  \n",
       "((foreground, A), dynamic)                         0.0  \n",
       "((foreground, A1), dynamic)                        0.0  \n",
       "((foreground, B), dynamic)                         0.0  \n",
       "((temporalized, C), 2024)                          0.0  \n",
       "((temporalized, A), 2024)                          0.0  \n",
       "((temporalized, A1), 2024)                         0.0  \n",
       "((temporalized, B), 2024)                          7.0  "
      ]
     },
     "execution_count": 15,
     "metadata": {},
     "output_type": "execute_result"
    }
   ],
   "source": [
    "tlca.create_labelled_technosphere_dataframe()"
   ]
  }
 ],
 "metadata": {
  "kernelspec": {
   "display_name": "test_env1",
   "language": "python",
   "name": "python3"
  },
  "language_info": {
   "codemirror_mode": {
    "name": "ipython",
    "version": 3
   },
   "file_extension": ".py",
   "mimetype": "text/x-python",
   "name": "python",
   "nbconvert_exporter": "python",
   "pygments_lexer": "ipython3",
   "version": "3.12.9"
  }
 },
 "nbformat": 4,
 "nbformat_minor": 2
}
