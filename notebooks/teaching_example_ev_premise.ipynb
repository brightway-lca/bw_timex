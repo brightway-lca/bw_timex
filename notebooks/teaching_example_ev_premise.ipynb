{
 "cells": [
  {
   "cell_type": "markdown",
   "metadata": {},
   "source": [
    "# `bw_timex` Teaching Example - Time-explicit LCA of an Electric Vehicle\n",
    "\n",
    "Here's a rundown of the steps involved in a `TimexLCA`:\n",
    "\n",
    "<div style=\"display: flex; justify-content: center; background-color: white; border-radius: 15px; padding: 10px; width: 600px; margin: auto;\">\n",
    "  <img src=\"data/workflow.svg\" style=\"border-radius: 15px; width: 100%;\">\n",
    "</div>"
   ]
  },
  {
   "cell_type": "markdown",
   "metadata": {},
   "source": [
    "## **Step 0**: Initial Setup *(normal brightway stuff)*"
   ]
  },
  {
   "cell_type": "code",
   "execution_count": null,
   "metadata": {},
   "outputs": [],
   "source": [
    "import bw2data as bd\n",
    "\n",
    "bd.projects.set_current(\"bw25_ei310_premise\")"
   ]
  },
  {
   "cell_type": "code",
   "execution_count": null,
   "metadata": {},
   "outputs": [],
   "source": [
    "if \"foreground\" in bd.databases:\n",
    "    del bd.databases[\"foreground\"] # to make sure we create the foreground from scratch\n",
    "foreground = bd.Database(\"foreground\")\n",
    "foreground.register()"
   ]
  },
  {
   "cell_type": "markdown",
   "metadata": {},
   "source": [
    "```{mermaid}\n",
    "flowchart LR\n",
    "    car_prod_wo_battery(market for passenger car, electric, without battery, GLO):::ei-->ev_production\n",
    "    battery_production(market for battery, Li-ion, LiMn2O4, rechargeable, prismatic, GLO):::ei-->ev_production\n",
    "    ev_production(ev production):::fg-->driving\n",
    "    electricity_generation(market group for electricity, low voltage, GLO):::ei-->driving\n",
    "    driving(driving ev):::fg-->battery_eol(market for used Li-ion battery, GLO):::ei\n",
    "    driving-->fu(FU: driving 100,000 km)\n",
    "\n",
    "    classDef ei color:#222832, fill:#3fb1c5, stroke:none;\n",
    "    classDef fg color:#222832, fill:#9c5ffd, stroke:none;\n",
    "```"
   ]
  },
  {
   "cell_type": "markdown",
   "metadata": {},
   "source": [
    "Legend:\n",
    "```{mermaid}\n",
    "flowchart TB\n",
    "    background(background process):::ei\n",
    "    foreground(foreground process):::fg\n",
    "\n",
    "    classDef ei color:#222832, fill:#3fb1c5, stroke:none;\n",
    "    classDef fg color:#222832, fill:#9c5ffd, stroke:none;\n",
    "```"
   ]
  },
  {
   "cell_type": "markdown",
   "metadata": {},
   "source": [
    "### Creating foreground processes"
   ]
  },
  {
   "cell_type": "code",
   "execution_count": null,
   "metadata": {},
   "outputs": [],
   "source": [
    "ev_production = foreground.new_node(\"ev_production\", name=\"production of an electric vehicle\", unit=\"unit\")\n",
    "ev_production['reference product'] = \"electric vehicle\"\n",
    "ev_production.save()\n",
    "\n",
    "driving = foreground.new_node(\"driving\", name=\"driving an electric vehicle\", unit=\"pkm over ev lifetime\")\n",
    "driving['reference product'] = \"person transport\"\n",
    "driving.save()"
   ]
  },
  {
   "cell_type": "markdown",
   "metadata": {},
   "source": [
    "### Adding exchanges"
   ]
  },
  {
   "cell_type": "code",
   "execution_count": null,
   "metadata": {},
   "outputs": [],
   "source": [
    "ELECTRICITY_CONSUMPTION = 0.2 # kWh/km\n",
    "MILEAGE = 100_000 # km\n",
    "MASS_CAR_WITHOUT_BATTERY = 840 # kg\n",
    "MASS_BATTERY = 280 # kg"
   ]
  },
  {
   "cell_type": "code",
   "execution_count": null,
   "metadata": {},
   "outputs": [],
   "source": [
    "car_without_battery = bd.get_node(database=\"ei310_SSP2_RCP19_2025\", name=\"market for passenger car, electric, without battery\")\n",
    "battery = bd.get_node(database=\"ei310_SSP2_RCP19_2025\", name=\"market for battery, Li-ion, LiMn2O4, rechargeable, prismatic\")\n",
    "electricity = bd.get_node(database=\"ei310_SSP2_RCP19_2025\", name=\"market group for electricity, low voltage\", location=\"GLO\")\n",
    "battery_eol = bd.get_node(database=\"ei310_SSP2_RCP19_2025\", name=\"market for used Li-ion battery\")"
   ]
  },
  {
   "cell_type": "code",
   "execution_count": null,
   "metadata": {},
   "outputs": [],
   "source": [
    "ev_production.new_edge(input=ev_production, amount=1, type=\"production\").save()\n",
    "\n",
    "car_without_battery_to_ev = ev_production.new_edge(\n",
    "    input=car_without_battery,\n",
    "    amount=MASS_CAR_WITHOUT_BATTERY,\n",
    "    type=\"technosphere\"\n",
    ")\n",
    "car_without_battery_to_ev.save()\n",
    "\n",
    "battery_to_ev = ev_production.new_edge(\n",
    "    input=battery, \n",
    "    amount=MASS_BATTERY, \n",
    "    type=\"technosphere\"\n",
    ")\n",
    "battery_to_ev.save()"
   ]
  },
  {
   "cell_type": "code",
   "execution_count": null,
   "metadata": {},
   "outputs": [],
   "source": [
    "driving.new_edge(input=driving, amount=1, type=\"production\").save()\n",
    "\n",
    "ev_to_driving = driving.new_edge(\n",
    "    input=ev_production, \n",
    "    amount=1, \n",
    "    type=\"technosphere\"\n",
    ")\n",
    "ev_to_driving.save()\n",
    "\n",
    "electricity_to_driving = driving.new_edge(\n",
    "    input=electricity,\n",
    "    amount=ELECTRICITY_CONSUMPTION * MILEAGE,\n",
    "    type=\"technosphere\",\n",
    ")\n",
    "electricity_to_driving.save()\n",
    "\n",
    "driving_to_battery_eol = driving.new_edge(\n",
    "    input=battery_eol, \n",
    "    amount=-MASS_BATTERY, # used battery is \"produced\"\n",
    "    type=\"technosphere\"\n",
    ")\n",
    "driving_to_battery_eol.save()"
   ]
  },
  {
   "cell_type": "markdown",
   "metadata": {},
   "source": [
    "With this setup, we could now run a normal, static LCA:"
   ]
  },
  {
   "cell_type": "code",
   "execution_count": null,
   "metadata": {},
   "outputs": [],
   "source": [
    "import bw2calc as bc\n",
    "\n",
    "method = ('EF v3.1', 'climate change', 'global warming potential (GWP100)')\n",
    "lca = bc.LCA({driving: 1}, method)\n",
    "lca.lci()\n",
    "lca.lcia()\n",
    "lca.score"
   ]
  },
  {
   "cell_type": "markdown",
   "metadata": {},
   "source": [
    "Lateron, we'll want to use prospective background databases. We create those using premise. We save the info which database represent what point in time in a dictionary:"
   ]
  },
  {
   "cell_type": "code",
   "execution_count": null,
   "metadata": {},
   "outputs": [],
   "source": [
    "from datetime import datetime\n",
    "\n",
    "database_dates = {\n",
    "    \"ei310_SSP2_RCP19_2025\": datetime.strptime(\"2020\", \"%Y\"),\n",
    "    \"ei310_SSP2_RCP19_2030\": datetime.strptime(\"2030\", \"%Y\"),\n",
    "    \"ei310_SSP2_RCP19_2040\": datetime.strptime(\"2040\", \"%Y\"),\n",
    "    \"foreground\": \"dynamic\", # Doesn't have a fixed date, but will be distributed over time\n",
    "}"
   ]
  },
  {
   "cell_type": "markdown",
   "metadata": {},
   "source": [
    "## **Step 1**: Adding temporal information"
   ]
  },
  {
   "cell_type": "markdown",
   "metadata": {},
   "source": [
    "```{mermaid}\n",
    "flowchart LR\n",
    "    car_prod_wo_battery(market for passenger car, electric, without battery, GLO):::ei-->|1-2 years prior|ev_production\n",
    "    battery_production(market for battery, Li-ion, LiMn2O4, rechargeable, prismatic, GLO):::ei-->|6-9 months prior|ev_production\n",
    "    ev_production(ev production):::fg-->|1-3 months prior|driving\n",
    "    electricity_generation(market group for electricity, low voltage, GLO):::ei-->|uniformly distributed over lifetime|driving\n",
    "    driving(driving ev):::fg-->|3 months after lifetime|battery_eol(market for used Li-ion battery, GLO):::ei\n",
    "    driving-->fu(**FU**: driving 100,000 km, *uniformly over lifetime, starting 2025*)\n",
    "\n",
    "    classDef ei color:#222832, fill:#3fb1c5, stroke:none;\n",
    "    classDef fg color:#222832, fill:#9c5ffd, stroke:none;\n",
    "```"
   ]
  },
  {
   "cell_type": "markdown",
   "metadata": {},
   "source": [
    "### The `TemporalDistribution` class"
   ]
  },
  {
   "cell_type": "code",
   "execution_count": null,
   "metadata": {},
   "outputs": [],
   "source": [
    "from bw_temporalis import TemporalDistribution\n",
    "import numpy as np\n",
    "\n",
    "td_car_without_battery_production = TemporalDistribution(\n",
    "    date=np.array([-2, -1], dtype=\"timedelta64[Y]\"), amount=np.array([0.2, 0.8])\n",
    ")\n",
    "\n",
    "td_assembly_and_delivery = TemporalDistribution(\n",
    "    date=np.array([-3, -2, -1], dtype=\"timedelta64[M]\"), amount=np.array([0.3, 0.5, 0.2])\n",
    ")"
   ]
  },
  {
   "cell_type": "markdown",
   "metadata": {},
   "source": [
    "#### What do these TDs look like?"
   ]
  },
  {
   "cell_type": "code",
   "execution_count": null,
   "metadata": {},
   "outputs": [],
   "source": [
    "td_car_without_battery_production.graph(resolution=\"Y\")"
   ]
  },
  {
   "cell_type": "code",
   "execution_count": null,
   "metadata": {},
   "outputs": [],
   "source": [
    "td_assembly_and_delivery.graph(resolution=\"M\")"
   ]
  },
  {
   "cell_type": "code",
   "execution_count": null,
   "metadata": {},
   "outputs": [],
   "source": [
    "(td_car_without_battery_production * td_assembly_and_delivery).graph(resolution=\"M\")"
   ]
  },
  {
   "cell_type": "markdown",
   "metadata": {},
   "source": [
    "#### Creating the remaining TDs"
   ]
  },
  {
   "cell_type": "code",
   "execution_count": null,
   "metadata": {},
   "outputs": [],
   "source": [
    "from bw_temporalis import easy_timedelta_distribution\n",
    "\n",
    "\n",
    "td_battery_production = easy_timedelta_distribution(\n",
    "    start=-9,\n",
    "    end=-6,\n",
    "    resolution=\"M\",\n",
    "    steps=4,\n",
    "    kind=\"normal\", # you can also use \"uniform\" or \"triangular\"\n",
    "    param=0.5,\n",
    ")\n",
    "\n",
    "LIFETIME = 15 # years\n",
    "td_electricity_consumption = easy_timedelta_distribution(\n",
    "    start=0,\n",
    "    end=LIFETIME,\n",
    "    resolution=\"Y\",\n",
    "    steps=(LIFETIME + 1),\n",
    "    kind=\"uniform\",\n",
    ")\n",
    "\n",
    "td_battery_eol = TemporalDistribution(\n",
    "    date=np.array([LIFETIME * 12 + 3], dtype=\"timedelta64[M]\"), amount=np.array([1])\n",
    ")\n"
   ]
  },
  {
   "cell_type": "markdown",
   "metadata": {},
   "source": [
    "#### Adding TDs to the exchanges"
   ]
  },
  {
   "cell_type": "code",
   "execution_count": null,
   "metadata": {},
   "outputs": [],
   "source": [
    "car_without_battery_to_ev['temporal_distribution'] = td_car_without_battery_production\n",
    "car_without_battery_to_ev.save()\n",
    "\n",
    "battery_to_ev['temporal_distribution'] = td_battery_production\n",
    "battery_to_ev.save()\n",
    "\n",
    "ev_to_driving['temporal_distribution'] = td_assembly_and_delivery\n",
    "ev_to_driving.save()\n",
    "\n",
    "# if you dont have the exchange object at hand, you can also use our util function:\n",
    "from bw_timex.utils import add_temporal_distribution_to_exchange\n",
    "\n",
    "add_temporal_distribution_to_exchange(\n",
    "    td_electricity_consumption,\n",
    "    input_node = electricity,\n",
    "    output_node = driving,\n",
    ")\n",
    "\n",
    "add_temporal_distribution_to_exchange(\n",
    "    td_battery_eol,\n",
    "    input_node = battery_eol,\n",
    "    output_node = driving,\n",
    ")"
   ]
  },
  {
   "cell_type": "markdown",
   "metadata": {},
   "source": [
    "## **Step 2**: Building the process timeline"
   ]
  },
  {
   "cell_type": "code",
   "execution_count": null,
   "metadata": {},
   "outputs": [],
   "source": [
    "from bw_timex import TimexLCA"
   ]
  },
  {
   "cell_type": "code",
   "execution_count": null,
   "metadata": {},
   "outputs": [],
   "source": [
    "tlca = TimexLCA({driving: 1}, method, database_dates)"
   ]
  },
  {
   "cell_type": "code",
   "execution_count": null,
   "metadata": {},
   "outputs": [],
   "source": [
    "tlca.build_timeline(starting_datetime=\"2025-01-01\", temporal_grouping=\"month\")"
   ]
  },
  {
   "cell_type": "markdown",
   "metadata": {},
   "source": [
    "## **Step 3**: Calculating the time-explicit LCI"
   ]
  },
  {
   "cell_type": "code",
   "execution_count": null,
   "metadata": {},
   "outputs": [],
   "source": [
    "tlca.lci()"
   ]
  },
  {
   "cell_type": "markdown",
   "metadata": {},
   "source": [
    "Under the hood, before solving the inventory problem, we're re-build the technosphere and biosphere matrices here. New rows and columns are added to carry the extra temporal information. Details are explained in the [Theory Section](https://docs.brightway.dev/projects/bw-timex/en/latest/content/theory.html#modifying-the-matrices) of our docs."
   ]
  },
  {
   "cell_type": "markdown",
   "metadata": {},
   "source": [
    "## **Step 4**: Impact assessment"
   ]
  },
  {
   "cell_type": "markdown",
   "metadata": {},
   "source": [
    "The simplest case, static LCIA:"
   ]
  },
  {
   "cell_type": "code",
   "execution_count": null,
   "metadata": {},
   "outputs": [],
   "source": [
    "tlca.static_lcia()\n",
    "tlca.static_score"
   ]
  },
  {
   "cell_type": "markdown",
   "metadata": {},
   "source": [
    "But there is more: `bw_timex` retains temporal information in the inventory, allowing for dynamic LCIA:"
   ]
  },
  {
   "cell_type": "code",
   "execution_count": null,
   "metadata": {},
   "outputs": [],
   "source": [
    "tlca.dynamic_lcia(metric=\"GWP\")"
   ]
  },
  {
   "cell_type": "code",
   "execution_count": null,
   "metadata": {},
   "outputs": [],
   "source": [
    "from bw_timex.utils import plot_characterized_inventory_as_waterfall\n",
    "plot_characterized_inventory_as_waterfall(tlca)"
   ]
  },
  {
   "cell_type": "markdown",
   "metadata": {},
   "source": [
    "In addition to the \"standard\" GWP, we can go even more dynamic, directly assessing radiative forcing:"
   ]
  },
  {
   "cell_type": "code",
   "execution_count": null,
   "metadata": {},
   "outputs": [],
   "source": [
    "tlca.dynamic_lcia(\n",
    "    metric=\"radiative_forcing\",\n",
    "    time_horizon=30,\n",
    ")"
   ]
  },
  {
   "cell_type": "code",
   "execution_count": null,
   "metadata": {},
   "outputs": [],
   "source": [
    "tlca.plot_dynamic_characterized_inventory(\n",
    "    sum_emissions_within_activity=True,\n",
    ")"
   ]
  }
 ],
 "metadata": {
  "kernelspec": {
   "display_name": "timex",
   "language": "python",
   "name": "python3"
  },
  "language_info": {
   "codemirror_mode": {
    "name": "ipython",
    "version": 3
   },
   "file_extension": ".py",
   "mimetype": "text/x-python",
   "name": "python",
   "nbconvert_exporter": "python",
   "pygments_lexer": "ipython3",
   "version": "3.11.13"
  }
 },
 "nbformat": 4,
 "nbformat_minor": 4
}
