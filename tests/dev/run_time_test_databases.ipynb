{
 "cells": [
  {
   "cell_type": "markdown",
   "metadata": {},
   "source": [
    "## Standardized test cases"
   ]
  },
  {
   "cell_type": "markdown",
   "metadata": {},
   "source": [
    "For benchmarking, we need a standardized set of case studies, ranging form simple to very large. This helps us to test and track the performance of improvements of bw_timex with the same set of test cases.\n"
   ]
  },
  {
   "cell_type": "markdown",
   "metadata": {},
   "source": [
    "### 0) set up variables & functions"
   ]
  },
  {
   "cell_type": "code",
   "execution_count": 1,
   "metadata": {},
   "outputs": [],
   "source": [
    "import numpy as np\n",
    "import bw2data as bd\n",
    "\n",
    "from bw_temporalis import TemporalDistribution\n",
    "from datetime import datetime\n",
    "\n",
    "from cProfile import Profile\n",
    "from pstats import SortKey, Stats"
   ]
  },
  {
   "cell_type": "code",
   "execution_count": 2,
   "metadata": {},
   "outputs": [],
   "source": [
    "assert 'timex' in bd.projects\n",
    "if 'timex' not in bd.projects:\n",
    "    import bw2io as bi\n",
    "    bi.backup.restore_project_directory(fp= 'your/path/to/file/backupfile.tar.gz',\n",
    "                                    overwrite_existing=True)"
   ]
  },
  {
   "cell_type": "code",
   "execution_count": 3,
   "metadata": {},
   "outputs": [
    {
     "data": {
      "text/plain": [
       "Databases dictionary with 1 object(s):\n",
       "\tbiosphere3"
      ]
     },
     "execution_count": 3,
     "metadata": {},
     "output_type": "execute_result"
    }
   ],
   "source": [
    "\n",
    "bd.databases"
   ]
  },
  {
   "cell_type": "code",
   "execution_count": 4,
   "metadata": {},
   "outputs": [
    {
     "name": "stdout",
     "output_type": "stream",
     "text": [
      "['test_small']\n",
      "Databases dictionary with 7 object(s):\n",
      "\tbiosphere\n",
      "\tecoinvent-3.10-biosphere\n",
      "\tecoinvent-3.10-cutoff\n",
      "\tei310_IMAGE_SSP2_RCP19_2020_electricity\n",
      "\tei310_IMAGE_SSP2_RCP19_2030_electricity\n",
      "\tei310_IMAGE_SSP2_RCP19_2040_electricity\n",
      "\tforeground\n"
     ]
    }
   ],
   "source": [
    "bd.projects.set_current(\"timex\")\n",
    "to_delete = []\n",
    "for db in bd.databases: #deleting all test_systems\n",
    "    if \"test\" in db:\n",
    "        to_delete.append(db)\n",
    "print(to_delete)\n",
    "\n",
    "for db in to_delete:\n",
    "    del bd.databases[db] \n",
    "\n",
    "print(bd.databases)"
   ]
  },
  {
   "cell_type": "code",
   "execution_count": 5,
   "metadata": {},
   "outputs": [],
   "source": [
    "base_background_db = bd.Database(\"ei310_IMAGE_SSP2_RCP19_2020_electricity\")"
   ]
  },
  {
   "cell_type": "code",
   "execution_count": 6,
   "metadata": {},
   "outputs": [],
   "source": [
    "# list_random_acts = []\n",
    "# for i in range(0, 100):\n",
    "#     act = base_background_db.random()\n",
    "#     list_random_acts.append((act[\"code\"]))"
   ]
  },
  {
   "cell_type": "code",
   "execution_count": 7,
   "metadata": {},
   "outputs": [],
   "source": [
    "#created by Amelie from cell above\n",
    "fixed_random_acts = ['413d39ccf7df41e0ab3ba3235f2a18b3', '61509bd071a4fda35bdff55d9099bd10', 'fe3220b739ec4e8fb31c349cbc3e7592', '366a6d4bc20340d887492ca37ef05e44', 'd381c55db382e2a32a61b5052ac9e0bc', 'a72e756d6bf75cd2261ff8a85f5e8d7d', '368183f3747ff59590ae360f26c41938', 'e0337f899fc9a5a335d0d34059d073a7', '859bdf006eb63da45068d07d628fe2d0', '6c46344dba484b688b81724b94f892fb', '718efefd501788a8e7d34091c142f5bf', 'c5ce453090e24917b2d20a2b5401ceea', '6b458afa4e04a34ee1eab72e2187db57', '7c02589d38a8ebe7730b84c69cced834', 'cfb6a5fd92605adcdf8ac016117b1bf2', '726a73f728c2f40a1c38a7a8818fd561', '5043bfcd8aa2f8f9ece4993e399ab2e5', '710ebcc0ef46858b11fa6a8d9855659e', '12abcffb21749f413998f92dcd9e3df6', '5c9c7c2df92a4113913d422f2c391ae7', '7be9d1fe9ad573a4a65d64d0f2918a3d', '75575808b29649587a25c44a5fa1fb44', 'de8f562bc09d360c74a364698991bf2d', '5df53982de25cec816af740f9771fbe8', 'ec6af463696c6dcfd36aeecfea3db8f1', '2b6e9470628e82e012e10cf2914f2fce', 'gaas_4', '022c223c1a6f4f609ee1b3b5488b1727', '6ddd150394f3485c27947e82e5d67b2b', '35e4bb257b5da0271d02c2cc51560dcd', '82b28d684680d09d636bae5b936c9b3e', '82edb367427f6bd1c2c66a85295b42bb', '35ebbd3df417434eab26b06154f86ede', 'ac4aed5238212a782199463386c1a7da', '3684b170cdad51130ac697e254ed832c', '5d9a11ca930c3246279972f27ef21470', '07d9c106a8585cde1e07f222ee20de55', 'e65d3ba6312a5895324697668e16e0c3', '695fe6ceb13b3fd67be725eb9dc37794', '1e805a4fff6e93965cc5a86445045953', '7da536778d811cb6fbb6da7da56d9552', '54b2952ac69454c9eb7c2e5610508ad7', 'e28f3fcd5f31c4b88c29f0c2582278f4', '5218269bfd071b1a25aa04479068a1c1', '5579a190a05086c1c71841194e0ad8fe', 'cc16405a6a2d431f86ce0133b1e7e7a0', 'a87bbdc22b3032ba3592d20a489d322c', 'fcfdb0039efc325f23c7b796f8e99bd7', '8499425615f15e222d3f351a80541237', 'adabde2043e70876877d022ba602b3ae', 'e2fad698f73847f6f485d61ed4ab5ccc', 'c845df8016ef1945e725052cdb8e5628', 'c9d8ee97d295790ff15482a88088ef09', '4cb938b8a49683e82d621c4708810245', 'b39303d7f4595ca157599c928bf637d4', 'd29ea81dd6694927b10fb63f43405319', '33cdd5ae4a864de8a5d8e96944a3c0d9', '3e4636c941fead54e9098f002b916d20', 'deeb9755c7fb9e34d9527f92281a4036', 'dbc7a6cdeb62474fafe298887d3ab762', 'edf07b8e432b303dd815685ee43bcabb', 'a023cb6dfa8a43b5adb64bd6fe817948', '4d4b4baf68e84acf5ab531b00ce11b97', '9d50b22e553048fdb03bd51860827471', '200b9ec67588ca3b72b846f9e2f2ac6c', '03db8f023142a84ee971ca3b8f496056', '9dfcba1a3531f34c8b5f78238e2abad2', '241b6545f79c4a27a4b249091885e748', '82abfe77a5acdd9bebf4a4ccabccd7c3', '52c6ddfa5a472219c7bfccefc6e0abda', 'cf282afd70d1f2e0827296e8d8f7793d', 'c0325f3b5f3e1351527a96505d5f8627', 'fb7c379849825156878685aee1c397e6', 'a75b64db7dbd0bd03a29ce7312fc73e4', 'ee6c982ed16f0408090bc21ff57dfcb1', '0dcc429b44d867ed8f97e825849635e5', 'bd43a26a3e741cf79d5c8302de1b6183', 'e78e7465d2883bf9761060f02a57d347', '39663eb7360e4bff044fe364101c77d7', 'cd8731d74dd630036ccbb9ec8093a765', 'a8f4e24a673115218914d22e1d5f56e9', 'dc75be81bfeadad7108da983e0892517', '4019ccc70cb4aef39c6ac9754a982bcf', 'b835dee82350b353d2fee88daa07cb12', '6ddb258254a59b65cdffdc4d3d9a8173', '42472d9cb7a843cd4da22fec38844569', 'd17ed61046a64649863656b7d6803c3f', '9c584ad05905021f8b1d9014ffa47faa', 'ae4c7c7f021e4601a4f9b4e6d7749d5d', 'be47eee7e8baad5ec086ce3faa750057', '2a54b0efec6081a21f28e5d872f39718', '2fb1edc5fae96916c608bd7c8c2a22c2', 'ed9de9cc8bbebcc7cb2d18ee76292c55', '8f65daaa9301ffabbe53800495390ad4', '49efabed4e7747916d6e42b5e27651bb', '99b425f7e13fdf832ac1c128aff0642f', 'b6a457b4716a824577e9eb9ff2daf28a', '15516091e07004de2f275891dc980671', '9c4433c53c6413d47737f6f2011c9859', 'a94b3446d67eaaed30eef42513790567']"
   ]
  },
  {
   "cell_type": "code",
   "execution_count": 8,
   "metadata": {},
   "outputs": [
    {
     "name": "stdout",
     "output_type": "stream",
     "text": [
      "'light duty truck, battery electric, 7.5t gross weight, long haul' (unit, RER, None)\n",
      "'market for oriented strand board' (cubic meter, RER, None)\n",
      "'Medium duty truck, diesel, 26t gross weight, EURO-IV, long haul' (unit, RER, None)\n",
      "'market group for electricity, low voltage, 20-year period' (kilowatt hour, INDIA, None)\n"
     ]
    }
   ],
   "source": [
    "for code in fixed_random_acts[:4]: #check the nodes\n",
    "    node = base_background_db.get(code = code)\n",
    "    print(node)"
   ]
  },
  {
   "cell_type": "code",
   "execution_count": 9,
   "metadata": {},
   "outputs": [],
   "source": [
    "def create_standardized_test_system(db_name, number_tiers, number_processes_per_tier, td_timesteps, td_dtype, fixed_random_acts, number_background_exchanges_per_process, loop = False):\n",
    "    \"\"\"\n",
    "    Create a foreground database with a standardized structure for testing purposes. It contains number_tiers supply chain levels, with each containing \n",
    "    number_processes_per_tier processes. Each process consumes from all processes in the tier below. At the last tier, each process consumes a certain numebr of background process\n",
    "    Each process has a temporal distribution with td_timesteps steps, e.g. 3, in td_dtype resolution, e.g. years, starting at a unit of time later than the consuming process\n",
    "    The last tier consumes a process from the background system in 2020, selecting a process from a predefined list of random processes, with the same temporal distribution as above.\n",
    "    If loop = True, a loop is included: the last process in last tier consumes from the last process in first tier, no TDs at this node.\n",
    "    No additional TDs at biosphere flows.\n",
    "\n",
    "    Parameters:\n",
    "    db_name: str, name of the database\n",
    "    number_tiers: int, number of tiers in the supply chain\n",
    "    number_processes_per_tier: int, number of processes per tier\n",
    "    td_timesteps: int, number of timesteps in the temporal distribution\n",
    "    td_dtype: str, dtype of the temporal distribution, e.g. \"timedelta64[Y]\" or \"timedelta64[M]\"\n",
    "    fixed_random_acts: a list of 100 background activities codes that has been pre-generated\n",
    "    number_background_exchanges_per_process: int, number of background exchanges per process in the last tier\n",
    "    loop: bool, whether to include a loop in the foreground system\n",
    "\n",
    "    returns: None\n",
    "\n",
    "    \n",
    "    \"\"\"\n",
    "    \n",
    "    # create a new database\n",
    "    if db_name in bd.databases:\n",
    "        del bd.databases[db_name]\n",
    "        print(f\"Database {db_name} already exists, overwriting.\")\n",
    "    foreground = bd.Database(db_name)\n",
    "    foreground.register()\n",
    "\n",
    "    background_db = bd.Database(\"ei310_IMAGE_SSP2_RCP19_2020_electricity\") # background database for 2020 in timex project\n",
    "\n",
    "    # save FU node\n",
    "    FU_node = foreground.new_node(\n",
    "        code=\"FU\",\n",
    "        name=\"functional unit\",\n",
    "        unit = \"unit\"\n",
    "    )\n",
    "    FU_node.save()\n",
    "    FU_node.new_edge(input=FU_node , amount=1, unit = \"unit\", type=\"production\").save()\n",
    "\n",
    "    #create nodes\n",
    "    for tier in range(1, number_tiers+1):\n",
    "        for process in range(1, number_processes_per_tier+1):\n",
    "            process_name = f'tier{tier}_act{process}'\n",
    "            process_code = f't{tier}_a{process}'\n",
    "            process_node = foreground.new_node(\n",
    "                code=process_code,\n",
    "                name=process_name,\n",
    "                unit = \"unit\"\n",
    "            )\n",
    "            process_node.save()\n",
    "            process_node.new_edge(input=process_node , amount=1, unit = \"unit\", type=\"production\").save()\n",
    "\n",
    "    #relink nodes\n",
    "    for tier in range(1, number_tiers+1):\n",
    "        for process in range(1, number_processes_per_tier+1):\n",
    "            process_name = f'tier{tier}_act{process}'\n",
    "            process_code = f't{tier}_a{process}'\n",
    "            process_node = foreground.get(process_code)\n",
    "            if tier == 1: #tier 1 = FU\n",
    "                consuming_node = FU_node\n",
    "                new_edge = consuming_node.new_edge(input=process_node , amount=1, unit = \"unit\", type=\"technosphere\")\n",
    "                new_edge.save()\n",
    "            else: # lower tiers: all nodes at the tier above consume from all nodes at the tier below, with a temporal distribution specified by the inputs\n",
    "                for process in range(1, number_processes_per_tier+1):\n",
    "                    consuming_node = foreground.get(f't{tier-1}_a{process}')\n",
    "                    new_edge = consuming_node.new_edge(input=process_node , amount=1, unit = \"unit\", type=\"technosphere\")\n",
    "                    temporal_distribution = TemporalDistribution(date = np.array(np.arange(1, td_timesteps+1), dtype = td_dtype), \n",
    "                                                                amount = np.full(td_timesteps, 1 / td_timesteps)) #linear distribution between 1 and td_timesteps in years\n",
    "                    new_edge[\"temporal_distribution\"] = temporal_distribution\n",
    "                    new_edge.save()\n",
    "\n",
    "    # add background process to nodes on last tier\n",
    "    count_background_act = 0 #counting upward in list of random acts\n",
    "    total_background_count = 0\n",
    "    for process in range(1, number_processes_per_tier+1):\n",
    "        last_foreground_node = foreground.get(f't{number_tiers}_a{process}')\n",
    "\n",
    "        for _ in range (1, number_background_exchanges_per_process+1):\n",
    "            background_process = background_db.get(code = fixed_random_acts[count_background_act])\n",
    "            count_background_act += 1\n",
    "            \n",
    "            new_edge = last_foreground_node.new_edge(input=background_process, amount=4, type=\"technosphere\")\n",
    "            temporal_distribution = TemporalDistribution(date = np.array(np.arange(1, td_timesteps+1), dtype = td_dtype),\n",
    "                                                            amount = np.full(td_timesteps, 1 / td_timesteps)) #linear distribution between 1 and td_timesteps in years\n",
    "            new_edge[\"temporal_distribution\"] = temporal_distribution\n",
    "            new_edge.save()\n",
    "\n",
    "            if count_background_act == 99: # if all 100 background processes have been used, start again\n",
    "                total_background_count +=count_background_act \n",
    "                count_background_act = 0\n",
    "\n",
    "    if loop:\n",
    "        # add loop to foreground: last process in last tier consumes from last process in first tier, no TDs\n",
    "        loop_consumer = foreground.get(f't{number_tiers}_a{number_processes_per_tier}')\n",
    "        loop_producer = foreground.get(f't{1}_a{number_processes_per_tier}')\n",
    "        new_edge = loop_consumer.new_edge(input=loop_producer, amount=0.3, type=\"technosphere\")\n",
    "        new_edge.save()\n",
    "\n",
    "    count_exc = 0\n",
    "    for act in foreground:\n",
    "        for exc in act.technosphere():\n",
    "            count_exc += 1\n",
    "\n",
    "    total_background_count +=count_background_act #number of background processes used in total\n",
    "            \n",
    "    print(f\"Database {db_name} created with {len(foreground)} processes and {count_exc} exchanges. There are {total_background_count} different background processes used.\")"
   ]
  },
  {
   "cell_type": "markdown",
   "metadata": {},
   "source": [
    "### 1) small system"
   ]
  },
  {
   "cell_type": "code",
   "execution_count": 10,
   "metadata": {},
   "outputs": [
    {
     "name": "stdout",
     "output_type": "stream",
     "text": [
      "Database test_small created with 5 processes and 10 exchanges. There are 4 different background processes used.\n"
     ]
    }
   ],
   "source": [
    "db_name = \"test_small\"\n",
    "create_standardized_test_system(db_name = db_name, number_tiers = 2 , number_processes_per_tier=2,\n",
    "                                td_timesteps= 2, td_dtype = \"timedelta64[Y]\", fixed_random_acts= fixed_random_acts, number_background_exchanges_per_process = 2, loop = False)\n",
    "                               "
   ]
  },
  {
   "cell_type": "code",
   "execution_count": 11,
   "metadata": {},
   "outputs": [
    {
     "name": "stdout",
     "output_type": "stream",
     "text": [
      "'tier2_act2' (unit, GLO, None)\n",
      "-- production | Exchange: 1 unit 'tier2_act2' (unit, GLO, None) to 'tier2_act2' (unit, GLO, None)> | None\n",
      "-- technosphere | Exchange: 4 unit 'Medium duty truck, diesel, 26t gross weight, EURO-IV, long haul' (unit, RER, None) to 'tier2_act2' (unit, GLO, None)> | TemporalDistribution instance with 2 values and total: 1\n",
      "-- technosphere | Exchange: 4 kilowatt hour 'market group for electricity, low voltage, 20-year period' (kilowatt hour, INDIA, None) to 'tier2_act2' (unit, GLO, None)> | TemporalDistribution instance with 2 values and total: 1\n",
      "\n",
      "\n",
      "'tier2_act1' (unit, GLO, None)\n",
      "-- production | Exchange: 1 unit 'tier2_act1' (unit, GLO, None) to 'tier2_act1' (unit, GLO, None)> | None\n",
      "-- technosphere | Exchange: 4 unit 'light duty truck, battery electric, 7.5t gross weight, long haul' (unit, RER, None) to 'tier2_act1' (unit, GLO, None)> | TemporalDistribution instance with 2 values and total: 1\n",
      "-- technosphere | Exchange: 4 cubic meter 'market for oriented strand board' (cubic meter, RER, None) to 'tier2_act1' (unit, GLO, None)> | TemporalDistribution instance with 2 values and total: 1\n",
      "\n",
      "\n",
      "'functional unit' (unit, GLO, None)\n",
      "-- production | Exchange: 1 unit 'functional unit' (unit, GLO, None) to 'functional unit' (unit, GLO, None)> | None\n",
      "-- technosphere | Exchange: 1 unit 'tier1_act1' (unit, GLO, None) to 'functional unit' (unit, GLO, None)> | None\n",
      "-- technosphere | Exchange: 1 unit 'tier1_act2' (unit, GLO, None) to 'functional unit' (unit, GLO, None)> | None\n",
      "\n",
      "\n",
      "'tier1_act2' (unit, GLO, None)\n",
      "-- production | Exchange: 1 unit 'tier1_act2' (unit, GLO, None) to 'tier1_act2' (unit, GLO, None)> | None\n",
      "-- technosphere | Exchange: 1 unit 'tier2_act1' (unit, GLO, None) to 'tier1_act2' (unit, GLO, None)> | TemporalDistribution instance with 2 values and total: 1\n",
      "-- technosphere | Exchange: 1 unit 'tier2_act2' (unit, GLO, None) to 'tier1_act2' (unit, GLO, None)> | TemporalDistribution instance with 2 values and total: 1\n",
      "\n",
      "\n",
      "'tier1_act1' (unit, GLO, None)\n",
      "-- production | Exchange: 1 unit 'tier1_act1' (unit, GLO, None) to 'tier1_act1' (unit, GLO, None)> | None\n",
      "-- technosphere | Exchange: 1 unit 'tier2_act1' (unit, GLO, None) to 'tier1_act1' (unit, GLO, None)> | TemporalDistribution instance with 2 values and total: 1\n",
      "-- technosphere | Exchange: 1 unit 'tier2_act2' (unit, GLO, None) to 'tier1_act1' (unit, GLO, None)> | TemporalDistribution instance with 2 values and total: 1\n",
      "\n",
      "\n"
     ]
    }
   ],
   "source": [
    "# check db entries:\n",
    "foreground = bd.Database(db_name)\n",
    "for act in foreground:\n",
    "    print(act)\n",
    "    for exc in act.exchanges():\n",
    "        td = exc.get(\"temporal_distribution\", None)\n",
    "        print(\"--\", exc[\"type\"],\"|\", exc,\"|\", td)  \n",
    "    print (\"\\n\")"
   ]
  },
  {
   "cell_type": "code",
   "execution_count": 12,
   "metadata": {},
   "outputs": [],
   "source": [
    "database_dates = {\n",
    "    \"ei310_IMAGE_SSP2_RCP19_2020_electricity\": datetime.strptime(\"2020\", \"%Y\"),\n",
    "    \"ei310_IMAGE_SSP2_RCP19_2030_electricity\": datetime.strptime(\"2030\", \"%Y\"),\n",
    "    \"ei310_IMAGE_SSP2_RCP19_2040_electricity\": datetime.strptime(\"2040\", \"%Y\"),\n",
    "    db_name: \"dynamic\",\n",
    "}"
   ]
  },
  {
   "cell_type": "code",
   "execution_count": 13,
   "metadata": {},
   "outputs": [
    {
     "name": "stdout",
     "output_type": "stream",
     "text": [
      "         3066698 function calls (3062532 primitive calls) in 6.984 seconds\n",
      "\n",
      "   Ordered by: cumulative time\n",
      "   List reduced from 1069 to 10 due to restriction <10>\n",
      "\n",
      "   ncalls  tottime  percall  cumtime  percall filename:lineno(function)\n",
      "        1    0.000    0.000    6.984    6.984 C:\\Users\\MULLERA\\OneDrive - VITO\\Documents\\04_Coding\\tictac_lca\\bw_timex\\timex_lca.py:91(__init__)\n",
      "        1    0.000    0.000    3.457    3.457 c:\\Users\\MULLERA\\AppData\\Local\\anaconda3\\envs\\timex_temporalis_local\\Lib\\site-packages\\bw2calc\\lca.py:384(lci)\n",
      "        1    0.000    0.000    3.007    3.007 c:\\Users\\MULLERA\\AppData\\Local\\anaconda3\\envs\\timex_temporalis_local\\Lib\\site-packages\\bw2calc\\lca.py:411(lci_calculation)\n",
      "        1    0.000    0.000    2.945    2.945 c:\\Users\\MULLERA\\AppData\\Local\\anaconda3\\envs\\timex_temporalis_local\\Lib\\site-packages\\bw2calc\\lca.py:366(solve_linear_system)\n",
      "        1    0.000    0.000    2.945    2.945 c:\\Users\\MULLERA\\AppData\\Local\\anaconda3\\envs\\timex_temporalis_local\\Lib\\site-packages\\pypardiso\\scipy_aliases.py:12(spsolve)\n",
      "        2    2.936    1.468    2.936    1.468 c:\\Users\\MULLERA\\AppData\\Local\\anaconda3\\envs\\timex_temporalis_local\\Lib\\site-packages\\pypardiso\\pardiso_wrapper.py:266(_call_pardiso)\n",
      "        1    0.001    0.001    2.914    2.914 c:\\Users\\MULLERA\\AppData\\Local\\anaconda3\\envs\\timex_temporalis_local\\Lib\\site-packages\\pypardiso\\pardiso_wrapper.py:145(factorize)\n",
      "        1    0.029    0.029    2.607    2.607 C:\\Users\\MULLERA\\OneDrive - VITO\\Documents\\04_Coding\\tictac_lca\\bw_timex\\timex_lca.py:986(create_node_collections)\n",
      "    26901    0.089    0.000    2.515    0.000 c:\\Users\\MULLERA\\AppData\\Local\\anaconda3\\envs\\timex_temporalis_local\\Lib\\site-packages\\bw2data\\backends\\base.py:316(__iter__)\n",
      "   112033    0.075    0.000    2.343    0.000 c:\\Users\\MULLERA\\AppData\\Local\\anaconda3\\envs\\timex_temporalis_local\\Lib\\site-packages\\peewee.py:4664(next)\n",
      "\n",
      "\n"
     ]
    },
    {
     "data": {
      "text/plain": [
       "<pstats.Stats at 0x2c90a657a70>"
      ]
     },
     "execution_count": 13,
     "metadata": {},
     "output_type": "execute_result"
    }
   ],
   "source": [
    "from bw_timex import TimexLCA\n",
    "FU_node = bd.Database(db_name).get(\"FU\")\n",
    "\n",
    "with Profile() as profile:\n",
    "    tlca = TimexLCA(\n",
    "        demand={FU_node: 1},\n",
    "        method=(\"EF v3.1\", \"climate change\", \"global warming potential (GWP100)\"),\n",
    "        database_dates=database_dates,\n",
    "    )\n",
    "Stats(profile).sort_stats(SortKey.CUMULATIVE).print_stats(10)"
   ]
  },
  {
   "cell_type": "code",
   "execution_count": 14,
   "metadata": {},
   "outputs": [
    {
     "name": "stderr",
     "output_type": "stream",
     "text": [
      "C:\\Users\\MULLERA\\OneDrive - VITO\\Documents\\04_Coding\\tictac_lca\\bw_timex\\timex_lca.py:208: UserWarning: No edge filter function provided. Skipping all edges in background databases.\n",
      "  warnings.warn(\n"
     ]
    },
    {
     "name": "stdout",
     "output_type": "stream",
     "text": [
      "Starting graph traversal\n",
      "Calculation count: 14\n",
      "         7027143 function calls (6772851 primitive calls) in 11.147 seconds\n",
      "\n",
      "   Ordered by: cumulative time\n",
      "   List reduced from 1534 to 10 due to restriction <10>\n",
      "\n",
      "   ncalls  tottime  percall  cumtime  percall filename:lineno(function)\n",
      "    81089    0.097    0.000    6.676    0.000 c:\\Users\\MULLERA\\AppData\\Local\\anaconda3\\envs\\timex_temporalis_local\\Lib\\site-packages\\peewee.py:4664(next)\n",
      "    81061    0.133    0.000    6.578    0.000 c:\\Users\\MULLERA\\AppData\\Local\\anaconda3\\envs\\timex_temporalis_local\\Lib\\site-packages\\peewee.py:4578(iterate)\n",
      "    80869    0.315    0.000    4.413    0.000 c:\\Users\\MULLERA\\AppData\\Local\\anaconda3\\envs\\timex_temporalis_local\\Lib\\site-packages\\peewee.py:7894(process_row)\n",
      "    80869    0.360    0.000    2.690    0.000 c:\\Users\\MULLERA\\AppData\\Local\\anaconda3\\envs\\timex_temporalis_local\\Lib\\site-packages\\peewee.py:7852(process_row)\n",
      "  194/192    0.000    0.000    2.390    0.012 c:\\Users\\MULLERA\\AppData\\Local\\anaconda3\\envs\\timex_temporalis_local\\Lib\\site-packages\\peewee.py:2012(inner)\n",
      "      192    0.000    0.000    2.389    0.012 c:\\Users\\MULLERA\\AppData\\Local\\anaconda3\\envs\\timex_temporalis_local\\Lib\\site-packages\\peewee.py:2087(execute)\n",
      "      192    0.001    0.000    2.195    0.011 c:\\Users\\MULLERA\\AppData\\Local\\anaconda3\\envs\\timex_temporalis_local\\Lib\\site-packages\\peewee.py:2260(_execute)\n",
      "      192    0.001    0.000    2.192    0.011 c:\\Users\\MULLERA\\AppData\\Local\\anaconda3\\envs\\timex_temporalis_local\\Lib\\site-packages\\peewee.py:3307(execute)\n",
      "      192    0.001    0.000    2.086    0.011 c:\\Users\\MULLERA\\AppData\\Local\\anaconda3\\envs\\timex_temporalis_local\\Lib\\site-packages\\peewee.py:3298(execute_sql)\n",
      "      192    2.084    0.011    2.084    0.011 {method 'execute' of 'sqlite3.Cursor' objects}\n",
      "\n",
      "\n"
     ]
    },
    {
     "data": {
      "text/plain": [
       "<pstats.Stats at 0x2c90a07af00>"
      ]
     },
     "execution_count": 14,
     "metadata": {},
     "output_type": "execute_result"
    }
   ],
   "source": [
    "with Profile() as profile:\n",
    "    tlca.build_timeline()\n",
    "Stats(profile).sort_stats(SortKey.CUMULATIVE).print_stats(10)"
   ]
  },
  {
   "cell_type": "code",
   "execution_count": 15,
   "metadata": {},
   "outputs": [
    {
     "name": "stdout",
     "output_type": "stream",
     "text": [
      "         6964408 function calls (6869027 primitive calls) in 18.994 seconds\n",
      "\n",
      "   Ordered by: cumulative time\n",
      "   List reduced from 1404 to 10 due to restriction <10>\n",
      "\n",
      "   ncalls  tottime  percall  cumtime  percall filename:lineno(function)\n",
      "      2/1    0.000    0.000   18.995   18.995 C:\\Users\\MULLERA\\OneDrive - VITO\\Documents\\04_Coding\\tictac_lca\\bw_timex\\timex_lca.py:268(lci)\n",
      "      107    0.004    0.000    9.804    0.092 c:\\Users\\MULLERA\\AppData\\Local\\anaconda3\\envs\\timex_temporalis_local\\Lib\\site-packages\\bw2data\\utils.py:362(get_node)\n",
      "        1    0.014    0.014    9.493    9.493 C:\\Users\\MULLERA\\OneDrive - VITO\\Documents\\04_Coding\\tictac_lca\\bw_timex\\timex_lca.py:567(calculate_dynamic_inventory)\n",
      "        1    0.387    0.387    9.247    9.247 C:\\Users\\MULLERA\\OneDrive - VITO\\Documents\\04_Coding\\tictac_lca\\bw_timex\\dynamic_biosphere_builder.py:102(build_dynamic_biosphere_matrix)\n",
      "  199/154    0.000    0.000    7.517    0.049 c:\\Users\\MULLERA\\AppData\\Local\\anaconda3\\envs\\timex_temporalis_local\\Lib\\site-packages\\peewee.py:2012(inner)\n",
      "      154    0.000    0.000    7.515    0.049 c:\\Users\\MULLERA\\AppData\\Local\\anaconda3\\envs\\timex_temporalis_local\\Lib\\site-packages\\peewee.py:2087(execute)\n",
      "      137    0.000    0.000    7.493    0.055 c:\\Users\\MULLERA\\AppData\\Local\\anaconda3\\envs\\timex_temporalis_local\\Lib\\site-packages\\peewee.py:7254(__iter__)\n",
      "      154    0.001    0.000    7.099    0.046 c:\\Users\\MULLERA\\AppData\\Local\\anaconda3\\envs\\timex_temporalis_local\\Lib\\site-packages\\peewee.py:2260(_execute)\n",
      "      154    0.001    0.000    7.095    0.046 c:\\Users\\MULLERA\\AppData\\Local\\anaconda3\\envs\\timex_temporalis_local\\Lib\\site-packages\\peewee.py:3307(execute)\n",
      "      154    0.001    0.000    6.982    0.045 c:\\Users\\MULLERA\\AppData\\Local\\anaconda3\\envs\\timex_temporalis_local\\Lib\\site-packages\\peewee.py:3298(execute_sql)\n",
      "\n",
      "\n"
     ]
    },
    {
     "data": {
      "text/plain": [
       "<pstats.Stats at 0x2c91311c200>"
      ]
     },
     "execution_count": 15,
     "metadata": {},
     "output_type": "execute_result"
    }
   ],
   "source": [
    "with Profile() as profile:\n",
    "    tlca.lci()\n",
    "    \n",
    "Stats(profile).sort_stats(SortKey.CUMULATIVE).print_stats(10)"
   ]
  },
  {
   "cell_type": "code",
   "execution_count": 16,
   "metadata": {},
   "outputs": [
    {
     "name": "stdout",
     "output_type": "stream",
     "text": [
      "         2393 function calls (2392 primitive calls) in 0.005 seconds\n",
      "\n",
      "   Ordered by: cumulative time\n",
      "   List reduced from 187 to 10 due to restriction <10>\n",
      "\n",
      "   ncalls  tottime  percall  cumtime  percall filename:lineno(function)\n",
      "      2/1    0.000    0.000    0.005    0.005 C:\\Users\\MULLERA\\OneDrive - VITO\\Documents\\04_Coding\\tictac_lca\\bw_timex\\timex_lca.py:360(static_lcia)\n",
      "        1    0.000    0.000    0.004    0.004 c:\\Users\\MULLERA\\AppData\\Local\\anaconda3\\envs\\timex_temporalis_local\\Lib\\site-packages\\bw2calc\\lca.py:283(load_lcia_data)\n",
      "        1    0.000    0.000    0.004    0.004 c:\\Users\\MULLERA\\AppData\\Local\\anaconda3\\envs\\timex_temporalis_local\\Lib\\site-packages\\matrix_utils\\mapped_matrix.py:15(__init__)\n",
      "        2    0.000    0.000    0.001    0.001 c:\\Users\\MULLERA\\AppData\\Local\\anaconda3\\envs\\timex_temporalis_local\\Lib\\site-packages\\matrix_utils\\aggregation.py:5(aggregate_with_sparse)\n",
      "        1    0.000    0.000    0.001    0.001 c:\\Users\\MULLERA\\AppData\\Local\\anaconda3\\envs\\timex_temporalis_local\\Lib\\site-packages\\matrix_utils\\mapped_matrix.py:184(rebuild_matrix)\n",
      "        1    0.000    0.000    0.001    0.001 c:\\Users\\MULLERA\\AppData\\Local\\anaconda3\\envs\\timex_temporalis_local\\Lib\\site-packages\\matrix_utils\\mapped_matrix.py:167(map_indices)\n",
      "        1    0.000    0.000    0.001    0.001 c:\\Users\\MULLERA\\AppData\\Local\\anaconda3\\envs\\timex_temporalis_local\\Lib\\site-packages\\matrix_utils\\resource_group.py:166(map_indices)\n",
      "        5    0.000    0.000    0.001    0.000 c:\\Users\\MULLERA\\AppData\\Local\\anaconda3\\envs\\timex_temporalis_local\\Lib\\site-packages\\scipy\\sparse\\_coo.py:27(__init__)\n",
      "        1    0.000    0.000    0.001    0.001 c:\\Users\\MULLERA\\AppData\\Local\\anaconda3\\envs\\timex_temporalis_local\\Lib\\site-packages\\bw2calc\\lca.py:424(lcia)\n",
      "        1    0.000    0.000    0.001    0.001 c:\\Users\\MULLERA\\AppData\\Local\\anaconda3\\envs\\timex_temporalis_local\\Lib\\site-packages\\bw2calc\\lca.py:446(lcia_calculation)\n",
      "\n",
      "\n"
     ]
    },
    {
     "data": {
      "text/plain": [
       "<pstats.Stats at 0x2c90a7bdd00>"
      ]
     },
     "execution_count": 16,
     "metadata": {},
     "output_type": "execute_result"
    }
   ],
   "source": [
    "with Profile() as profile:\n",
    "    tlca.static_lcia()\n",
    "\n",
    "Stats(profile).sort_stats(SortKey.CUMULATIVE).print_stats(10)"
   ]
  },
  {
   "cell_type": "code",
   "execution_count": 17,
   "metadata": {},
   "outputs": [
    {
     "data": {
      "text/plain": [
       "731929.2292028617"
      ]
     },
     "execution_count": 17,
     "metadata": {},
     "output_type": "execute_result"
    }
   ],
   "source": [
    "tlca.static_score"
   ]
  },
  {
   "cell_type": "markdown",
   "metadata": {},
   "source": [
    "### 2) medium system"
   ]
  },
  {
   "cell_type": "code",
   "execution_count": 18,
   "metadata": {},
   "outputs": [
    {
     "name": "stdout",
     "output_type": "stream",
     "text": [
      "['test_small']\n",
      "Databases dictionary with 7 object(s):\n",
      "\tbiosphere\n",
      "\tecoinvent-3.10-biosphere\n",
      "\tecoinvent-3.10-cutoff\n",
      "\tei310_IMAGE_SSP2_RCP19_2020_electricity\n",
      "\tei310_IMAGE_SSP2_RCP19_2030_electricity\n",
      "\tei310_IMAGE_SSP2_RCP19_2040_electricity\n",
      "\tforeground\n"
     ]
    }
   ],
   "source": [
    "# needed to avoid multiple results error https://github.com/brightway-lca/bw_timex/issues/101\n",
    "to_delete = []\n",
    "for db in bd.databases: #deleting all test_systems\n",
    "    if \"test\" in db:\n",
    "        to_delete.append(db)\n",
    "print(to_delete)\n",
    "\n",
    "for db in to_delete:\n",
    "    del bd.databases[db] \n",
    "\n",
    "print(bd.databases)"
   ]
  },
  {
   "cell_type": "code",
   "execution_count": 19,
   "metadata": {},
   "outputs": [
    {
     "name": "stdout",
     "output_type": "stream",
     "text": [
      "Database test_medium created with 17 processes and 68 exchanges. There are 16 different background processes used.\n"
     ]
    }
   ],
   "source": [
    "db_name = \"test_medium\"\n",
    "create_standardized_test_system(db_name = db_name, number_tiers = 4, number_processes_per_tier=4,\n",
    "                                td_timesteps= 2, td_dtype = \"timedelta64[Y]\", fixed_random_acts= fixed_random_acts, number_background_exchanges_per_process = 4,\n",
    "                                loop = False)"
   ]
  },
  {
   "cell_type": "code",
   "execution_count": null,
   "metadata": {},
   "outputs": [
    {
     "name": "stdout",
     "output_type": "stream",
     "text": [
      "'tier2_act4' (unit, GLO, None)\n",
      "-- production | Exchange: 1 unit 'tier2_act4' (unit, GLO, None) to 'tier2_act4' (unit, GLO, None)> | None\n",
      "-- technosphere | Exchange: 1 unit 'tier3_act1' (unit, GLO, None) to 'tier2_act4' (unit, GLO, None)> | TemporalDistribution instance with 2 values and total: 1\n",
      "-- technosphere | Exchange: 1 unit 'tier3_act2' (unit, GLO, None) to 'tier2_act4' (unit, GLO, None)> | TemporalDistribution instance with 2 values and total: 1\n",
      "-- technosphere | Exchange: 1 unit 'tier3_act3' (unit, GLO, None) to 'tier2_act4' (unit, GLO, None)> | TemporalDistribution instance with 2 values and total: 1\n",
      "-- technosphere | Exchange: 1 unit 'tier3_act4' (unit, GLO, None) to 'tier2_act4' (unit, GLO, None)> | TemporalDistribution instance with 2 values and total: 1\n",
      "\n",
      "\n",
      "'tier1_act4' (unit, GLO, None)\n",
      "-- production | Exchange: 1 unit 'tier1_act4' (unit, GLO, None) to 'tier1_act4' (unit, GLO, None)> | None\n",
      "-- technosphere | Exchange: 1 unit 'tier2_act1' (unit, GLO, None) to 'tier1_act4' (unit, GLO, None)> | TemporalDistribution instance with 2 values and total: 1\n",
      "-- technosphere | Exchange: 1 unit 'tier2_act2' (unit, GLO, None) to 'tier1_act4' (unit, GLO, None)> | TemporalDistribution instance with 2 values and total: 1\n",
      "-- technosphere | Exchange: 1 unit 'tier2_act3' (unit, GLO, None) to 'tier1_act4' (unit, GLO, None)> | TemporalDistribution instance with 2 values and total: 1\n",
      "-- technosphere | Exchange: 1 unit 'tier2_act4' (unit, GLO, None) to 'tier1_act4' (unit, GLO, None)> | TemporalDistribution instance with 2 values and total: 1\n",
      "\n",
      "\n",
      "'tier4_act1' (unit, GLO, None)\n",
      "-- production | Exchange: 1 unit 'tier4_act1' (unit, GLO, None) to 'tier4_act1' (unit, GLO, None)> | None\n",
      "-- technosphere | Exchange: 4 unit 'light duty truck, battery electric, 7.5t gross weight, long haul' (unit, RER, None) to 'tier4_act1' (unit, GLO, None)> | TemporalDistribution instance with 2 values and total: 1\n",
      "-- technosphere | Exchange: 4 cubic meter 'market for oriented strand board' (cubic meter, RER, None) to 'tier4_act1' (unit, GLO, None)> | TemporalDistribution instance with 2 values and total: 1\n",
      "-- technosphere | Exchange: 4 unit 'Medium duty truck, diesel, 26t gross weight, EURO-IV, long haul' (unit, RER, None) to 'tier4_act1' (unit, GLO, None)> | TemporalDistribution instance with 2 values and total: 1\n",
      "-- technosphere | Exchange: 4 kilowatt hour 'market group for electricity, low voltage, 20-year period' (kilowatt hour, INDIA, None) to 'tier4_act1' (unit, GLO, None)> | TemporalDistribution instance with 2 values and total: 1\n",
      "\n",
      "\n",
      "'tier1_act3' (unit, GLO, None)\n",
      "-- production | Exchange: 1 unit 'tier1_act3' (unit, GLO, None) to 'tier1_act3' (unit, GLO, None)> | None\n",
      "-- technosphere | Exchange: 1 unit 'tier2_act1' (unit, GLO, None) to 'tier1_act3' (unit, GLO, None)> | TemporalDistribution instance with 2 values and total: 1\n",
      "-- technosphere | Exchange: 1 unit 'tier2_act2' (unit, GLO, None) to 'tier1_act3' (unit, GLO, None)> | TemporalDistribution instance with 2 values and total: 1\n",
      "-- technosphere | Exchange: 1 unit 'tier2_act3' (unit, GLO, None) to 'tier1_act3' (unit, GLO, None)> | TemporalDistribution instance with 2 values and total: 1\n",
      "-- technosphere | Exchange: 1 unit 'tier2_act4' (unit, GLO, None) to 'tier1_act3' (unit, GLO, None)> | TemporalDistribution instance with 2 values and total: 1\n",
      "\n",
      "\n",
      "'tier4_act4' (unit, GLO, None)\n",
      "-- production | Exchange: 1 unit 'tier4_act4' (unit, GLO, None) to 'tier4_act4' (unit, GLO, None)> | None\n",
      "-- technosphere | Exchange: 4 kilowatt hour 'electricity voltage transformation from high to medium voltage' (kilowatt hour, IR, None) to 'tier4_act4' (unit, GLO, None)> | TemporalDistribution instance with 2 values and total: 1\n",
      "-- technosphere | Exchange: 4 kilogram 'market for waste graphical paper' (kilogram, XK, None) to 'tier4_act4' (unit, GLO, None)> | TemporalDistribution instance with 2 values and total: 1\n",
      "-- technosphere | Exchange: 4 kilogram 'gold-silver mine operation and beneficiation' (kilogram, CA-QC, None) to 'tier4_act4' (unit, GLO, None)> | TemporalDistribution instance with 2 values and total: 1\n",
      "-- technosphere | Exchange: 4 kilogram 'uranium fuel element production, enriched 4%, for light water reactor' (kilogram, RoW, None) to 'tier4_act4' (unit, GLO, None)> | TemporalDistribution instance with 2 values and total: 1\n",
      "\n",
      "\n",
      "'tier3_act3' (unit, GLO, None)\n",
      "-- production | Exchange: 1 unit 'tier3_act3' (unit, GLO, None) to 'tier3_act3' (unit, GLO, None)> | None\n",
      "-- technosphere | Exchange: 1 unit 'tier4_act1' (unit, GLO, None) to 'tier3_act3' (unit, GLO, None)> | TemporalDistribution instance with 2 values and total: 1\n",
      "-- technosphere | Exchange: 1 unit 'tier4_act2' (unit, GLO, None) to 'tier3_act3' (unit, GLO, None)> | TemporalDistribution instance with 2 values and total: 1\n",
      "-- technosphere | Exchange: 1 unit 'tier4_act3' (unit, GLO, None) to 'tier3_act3' (unit, GLO, None)> | TemporalDistribution instance with 2 values and total: 1\n",
      "-- technosphere | Exchange: 1 unit 'tier4_act4' (unit, GLO, None) to 'tier3_act3' (unit, GLO, None)> | TemporalDistribution instance with 2 values and total: 1\n",
      "\n",
      "\n",
      "'tier3_act1' (unit, GLO, None)\n",
      "-- production | Exchange: 1 unit 'tier3_act1' (unit, GLO, None) to 'tier3_act1' (unit, GLO, None)> | None\n",
      "-- technosphere | Exchange: 1 unit 'tier4_act1' (unit, GLO, None) to 'tier3_act1' (unit, GLO, None)> | TemporalDistribution instance with 2 values and total: 1\n",
      "-- technosphere | Exchange: 1 unit 'tier4_act2' (unit, GLO, None) to 'tier3_act1' (unit, GLO, None)> | TemporalDistribution instance with 2 values and total: 1\n",
      "-- technosphere | Exchange: 1 unit 'tier4_act3' (unit, GLO, None) to 'tier3_act1' (unit, GLO, None)> | TemporalDistribution instance with 2 values and total: 1\n",
      "-- technosphere | Exchange: 1 unit 'tier4_act4' (unit, GLO, None) to 'tier3_act1' (unit, GLO, None)> | TemporalDistribution instance with 2 values and total: 1\n",
      "\n",
      "\n",
      "'tier1_act1' (unit, GLO, None)\n",
      "-- production | Exchange: 1 unit 'tier1_act1' (unit, GLO, None) to 'tier1_act1' (unit, GLO, None)> | None\n",
      "-- technosphere | Exchange: 1 unit 'tier2_act1' (unit, GLO, None) to 'tier1_act1' (unit, GLO, None)> | TemporalDistribution instance with 2 values and total: 1\n",
      "-- technosphere | Exchange: 1 unit 'tier2_act2' (unit, GLO, None) to 'tier1_act1' (unit, GLO, None)> | TemporalDistribution instance with 2 values and total: 1\n",
      "-- technosphere | Exchange: 1 unit 'tier2_act3' (unit, GLO, None) to 'tier1_act1' (unit, GLO, None)> | TemporalDistribution instance with 2 values and total: 1\n",
      "-- technosphere | Exchange: 1 unit 'tier2_act4' (unit, GLO, None) to 'tier1_act1' (unit, GLO, None)> | TemporalDistribution instance with 2 values and total: 1\n",
      "\n",
      "\n",
      "'functional unit' (unit, GLO, None)\n",
      "-- production | Exchange: 1 unit 'functional unit' (unit, GLO, None) to 'functional unit' (unit, GLO, None)> | None\n",
      "-- technosphere | Exchange: 1 unit 'tier1_act1' (unit, GLO, None) to 'functional unit' (unit, GLO, None)> | None\n",
      "-- technosphere | Exchange: 1 unit 'tier1_act2' (unit, GLO, None) to 'functional unit' (unit, GLO, None)> | None\n",
      "-- technosphere | Exchange: 1 unit 'tier1_act3' (unit, GLO, None) to 'functional unit' (unit, GLO, None)> | None\n",
      "-- technosphere | Exchange: 1 unit 'tier1_act4' (unit, GLO, None) to 'functional unit' (unit, GLO, None)> | None\n",
      "\n",
      "\n",
      "'tier2_act1' (unit, GLO, None)\n",
      "-- production | Exchange: 1 unit 'tier2_act1' (unit, GLO, None) to 'tier2_act1' (unit, GLO, None)> | None\n",
      "-- technosphere | Exchange: 1 unit 'tier3_act1' (unit, GLO, None) to 'tier2_act1' (unit, GLO, None)> | TemporalDistribution instance with 2 values and total: 1\n",
      "-- technosphere | Exchange: 1 unit 'tier3_act2' (unit, GLO, None) to 'tier2_act1' (unit, GLO, None)> | TemporalDistribution instance with 2 values and total: 1\n",
      "-- technosphere | Exchange: 1 unit 'tier3_act3' (unit, GLO, None) to 'tier2_act1' (unit, GLO, None)> | TemporalDistribution instance with 2 values and total: 1\n",
      "-- technosphere | Exchange: 1 unit 'tier3_act4' (unit, GLO, None) to 'tier2_act1' (unit, GLO, None)> | TemporalDistribution instance with 2 values and total: 1\n",
      "\n",
      "\n",
      "'tier1_act2' (unit, GLO, None)\n",
      "-- production | Exchange: 1 unit 'tier1_act2' (unit, GLO, None) to 'tier1_act2' (unit, GLO, None)> | None\n",
      "-- technosphere | Exchange: 1 unit 'tier2_act1' (unit, GLO, None) to 'tier1_act2' (unit, GLO, None)> | TemporalDistribution instance with 2 values and total: 1\n",
      "-- technosphere | Exchange: 1 unit 'tier2_act2' (unit, GLO, None) to 'tier1_act2' (unit, GLO, None)> | TemporalDistribution instance with 2 values and total: 1\n",
      "-- technosphere | Exchange: 1 unit 'tier2_act3' (unit, GLO, None) to 'tier1_act2' (unit, GLO, None)> | TemporalDistribution instance with 2 values and total: 1\n",
      "-- technosphere | Exchange: 1 unit 'tier2_act4' (unit, GLO, None) to 'tier1_act2' (unit, GLO, None)> | TemporalDistribution instance with 2 values and total: 1\n",
      "\n",
      "\n",
      "'tier4_act2' (unit, GLO, None)\n",
      "-- production | Exchange: 1 unit 'tier4_act2' (unit, GLO, None) to 'tier4_act2' (unit, GLO, None)> | None\n",
      "-- technosphere | Exchange: 4 hectare 'land use change, pasture, man made' (hectare, BR-BA, None) to 'tier4_act2' (unit, GLO, None)> | TemporalDistribution instance with 2 values and total: 1\n",
      "-- technosphere | Exchange: 4 kilogram 'treatment of used fluorescent lamp' (kilogram, GLO, None) to 'tier4_act2' (unit, GLO, None)> | TemporalDistribution instance with 2 values and total: 1\n",
      "-- technosphere | Exchange: 4 kilogram 'kerosene production, petroleum refinery operation' (kilogram, IN, None) to 'tier4_act2' (unit, GLO, None)> | TemporalDistribution instance with 2 values and total: 1\n",
      "-- technosphere | Exchange: 4 unit 'maintenance, lorry 28 metric ton' (unit, RoW, None) to 'tier4_act2' (unit, GLO, None)> | TemporalDistribution instance with 2 values and total: 1\n",
      "\n",
      "\n",
      "'tier3_act4' (unit, GLO, None)\n",
      "-- production | Exchange: 1 unit 'tier3_act4' (unit, GLO, None) to 'tier3_act4' (unit, GLO, None)> | None\n",
      "-- technosphere | Exchange: 1 unit 'tier4_act1' (unit, GLO, None) to 'tier3_act4' (unit, GLO, None)> | TemporalDistribution instance with 2 values and total: 1\n",
      "-- technosphere | Exchange: 1 unit 'tier4_act2' (unit, GLO, None) to 'tier3_act4' (unit, GLO, None)> | TemporalDistribution instance with 2 values and total: 1\n",
      "-- technosphere | Exchange: 1 unit 'tier4_act3' (unit, GLO, None) to 'tier3_act4' (unit, GLO, None)> | TemporalDistribution instance with 2 values and total: 1\n",
      "-- technosphere | Exchange: 1 unit 'tier4_act4' (unit, GLO, None) to 'tier3_act4' (unit, GLO, None)> | TemporalDistribution instance with 2 values and total: 1\n",
      "\n",
      "\n",
      "'tier3_act2' (unit, GLO, None)\n",
      "-- production | Exchange: 1 unit 'tier3_act2' (unit, GLO, None) to 'tier3_act2' (unit, GLO, None)> | None\n",
      "-- technosphere | Exchange: 1 unit 'tier4_act1' (unit, GLO, None) to 'tier3_act2' (unit, GLO, None)> | TemporalDistribution instance with 2 values and total: 1\n",
      "-- technosphere | Exchange: 1 unit 'tier4_act2' (unit, GLO, None) to 'tier3_act2' (unit, GLO, None)> | TemporalDistribution instance with 2 values and total: 1\n",
      "-- technosphere | Exchange: 1 unit 'tier4_act3' (unit, GLO, None) to 'tier3_act2' (unit, GLO, None)> | TemporalDistribution instance with 2 values and total: 1\n",
      "-- technosphere | Exchange: 1 unit 'tier4_act4' (unit, GLO, None) to 'tier3_act2' (unit, GLO, None)> | TemporalDistribution instance with 2 values and total: 1\n",
      "\n",
      "\n",
      "'tier2_act2' (unit, GLO, None)\n",
      "-- production | Exchange: 1 unit 'tier2_act2' (unit, GLO, None) to 'tier2_act2' (unit, GLO, None)> | None\n",
      "-- technosphere | Exchange: 1 unit 'tier3_act1' (unit, GLO, None) to 'tier2_act2' (unit, GLO, None)> | TemporalDistribution instance with 2 values and total: 1\n",
      "-- technosphere | Exchange: 1 unit 'tier3_act2' (unit, GLO, None) to 'tier2_act2' (unit, GLO, None)> | TemporalDistribution instance with 2 values and total: 1\n",
      "-- technosphere | Exchange: 1 unit 'tier3_act3' (unit, GLO, None) to 'tier2_act2' (unit, GLO, None)> | TemporalDistribution instance with 2 values and total: 1\n",
      "-- technosphere | Exchange: 1 unit 'tier3_act4' (unit, GLO, None) to 'tier2_act2' (unit, GLO, None)> | TemporalDistribution instance with 2 values and total: 1\n",
      "\n",
      "\n",
      "'tier4_act3' (unit, GLO, None)\n",
      "-- production | Exchange: 1 unit 'tier4_act3' (unit, GLO, None) to 'tier4_act3' (unit, GLO, None)> | None\n",
      "-- technosphere | Exchange: 4 kilogram 'market for DTPA, diethylenetriaminepentaacetic acid' (kilogram, RER, None) to 'tier4_act3' (unit, GLO, None)> | TemporalDistribution instance with 2 values and total: 1\n",
      "-- technosphere | Exchange: 4 unit 'photovoltaic open ground installation, 570 kWp, multi-Si, on open ground' (unit, ES, None) to 'tier4_act3' (unit, GLO, None)> | TemporalDistribution instance with 2 values and total: 1\n",
      "-- technosphere | Exchange: 4 kilogram 'land already in use, annual cropland to pasture, man made' (kilogram, BR-AP, None) to 'tier4_act3' (unit, GLO, None)> | TemporalDistribution instance with 2 values and total: 1\n",
      "-- technosphere | Exchange: 4 kilowatt hour 'market group for electricity, low voltage' (kilowatt hour, OCE, None) to 'tier4_act3' (unit, GLO, None)> | TemporalDistribution instance with 2 values and total: 1\n",
      "\n",
      "\n",
      "'tier2_act3' (unit, GLO, None)\n",
      "-- production | Exchange: 1 unit 'tier2_act3' (unit, GLO, None) to 'tier2_act3' (unit, GLO, None)> | None\n",
      "-- technosphere | Exchange: 1 unit 'tier3_act1' (unit, GLO, None) to 'tier2_act3' (unit, GLO, None)> | TemporalDistribution instance with 2 values and total: 1\n",
      "-- technosphere | Exchange: 1 unit 'tier3_act2' (unit, GLO, None) to 'tier2_act3' (unit, GLO, None)> | TemporalDistribution instance with 2 values and total: 1\n",
      "-- technosphere | Exchange: 1 unit 'tier3_act3' (unit, GLO, None) to 'tier2_act3' (unit, GLO, None)> | TemporalDistribution instance with 2 values and total: 1\n",
      "-- technosphere | Exchange: 1 unit 'tier3_act4' (unit, GLO, None) to 'tier2_act3' (unit, GLO, None)> | TemporalDistribution instance with 2 values and total: 1\n",
      "\n",
      "\n"
     ]
    }
   ],
   "source": [
    "# check db entries:\n",
    "# foreground = bd.Database(db_name)\n",
    "# for act in foreground:\n",
    "#     print(act)\n",
    "#     for exc in act.exchanges():\n",
    "#         td = exc.get(\"temporal_distribution\", None)\n",
    "#         print(\"--\", exc[\"type\"],\"|\", exc,\"|\", td)  \n",
    "#     print (\"\\n\")"
   ]
  },
  {
   "cell_type": "code",
   "execution_count": 21,
   "metadata": {},
   "outputs": [],
   "source": [
    "database_dates = {\n",
    "    \"ei310_IMAGE_SSP2_RCP19_2020_electricity\": datetime.strptime(\"2020\", \"%Y\"),\n",
    "    \"ei310_IMAGE_SSP2_RCP19_2030_electricity\": datetime.strptime(\"2030\", \"%Y\"),\n",
    "    \"ei310_IMAGE_SSP2_RCP19_2040_electricity\": datetime.strptime(\"2040\", \"%Y\"),\n",
    "    db_name: \"dynamic\",\n",
    "}"
   ]
  },
  {
   "cell_type": "code",
   "execution_count": 22,
   "metadata": {},
   "outputs": [
    {
     "name": "stdout",
     "output_type": "stream",
     "text": [
      "         3200943 function calls (3190201 primitive calls) in 8.003 seconds\n",
      "\n",
      "   Ordered by: cumulative time\n",
      "   List reduced from 969 to 10 due to restriction <10>\n",
      "\n",
      "   ncalls  tottime  percall  cumtime  percall filename:lineno(function)\n",
      "        1    0.000    0.000    7.999    7.999 C:\\Users\\MULLERA\\OneDrive - VITO\\Documents\\04_Coding\\tictac_lca\\bw_timex\\timex_lca.py:91(__init__)\n",
      "        1    0.000    0.000    3.731    3.731 c:\\Users\\MULLERA\\AppData\\Local\\anaconda3\\envs\\timex_temporalis_local\\Lib\\site-packages\\bw2calc\\lca.py:384(lci)\n",
      "        1    0.033    0.033    3.280    3.280 C:\\Users\\MULLERA\\OneDrive - VITO\\Documents\\04_Coding\\tictac_lca\\bw_timex\\timex_lca.py:986(create_node_collections)\n",
      "        1    0.000    0.000    3.196    3.196 c:\\Users\\MULLERA\\AppData\\Local\\anaconda3\\envs\\timex_temporalis_local\\Lib\\site-packages\\bw2calc\\lca.py:411(lci_calculation)\n",
      "        1    0.000    0.000    3.140    3.140 c:\\Users\\MULLERA\\AppData\\Local\\anaconda3\\envs\\timex_temporalis_local\\Lib\\site-packages\\bw2calc\\lca.py:366(solve_linear_system)\n",
      "        1    0.000    0.000    3.140    3.140 c:\\Users\\MULLERA\\AppData\\Local\\anaconda3\\envs\\timex_temporalis_local\\Lib\\site-packages\\pypardiso\\scipy_aliases.py:12(spsolve)\n",
      "        2    3.129    1.564    3.129    1.564 c:\\Users\\MULLERA\\AppData\\Local\\anaconda3\\envs\\timex_temporalis_local\\Lib\\site-packages\\pypardiso\\pardiso_wrapper.py:266(_call_pardiso)\n",
      "        1    0.002    0.002    3.119    3.119 c:\\Users\\MULLERA\\AppData\\Local\\anaconda3\\envs\\timex_temporalis_local\\Lib\\site-packages\\pypardiso\\pardiso_wrapper.py:145(factorize)\n",
      "    26913    0.106    0.000    3.091    0.000 c:\\Users\\MULLERA\\AppData\\Local\\anaconda3\\envs\\timex_temporalis_local\\Lib\\site-packages\\bw2data\\backends\\base.py:316(__iter__)\n",
      "   112373    0.088    0.000    2.841    0.000 c:\\Users\\MULLERA\\AppData\\Local\\anaconda3\\envs\\timex_temporalis_local\\Lib\\site-packages\\peewee.py:4664(next)\n",
      "\n",
      "\n"
     ]
    },
    {
     "data": {
      "text/plain": [
       "<pstats.Stats at 0x2c90a5edd00>"
      ]
     },
     "execution_count": 22,
     "metadata": {},
     "output_type": "execute_result"
    }
   ],
   "source": [
    "from bw_timex import TimexLCA\n",
    "FU_node = bd.Database(db_name).get(\"FU\")\n",
    "\n",
    "with Profile() as profile:\n",
    "    tlca = TimexLCA(\n",
    "        demand={FU_node: 1},\n",
    "        method=(\"EF v3.1\", \"climate change\", \"global warming potential (GWP100)\"),\n",
    "        database_dates=database_dates,\n",
    "    )\n",
    "Stats(profile).sort_stats(SortKey.CUMULATIVE).print_stats(10)"
   ]
  },
  {
   "cell_type": "code",
   "execution_count": 23,
   "metadata": {},
   "outputs": [
    {
     "name": "stderr",
     "output_type": "stream",
     "text": [
      "C:\\Users\\MULLERA\\OneDrive - VITO\\Documents\\04_Coding\\tictac_lca\\bw_timex\\timex_lca.py:208: UserWarning: No edge filter function provided. Skipping all edges in background databases.\n",
      "  warnings.warn(\n"
     ]
    },
    {
     "name": "stdout",
     "output_type": "stream",
     "text": [
      "Starting graph traversal\n",
      "Calculation count: 1300\n",
      "         16013541 function calls (15410512 primitive calls) in 29.258 seconds\n",
      "\n",
      "   Ordered by: cumulative time\n",
      "   List reduced from 1505 to 10 due to restriction <10>\n",
      "\n",
      "   ncalls  tottime  percall  cumtime  percall filename:lineno(function)\n",
      "        1    0.008    0.008   13.279   13.279 C:\\Users\\MULLERA\\OneDrive - VITO\\Documents\\04_Coding\\tictac_lca\\bw_timex\\timeline_builder.py:29(__init__)\n",
      "    94373    0.113    0.000    9.522    0.000 c:\\Users\\MULLERA\\AppData\\Local\\anaconda3\\envs\\timex_temporalis_local\\Lib\\site-packages\\peewee.py:4664(next)\n",
      "    91773    0.161    0.000    9.409    0.000 c:\\Users\\MULLERA\\AppData\\Local\\anaconda3\\envs\\timex_temporalis_local\\Lib\\site-packages\\peewee.py:4578(iterate)\n",
      "     5548    0.028    0.000    8.290    0.001 c:\\Users\\MULLERA\\AppData\\Local\\anaconda3\\envs\\timex_temporalis_local\\Lib\\site-packages\\peewee.py:2260(_execute)\n",
      "     5548    0.020    0.000    8.197    0.001 c:\\Users\\MULLERA\\AppData\\Local\\anaconda3\\envs\\timex_temporalis_local\\Lib\\site-packages\\peewee.py:3307(execute)\n",
      "        1    0.047    0.047    6.656    6.656 C:\\Users\\MULLERA\\OneDrive - VITO\\Documents\\04_Coding\\tictac_lca\\bw_timex\\edge_extractor.py:70(build_edge_timeline)\n",
      "        1    0.001    0.001    6.615    6.615 C:\\Users\\MULLERA\\OneDrive - VITO\\Documents\\04_Coding\\tictac_lca\\bw_timex\\edge_extractor.py:44(__init__)\n",
      "        1    0.021    0.021    6.614    6.614 C:\\Users\\MULLERA\\OneDrive - VITO\\Documents\\04_Coding\\bw_temporalis\\bw_temporalis\\lca.py:79(__init__)\n",
      "        1    0.012    0.012    6.574    6.574 c:\\Users\\MULLERA\\AppData\\Local\\anaconda3\\envs\\timex_temporalis_local\\Lib\\site-packages\\bw_graph_tools\\graph_traversal.py:205(calculate)\n",
      "     1644    0.030    0.000    6.358    0.004 c:\\Users\\MULLERA\\AppData\\Local\\anaconda3\\envs\\timex_temporalis_local\\Lib\\site-packages\\bw2data\\utils.py:362(get_node)\n",
      "\n",
      "\n"
     ]
    },
    {
     "data": {
      "text/plain": [
       "<pstats.Stats at 0x2c90a87e690>"
      ]
     },
     "execution_count": 23,
     "metadata": {},
     "output_type": "execute_result"
    }
   ],
   "source": [
    "with Profile() as profile:\n",
    "    tlca.build_timeline()\n",
    "    \n",
    "Stats(profile).sort_stats(SortKey.CUMULATIVE).print_stats(10) #1 min"
   ]
  },
  {
   "cell_type": "code",
   "execution_count": 24,
   "metadata": {},
   "outputs": [
    {
     "name": "stdout",
     "output_type": "stream",
     "text": [
      "         44817463 function calls (44615308 primitive calls) in 173.791 seconds\n",
      "\n",
      "   Ordered by: cumulative time\n",
      "   List reduced from 1427 to 10 due to restriction <10>\n",
      "\n",
      "   ncalls  tottime  percall  cumtime  percall filename:lineno(function)\n",
      "     1078    0.045    0.000  131.225    0.122 c:\\Users\\MULLERA\\AppData\\Local\\anaconda3\\envs\\timex_temporalis_local\\Lib\\site-packages\\bw2data\\utils.py:362(get_node)\n",
      "2320/1717    0.005    0.000  119.338    0.070 c:\\Users\\MULLERA\\AppData\\Local\\anaconda3\\envs\\timex_temporalis_local\\Lib\\site-packages\\peewee.py:2012(inner)\n",
      "     1717    0.002    0.000  119.312    0.069 c:\\Users\\MULLERA\\AppData\\Local\\anaconda3\\envs\\timex_temporalis_local\\Lib\\site-packages\\peewee.py:2087(execute)\n",
      "     1514    0.003    0.000  119.116    0.079 c:\\Users\\MULLERA\\AppData\\Local\\anaconda3\\envs\\timex_temporalis_local\\Lib\\site-packages\\peewee.py:7254(__iter__)\n",
      "     1717    0.016    0.000  116.531    0.068 c:\\Users\\MULLERA\\AppData\\Local\\anaconda3\\envs\\timex_temporalis_local\\Lib\\site-packages\\peewee.py:2260(_execute)\n",
      "     1717    0.008    0.000  116.480    0.068 c:\\Users\\MULLERA\\AppData\\Local\\anaconda3\\envs\\timex_temporalis_local\\Lib\\site-packages\\peewee.py:3307(execute)\n",
      "     1717    0.015    0.000  115.138    0.067 c:\\Users\\MULLERA\\AppData\\Local\\anaconda3\\envs\\timex_temporalis_local\\Lib\\site-packages\\peewee.py:3298(execute_sql)\n",
      "     1717  115.106    0.067  115.106    0.067 {method 'execute' of 'sqlite3.Cursor' objects}\n",
      "        1    0.000    0.000   30.197   30.197 C:\\Users\\MULLERA\\OneDrive - VITO\\Documents\\04_Coding\\tictac_lca\\bw_timex\\timex_lca.py:537(build_datapackage)\n",
      "        1    0.000    0.000   30.197   30.197 C:\\Users\\MULLERA\\OneDrive - VITO\\Documents\\04_Coding\\tictac_lca\\bw_timex\\matrix_modifier.py:51(create_datapackage)\n",
      "\n",
      "\n"
     ]
    },
    {
     "data": {
      "text/plain": [
       "<pstats.Stats at 0x2c90e273f50>"
      ]
     },
     "execution_count": 24,
     "metadata": {},
     "output_type": "execute_result"
    }
   ],
   "source": [
    "with Profile() as profile:\n",
    "    tlca.lci()\n",
    "    \n",
    "Stats(profile).sort_stats(SortKey.CUMULATIVE).print_stats(10) #37 secs"
   ]
  },
  {
   "cell_type": "code",
   "execution_count": 25,
   "metadata": {},
   "outputs": [
    {
     "name": "stdout",
     "output_type": "stream",
     "text": [
      "         5725 function calls (5724 primitive calls) in 0.008 seconds\n",
      "\n",
      "   Ordered by: cumulative time\n",
      "   List reduced from 187 to 10 due to restriction <10>\n",
      "\n",
      "   ncalls  tottime  percall  cumtime  percall filename:lineno(function)\n",
      "      2/1    0.000    0.000    0.008    0.008 C:\\Users\\MULLERA\\OneDrive - VITO\\Documents\\04_Coding\\tictac_lca\\bw_timex\\timex_lca.py:360(static_lcia)\n",
      "        1    0.000    0.000    0.008    0.008 c:\\Users\\MULLERA\\AppData\\Local\\anaconda3\\envs\\timex_temporalis_local\\Lib\\site-packages\\bw2calc\\lca.py:424(lcia)\n",
      "        1    0.000    0.000    0.004    0.004 c:\\Users\\MULLERA\\AppData\\Local\\anaconda3\\envs\\timex_temporalis_local\\Lib\\site-packages\\bw2calc\\lca.py:283(load_lcia_data)\n",
      "       25    0.003    0.000    0.004    0.000 c:\\Users\\MULLERA\\AppData\\Local\\anaconda3\\envs\\timex_temporalis_local\\Lib\\site-packages\\bw_processing\\datapackage.py:180(filter_by_attribute)\n",
      "        1    0.000    0.000    0.003    0.003 c:\\Users\\MULLERA\\AppData\\Local\\anaconda3\\envs\\timex_temporalis_local\\Lib\\site-packages\\bw2calc\\utils.py:19(consistent_global_index)\n",
      "        1    0.000    0.000    0.002    0.002 c:\\Users\\MULLERA\\AppData\\Local\\anaconda3\\envs\\timex_temporalis_local\\Lib\\site-packages\\matrix_utils\\mapped_matrix.py:15(__init__)\n",
      "        1    0.000    0.000    0.001    0.001 c:\\Users\\MULLERA\\AppData\\Local\\anaconda3\\envs\\timex_temporalis_local\\Lib\\site-packages\\matrix_utils\\utils.py:6(filter_groups_for_packages)\n",
      "     3870    0.001    0.000    0.001    0.000 {method 'get' of 'dict' objects}\n",
      "        1    0.000    0.000    0.001    0.001 c:\\Users\\MULLERA\\AppData\\Local\\anaconda3\\envs\\timex_temporalis_local\\Lib\\site-packages\\bw2calc\\lca.py:446(lcia_calculation)\n",
      "        1    0.000    0.000    0.001    0.001 c:\\Users\\MULLERA\\AppData\\Local\\anaconda3\\envs\\timex_temporalis_local\\Lib\\site-packages\\scipy\\sparse\\_matrix.py:43(__mul__)\n",
      "\n",
      "\n"
     ]
    },
    {
     "data": {
      "text/plain": [
       "<pstats.Stats at 0x2c90a0e39e0>"
      ]
     },
     "execution_count": 25,
     "metadata": {},
     "output_type": "execute_result"
    }
   ],
   "source": [
    "with Profile() as profile:\n",
    "    tlca.static_lcia()\n",
    "\n",
    "Stats(profile).sort_stats(SortKey.CUMULATIVE).print_stats(10)"
   ]
  },
  {
   "cell_type": "code",
   "execution_count": 26,
   "metadata": {},
   "outputs": [
    {
     "data": {
      "text/plain": [
       "140053819.69744948"
      ]
     },
     "execution_count": 26,
     "metadata": {},
     "output_type": "execute_result"
    }
   ],
   "source": [
    "tlca.static_score"
   ]
  },
  {
   "cell_type": "markdown",
   "metadata": {},
   "source": [
    "### 3) large system\n"
   ]
  },
  {
   "cell_type": "code",
   "execution_count": 27,
   "metadata": {},
   "outputs": [
    {
     "name": "stdout",
     "output_type": "stream",
     "text": [
      "['test_medium']\n",
      "Databases dictionary with 7 object(s):\n",
      "\tbiosphere\n",
      "\tecoinvent-3.10-biosphere\n",
      "\tecoinvent-3.10-cutoff\n",
      "\tei310_IMAGE_SSP2_RCP19_2020_electricity\n",
      "\tei310_IMAGE_SSP2_RCP19_2030_electricity\n",
      "\tei310_IMAGE_SSP2_RCP19_2040_electricity\n",
      "\tforeground\n"
     ]
    }
   ],
   "source": [
    "# needed to avoid multiple results error https://github.com/brightway-lca/bw_timex/issues/101\n",
    "to_delete = []\n",
    "for db in bd.databases: #deleting all test_systems\n",
    "    if \"test\" in db:\n",
    "        to_delete.append(db)\n",
    "print(to_delete)\n",
    "\n",
    "for db in to_delete:\n",
    "    del bd.databases[db] \n",
    "\n",
    "print(bd.databases)"
   ]
  },
  {
   "cell_type": "code",
   "execution_count": 36,
   "metadata": {},
   "outputs": [
    {
     "name": "stdout",
     "output_type": "stream",
     "text": [
      "Database test_large already exists, overwriting.\n",
      "Database test_large created with 21 processes and 108 exchanges. There are 40 different background processes used.\n"
     ]
    }
   ],
   "source": [
    "db_name = \"test_large\"\n",
    "create_standardized_test_system(db_name = db_name, number_tiers = 5, number_processes_per_tier=4,\n",
    "                                td_timesteps= 2, td_dtype = \"timedelta64[Y]\", fixed_random_acts= fixed_random_acts, number_background_exchanges_per_process = 10,\n",
    "                                loop = False)"
   ]
  },
  {
   "cell_type": "code",
   "execution_count": 29,
   "metadata": {},
   "outputs": [],
   "source": [
    "# # check db entries:\n",
    "# foreground = bd.Database(db_name)\n",
    "# for act in foreground:\n",
    "#     print(act)\n",
    "#     for exc in act.exchanges():\n",
    "#         td = exc.get(\"temporal_distribution\", None)\n",
    "#         print(\"--\", exc[\"type\"],\"|\", exc,\"|\", td)  \n",
    "#     print (\"\\n\")"
   ]
  },
  {
   "cell_type": "code",
   "execution_count": 37,
   "metadata": {},
   "outputs": [],
   "source": [
    "database_dates = {\n",
    "    \"ei310_IMAGE_SSP2_RCP19_2020_electricity\": datetime.strptime(\"2020\", \"%Y\"),\n",
    "    \"ei310_IMAGE_SSP2_RCP19_2030_electricity\": datetime.strptime(\"2030\", \"%Y\"),\n",
    "    \"ei310_IMAGE_SSP2_RCP19_2040_electricity\": datetime.strptime(\"2040\", \"%Y\"),\n",
    "    db_name: \"dynamic\",\n",
    "}"
   ]
  },
  {
   "cell_type": "code",
   "execution_count": 38,
   "metadata": {},
   "outputs": [
    {
     "name": "stdout",
     "output_type": "stream",
     "text": [
      "         3276515 function calls (3261511 primitive calls) in 10.271 seconds\n",
      "\n",
      "   Ordered by: cumulative time\n",
      "   List reduced from 1018 to 10 due to restriction <10>\n",
      "\n",
      "   ncalls  tottime  percall  cumtime  percall filename:lineno(function)\n",
      "   151/87    0.007    0.000   18.335    0.211 c:\\Users\\MULLERA\\AppData\\Local\\anaconda3\\envs\\timex_temporalis_local\\Lib\\queue.py:154(get)\n",
      "      167    0.101    0.001   10.982    0.066 c:\\Users\\MULLERA\\AppData\\Local\\anaconda3\\envs\\timex_temporalis_local\\Lib\\threading.py:323(wait)\n",
      "   112569    0.278    0.000    4.750    0.000 c:\\Users\\MULLERA\\AppData\\Local\\anaconda3\\envs\\timex_temporalis_local\\Lib\\site-packages\\peewee.py:4664(next)\n",
      "   112569    0.367    0.000    4.272    0.000 c:\\Users\\MULLERA\\AppData\\Local\\anaconda3\\envs\\timex_temporalis_local\\Lib\\site-packages\\peewee.py:4578(iterate)\n",
      "26918/26917    0.271    0.000    4.224    0.000 c:\\Users\\MULLERA\\AppData\\Local\\anaconda3\\envs\\timex_temporalis_local\\Lib\\site-packages\\bw2data\\backends\\base.py:316(__iter__)\n",
      "        1    0.001    0.001    2.476    2.476 c:\\Users\\MULLERA\\AppData\\Local\\anaconda3\\envs\\timex_temporalis_local\\Lib\\site-packages\\bw2calc\\lca.py:366(solve_linear_system)\n",
      "        1    0.191    0.191    2.174    2.174 C:\\Users\\MULLERA\\OneDrive - VITO\\Documents\\04_Coding\\tictac_lca\\bw_timex\\timex_lca.py:717(prepare_base_lca_inputs)\n",
      "    27153    0.184    0.000    2.056    0.000 c:\\Users\\MULLERA\\AppData\\Local\\anaconda3\\envs\\timex_temporalis_local\\Lib\\site-packages\\peewee.py:7894(process_row)\n",
      "    27303    0.421    0.000    1.198    0.000 c:\\Users\\MULLERA\\AppData\\Local\\anaconda3\\envs\\timex_temporalis_local\\Lib\\site-packages\\peewee.py:7852(process_row)\n",
      "    85086    0.469    0.000    0.996    0.000 c:\\Users\\MULLERA\\AppData\\Local\\anaconda3\\envs\\timex_temporalis_local\\Lib\\site-packages\\peewee.py:7871(process_row)\n",
      "\n",
      "\n"
     ]
    },
    {
     "data": {
      "text/plain": [
       "<pstats.Stats at 0x2c93ebe7da0>"
      ]
     },
     "execution_count": 38,
     "metadata": {},
     "output_type": "execute_result"
    }
   ],
   "source": [
    "from bw_timex import TimexLCA\n",
    "FU_node = bd.Database(db_name).get(\"FU\")\n",
    "\n",
    "with Profile() as profile:\n",
    "    tlca = TimexLCA(\n",
    "        demand={FU_node: 1},\n",
    "        method=(\"EF v3.1\", \"climate change\", \"global warming potential (GWP100)\"),\n",
    "        database_dates=database_dates,\n",
    "    )\n",
    "Stats(profile).sort_stats(SortKey.CUMULATIVE).print_stats(10)"
   ]
  },
  {
   "cell_type": "code",
   "execution_count": 39,
   "metadata": {},
   "outputs": [
    {
     "name": "stderr",
     "output_type": "stream",
     "text": [
      "C:\\Users\\MULLERA\\OneDrive - VITO\\Documents\\04_Coding\\tictac_lca\\bw_timex\\timex_lca.py:208: UserWarning: No edge filter function provided. Skipping all edges in background databases.\n",
      "  warnings.warn(\n"
     ]
    },
    {
     "name": "stdout",
     "output_type": "stream",
     "text": [
      "Starting graph traversal\n"
     ]
    },
    {
     "name": "stderr",
     "output_type": "stream",
     "text": [
      "c:\\Users\\MULLERA\\AppData\\Local\\anaconda3\\envs\\timex_temporalis_local\\Lib\\site-packages\\bw_graph_tools\\graph_traversal.py:473: UserWarning: Stopping traversal due to calculation count.\n",
      "  warnings.warn(\"Stopping traversal due to calculation count.\")\n"
     ]
    },
    {
     "name": "stdout",
     "output_type": "stream",
     "text": [
      "Calculation count: 2003\n",
      "         20016303 function calls (19340280 primitive calls) in 53.484 seconds\n",
      "\n",
      "   Ordered by: cumulative time\n",
      "   List reduced from 1501 to 10 due to restriction <10>\n",
      "\n",
      "   ncalls  tottime  percall  cumtime  percall filename:lineno(function)\n",
      "  784/444    0.090    0.000   72.284    0.163 c:\\Users\\MULLERA\\AppData\\Local\\anaconda3\\envs\\timex_temporalis_local\\Lib\\queue.py:154(get)\n",
      "2004/2003    0.021    0.000   38.254    0.019 C:\\Users\\MULLERA\\OneDrive - VITO\\Documents\\04_Coding\\bw_temporalis\\bw_temporalis\\lca.py:314(get_technosphere_exchange)\n",
      "     2003    0.143    0.000   30.114    0.015 C:\\Users\\MULLERA\\OneDrive - VITO\\Documents\\04_Coding\\bw_temporalis\\bw_temporalis\\lca.py:290(_exchange_iterator)\n",
      "8125/8123    0.028    0.000   19.389    0.002 c:\\Users\\MULLERA\\AppData\\Local\\anaconda3\\envs\\timex_temporalis_local\\Lib\\site-packages\\peewee.py:2012(inner)\n",
      "     8123    0.021    0.000   19.361    0.002 c:\\Users\\MULLERA\\AppData\\Local\\anaconda3\\envs\\timex_temporalis_local\\Lib\\site-packages\\peewee.py:2087(execute)\n",
      "     8123    0.082    0.000   18.989    0.002 c:\\Users\\MULLERA\\AppData\\Local\\anaconda3\\envs\\timex_temporalis_local\\Lib\\site-packages\\peewee.py:2260(_execute)\n",
      "       23    0.016    0.001   16.592    0.721 c:\\Users\\MULLERA\\AppData\\Local\\anaconda3\\envs\\timex_temporalis_local\\Lib\\asyncio\\base_events.py:1910(_run_once)\n",
      "     8123    0.092    0.000   16.454    0.002 c:\\Users\\MULLERA\\AppData\\Local\\anaconda3\\envs\\timex_temporalis_local\\Lib\\site-packages\\peewee.py:3307(execute)\n",
      "499426/8123    1.384    0.000   14.886    0.002 c:\\Users\\MULLERA\\AppData\\Local\\anaconda3\\envs\\timex_temporalis_local\\Lib\\site-packages\\peewee.py:662(sql)\n",
      "     8123    0.520    0.000   14.814    0.002 c:\\Users\\MULLERA\\AppData\\Local\\anaconda3\\envs\\timex_temporalis_local\\Lib\\site-packages\\peewee.py:2508(__sql__)\n",
      "\n",
      "\n"
     ]
    },
    {
     "data": {
      "text/plain": [
       "<pstats.Stats at 0x2c90b3278f0>"
      ]
     },
     "execution_count": 39,
     "metadata": {},
     "output_type": "execute_result"
    }
   ],
   "source": [
    "with Profile() as profile:\n",
    "    tlca.build_timeline()\n",
    "    \n",
    "Stats(profile).sort_stats(SortKey.CUMULATIVE).print_stats(10) #43 sec"
   ]
  },
  {
   "cell_type": "code",
   "execution_count": 40,
   "metadata": {},
   "outputs": [
    {
     "name": "stdout",
     "output_type": "stream",
     "text": [
      "         36717253 function calls (36448066 primitive calls) in 254.859 seconds\n",
      "\n",
      "   Ordered by: cumulative time\n",
      "   List reduced from 1404 to 10 due to restriction <10>\n",
      "\n",
      "   ncalls  tottime  percall  cumtime  percall filename:lineno(function)\n",
      "3782/2156    4.570    0.001  465.395    0.216 c:\\Users\\MULLERA\\AppData\\Local\\anaconda3\\envs\\timex_temporalis_local\\Lib\\queue.py:154(get)\n",
      "     1627    2.331    0.001  351.015    0.216 c:\\Users\\MULLERA\\AppData\\Local\\anaconda3\\envs\\timex_temporalis_local\\Lib\\threading.py:637(wait)\n",
      "     4017    7.364    0.002  219.295    0.055 c:\\Users\\MULLERA\\AppData\\Local\\anaconda3\\envs\\timex_temporalis_local\\Lib\\threading.py:323(wait)\n",
      "     1412    0.110    0.000  171.965    0.122 c:\\Users\\MULLERA\\AppData\\Local\\anaconda3\\envs\\timex_temporalis_local\\Lib\\site-packages\\bw2data\\utils.py:362(get_node)\n",
      "3442/2455    0.015    0.000  164.844    0.067 c:\\Users\\MULLERA\\AppData\\Local\\anaconda3\\envs\\timex_temporalis_local\\Lib\\site-packages\\peewee.py:2012(inner)\n",
      "     2455    0.007    0.000  164.769    0.067 c:\\Users\\MULLERA\\AppData\\Local\\anaconda3\\envs\\timex_temporalis_local\\Lib\\site-packages\\peewee.py:2087(execute)\n",
      "     2124    0.010    0.000  164.148    0.077 c:\\Users\\MULLERA\\AppData\\Local\\anaconda3\\envs\\timex_temporalis_local\\Lib\\site-packages\\peewee.py:7254(__iter__)\n",
      "     2455    0.076    0.000  160.493    0.065 c:\\Users\\MULLERA\\AppData\\Local\\anaconda3\\envs\\timex_temporalis_local\\Lib\\site-packages\\peewee.py:2260(_execute)\n",
      "        1    0.000    0.000   26.575   26.575 C:\\Users\\MULLERA\\OneDrive - VITO\\Documents\\04_Coding\\tictac_lca\\bw_timex\\timex_lca.py:537(build_datapackage)\n",
      "      415    0.040    0.000   25.826    0.062 C:\\Users\\MULLERA\\OneDrive - VITO\\Documents\\04_Coding\\tictac_lca\\bw_timex\\matrix_modifier.py:176(add_row_to_datapackage)\n",
      "\n",
      "\n"
     ]
    },
    {
     "data": {
      "text/plain": [
       "<pstats.Stats at 0x2c93eb8fbf0>"
      ]
     },
     "execution_count": 40,
     "metadata": {},
     "output_type": "execute_result"
    }
   ],
   "source": [
    "with Profile() as profile:\n",
    "    tlca.lci()\n",
    "    \n",
    "Stats(profile).sort_stats(SortKey.CUMULATIVE).print_stats(10)"
   ]
  },
  {
   "cell_type": "code",
   "execution_count": 41,
   "metadata": {},
   "outputs": [
    {
     "name": "stdout",
     "output_type": "stream",
     "text": [
      "         6226 function calls in 0.016 seconds\n",
      "\n",
      "   Ordered by: cumulative time\n",
      "   List reduced from 213 to 10 due to restriction <10>\n",
      "\n",
      "   ncalls  tottime  percall  cumtime  percall filename:lineno(function)\n",
      "        1    0.000    0.000    0.016    0.016 c:\\Users\\MULLERA\\AppData\\Local\\anaconda3\\envs\\timex_temporalis_local\\Lib\\site-packages\\bw2calc\\lca.py:424(lcia)\n",
      "        1    0.000    0.000    0.016    0.016 c:\\Users\\MULLERA\\AppData\\Local\\anaconda3\\envs\\timex_temporalis_local\\Lib\\site-packages\\bw2calc\\lca.py:446(lcia_calculation)\n",
      "        1    0.000    0.000    0.016    0.016 c:\\Users\\MULLERA\\AppData\\Local\\anaconda3\\envs\\timex_temporalis_local\\Lib\\site-packages\\scipy\\sparse\\_matrix.py:43(__mul__)\n",
      "       25    0.008    0.000    0.009    0.000 c:\\Users\\MULLERA\\AppData\\Local\\anaconda3\\envs\\timex_temporalis_local\\Lib\\site-packages\\bw_processing\\datapackage.py:180(filter_by_attribute)\n",
      "        1    0.000    0.000    0.009    0.009 c:\\Users\\MULLERA\\AppData\\Local\\anaconda3\\envs\\timex_temporalis_local\\Lib\\site-packages\\bw2calc\\lca.py:283(load_lcia_data)\n",
      "        1    0.000    0.000    0.009    0.009 c:\\Users\\MULLERA\\AppData\\Local\\anaconda3\\envs\\timex_temporalis_local\\Lib\\site-packages\\matrix_utils\\mapped_matrix.py:15(__init__)\n",
      "        1    0.000    0.000    0.006    0.006 c:\\Users\\MULLERA\\AppData\\Local\\anaconda3\\envs\\timex_temporalis_local\\Lib\\site-packages\\bw2calc\\utils.py:19(consistent_global_index)\n",
      "        1    0.000    0.000    0.003    0.003 c:\\Users\\MULLERA\\AppData\\Local\\anaconda3\\envs\\timex_temporalis_local\\Lib\\site-packages\\matrix_utils\\utils.py:6(filter_groups_for_packages)\n",
      "        2    0.000    0.000    0.002    0.001 c:\\Users\\MULLERA\\AppData\\Local\\anaconda3\\envs\\timex_temporalis_local\\Lib\\site-packages\\matrix_utils\\aggregation.py:5(aggregate_with_sparse)\n",
      "        5    0.000    0.000    0.002    0.000 c:\\Users\\MULLERA\\AppData\\Local\\anaconda3\\envs\\timex_temporalis_local\\Lib\\site-packages\\scipy\\sparse\\_coo.py:27(__init__)\n",
      "\n",
      "\n"
     ]
    },
    {
     "data": {
      "text/plain": [
       "<pstats.Stats at 0x2c94d661940>"
      ]
     },
     "execution_count": 41,
     "metadata": {},
     "output_type": "execute_result"
    }
   ],
   "source": [
    "with Profile() as profile:\n",
    "    tlca.static_lcia()\n",
    "\n",
    "Stats(profile).sort_stats(SortKey.CUMULATIVE).print_stats(10)"
   ]
  },
  {
   "cell_type": "code",
   "execution_count": 42,
   "metadata": {},
   "outputs": [
    {
     "data": {
      "text/plain": [
       "538237164.3091656"
      ]
     },
     "execution_count": 42,
     "metadata": {},
     "output_type": "execute_result"
    }
   ],
   "source": [
    "tlca.static_score"
   ]
  },
  {
   "cell_type": "markdown",
   "metadata": {},
   "source": [
    "### 4) small system with loop"
   ]
  },
  {
   "cell_type": "code",
   "execution_count": 43,
   "metadata": {},
   "outputs": [
    {
     "name": "stdout",
     "output_type": "stream",
     "text": [
      "['test_large']\n",
      "Databases dictionary with 7 object(s):\n",
      "\tbiosphere\n",
      "\tecoinvent-3.10-biosphere\n",
      "\tecoinvent-3.10-cutoff\n",
      "\tei310_IMAGE_SSP2_RCP19_2020_electricity\n",
      "\tei310_IMAGE_SSP2_RCP19_2030_electricity\n",
      "\tei310_IMAGE_SSP2_RCP19_2040_electricity\n",
      "\tforeground\n"
     ]
    }
   ],
   "source": [
    "# needed to avoid multiple results error https://github.com/brightway-lca/bw_timex/issues/101\n",
    "to_delete = []\n",
    "for db in bd.databases: #deleting all test_systems\n",
    "    if \"test\" in db:\n",
    "        to_delete.append(db)\n",
    "print(to_delete)\n",
    "\n",
    "for db in to_delete:\n",
    "    del bd.databases[db] \n",
    "\n",
    "print(bd.databases)"
   ]
  },
  {
   "cell_type": "code",
   "execution_count": 44,
   "metadata": {},
   "outputs": [
    {
     "name": "stdout",
     "output_type": "stream",
     "text": [
      "Database test_loop created with 7 processes and 19 exchanges. There are 6 different background processes used.\n"
     ]
    }
   ],
   "source": [
    "\n",
    "db_name = \"test_loop\"\n",
    "create_standardized_test_system(db_name = db_name, number_tiers = 2, number_processes_per_tier=3,\n",
    "                                td_timesteps= 2, td_dtype = \"timedelta64[Y]\",  fixed_random_acts= fixed_random_acts, number_background_exchanges_per_process = 2, \n",
    "                                loop = True)"
   ]
  },
  {
   "cell_type": "code",
   "execution_count": 45,
   "metadata": {},
   "outputs": [],
   "source": [
    "# # check db entries:\n",
    "# foreground = bd.Database(db_name)\n",
    "# for act in foreground:\n",
    "#     print(act)\n",
    "#     for exc in act.exchanges():\n",
    "#         td = exc.get(\"temporal_distribution\", None)\n",
    "#         print(\"--\", exc[\"type\"],\"|\", exc,\"|\", td)  \n",
    "#     print (\"\\n\")"
   ]
  },
  {
   "cell_type": "code",
   "execution_count": 46,
   "metadata": {},
   "outputs": [],
   "source": [
    "database_dates = {\n",
    "    \"ei310_IMAGE_SSP2_RCP19_2020_electricity\": datetime.strptime(\"2020\", \"%Y\"),\n",
    "    \"ei310_IMAGE_SSP2_RCP19_2030_electricity\": datetime.strptime(\"2030\", \"%Y\"),\n",
    "    \"ei310_IMAGE_SSP2_RCP19_2040_electricity\": datetime.strptime(\"2040\", \"%Y\"),\n",
    "    db_name: \"dynamic\",\n",
    "}"
   ]
  },
  {
   "cell_type": "code",
   "execution_count": 47,
   "metadata": {},
   "outputs": [
    {
     "name": "stdout",
     "output_type": "stream",
     "text": [
      "         3085519 function calls (3079666 primitive calls) in 9.314 seconds\n",
      "\n",
      "   Ordered by: cumulative time\n",
      "   List reduced from 1023 to 10 due to restriction <10>\n",
      "\n",
      "   ncalls  tottime  percall  cumtime  percall filename:lineno(function)\n",
      "      153    0.088    0.001   16.859    0.110 c:\\Users\\MULLERA\\AppData\\Local\\anaconda3\\envs\\timex_temporalis_local\\Lib\\threading.py:323(wait)\n",
      "   134/76    0.006    0.000   16.033    0.211 c:\\Users\\MULLERA\\AppData\\Local\\anaconda3\\envs\\timex_temporalis_local\\Lib\\queue.py:154(get)\n",
      "        1    0.000    0.000    4.934    4.934 C:\\Users\\MULLERA\\OneDrive - VITO\\Documents\\04_Coding\\tictac_lca\\bw_timex\\timex_lca.py:91(__init__)\n",
      "   112087    0.253    0.000    4.470    0.000 c:\\Users\\MULLERA\\AppData\\Local\\anaconda3\\envs\\timex_temporalis_local\\Lib\\site-packages\\peewee.py:4664(next)\n",
      "   112087    0.334    0.000    4.215    0.000 c:\\Users\\MULLERA\\AppData\\Local\\anaconda3\\envs\\timex_temporalis_local\\Lib\\site-packages\\peewee.py:4578(iterate)\n",
      "    26903    0.224    0.000    4.009    0.000 c:\\Users\\MULLERA\\AppData\\Local\\anaconda3\\envs\\timex_temporalis_local\\Lib\\site-packages\\bw2data\\backends\\base.py:316(__iter__)\n",
      "        1    0.000    0.000    2.897    2.897 c:\\Users\\MULLERA\\AppData\\Local\\anaconda3\\envs\\timex_temporalis_local\\Lib\\site-packages\\bw2calc\\lca.py:384(lci)\n",
      "        1    0.000    0.000    2.404    2.404 c:\\Users\\MULLERA\\AppData\\Local\\anaconda3\\envs\\timex_temporalis_local\\Lib\\site-packages\\bw2calc\\lca.py:411(lci_calculation)\n",
      "        1    0.001    0.001    2.344    2.344 c:\\Users\\MULLERA\\AppData\\Local\\anaconda3\\envs\\timex_temporalis_local\\Lib\\site-packages\\bw2calc\\lca.py:366(solve_linear_system)\n",
      "        1    0.176    0.176    1.941    1.941 C:\\Users\\MULLERA\\OneDrive - VITO\\Documents\\04_Coding\\tictac_lca\\bw_timex\\timex_lca.py:717(prepare_base_lca_inputs)\n",
      "\n",
      "\n"
     ]
    },
    {
     "data": {
      "text/plain": [
       "<pstats.Stats at 0x2c91265d3d0>"
      ]
     },
     "execution_count": 47,
     "metadata": {},
     "output_type": "execute_result"
    }
   ],
   "source": [
    "from bw_timex import TimexLCA\n",
    "FU_node = bd.Database(db_name).get(\"FU\")\n",
    "\n",
    "with Profile() as profile:\n",
    "    tlca = TimexLCA(\n",
    "        demand={FU_node: 1},\n",
    "        method=(\"EF v3.1\", \"climate change\", \"global warming potential (GWP100)\"),\n",
    "        database_dates=database_dates,\n",
    "    )\n",
    "Stats(profile).sort_stats(SortKey.CUMULATIVE).print_stats(10)"
   ]
  },
  {
   "cell_type": "code",
   "execution_count": 48,
   "metadata": {},
   "outputs": [
    {
     "name": "stderr",
     "output_type": "stream",
     "text": [
      "C:\\Users\\MULLERA\\OneDrive - VITO\\Documents\\04_Coding\\tictac_lca\\bw_timex\\timex_lca.py:208: UserWarning: No edge filter function provided. Skipping all edges in background databases.\n",
      "  warnings.warn(\n"
     ]
    },
    {
     "name": "stdout",
     "output_type": "stream",
     "text": [
      "Starting graph traversal\n",
      "Calculation count: 378\n"
     ]
    },
    {
     "name": "stderr",
     "output_type": "stream",
     "text": [
      "C:\\Users\\MULLERA\\OneDrive - VITO\\Documents\\04_Coding\\tictac_lca\\bw_timex\\timeline_builder.py:537: Warning: Reference date 2041-01-01 00:00:00 is higher than all provided dates. Data will be taken from the closest lower year.\n",
      "  warnings.warn(\n",
      "C:\\Users\\MULLERA\\OneDrive - VITO\\Documents\\04_Coding\\tictac_lca\\bw_timex\\timeline_builder.py:537: Warning: Reference date 2042-01-01 00:00:00 is higher than all provided dates. Data will be taken from the closest lower year.\n",
      "  warnings.warn(\n",
      "C:\\Users\\MULLERA\\OneDrive - VITO\\Documents\\04_Coding\\tictac_lca\\bw_timex\\timeline_builder.py:537: Warning: Reference date 2043-01-01 00:00:00 is higher than all provided dates. Data will be taken from the closest lower year.\n",
      "  warnings.warn(\n",
      "C:\\Users\\MULLERA\\OneDrive - VITO\\Documents\\04_Coding\\tictac_lca\\bw_timex\\timeline_builder.py:537: Warning: Reference date 2044-01-01 00:00:00 is higher than all provided dates. Data will be taken from the closest lower year.\n",
      "  warnings.warn(\n",
      "C:\\Users\\MULLERA\\OneDrive - VITO\\Documents\\04_Coding\\tictac_lca\\bw_timex\\timeline_builder.py:537: Warning: Reference date 2045-01-01 00:00:00 is higher than all provided dates. Data will be taken from the closest lower year.\n",
      "  warnings.warn(\n",
      "C:\\Users\\MULLERA\\OneDrive - VITO\\Documents\\04_Coding\\tictac_lca\\bw_timex\\timeline_builder.py:537: Warning: Reference date 2046-01-01 00:00:00 is higher than all provided dates. Data will be taken from the closest lower year.\n",
      "  warnings.warn(\n",
      "C:\\Users\\MULLERA\\OneDrive - VITO\\Documents\\04_Coding\\tictac_lca\\bw_timex\\timeline_builder.py:537: Warning: Reference date 2047-01-01 00:00:00 is higher than all provided dates. Data will be taken from the closest lower year.\n",
      "  warnings.warn(\n",
      "C:\\Users\\MULLERA\\OneDrive - VITO\\Documents\\04_Coding\\tictac_lca\\bw_timex\\timeline_builder.py:537: Warning: Reference date 2048-01-01 00:00:00 is higher than all provided dates. Data will be taken from the closest lower year.\n",
      "  warnings.warn(\n",
      "C:\\Users\\MULLERA\\OneDrive - VITO\\Documents\\04_Coding\\tictac_lca\\bw_timex\\timeline_builder.py:537: Warning: Reference date 2049-01-01 00:00:00 is higher than all provided dates. Data will be taken from the closest lower year.\n",
      "  warnings.warn(\n",
      "C:\\Users\\MULLERA\\OneDrive - VITO\\Documents\\04_Coding\\tictac_lca\\bw_timex\\timeline_builder.py:537: Warning: Reference date 2050-01-01 00:00:00 is higher than all provided dates. Data will be taken from the closest lower year.\n",
      "  warnings.warn(\n",
      "C:\\Users\\MULLERA\\OneDrive - VITO\\Documents\\04_Coding\\tictac_lca\\bw_timex\\timeline_builder.py:537: Warning: Reference date 2051-01-01 00:00:00 is higher than all provided dates. Data will be taken from the closest lower year.\n",
      "  warnings.warn(\n",
      "C:\\Users\\MULLERA\\OneDrive - VITO\\Documents\\04_Coding\\tictac_lca\\bw_timex\\timeline_builder.py:537: Warning: Reference date 2052-01-01 00:00:00 is higher than all provided dates. Data will be taken from the closest lower year.\n",
      "  warnings.warn(\n",
      "C:\\Users\\MULLERA\\OneDrive - VITO\\Documents\\04_Coding\\tictac_lca\\bw_timex\\timeline_builder.py:537: Warning: Reference date 2053-01-01 00:00:00 is higher than all provided dates. Data will be taken from the closest lower year.\n",
      "  warnings.warn(\n",
      "C:\\Users\\MULLERA\\OneDrive - VITO\\Documents\\04_Coding\\tictac_lca\\bw_timex\\timeline_builder.py:537: Warning: Reference date 2054-01-01 00:00:00 is higher than all provided dates. Data will be taken from the closest lower year.\n",
      "  warnings.warn(\n",
      "C:\\Users\\MULLERA\\OneDrive - VITO\\Documents\\04_Coding\\tictac_lca\\bw_timex\\timeline_builder.py:537: Warning: Reference date 2055-01-01 00:00:00 is higher than all provided dates. Data will be taken from the closest lower year.\n",
      "  warnings.warn(\n",
      "C:\\Users\\MULLERA\\OneDrive - VITO\\Documents\\04_Coding\\tictac_lca\\bw_timex\\timeline_builder.py:537: Warning: Reference date 2056-01-01 00:00:00 is higher than all provided dates. Data will be taken from the closest lower year.\n",
      "  warnings.warn(\n",
      "C:\\Users\\MULLERA\\OneDrive - VITO\\Documents\\04_Coding\\tictac_lca\\bw_timex\\timeline_builder.py:537: Warning: Reference date 2057-01-01 00:00:00 is higher than all provided dates. Data will be taken from the closest lower year.\n",
      "  warnings.warn(\n",
      "C:\\Users\\MULLERA\\OneDrive - VITO\\Documents\\04_Coding\\tictac_lca\\bw_timex\\timeline_builder.py:537: Warning: Reference date 2058-01-01 00:00:00 is higher than all provided dates. Data will be taken from the closest lower year.\n",
      "  warnings.warn(\n",
      "C:\\Users\\MULLERA\\OneDrive - VITO\\Documents\\04_Coding\\tictac_lca\\bw_timex\\timeline_builder.py:537: Warning: Reference date 2059-01-01 00:00:00 is higher than all provided dates. Data will be taken from the closest lower year.\n",
      "  warnings.warn(\n"
     ]
    },
    {
     "name": "stdout",
     "output_type": "stream",
     "text": [
      "         11872979 function calls (11417391 primitive calls) in 33.512 seconds\n",
      "\n",
      "   Ordered by: cumulative time\n",
      "   List reduced from 1520 to 10 due to restriction <10>\n",
      "\n",
      "   ncalls  tottime  percall  cumtime  percall filename:lineno(function)\n",
      "  464/101    0.084    0.000   23.012    0.228 c:\\Users\\MULLERA\\AppData\\Local\\anaconda3\\envs\\timex_temporalis_local\\Lib\\queue.py:154(get)\n",
      "      202    0.069    0.000   14.910    0.074 c:\\Users\\MULLERA\\AppData\\Local\\anaconda3\\envs\\timex_temporalis_local\\Lib\\threading.py:637(wait)\n",
      "    88527    0.264    0.000    9.809    0.000 c:\\Users\\MULLERA\\AppData\\Local\\anaconda3\\envs\\timex_temporalis_local\\Lib\\site-packages\\peewee.py:4664(next)\n",
      "    87771    0.340    0.000    9.278    0.000 c:\\Users\\MULLERA\\AppData\\Local\\anaconda3\\envs\\timex_temporalis_local\\Lib\\site-packages\\peewee.py:4578(iterate)\n",
      "3549/3547    0.011    0.000    8.268    0.002 c:\\Users\\MULLERA\\AppData\\Local\\anaconda3\\envs\\timex_temporalis_local\\Lib\\site-packages\\peewee.py:2012(inner)\n",
      "     3547    0.008    0.000    8.196    0.002 c:\\Users\\MULLERA\\AppData\\Local\\anaconda3\\envs\\timex_temporalis_local\\Lib\\site-packages\\peewee.py:2087(execute)\n",
      "     3547    0.033    0.000    8.126    0.002 c:\\Users\\MULLERA\\AppData\\Local\\anaconda3\\envs\\timex_temporalis_local\\Lib\\site-packages\\peewee.py:2260(_execute)\n",
      "        1    0.002    0.002    8.081    8.081 C:\\Users\\MULLERA\\OneDrive - VITO\\Documents\\04_Coding\\tictac_lca\\bw_timex\\timex_lca.py:151(build_timeline)\n",
      "     2409    0.134    0.000    6.624    0.003 c:\\Users\\MULLERA\\AppData\\Local\\anaconda3\\envs\\timex_temporalis_local\\Lib\\site-packages\\bw2data\\utils.py:362(get_node)\n",
      "     3547    0.036    0.000    6.555    0.002 c:\\Users\\MULLERA\\AppData\\Local\\anaconda3\\envs\\timex_temporalis_local\\Lib\\site-packages\\peewee.py:3307(execute)\n",
      "\n",
      "\n"
     ]
    },
    {
     "data": {
      "text/plain": [
       "<pstats.Stats at 0x2c90b2de630>"
      ]
     },
     "execution_count": 48,
     "metadata": {},
     "output_type": "execute_result"
    }
   ],
   "source": [
    "with Profile() as profile:\n",
    "    tlca.build_timeline()\n",
    "    \n",
    "Stats(profile).sort_stats(SortKey.CUMULATIVE).print_stats(10)"
   ]
  },
  {
   "cell_type": "code",
   "execution_count": 49,
   "metadata": {},
   "outputs": [
    {
     "name": "stdout",
     "output_type": "stream",
     "text": [
      "         90711622 function calls (90433195 primitive calls) in 333.622 seconds\n",
      "\n",
      "   Ordered by: cumulative time\n",
      "   List reduced from 1421 to 10 due to restriction <10>\n",
      "\n",
      "   ncalls  tottime  percall  cumtime  percall filename:lineno(function)\n",
      "4847/2745    9.899    0.002  460.554    0.168 c:\\Users\\MULLERA\\AppData\\Local\\anaconda3\\envs\\timex_temporalis_local\\Lib\\queue.py:154(get)\n",
      "     2105    5.970    0.003  418.366    0.199 c:\\Users\\MULLERA\\AppData\\Local\\anaconda3\\envs\\timex_temporalis_local\\Lib\\threading.py:637(wait)\n",
      "       68    0.057    0.001  352.680    5.186 c:\\Users\\MULLERA\\AppData\\Local\\anaconda3\\envs\\timex_temporalis_local\\Lib\\asyncio\\base_events.py:1910(_run_once)\n",
      "     5107   19.687    0.004  266.560    0.052 c:\\Users\\MULLERA\\AppData\\Local\\anaconda3\\envs\\timex_temporalis_local\\Lib\\threading.py:323(wait)\n",
      "     1689    0.132    0.000  140.724    0.083 c:\\Users\\MULLERA\\AppData\\Local\\anaconda3\\envs\\timex_temporalis_local\\Lib\\site-packages\\bw2data\\utils.py:362(get_node)\n",
      "3218/2516    0.012    0.000  125.160    0.050 c:\\Users\\MULLERA\\AppData\\Local\\anaconda3\\envs\\timex_temporalis_local\\Lib\\site-packages\\peewee.py:2012(inner)\n",
      "     2516    0.007    0.000  125.107    0.050 c:\\Users\\MULLERA\\AppData\\Local\\anaconda3\\envs\\timex_temporalis_local\\Lib\\site-packages\\peewee.py:2087(execute)\n",
      "     2280    0.010    0.000  124.701    0.055 c:\\Users\\MULLERA\\AppData\\Local\\anaconda3\\envs\\timex_temporalis_local\\Lib\\site-packages\\peewee.py:7254(__iter__)\n",
      "     2516    0.063    0.000  121.658    0.048 c:\\Users\\MULLERA\\AppData\\Local\\anaconda3\\envs\\timex_temporalis_local\\Lib\\site-packages\\peewee.py:2260(_execute)\n",
      "        1    0.000    0.000   51.660   51.660 C:\\Users\\MULLERA\\OneDrive - VITO\\Documents\\04_Coding\\tictac_lca\\bw_timex\\timex_lca.py:537(build_datapackage)\n",
      "\n",
      "\n"
     ]
    },
    {
     "data": {
      "text/plain": [
       "<pstats.Stats at 0x2c93ec1aff0>"
      ]
     },
     "execution_count": 49,
     "metadata": {},
     "output_type": "execute_result"
    }
   ],
   "source": [
    "with Profile() as profile:\n",
    "    tlca.lci()\n",
    "    \n",
    "Stats(profile).sort_stats(SortKey.CUMULATIVE).print_stats(10)"
   ]
  },
  {
   "cell_type": "code",
   "execution_count": 50,
   "metadata": {},
   "outputs": [
    {
     "name": "stdout",
     "output_type": "stream",
     "text": [
      "         8805 function calls (8801 primitive calls) in 0.017 seconds\n",
      "\n",
      "   Ordered by: cumulative time\n",
      "   List reduced from 257 to 10 due to restriction <10>\n",
      "\n",
      "   ncalls  tottime  percall  cumtime  percall filename:lineno(function)\n",
      "       25    0.007    0.000    0.009    0.000 c:\\Users\\MULLERA\\AppData\\Local\\anaconda3\\envs\\timex_temporalis_local\\Lib\\site-packages\\bw_processing\\datapackage.py:180(filter_by_attribute)\n",
      "        1    0.000    0.000    0.006    0.006 c:\\Users\\MULLERA\\AppData\\Local\\anaconda3\\envs\\timex_temporalis_local\\Lib\\site-packages\\bw2calc\\utils.py:19(consistent_global_index)\n",
      "        1    0.000    0.000    0.005    0.005 c:\\Users\\MULLERA\\AppData\\Local\\anaconda3\\envs\\timex_temporalis_local\\Lib\\site-packages\\bw2calc\\lca.py:283(load_lcia_data)\n",
      "        1    0.000    0.000    0.004    0.004 c:\\Users\\MULLERA\\AppData\\Local\\anaconda3\\envs\\timex_temporalis_local\\Lib\\site-packages\\matrix_utils\\mapped_matrix.py:15(__init__)\n",
      "        1    0.000    0.000    0.003    0.003 c:\\Users\\MULLERA\\AppData\\Local\\anaconda3\\envs\\timex_temporalis_local\\Lib\\site-packages\\matrix_utils\\utils.py:6(filter_groups_for_packages)\n",
      "        2    0.000    0.000    0.003    0.001 c:\\Users\\MULLERA\\AppData\\Local\\anaconda3\\envs\\timex_temporalis_local\\Lib\\site-packages\\matrix_utils\\aggregation.py:5(aggregate_with_sparse)\n",
      "        5    0.000    0.000    0.002    0.000 c:\\Users\\MULLERA\\AppData\\Local\\anaconda3\\envs\\timex_temporalis_local\\Lib\\site-packages\\scipy\\sparse\\_coo.py:27(__init__)\n",
      "        1    0.000    0.000    0.002    0.002 c:\\Users\\MULLERA\\AppData\\Local\\anaconda3\\envs\\timex_temporalis_local\\Lib\\site-packages\\matrix_utils\\mapped_matrix.py:167(map_indices)\n",
      "        1    0.000    0.000    0.002    0.002 c:\\Users\\MULLERA\\AppData\\Local\\anaconda3\\envs\\timex_temporalis_local\\Lib\\site-packages\\matrix_utils\\mapped_matrix.py:184(rebuild_matrix)\n",
      "        1    0.000    0.000    0.002    0.002 c:\\Users\\MULLERA\\AppData\\Local\\anaconda3\\envs\\timex_temporalis_local\\Lib\\site-packages\\matrix_utils\\resource_group.py:166(map_indices)\n",
      "\n",
      "\n"
     ]
    },
    {
     "data": {
      "text/plain": [
       "<pstats.Stats at 0x2c90b3078f0>"
      ]
     },
     "execution_count": 50,
     "metadata": {},
     "output_type": "execute_result"
    }
   ],
   "source": [
    "with Profile() as profile:\n",
    "    tlca.static_lcia()\n",
    "\n",
    "Stats(profile).sort_stats(SortKey.CUMULATIVE).print_stats(10)"
   ]
  },
  {
   "cell_type": "code",
   "execution_count": 51,
   "metadata": {},
   "outputs": [
    {
     "data": {
      "text/plain": [
       "1653790.5231715888"
      ]
     },
     "execution_count": 51,
     "metadata": {},
     "output_type": "execute_result"
    }
   ],
   "source": [
    "tlca.static_score"
   ]
  }
 ],
 "metadata": {
  "kernelspec": {
   "display_name": "timex_temporalis_local",
   "language": "python",
   "name": "python3"
  },
  "language_info": {
   "codemirror_mode": {
    "name": "ipython",
    "version": 3
   },
   "file_extension": ".py",
   "mimetype": "text/x-python",
   "name": "python",
   "nbconvert_exporter": "python",
   "pygments_lexer": "ipython3",
   "version": "3.12.3"
  }
 },
 "nbformat": 4,
 "nbformat_minor": 2
}
