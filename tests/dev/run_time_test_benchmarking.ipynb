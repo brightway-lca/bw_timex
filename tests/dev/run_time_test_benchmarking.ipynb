{
 "cells": [
  {
   "cell_type": "markdown",
   "metadata": {},
   "source": [
    "## Standardized test cases"
   ]
  },
  {
   "cell_type": "markdown",
   "metadata": {},
   "source": [
    "For benchmarking, we need a standardized set of case studies, ranging form simple to very large. This helps us to test and track the performance of improvements of bw_timex with the same set of test cases.\n"
   ]
  },
  {
   "cell_type": "markdown",
   "metadata": {},
   "source": [
    "### 0) set up variables & functions"
   ]
  },
  {
   "cell_type": "code",
   "execution_count": 1,
   "metadata": {},
   "outputs": [],
   "source": [
    "import numpy as np\n",
    "import bw2data as bd\n",
    "\n",
    "from bw_temporalis import TemporalDistribution\n",
    "from datetime import datetime\n",
    "\n",
    "from cProfile import Profile\n",
    "from pstats import SortKey, Stats\n",
    "\n",
    "import time\n",
    "from bw_timex import TimexLCA\n"
   ]
  },
  {
   "cell_type": "code",
   "execution_count": 2,
   "metadata": {},
   "outputs": [],
   "source": [
    "# Define the old and new project names\n",
    "old_project_name = 'Reforrestation_Aforrestation'\n",
    "new_project_name = 'timex_benchmarking'\n",
    "\n",
    "# Restore the old project\n",
    "if new_project_name not in bd.projects:\n",
    "    import bw2io as bi\n",
    "    import shutil\n",
    "    bi.backup.restore_project_directory(fp= '/Users/ajakobs/Documents/Solene_Reforrestation_Aforrestation/brightway2-project-Reforrestation_Aforrestation-backup02-June-2025-05-23PM.tar.gz',\n",
    "                                    overwrite_existing=True)\n",
    "\n",
    "\n",
    "    # Set the current project to the old project\n",
    "    bd.projects.set_current(old_project_name)\n",
    "\n",
    "    # Get the project directory\n",
    "    old_project_dir = bd.projects.dir\n",
    "\n",
    "    # Create a new project\n",
    "    bd.projects.set_current(new_project_name)\n",
    "\n",
    "    # Get the new project directory\n",
    "    new_project_dir = bd.projects.dir\n",
    "\n",
    "    # Copy the old project directory to the new project directory\n",
    "    shutil.copytree(old_project_dir, new_project_dir, dirs_exist_ok=True)\n",
    "\n",
    "    print(f\"Project loaded and copied to {new_project_name}.\")\n",
    "else:\n",
    "    bd.projects.set_current(new_project_name)\n"
   ]
  },
  {
   "cell_type": "code",
   "execution_count": 3,
   "metadata": {},
   "outputs": [
    {
     "data": {
      "text/plain": [
       "['ecoinvent-3.11-biosphere',\n",
       " 'ecoinvent-3.11-cutoff',\n",
       " 'ei_cutoff_3.11_image_SSP2-M_2020 2025-05-30',\n",
       " 'ei_cutoff_3.11_image_SSP2-M_2030 2025-05-30',\n",
       " 'ei_cutoff_3.11_image_SSP2-M_2040 2025-05-30',\n",
       " 'ei_cutoff_3.11_image_SSP2-M_2050 2025-05-30',\n",
       " 'test_1tiers_2processes']"
      ]
     },
     "execution_count": 3,
     "metadata": {},
     "output_type": "execute_result"
    }
   ],
   "source": [
    "list(bd.databases)"
   ]
  },
  {
   "cell_type": "code",
   "execution_count": 4,
   "metadata": {},
   "outputs": [
    {
     "name": "stdout",
     "output_type": "stream",
     "text": [
      "['test_1tiers_2processes']\n",
      "Databases dictionary with 6 object(s):\n",
      "\tecoinvent-3.11-biosphere\n",
      "\tecoinvent-3.11-cutoff\n",
      "\tei_cutoff_3.11_image_SSP2-M_2020 2025-05-30\n",
      "\tei_cutoff_3.11_image_SSP2-M_2030 2025-05-30\n",
      "\tei_cutoff_3.11_image_SSP2-M_2040 2025-05-30\n",
      "\tei_cutoff_3.11_image_SSP2-M_2050 2025-05-30\n"
     ]
    }
   ],
   "source": [
    "# Remove all test systems from the project\n",
    "def clear_test_systems():\n",
    "    to_delete = []\n",
    "    for db in bd.databases:  # deleting all test_systems\n",
    "        if \"test\" in db:\n",
    "            to_delete.append(db)\n",
    "    print(to_delete)\n",
    "\n",
    "    for db in to_delete:\n",
    "        del bd.databases[db]\n",
    "\n",
    "    print(bd.databases)\n",
    "\n",
    "clear_test_systems()"
   ]
  },
  {
   "cell_type": "code",
   "execution_count": 5,
   "metadata": {},
   "outputs": [],
   "source": [
    "base_background_db = bd.Database(\"ei_cutoff_3.11_image_SSP2-M_2020 2025-05-30\")"
   ]
  },
  {
   "cell_type": "code",
   "execution_count": 6,
   "metadata": {},
   "outputs": [],
   "source": [
    "list_random_acts = []\n",
    "for i in range(0, 100):\n",
    "    act = base_background_db.random()\n",
    "    list_random_acts.append((act[\"code\"]))"
   ]
  },
  {
   "cell_type": "code",
   "execution_count": 7,
   "metadata": {},
   "outputs": [],
   "source": [
    "fixed_random_acts = list_random_acts"
   ]
  },
  {
   "cell_type": "code",
   "execution_count": 8,
   "metadata": {},
   "outputs": [],
   "source": [
    "def create_standardized_test_system(\n",
    "    db_name,\n",
    "    number_tiers,\n",
    "    number_processes_per_tier,\n",
    "    td_timesteps,\n",
    "    td_dtype,\n",
    "    fixed_random_acts,\n",
    "    number_background_exchanges_per_process,\n",
    "    base_background_db_name,\n",
    "    loop=False,\n",
    "):\n",
    "    \"\"\"\n",
    "    Create a foreground database with a standardized structure for testing purposes. It contains number_tiers supply chain levels, with each containing\n",
    "    number_processes_per_tier processes. Each process consumes from all processes in the tier below. At the last tier, each process consumes a certain numebr of background process\n",
    "    Each process has a temporal distribution with td_timesteps steps, e.g. 3, in td_dtype resolution, e.g. years, starting at a unit of time later than the consuming process\n",
    "    The last tier consumes a process from the background system in 2020, selecting a process from a predefined list of random processes, with the same temporal distribution as above.\n",
    "    If loop = True, a loop is included: the last process in last tier consumes from the last process in first tier, no TDs at this node.\n",
    "    No additional TDs at biosphere flows.\n",
    "\n",
    "    Parameters:\n",
    "    db_name: str, name of the database\n",
    "    number_tiers: int, number of tiers in the supply chain\n",
    "    number_processes_per_tier: int, number of processes per tier\n",
    "    td_timesteps: int, number of timesteps in the temporal distribution\n",
    "    td_dtype: str, dtype of the temporal distribution, e.g. \"timedelta64[Y]\" or \"timedelta64[M]\"\n",
    "    fixed_random_acts: a list of 100 background activities codes that has been pre-generated\n",
    "    number_background_exchanges_per_process: int, number of background exchanges per process in the last tier\n",
    "    base_background_db_name: str, name of the background database to use for the last tier processes, e.g. \"ei_cutoff_3.11_image_SSP2-M_2020 2025-05-30\"\n",
    "    loop: bool, whether to include a loop in the foreground system\n",
    "\n",
    "    returns: None\n",
    "\n",
    "\n",
    "    \"\"\"\n",
    "\n",
    "    # create a new database\n",
    "    if db_name in bd.databases:\n",
    "        del bd.databases[db_name]\n",
    "        print(f\"Database {db_name} already exists, overwriting.\")\n",
    "    foreground = bd.Database(db_name)\n",
    "    foreground.register()\n",
    "\n",
    "    background_db = bd.Database(\n",
    "        base_background_db_name\n",
    "    )  # background database for 2020 in timex project\n",
    "\n",
    "    # save FU node\n",
    "    FU_node = foreground.new_node(code=\"FU\", name=\"functional unit\", unit=\"unit\")\n",
    "    FU_node.save()\n",
    "    FU_node.new_edge(input=FU_node, amount=1, unit=\"unit\", type=\"production\").save()\n",
    "\n",
    "    # create nodes\n",
    "    for tier in range(1, number_tiers + 1):\n",
    "        for process in range(1, number_processes_per_tier + 1):\n",
    "            process_name = f\"tier{tier}_act{process}\"\n",
    "            process_code = f\"t{tier}_a{process}\"\n",
    "            process_node = foreground.new_node(\n",
    "                code=process_code, name=process_name, unit=\"unit\"\n",
    "            )\n",
    "            process_node.save()\n",
    "            process_node.new_edge(\n",
    "                input=process_node, amount=1, unit=\"unit\", type=\"production\"\n",
    "            ).save()\n",
    "\n",
    "    # relink nodes\n",
    "    for tier in range(1, number_tiers + 1):\n",
    "        for process in range(1, number_processes_per_tier + 1):\n",
    "            process_name = f\"tier{tier}_act{process}\"\n",
    "            process_code = f\"t{tier}_a{process}\"\n",
    "            process_node = foreground.get(process_code)\n",
    "            if tier == 1:  # tier 1 = FU\n",
    "                consuming_node = FU_node\n",
    "                new_edge = consuming_node.new_edge(\n",
    "                    input=process_node, amount=1, unit=\"unit\", type=\"technosphere\"\n",
    "                )\n",
    "                new_edge.save()\n",
    "            else:  # lower tiers: all nodes at the tier above consume from all nodes at the tier below, with a temporal distribution specified by the inputs\n",
    "                for process in range(1, number_processes_per_tier + 1):\n",
    "                    consuming_node = foreground.get(f\"t{tier-1}_a{process}\")\n",
    "                    new_edge = consuming_node.new_edge(\n",
    "                        input=process_node, amount=1, unit=\"unit\", type=\"technosphere\"\n",
    "                    )\n",
    "                    temporal_distribution = TemporalDistribution(\n",
    "                        date=np.array(np.arange(1, td_timesteps + 1), dtype=td_dtype),\n",
    "                        amount=np.full(td_timesteps, 1 / td_timesteps),\n",
    "                    )  # linear distribution between 1 and td_timesteps in years\n",
    "                    new_edge[\"temporal_distribution\"] = temporal_distribution\n",
    "                    new_edge.save()\n",
    "\n",
    "    # add background process to nodes on last tier\n",
    "    count_background_act = 0  # counting upward in list of random acts\n",
    "    total_background_count = 0\n",
    "    for process in range(1, number_processes_per_tier + 1):\n",
    "        last_foreground_node = foreground.get(f\"t{number_tiers}_a{process}\")\n",
    "\n",
    "        for _ in range(1, number_background_exchanges_per_process + 1):\n",
    "            background_process = background_db.get(\n",
    "                code=fixed_random_acts[count_background_act]\n",
    "            )\n",
    "            count_background_act += 1\n",
    "\n",
    "            new_edge = last_foreground_node.new_edge(\n",
    "                input=background_process, amount=4, type=\"technosphere\"\n",
    "            )\n",
    "            temporal_distribution = TemporalDistribution(\n",
    "                date=np.array(np.arange(1, td_timesteps + 1), dtype=td_dtype),\n",
    "                amount=np.full(td_timesteps, 1 / td_timesteps),\n",
    "            )  # linear distribution between 1 and td_timesteps in years\n",
    "            new_edge[\"temporal_distribution\"] = temporal_distribution\n",
    "            new_edge.save()\n",
    "\n",
    "            if (\n",
    "                count_background_act == 99\n",
    "            ):  # if all 100 background processes have been used, start again\n",
    "                total_background_count += count_background_act\n",
    "                count_background_act = 0\n",
    "\n",
    "    if loop:\n",
    "        # add loop to foreground: last process in last tier consumes from last process in first tier, no TDs\n",
    "        loop_consumer = foreground.get(f\"t{number_tiers}_a{number_processes_per_tier}\")\n",
    "        loop_producer = foreground.get(f\"t{1}_a{number_processes_per_tier}\")\n",
    "        new_edge = loop_consumer.new_edge(\n",
    "            input=loop_producer, amount=0.3, type=\"technosphere\"\n",
    "        )\n",
    "        new_edge.save()\n",
    "\n",
    "    count_exc = 0\n",
    "    for act in foreground:\n",
    "        for exc in act.technosphere():\n",
    "            count_exc += 1\n",
    "\n",
    "    total_background_count += (\n",
    "        count_background_act  # number of background processes used in total\n",
    "    )\n",
    "\n",
    "    print(\n",
    "        f\"Database {db_name} created with {len(foreground)} processes and {count_exc} exchanges. There are {total_background_count} different background processes used.\"\n",
    "    )\n",
    "    return len(foreground), count_exc, total_background_count"
   ]
  },
  {
   "cell_type": "markdown",
   "metadata": {},
   "source": [
    "### 1) small system"
   ]
  },
  {
   "cell_type": "code",
   "execution_count": 9,
   "metadata": {},
   "outputs": [],
   "source": [
    "def _database_dates(db_name):\n",
    "    database_dates = {\n",
    "    \"ei_cutoff_3.11_image_SSP2-M_2020 2025-05-30\": datetime.strptime(\"2020\", \"%Y\"),\n",
    "    \"ei_cutoff_3.11_image_SSP2-M_2030 2025-05-30\": datetime.strptime(\"2030\", \"%Y\"),\n",
    "    \"ei_cutoff_3.11_image_SSP2-M_2040 2025-05-30\": datetime.strptime(\"2040\", \"%Y\"),\n",
    "    \"ei_cutoff_3.11_image_SSP2-M_2050 2025-05-30\": datetime.strptime(\"2050\", \"%Y\"),\n",
    "    db_name: \"dynamic\",\n",
    "    }\n",
    "    return database_dates"
   ]
  },
  {
   "cell_type": "code",
   "execution_count": 10,
   "metadata": {},
   "outputs": [],
   "source": [
    "# set method\n",
    "method = ('ecoinvent-3.11', 'IPCC 2021 (incl. biogenic CO2)', 'climate change: total (incl. biogenic CO2)', 'global warming potential (GWP100)')"
   ]
  },
  {
   "cell_type": "code",
   "execution_count": 11,
   "metadata": {},
   "outputs": [
    {
     "name": "stdout",
     "output_type": "stream",
     "text": [
      "Processing database test_1tiers_1processes with 1 tiers and 1 processes per tier...\n",
      "Creating database test_1tiers_1processes...\n",
      "Database test_1tiers_1processes created with 2 processes and 3 exchanges. There are 2 different background processes used.\n",
      "benchmarking database test_1tiers_1processes...\n"
     ]
    },
    {
     "name": "stderr",
     "output_type": "stream",
     "text": [
      "/Users/ajakobs/miniconda3/envs/timex/lib/python3.11/site-packages/scikits/umfpack/umfpack.py:736: UmfpackWarning: (almost) singular matrix! (estimated cond. number: 9.30e+12)\n",
      "  warnings.warn(msg, UmfpackWarning)\n",
      "\u001b[32m2025-06-10 20:51:43.079\u001b[0m | \u001b[1mINFO    \u001b[0m | \u001b[36mbw_timex.timex_lca\u001b[0m:\u001b[36mbuild_timeline\u001b[0m:\u001b[36m217\u001b[0m - \u001b[1mNo edge filter function provided. Skipping all edges in background databases.\u001b[0m\n"
     ]
    },
    {
     "name": "stdout",
     "output_type": "stream",
     "text": [
      "Starting graph traversal\n",
      "Calculation count: 2\n"
     ]
    },
    {
     "name": "stderr",
     "output_type": "stream",
     "text": [
      "/Users/ajakobs/miniconda3/envs/timex/lib/python3.11/site-packages/bw2calc/lca_base.py:127: SparseEfficiencyWarning: splu converted its input to CSC format\n",
      "  self.solver = factorized(self.technosphere_matrix)\n",
      "/Users/ajakobs/miniconda3/envs/timex/lib/python3.11/site-packages/scikits/umfpack/umfpack.py:736: UmfpackWarning: (almost) singular matrix! (estimated cond. number: 4.49e+12)\n",
      "  warnings.warn(msg, UmfpackWarning)\n",
      "/Users/ajakobs/miniconda3/envs/timex/lib/python3.11/site-packages/scikits/umfpack/umfpack.py:736: UmfpackWarning: (almost) singular matrix! (estimated cond. number: 4.49e+12)\n",
      "  warnings.warn(msg, UmfpackWarning)\n"
     ]
    },
    {
     "name": "stdout",
     "output_type": "stream",
     "text": [
      "Tue Jun 10 20:51:57 2025: Database test_1tiers_1processes processed in 19.12 seconds.\n",
      "deleting test db from project...\n",
      "Processing database test_1tiers_2processes with 1 tiers and 2 processes per tier...\n",
      "Creating database test_1tiers_2processes...\n",
      "Database test_1tiers_2processes created with 3 processes and 6 exchanges. There are 4 different background processes used.\n",
      "benchmarking database test_1tiers_2processes...\n"
     ]
    },
    {
     "name": "stderr",
     "output_type": "stream",
     "text": [
      "/Users/ajakobs/miniconda3/envs/timex/lib/python3.11/site-packages/scikits/umfpack/umfpack.py:736: UmfpackWarning: (almost) singular matrix! (estimated cond. number: 9.30e+12)\n",
      "  warnings.warn(msg, UmfpackWarning)\n",
      "\u001b[32m2025-06-10 20:52:02.988\u001b[0m | \u001b[1mINFO    \u001b[0m | \u001b[36mbw_timex.timex_lca\u001b[0m:\u001b[36mbuild_timeline\u001b[0m:\u001b[36m217\u001b[0m - \u001b[1mNo edge filter function provided. Skipping all edges in background databases.\u001b[0m\n"
     ]
    },
    {
     "name": "stdout",
     "output_type": "stream",
     "text": [
      "Starting graph traversal\n",
      "Calculation count: 5\n"
     ]
    },
    {
     "name": "stderr",
     "output_type": "stream",
     "text": [
      "/Users/ajakobs/miniconda3/envs/timex/lib/python3.11/site-packages/bw2calc/lca_base.py:127: SparseEfficiencyWarning: splu converted its input to CSC format\n",
      "  self.solver = factorized(self.technosphere_matrix)\n",
      "/Users/ajakobs/miniconda3/envs/timex/lib/python3.11/site-packages/scikits/umfpack/umfpack.py:736: UmfpackWarning: (almost) singular matrix! (estimated cond. number: 4.49e+12)\n",
      "  warnings.warn(msg, UmfpackWarning)\n",
      "/Users/ajakobs/miniconda3/envs/timex/lib/python3.11/site-packages/scikits/umfpack/umfpack.py:736: UmfpackWarning: (almost) singular matrix! (estimated cond. number: 4.49e+12)\n",
      "  warnings.warn(msg, UmfpackWarning)\n"
     ]
    },
    {
     "name": "stdout",
     "output_type": "stream",
     "text": [
      "Tue Jun 10 20:52:23 2025: Database test_1tiers_2processes processed in 25.75 seconds.\n",
      "deleting test db from project...\n",
      "Processing database test_1tiers_3processes with 1 tiers and 3 processes per tier...\n",
      "Creating database test_1tiers_3processes...\n",
      "Database test_1tiers_3processes created with 4 processes and 9 exchanges. There are 6 different background processes used.\n",
      "benchmarking database test_1tiers_3processes...\n"
     ]
    },
    {
     "name": "stderr",
     "output_type": "stream",
     "text": [
      "/Users/ajakobs/miniconda3/envs/timex/lib/python3.11/site-packages/scikits/umfpack/umfpack.py:736: UmfpackWarning: (almost) singular matrix! (estimated cond. number: 9.30e+12)\n",
      "  warnings.warn(msg, UmfpackWarning)\n",
      "\u001b[32m2025-06-10 20:52:28.928\u001b[0m | \u001b[1mINFO    \u001b[0m | \u001b[36mbw_timex.timex_lca\u001b[0m:\u001b[36mbuild_timeline\u001b[0m:\u001b[36m217\u001b[0m - \u001b[1mNo edge filter function provided. Skipping all edges in background databases.\u001b[0m\n"
     ]
    },
    {
     "name": "stdout",
     "output_type": "stream",
     "text": [
      "Starting graph traversal\n",
      "Calculation count: 8\n"
     ]
    },
    {
     "name": "stderr",
     "output_type": "stream",
     "text": [
      "/Users/ajakobs/miniconda3/envs/timex/lib/python3.11/site-packages/bw2calc/lca_base.py:127: SparseEfficiencyWarning: splu converted its input to CSC format\n",
      "  self.solver = factorized(self.technosphere_matrix)\n",
      "/Users/ajakobs/miniconda3/envs/timex/lib/python3.11/site-packages/scikits/umfpack/umfpack.py:736: UmfpackWarning: (almost) singular matrix! (estimated cond. number: 4.49e+12)\n",
      "  warnings.warn(msg, UmfpackWarning)\n",
      "/Users/ajakobs/miniconda3/envs/timex/lib/python3.11/site-packages/scikits/umfpack/umfpack.py:736: UmfpackWarning: (almost) singular matrix! (estimated cond. number: 4.49e+12)\n",
      "  warnings.warn(msg, UmfpackWarning)\n"
     ]
    },
    {
     "name": "stdout",
     "output_type": "stream",
     "text": [
      "Tue Jun 10 20:52:52 2025: Database test_1tiers_3processes processed in 29.31 seconds.\n",
      "deleting test db from project...\n",
      "Processing database test_1tiers_5processes with 1 tiers and 5 processes per tier...\n",
      "Creating database test_1tiers_5processes...\n",
      "Database test_1tiers_5processes created with 6 processes and 15 exchanges. There are 10 different background processes used.\n",
      "benchmarking database test_1tiers_5processes...\n"
     ]
    },
    {
     "name": "stderr",
     "output_type": "stream",
     "text": [
      "/Users/ajakobs/miniconda3/envs/timex/lib/python3.11/site-packages/scikits/umfpack/umfpack.py:736: UmfpackWarning: (almost) singular matrix! (estimated cond. number: 9.30e+12)\n",
      "  warnings.warn(msg, UmfpackWarning)\n",
      "\u001b[32m2025-06-10 20:52:58.402\u001b[0m | \u001b[1mINFO    \u001b[0m | \u001b[36mbw_timex.timex_lca\u001b[0m:\u001b[36mbuild_timeline\u001b[0m:\u001b[36m217\u001b[0m - \u001b[1mNo edge filter function provided. Skipping all edges in background databases.\u001b[0m\n"
     ]
    },
    {
     "name": "stdout",
     "output_type": "stream",
     "text": [
      "Starting graph traversal\n",
      "Calculation count: 14\n"
     ]
    },
    {
     "name": "stderr",
     "output_type": "stream",
     "text": [
      "/Users/ajakobs/miniconda3/envs/timex/lib/python3.11/site-packages/bw2calc/lca_base.py:127: SparseEfficiencyWarning: splu converted its input to CSC format\n",
      "  self.solver = factorized(self.technosphere_matrix)\n",
      "/Users/ajakobs/miniconda3/envs/timex/lib/python3.11/site-packages/scikits/umfpack/umfpack.py:736: UmfpackWarning: (almost) singular matrix! (estimated cond. number: 4.49e+12)\n",
      "  warnings.warn(msg, UmfpackWarning)\n",
      "/Users/ajakobs/miniconda3/envs/timex/lib/python3.11/site-packages/scikits/umfpack/umfpack.py:736: UmfpackWarning: (almost) singular matrix! (estimated cond. number: 4.49e+12)\n",
      "  warnings.warn(msg, UmfpackWarning)\n"
     ]
    },
    {
     "name": "stdout",
     "output_type": "stream",
     "text": [
      "Tue Jun 10 20:53:31 2025: Database test_1tiers_5processes processed in 38.38 seconds.\n",
      "deleting test db from project...\n",
      "Processing database test_1tiers_10processes with 1 tiers and 10 processes per tier...\n",
      "Creating database test_1tiers_10processes...\n",
      "Database test_1tiers_10processes created with 11 processes and 30 exchanges. There are 20 different background processes used.\n",
      "benchmarking database test_1tiers_10processes...\n"
     ]
    },
    {
     "name": "stderr",
     "output_type": "stream",
     "text": [
      "/Users/ajakobs/miniconda3/envs/timex/lib/python3.11/site-packages/scikits/umfpack/umfpack.py:736: UmfpackWarning: (almost) singular matrix! (estimated cond. number: 9.30e+12)\n",
      "  warnings.warn(msg, UmfpackWarning)\n",
      "\u001b[32m2025-06-10 20:53:37.129\u001b[0m | \u001b[1mINFO    \u001b[0m | \u001b[36mbw_timex.timex_lca\u001b[0m:\u001b[36mbuild_timeline\u001b[0m:\u001b[36m217\u001b[0m - \u001b[1mNo edge filter function provided. Skipping all edges in background databases.\u001b[0m\n"
     ]
    },
    {
     "name": "stdout",
     "output_type": "stream",
     "text": [
      "Starting graph traversal\n",
      "Calculation count: 28\n"
     ]
    },
    {
     "name": "stderr",
     "output_type": "stream",
     "text": [
      "/Users/ajakobs/miniconda3/envs/timex/lib/python3.11/site-packages/bw2calc/lca_base.py:127: SparseEfficiencyWarning: splu converted its input to CSC format\n",
      "  self.solver = factorized(self.technosphere_matrix)\n",
      "/Users/ajakobs/miniconda3/envs/timex/lib/python3.11/site-packages/scikits/umfpack/umfpack.py:736: UmfpackWarning: (almost) singular matrix! (estimated cond. number: 4.49e+12)\n",
      "  warnings.warn(msg, UmfpackWarning)\n",
      "/Users/ajakobs/miniconda3/envs/timex/lib/python3.11/site-packages/scikits/umfpack/umfpack.py:736: UmfpackWarning: (almost) singular matrix! (estimated cond. number: 4.49e+12)\n",
      "  warnings.warn(msg, UmfpackWarning)\n"
     ]
    },
    {
     "name": "stdout",
     "output_type": "stream",
     "text": [
      "Tue Jun 10 20:54:35 2025: Database test_1tiers_10processes processed in 63.54 seconds.\n",
      "deleting test db from project...\n",
      "Processing database test_1tiers_20processes with 1 tiers and 20 processes per tier...\n",
      "Creating database test_1tiers_20processes...\n",
      "Database test_1tiers_20processes created with 21 processes and 60 exchanges. There are 40 different background processes used.\n",
      "benchmarking database test_1tiers_20processes...\n"
     ]
    },
    {
     "name": "stderr",
     "output_type": "stream",
     "text": [
      "/Users/ajakobs/miniconda3/envs/timex/lib/python3.11/site-packages/scikits/umfpack/umfpack.py:736: UmfpackWarning: (almost) singular matrix! (estimated cond. number: 9.30e+12)\n",
      "  warnings.warn(msg, UmfpackWarning)\n",
      "\u001b[32m2025-06-10 20:54:41.443\u001b[0m | \u001b[1mINFO    \u001b[0m | \u001b[36mbw_timex.timex_lca\u001b[0m:\u001b[36mbuild_timeline\u001b[0m:\u001b[36m217\u001b[0m - \u001b[1mNo edge filter function provided. Skipping all edges in background databases.\u001b[0m\n"
     ]
    },
    {
     "name": "stdout",
     "output_type": "stream",
     "text": [
      "Starting graph traversal\n",
      "Calculation count: 41\n"
     ]
    },
    {
     "name": "stderr",
     "output_type": "stream",
     "text": [
      "/Users/ajakobs/miniconda3/envs/timex/lib/python3.11/site-packages/bw2calc/lca_base.py:127: SparseEfficiencyWarning: splu converted its input to CSC format\n",
      "  self.solver = factorized(self.technosphere_matrix)\n",
      "/Users/ajakobs/miniconda3/envs/timex/lib/python3.11/site-packages/scikits/umfpack/umfpack.py:736: UmfpackWarning: (almost) singular matrix! (estimated cond. number: 4.49e+12)\n",
      "  warnings.warn(msg, UmfpackWarning)\n",
      "/Users/ajakobs/miniconda3/envs/timex/lib/python3.11/site-packages/scikits/umfpack/umfpack.py:736: UmfpackWarning: (almost) singular matrix! (estimated cond. number: 4.49e+12)\n",
      "  warnings.warn(msg, UmfpackWarning)\n"
     ]
    },
    {
     "name": "stdout",
     "output_type": "stream",
     "text": [
      "Tue Jun 10 20:56:12 2025: Database test_1tiers_20processes processed in 96.46 seconds.\n",
      "deleting test db from project...\n",
      "Processing database test_1tiers_30processes with 1 tiers and 30 processes per tier...\n",
      "Creating database test_1tiers_30processes...\n",
      "Database test_1tiers_30processes created with 31 processes and 90 exchanges. There are 60 different background processes used.\n",
      "benchmarking database test_1tiers_30processes...\n"
     ]
    },
    {
     "name": "stderr",
     "output_type": "stream",
     "text": [
      "/Users/ajakobs/miniconda3/envs/timex/lib/python3.11/site-packages/scikits/umfpack/umfpack.py:736: UmfpackWarning: (almost) singular matrix! (estimated cond. number: 9.30e+12)\n",
      "  warnings.warn(msg, UmfpackWarning)\n",
      "\u001b[32m2025-06-10 20:56:18.665\u001b[0m | \u001b[1mINFO    \u001b[0m | \u001b[36mbw_timex.timex_lca\u001b[0m:\u001b[36mbuild_timeline\u001b[0m:\u001b[36m217\u001b[0m - \u001b[1mNo edge filter function provided. Skipping all edges in background databases.\u001b[0m\n"
     ]
    },
    {
     "name": "stdout",
     "output_type": "stream",
     "text": [
      "Starting graph traversal\n",
      "Calculation count: 61\n"
     ]
    },
    {
     "name": "stderr",
     "output_type": "stream",
     "text": [
      "/Users/ajakobs/miniconda3/envs/timex/lib/python3.11/site-packages/bw2calc/lca_base.py:127: SparseEfficiencyWarning: splu converted its input to CSC format\n",
      "  self.solver = factorized(self.technosphere_matrix)\n",
      "/Users/ajakobs/miniconda3/envs/timex/lib/python3.11/site-packages/scikits/umfpack/umfpack.py:736: UmfpackWarning: (almost) singular matrix! (estimated cond. number: 4.49e+12)\n",
      "  warnings.warn(msg, UmfpackWarning)\n",
      "/Users/ajakobs/miniconda3/envs/timex/lib/python3.11/site-packages/scikits/umfpack/umfpack.py:736: UmfpackWarning: (almost) singular matrix! (estimated cond. number: 4.49e+12)\n",
      "  warnings.warn(msg, UmfpackWarning)\n"
     ]
    },
    {
     "name": "stdout",
     "output_type": "stream",
     "text": [
      "Tue Jun 10 20:58:26 2025: Database test_1tiers_30processes processed in 133.12 seconds.\n",
      "deleting test db from project...\n",
      "Processing database test_2tiers_1processes with 2 tiers and 1 processes per tier...\n",
      "Creating database test_2tiers_1processes...\n",
      "Database test_2tiers_1processes created with 3 processes and 4 exchanges. There are 2 different background processes used.\n",
      "benchmarking database test_2tiers_1processes...\n"
     ]
    },
    {
     "name": "stderr",
     "output_type": "stream",
     "text": [
      "/Users/ajakobs/miniconda3/envs/timex/lib/python3.11/site-packages/scikits/umfpack/umfpack.py:736: UmfpackWarning: (almost) singular matrix! (estimated cond. number: 9.30e+12)\n",
      "  warnings.warn(msg, UmfpackWarning)\n",
      "\u001b[32m2025-06-10 20:58:31.874\u001b[0m | \u001b[1mINFO    \u001b[0m | \u001b[36mbw_timex.timex_lca\u001b[0m:\u001b[36mbuild_timeline\u001b[0m:\u001b[36m217\u001b[0m - \u001b[1mNo edge filter function provided. Skipping all edges in background databases.\u001b[0m\n"
     ]
    },
    {
     "name": "stdout",
     "output_type": "stream",
     "text": [
      "Starting graph traversal\n",
      "Calculation count: 3\n"
     ]
    },
    {
     "name": "stderr",
     "output_type": "stream",
     "text": [
      "/Users/ajakobs/miniconda3/envs/timex/lib/python3.11/site-packages/bw2calc/lca_base.py:127: SparseEfficiencyWarning: splu converted its input to CSC format\n",
      "  self.solver = factorized(self.technosphere_matrix)\n",
      "/Users/ajakobs/miniconda3/envs/timex/lib/python3.11/site-packages/scikits/umfpack/umfpack.py:736: UmfpackWarning: (almost) singular matrix! (estimated cond. number: 4.49e+12)\n",
      "  warnings.warn(msg, UmfpackWarning)\n",
      "/Users/ajakobs/miniconda3/envs/timex/lib/python3.11/site-packages/scikits/umfpack/umfpack.py:736: UmfpackWarning: (almost) singular matrix! (estimated cond. number: 4.49e+12)\n",
      "  warnings.warn(msg, UmfpackWarning)\n"
     ]
    },
    {
     "name": "stdout",
     "output_type": "stream",
     "text": [
      "Tue Jun 10 20:58:49 2025: Database test_2tiers_1processes processed in 23.24 seconds.\n",
      "deleting test db from project...\n",
      "Processing database test_2tiers_2processes with 2 tiers and 2 processes per tier...\n",
      "Creating database test_2tiers_2processes...\n",
      "Database test_2tiers_2processes created with 5 processes and 10 exchanges. There are 4 different background processes used.\n",
      "benchmarking database test_2tiers_2processes...\n"
     ]
    },
    {
     "name": "stderr",
     "output_type": "stream",
     "text": [
      "/Users/ajakobs/miniconda3/envs/timex/lib/python3.11/site-packages/scikits/umfpack/umfpack.py:736: UmfpackWarning: (almost) singular matrix! (estimated cond. number: 9.30e+12)\n",
      "  warnings.warn(msg, UmfpackWarning)\n",
      "\u001b[32m2025-06-10 20:58:55.326\u001b[0m | \u001b[1mINFO    \u001b[0m | \u001b[36mbw_timex.timex_lca\u001b[0m:\u001b[36mbuild_timeline\u001b[0m:\u001b[36m217\u001b[0m - \u001b[1mNo edge filter function provided. Skipping all edges in background databases.\u001b[0m\n"
     ]
    },
    {
     "name": "stdout",
     "output_type": "stream",
     "text": [
      "Starting graph traversal\n",
      "Calculation count: 12\n"
     ]
    },
    {
     "name": "stderr",
     "output_type": "stream",
     "text": [
      "/Users/ajakobs/miniconda3/envs/timex/lib/python3.11/site-packages/bw2calc/lca_base.py:127: SparseEfficiencyWarning: splu converted its input to CSC format\n",
      "  self.solver = factorized(self.technosphere_matrix)\n",
      "/Users/ajakobs/miniconda3/envs/timex/lib/python3.11/site-packages/scikits/umfpack/umfpack.py:736: UmfpackWarning: (almost) singular matrix! (estimated cond. number: 4.49e+12)\n",
      "  warnings.warn(msg, UmfpackWarning)\n",
      "/Users/ajakobs/miniconda3/envs/timex/lib/python3.11/site-packages/scikits/umfpack/umfpack.py:736: UmfpackWarning: (almost) singular matrix! (estimated cond. number: 4.49e+12)\n",
      "  warnings.warn(msg, UmfpackWarning)\n"
     ]
    },
    {
     "name": "stdout",
     "output_type": "stream",
     "text": [
      "Tue Jun 10 20:59:20 2025: Database test_2tiers_2processes processed in 30.77 seconds.\n",
      "deleting test db from project...\n",
      "Processing database test_2tiers_3processes with 2 tiers and 3 processes per tier...\n",
      "Creating database test_2tiers_3processes...\n",
      "Database test_2tiers_3processes created with 7 processes and 18 exchanges. There are 6 different background processes used.\n",
      "benchmarking database test_2tiers_3processes...\n"
     ]
    },
    {
     "name": "stderr",
     "output_type": "stream",
     "text": [
      "/Users/ajakobs/miniconda3/envs/timex/lib/python3.11/site-packages/scikits/umfpack/umfpack.py:736: UmfpackWarning: (almost) singular matrix! (estimated cond. number: 9.30e+12)\n",
      "  warnings.warn(msg, UmfpackWarning)\n",
      "\u001b[32m2025-06-10 20:59:26.072\u001b[0m | \u001b[1mINFO    \u001b[0m | \u001b[36mbw_timex.timex_lca\u001b[0m:\u001b[36mbuild_timeline\u001b[0m:\u001b[36m217\u001b[0m - \u001b[1mNo edge filter function provided. Skipping all edges in background databases.\u001b[0m\n"
     ]
    },
    {
     "name": "stdout",
     "output_type": "stream",
     "text": [
      "Starting graph traversal\n",
      "Calculation count: 27\n"
     ]
    },
    {
     "name": "stderr",
     "output_type": "stream",
     "text": [
      "/Users/ajakobs/miniconda3/envs/timex/lib/python3.11/site-packages/bw2calc/lca_base.py:127: SparseEfficiencyWarning: splu converted its input to CSC format\n",
      "  self.solver = factorized(self.technosphere_matrix)\n",
      "/Users/ajakobs/miniconda3/envs/timex/lib/python3.11/site-packages/scikits/umfpack/umfpack.py:736: UmfpackWarning: (almost) singular matrix! (estimated cond. number: 4.49e+12)\n",
      "  warnings.warn(msg, UmfpackWarning)\n",
      "/Users/ajakobs/miniconda3/envs/timex/lib/python3.11/site-packages/scikits/umfpack/umfpack.py:736: UmfpackWarning: (almost) singular matrix! (estimated cond. number: 4.49e+12)\n",
      "  warnings.warn(msg, UmfpackWarning)\n"
     ]
    },
    {
     "name": "stdout",
     "output_type": "stream",
     "text": [
      "Tue Jun 10 20:59:59 2025: Database test_2tiers_3processes processed in 38.62 seconds.\n",
      "deleting test db from project...\n",
      "Processing database test_2tiers_5processes with 2 tiers and 5 processes per tier...\n",
      "Creating database test_2tiers_5processes...\n",
      "Database test_2tiers_5processes created with 11 processes and 40 exchanges. There are 10 different background processes used.\n",
      "benchmarking database test_2tiers_5processes...\n"
     ]
    },
    {
     "name": "stderr",
     "output_type": "stream",
     "text": [
      "/Users/ajakobs/miniconda3/envs/timex/lib/python3.11/site-packages/scikits/umfpack/umfpack.py:736: UmfpackWarning: (almost) singular matrix! (estimated cond. number: 9.30e+12)\n",
      "  warnings.warn(msg, UmfpackWarning)\n",
      "\u001b[32m2025-06-10 21:00:04.984\u001b[0m | \u001b[1mINFO    \u001b[0m | \u001b[36mbw_timex.timex_lca\u001b[0m:\u001b[36mbuild_timeline\u001b[0m:\u001b[36m217\u001b[0m - \u001b[1mNo edge filter function provided. Skipping all edges in background databases.\u001b[0m\n"
     ]
    },
    {
     "name": "stdout",
     "output_type": "stream",
     "text": [
      "Starting graph traversal\n",
      "Calculation count: 75\n"
     ]
    },
    {
     "name": "stderr",
     "output_type": "stream",
     "text": [
      "/Users/ajakobs/miniconda3/envs/timex/lib/python3.11/site-packages/bw2calc/lca_base.py:127: SparseEfficiencyWarning: splu converted its input to CSC format\n",
      "  self.solver = factorized(self.technosphere_matrix)\n",
      "/Users/ajakobs/miniconda3/envs/timex/lib/python3.11/site-packages/scikits/umfpack/umfpack.py:736: UmfpackWarning: (almost) singular matrix! (estimated cond. number: 4.49e+12)\n",
      "  warnings.warn(msg, UmfpackWarning)\n",
      "/Users/ajakobs/miniconda3/envs/timex/lib/python3.11/site-packages/scikits/umfpack/umfpack.py:736: UmfpackWarning: (almost) singular matrix! (estimated cond. number: 4.49e+12)\n",
      "  warnings.warn(msg, UmfpackWarning)\n"
     ]
    },
    {
     "name": "stdout",
     "output_type": "stream",
     "text": [
      "Tue Jun 10 21:00:57 2025: Database test_2tiers_5processes processed in 58.21 seconds.\n",
      "deleting test db from project...\n",
      "Processing database test_2tiers_10processes with 2 tiers and 10 processes per tier...\n",
      "Creating database test_2tiers_10processes...\n",
      "Database test_2tiers_10processes created with 21 processes and 130 exchanges. There are 20 different background processes used.\n",
      "benchmarking database test_2tiers_10processes...\n"
     ]
    },
    {
     "name": "stderr",
     "output_type": "stream",
     "text": [
      "/Users/ajakobs/miniconda3/envs/timex/lib/python3.11/site-packages/scikits/umfpack/umfpack.py:736: UmfpackWarning: (almost) singular matrix! (estimated cond. number: 9.30e+12)\n",
      "  warnings.warn(msg, UmfpackWarning)\n",
      "\u001b[32m2025-06-10 21:01:03.758\u001b[0m | \u001b[1mINFO    \u001b[0m | \u001b[36mbw_timex.timex_lca\u001b[0m:\u001b[36mbuild_timeline\u001b[0m:\u001b[36m217\u001b[0m - \u001b[1mNo edge filter function provided. Skipping all edges in background databases.\u001b[0m\n"
     ]
    },
    {
     "name": "stdout",
     "output_type": "stream",
     "text": [
      "Starting graph traversal\n",
      "Calculation count: 290\n"
     ]
    },
    {
     "name": "stderr",
     "output_type": "stream",
     "text": [
      "/Users/ajakobs/miniconda3/envs/timex/lib/python3.11/site-packages/bw2calc/lca_base.py:127: SparseEfficiencyWarning: splu converted its input to CSC format\n",
      "  self.solver = factorized(self.technosphere_matrix)\n",
      "/Users/ajakobs/miniconda3/envs/timex/lib/python3.11/site-packages/scikits/umfpack/umfpack.py:736: UmfpackWarning: (almost) singular matrix! (estimated cond. number: 4.49e+12)\n",
      "  warnings.warn(msg, UmfpackWarning)\n",
      "/Users/ajakobs/miniconda3/envs/timex/lib/python3.11/site-packages/scikits/umfpack/umfpack.py:736: UmfpackWarning: (almost) singular matrix! (estimated cond. number: 4.49e+12)\n",
      "  warnings.warn(msg, UmfpackWarning)\n"
     ]
    },
    {
     "name": "stdout",
     "output_type": "stream",
     "text": [
      "Tue Jun 10 21:02:50 2025: Database test_2tiers_10processes processed in 112.75 seconds.\n",
      "deleting test db from project...\n",
      "Processing database test_2tiers_20processes with 2 tiers and 20 processes per tier...\n",
      "Creating database test_2tiers_20processes...\n",
      "Database test_2tiers_20processes created with 41 processes and 460 exchanges. There are 40 different background processes used.\n",
      "benchmarking database test_2tiers_20processes...\n"
     ]
    },
    {
     "name": "stderr",
     "output_type": "stream",
     "text": [
      "/Users/ajakobs/miniconda3/envs/timex/lib/python3.11/site-packages/scikits/umfpack/umfpack.py:736: UmfpackWarning: (almost) singular matrix! (estimated cond. number: 9.30e+12)\n",
      "  warnings.warn(msg, UmfpackWarning)\n",
      "\u001b[32m2025-06-10 21:02:57.866\u001b[0m | \u001b[1mINFO    \u001b[0m | \u001b[36mbw_timex.timex_lca\u001b[0m:\u001b[36mbuild_timeline\u001b[0m:\u001b[36m217\u001b[0m - \u001b[1mNo edge filter function provided. Skipping all edges in background databases.\u001b[0m\n"
     ]
    },
    {
     "name": "stdout",
     "output_type": "stream",
     "text": [
      "Starting graph traversal\n",
      "Calculation count: 280\n"
     ]
    },
    {
     "name": "stderr",
     "output_type": "stream",
     "text": [
      "/Users/ajakobs/miniconda3/envs/timex/lib/python3.11/site-packages/bw2calc/lca_base.py:127: SparseEfficiencyWarning: splu converted its input to CSC format\n",
      "  self.solver = factorized(self.technosphere_matrix)\n",
      "/Users/ajakobs/miniconda3/envs/timex/lib/python3.11/site-packages/scikits/umfpack/umfpack.py:736: UmfpackWarning: (almost) singular matrix! (estimated cond. number: 4.49e+12)\n",
      "  warnings.warn(msg, UmfpackWarning)\n",
      "/Users/ajakobs/miniconda3/envs/timex/lib/python3.11/site-packages/scikits/umfpack/umfpack.py:736: UmfpackWarning: (almost) singular matrix! (estimated cond. number: 4.49e+12)\n",
      "  warnings.warn(msg, UmfpackWarning)\n"
     ]
    },
    {
     "name": "stdout",
     "output_type": "stream",
     "text": [
      "Tue Jun 10 21:05:13 2025: Database test_2tiers_20processes processed in 141.28 seconds.\n",
      "deleting test db from project...\n",
      "Processing database test_2tiers_30processes with 2 tiers and 30 processes per tier...\n",
      "Creating database test_2tiers_30processes...\n",
      "Database test_2tiers_30processes created with 61 processes and 990 exchanges. There are 60 different background processes used.\n",
      "benchmarking database test_2tiers_30processes...\n"
     ]
    },
    {
     "name": "stderr",
     "output_type": "stream",
     "text": [
      "/Users/ajakobs/miniconda3/envs/timex/lib/python3.11/site-packages/scikits/umfpack/umfpack.py:736: UmfpackWarning: (almost) singular matrix! (estimated cond. number: 9.30e+12)\n",
      "  warnings.warn(msg, UmfpackWarning)\n",
      "\u001b[32m2025-06-10 21:05:21.571\u001b[0m | \u001b[1mINFO    \u001b[0m | \u001b[36mbw_timex.timex_lca\u001b[0m:\u001b[36mbuild_timeline\u001b[0m:\u001b[36m217\u001b[0m - \u001b[1mNo edge filter function provided. Skipping all edges in background databases.\u001b[0m\n"
     ]
    },
    {
     "name": "stdout",
     "output_type": "stream",
     "text": [
      "Starting graph traversal\n",
      "Calculation count: 510\n"
     ]
    },
    {
     "name": "stderr",
     "output_type": "stream",
     "text": [
      "/Users/ajakobs/miniconda3/envs/timex/lib/python3.11/site-packages/bw2calc/lca_base.py:127: SparseEfficiencyWarning: splu converted its input to CSC format\n",
      "  self.solver = factorized(self.technosphere_matrix)\n",
      "/Users/ajakobs/miniconda3/envs/timex/lib/python3.11/site-packages/scikits/umfpack/umfpack.py:736: UmfpackWarning: (almost) singular matrix! (estimated cond. number: 4.49e+12)\n",
      "  warnings.warn(msg, UmfpackWarning)\n"
     ]
    },
    {
     "name": "stdout",
     "output_type": "stream",
     "text": [
      "Tue Jun 10 21:08:42 2025: Database test_2tiers_30processes processed in 206.43 seconds.\n",
      "deleting test db from project...\n"
     ]
    },
    {
     "name": "stderr",
     "output_type": "stream",
     "text": [
      "/Users/ajakobs/miniconda3/envs/timex/lib/python3.11/site-packages/scikits/umfpack/umfpack.py:736: UmfpackWarning: (almost) singular matrix! (estimated cond. number: 4.49e+12)\n",
      "  warnings.warn(msg, UmfpackWarning)\n"
     ]
    }
   ],
   "source": [
    "n_processes = np.array([1,2,3,5,10, 20, 30])\n",
    "n_tiers = np.array([1,2])\n",
    "time_steps = 3\n",
    "\n",
    "time_initialize = []\n",
    "time_build_timeline = []\n",
    "time_lci = []\n",
    "time_lcia = []\n",
    "time_total = []\n",
    "\n",
    "# Create foreground databases with different numbers of processes and tiers\n",
    "test_db_names = []\n",
    "n_foreground = []\n",
    "n_exchanges = []\n",
    "n_background = []\n",
    "\n",
    "for n_tier in n_tiers[:]:\n",
    "    for n_process in n_processes[:]:\n",
    "        db_name = f\"test_{n_tier}tiers_{n_process}processes\"\n",
    "        database_dates = _database_dates(db_name)\n",
    "        test_db_names.append(db_name)\n",
    "        print(f\"Processing database {db_name} with {n_tier} tiers and {n_process} processes per tier...\")\n",
    "        # Check if the database already exists\n",
    "        if db_name not in bd.databases:\n",
    "            # Create the standardized test system\n",
    "            print(f\"Creating database {db_name}...\")\n",
    "            db_name = f\"test_{n_tier}tiers_{n_process}processes\"\n",
    "            n_fg, n_exch, n_bg = create_standardized_test_system(db_name=db_name,\n",
    "                                            number_tiers=n_tier,\n",
    "                                            number_processes_per_tier=n_process,\n",
    "                                            td_timesteps=time_steps,\n",
    "                                            td_dtype=\"timedelta64[Y]\",\n",
    "                                            fixed_random_acts=fixed_random_acts,\n",
    "                                            number_background_exchanges_per_process=2,\n",
    "                                            base_background_db_name=\"ei_cutoff_3.11_image_SSP2-M_2020 2025-05-30\",\n",
    "                                            loop=False)\n",
    "            n_foreground.append(n_fg)\n",
    "            n_exchanges.append(n_exch)\n",
    "            n_background.append(n_bg)\n",
    "        \n",
    "        # Process each database\n",
    "        print(f\"benchmarking database {db_name}...\")\n",
    "        # set funcitonal unit\n",
    "        FU_node = bd.Database(db_name).get(\"FU\")\n",
    "        #initialize the TimexLCA object\n",
    "        t0 = time.time()\n",
    "        tlca = TimexLCA(demand={FU_node: 1},\n",
    "        method=method,\n",
    "        database_dates=database_dates,\n",
    "        )\n",
    "        t1 = time.time()\n",
    "        time_initialize.append(t1 - t0)\n",
    "        # build the timeline\n",
    "        t2 = time.time()\n",
    "        tlca.build_timeline()\n",
    "        t3 = time.time()\n",
    "        time_build_timeline.append(t3 - t2)\n",
    "        # run the LCI\n",
    "        t4 = time.time()\n",
    "        tlca.lci()\n",
    "        t5 = time.time()\n",
    "        time_lci.append(t5 - t4)\n",
    "        # run the LCIA\n",
    "        t6 = time.time()\n",
    "        tlca.static_lcia()\n",
    "        t7 = time.time()\n",
    "        time_lcia.append(t7 - t6)\n",
    "        time_total.append(t7 - t0)\n",
    "        print(f\"{time.ctime()}: Database {db_name} processed in {t7 - t0:.2f} seconds.\")\n",
    "        print(\"deleting test db from project...\")\n",
    "        del bd.databases[db_name]"
   ]
  },
  {
   "cell_type": "code",
   "execution_count": 12,
   "metadata": {},
   "outputs": [
    {
     "name": "stdout",
     "output_type": "stream",
     "text": [
      "Database test_1tiers_1processes processed in 19.12 seconds.\n",
      "Time to initialize: 4.44 seconds.\n",
      "Time to build timeline: 8.10 seconds.\n",
      "Time to run LCI: 6.58 seconds.\n",
      "Time to run LCIA: 0.00 seconds.\n",
      "Database test_1tiers_2processes processed in 25.75 seconds.\n",
      "Time to initialize: 5.17 seconds.\n",
      "Time to build timeline: 13.38 seconds.\n",
      "Time to run LCI: 7.19 seconds.\n",
      "Time to run LCIA: 0.00 seconds.\n",
      "Database test_1tiers_3processes processed in 29.31 seconds.\n",
      "Time to initialize: 5.27 seconds.\n",
      "Time to build timeline: 16.22 seconds.\n",
      "Time to run LCI: 7.81 seconds.\n",
      "Time to run LCIA: 0.00 seconds.\n",
      "Database test_2tiers_1processes processed in 19.12 seconds.\n",
      "Time to initialize: 4.44 seconds.\n",
      "Time to build timeline: 8.10 seconds.\n",
      "Time to run LCI: 6.58 seconds.\n",
      "Time to run LCIA: 0.00 seconds.\n",
      "Database test_2tiers_2processes processed in 29.31 seconds.\n",
      "Time to initialize: 5.27 seconds.\n",
      "Time to build timeline: 16.22 seconds.\n",
      "Time to run LCI: 7.81 seconds.\n",
      "Time to run LCIA: 0.00 seconds.\n",
      "Database test_2tiers_3processes processed in 63.54 seconds.\n",
      "Time to initialize: 5.39 seconds.\n",
      "Time to build timeline: 46.09 seconds.\n",
      "Time to run LCI: 12.05 seconds.\n",
      "Time to run LCIA: 0.00 seconds.\n"
     ]
    }
   ],
   "source": [
    "for i,tier in enumerate(n_tiers[:2]):\n",
    "    for j,process in enumerate(n_processes[:3]):\n",
    "        db_name = f\"test_{tier}tiers_{process}processes\"\n",
    "        print(f\"Database {db_name} processed in {time_total[i*j+j]:.2f} seconds.\")\n",
    "        print(f\"Time to initialize: {time_initialize[i*j+j]:.2f} seconds.\")\n",
    "        print(f\"Time to build timeline: {time_build_timeline[i*j+j]:.2f} seconds.\")\n",
    "        print(f\"Time to run LCI: {time_lci[i*j+j]:.2f} seconds.\")\n",
    "        print(f\"Time to run LCIA: {time_lcia[i*j+j]:.2f} seconds.\")"
   ]
  },
  {
   "cell_type": "code",
   "execution_count": 13,
   "metadata": {},
   "outputs": [],
   "source": [
    "from matplotlib import pyplot as plt\n",
    "import seaborn as sns\n",
    "sns.set_theme()"
   ]
  },
  {
   "cell_type": "code",
   "execution_count": 14,
   "metadata": {},
   "outputs": [
    {
     "data": {
      "text/plain": [
       "[0.001165151596069336,\n",
       " 0.0010938644409179688,\n",
       " 0.0011887550354003906,\n",
       " 0.001157999038696289,\n",
       " 0.0012142658233642578,\n",
       " 0.0012891292572021484,\n",
       " 0.0016608238220214844,\n",
       " 0.0012180805206298828,\n",
       " 0.0012769699096679688,\n",
       " 0.0013611316680908203,\n",
       " 0.0013959407806396484,\n",
       " 0.0016298294067382812,\n",
       " 0.0016782283782958984,\n",
       " 0.0019807815551757812]"
      ]
     },
     "execution_count": 14,
     "metadata": {},
     "output_type": "execute_result"
    }
   ],
   "source": [
    "time_lcia"
   ]
  },
  {
   "cell_type": "code",
   "execution_count": 20,
   "metadata": {},
   "outputs": [
    {
     "data": {
      "image/png": "[encoded data removed]",
      "text/plain": [
       "<Figure size 640x480 with 4 Axes>"
      ]
     },
     "metadata": {},
     "output_type": "display_data"
    }
   ],
   "source": [
    "timing_cat_names = ['initialization','building timeline', 'calculating lci', 'total time']\n",
    "timing_cats = [time_initialize,time_build_timeline, time_lci, time_total]\n",
    "fig = plt.figure()\n",
    "\n",
    "for i,(cat_name, timing_cat) in enumerate(zip(timing_cat_names, timing_cats)):\n",
    "   \n",
    "    timing_cat = np.asarray(timing_cat).reshape((len(n_tiers[:]),len(n_processes[:])))\n",
    "    ax = fig.add_subplot(2,2,i+1)\n",
    "    ax.set_xlabel('Number of Proceses')\n",
    "    ax.set_ylabel('Computation Time')\n",
    "    ax.set_title(cat_name)\n",
    "    for j,n_tier in enumerate(n_tiers[:2]):\n",
    "        ax.plot(n_processes[:], timing_cat[j,:], label=f'{n_tier} Tiers')\n",
    "    \n",
    "    if i == 0:\n",
    "        ax.legend(frameon=False)   \n",
    "\n",
    "fig.suptitle('Computation time')\n",
    "plt.tight_layout()\n",
    "\n",
    "\n"
   ]
  },
  {
   "cell_type": "code",
   "execution_count": 21,
   "metadata": {},
   "outputs": [
    {
     "data": {
      "image/png": "[encoded data removed]",
      "text/plain": [
       "<Figure size 640x480 with 4 Axes>"
      ]
     },
     "metadata": {},
     "output_type": "display_data"
    }
   ],
   "source": [
    "timing_cat_names = ['# foreground processes','# of exchnages (in fg)', '# background processes', '# processes per tier']\n",
    "\n",
    "\n",
    "n_fg = np.asarray(n_foreground).reshape((len(n_tiers),len(n_processes)))\n",
    "n_exch = np.asarray(n_exchanges).reshape((len(n_tiers),len(n_processes)))\n",
    "n_bg = np.asarray(n_background).reshape((len(n_tiers),len(n_processes)))\n",
    "N_processes = np.tile(n_processes, (len(n_tiers), 1))\n",
    "\n",
    "timing_cats = [n_fg, n_exch, n_bg, N_processes]\n",
    "ttime = np.asarray(time_total).reshape((len(n_tiers),len(n_processes)))\n",
    "\n",
    "fig = plt.figure()\n",
    "\n",
    "\n",
    "\n",
    "for i,(cat_name,timing_cat) in enumerate(zip(timing_cat_names, timing_cats)):\n",
    "   \n",
    "    ax = fig.add_subplot(2,2,i+1)\n",
    "    ax.set_xlabel(cat_name)\n",
    "    ax.set_ylabel('Total Time')\n",
    "    ax.set_title(cat_name)\n",
    "    for j,n_tier in enumerate(n_tiers[:2]):\n",
    "        ax.plot(timing_cat[j,:], ttime[j,:], label=f'{n_tier} Tiers')\n",
    "    \n",
    "    if i == 0:\n",
    "        ax.legend(frameon=False)   \n",
    "\n",
    "fig.suptitle('Computation time')\n",
    "plt.tight_layout()\n",
    "\n",
    "\n"
   ]
  },
  {
   "cell_type": "code",
   "execution_count": 33,
   "metadata": {},
   "outputs": [
    {
     "data": {
      "text/plain": [
       "[5.36871600151062,\n",
       " 5.348928928375244,\n",
       " 5.551616907119751,\n",
       " 5.21621298789978,\n",
       " 5.524483919143677,\n",
       " 5.493585824966431]"
      ]
     },
     "execution_count": 33,
     "metadata": {},
     "output_type": "execute_result"
    }
   ],
   "source": [
    "time_initialize"
   ]
  },
  {
   "cell_type": "code",
   "execution_count": 35,
   "metadata": {},
   "outputs": [
    {
     "data": {
      "text/plain": [
       "[7.035416126251221,\n",
       " 7.709656000137329,\n",
       " 8.41408395767212,\n",
       " 8.24273681640625,\n",
       " 10.077550888061523,\n",
       " 12.610236167907715]"
      ]
     },
     "execution_count": 35,
     "metadata": {},
     "output_type": "execute_result"
    }
   ],
   "source": [
    "time_lci"
   ]
  },
  {
   "cell_type": "code",
   "execution_count": 36,
   "metadata": {},
   "outputs": [
    {
     "data": {
      "text/plain": [
       "[21.141052961349487,\n",
       " 26.238516092300415,\n",
       " 31.152748107910156,\n",
       " 24.018660306930542,\n",
       " 30.896164894104004,\n",
       " 39.10817003250122]"
      ]
     },
     "execution_count": 36,
     "metadata": {},
     "output_type": "execute_result"
    }
   ],
   "source": [
    "time_total"
   ]
  },
  {
   "cell_type": "code",
   "execution_count": 23,
   "metadata": {},
   "outputs": [],
   "source": [
    "biosphere_db = bd.Database(\"ecoinvent-3.11-biosphere\")\n"
   ]
  },
  {
   "cell_type": "code",
   "execution_count": 38,
   "metadata": {},
   "outputs": [
    {
     "name": "stdout",
     "output_type": "stream",
     "text": [
      "0: ('ecoinvent-3.11', 'CML v4.8 2016 no LT', 'acidification no LT', 'acidification (incl. fate, average Europe total, A&B) no LT')\n",
      "1: ('ecoinvent-3.11', 'CML v4.8 2016 no LT', 'climate change no LT', 'global warming potential (GWP100) no LT')\n",
      "2: ('ecoinvent-3.11', 'CML v4.8 2016 no LT', 'ecotoxicity: freshwater no LT', 'freshwater aquatic ecotoxicity (FAETP inf) no LT')\n",
      "3: ('ecoinvent-3.11', 'CML v4.8 2016 no LT', 'ecotoxicity: marine no LT', 'marine aquatic ecotoxicity (MAETP inf) no LT')\n",
      "4: ('ecoinvent-3.11', 'CML v4.8 2016 no LT', 'ecotoxicity: terrestrial no LT', 'terrestrial ecotoxicity (TETP inf) no LT')\n",
      "5: ('ecoinvent-3.11', 'CML v4.8 2016 no LT', 'energy resources: non-renewable no LT', 'abiotic depletion potential (ADP): fossil fuels no LT')\n",
      "6: ('ecoinvent-3.11', 'CML v4.8 2016 no LT', 'eutrophication no LT', 'eutrophication (fate not incl.) no LT')\n",
      "7: ('ecoinvent-3.11', 'CML v4.8 2016 no LT', 'human toxicity no LT', 'human toxicity (HTP inf) no LT')\n",
      "8: ('ecoinvent-3.11', 'CML v4.8 2016 no LT', 'material resources: metals/minerals no LT', 'abiotic depletion potential (ADP): elements (ultimate reserves) no LT')\n",
      "9: ('ecoinvent-3.11', 'CML v4.8 2016 no LT', 'ozone depletion no LT', 'ozone layer depletion (ODP steady state) no LT')\n",
      "10: ('ecoinvent-3.11', 'CML v4.8 2016 no LT', 'photochemical oxidant formation no LT', 'photochemical oxidation (high NOx) no LT')\n",
      "11: ('ecoinvent-3.11', 'CML v4.8 2016', 'acidification', 'acidification (incl. fate, average Europe total, A&B)')\n",
      "12: ('ecoinvent-3.11', 'CML v4.8 2016', 'climate change', 'global warming potential (GWP100)')\n",
      "13: ('ecoinvent-3.11', 'CML v4.8 2016', 'ecotoxicity: freshwater', 'freshwater aquatic ecotoxicity (FAETP inf)')\n",
      "14: ('ecoinvent-3.11', 'CML v4.8 2016', 'ecotoxicity: marine', 'marine aquatic ecotoxicity (MAETP inf)')\n",
      "15: ('ecoinvent-3.11', 'CML v4.8 2016', 'ecotoxicity: terrestrial', 'terrestrial ecotoxicity (TETP inf)')\n",
      "16: ('ecoinvent-3.11', 'CML v4.8 2016', 'energy resources: non-renewable', 'abiotic depletion potential (ADP): fossil fuels')\n",
      "17: ('ecoinvent-3.11', 'CML v4.8 2016', 'eutrophication', 'eutrophication (fate not incl.)')\n",
      "18: ('ecoinvent-3.11', 'CML v4.8 2016', 'human toxicity', 'human toxicity (HTP inf)')\n",
      "19: ('ecoinvent-3.11', 'CML v4.8 2016', 'material resources: metals/minerals', 'abiotic depletion potential (ADP): elements (ultimate reserves)')\n",
      "20: ('ecoinvent-3.11', 'CML v4.8 2016', 'ozone depletion', 'ozone layer depletion (ODP steady state)')\n",
      "21: ('ecoinvent-3.11', 'CML v4.8 2016', 'photochemical oxidant formation', 'photochemical oxidation (high NOx)')\n",
      "22: ('ecoinvent-3.11', 'Crustal Scarcity Indicator 2020', 'material resources: metals/minerals', 'crustal scarcity potential (CSP)')\n",
      "23: ('ecoinvent-3.11', 'Cumulative Energy Demand (CED)', 'energy resources: non-renewable', 'energy content (HHV)')\n",
      "24: ('ecoinvent-3.11', 'Cumulative Energy Demand (CED)', 'energy resources: non-renewable, biomass', 'energy content (HHV)')\n",
      "25: ('ecoinvent-3.11', 'Cumulative Energy Demand (CED)', 'energy resources: non-renewable, fossil', 'energy content (HHV)')\n",
      "26: ('ecoinvent-3.11', 'Cumulative Energy Demand (CED)', 'energy resources: non-renewable, nuclear', 'energy content (HHV)')\n",
      "27: ('ecoinvent-3.11', 'Cumulative Energy Demand (CED)', 'energy resources: renewable', 'energy content (HHV)')\n",
      "28: ('ecoinvent-3.11', 'Cumulative Energy Demand (CED)', 'energy resources: renewable, biomass', 'energy content (HHV)')\n",
      "29: ('ecoinvent-3.11', 'Cumulative Energy Demand (CED)', 'energy resources: renewable, geothermal', 'energy content (HHV)')\n",
      "30: ('ecoinvent-3.11', 'Cumulative Energy Demand (CED)', 'energy resources: renewable, geothermal, solar, wind', 'energy content (HHV)')\n",
      "31: ('ecoinvent-3.11', 'Cumulative Energy Demand (CED)', 'energy resources: renewable, solar', 'energy content (HHV)')\n",
      "32: ('ecoinvent-3.11', 'Cumulative Energy Demand (CED)', 'energy resources: renewable, water', 'energy content (HHV)')\n",
      "33: ('ecoinvent-3.11', 'Cumulative Energy Demand (CED)', 'energy resources: renewable, wind', 'energy content (HHV)')\n",
      "34: ('ecoinvent-3.11', 'Cumulative Energy Demand (CED)', 'total', 'energy content (HHV)')\n",
      "35: ('ecoinvent-3.11', 'Cumulative Exergy Demand (CExD)', 'energy resources: non-renewable', 'exergy content')\n",
      "36: ('ecoinvent-3.11', 'Cumulative Exergy Demand (CExD)', 'energy resources: non-renewable, biomass', 'exergy content')\n",
      "37: ('ecoinvent-3.11', 'Cumulative Exergy Demand (CExD)', 'energy resources: non-renewable, fossil', 'exergy content')\n",
      "38: ('ecoinvent-3.11', 'Cumulative Exergy Demand (CExD)', 'energy resources: non-renewable, nuclear', 'exergy content')\n",
      "39: ('ecoinvent-3.11', 'Cumulative Exergy Demand (CExD)', 'energy resources: renewable', 'exergy content')\n",
      "40: ('ecoinvent-3.11', 'Cumulative Exergy Demand (CExD)', 'energy resources: renewable, biomass', 'exergy content')\n",
      "41: ('ecoinvent-3.11', 'Cumulative Exergy Demand (CExD)', 'energy resources: renewable, solar', 'exergy content')\n",
      "42: ('ecoinvent-3.11', 'Cumulative Exergy Demand (CExD)', 'energy resources: renewable, water', 'exergy content')\n",
      "43: ('ecoinvent-3.11', 'Cumulative Exergy Demand (CExD)', 'energy resources: renewable, wind', 'exergy content')\n",
      "44: ('ecoinvent-3.11', 'Cumulative Exergy Demand (CExD)', 'material resources', 'exergy content')\n",
      "45: ('ecoinvent-3.11', 'Cumulative Exergy Demand (CExD)', 'material resources: metals', 'exergy content')\n",
      "46: ('ecoinvent-3.11', 'Cumulative Exergy Demand (CExD)', 'material resources: minerals', 'exergy content')\n",
      "47: ('ecoinvent-3.11', 'Cumulative Exergy Demand (CExD)', 'material resources: water', 'exergy content')\n",
      "48: ('ecoinvent-3.11', 'Cumulative Exergy Demand (CExD)', 'total', 'exergy content')\n",
      "49: ('ecoinvent-3.11', 'Ecological Footprint', 'CO2', 'global hectares')\n",
      "50: ('ecoinvent-3.11', 'Ecological Footprint', 'land occupation', 'global hectares')\n",
      "51: ('ecoinvent-3.11', 'Ecological Footprint', 'nuclear', 'global hectares')\n",
      "52: ('ecoinvent-3.11', 'Ecological Footprint', 'total', 'global hectares')\n",
      "53: ('ecoinvent-3.11', 'Ecological Scarcity 2021 no LT', 'climate change no LT', 'global warming potential (GWP100) no LT')\n",
      "54: ('ecoinvent-3.11', 'Ecological Scarcity 2021 no LT', 'emissions to air no LT', 'air pollutants and PM no LT')\n",
      "55: ('ecoinvent-3.11', 'Ecological Scarcity 2021 no LT', 'emissions to air no LT', 'carcinogenic substances into air no LT')\n",
      "56: ('ecoinvent-3.11', 'Ecological Scarcity 2021 no LT', 'emissions to air no LT', 'heavy metals into air no LT')\n",
      "57: ('ecoinvent-3.11', 'Ecological Scarcity 2021 no LT', 'emissions to air no LT', 'radioactive substances into air no LT')\n",
      "58: ('ecoinvent-3.11', 'Ecological Scarcity 2021 no LT', 'emissions to soil no LT', 'heavy metals into soil no LT')\n",
      "59: ('ecoinvent-3.11', 'Ecological Scarcity 2021 no LT', 'emissions to soil no LT', 'pesticides into soil no LT')\n",
      "60: ('ecoinvent-3.11', 'Ecological Scarcity 2021 no LT', 'emissions to water no LT', 'heavy metals into water no LT')\n",
      "61: ('ecoinvent-3.11', 'Ecological Scarcity 2021 no LT', 'emissions to water no LT', 'POP into water no LT')\n",
      "62: ('ecoinvent-3.11', 'Ecological Scarcity 2021 no LT', 'emissions to water no LT', 'radioactive substances into water no LT')\n",
      "63: ('ecoinvent-3.11', 'Ecological Scarcity 2021 no LT', 'emissions to water no LT', 'water pollutants no LT')\n",
      "64: ('ecoinvent-3.11', 'Ecological Scarcity 2021 no LT', 'energy resources no LT', 'energy resources no LT')\n",
      "65: ('ecoinvent-3.11', 'Ecological Scarcity 2021 no LT', 'land use no LT', 'land use no LT')\n",
      "66: ('ecoinvent-3.11', 'Ecological Scarcity 2021 no LT', 'mineral resources no LT', 'mineral resources no LT')\n",
      "67: ('ecoinvent-3.11', 'Ecological Scarcity 2021 no LT', 'natural resources no LT', 'biotic resources no LT')\n",
      "68: ('ecoinvent-3.11', 'Ecological Scarcity 2021 no LT', 'ozone depletion no LT', 'ozone depletion no LT')\n",
      "69: ('ecoinvent-3.11', 'Ecological Scarcity 2021 no LT', 'total no LT', 'UBP no LT')\n",
      "70: ('ecoinvent-3.11', 'Ecological Scarcity 2021 no LT', 'waste disposal no LT', 'radioactive waste to deposit no LT')\n",
      "71: ('ecoinvent-3.11', 'Ecological Scarcity 2021 no LT', 'waste disposal no LT', 'waste, non radioactive no LT')\n",
      "72: ('ecoinvent-3.11', 'Ecological Scarcity 2021 no LT', 'water use no LT', 'water resources, evaporated no LT')\n",
      "73: ('ecoinvent-3.11', 'Ecological Scarcity 2021', 'climate change', 'global warming potential (GWP100)')\n",
      "74: ('ecoinvent-3.11', 'Ecological Scarcity 2021', 'emissions to air', 'air pollutants and PM')\n",
      "75: ('ecoinvent-3.11', 'Ecological Scarcity 2021', 'emissions to air', 'carcinogenic substances into air')\n",
      "76: ('ecoinvent-3.11', 'Ecological Scarcity 2021', 'emissions to air', 'heavy metals into air')\n",
      "77: ('ecoinvent-3.11', 'Ecological Scarcity 2021', 'emissions to air', 'radioactive substances into air')\n",
      "78: ('ecoinvent-3.11', 'Ecological Scarcity 2021', 'emissions to soil', 'heavy metals into soil')\n",
      "79: ('ecoinvent-3.11', 'Ecological Scarcity 2021', 'emissions to soil', 'pesticides into soil')\n",
      "80: ('ecoinvent-3.11', 'Ecological Scarcity 2021', 'emissions to water', 'heavy metals into water')\n",
      "81: ('ecoinvent-3.11', 'Ecological Scarcity 2021', 'emissions to water', 'POP into water')\n",
      "82: ('ecoinvent-3.11', 'Ecological Scarcity 2021', 'emissions to water', 'radioactive substances into water')\n",
      "83: ('ecoinvent-3.11', 'Ecological Scarcity 2021', 'emissions to water', 'water pollutants')\n",
      "84: ('ecoinvent-3.11', 'Ecological Scarcity 2021', 'energy resources', 'energy resources')\n",
      "85: ('ecoinvent-3.11', 'Ecological Scarcity 2021', 'land use', 'land use')\n",
      "86: ('ecoinvent-3.11', 'Ecological Scarcity 2021', 'mineral resources', 'mineral resources')\n",
      "87: ('ecoinvent-3.11', 'Ecological Scarcity 2021', 'natural resources', 'biotic resources')\n",
      "88: ('ecoinvent-3.11', 'Ecological Scarcity 2021', 'ozone depletion', 'ozone depletion')\n",
      "89: ('ecoinvent-3.11', 'Ecological Scarcity 2021', 'total', 'UBP')\n",
      "90: ('ecoinvent-3.11', 'Ecological Scarcity 2021', 'waste disposal', 'radioactive waste to deposit')\n",
      "91: ('ecoinvent-3.11', 'Ecological Scarcity 2021', 'waste disposal', 'waste, non radioactive')\n",
      "92: ('ecoinvent-3.11', 'Ecological Scarcity 2021', 'water use', 'water resources, evaporated')\n",
      "93: ('ecoinvent-3.11', 'Ecosystem Damage Potential', 'land occupation', 'ecosystem damage potential')\n",
      "94: ('ecoinvent-3.11', 'Ecosystem Damage Potential', 'land transformation', 'ecosystem damage potential')\n",
      "95: ('ecoinvent-3.11', 'Ecosystem Damage Potential', 'total', 'ecosystem damage potential')\n",
      "96: ('ecoinvent-3.11', 'EF v3.0 no LT', 'acidification no LT', 'accumulated exceedance (AE) no LT')\n",
      "97: ('ecoinvent-3.11', 'EF v3.0 no LT', 'climate change no LT', 'global warming potential (GWP100) no LT')\n",
      "98: ('ecoinvent-3.11', 'EF v3.0 no LT', 'climate change: biogenic no LT', 'global warming potential (GWP100) no LT')\n",
      "99: ('ecoinvent-3.11', 'EF v3.0 no LT', 'climate change: fossil no LT', 'global warming potential (GWP100) no LT')\n",
      "100: ('ecoinvent-3.11', 'EF v3.0 no LT', 'climate change: land use and land use change no LT', 'global warming potential (GWP100) no LT')\n",
      "101: ('ecoinvent-3.11', 'EF v3.0 no LT', 'ecotoxicity: freshwater no LT', 'comparative toxic unit for ecosystems (CTUe) no LT')\n",
      "102: ('ecoinvent-3.11', 'EF v3.0 no LT', 'ecotoxicity: freshwater, inorganics no LT', 'comparative toxic unit for ecosystems (CTUe) no LT')\n",
      "103: ('ecoinvent-3.11', 'EF v3.0 no LT', 'ecotoxicity: freshwater, metals no LT', 'comparative toxic unit for ecosystems (CTUe) no LT')\n",
      "104: ('ecoinvent-3.11', 'EF v3.0 no LT', 'ecotoxicity: freshwater, organics no LT', 'comparative toxic unit for ecosystems (CTUe) no LT')\n",
      "105: ('ecoinvent-3.11', 'EF v3.0 no LT', 'energy resources: non-renewable no LT', 'abiotic depletion potential (ADP): fossil fuels no LT')\n",
      "106: ('ecoinvent-3.11', 'EF v3.0 no LT', 'eutrophication: freshwater no LT', 'fraction of nutrients reaching freshwater end compartment (P) no LT')\n",
      "107: ('ecoinvent-3.11', 'EF v3.0 no LT', 'eutrophication: marine no LT', 'fraction of nutrients reaching marine end compartment (N) no LT')\n",
      "108: ('ecoinvent-3.11', 'EF v3.0 no LT', 'eutrophication: terrestrial no LT', 'accumulated exceedance (AE) no LT')\n",
      "109: ('ecoinvent-3.11', 'EF v3.0 no LT', 'human toxicity: carcinogenic no LT', 'comparative toxic unit for human (CTUh) no LT')\n",
      "110: ('ecoinvent-3.11', 'EF v3.0 no LT', 'human toxicity: carcinogenic, inorganics no LT', 'comparative toxic unit for human (CTUh) no LT')\n",
      "111: ('ecoinvent-3.11', 'EF v3.0 no LT', 'human toxicity: carcinogenic, metals no LT', 'comparative toxic unit for human (CTUh) no LT')\n",
      "112: ('ecoinvent-3.11', 'EF v3.0 no LT', 'human toxicity: carcinogenic, organics no LT', 'comparative toxic unit for human (CTUh) no LT')\n",
      "113: ('ecoinvent-3.11', 'EF v3.0 no LT', 'human toxicity: non-carcinogenic no LT', 'comparative toxic unit for human (CTUh) no LT')\n",
      "114: ('ecoinvent-3.11', 'EF v3.0 no LT', 'human toxicity: non-carcinogenic, inorganics no LT', 'comparative toxic unit for human (CTUh) no LT')\n",
      "115: ('ecoinvent-3.11', 'EF v3.0 no LT', 'human toxicity: non-carcinogenic, metals no LT', 'comparative toxic unit for human (CTUh) no LT')\n",
      "116: ('ecoinvent-3.11', 'EF v3.0 no LT', 'human toxicity: non-carcinogenic, organics no LT', 'comparative toxic unit for human (CTUh) no LT')\n",
      "117: ('ecoinvent-3.11', 'EF v3.0 no LT', 'ionising radiation: human health no LT', 'human exposure efficiency relative to u235 no LT')\n",
      "118: ('ecoinvent-3.11', 'EF v3.0 no LT', 'land use no LT', 'soil quality index no LT')\n",
      "119: ('ecoinvent-3.11', 'EF v3.0 no LT', 'material resources: metals/minerals no LT', 'abiotic depletion potential (ADP): elements (ultimate reserves) no LT')\n",
      "120: ('ecoinvent-3.11', 'EF v3.0 no LT', 'ozone depletion no LT', 'ozone depletion potential (ODP) no LT')\n",
      "121: ('ecoinvent-3.11', 'EF v3.0 no LT', 'particulate matter formation no LT', 'impact on human health no LT')\n",
      "122: ('ecoinvent-3.11', 'EF v3.0 no LT', 'photochemical oxidant formation: human health no LT', 'tropospheric ozone concentration increase no LT')\n",
      "123: ('ecoinvent-3.11', 'EF v3.0 no LT', 'water use no LT', 'user deprivation potential (deprivation-weighted water consumption) no LT')\n",
      "124: ('ecoinvent-3.11', 'EF v3.0', 'acidification', 'accumulated exceedance (AE)')\n",
      "125: ('ecoinvent-3.11', 'EF v3.0', 'climate change', 'global warming potential (GWP100)')\n",
      "126: ('ecoinvent-3.11', 'EF v3.0', 'climate change: biogenic', 'global warming potential (GWP100)')\n",
      "127: ('ecoinvent-3.11', 'EF v3.0', 'climate change: fossil', 'global warming potential (GWP100)')\n",
      "128: ('ecoinvent-3.11', 'EF v3.0', 'climate change: land use and land use change', 'global warming potential (GWP100)')\n",
      "129: ('ecoinvent-3.11', 'EF v3.0', 'ecotoxicity: freshwater', 'comparative toxic unit for ecosystems (CTUe)')\n",
      "130: ('ecoinvent-3.11', 'EF v3.0', 'ecotoxicity: freshwater, inorganics', 'comparative toxic unit for ecosystems (CTUe)')\n",
      "131: ('ecoinvent-3.11', 'EF v3.0', 'ecotoxicity: freshwater, metals', 'comparative toxic unit for ecosystems (CTUe)')\n",
      "132: ('ecoinvent-3.11', 'EF v3.0', 'ecotoxicity: freshwater, organics', 'comparative toxic unit for ecosystems (CTUe)')\n",
      "133: ('ecoinvent-3.11', 'EF v3.0', 'energy resources: non-renewable', 'abiotic depletion potential (ADP): fossil fuels')\n",
      "134: ('ecoinvent-3.11', 'EF v3.0', 'eutrophication: freshwater', 'fraction of nutrients reaching freshwater end compartment (P)')\n",
      "135: ('ecoinvent-3.11', 'EF v3.0', 'eutrophication: marine', 'fraction of nutrients reaching marine end compartment (N)')\n",
      "136: ('ecoinvent-3.11', 'EF v3.0', 'eutrophication: terrestrial', 'accumulated exceedance (AE)')\n",
      "137: ('ecoinvent-3.11', 'EF v3.0', 'human toxicity: carcinogenic', 'comparative toxic unit for human (CTUh)')\n",
      "138: ('ecoinvent-3.11', 'EF v3.0', 'human toxicity: carcinogenic, inorganics', 'comparative toxic unit for human (CTUh)')\n",
      "139: ('ecoinvent-3.11', 'EF v3.0', 'human toxicity: carcinogenic, metals', 'comparative toxic unit for human (CTUh)')\n",
      "140: ('ecoinvent-3.11', 'EF v3.0', 'human toxicity: carcinogenic, organics', 'comparative toxic unit for human (CTUh)')\n",
      "141: ('ecoinvent-3.11', 'EF v3.0', 'human toxicity: non-carcinogenic', 'comparative toxic unit for human (CTUh)')\n",
      "142: ('ecoinvent-3.11', 'EF v3.0', 'human toxicity: non-carcinogenic, inorganics', 'comparative toxic unit for human (CTUh)')\n",
      "143: ('ecoinvent-3.11', 'EF v3.0', 'human toxicity: non-carcinogenic, metals', 'comparative toxic unit for human (CTUh)')\n",
      "144: ('ecoinvent-3.11', 'EF v3.0', 'human toxicity: non-carcinogenic, organics', 'comparative toxic unit for human (CTUh)')\n",
      "145: ('ecoinvent-3.11', 'EF v3.0', 'ionising radiation: human health', 'human exposure efficiency relative to u235')\n",
      "146: ('ecoinvent-3.11', 'EF v3.0', 'land use', 'soil quality index')\n",
      "147: ('ecoinvent-3.11', 'EF v3.0', 'material resources: metals/minerals', 'abiotic depletion potential (ADP): elements (ultimate reserves)')\n",
      "148: ('ecoinvent-3.11', 'EF v3.0', 'ozone depletion', 'ozone depletion potential (ODP)')\n",
      "149: ('ecoinvent-3.11', 'EF v3.0', 'particulate matter formation', 'impact on human health')\n",
      "150: ('ecoinvent-3.11', 'EF v3.0', 'photochemical oxidant formation: human health', 'tropospheric ozone concentration increase')\n",
      "151: ('ecoinvent-3.11', 'EF v3.0', 'water use', 'user deprivation potential (deprivation-weighted water consumption)')\n",
      "152: ('ecoinvent-3.11', 'EF v3.1 no LT', 'acidification no LT', 'accumulated exceedance (AE) no LT')\n",
      "153: ('ecoinvent-3.11', 'EF v3.1 no LT', 'climate change no LT', 'global warming potential (GWP100) no LT')\n",
      "154: ('ecoinvent-3.11', 'EF v3.1 no LT', 'climate change: biogenic no LT', 'global warming potential (GWP100) no LT')\n",
      "155: ('ecoinvent-3.11', 'EF v3.1 no LT', 'climate change: fossil no LT', 'global warming potential (GWP100) no LT')\n",
      "156: ('ecoinvent-3.11', 'EF v3.1 no LT', 'climate change: land use and land use change no LT', 'global warming potential (GWP100) no LT')\n",
      "157: ('ecoinvent-3.11', 'EF v3.1 no LT', 'ecotoxicity: freshwater no LT', 'comparative toxic unit for ecosystems (CTUe) no LT')\n",
      "158: ('ecoinvent-3.11', 'EF v3.1 no LT', 'ecotoxicity: freshwater, inorganics no LT', 'comparative toxic unit for ecosystems (CTUe) no LT')\n",
      "159: ('ecoinvent-3.11', 'EF v3.1 no LT', 'ecotoxicity: freshwater, organics no LT', 'comparative toxic unit for ecosystems (CTUe) no LT')\n",
      "160: ('ecoinvent-3.11', 'EF v3.1 no LT', 'energy resources: non-renewable no LT', 'abiotic depletion potential (ADP): fossil fuels no LT')\n",
      "161: ('ecoinvent-3.11', 'EF v3.1 no LT', 'eutrophication: freshwater no LT', 'fraction of nutrients reaching freshwater end compartment (P) no LT')\n",
      "162: ('ecoinvent-3.11', 'EF v3.1 no LT', 'eutrophication: marine no LT', 'fraction of nutrients reaching marine end compartment (N) no LT')\n",
      "163: ('ecoinvent-3.11', 'EF v3.1 no LT', 'eutrophication: terrestrial no LT', 'accumulated exceedance (AE) no LT')\n",
      "164: ('ecoinvent-3.11', 'EF v3.1 no LT', 'human toxicity: carcinogenic no LT', 'comparative toxic unit for human (CTUh) no LT')\n",
      "165: ('ecoinvent-3.11', 'EF v3.1 no LT', 'human toxicity: carcinogenic, inorganics no LT', 'comparative toxic unit for human (CTUh) no LT')\n",
      "166: ('ecoinvent-3.11', 'EF v3.1 no LT', 'human toxicity: carcinogenic, organics no LT', 'comparative toxic unit for human (CTUh) no LT')\n",
      "167: ('ecoinvent-3.11', 'EF v3.1 no LT', 'human toxicity: non-carcinogenic no LT', 'comparative toxic unit for human (CTUh) no LT')\n",
      "168: ('ecoinvent-3.11', 'EF v3.1 no LT', 'human toxicity: non-carcinogenic, inorganics no LT', 'comparative toxic unit for human (CTUh) no LT')\n",
      "169: ('ecoinvent-3.11', 'EF v3.1 no LT', 'human toxicity: non-carcinogenic, organics no LT', 'comparative toxic unit for human (CTUh) no LT')\n",
      "170: ('ecoinvent-3.11', 'EF v3.1 no LT', 'ionising radiation: human health no LT', 'human exposure efficiency relative to u235 no LT')\n",
      "171: ('ecoinvent-3.11', 'EF v3.1 no LT', 'land use no LT', 'soil quality index no LT')\n",
      "172: ('ecoinvent-3.11', 'EF v3.1 no LT', 'material resources: metals/minerals no LT', 'abiotic depletion potential (ADP): elements (ultimate reserves) no LT')\n",
      "173: ('ecoinvent-3.11', 'EF v3.1 no LT', 'ozone depletion no LT', 'ozone depletion potential (ODP) no LT')\n",
      "174: ('ecoinvent-3.11', 'EF v3.1 no LT', 'particulate matter formation no LT', 'impact on human health no LT')\n",
      "175: ('ecoinvent-3.11', 'EF v3.1 no LT', 'photochemical oxidant formation: human health no LT', 'tropospheric ozone concentration increase no LT')\n",
      "176: ('ecoinvent-3.11', 'EF v3.1 no LT', 'water use no LT', 'user deprivation potential (deprivation-weighted water consumption) no LT')\n",
      "177: ('ecoinvent-3.11', 'EF v3.1', 'acidification', 'accumulated exceedance (AE)')\n",
      "178: ('ecoinvent-3.11', 'EF v3.1', 'climate change', 'global warming potential (GWP100)')\n",
      "179: ('ecoinvent-3.11', 'EF v3.1', 'climate change: biogenic', 'global warming potential (GWP100)')\n",
      "180: ('ecoinvent-3.11', 'EF v3.1', 'climate change: fossil', 'global warming potential (GWP100)')\n",
      "181: ('ecoinvent-3.11', 'EF v3.1', 'climate change: land use and land use change', 'global warming potential (GWP100)')\n",
      "182: ('ecoinvent-3.11', 'EF v3.1', 'ecotoxicity: freshwater', 'comparative toxic unit for ecosystems (CTUe)')\n",
      "183: ('ecoinvent-3.11', 'EF v3.1', 'ecotoxicity: freshwater, inorganics', 'comparative toxic unit for ecosystems (CTUe)')\n",
      "184: ('ecoinvent-3.11', 'EF v3.1', 'ecotoxicity: freshwater, organics', 'comparative toxic unit for ecosystems (CTUe)')\n",
      "185: ('ecoinvent-3.11', 'EF v3.1', 'energy resources: non-renewable', 'abiotic depletion potential (ADP): fossil fuels')\n",
      "186: ('ecoinvent-3.11', 'EF v3.1', 'eutrophication: freshwater', 'fraction of nutrients reaching freshwater end compartment (P)')\n",
      "187: ('ecoinvent-3.11', 'EF v3.1', 'eutrophication: marine', 'fraction of nutrients reaching marine end compartment (N)')\n",
      "188: ('ecoinvent-3.11', 'EF v3.1', 'eutrophication: terrestrial', 'accumulated exceedance (AE)')\n",
      "189: ('ecoinvent-3.11', 'EF v3.1', 'human toxicity: carcinogenic', 'comparative toxic unit for human (CTUh)')\n",
      "190: ('ecoinvent-3.11', 'EF v3.1', 'human toxicity: carcinogenic, inorganics', 'comparative toxic unit for human (CTUh)')\n",
      "191: ('ecoinvent-3.11', 'EF v3.1', 'human toxicity: carcinogenic, organics', 'comparative toxic unit for human (CTUh)')\n",
      "192: ('ecoinvent-3.11', 'EF v3.1', 'human toxicity: non-carcinogenic', 'comparative toxic unit for human (CTUh)')\n",
      "193: ('ecoinvent-3.11', 'EF v3.1', 'human toxicity: non-carcinogenic, inorganics', 'comparative toxic unit for human (CTUh)')\n",
      "194: ('ecoinvent-3.11', 'EF v3.1', 'human toxicity: non-carcinogenic, organics', 'comparative toxic unit for human (CTUh)')\n",
      "195: ('ecoinvent-3.11', 'EF v3.1', 'ionising radiation: human health', 'human exposure efficiency relative to u235')\n",
      "196: ('ecoinvent-3.11', 'EF v3.1', 'land use', 'soil quality index')\n",
      "197: ('ecoinvent-3.11', 'EF v3.1', 'material resources: metals/minerals', 'abiotic depletion potential (ADP): elements (ultimate reserves)')\n",
      "198: ('ecoinvent-3.11', 'EF v3.1', 'ozone depletion', 'ozone depletion potential (ODP)')\n",
      "199: ('ecoinvent-3.11', 'EF v3.1', 'particulate matter formation', 'impact on human health')\n",
      "200: ('ecoinvent-3.11', 'EF v3.1', 'photochemical oxidant formation: human health', 'tropospheric ozone concentration increase')\n",
      "201: ('ecoinvent-3.11', 'EF v3.1', 'water use', 'user deprivation potential (deprivation-weighted water consumption)')\n",
      "202: ('ecoinvent-3.11', 'EN15804+A2 - Additional impact categories and indicators', 'particulate matter formation', 'impact on human health')\n",
      "203: ('ecoinvent-3.11', 'EN15804+A2 - Additional impact categories and indicators', 'ionising radiation: human health', 'human exposure efficiency relative to u235')\n",
      "204: ('ecoinvent-3.11', 'EN15804+A2 - Additional impact categories and indicators', 'ecotoxicity: freshwater (EF v3.0)', 'comparative toxic unit for ecosystems (CTUe)')\n",
      "205: ('ecoinvent-3.11', 'EN15804+A2 - Additional impact categories and indicators', 'human toxicity: carcinogenic', 'comparative toxic unit for human (CTUh)')\n",
      "206: ('ecoinvent-3.11', 'EN15804+A2 - Additional impact categories and indicators', 'human toxicity: non-carcinogenic (EF v3.0)', 'comparative toxic unit for human (CTUh)')\n",
      "207: ('ecoinvent-3.11', 'EN15804+A2 - Additional impact categories and indicators', 'land use', 'soil quality index')\n",
      "208: ('ecoinvent-3.11', 'EN15804+A2 - Additional impact categories and indicators', 'ecotoxicity: freshwater (EF v3.1)', 'comparative toxic unit for ecosystems (CTUe)')\n",
      "209: ('ecoinvent-3.11', 'EN15804+A2 - Additional impact categories and indicators', 'human toxicity: non-carcinogenic (EF v3.1)', 'comparative toxic unit for human (CTUh)')\n",
      "210: ('ecoinvent-3.11', 'EN15804+A2 - Core impact categories and indicators', 'climate change: total (EF v3.0 - IPCC 2013)', 'global warming potential (GWP100)')\n",
      "211: ('ecoinvent-3.11', 'EN15804+A2 - Core impact categories and indicators', 'climate change: fossil (EF v3.0 - IPCC 2013)', 'global warming potential (GWP100)')\n",
      "212: ('ecoinvent-3.11', 'EN15804+A2 - Core impact categories and indicators', 'climate change: biogenic (EF v3.0 - IPCC 2013)', 'global warming potential (GWP100)')\n",
      "213: ('ecoinvent-3.11', 'EN15804+A2 - Core impact categories and indicators', 'climate change: land use and land use change (EF v3.0 - IPCC 2013)', 'global warming potential (GWP100)')\n",
      "214: ('ecoinvent-3.11', 'EN15804+A2 - Core impact categories and indicators', 'ozone depletion', 'ozone depletion potential (ODP)')\n",
      "215: ('ecoinvent-3.11', 'EN15804+A2 - Core impact categories and indicators', 'acidification', 'accumulated exceedance (AE)')\n",
      "216: ('ecoinvent-3.11', 'EN15804+A2 - Core impact categories and indicators', 'eutrophication: freshwater', 'fraction of nutrients reaching freshwater end compartment (P)')\n",
      "217: ('ecoinvent-3.11', 'EN15804+A2 - Core impact categories and indicators', 'eutrophication: marine', 'fraction of nutrients reaching marine end compartment (N)')\n",
      "218: ('ecoinvent-3.11', 'EN15804+A2 - Core impact categories and indicators', 'eutrophication: terrestrial', 'accumulated exceedance (AE)')\n",
      "219: ('ecoinvent-3.11', 'EN15804+A2 - Core impact categories and indicators', 'photochemical oxidant formation: human health', 'tropospheric ozone concentration increase')\n",
      "220: ('ecoinvent-3.11', 'EN15804+A2 - Core impact categories and indicators', 'material resources: metals/minerals', 'abiotic depletion potential (ADP): elements (ultimate reserves)')\n",
      "221: ('ecoinvent-3.11', 'EN15804+A2 - Core impact categories and indicators', 'energy resources: non-renewable', 'abiotic depletion potential (ADP): fossil fuels')\n",
      "222: ('ecoinvent-3.11', 'EN15804+A2 - Core impact categories and indicators', 'water use', 'user deprivation potential (deprivation-weighted water consumption)')\n",
      "223: ('ecoinvent-3.11', 'EN15804+A2 - Core impact categories and indicators', 'climate change: total (EF v3.1 - IPCC 2021)', 'global warming potential (GWP100)')\n",
      "224: ('ecoinvent-3.11', 'EN15804+A2 - Core impact categories and indicators', 'climate change: fossil (EF v3.1 - IPCC 2021)', 'global warming potential (GWP100)')\n",
      "225: ('ecoinvent-3.11', 'EN15804+A2 - Core impact categories and indicators', 'climate change: biogenic (EF v3.1 - IPCC 2021)', 'global warming potential (GWP100)')\n",
      "226: ('ecoinvent-3.11', 'EN15804+A2 - Core impact categories and indicators', 'climate change: land use and land use change (EF v3.1 - IPCC 2021)', 'global warming potential (GWP100)')\n",
      "227: ('ecoinvent-3.11', 'EN15804+A2 - Indicators describing output flows', 'exported energy - electricity', 'EEE')\n",
      "228: ('ecoinvent-3.11', 'EN15804+A2 - Indicators describing output flows', 'exported energy - heat', 'EET')\n",
      "229: ('ecoinvent-3.11', 'EN15804+A2 - Indicators describing output flows', 'materials for energy recovery', 'MER')\n",
      "230: ('ecoinvent-3.11', 'EN15804+A2 - Indicators describing output flows', 'materials for recycling', 'MFR')\n",
      "231: ('ecoinvent-3.11', 'EN15804+A2 - Indicators describing output flows', 'exported energy', 'EE')\n",
      "232: ('ecoinvent-3.11', 'EN15804+A2 - Indicators describing output flows', 'components for re-use', 'CRU')\n",
      "233: ('ecoinvent-3.11', 'EN15804+A2 - Indicators describing resource use', 'net use of fresh water', 'FW')\n",
      "234: ('ecoinvent-3.11', 'EN15804+A2 - Indicators describing resource use', 'use of renewable secondary fuels', 'RSF')\n",
      "235: ('ecoinvent-3.11', 'EN15804+A2 - Indicators describing resource use', 'use of non-renewable secondary fuels', 'NRSF')\n",
      "236: ('ecoinvent-3.11', 'EN15804+A2 - Indicators describing resource use', 'use of secondary material', 'SM')\n",
      "237: ('ecoinvent-3.11', 'EN15804+A2 - Indicators describing resource use', 'total use of renewable primary energy resources (primary energy and primary energy resources used as raw materials)', 'PERT')\n",
      "238: ('ecoinvent-3.11', 'EN15804+A2 - Indicators describing resource use', 'total use of non-renewable primary energy resources (primary energy and primary energy resources used as raw materials)', 'PENRT')\n",
      "239: ('ecoinvent-3.11', 'EN15804+A2 - Indicators describing waste categories', 'hazardous waste disposed', 'HWD')\n",
      "240: ('ecoinvent-3.11', 'EN15804+A2 - Indicators describing waste categories', 'high-level radioactive waste disposed', 'HLRW')\n",
      "241: ('ecoinvent-3.11', 'EN15804+A2 - Indicators describing waste categories', 'intermediate and low-level radioactive waste disposed', 'ILLRW')\n",
      "242: ('ecoinvent-3.11', 'EN15804+A2 - Indicators describing waste categories', 'non-hazardous waste disposed', 'NHWD')\n",
      "243: ('ecoinvent-3.11', 'EPS 2020d no LT', 'emissions to air no LT', 'monetary impact value no LT')\n",
      "244: ('ecoinvent-3.11', 'EPS 2020d no LT', 'emissions to soil no LT', 'monetary impact value no LT')\n",
      "245: ('ecoinvent-3.11', 'EPS 2020d no LT', 'emissions to water no LT', 'monetary impact value no LT')\n",
      "246: ('ecoinvent-3.11', 'EPS 2020d no LT', 'energy resources: non-renewable, fossil no LT', 'monetary impact value no LT')\n",
      "247: ('ecoinvent-3.11', 'EPS 2020d no LT', 'land use no LT', 'monetary impact value no LT')\n",
      "248: ('ecoinvent-3.11', 'EPS 2020d no LT', 'material resources: metals no LT', 'monetary impact value no LT')\n",
      "249: ('ecoinvent-3.11', 'EPS 2020d no LT', 'total no LT', 'monetary impact value no LT')\n",
      "250: ('ecoinvent-3.11', 'EPS 2020d', 'emissions to air', 'monetary impact value')\n",
      "251: ('ecoinvent-3.11', 'EPS 2020d', 'emissions to soil', 'monetary impact value')\n",
      "252: ('ecoinvent-3.11', 'EPS 2020d', 'emissions to water', 'monetary impact value')\n",
      "253: ('ecoinvent-3.11', 'EPS 2020d', 'energy resources: non-renewable, fossil', 'monetary impact value')\n",
      "254: ('ecoinvent-3.11', 'EPS 2020d', 'land use', 'monetary impact value')\n",
      "255: ('ecoinvent-3.11', 'EPS 2020d', 'material resources: metals', 'monetary impact value')\n",
      "256: ('ecoinvent-3.11', 'EPS 2020d', 'total', 'monetary impact value')\n",
      "257: ('ecoinvent-3.11', 'IMPACT World+ v2.1, footprint version', 'climate change', 'carbon footprint')\n",
      "258: ('ecoinvent-3.11', 'IMPACT World+ v2.1, footprint version', 'ecosystem quality', 'remaining ecosystem quality damage')\n",
      "259: ('ecoinvent-3.11', 'IMPACT World+ v2.1, footprint version', 'energy resources: non-renewable', 'fossil and nuclear energy use')\n",
      "260: ('ecoinvent-3.11', 'IMPACT World+ v2.1, footprint version', 'human health', 'remaining human health damage')\n",
      "261: ('ecoinvent-3.11', 'IMPACT World+ v2.1, footprint version', 'water use', 'water scarcity footprint')\n",
      "262: ('ecoinvent-3.11', 'Inventory results and indicators', 'emissions to air', 'total particulate matter')\n",
      "263: ('ecoinvent-3.11', 'Inventory results and indicators', 'emissions to air', 'particulate matter, < 2.5 um')\n",
      "264: ('ecoinvent-3.11', 'Inventory results and indicators', 'emissions to air', 'particulate matter, >2.5 um and <10')\n",
      "265: ('ecoinvent-3.11', 'Inventory results and indicators', 'emissions to air', 'particulate matter >10 um')\n",
      "266: ('ecoinvent-3.11', 'Inventory results and indicators', 'emissions to air', 'carbon dioxide, fossil and land use')\n",
      "267: ('ecoinvent-3.11', 'Inventory results and indicators', 'emissions to air', 'total carbon monoxide')\n",
      "268: ('ecoinvent-3.11', 'Inventory results and indicators', 'emissions to air', 'total methane')\n",
      "269: ('ecoinvent-3.11', 'Inventory results and indicators', 'emissions to air', 'carbon, non-fossil, fixed')\n",
      "270: ('ecoinvent-3.11', 'Inventory results and indicators', 'emissions to air', 'NMVOCs')\n",
      "271: ('ecoinvent-3.11', 'Inventory results and indicators', 'emissions to air', 'N2O')\n",
      "272: ('ecoinvent-3.11', 'Inventory results and indicators', 'emissions to air', 'NOx')\n",
      "273: ('ecoinvent-3.11', 'Inventory results and indicators', 'emissions to air', 'SOx')\n",
      "274: ('ecoinvent-3.11', 'Inventory results and indicators', 'emissions to air', 'ammonia')\n",
      "275: ('ecoinvent-3.11', 'Inventory results and indicators', 'emissions to air', 'lead')\n",
      "276: ('ecoinvent-3.11', 'Inventory results and indicators', 'emissions to air', 'photochemical oxidants (including ozone)')\n",
      "277: ('ecoinvent-3.11', 'Inventory results and indicators', 'emissions to air', 'HAPs')\n",
      "278: ('ecoinvent-3.11', 'Inventory results and indicators', 'emissions to air', 'total radioactive emissions')\n",
      "279: ('ecoinvent-3.11', 'Inventory results and indicators', 'emissions to water', 'total radioactive emissions')\n",
      "280: ('ecoinvent-3.11', 'Inventory results and indicators', 'resources', 'total surface occupation')\n",
      "281: ('ecoinvent-3.11', 'Inventory results and indicators', 'resources', 'land occupation')\n",
      "282: ('ecoinvent-3.11', 'Inventory results and indicators', 'resources', 'land occupation by flooding')\n",
      "283: ('ecoinvent-3.11', 'Inventory results and indicators', 'resources', 'seabed occupation')\n",
      "284: ('ecoinvent-3.11', 'Inventory results and indicators', 'resources', 'total water extraction')\n",
      "285: ('ecoinvent-3.11', 'Inventory results and indicators', 'resources', 'total freshwater extraction')\n",
      "286: ('ecoinvent-3.11', 'Inventory results and indicators', 'resources', 'freshwater extraction, surface water')\n",
      "287: ('ecoinvent-3.11', 'Inventory results and indicators', 'resources', 'freshwater extraction, groundwater')\n",
      "288: ('ecoinvent-3.11', 'Inventory results and indicators', 'resources', 'water extraction, saltwater')\n",
      "289: ('ecoinvent-3.11', 'Inventory results and indicators', 'resources', 'water extraction, undefined')\n",
      "290: ('ecoinvent-3.11', 'Inventory results and indicators', 'waste disposal', 'total area for dump sites')\n",
      "291: ('ecoinvent-3.11', 'Inventory results and indicators', 'waste disposal', 'total volume of underground deposits')\n",
      "292: ('ecoinvent-3.11', 'Inventory results and indicators', 'waste disposal', 'total volume of radioactive waste')\n",
      "293: ('ecoinvent-3.11', 'Inventory results and indicators', 'waste disposal', 'total mass of waste')\n",
      "294: ('ecoinvent-3.11', 'Inventory results and indicators', 'waste disposal', 'total mass for dump sites')\n",
      "295: ('ecoinvent-3.11', 'Inventory results and indicators', 'waste disposal', 'total mass for underground deposits')\n",
      "296: ('ecoinvent-3.11', 'Inventory results and indicators', 'waste disposal', 'total mass of radioactive waste')\n",
      "297: ('ecoinvent-3.11', 'IPCC 2013 no LT', 'climate change no LT', 'global temperature change potential (GTP100) no LT')\n",
      "298: ('ecoinvent-3.11', 'IPCC 2013 no LT', 'climate change no LT', 'global temperature change potential (GTP20) no LT')\n",
      "299: ('ecoinvent-3.11', 'IPCC 2013 no LT', 'climate change no LT', 'global warming potential (GWP100) no LT')\n",
      "300: ('ecoinvent-3.11', 'IPCC 2013 no LT', 'climate change no LT', 'global warming potential (GWP20) no LT')\n",
      "301: ('ecoinvent-3.11', 'IPCC 2013', 'climate change', 'global temperature change potential (GTP100)')\n",
      "302: ('ecoinvent-3.11', 'IPCC 2013', 'climate change', 'global temperature change potential (GTP20)')\n",
      "303: ('ecoinvent-3.11', 'IPCC 2013', 'climate change', 'global warming potential (GWP100)')\n",
      "304: ('ecoinvent-3.11', 'IPCC 2013', 'climate change', 'global warming potential (GWP20)')\n",
      "305: ('ecoinvent-3.11', 'IPCC 2021 (incl. biogenic CO2) no LT', 'climate change: biogenic (incl. CO2) no LT', 'global warming potential (GWP100) no LT')\n",
      "306: ('ecoinvent-3.11', 'IPCC 2021 (incl. biogenic CO2) no LT', 'climate change: biogenic emissions (incl. CO2) no LT', 'global warming potential (GWP100) no LT')\n",
      "307: ('ecoinvent-3.11', 'IPCC 2021 (incl. biogenic CO2) no LT', 'climate change: biogenic removals (incl. CO2) no LT', 'global warming potential (GWP100) no LT')\n",
      "308: ('ecoinvent-3.11', 'IPCC 2021 (incl. biogenic CO2) no LT', 'climate change: total (incl. biogenic CO2) no LT', 'global warming potential (GWP100) no LT')\n",
      "309: ('ecoinvent-3.11', 'IPCC 2021 (incl. biogenic CO2) no LT', 'climate change: total (incl. biogenic CO2, incl. SLCFs) no LT', 'global warming potential (GWP100) no LT')\n",
      "310: ('ecoinvent-3.11', 'IPCC 2021 (incl. biogenic CO2)', 'climate change: biogenic (incl. CO2)', 'global warming potential (GWP100)')\n",
      "311: ('ecoinvent-3.11', 'IPCC 2021 (incl. biogenic CO2)', 'climate change: biogenic emissions (incl. CO2)', 'global warming potential (GWP100)')\n",
      "312: ('ecoinvent-3.11', 'IPCC 2021 (incl. biogenic CO2)', 'climate change: biogenic removals (incl. CO2)', 'global warming potential (GWP100)')\n",
      "313: ('ecoinvent-3.11', 'IPCC 2021 (incl. biogenic CO2)', 'climate change: total (incl. biogenic CO2)', 'global warming potential (GWP100)')\n",
      "314: ('ecoinvent-3.11', 'IPCC 2021 (incl. biogenic CO2)', 'climate change: total (incl. biogenic CO2, incl. SLCFs)', 'global warming potential (GWP100)')\n",
      "315: ('ecoinvent-3.11', 'IPCC 2021 no LT', 'climate change: aircraft emissions no LT', 'global warming potential (GWP100) no LT')\n",
      "316: ('ecoinvent-3.11', 'IPCC 2021 no LT', 'climate change: biogenic (excl. CO2) no LT', 'global warming potential (GWP100) no LT')\n",
      "317: ('ecoinvent-3.11', 'IPCC 2021 no LT', 'climate change: direct land use change no LT', 'global warming potential (GWP100) no LT')\n",
      "318: ('ecoinvent-3.11', 'IPCC 2021 no LT', 'climate change: emissions from direct land use change no LT', 'global warming potential (GWP100) no LT')\n",
      "319: ('ecoinvent-3.11', 'IPCC 2021 no LT', 'climate change: fossil no LT', 'global warming potential (GWP100) no LT')\n",
      "320: ('ecoinvent-3.11', 'IPCC 2021 no LT', 'climate change: fossil emissions (excl. aircraft emissions) no LT', 'global warming potential (GWP100) no LT')\n",
      "321: ('ecoinvent-3.11', 'IPCC 2021 no LT', 'climate change: removals from direct land use change no LT', 'global warming potential (GWP100) no LT')\n",
      "322: ('ecoinvent-3.11', 'IPCC 2021 no LT', 'climate change: total (excl. biogenic CO2) no LT', 'global warming potential (GWP500) no LT')\n",
      "323: ('ecoinvent-3.11', 'IPCC 2021 no LT', 'climate change: total (excl. biogenic CO2) no LT', 'global warming potential (GWP20) no LT')\n",
      "324: ('ecoinvent-3.11', 'IPCC 2021 no LT', 'climate change: total (excl. biogenic CO2) no LT', 'global warming potential (GWP100) no LT')\n",
      "325: ('ecoinvent-3.11', 'IPCC 2021 no LT', 'climate change: total (excl. biogenic CO2) no LT', 'global temperature change potential (GTP50) no LT')\n",
      "326: ('ecoinvent-3.11', 'IPCC 2021 no LT', 'climate change: total (excl. biogenic CO2) no LT', 'global temperature change potential (GTP100) no LT')\n",
      "327: ('ecoinvent-3.11', 'IPCC 2021 no LT', 'climate change: total (excl. biogenic CO2, incl. SLCFs) no LT', 'global warming potential (GWP100) no LT')\n",
      "328: ('ecoinvent-3.11', 'IPCC 2021 no LT', 'climate change: biogenic (excl. CO2, incl. SLCFs) no LT', 'global warming potential (GWP100) no LT')\n",
      "329: ('ecoinvent-3.11', 'IPCC 2021 no LT', 'climate change: fossil (excl. biogenic CO2, incl. SLCFs) no LT', 'global warming potential (GWP100) no LT')\n",
      "330: ('ecoinvent-3.11', 'IPCC 2021 no LT', 'climate change: direct land use change (incl. SLCFs) no LT', 'global warming potential (GWP100) no LT')\n",
      "331: ('ecoinvent-3.11', 'IPCC 2021', 'climate change: aircraft emissions', 'global warming potential (GWP100)')\n",
      "332: ('ecoinvent-3.11', 'IPCC 2021', 'climate change: biogenic (excl. CO2)', 'global warming potential (GWP100)')\n",
      "333: ('ecoinvent-3.11', 'IPCC 2021', 'climate change: direct land use change', 'global warming potential (GWP100)')\n",
      "334: ('ecoinvent-3.11', 'IPCC 2021', 'climate change: emissions from direct land use change', 'global warming potential (GWP100)')\n",
      "335: ('ecoinvent-3.11', 'IPCC 2021', 'climate change: fossil', 'global warming potential (GWP100)')\n",
      "336: ('ecoinvent-3.11', 'IPCC 2021', 'climate change: fossil emissions (excl. aircraft emissions)', 'global warming potential (GWP100)')\n",
      "337: ('ecoinvent-3.11', 'IPCC 2021', 'climate change: removals from direct land use change', 'global warming potential (GWP100)')\n",
      "338: ('ecoinvent-3.11', 'IPCC 2021', 'climate change: total (excl. biogenic CO2)', 'global warming potential (GWP500)')\n",
      "339: ('ecoinvent-3.11', 'IPCC 2021', 'climate change: total (excl. biogenic CO2)', 'global warming potential (GWP20)')\n",
      "340: ('ecoinvent-3.11', 'IPCC 2021', 'climate change: total (excl. biogenic CO2)', 'global warming potential (GWP100)')\n",
      "341: ('ecoinvent-3.11', 'IPCC 2021', 'climate change: total (excl. biogenic CO2)', 'global temperature change potential (GTP50)')\n",
      "342: ('ecoinvent-3.11', 'IPCC 2021', 'climate change: total (excl. biogenic CO2)', 'global temperature change potential (GTP100)')\n",
      "343: ('ecoinvent-3.11', 'IPCC 2021', 'climate change: total (excl. biogenic CO2, incl. SLCFs)', 'global warming potential (GWP100)')\n",
      "344: ('ecoinvent-3.11', 'IPCC 2021', 'climate change: biogenic (excl. CO2, incl. SLCFs)', 'global warming potential (GWP100)')\n",
      "345: ('ecoinvent-3.11', 'IPCC 2021', 'climate change: fossil (excl. biogenic CO2, incl. SLCFs)', 'global warming potential (GWP100)')\n",
      "346: ('ecoinvent-3.11', 'IPCC 2021', 'climate change: direct land use change (incl. SLCFs)', 'global warming potential (GWP100)')\n",
      "347: ('ecoinvent-3.11', 'ReCiPe 2016 v1.03, endpoint (E) no LT', 'ecosystem quality no LT', 'acidification: terrestrial no LT')\n",
      "348: ('ecoinvent-3.11', 'ReCiPe 2016 v1.03, endpoint (E) no LT', 'ecosystem quality no LT', 'climate change: freshwater ecosystems no LT')\n",
      "349: ('ecoinvent-3.11', 'ReCiPe 2016 v1.03, endpoint (E) no LT', 'ecosystem quality no LT', 'climate change: terrestrial ecosystems no LT')\n",
      "350: ('ecoinvent-3.11', 'ReCiPe 2016 v1.03, endpoint (E) no LT', 'ecosystem quality no LT', 'ecotoxicity: freshwater no LT')\n",
      "351: ('ecoinvent-3.11', 'ReCiPe 2016 v1.03, endpoint (E) no LT', 'ecosystem quality no LT', 'ecotoxicity: marine no LT')\n",
      "352: ('ecoinvent-3.11', 'ReCiPe 2016 v1.03, endpoint (E) no LT', 'ecosystem quality no LT', 'ecotoxicity: terrestrial no LT')\n",
      "353: ('ecoinvent-3.11', 'ReCiPe 2016 v1.03, endpoint (E) no LT', 'ecosystem quality no LT', 'eutrophication: freshwater no LT')\n",
      "354: ('ecoinvent-3.11', 'ReCiPe 2016 v1.03, endpoint (E) no LT', 'ecosystem quality no LT', 'eutrophication: marine no LT')\n",
      "355: ('ecoinvent-3.11', 'ReCiPe 2016 v1.03, endpoint (E) no LT', 'ecosystem quality no LT', 'land use no LT')\n",
      "356: ('ecoinvent-3.11', 'ReCiPe 2016 v1.03, endpoint (E) no LT', 'ecosystem quality no LT', 'photochemical oxidant formation: terrestrial ecosystems no LT')\n",
      "357: ('ecoinvent-3.11', 'ReCiPe 2016 v1.03, endpoint (E) no LT', 'ecosystem quality no LT', 'water use: aquatic ecosystems no LT')\n",
      "358: ('ecoinvent-3.11', 'ReCiPe 2016 v1.03, endpoint (E) no LT', 'ecosystem quality no LT', 'water use: terrestrial ecosystems no LT')\n",
      "359: ('ecoinvent-3.11', 'ReCiPe 2016 v1.03, endpoint (E) no LT', 'human health no LT', 'climate change: human health no LT')\n",
      "360: ('ecoinvent-3.11', 'ReCiPe 2016 v1.03, endpoint (E) no LT', 'human health no LT', 'human toxicity: carcinogenic no LT')\n",
      "361: ('ecoinvent-3.11', 'ReCiPe 2016 v1.03, endpoint (E) no LT', 'human health no LT', 'human toxicity: non-carcinogenic no LT')\n",
      "362: ('ecoinvent-3.11', 'ReCiPe 2016 v1.03, endpoint (E) no LT', 'human health no LT', 'ionising radiation no LT')\n",
      "363: ('ecoinvent-3.11', 'ReCiPe 2016 v1.03, endpoint (E) no LT', 'human health no LT', 'ozone depletion no LT')\n",
      "364: ('ecoinvent-3.11', 'ReCiPe 2016 v1.03, endpoint (E) no LT', 'human health no LT', 'particulate matter formation no LT')\n",
      "365: ('ecoinvent-3.11', 'ReCiPe 2016 v1.03, endpoint (E) no LT', 'human health no LT', 'photochemical oxidant formation: human health no LT')\n",
      "366: ('ecoinvent-3.11', 'ReCiPe 2016 v1.03, endpoint (E) no LT', 'human health no LT', 'water use: human health no LT')\n",
      "367: ('ecoinvent-3.11', 'ReCiPe 2016 v1.03, endpoint (E) no LT', 'natural resources no LT', 'energy resources: non-renewable, fossil no LT')\n",
      "368: ('ecoinvent-3.11', 'ReCiPe 2016 v1.03, endpoint (E) no LT', 'natural resources no LT', 'material resources: metals/minerals no LT')\n",
      "369: ('ecoinvent-3.11', 'ReCiPe 2016 v1.03, endpoint (E) no LT', 'total: ecosystem quality no LT', 'ecosystem quality no LT')\n",
      "370: ('ecoinvent-3.11', 'ReCiPe 2016 v1.03, endpoint (E) no LT', 'total: human health no LT', 'human health no LT')\n",
      "371: ('ecoinvent-3.11', 'ReCiPe 2016 v1.03, endpoint (E) no LT', 'total: natural resources no LT', 'natural resources no LT')\n",
      "372: ('ecoinvent-3.11', 'ReCiPe 2016 v1.03, endpoint (E)', 'ecosystem quality', 'acidification: terrestrial')\n",
      "373: ('ecoinvent-3.11', 'ReCiPe 2016 v1.03, endpoint (E)', 'ecosystem quality', 'climate change: freshwater ecosystems')\n",
      "374: ('ecoinvent-3.11', 'ReCiPe 2016 v1.03, endpoint (E)', 'ecosystem quality', 'climate change: terrestrial ecosystems')\n",
      "375: ('ecoinvent-3.11', 'ReCiPe 2016 v1.03, endpoint (E)', 'ecosystem quality', 'ecotoxicity: freshwater')\n",
      "376: ('ecoinvent-3.11', 'ReCiPe 2016 v1.03, endpoint (E)', 'ecosystem quality', 'ecotoxicity: marine')\n",
      "377: ('ecoinvent-3.11', 'ReCiPe 2016 v1.03, endpoint (E)', 'ecosystem quality', 'ecotoxicity: terrestrial')\n",
      "378: ('ecoinvent-3.11', 'ReCiPe 2016 v1.03, endpoint (E)', 'ecosystem quality', 'eutrophication: freshwater')\n",
      "379: ('ecoinvent-3.11', 'ReCiPe 2016 v1.03, endpoint (E)', 'ecosystem quality', 'eutrophication: marine')\n",
      "380: ('ecoinvent-3.11', 'ReCiPe 2016 v1.03, endpoint (E)', 'ecosystem quality', 'land use')\n",
      "381: ('ecoinvent-3.11', 'ReCiPe 2016 v1.03, endpoint (E)', 'ecosystem quality', 'photochemical oxidant formation: terrestrial ecosystems')\n",
      "382: ('ecoinvent-3.11', 'ReCiPe 2016 v1.03, endpoint (E)', 'ecosystem quality', 'water use: aquatic ecosystems')\n",
      "383: ('ecoinvent-3.11', 'ReCiPe 2016 v1.03, endpoint (E)', 'ecosystem quality', 'water use: terrestrial ecosystems')\n",
      "384: ('ecoinvent-3.11', 'ReCiPe 2016 v1.03, endpoint (E)', 'human health', 'climate change: human health')\n",
      "385: ('ecoinvent-3.11', 'ReCiPe 2016 v1.03, endpoint (E)', 'human health', 'human toxicity: carcinogenic')\n",
      "386: ('ecoinvent-3.11', 'ReCiPe 2016 v1.03, endpoint (E)', 'human health', 'human toxicity: non-carcinogenic')\n",
      "387: ('ecoinvent-3.11', 'ReCiPe 2016 v1.03, endpoint (E)', 'human health', 'ionising radiation')\n",
      "388: ('ecoinvent-3.11', 'ReCiPe 2016 v1.03, endpoint (E)', 'human health', 'ozone depletion')\n",
      "389: ('ecoinvent-3.11', 'ReCiPe 2016 v1.03, endpoint (E)', 'human health', 'particulate matter formation')\n",
      "390: ('ecoinvent-3.11', 'ReCiPe 2016 v1.03, endpoint (E)', 'human health', 'photochemical oxidant formation: human health')\n",
      "391: ('ecoinvent-3.11', 'ReCiPe 2016 v1.03, endpoint (E)', 'human health', 'water use: human health')\n",
      "392: ('ecoinvent-3.11', 'ReCiPe 2016 v1.03, endpoint (E)', 'natural resources', 'energy resources: non-renewable, fossil')\n",
      "393: ('ecoinvent-3.11', 'ReCiPe 2016 v1.03, endpoint (E)', 'natural resources', 'material resources: metals/minerals')\n",
      "394: ('ecoinvent-3.11', 'ReCiPe 2016 v1.03, endpoint (E)', 'total: ecosystem quality', 'ecosystem quality')\n",
      "395: ('ecoinvent-3.11', 'ReCiPe 2016 v1.03, endpoint (E)', 'total: human health', 'human health')\n",
      "396: ('ecoinvent-3.11', 'ReCiPe 2016 v1.03, endpoint (E)', 'total: natural resources', 'natural resources')\n",
      "397: ('ecoinvent-3.11', 'ReCiPe 2016 v1.03, endpoint (H) no LT', 'ecosystem quality no LT', 'acidification: terrestrial no LT')\n",
      "398: ('ecoinvent-3.11', 'ReCiPe 2016 v1.03, endpoint (H) no LT', 'ecosystem quality no LT', 'climate change: freshwater ecosystems no LT')\n",
      "399: ('ecoinvent-3.11', 'ReCiPe 2016 v1.03, endpoint (H) no LT', 'ecosystem quality no LT', 'climate change: terrestrial ecosystems no LT')\n",
      "400: ('ecoinvent-3.11', 'ReCiPe 2016 v1.03, endpoint (H) no LT', 'ecosystem quality no LT', 'ecotoxicity: freshwater no LT')\n",
      "401: ('ecoinvent-3.11', 'ReCiPe 2016 v1.03, endpoint (H) no LT', 'ecosystem quality no LT', 'ecotoxicity: marine no LT')\n",
      "402: ('ecoinvent-3.11', 'ReCiPe 2016 v1.03, endpoint (H) no LT', 'ecosystem quality no LT', 'ecotoxicity: terrestrial no LT')\n",
      "403: ('ecoinvent-3.11', 'ReCiPe 2016 v1.03, endpoint (H) no LT', 'ecosystem quality no LT', 'eutrophication: freshwater no LT')\n",
      "404: ('ecoinvent-3.11', 'ReCiPe 2016 v1.03, endpoint (H) no LT', 'ecosystem quality no LT', 'eutrophication: marine no LT')\n",
      "405: ('ecoinvent-3.11', 'ReCiPe 2016 v1.03, endpoint (H) no LT', 'ecosystem quality no LT', 'land use no LT')\n",
      "406: ('ecoinvent-3.11', 'ReCiPe 2016 v1.03, endpoint (H) no LT', 'ecosystem quality no LT', 'photochemical oxidant formation: terrestrial ecosystems no LT')\n",
      "407: ('ecoinvent-3.11', 'ReCiPe 2016 v1.03, endpoint (H) no LT', 'ecosystem quality no LT', 'water use: aquatic ecosystems no LT')\n",
      "408: ('ecoinvent-3.11', 'ReCiPe 2016 v1.03, endpoint (H) no LT', 'ecosystem quality no LT', 'water use: terrestrial ecosystems no LT')\n",
      "409: ('ecoinvent-3.11', 'ReCiPe 2016 v1.03, endpoint (H) no LT', 'human health no LT', 'climate change: human health no LT')\n",
      "410: ('ecoinvent-3.11', 'ReCiPe 2016 v1.03, endpoint (H) no LT', 'human health no LT', 'human toxicity: carcinogenic no LT')\n",
      "411: ('ecoinvent-3.11', 'ReCiPe 2016 v1.03, endpoint (H) no LT', 'human health no LT', 'human toxicity: non-carcinogenic no LT')\n",
      "412: ('ecoinvent-3.11', 'ReCiPe 2016 v1.03, endpoint (H) no LT', 'human health no LT', 'ionising radiation no LT')\n",
      "413: ('ecoinvent-3.11', 'ReCiPe 2016 v1.03, endpoint (H) no LT', 'human health no LT', 'ozone depletion no LT')\n",
      "414: ('ecoinvent-3.11', 'ReCiPe 2016 v1.03, endpoint (H) no LT', 'human health no LT', 'particulate matter formation no LT')\n",
      "415: ('ecoinvent-3.11', 'ReCiPe 2016 v1.03, endpoint (H) no LT', 'human health no LT', 'photochemical oxidant formation: human health no LT')\n",
      "416: ('ecoinvent-3.11', 'ReCiPe 2016 v1.03, endpoint (H) no LT', 'human health no LT', 'water use: human health no LT')\n",
      "417: ('ecoinvent-3.11', 'ReCiPe 2016 v1.03, endpoint (H) no LT', 'natural resources no LT', 'energy resources: non-renewable, fossil no LT')\n",
      "418: ('ecoinvent-3.11', 'ReCiPe 2016 v1.03, endpoint (H) no LT', 'natural resources no LT', 'material resources: metals/minerals no LT')\n",
      "419: ('ecoinvent-3.11', 'ReCiPe 2016 v1.03, endpoint (H) no LT', 'total: ecosystem quality no LT', 'ecosystem quality no LT')\n",
      "420: ('ecoinvent-3.11', 'ReCiPe 2016 v1.03, endpoint (H) no LT', 'total: human health no LT', 'human health no LT')\n",
      "421: ('ecoinvent-3.11', 'ReCiPe 2016 v1.03, endpoint (H) no LT', 'total: natural resources no LT', 'natural resources no LT')\n",
      "422: ('ecoinvent-3.11', 'ReCiPe 2016 v1.03, endpoint (H)', 'ecosystem quality', 'acidification: terrestrial')\n",
      "423: ('ecoinvent-3.11', 'ReCiPe 2016 v1.03, endpoint (H)', 'ecosystem quality', 'climate change: freshwater ecosystems')\n",
      "424: ('ecoinvent-3.11', 'ReCiPe 2016 v1.03, endpoint (H)', 'ecosystem quality', 'climate change: terrestrial ecosystems')\n",
      "425: ('ecoinvent-3.11', 'ReCiPe 2016 v1.03, endpoint (H)', 'ecosystem quality', 'ecotoxicity: freshwater')\n",
      "426: ('ecoinvent-3.11', 'ReCiPe 2016 v1.03, endpoint (H)', 'ecosystem quality', 'ecotoxicity: marine')\n",
      "427: ('ecoinvent-3.11', 'ReCiPe 2016 v1.03, endpoint (H)', 'ecosystem quality', 'ecotoxicity: terrestrial')\n",
      "428: ('ecoinvent-3.11', 'ReCiPe 2016 v1.03, endpoint (H)', 'ecosystem quality', 'eutrophication: freshwater')\n",
      "429: ('ecoinvent-3.11', 'ReCiPe 2016 v1.03, endpoint (H)', 'ecosystem quality', 'eutrophication: marine')\n",
      "430: ('ecoinvent-3.11', 'ReCiPe 2016 v1.03, endpoint (H)', 'ecosystem quality', 'land use')\n",
      "431: ('ecoinvent-3.11', 'ReCiPe 2016 v1.03, endpoint (H)', 'ecosystem quality', 'photochemical oxidant formation: terrestrial ecosystems')\n",
      "432: ('ecoinvent-3.11', 'ReCiPe 2016 v1.03, endpoint (H)', 'ecosystem quality', 'water use: aquatic ecosystems')\n",
      "433: ('ecoinvent-3.11', 'ReCiPe 2016 v1.03, endpoint (H)', 'ecosystem quality', 'water use: terrestrial ecosystems')\n",
      "434: ('ecoinvent-3.11', 'ReCiPe 2016 v1.03, endpoint (H)', 'human health', 'climate change: human health')\n",
      "435: ('ecoinvent-3.11', 'ReCiPe 2016 v1.03, endpoint (H)', 'human health', 'human toxicity: carcinogenic')\n",
      "436: ('ecoinvent-3.11', 'ReCiPe 2016 v1.03, endpoint (H)', 'human health', 'human toxicity: non-carcinogenic')\n",
      "437: ('ecoinvent-3.11', 'ReCiPe 2016 v1.03, endpoint (H)', 'human health', 'ionising radiation')\n",
      "438: ('ecoinvent-3.11', 'ReCiPe 2016 v1.03, endpoint (H)', 'human health', 'ozone depletion')\n",
      "439: ('ecoinvent-3.11', 'ReCiPe 2016 v1.03, endpoint (H)', 'human health', 'particulate matter formation')\n",
      "440: ('ecoinvent-3.11', 'ReCiPe 2016 v1.03, endpoint (H)', 'human health', 'photochemical oxidant formation: human health')\n",
      "441: ('ecoinvent-3.11', 'ReCiPe 2016 v1.03, endpoint (H)', 'human health', 'water use: human health')\n",
      "442: ('ecoinvent-3.11', 'ReCiPe 2016 v1.03, endpoint (H)', 'natural resources', 'energy resources: non-renewable, fossil')\n",
      "443: ('ecoinvent-3.11', 'ReCiPe 2016 v1.03, endpoint (H)', 'natural resources', 'material resources: metals/minerals')\n",
      "444: ('ecoinvent-3.11', 'ReCiPe 2016 v1.03, endpoint (H)', 'total: ecosystem quality', 'ecosystem quality')\n",
      "445: ('ecoinvent-3.11', 'ReCiPe 2016 v1.03, endpoint (H)', 'total: human health', 'human health')\n",
      "446: ('ecoinvent-3.11', 'ReCiPe 2016 v1.03, endpoint (H)', 'total: natural resources', 'natural resources')\n",
      "447: ('ecoinvent-3.11', 'ReCiPe 2016 v1.03, endpoint (I) no LT', 'ecosystem quality no LT', 'acidification: terrestrial no LT')\n",
      "448: ('ecoinvent-3.11', 'ReCiPe 2016 v1.03, endpoint (I) no LT', 'ecosystem quality no LT', 'climate change: freshwater ecosystems no LT')\n",
      "449: ('ecoinvent-3.11', 'ReCiPe 2016 v1.03, endpoint (I) no LT', 'ecosystem quality no LT', 'climate change: terrestrial ecosystems no LT')\n",
      "450: ('ecoinvent-3.11', 'ReCiPe 2016 v1.03, endpoint (I) no LT', 'ecosystem quality no LT', 'ecotoxicity: freshwater no LT')\n",
      "451: ('ecoinvent-3.11', 'ReCiPe 2016 v1.03, endpoint (I) no LT', 'ecosystem quality no LT', 'ecotoxicity: marine no LT')\n",
      "452: ('ecoinvent-3.11', 'ReCiPe 2016 v1.03, endpoint (I) no LT', 'ecosystem quality no LT', 'ecotoxicity: terrestrial no LT')\n",
      "453: ('ecoinvent-3.11', 'ReCiPe 2016 v1.03, endpoint (I) no LT', 'ecosystem quality no LT', 'eutrophication: freshwater no LT')\n",
      "454: ('ecoinvent-3.11', 'ReCiPe 2016 v1.03, endpoint (I) no LT', 'ecosystem quality no LT', 'eutrophication: marine no LT')\n",
      "455: ('ecoinvent-3.11', 'ReCiPe 2016 v1.03, endpoint (I) no LT', 'ecosystem quality no LT', 'land use no LT')\n",
      "456: ('ecoinvent-3.11', 'ReCiPe 2016 v1.03, endpoint (I) no LT', 'ecosystem quality no LT', 'photochemical oxidant formation: terrestrial ecosystems no LT')\n",
      "457: ('ecoinvent-3.11', 'ReCiPe 2016 v1.03, endpoint (I) no LT', 'ecosystem quality no LT', 'water use: aquatic ecosystems no LT')\n",
      "458: ('ecoinvent-3.11', 'ReCiPe 2016 v1.03, endpoint (I) no LT', 'human health no LT', 'climate change: human health no LT')\n",
      "459: ('ecoinvent-3.11', 'ReCiPe 2016 v1.03, endpoint (I) no LT', 'human health no LT', 'human toxicity: carcinogenic no LT')\n",
      "460: ('ecoinvent-3.11', 'ReCiPe 2016 v1.03, endpoint (I) no LT', 'human health no LT', 'human toxicity: non-carcinogenic no LT')\n",
      "461: ('ecoinvent-3.11', 'ReCiPe 2016 v1.03, endpoint (I) no LT', 'human health no LT', 'ionising radiation no LT')\n",
      "462: ('ecoinvent-3.11', 'ReCiPe 2016 v1.03, endpoint (I) no LT', 'human health no LT', 'ozone depletion no LT')\n",
      "463: ('ecoinvent-3.11', 'ReCiPe 2016 v1.03, endpoint (I) no LT', 'human health no LT', 'particulate matter formation no LT')\n",
      "464: ('ecoinvent-3.11', 'ReCiPe 2016 v1.03, endpoint (I) no LT', 'human health no LT', 'photochemical oxidant formation: human health no LT')\n",
      "465: ('ecoinvent-3.11', 'ReCiPe 2016 v1.03, endpoint (I) no LT', 'human health no LT', 'water use: human health no LT')\n",
      "466: ('ecoinvent-3.11', 'ReCiPe 2016 v1.03, endpoint (I) no LT', 'natural resources no LT', 'energy resources: non-renewable, fossil no LT')\n",
      "467: ('ecoinvent-3.11', 'ReCiPe 2016 v1.03, endpoint (I) no LT', 'natural resources no LT', 'material resources: metals/minerals no LT')\n",
      "468: ('ecoinvent-3.11', 'ReCiPe 2016 v1.03, endpoint (I) no LT', 'total: ecosystem quality no LT', 'ecosystem quality no LT')\n",
      "469: ('ecoinvent-3.11', 'ReCiPe 2016 v1.03, endpoint (I) no LT', 'total: human health no LT', 'human health no LT')\n",
      "470: ('ecoinvent-3.11', 'ReCiPe 2016 v1.03, endpoint (I) no LT', 'total: natural resources no LT', 'natural resources no LT')\n",
      "471: ('ecoinvent-3.11', 'ReCiPe 2016 v1.03, endpoint (I)', 'ecosystem quality', 'acidification: terrestrial')\n",
      "472: ('ecoinvent-3.11', 'ReCiPe 2016 v1.03, endpoint (I)', 'ecosystem quality', 'climate change: freshwater ecosystems')\n",
      "473: ('ecoinvent-3.11', 'ReCiPe 2016 v1.03, endpoint (I)', 'ecosystem quality', 'climate change: terrestrial ecosystems')\n",
      "474: ('ecoinvent-3.11', 'ReCiPe 2016 v1.03, endpoint (I)', 'ecosystem quality', 'ecotoxicity: freshwater')\n",
      "475: ('ecoinvent-3.11', 'ReCiPe 2016 v1.03, endpoint (I)', 'ecosystem quality', 'ecotoxicity: marine')\n",
      "476: ('ecoinvent-3.11', 'ReCiPe 2016 v1.03, endpoint (I)', 'ecosystem quality', 'ecotoxicity: terrestrial')\n",
      "477: ('ecoinvent-3.11', 'ReCiPe 2016 v1.03, endpoint (I)', 'ecosystem quality', 'eutrophication: freshwater')\n",
      "478: ('ecoinvent-3.11', 'ReCiPe 2016 v1.03, endpoint (I)', 'ecosystem quality', 'eutrophication: marine')\n",
      "479: ('ecoinvent-3.11', 'ReCiPe 2016 v1.03, endpoint (I)', 'ecosystem quality', 'land use')\n",
      "480: ('ecoinvent-3.11', 'ReCiPe 2016 v1.03, endpoint (I)', 'ecosystem quality', 'photochemical oxidant formation: terrestrial ecosystems')\n",
      "481: ('ecoinvent-3.11', 'ReCiPe 2016 v1.03, endpoint (I)', 'ecosystem quality', 'water use: aquatic ecosystems')\n",
      "482: ('ecoinvent-3.11', 'ReCiPe 2016 v1.03, endpoint (I)', 'human health', 'climate change: human health')\n",
      "483: ('ecoinvent-3.11', 'ReCiPe 2016 v1.03, endpoint (I)', 'human health', 'human toxicity: carcinogenic')\n",
      "484: ('ecoinvent-3.11', 'ReCiPe 2016 v1.03, endpoint (I)', 'human health', 'human toxicity: non-carcinogenic')\n",
      "485: ('ecoinvent-3.11', 'ReCiPe 2016 v1.03, endpoint (I)', 'human health', 'ionising radiation')\n",
      "486: ('ecoinvent-3.11', 'ReCiPe 2016 v1.03, endpoint (I)', 'human health', 'ozone depletion')\n",
      "487: ('ecoinvent-3.11', 'ReCiPe 2016 v1.03, endpoint (I)', 'human health', 'particulate matter formation')\n",
      "488: ('ecoinvent-3.11', 'ReCiPe 2016 v1.03, endpoint (I)', 'human health', 'photochemical oxidant formation: human health')\n",
      "489: ('ecoinvent-3.11', 'ReCiPe 2016 v1.03, endpoint (I)', 'human health', 'water use: human health')\n",
      "490: ('ecoinvent-3.11', 'ReCiPe 2016 v1.03, endpoint (I)', 'natural resources', 'energy resources: non-renewable, fossil')\n",
      "491: ('ecoinvent-3.11', 'ReCiPe 2016 v1.03, endpoint (I)', 'natural resources', 'material resources: metals/minerals')\n",
      "492: ('ecoinvent-3.11', 'ReCiPe 2016 v1.03, endpoint (I)', 'total: ecosystem quality', 'ecosystem quality')\n",
      "493: ('ecoinvent-3.11', 'ReCiPe 2016 v1.03, endpoint (I)', 'total: human health', 'human health')\n",
      "494: ('ecoinvent-3.11', 'ReCiPe 2016 v1.03, endpoint (I)', 'total: natural resources', 'natural resources')\n",
      "495: ('ecoinvent-3.11', 'ReCiPe 2016 v1.03, midpoint (E) no LT', 'acidification: terrestrial no LT', 'terrestrial acidification potential (TAP) no LT')\n",
      "496: ('ecoinvent-3.11', 'ReCiPe 2016 v1.03, midpoint (E) no LT', 'climate change no LT', 'global warming potential (GWP1000) no LT')\n",
      "497: ('ecoinvent-3.11', 'ReCiPe 2016 v1.03, midpoint (E) no LT', 'ecotoxicity: freshwater no LT', 'freshwater ecotoxicity potential (FETP) no LT')\n",
      "498: ('ecoinvent-3.11', 'ReCiPe 2016 v1.03, midpoint (E) no LT', 'ecotoxicity: marine no LT', 'marine ecotoxicity potential (METP) no LT')\n",
      "499: ('ecoinvent-3.11', 'ReCiPe 2016 v1.03, midpoint (E) no LT', 'ecotoxicity: terrestrial no LT', 'terrestrial ecotoxicity potential (TETP) no LT')\n",
      "500: ('ecoinvent-3.11', 'ReCiPe 2016 v1.03, midpoint (E) no LT', 'energy resources: non-renewable, fossil no LT', 'fossil fuel potential (FFP) no LT')\n",
      "501: ('ecoinvent-3.11', 'ReCiPe 2016 v1.03, midpoint (E) no LT', 'eutrophication: freshwater no LT', 'freshwater eutrophication potential (FEP) no LT')\n",
      "502: ('ecoinvent-3.11', 'ReCiPe 2016 v1.03, midpoint (E) no LT', 'eutrophication: marine no LT', 'marine eutrophication potential (MEP) no LT')\n",
      "503: ('ecoinvent-3.11', 'ReCiPe 2016 v1.03, midpoint (E) no LT', 'human toxicity: carcinogenic no LT', 'human toxicity potential (HTPc) no LT')\n",
      "504: ('ecoinvent-3.11', 'ReCiPe 2016 v1.03, midpoint (E) no LT', 'human toxicity: non-carcinogenic no LT', 'human toxicity potential (HTPnc) no LT')\n",
      "505: ('ecoinvent-3.11', 'ReCiPe 2016 v1.03, midpoint (E) no LT', 'ionising radiation no LT', 'ionising radiation potential (IRP) no LT')\n",
      "506: ('ecoinvent-3.11', 'ReCiPe 2016 v1.03, midpoint (E) no LT', 'land use no LT', 'agricultural land occupation (LOP) no LT')\n",
      "507: ('ecoinvent-3.11', 'ReCiPe 2016 v1.03, midpoint (E) no LT', 'material resources: metals/minerals no LT', 'surplus ore potential (SOP) no LT')\n",
      "508: ('ecoinvent-3.11', 'ReCiPe 2016 v1.03, midpoint (E) no LT', 'ozone depletion no LT', 'ozone depletion potential (ODPinfinite) no LT')\n",
      "509: ('ecoinvent-3.11', 'ReCiPe 2016 v1.03, midpoint (E) no LT', 'particulate matter formation no LT', 'particulate matter formation potential (PMFP) no LT')\n",
      "510: ('ecoinvent-3.11', 'ReCiPe 2016 v1.03, midpoint (E) no LT', 'photochemical oxidant formation: human health no LT', 'photochemical oxidant formation potential: humans (HOFP) no LT')\n",
      "511: ('ecoinvent-3.11', 'ReCiPe 2016 v1.03, midpoint (E) no LT', 'photochemical oxidant formation: terrestrial ecosystems no LT', 'photochemical oxidant formation potential: ecosystems (EOFP) no LT')\n",
      "512: ('ecoinvent-3.11', 'ReCiPe 2016 v1.03, midpoint (E) no LT', 'water use no LT', 'water consumption potential (WCP) no LT')\n",
      "513: ('ecoinvent-3.11', 'ReCiPe 2016 v1.03, midpoint (E)', 'acidification: terrestrial', 'terrestrial acidification potential (TAP)')\n",
      "514: ('ecoinvent-3.11', 'ReCiPe 2016 v1.03, midpoint (E)', 'climate change', 'global warming potential (GWP1000)')\n",
      "515: ('ecoinvent-3.11', 'ReCiPe 2016 v1.03, midpoint (E)', 'ecotoxicity: freshwater', 'freshwater ecotoxicity potential (FETP)')\n",
      "516: ('ecoinvent-3.11', 'ReCiPe 2016 v1.03, midpoint (E)', 'ecotoxicity: marine', 'marine ecotoxicity potential (METP)')\n",
      "517: ('ecoinvent-3.11', 'ReCiPe 2016 v1.03, midpoint (E)', 'ecotoxicity: terrestrial', 'terrestrial ecotoxicity potential (TETP)')\n",
      "518: ('ecoinvent-3.11', 'ReCiPe 2016 v1.03, midpoint (E)', 'energy resources: non-renewable, fossil', 'fossil fuel potential (FFP)')\n",
      "519: ('ecoinvent-3.11', 'ReCiPe 2016 v1.03, midpoint (E)', 'eutrophication: freshwater', 'freshwater eutrophication potential (FEP)')\n",
      "520: ('ecoinvent-3.11', 'ReCiPe 2016 v1.03, midpoint (E)', 'eutrophication: marine', 'marine eutrophication potential (MEP)')\n",
      "521: ('ecoinvent-3.11', 'ReCiPe 2016 v1.03, midpoint (E)', 'human toxicity: carcinogenic', 'human toxicity potential (HTPc)')\n",
      "522: ('ecoinvent-3.11', 'ReCiPe 2016 v1.03, midpoint (E)', 'human toxicity: non-carcinogenic', 'human toxicity potential (HTPnc)')\n",
      "523: ('ecoinvent-3.11', 'ReCiPe 2016 v1.03, midpoint (E)', 'ionising radiation', 'ionising radiation potential (IRP)')\n",
      "524: ('ecoinvent-3.11', 'ReCiPe 2016 v1.03, midpoint (E)', 'land use', 'agricultural land occupation (LOP)')\n",
      "525: ('ecoinvent-3.11', 'ReCiPe 2016 v1.03, midpoint (E)', 'material resources: metals/minerals', 'surplus ore potential (SOP)')\n",
      "526: ('ecoinvent-3.11', 'ReCiPe 2016 v1.03, midpoint (E)', 'ozone depletion', 'ozone depletion potential (ODPinfinite)')\n",
      "527: ('ecoinvent-3.11', 'ReCiPe 2016 v1.03, midpoint (E)', 'particulate matter formation', 'particulate matter formation potential (PMFP)')\n",
      "528: ('ecoinvent-3.11', 'ReCiPe 2016 v1.03, midpoint (E)', 'photochemical oxidant formation: human health', 'photochemical oxidant formation potential: humans (HOFP)')\n",
      "529: ('ecoinvent-3.11', 'ReCiPe 2016 v1.03, midpoint (E)', 'photochemical oxidant formation: terrestrial ecosystems', 'photochemical oxidant formation potential: ecosystems (EOFP)')\n",
      "530: ('ecoinvent-3.11', 'ReCiPe 2016 v1.03, midpoint (E)', 'water use', 'water consumption potential (WCP)')\n",
      "531: ('ecoinvent-3.11', 'ReCiPe 2016 v1.03, midpoint (H) no LT', 'acidification: terrestrial no LT', 'terrestrial acidification potential (TAP) no LT')\n",
      "532: ('ecoinvent-3.11', 'ReCiPe 2016 v1.03, midpoint (H) no LT', 'climate change no LT', 'global warming potential (GWP100) no LT')\n",
      "533: ('ecoinvent-3.11', 'ReCiPe 2016 v1.03, midpoint (H) no LT', 'ecotoxicity: freshwater no LT', 'freshwater ecotoxicity potential (FETP) no LT')\n",
      "534: ('ecoinvent-3.11', 'ReCiPe 2016 v1.03, midpoint (H) no LT', 'ecotoxicity: marine no LT', 'marine ecotoxicity potential (METP) no LT')\n",
      "535: ('ecoinvent-3.11', 'ReCiPe 2016 v1.03, midpoint (H) no LT', 'ecotoxicity: terrestrial no LT', 'terrestrial ecotoxicity potential (TETP) no LT')\n",
      "536: ('ecoinvent-3.11', 'ReCiPe 2016 v1.03, midpoint (H) no LT', 'energy resources: non-renewable, fossil no LT', 'fossil fuel potential (FFP) no LT')\n",
      "537: ('ecoinvent-3.11', 'ReCiPe 2016 v1.03, midpoint (H) no LT', 'eutrophication: freshwater no LT', 'freshwater eutrophication potential (FEP) no LT')\n",
      "538: ('ecoinvent-3.11', 'ReCiPe 2016 v1.03, midpoint (H) no LT', 'eutrophication: marine no LT', 'marine eutrophication potential (MEP) no LT')\n",
      "539: ('ecoinvent-3.11', 'ReCiPe 2016 v1.03, midpoint (H) no LT', 'human toxicity: carcinogenic no LT', 'human toxicity potential (HTPc) no LT')\n",
      "540: ('ecoinvent-3.11', 'ReCiPe 2016 v1.03, midpoint (H) no LT', 'human toxicity: non-carcinogenic no LT', 'human toxicity potential (HTPnc) no LT')\n",
      "541: ('ecoinvent-3.11', 'ReCiPe 2016 v1.03, midpoint (H) no LT', 'ionising radiation no LT', 'ionising radiation potential (IRP) no LT')\n",
      "542: ('ecoinvent-3.11', 'ReCiPe 2016 v1.03, midpoint (H) no LT', 'land use no LT', 'agricultural land occupation (LOP) no LT')\n",
      "543: ('ecoinvent-3.11', 'ReCiPe 2016 v1.03, midpoint (H) no LT', 'material resources: metals/minerals no LT', 'surplus ore potential (SOP) no LT')\n",
      "544: ('ecoinvent-3.11', 'ReCiPe 2016 v1.03, midpoint (H) no LT', 'ozone depletion no LT', 'ozone depletion potential (ODPinfinite) no LT')\n",
      "545: ('ecoinvent-3.11', 'ReCiPe 2016 v1.03, midpoint (H) no LT', 'particulate matter formation no LT', 'particulate matter formation potential (PMFP) no LT')\n",
      "546: ('ecoinvent-3.11', 'ReCiPe 2016 v1.03, midpoint (H) no LT', 'photochemical oxidant formation: human health no LT', 'photochemical oxidant formation potential: humans (HOFP) no LT')\n",
      "547: ('ecoinvent-3.11', 'ReCiPe 2016 v1.03, midpoint (H) no LT', 'photochemical oxidant formation: terrestrial ecosystems no LT', 'photochemical oxidant formation potential: ecosystems (EOFP) no LT')\n",
      "548: ('ecoinvent-3.11', 'ReCiPe 2016 v1.03, midpoint (H) no LT', 'water use no LT', 'water consumption potential (WCP) no LT')\n",
      "549: ('ecoinvent-3.11', 'ReCiPe 2016 v1.03, midpoint (H)', 'acidification: terrestrial', 'terrestrial acidification potential (TAP)')\n",
      "550: ('ecoinvent-3.11', 'ReCiPe 2016 v1.03, midpoint (H)', 'climate change', 'global warming potential (GWP100)')\n",
      "551: ('ecoinvent-3.11', 'ReCiPe 2016 v1.03, midpoint (H)', 'ecotoxicity: freshwater', 'freshwater ecotoxicity potential (FETP)')\n",
      "552: ('ecoinvent-3.11', 'ReCiPe 2016 v1.03, midpoint (H)', 'ecotoxicity: marine', 'marine ecotoxicity potential (METP)')\n",
      "553: ('ecoinvent-3.11', 'ReCiPe 2016 v1.03, midpoint (H)', 'ecotoxicity: terrestrial', 'terrestrial ecotoxicity potential (TETP)')\n",
      "554: ('ecoinvent-3.11', 'ReCiPe 2016 v1.03, midpoint (H)', 'energy resources: non-renewable, fossil', 'fossil fuel potential (FFP)')\n",
      "555: ('ecoinvent-3.11', 'ReCiPe 2016 v1.03, midpoint (H)', 'eutrophication: freshwater', 'freshwater eutrophication potential (FEP)')\n",
      "556: ('ecoinvent-3.11', 'ReCiPe 2016 v1.03, midpoint (H)', 'eutrophication: marine', 'marine eutrophication potential (MEP)')\n",
      "557: ('ecoinvent-3.11', 'ReCiPe 2016 v1.03, midpoint (H)', 'human toxicity: carcinogenic', 'human toxicity potential (HTPc)')\n",
      "558: ('ecoinvent-3.11', 'ReCiPe 2016 v1.03, midpoint (H)', 'human toxicity: non-carcinogenic', 'human toxicity potential (HTPnc)')\n",
      "559: ('ecoinvent-3.11', 'ReCiPe 2016 v1.03, midpoint (H)', 'ionising radiation', 'ionising radiation potential (IRP)')\n",
      "560: ('ecoinvent-3.11', 'ReCiPe 2016 v1.03, midpoint (H)', 'land use', 'agricultural land occupation (LOP)')\n",
      "561: ('ecoinvent-3.11', 'ReCiPe 2016 v1.03, midpoint (H)', 'material resources: metals/minerals', 'surplus ore potential (SOP)')\n",
      "562: ('ecoinvent-3.11', 'ReCiPe 2016 v1.03, midpoint (H)', 'ozone depletion', 'ozone depletion potential (ODPinfinite)')\n",
      "563: ('ecoinvent-3.11', 'ReCiPe 2016 v1.03, midpoint (H)', 'particulate matter formation', 'particulate matter formation potential (PMFP)')\n",
      "564: ('ecoinvent-3.11', 'ReCiPe 2016 v1.03, midpoint (H)', 'photochemical oxidant formation: human health', 'photochemical oxidant formation potential: humans (HOFP)')\n",
      "565: ('ecoinvent-3.11', 'ReCiPe 2016 v1.03, midpoint (H)', 'photochemical oxidant formation: terrestrial ecosystems', 'photochemical oxidant formation potential: ecosystems (EOFP)')\n",
      "566: ('ecoinvent-3.11', 'ReCiPe 2016 v1.03, midpoint (H)', 'water use', 'water consumption potential (WCP)')\n",
      "567: ('ecoinvent-3.11', 'ReCiPe 2016 v1.03, midpoint (I) no LT', 'acidification: terrestrial no LT', 'terrestrial acidification potential (TAP) no LT')\n",
      "568: ('ecoinvent-3.11', 'ReCiPe 2016 v1.03, midpoint (I) no LT', 'climate change no LT', 'global warming potential (GWP20) no LT')\n",
      "569: ('ecoinvent-3.11', 'ReCiPe 2016 v1.03, midpoint (I) no LT', 'ecotoxicity: freshwater no LT', 'freshwater ecotoxicity potential (FETP) no LT')\n",
      "570: ('ecoinvent-3.11', 'ReCiPe 2016 v1.03, midpoint (I) no LT', 'ecotoxicity: marine no LT', 'marine ecotoxicity potential (METP) no LT')\n",
      "571: ('ecoinvent-3.11', 'ReCiPe 2016 v1.03, midpoint (I) no LT', 'ecotoxicity: terrestrial no LT', 'terrestrial ecotoxicity potential (TETP) no LT')\n",
      "572: ('ecoinvent-3.11', 'ReCiPe 2016 v1.03, midpoint (I) no LT', 'energy resources: non-renewable, fossil no LT', 'fossil fuel potential (FFP) no LT')\n",
      "573: ('ecoinvent-3.11', 'ReCiPe 2016 v1.03, midpoint (I) no LT', 'eutrophication: freshwater no LT', 'freshwater eutrophication potential (FEP) no LT')\n",
      "574: ('ecoinvent-3.11', 'ReCiPe 2016 v1.03, midpoint (I) no LT', 'eutrophication: marine no LT', 'marine eutrophication potential (MEP) no LT')\n",
      "575: ('ecoinvent-3.11', 'ReCiPe 2016 v1.03, midpoint (I) no LT', 'human toxicity: carcinogenic no LT', 'human toxicity potential (HTPc) no LT')\n",
      "576: ('ecoinvent-3.11', 'ReCiPe 2016 v1.03, midpoint (I) no LT', 'human toxicity: non-carcinogenic no LT', 'human toxicity potential (HTPnc) no LT')\n",
      "577: ('ecoinvent-3.11', 'ReCiPe 2016 v1.03, midpoint (I) no LT', 'ionising radiation no LT', 'ionising radiation potential (IRP) no LT')\n",
      "578: ('ecoinvent-3.11', 'ReCiPe 2016 v1.03, midpoint (I) no LT', 'land use no LT', 'agricultural land occupation (LOP) no LT')\n",
      "579: ('ecoinvent-3.11', 'ReCiPe 2016 v1.03, midpoint (I) no LT', 'material resources: metals/minerals no LT', 'surplus ore potential (SOP) no LT')\n",
      "580: ('ecoinvent-3.11', 'ReCiPe 2016 v1.03, midpoint (I) no LT', 'ozone depletion no LT', 'ozone depletion potential (ODPinfinite) no LT')\n",
      "581: ('ecoinvent-3.11', 'ReCiPe 2016 v1.03, midpoint (I) no LT', 'particulate matter formation no LT', 'particulate matter formation potential (PMFP) no LT')\n",
      "582: ('ecoinvent-3.11', 'ReCiPe 2016 v1.03, midpoint (I) no LT', 'photochemical oxidant formation: human health no LT', 'photochemical oxidant formation potential: humans (HOFP) no LT')\n",
      "583: ('ecoinvent-3.11', 'ReCiPe 2016 v1.03, midpoint (I) no LT', 'photochemical oxidant formation: terrestrial ecosystems no LT', 'photochemical oxidant formation potential: ecosystems (EOFP) no LT')\n",
      "584: ('ecoinvent-3.11', 'ReCiPe 2016 v1.03, midpoint (I) no LT', 'water use no LT', 'water consumption potential (WCP) no LT')\n",
      "585: ('ecoinvent-3.11', 'ReCiPe 2016 v1.03, midpoint (I)', 'acidification: terrestrial', 'terrestrial acidification potential (TAP)')\n",
      "586: ('ecoinvent-3.11', 'ReCiPe 2016 v1.03, midpoint (I)', 'climate change', 'global warming potential (GWP20)')\n",
      "587: ('ecoinvent-3.11', 'ReCiPe 2016 v1.03, midpoint (I)', 'ecotoxicity: freshwater', 'freshwater ecotoxicity potential (FETP)')\n",
      "588: ('ecoinvent-3.11', 'ReCiPe 2016 v1.03, midpoint (I)', 'ecotoxicity: marine', 'marine ecotoxicity potential (METP)')\n",
      "589: ('ecoinvent-3.11', 'ReCiPe 2016 v1.03, midpoint (I)', 'ecotoxicity: terrestrial', 'terrestrial ecotoxicity potential (TETP)')\n",
      "590: ('ecoinvent-3.11', 'ReCiPe 2016 v1.03, midpoint (I)', 'energy resources: non-renewable, fossil', 'fossil fuel potential (FFP)')\n",
      "591: ('ecoinvent-3.11', 'ReCiPe 2016 v1.03, midpoint (I)', 'eutrophication: freshwater', 'freshwater eutrophication potential (FEP)')\n",
      "592: ('ecoinvent-3.11', 'ReCiPe 2016 v1.03, midpoint (I)', 'eutrophication: marine', 'marine eutrophication potential (MEP)')\n",
      "593: ('ecoinvent-3.11', 'ReCiPe 2016 v1.03, midpoint (I)', 'human toxicity: carcinogenic', 'human toxicity potential (HTPc)')\n",
      "594: ('ecoinvent-3.11', 'ReCiPe 2016 v1.03, midpoint (I)', 'human toxicity: non-carcinogenic', 'human toxicity potential (HTPnc)')\n",
      "595: ('ecoinvent-3.11', 'ReCiPe 2016 v1.03, midpoint (I)', 'ionising radiation', 'ionising radiation potential (IRP)')\n",
      "596: ('ecoinvent-3.11', 'ReCiPe 2016 v1.03, midpoint (I)', 'land use', 'agricultural land occupation (LOP)')\n",
      "597: ('ecoinvent-3.11', 'ReCiPe 2016 v1.03, midpoint (I)', 'material resources: metals/minerals', 'surplus ore potential (SOP)')\n",
      "598: ('ecoinvent-3.11', 'ReCiPe 2016 v1.03, midpoint (I)', 'ozone depletion', 'ozone depletion potential (ODPinfinite)')\n",
      "599: ('ecoinvent-3.11', 'ReCiPe 2016 v1.03, midpoint (I)', 'particulate matter formation', 'particulate matter formation potential (PMFP)')\n",
      "600: ('ecoinvent-3.11', 'ReCiPe 2016 v1.03, midpoint (I)', 'photochemical oxidant formation: human health', 'photochemical oxidant formation potential: humans (HOFP)')\n",
      "601: ('ecoinvent-3.11', 'ReCiPe 2016 v1.03, midpoint (I)', 'photochemical oxidant formation: terrestrial ecosystems', 'photochemical oxidant formation potential: ecosystems (EOFP)')\n",
      "602: ('ecoinvent-3.11', 'ReCiPe 2016 v1.03, midpoint (I)', 'water use', 'water consumption potential (WCP)')\n",
      "603: ('ecoinvent-3.11', 'TRACI v2.1 no LT', 'acidification no LT', 'acidification potential (AP) no LT')\n",
      "604: ('ecoinvent-3.11', 'TRACI v2.1 no LT', 'climate change no LT', 'global warming potential (GWP100) no LT')\n",
      "605: ('ecoinvent-3.11', 'TRACI v2.1 no LT', 'ecotoxicity: freshwater no LT', 'ecotoxicity: freshwater no LT')\n",
      "606: ('ecoinvent-3.11', 'TRACI v2.1 no LT', 'eutrophication no LT', 'eutrophication potential no LT')\n",
      "607: ('ecoinvent-3.11', 'TRACI v2.1 no LT', 'human toxicity: carcinogenic no LT', 'human toxicity: carcinogenic no LT')\n",
      "608: ('ecoinvent-3.11', 'TRACI v2.1 no LT', 'human toxicity: non-carcinogenic no LT', 'human toxicity: non-carcinogenic no LT')\n",
      "609: ('ecoinvent-3.11', 'TRACI v2.1 no LT', 'ozone depletion no LT', 'ozone depletion potential (ODP) no LT')\n",
      "610: ('ecoinvent-3.11', 'TRACI v2.1 no LT', 'particulate matter formation no LT', 'particulate matter formation potential (PMFP) no LT')\n",
      "611: ('ecoinvent-3.11', 'TRACI v2.1 no LT', 'photochemical oxidant formation no LT', 'maximum incremental reactivity (MIR) no LT')\n",
      "612: ('ecoinvent-3.11', 'TRACI v2.1', 'acidification', 'acidification potential (AP)')\n",
      "613: ('ecoinvent-3.11', 'TRACI v2.1', 'climate change', 'global warming potential (GWP100)')\n",
      "614: ('ecoinvent-3.11', 'TRACI v2.1', 'ecotoxicity: freshwater', 'ecotoxicity: freshwater')\n",
      "615: ('ecoinvent-3.11', 'TRACI v2.1', 'eutrophication', 'eutrophication potential')\n",
      "616: ('ecoinvent-3.11', 'TRACI v2.1', 'human toxicity: carcinogenic', 'human toxicity: carcinogenic')\n",
      "617: ('ecoinvent-3.11', 'TRACI v2.1', 'human toxicity: non-carcinogenic', 'human toxicity: non-carcinogenic')\n",
      "618: ('ecoinvent-3.11', 'TRACI v2.1', 'ozone depletion', 'ozone depletion potential (ODP)')\n",
      "619: ('ecoinvent-3.11', 'TRACI v2.1', 'particulate matter formation', 'particulate matter formation potential (PMFP)')\n",
      "620: ('ecoinvent-3.11', 'TRACI v2.1', 'photochemical oxidant formation', 'maximum incremental reactivity (MIR)')\n",
      "621: ('ecoinvent-3.11', 'USEtox v2.13, endpoint no LT', 'ecosystem quality no LT', 'ecotoxicity: freshwater no LT')\n",
      "622: ('ecoinvent-3.11', 'USEtox v2.13, endpoint no LT', 'human health no LT', 'human toxicity: carcinogenic no LT')\n",
      "623: ('ecoinvent-3.11', 'USEtox v2.13, endpoint no LT', 'human health no LT', 'human toxicity: non-carcinogenic no LT')\n",
      "624: ('ecoinvent-3.11', 'USEtox v2.13, endpoint', 'ecosystem quality', 'ecotoxicity: freshwater')\n",
      "625: ('ecoinvent-3.11', 'USEtox v2.13, endpoint', 'human health', 'human toxicity: carcinogenic')\n",
      "626: ('ecoinvent-3.11', 'USEtox v2.13, endpoint', 'human health', 'human toxicity: non-carcinogenic')\n",
      "627: ('ecoinvent-3.11', 'USEtox v2.13, midpoint no LT', 'ecotoxicity: freshwater no LT', 'comparative toxic unit for ecosystems (CTUe) no LT')\n",
      "628: ('ecoinvent-3.11', 'USEtox v2.13, midpoint no LT', 'human toxicity: carcinogenic no LT', 'comparative toxic unit for human (CTUh) no LT')\n",
      "629: ('ecoinvent-3.11', 'USEtox v2.13, midpoint no LT', 'human toxicity: non-carcinogenic no LT', 'comparative toxic unit for human (CTUh) no LT')\n",
      "630: ('ecoinvent-3.11', 'USEtox v2.13, midpoint', 'ecotoxicity: freshwater', 'comparative toxic unit for ecosystems (CTUe)')\n",
      "631: ('ecoinvent-3.11', 'USEtox v2.13, midpoint', 'human toxicity: carcinogenic', 'comparative toxic unit for human (CTUh)')\n",
      "632: ('ecoinvent-3.11', 'USEtox v2.13, midpoint', 'human toxicity: non-carcinogenic', 'comparative toxic unit for human (CTUh)')\n"
     ]
    }
   ],
   "source": [
    "for i,m in enumerate(bd.methods):\n",
    "    print(f\"{i}: {m}\")"
   ]
  },
  {
   "cell_type": "code",
   "execution_count": 42,
   "metadata": {},
   "outputs": [
    {
     "name": "stderr",
     "output_type": "stream",
     "text": [
      "/Users/ajakobs/miniconda3/envs/timex/lib/python3.11/site-packages/scikits/umfpack/umfpack.py:736: UmfpackWarning: (almost) singular matrix! (estimated cond. number: 9.30e+12)\n",
      "  warnings.warn(msg, UmfpackWarning)\n",
      "\u001b[32m2025-06-10 13:54:13.407\u001b[0m | \u001b[1mINFO    \u001b[0m | \u001b[36mbw_timex.timex_lca\u001b[0m:\u001b[36mbuild_timeline\u001b[0m:\u001b[36m217\u001b[0m - \u001b[1mNo edge filter function provided. Skipping all edges in background databases.\u001b[0m\n"
     ]
    },
    {
     "name": "stdout",
     "output_type": "stream",
     "text": [
      "Starting graph traversal\n",
      "Calculation count: 12\n"
     ]
    },
    {
     "name": "stderr",
     "output_type": "stream",
     "text": [
      "/Users/ajakobs/miniconda3/envs/timex/lib/python3.11/site-packages/bw2calc/lca_base.py:127: SparseEfficiencyWarning: splu converted its input to CSC format\n",
      "  self.solver = factorized(self.technosphere_matrix)\n",
      "/Users/ajakobs/miniconda3/envs/timex/lib/python3.11/site-packages/scikits/umfpack/umfpack.py:736: UmfpackWarning: (almost) singular matrix! (estimated cond. number: 4.49e+12)\n",
      "  warnings.warn(msg, UmfpackWarning)\n"
     ]
    },
    {
     "name": "stdout",
     "output_type": "stream",
     "text": [
      "CPU times: user 1min 16s, sys: 5.58 s, total: 1min 22s\n",
      "Wall time: 28.7 s\n"
     ]
    },
    {
     "name": "stderr",
     "output_type": "stream",
     "text": [
      "/Users/ajakobs/miniconda3/envs/timex/lib/python3.11/site-packages/scikits/umfpack/umfpack.py:736: UmfpackWarning: (almost) singular matrix! (estimated cond. number: 4.49e+12)\n",
      "  warnings.warn(msg, UmfpackWarning)\n"
     ]
    }
   ],
   "source": [
    "%%time\n",
    "tlca = TimexLCA(\n",
    "    demand={FU_node: 1},\n",
    "    method=method,\n",
    "    database_dates=database_dates,\n",
    "    )\n",
    "tlca.build_timeline()\n",
    "tlca.lci()\n",
    "tlca.static_lcia()"
   ]
  },
  {
   "cell_type": "markdown",
   "metadata": {},
   "source": [
    "### 2) medium system"
   ]
  },
  {
   "cell_type": "code",
   "execution_count": 18,
   "metadata": {},
   "outputs": [
    {
     "name": "stdout",
     "output_type": "stream",
     "text": [
      "['test_small']\n",
      "Databases dictionary with 7 object(s):\n",
      "\tbiosphere\n",
      "\tecoinvent-3.10-biosphere\n",
      "\tecoinvent-3.10-cutoff\n",
      "\tei310_IMAGE_SSP2_RCP19_2020_electricity\n",
      "\tei310_IMAGE_SSP2_RCP19_2030_electricity\n",
      "\tei310_IMAGE_SSP2_RCP19_2040_electricity\n",
      "\tforeground\n"
     ]
    }
   ],
   "source": [
    "# needed to avoid multiple results error https://github.com/brightway-lca/bw_timex/issues/101\n",
    "to_delete = []\n",
    "for db in bd.databases: #deleting all test_systems\n",
    "    if \"test\" in db:\n",
    "        to_delete.append(db)\n",
    "print(to_delete)\n",
    "\n",
    "for db in to_delete:\n",
    "    del bd.databases[db] \n",
    "\n",
    "print(bd.databases)"
   ]
  },
  {
   "cell_type": "code",
   "execution_count": 19,
   "metadata": {},
   "outputs": [
    {
     "name": "stdout",
     "output_type": "stream",
     "text": [
      "Database test_medium created with 17 processes and 68 exchanges. There are 16 different background processes used.\n"
     ]
    }
   ],
   "source": [
    "db_name = \"test_medium\"\n",
    "create_standardized_test_system(db_name = db_name, number_tiers = 4, number_processes_per_tier=4,\n",
    "                                td_timesteps= 2, td_dtype = \"timedelta64[Y]\", fixed_random_acts= fixed_random_acts, number_background_exchanges_per_process = 4,\n",
    "                                loop = False)"
   ]
  },
  {
   "cell_type": "code",
   "execution_count": null,
   "metadata": {},
   "outputs": [
    {
     "name": "stdout",
     "output_type": "stream",
     "text": [
      "'tier2_act4' (unit, GLO, None)\n",
      "-- production | Exchange: 1 unit 'tier2_act4' (unit, GLO, None) to 'tier2_act4' (unit, GLO, None)> | None\n",
      "-- technosphere | Exchange: 1 unit 'tier3_act1' (unit, GLO, None) to 'tier2_act4' (unit, GLO, None)> | TemporalDistribution instance with 2 values and total: 1\n",
      "-- technosphere | Exchange: 1 unit 'tier3_act2' (unit, GLO, None) to 'tier2_act4' (unit, GLO, None)> | TemporalDistribution instance with 2 values and total: 1\n",
      "-- technosphere | Exchange: 1 unit 'tier3_act3' (unit, GLO, None) to 'tier2_act4' (unit, GLO, None)> | TemporalDistribution instance with 2 values and total: 1\n",
      "-- technosphere | Exchange: 1 unit 'tier3_act4' (unit, GLO, None) to 'tier2_act4' (unit, GLO, None)> | TemporalDistribution instance with 2 values and total: 1\n",
      "\n",
      "\n",
      "'tier1_act4' (unit, GLO, None)\n",
      "-- production | Exchange: 1 unit 'tier1_act4' (unit, GLO, None) to 'tier1_act4' (unit, GLO, None)> | None\n",
      "-- technosphere | Exchange: 1 unit 'tier2_act1' (unit, GLO, None) to 'tier1_act4' (unit, GLO, None)> | TemporalDistribution instance with 2 values and total: 1\n",
      "-- technosphere | Exchange: 1 unit 'tier2_act2' (unit, GLO, None) to 'tier1_act4' (unit, GLO, None)> | TemporalDistribution instance with 2 values and total: 1\n",
      "-- technosphere | Exchange: 1 unit 'tier2_act3' (unit, GLO, None) to 'tier1_act4' (unit, GLO, None)> | TemporalDistribution instance with 2 values and total: 1\n",
      "-- technosphere | Exchange: 1 unit 'tier2_act4' (unit, GLO, None) to 'tier1_act4' (unit, GLO, None)> | TemporalDistribution instance with 2 values and total: 1\n",
      "\n",
      "\n",
      "'tier4_act1' (unit, GLO, None)\n",
      "-- production | Exchange: 1 unit 'tier4_act1' (unit, GLO, None) to 'tier4_act1' (unit, GLO, None)> | None\n",
      "-- technosphere | Exchange: 4 unit 'light duty truck, battery electric, 7.5t gross weight, long haul' (unit, RER, None) to 'tier4_act1' (unit, GLO, None)> | TemporalDistribution instance with 2 values and total: 1\n",
      "-- technosphere | Exchange: 4 cubic meter 'market for oriented strand board' (cubic meter, RER, None) to 'tier4_act1' (unit, GLO, None)> | TemporalDistribution instance with 2 values and total: 1\n",
      "-- technosphere | Exchange: 4 unit 'Medium duty truck, diesel, 26t gross weight, EURO-IV, long haul' (unit, RER, None) to 'tier4_act1' (unit, GLO, None)> | TemporalDistribution instance with 2 values and total: 1\n",
      "-- technosphere | Exchange: 4 kilowatt hour 'market group for electricity, low voltage, 20-year period' (kilowatt hour, INDIA, None) to 'tier4_act1' (unit, GLO, None)> | TemporalDistribution instance with 2 values and total: 1\n",
      "\n",
      "\n",
      "'tier1_act3' (unit, GLO, None)\n",
      "-- production | Exchange: 1 unit 'tier1_act3' (unit, GLO, None) to 'tier1_act3' (unit, GLO, None)> | None\n",
      "-- technosphere | Exchange: 1 unit 'tier2_act1' (unit, GLO, None) to 'tier1_act3' (unit, GLO, None)> | TemporalDistribution instance with 2 values and total: 1\n",
      "-- technosphere | Exchange: 1 unit 'tier2_act2' (unit, GLO, None) to 'tier1_act3' (unit, GLO, None)> | TemporalDistribution instance with 2 values and total: 1\n",
      "-- technosphere | Exchange: 1 unit 'tier2_act3' (unit, GLO, None) to 'tier1_act3' (unit, GLO, None)> | TemporalDistribution instance with 2 values and total: 1\n",
      "-- technosphere | Exchange: 1 unit 'tier2_act4' (unit, GLO, None) to 'tier1_act3' (unit, GLO, None)> | TemporalDistribution instance with 2 values and total: 1\n",
      "\n",
      "\n",
      "'tier4_act4' (unit, GLO, None)\n",
      "-- production | Exchange: 1 unit 'tier4_act4' (unit, GLO, None) to 'tier4_act4' (unit, GLO, None)> | None\n",
      "-- technosphere | Exchange: 4 kilowatt hour 'electricity voltage transformation from high to medium voltage' (kilowatt hour, IR, None) to 'tier4_act4' (unit, GLO, None)> | TemporalDistribution instance with 2 values and total: 1\n",
      "-- technosphere | Exchange: 4 kilogram 'market for waste graphical paper' (kilogram, XK, None) to 'tier4_act4' (unit, GLO, None)> | TemporalDistribution instance with 2 values and total: 1\n",
      "-- technosphere | Exchange: 4 kilogram 'gold-silver mine operation and beneficiation' (kilogram, CA-QC, None) to 'tier4_act4' (unit, GLO, None)> | TemporalDistribution instance with 2 values and total: 1\n",
      "-- technosphere | Exchange: 4 kilogram 'uranium fuel element production, enriched 4%, for light water reactor' (kilogram, RoW, None) to 'tier4_act4' (unit, GLO, None)> | TemporalDistribution instance with 2 values and total: 1\n",
      "\n",
      "\n",
      "'tier3_act3' (unit, GLO, None)\n",
      "-- production | Exchange: 1 unit 'tier3_act3' (unit, GLO, None) to 'tier3_act3' (unit, GLO, None)> | None\n",
      "-- technosphere | Exchange: 1 unit 'tier4_act1' (unit, GLO, None) to 'tier3_act3' (unit, GLO, None)> | TemporalDistribution instance with 2 values and total: 1\n",
      "-- technosphere | Exchange: 1 unit 'tier4_act2' (unit, GLO, None) to 'tier3_act3' (unit, GLO, None)> | TemporalDistribution instance with 2 values and total: 1\n",
      "-- technosphere | Exchange: 1 unit 'tier4_act3' (unit, GLO, None) to 'tier3_act3' (unit, GLO, None)> | TemporalDistribution instance with 2 values and total: 1\n",
      "-- technosphere | Exchange: 1 unit 'tier4_act4' (unit, GLO, None) to 'tier3_act3' (unit, GLO, None)> | TemporalDistribution instance with 2 values and total: 1\n",
      "\n",
      "\n",
      "'tier3_act1' (unit, GLO, None)\n",
      "-- production | Exchange: 1 unit 'tier3_act1' (unit, GLO, None) to 'tier3_act1' (unit, GLO, None)> | None\n",
      "-- technosphere | Exchange: 1 unit 'tier4_act1' (unit, GLO, None) to 'tier3_act1' (unit, GLO, None)> | TemporalDistribution instance with 2 values and total: 1\n",
      "-- technosphere | Exchange: 1 unit 'tier4_act2' (unit, GLO, None) to 'tier3_act1' (unit, GLO, None)> | TemporalDistribution instance with 2 values and total: 1\n",
      "-- technosphere | Exchange: 1 unit 'tier4_act3' (unit, GLO, None) to 'tier3_act1' (unit, GLO, None)> | TemporalDistribution instance with 2 values and total: 1\n",
      "-- technosphere | Exchange: 1 unit 'tier4_act4' (unit, GLO, None) to 'tier3_act1' (unit, GLO, None)> | TemporalDistribution instance with 2 values and total: 1\n",
      "\n",
      "\n",
      "'tier1_act1' (unit, GLO, None)\n",
      "-- production | Exchange: 1 unit 'tier1_act1' (unit, GLO, None) to 'tier1_act1' (unit, GLO, None)> | None\n",
      "-- technosphere | Exchange: 1 unit 'tier2_act1' (unit, GLO, None) to 'tier1_act1' (unit, GLO, None)> | TemporalDistribution instance with 2 values and total: 1\n",
      "-- technosphere | Exchange: 1 unit 'tier2_act2' (unit, GLO, None) to 'tier1_act1' (unit, GLO, None)> | TemporalDistribution instance with 2 values and total: 1\n",
      "-- technosphere | Exchange: 1 unit 'tier2_act3' (unit, GLO, None) to 'tier1_act1' (unit, GLO, None)> | TemporalDistribution instance with 2 values and total: 1\n",
      "-- technosphere | Exchange: 1 unit 'tier2_act4' (unit, GLO, None) to 'tier1_act1' (unit, GLO, None)> | TemporalDistribution instance with 2 values and total: 1\n",
      "\n",
      "\n",
      "'functional unit' (unit, GLO, None)\n",
      "-- production | Exchange: 1 unit 'functional unit' (unit, GLO, None) to 'functional unit' (unit, GLO, None)> | None\n",
      "-- technosphere | Exchange: 1 unit 'tier1_act1' (unit, GLO, None) to 'functional unit' (unit, GLO, None)> | None\n",
      "-- technosphere | Exchange: 1 unit 'tier1_act2' (unit, GLO, None) to 'functional unit' (unit, GLO, None)> | None\n",
      "-- technosphere | Exchange: 1 unit 'tier1_act3' (unit, GLO, None) to 'functional unit' (unit, GLO, None)> | None\n",
      "-- technosphere | Exchange: 1 unit 'tier1_act4' (unit, GLO, None) to 'functional unit' (unit, GLO, None)> | None\n",
      "\n",
      "\n",
      "'tier2_act1' (unit, GLO, None)\n",
      "-- production | Exchange: 1 unit 'tier2_act1' (unit, GLO, None) to 'tier2_act1' (unit, GLO, None)> | None\n",
      "-- technosphere | Exchange: 1 unit 'tier3_act1' (unit, GLO, None) to 'tier2_act1' (unit, GLO, None)> | TemporalDistribution instance with 2 values and total: 1\n",
      "-- technosphere | Exchange: 1 unit 'tier3_act2' (unit, GLO, None) to 'tier2_act1' (unit, GLO, None)> | TemporalDistribution instance with 2 values and total: 1\n",
      "-- technosphere | Exchange: 1 unit 'tier3_act3' (unit, GLO, None) to 'tier2_act1' (unit, GLO, None)> | TemporalDistribution instance with 2 values and total: 1\n",
      "-- technosphere | Exchange: 1 unit 'tier3_act4' (unit, GLO, None) to 'tier2_act1' (unit, GLO, None)> | TemporalDistribution instance with 2 values and total: 1\n",
      "\n",
      "\n",
      "'tier1_act2' (unit, GLO, None)\n",
      "-- production | Exchange: 1 unit 'tier1_act2' (unit, GLO, None) to 'tier1_act2' (unit, GLO, None)> | None\n",
      "-- technosphere | Exchange: 1 unit 'tier2_act1' (unit, GLO, None) to 'tier1_act2' (unit, GLO, None)> | TemporalDistribution instance with 2 values and total: 1\n",
      "-- technosphere | Exchange: 1 unit 'tier2_act2' (unit, GLO, None) to 'tier1_act2' (unit, GLO, None)> | TemporalDistribution instance with 2 values and total: 1\n",
      "-- technosphere | Exchange: 1 unit 'tier2_act3' (unit, GLO, None) to 'tier1_act2' (unit, GLO, None)> | TemporalDistribution instance with 2 values and total: 1\n",
      "-- technosphere | Exchange: 1 unit 'tier2_act4' (unit, GLO, None) to 'tier1_act2' (unit, GLO, None)> | TemporalDistribution instance with 2 values and total: 1\n",
      "\n",
      "\n",
      "'tier4_act2' (unit, GLO, None)\n",
      "-- production | Exchange: 1 unit 'tier4_act2' (unit, GLO, None) to 'tier4_act2' (unit, GLO, None)> | None\n",
      "-- technosphere | Exchange: 4 hectare 'land use change, pasture, man made' (hectare, BR-BA, None) to 'tier4_act2' (unit, GLO, None)> | TemporalDistribution instance with 2 values and total: 1\n",
      "-- technosphere | Exchange: 4 kilogram 'treatment of used fluorescent lamp' (kilogram, GLO, None) to 'tier4_act2' (unit, GLO, None)> | TemporalDistribution instance with 2 values and total: 1\n",
      "-- technosphere | Exchange: 4 kilogram 'kerosene production, petroleum refinery operation' (kilogram, IN, None) to 'tier4_act2' (unit, GLO, None)> | TemporalDistribution instance with 2 values and total: 1\n",
      "-- technosphere | Exchange: 4 unit 'maintenance, lorry 28 metric ton' (unit, RoW, None) to 'tier4_act2' (unit, GLO, None)> | TemporalDistribution instance with 2 values and total: 1\n",
      "\n",
      "\n",
      "'tier3_act4' (unit, GLO, None)\n",
      "-- production | Exchange: 1 unit 'tier3_act4' (unit, GLO, None) to 'tier3_act4' (unit, GLO, None)> | None\n",
      "-- technosphere | Exchange: 1 unit 'tier4_act1' (unit, GLO, None) to 'tier3_act4' (unit, GLO, None)> | TemporalDistribution instance with 2 values and total: 1\n",
      "-- technosphere | Exchange: 1 unit 'tier4_act2' (unit, GLO, None) to 'tier3_act4' (unit, GLO, None)> | TemporalDistribution instance with 2 values and total: 1\n",
      "-- technosphere | Exchange: 1 unit 'tier4_act3' (unit, GLO, None) to 'tier3_act4' (unit, GLO, None)> | TemporalDistribution instance with 2 values and total: 1\n",
      "-- technosphere | Exchange: 1 unit 'tier4_act4' (unit, GLO, None) to 'tier3_act4' (unit, GLO, None)> | TemporalDistribution instance with 2 values and total: 1\n",
      "\n",
      "\n",
      "'tier3_act2' (unit, GLO, None)\n",
      "-- production | Exchange: 1 unit 'tier3_act2' (unit, GLO, None) to 'tier3_act2' (unit, GLO, None)> | None\n",
      "-- technosphere | Exchange: 1 unit 'tier4_act1' (unit, GLO, None) to 'tier3_act2' (unit, GLO, None)> | TemporalDistribution instance with 2 values and total: 1\n",
      "-- technosphere | Exchange: 1 unit 'tier4_act2' (unit, GLO, None) to 'tier3_act2' (unit, GLO, None)> | TemporalDistribution instance with 2 values and total: 1\n",
      "-- technosphere | Exchange: 1 unit 'tier4_act3' (unit, GLO, None) to 'tier3_act2' (unit, GLO, None)> | TemporalDistribution instance with 2 values and total: 1\n",
      "-- technosphere | Exchange: 1 unit 'tier4_act4' (unit, GLO, None) to 'tier3_act2' (unit, GLO, None)> | TemporalDistribution instance with 2 values and total: 1\n",
      "\n",
      "\n",
      "'tier2_act2' (unit, GLO, None)\n",
      "-- production | Exchange: 1 unit 'tier2_act2' (unit, GLO, None) to 'tier2_act2' (unit, GLO, None)> | None\n",
      "-- technosphere | Exchange: 1 unit 'tier3_act1' (unit, GLO, None) to 'tier2_act2' (unit, GLO, None)> | TemporalDistribution instance with 2 values and total: 1\n",
      "-- technosphere | Exchange: 1 unit 'tier3_act2' (unit, GLO, None) to 'tier2_act2' (unit, GLO, None)> | TemporalDistribution instance with 2 values and total: 1\n",
      "-- technosphere | Exchange: 1 unit 'tier3_act3' (unit, GLO, None) to 'tier2_act2' (unit, GLO, None)> | TemporalDistribution instance with 2 values and total: 1\n",
      "-- technosphere | Exchange: 1 unit 'tier3_act4' (unit, GLO, None) to 'tier2_act2' (unit, GLO, None)> | TemporalDistribution instance with 2 values and total: 1\n",
      "\n",
      "\n",
      "'tier4_act3' (unit, GLO, None)\n",
      "-- production | Exchange: 1 unit 'tier4_act3' (unit, GLO, None) to 'tier4_act3' (unit, GLO, None)> | None\n",
      "-- technosphere | Exchange: 4 kilogram 'market for DTPA, diethylenetriaminepentaacetic acid' (kilogram, RER, None) to 'tier4_act3' (unit, GLO, None)> | TemporalDistribution instance with 2 values and total: 1\n",
      "-- technosphere | Exchange: 4 unit 'photovoltaic open ground installation, 570 kWp, multi-Si, on open ground' (unit, ES, None) to 'tier4_act3' (unit, GLO, None)> | TemporalDistribution instance with 2 values and total: 1\n",
      "-- technosphere | Exchange: 4 kilogram 'land already in use, annual cropland to pasture, man made' (kilogram, BR-AP, None) to 'tier4_act3' (unit, GLO, None)> | TemporalDistribution instance with 2 values and total: 1\n",
      "-- technosphere | Exchange: 4 kilowatt hour 'market group for electricity, low voltage' (kilowatt hour, OCE, None) to 'tier4_act3' (unit, GLO, None)> | TemporalDistribution instance with 2 values and total: 1\n",
      "\n",
      "\n",
      "'tier2_act3' (unit, GLO, None)\n",
      "-- production | Exchange: 1 unit 'tier2_act3' (unit, GLO, None) to 'tier2_act3' (unit, GLO, None)> | None\n",
      "-- technosphere | Exchange: 1 unit 'tier3_act1' (unit, GLO, None) to 'tier2_act3' (unit, GLO, None)> | TemporalDistribution instance with 2 values and total: 1\n",
      "-- technosphere | Exchange: 1 unit 'tier3_act2' (unit, GLO, None) to 'tier2_act3' (unit, GLO, None)> | TemporalDistribution instance with 2 values and total: 1\n",
      "-- technosphere | Exchange: 1 unit 'tier3_act3' (unit, GLO, None) to 'tier2_act3' (unit, GLO, None)> | TemporalDistribution instance with 2 values and total: 1\n",
      "-- technosphere | Exchange: 1 unit 'tier3_act4' (unit, GLO, None) to 'tier2_act3' (unit, GLO, None)> | TemporalDistribution instance with 2 values and total: 1\n",
      "\n",
      "\n"
     ]
    }
   ],
   "source": [
    "# check db entries:\n",
    "# foreground = bd.Database(db_name)\n",
    "# for act in foreground:\n",
    "#     print(act)\n",
    "#     for exc in act.exchanges():\n",
    "#         td = exc.get(\"temporal_distribution\", None)\n",
    "#         print(\"--\", exc[\"type\"],\"|\", exc,\"|\", td)  \n",
    "#     print (\"\\n\")"
   ]
  },
  {
   "cell_type": "code",
   "execution_count": 21,
   "metadata": {},
   "outputs": [],
   "source": [
    "database_dates = {\n",
    "    \"ei310_IMAGE_SSP2_RCP19_2020_electricity\": datetime.strptime(\"2020\", \"%Y\"),\n",
    "    \"ei310_IMAGE_SSP2_RCP19_2030_electricity\": datetime.strptime(\"2030\", \"%Y\"),\n",
    "    \"ei310_IMAGE_SSP2_RCP19_2040_electricity\": datetime.strptime(\"2040\", \"%Y\"),\n",
    "    db_name: \"dynamic\",\n",
    "}"
   ]
  },
  {
   "cell_type": "code",
   "execution_count": 22,
   "metadata": {},
   "outputs": [
    {
     "name": "stdout",
     "output_type": "stream",
     "text": [
      "         3200943 function calls (3190201 primitive calls) in 8.003 seconds\n",
      "\n",
      "   Ordered by: cumulative time\n",
      "   List reduced from 969 to 10 due to restriction <10>\n",
      "\n",
      "   ncalls  tottime  percall  cumtime  percall filename:lineno(function)\n",
      "        1    0.000    0.000    7.999    7.999 C:\\Users\\MULLERA\\OneDrive - VITO\\Documents\\04_Coding\\tictac_lca\\bw_timex\\timex_lca.py:91(__init__)\n",
      "        1    0.000    0.000    3.731    3.731 c:\\Users\\MULLERA\\AppData\\Local\\anaconda3\\envs\\timex_temporalis_local\\Lib\\site-packages\\bw2calc\\lca.py:384(lci)\n",
      "        1    0.033    0.033    3.280    3.280 C:\\Users\\MULLERA\\OneDrive - VITO\\Documents\\04_Coding\\tictac_lca\\bw_timex\\timex_lca.py:986(create_node_collections)\n",
      "        1    0.000    0.000    3.196    3.196 c:\\Users\\MULLERA\\AppData\\Local\\anaconda3\\envs\\timex_temporalis_local\\Lib\\site-packages\\bw2calc\\lca.py:411(lci_calculation)\n",
      "        1    0.000    0.000    3.140    3.140 c:\\Users\\MULLERA\\AppData\\Local\\anaconda3\\envs\\timex_temporalis_local\\Lib\\site-packages\\bw2calc\\lca.py:366(solve_linear_system)\n",
      "        1    0.000    0.000    3.140    3.140 c:\\Users\\MULLERA\\AppData\\Local\\anaconda3\\envs\\timex_temporalis_local\\Lib\\site-packages\\pypardiso\\scipy_aliases.py:12(spsolve)\n",
      "        2    3.129    1.564    3.129    1.564 c:\\Users\\MULLERA\\AppData\\Local\\anaconda3\\envs\\timex_temporalis_local\\Lib\\site-packages\\pypardiso\\pardiso_wrapper.py:266(_call_pardiso)\n",
      "        1    0.002    0.002    3.119    3.119 c:\\Users\\MULLERA\\AppData\\Local\\anaconda3\\envs\\timex_temporalis_local\\Lib\\site-packages\\pypardiso\\pardiso_wrapper.py:145(factorize)\n",
      "    26913    0.106    0.000    3.091    0.000 c:\\Users\\MULLERA\\AppData\\Local\\anaconda3\\envs\\timex_temporalis_local\\Lib\\site-packages\\bw2data\\backends\\base.py:316(__iter__)\n",
      "   112373    0.088    0.000    2.841    0.000 c:\\Users\\MULLERA\\AppData\\Local\\anaconda3\\envs\\timex_temporalis_local\\Lib\\site-packages\\peewee.py:4664(next)\n",
      "\n",
      "\n"
     ]
    },
    {
     "data": {
      "text/plain": [
       "<pstats.Stats at 0x2c90a5edd00>"
      ]
     },
     "execution_count": 22,
     "metadata": {},
     "output_type": "execute_result"
    }
   ],
   "source": [
    "from bw_timex import TimexLCA\n",
    "FU_node = bd.Database(db_name).get(\"FU\")\n",
    "\n",
    "with Profile() as profile:\n",
    "    tlca = TimexLCA(\n",
    "        demand={FU_node: 1},\n",
    "        method=(\"EF v3.1\", \"climate change\", \"global warming potential (GWP100)\"),\n",
    "        database_dates=database_dates,\n",
    "    )\n",
    "Stats(profile).sort_stats(SortKey.CUMULATIVE).print_stats(10)"
   ]
  },
  {
   "cell_type": "code",
   "execution_count": 23,
   "metadata": {},
   "outputs": [
    {
     "name": "stderr",
     "output_type": "stream",
     "text": [
      "C:\\Users\\MULLERA\\OneDrive - VITO\\Documents\\04_Coding\\tictac_lca\\bw_timex\\timex_lca.py:208: UserWarning: No edge filter function provided. Skipping all edges in background databases.\n",
      "  warnings.warn(\n"
     ]
    },
    {
     "name": "stdout",
     "output_type": "stream",
     "text": [
      "Starting graph traversal\n",
      "Calculation count: 1300\n",
      "         16013541 function calls (15410512 primitive calls) in 29.258 seconds\n",
      "\n",
      "   Ordered by: cumulative time\n",
      "   List reduced from 1505 to 10 due to restriction <10>\n",
      "\n",
      "   ncalls  tottime  percall  cumtime  percall filename:lineno(function)\n",
      "        1    0.008    0.008   13.279   13.279 C:\\Users\\MULLERA\\OneDrive - VITO\\Documents\\04_Coding\\tictac_lca\\bw_timex\\timeline_builder.py:29(__init__)\n",
      "    94373    0.113    0.000    9.522    0.000 c:\\Users\\MULLERA\\AppData\\Local\\anaconda3\\envs\\timex_temporalis_local\\Lib\\site-packages\\peewee.py:4664(next)\n",
      "    91773    0.161    0.000    9.409    0.000 c:\\Users\\MULLERA\\AppData\\Local\\anaconda3\\envs\\timex_temporalis_local\\Lib\\site-packages\\peewee.py:4578(iterate)\n",
      "     5548    0.028    0.000    8.290    0.001 c:\\Users\\MULLERA\\AppData\\Local\\anaconda3\\envs\\timex_temporalis_local\\Lib\\site-packages\\peewee.py:2260(_execute)\n",
      "     5548    0.020    0.000    8.197    0.001 c:\\Users\\MULLERA\\AppData\\Local\\anaconda3\\envs\\timex_temporalis_local\\Lib\\site-packages\\peewee.py:3307(execute)\n",
      "        1    0.047    0.047    6.656    6.656 C:\\Users\\MULLERA\\OneDrive - VITO\\Documents\\04_Coding\\tictac_lca\\bw_timex\\edge_extractor.py:70(build_edge_timeline)\n",
      "        1    0.001    0.001    6.615    6.615 C:\\Users\\MULLERA\\OneDrive - VITO\\Documents\\04_Coding\\tictac_lca\\bw_timex\\edge_extractor.py:44(__init__)\n",
      "        1    0.021    0.021    6.614    6.614 C:\\Users\\MULLERA\\OneDrive - VITO\\Documents\\04_Coding\\bw_temporalis\\bw_temporalis\\lca.py:79(__init__)\n",
      "        1    0.012    0.012    6.574    6.574 c:\\Users\\MULLERA\\AppData\\Local\\anaconda3\\envs\\timex_temporalis_local\\Lib\\site-packages\\bw_graph_tools\\graph_traversal.py:205(calculate)\n",
      "     1644    0.030    0.000    6.358    0.004 c:\\Users\\MULLERA\\AppData\\Local\\anaconda3\\envs\\timex_temporalis_local\\Lib\\site-packages\\bw2data\\utils.py:362(get_node)\n",
      "\n",
      "\n"
     ]
    },
    {
     "data": {
      "text/plain": [
       "<pstats.Stats at 0x2c90a87e690>"
      ]
     },
     "execution_count": 23,
     "metadata": {},
     "output_type": "execute_result"
    }
   ],
   "source": [
    "with Profile() as profile:\n",
    "    tlca.build_timeline()\n",
    "    \n",
    "Stats(profile).sort_stats(SortKey.CUMULATIVE).print_stats(10) #1 min"
   ]
  },
  {
   "cell_type": "code",
   "execution_count": 24,
   "metadata": {},
   "outputs": [
    {
     "name": "stdout",
     "output_type": "stream",
     "text": [
      "         44817463 function calls (44615308 primitive calls) in 173.791 seconds\n",
      "\n",
      "   Ordered by: cumulative time\n",
      "   List reduced from 1427 to 10 due to restriction <10>\n",
      "\n",
      "   ncalls  tottime  percall  cumtime  percall filename:lineno(function)\n",
      "     1078    0.045    0.000  131.225    0.122 c:\\Users\\MULLERA\\AppData\\Local\\anaconda3\\envs\\timex_temporalis_local\\Lib\\site-packages\\bw2data\\utils.py:362(get_node)\n",
      "2320/1717    0.005    0.000  119.338    0.070 c:\\Users\\MULLERA\\AppData\\Local\\anaconda3\\envs\\timex_temporalis_local\\Lib\\site-packages\\peewee.py:2012(inner)\n",
      "     1717    0.002    0.000  119.312    0.069 c:\\Users\\MULLERA\\AppData\\Local\\anaconda3\\envs\\timex_temporalis_local\\Lib\\site-packages\\peewee.py:2087(execute)\n",
      "     1514    0.003    0.000  119.116    0.079 c:\\Users\\MULLERA\\AppData\\Local\\anaconda3\\envs\\timex_temporalis_local\\Lib\\site-packages\\peewee.py:7254(__iter__)\n",
      "     1717    0.016    0.000  116.531    0.068 c:\\Users\\MULLERA\\AppData\\Local\\anaconda3\\envs\\timex_temporalis_local\\Lib\\site-packages\\peewee.py:2260(_execute)\n",
      "     1717    0.008    0.000  116.480    0.068 c:\\Users\\MULLERA\\AppData\\Local\\anaconda3\\envs\\timex_temporalis_local\\Lib\\site-packages\\peewee.py:3307(execute)\n",
      "     1717    0.015    0.000  115.138    0.067 c:\\Users\\MULLERA\\AppData\\Local\\anaconda3\\envs\\timex_temporalis_local\\Lib\\site-packages\\peewee.py:3298(execute_sql)\n",
      "     1717  115.106    0.067  115.106    0.067 {method 'execute' of 'sqlite3.Cursor' objects}\n",
      "        1    0.000    0.000   30.197   30.197 C:\\Users\\MULLERA\\OneDrive - VITO\\Documents\\04_Coding\\tictac_lca\\bw_timex\\timex_lca.py:537(build_datapackage)\n",
      "        1    0.000    0.000   30.197   30.197 C:\\Users\\MULLERA\\OneDrive - VITO\\Documents\\04_Coding\\tictac_lca\\bw_timex\\matrix_modifier.py:51(create_datapackage)\n",
      "\n",
      "\n"
     ]
    },
    {
     "data": {
      "text/plain": [
       "<pstats.Stats at 0x2c90e273f50>"
      ]
     },
     "execution_count": 24,
     "metadata": {},
     "output_type": "execute_result"
    }
   ],
   "source": [
    "with Profile() as profile:\n",
    "    tlca.lci()\n",
    "    \n",
    "Stats(profile).sort_stats(SortKey.CUMULATIVE).print_stats(10) #37 secs"
   ]
  },
  {
   "cell_type": "code",
   "execution_count": 25,
   "metadata": {},
   "outputs": [
    {
     "name": "stdout",
     "output_type": "stream",
     "text": [
      "         5725 function calls (5724 primitive calls) in 0.008 seconds\n",
      "\n",
      "   Ordered by: cumulative time\n",
      "   List reduced from 187 to 10 due to restriction <10>\n",
      "\n",
      "   ncalls  tottime  percall  cumtime  percall filename:lineno(function)\n",
      "      2/1    0.000    0.000    0.008    0.008 C:\\Users\\MULLERA\\OneDrive - VITO\\Documents\\04_Coding\\tictac_lca\\bw_timex\\timex_lca.py:360(static_lcia)\n",
      "        1    0.000    0.000    0.008    0.008 c:\\Users\\MULLERA\\AppData\\Local\\anaconda3\\envs\\timex_temporalis_local\\Lib\\site-packages\\bw2calc\\lca.py:424(lcia)\n",
      "        1    0.000    0.000    0.004    0.004 c:\\Users\\MULLERA\\AppData\\Local\\anaconda3\\envs\\timex_temporalis_local\\Lib\\site-packages\\bw2calc\\lca.py:283(load_lcia_data)\n",
      "       25    0.003    0.000    0.004    0.000 c:\\Users\\MULLERA\\AppData\\Local\\anaconda3\\envs\\timex_temporalis_local\\Lib\\site-packages\\bw_processing\\datapackage.py:180(filter_by_attribute)\n",
      "        1    0.000    0.000    0.003    0.003 c:\\Users\\MULLERA\\AppData\\Local\\anaconda3\\envs\\timex_temporalis_local\\Lib\\site-packages\\bw2calc\\utils.py:19(consistent_global_index)\n",
      "        1    0.000    0.000    0.002    0.002 c:\\Users\\MULLERA\\AppData\\Local\\anaconda3\\envs\\timex_temporalis_local\\Lib\\site-packages\\matrix_utils\\mapped_matrix.py:15(__init__)\n",
      "        1    0.000    0.000    0.001    0.001 c:\\Users\\MULLERA\\AppData\\Local\\anaconda3\\envs\\timex_temporalis_local\\Lib\\site-packages\\matrix_utils\\utils.py:6(filter_groups_for_packages)\n",
      "     3870    0.001    0.000    0.001    0.000 {method 'get' of 'dict' objects}\n",
      "        1    0.000    0.000    0.001    0.001 c:\\Users\\MULLERA\\AppData\\Local\\anaconda3\\envs\\timex_temporalis_local\\Lib\\site-packages\\bw2calc\\lca.py:446(lcia_calculation)\n",
      "        1    0.000    0.000    0.001    0.001 c:\\Users\\MULLERA\\AppData\\Local\\anaconda3\\envs\\timex_temporalis_local\\Lib\\site-packages\\scipy\\sparse\\_matrix.py:43(__mul__)\n",
      "\n",
      "\n"
     ]
    },
    {
     "data": {
      "text/plain": [
       "<pstats.Stats at 0x2c90a0e39e0>"
      ]
     },
     "execution_count": 25,
     "metadata": {},
     "output_type": "execute_result"
    }
   ],
   "source": [
    "with Profile() as profile:\n",
    "    tlca.static_lcia()\n",
    "\n",
    "Stats(profile).sort_stats(SortKey.CUMULATIVE).print_stats(10)"
   ]
  },
  {
   "cell_type": "code",
   "execution_count": 26,
   "metadata": {},
   "outputs": [
    {
     "data": {
      "text/plain": [
       "140053819.69744948"
      ]
     },
     "execution_count": 26,
     "metadata": {},
     "output_type": "execute_result"
    }
   ],
   "source": [
    "tlca.static_score"
   ]
  },
  {
   "cell_type": "markdown",
   "metadata": {},
   "source": [
    "### 3) large system\n"
   ]
  },
  {
   "cell_type": "code",
   "execution_count": 27,
   "metadata": {},
   "outputs": [
    {
     "name": "stdout",
     "output_type": "stream",
     "text": [
      "['test_medium']\n",
      "Databases dictionary with 7 object(s):\n",
      "\tbiosphere\n",
      "\tecoinvent-3.10-biosphere\n",
      "\tecoinvent-3.10-cutoff\n",
      "\tei310_IMAGE_SSP2_RCP19_2020_electricity\n",
      "\tei310_IMAGE_SSP2_RCP19_2030_electricity\n",
      "\tei310_IMAGE_SSP2_RCP19_2040_electricity\n",
      "\tforeground\n"
     ]
    }
   ],
   "source": [
    "# needed to avoid multiple results error https://github.com/brightway-lca/bw_timex/issues/101\n",
    "to_delete = []\n",
    "for db in bd.databases: #deleting all test_systems\n",
    "    if \"test\" in db:\n",
    "        to_delete.append(db)\n",
    "print(to_delete)\n",
    "\n",
    "for db in to_delete:\n",
    "    del bd.databases[db] \n",
    "\n",
    "print(bd.databases)"
   ]
  },
  {
   "cell_type": "code",
   "execution_count": 36,
   "metadata": {},
   "outputs": [
    {
     "name": "stdout",
     "output_type": "stream",
     "text": [
      "Database test_large already exists, overwriting.\n",
      "Database test_large created with 21 processes and 108 exchanges. There are 40 different background processes used.\n"
     ]
    }
   ],
   "source": [
    "db_name = \"test_large\"\n",
    "create_standardized_test_system(db_name = db_name, number_tiers = 5, number_processes_per_tier=4,\n",
    "                                td_timesteps= 2, td_dtype = \"timedelta64[Y]\", fixed_random_acts= fixed_random_acts, number_background_exchanges_per_process = 10,\n",
    "                                loop = False)"
   ]
  },
  {
   "cell_type": "code",
   "execution_count": 29,
   "metadata": {},
   "outputs": [],
   "source": [
    "# # check db entries:\n",
    "# foreground = bd.Database(db_name)\n",
    "# for act in foreground:\n",
    "#     print(act)\n",
    "#     for exc in act.exchanges():\n",
    "#         td = exc.get(\"temporal_distribution\", None)\n",
    "#         print(\"--\", exc[\"type\"],\"|\", exc,\"|\", td)  \n",
    "#     print (\"\\n\")"
   ]
  },
  {
   "cell_type": "code",
   "execution_count": 37,
   "metadata": {},
   "outputs": [],
   "source": [
    "database_dates = {\n",
    "    \"ei310_IMAGE_SSP2_RCP19_2020_electricity\": datetime.strptime(\"2020\", \"%Y\"),\n",
    "    \"ei310_IMAGE_SSP2_RCP19_2030_electricity\": datetime.strptime(\"2030\", \"%Y\"),\n",
    "    \"ei310_IMAGE_SSP2_RCP19_2040_electricity\": datetime.strptime(\"2040\", \"%Y\"),\n",
    "    db_name: \"dynamic\",\n",
    "}"
   ]
  },
  {
   "cell_type": "code",
   "execution_count": 38,
   "metadata": {},
   "outputs": [
    {
     "name": "stdout",
     "output_type": "stream",
     "text": [
      "         3276515 function calls (3261511 primitive calls) in 10.271 seconds\n",
      "\n",
      "   Ordered by: cumulative time\n",
      "   List reduced from 1018 to 10 due to restriction <10>\n",
      "\n",
      "   ncalls  tottime  percall  cumtime  percall filename:lineno(function)\n",
      "   151/87    0.007    0.000   18.335    0.211 c:\\Users\\MULLERA\\AppData\\Local\\anaconda3\\envs\\timex_temporalis_local\\Lib\\queue.py:154(get)\n",
      "      167    0.101    0.001   10.982    0.066 c:\\Users\\MULLERA\\AppData\\Local\\anaconda3\\envs\\timex_temporalis_local\\Lib\\threading.py:323(wait)\n",
      "   112569    0.278    0.000    4.750    0.000 c:\\Users\\MULLERA\\AppData\\Local\\anaconda3\\envs\\timex_temporalis_local\\Lib\\site-packages\\peewee.py:4664(next)\n",
      "   112569    0.367    0.000    4.272    0.000 c:\\Users\\MULLERA\\AppData\\Local\\anaconda3\\envs\\timex_temporalis_local\\Lib\\site-packages\\peewee.py:4578(iterate)\n",
      "26918/26917    0.271    0.000    4.224    0.000 c:\\Users\\MULLERA\\AppData\\Local\\anaconda3\\envs\\timex_temporalis_local\\Lib\\site-packages\\bw2data\\backends\\base.py:316(__iter__)\n",
      "        1    0.001    0.001    2.476    2.476 c:\\Users\\MULLERA\\AppData\\Local\\anaconda3\\envs\\timex_temporalis_local\\Lib\\site-packages\\bw2calc\\lca.py:366(solve_linear_system)\n",
      "        1    0.191    0.191    2.174    2.174 C:\\Users\\MULLERA\\OneDrive - VITO\\Documents\\04_Coding\\tictac_lca\\bw_timex\\timex_lca.py:717(prepare_base_lca_inputs)\n",
      "    27153    0.184    0.000    2.056    0.000 c:\\Users\\MULLERA\\AppData\\Local\\anaconda3\\envs\\timex_temporalis_local\\Lib\\site-packages\\peewee.py:7894(process_row)\n",
      "    27303    0.421    0.000    1.198    0.000 c:\\Users\\MULLERA\\AppData\\Local\\anaconda3\\envs\\timex_temporalis_local\\Lib\\site-packages\\peewee.py:7852(process_row)\n",
      "    85086    0.469    0.000    0.996    0.000 c:\\Users\\MULLERA\\AppData\\Local\\anaconda3\\envs\\timex_temporalis_local\\Lib\\site-packages\\peewee.py:7871(process_row)\n",
      "\n",
      "\n"
     ]
    },
    {
     "data": {
      "text/plain": [
       "<pstats.Stats at 0x2c93ebe7da0>"
      ]
     },
     "execution_count": 38,
     "metadata": {},
     "output_type": "execute_result"
    }
   ],
   "source": [
    "from bw_timex import TimexLCA\n",
    "FU_node = bd.Database(db_name).get(\"FU\")\n",
    "\n",
    "with Profile() as profile:\n",
    "    tlca = TimexLCA(\n",
    "        demand={FU_node: 1},\n",
    "        method=(\"EF v3.1\", \"climate change\", \"global warming potential (GWP100)\"),\n",
    "        database_dates=database_dates,\n",
    "    )\n",
    "Stats(profile).sort_stats(SortKey.CUMULATIVE).print_stats(10)"
   ]
  },
  {
   "cell_type": "code",
   "execution_count": 39,
   "metadata": {},
   "outputs": [
    {
     "name": "stderr",
     "output_type": "stream",
     "text": [
      "C:\\Users\\MULLERA\\OneDrive - VITO\\Documents\\04_Coding\\tictac_lca\\bw_timex\\timex_lca.py:208: UserWarning: No edge filter function provided. Skipping all edges in background databases.\n",
      "  warnings.warn(\n"
     ]
    },
    {
     "name": "stdout",
     "output_type": "stream",
     "text": [
      "Starting graph traversal\n"
     ]
    },
    {
     "name": "stderr",
     "output_type": "stream",
     "text": [
      "c:\\Users\\MULLERA\\AppData\\Local\\anaconda3\\envs\\timex_temporalis_local\\Lib\\site-packages\\bw_graph_tools\\graph_traversal.py:473: UserWarning: Stopping traversal due to calculation count.\n",
      "  warnings.warn(\"Stopping traversal due to calculation count.\")\n"
     ]
    },
    {
     "name": "stdout",
     "output_type": "stream",
     "text": [
      "Calculation count: 2003\n",
      "         20016303 function calls (19340280 primitive calls) in 53.484 seconds\n",
      "\n",
      "   Ordered by: cumulative time\n",
      "   List reduced from 1501 to 10 due to restriction <10>\n",
      "\n",
      "   ncalls  tottime  percall  cumtime  percall filename:lineno(function)\n",
      "  784/444    0.090    0.000   72.284    0.163 c:\\Users\\MULLERA\\AppData\\Local\\anaconda3\\envs\\timex_temporalis_local\\Lib\\queue.py:154(get)\n",
      "2004/2003    0.021    0.000   38.254    0.019 C:\\Users\\MULLERA\\OneDrive - VITO\\Documents\\04_Coding\\bw_temporalis\\bw_temporalis\\lca.py:314(get_technosphere_exchange)\n",
      "     2003    0.143    0.000   30.114    0.015 C:\\Users\\MULLERA\\OneDrive - VITO\\Documents\\04_Coding\\bw_temporalis\\bw_temporalis\\lca.py:290(_exchange_iterator)\n",
      "8125/8123    0.028    0.000   19.389    0.002 c:\\Users\\MULLERA\\AppData\\Local\\anaconda3\\envs\\timex_temporalis_local\\Lib\\site-packages\\peewee.py:2012(inner)\n",
      "     8123    0.021    0.000   19.361    0.002 c:\\Users\\MULLERA\\AppData\\Local\\anaconda3\\envs\\timex_temporalis_local\\Lib\\site-packages\\peewee.py:2087(execute)\n",
      "     8123    0.082    0.000   18.989    0.002 c:\\Users\\MULLERA\\AppData\\Local\\anaconda3\\envs\\timex_temporalis_local\\Lib\\site-packages\\peewee.py:2260(_execute)\n",
      "       23    0.016    0.001   16.592    0.721 c:\\Users\\MULLERA\\AppData\\Local\\anaconda3\\envs\\timex_temporalis_local\\Lib\\asyncio\\base_events.py:1910(_run_once)\n",
      "     8123    0.092    0.000   16.454    0.002 c:\\Users\\MULLERA\\AppData\\Local\\anaconda3\\envs\\timex_temporalis_local\\Lib\\site-packages\\peewee.py:3307(execute)\n",
      "499426/8123    1.384    0.000   14.886    0.002 c:\\Users\\MULLERA\\AppData\\Local\\anaconda3\\envs\\timex_temporalis_local\\Lib\\site-packages\\peewee.py:662(sql)\n",
      "     8123    0.520    0.000   14.814    0.002 c:\\Users\\MULLERA\\AppData\\Local\\anaconda3\\envs\\timex_temporalis_local\\Lib\\site-packages\\peewee.py:2508(__sql__)\n",
      "\n",
      "\n"
     ]
    },
    {
     "data": {
      "text/plain": [
       "<pstats.Stats at 0x2c90b3278f0>"
      ]
     },
     "execution_count": 39,
     "metadata": {},
     "output_type": "execute_result"
    }
   ],
   "source": [
    "with Profile() as profile:\n",
    "    tlca.build_timeline()\n",
    "    \n",
    "Stats(profile).sort_stats(SortKey.CUMULATIVE).print_stats(10) #43 sec"
   ]
  },
  {
   "cell_type": "code",
   "execution_count": 40,
   "metadata": {},
   "outputs": [
    {
     "name": "stdout",
     "output_type": "stream",
     "text": [
      "         36717253 function calls (36448066 primitive calls) in 254.859 seconds\n",
      "\n",
      "   Ordered by: cumulative time\n",
      "   List reduced from 1404 to 10 due to restriction <10>\n",
      "\n",
      "   ncalls  tottime  percall  cumtime  percall filename:lineno(function)\n",
      "3782/2156    4.570    0.001  465.395    0.216 c:\\Users\\MULLERA\\AppData\\Local\\anaconda3\\envs\\timex_temporalis_local\\Lib\\queue.py:154(get)\n",
      "     1627    2.331    0.001  351.015    0.216 c:\\Users\\MULLERA\\AppData\\Local\\anaconda3\\envs\\timex_temporalis_local\\Lib\\threading.py:637(wait)\n",
      "     4017    7.364    0.002  219.295    0.055 c:\\Users\\MULLERA\\AppData\\Local\\anaconda3\\envs\\timex_temporalis_local\\Lib\\threading.py:323(wait)\n",
      "     1412    0.110    0.000  171.965    0.122 c:\\Users\\MULLERA\\AppData\\Local\\anaconda3\\envs\\timex_temporalis_local\\Lib\\site-packages\\bw2data\\utils.py:362(get_node)\n",
      "3442/2455    0.015    0.000  164.844    0.067 c:\\Users\\MULLERA\\AppData\\Local\\anaconda3\\envs\\timex_temporalis_local\\Lib\\site-packages\\peewee.py:2012(inner)\n",
      "     2455    0.007    0.000  164.769    0.067 c:\\Users\\MULLERA\\AppData\\Local\\anaconda3\\envs\\timex_temporalis_local\\Lib\\site-packages\\peewee.py:2087(execute)\n",
      "     2124    0.010    0.000  164.148    0.077 c:\\Users\\MULLERA\\AppData\\Local\\anaconda3\\envs\\timex_temporalis_local\\Lib\\site-packages\\peewee.py:7254(__iter__)\n",
      "     2455    0.076    0.000  160.493    0.065 c:\\Users\\MULLERA\\AppData\\Local\\anaconda3\\envs\\timex_temporalis_local\\Lib\\site-packages\\peewee.py:2260(_execute)\n",
      "        1    0.000    0.000   26.575   26.575 C:\\Users\\MULLERA\\OneDrive - VITO\\Documents\\04_Coding\\tictac_lca\\bw_timex\\timex_lca.py:537(build_datapackage)\n",
      "      415    0.040    0.000   25.826    0.062 C:\\Users\\MULLERA\\OneDrive - VITO\\Documents\\04_Coding\\tictac_lca\\bw_timex\\matrix_modifier.py:176(add_row_to_datapackage)\n",
      "\n",
      "\n"
     ]
    },
    {
     "data": {
      "text/plain": [
       "<pstats.Stats at 0x2c93eb8fbf0>"
      ]
     },
     "execution_count": 40,
     "metadata": {},
     "output_type": "execute_result"
    }
   ],
   "source": [
    "with Profile() as profile:\n",
    "    tlca.lci()\n",
    "    \n",
    "Stats(profile).sort_stats(SortKey.CUMULATIVE).print_stats(10)"
   ]
  },
  {
   "cell_type": "code",
   "execution_count": 41,
   "metadata": {},
   "outputs": [
    {
     "name": "stdout",
     "output_type": "stream",
     "text": [
      "         6226 function calls in 0.016 seconds\n",
      "\n",
      "   Ordered by: cumulative time\n",
      "   List reduced from 213 to 10 due to restriction <10>\n",
      "\n",
      "   ncalls  tottime  percall  cumtime  percall filename:lineno(function)\n",
      "        1    0.000    0.000    0.016    0.016 c:\\Users\\MULLERA\\AppData\\Local\\anaconda3\\envs\\timex_temporalis_local\\Lib\\site-packages\\bw2calc\\lca.py:424(lcia)\n",
      "        1    0.000    0.000    0.016    0.016 c:\\Users\\MULLERA\\AppData\\Local\\anaconda3\\envs\\timex_temporalis_local\\Lib\\site-packages\\bw2calc\\lca.py:446(lcia_calculation)\n",
      "        1    0.000    0.000    0.016    0.016 c:\\Users\\MULLERA\\AppData\\Local\\anaconda3\\envs\\timex_temporalis_local\\Lib\\site-packages\\scipy\\sparse\\_matrix.py:43(__mul__)\n",
      "       25    0.008    0.000    0.009    0.000 c:\\Users\\MULLERA\\AppData\\Local\\anaconda3\\envs\\timex_temporalis_local\\Lib\\site-packages\\bw_processing\\datapackage.py:180(filter_by_attribute)\n",
      "        1    0.000    0.000    0.009    0.009 c:\\Users\\MULLERA\\AppData\\Local\\anaconda3\\envs\\timex_temporalis_local\\Lib\\site-packages\\bw2calc\\lca.py:283(load_lcia_data)\n",
      "        1    0.000    0.000    0.009    0.009 c:\\Users\\MULLERA\\AppData\\Local\\anaconda3\\envs\\timex_temporalis_local\\Lib\\site-packages\\matrix_utils\\mapped_matrix.py:15(__init__)\n",
      "        1    0.000    0.000    0.006    0.006 c:\\Users\\MULLERA\\AppData\\Local\\anaconda3\\envs\\timex_temporalis_local\\Lib\\site-packages\\bw2calc\\utils.py:19(consistent_global_index)\n",
      "        1    0.000    0.000    0.003    0.003 c:\\Users\\MULLERA\\AppData\\Local\\anaconda3\\envs\\timex_temporalis_local\\Lib\\site-packages\\matrix_utils\\utils.py:6(filter_groups_for_packages)\n",
      "        2    0.000    0.000    0.002    0.001 c:\\Users\\MULLERA\\AppData\\Local\\anaconda3\\envs\\timex_temporalis_local\\Lib\\site-packages\\matrix_utils\\aggregation.py:5(aggregate_with_sparse)\n",
      "        5    0.000    0.000    0.002    0.000 c:\\Users\\MULLERA\\AppData\\Local\\anaconda3\\envs\\timex_temporalis_local\\Lib\\site-packages\\scipy\\sparse\\_coo.py:27(__init__)\n",
      "\n",
      "\n"
     ]
    },
    {
     "data": {
      "text/plain": [
       "<pstats.Stats at 0x2c94d661940>"
      ]
     },
     "execution_count": 41,
     "metadata": {},
     "output_type": "execute_result"
    }
   ],
   "source": [
    "with Profile() as profile:\n",
    "    tlca.static_lcia()\n",
    "\n",
    "Stats(profile).sort_stats(SortKey.CUMULATIVE).print_stats(10)"
   ]
  },
  {
   "cell_type": "code",
   "execution_count": 42,
   "metadata": {},
   "outputs": [
    {
     "data": {
      "text/plain": [
       "538237164.3091656"
      ]
     },
     "execution_count": 42,
     "metadata": {},
     "output_type": "execute_result"
    }
   ],
   "source": [
    "tlca.static_score"
   ]
  },
  {
   "cell_type": "markdown",
   "metadata": {},
   "source": [
    "### 4) small system with loop"
   ]
  },
  {
   "cell_type": "code",
   "execution_count": 43,
   "metadata": {},
   "outputs": [
    {
     "name": "stdout",
     "output_type": "stream",
     "text": [
      "['test_large']\n",
      "Databases dictionary with 7 object(s):\n",
      "\tbiosphere\n",
      "\tecoinvent-3.10-biosphere\n",
      "\tecoinvent-3.10-cutoff\n",
      "\tei310_IMAGE_SSP2_RCP19_2020_electricity\n",
      "\tei310_IMAGE_SSP2_RCP19_2030_electricity\n",
      "\tei310_IMAGE_SSP2_RCP19_2040_electricity\n",
      "\tforeground\n"
     ]
    }
   ],
   "source": [
    "# needed to avoid multiple results error https://github.com/brightway-lca/bw_timex/issues/101\n",
    "to_delete = []\n",
    "for db in bd.databases: #deleting all test_systems\n",
    "    if \"test\" in db:\n",
    "        to_delete.append(db)\n",
    "print(to_delete)\n",
    "\n",
    "for db in to_delete:\n",
    "    del bd.databases[db] \n",
    "\n",
    "print(bd.databases)"
   ]
  },
  {
   "cell_type": "code",
   "execution_count": 44,
   "metadata": {},
   "outputs": [
    {
     "name": "stdout",
     "output_type": "stream",
     "text": [
      "Database test_loop created with 7 processes and 19 exchanges. There are 6 different background processes used.\n"
     ]
    }
   ],
   "source": [
    "\n",
    "db_name = \"test_loop\"\n",
    "create_standardized_test_system(db_name = db_name, number_tiers = 2, number_processes_per_tier=3,\n",
    "                                td_timesteps= 2, td_dtype = \"timedelta64[Y]\",  fixed_random_acts= fixed_random_acts, number_background_exchanges_per_process = 2, \n",
    "                                loop = True)"
   ]
  },
  {
   "cell_type": "code",
   "execution_count": 45,
   "metadata": {},
   "outputs": [],
   "source": [
    "# # check db entries:\n",
    "# foreground = bd.Database(db_name)\n",
    "# for act in foreground:\n",
    "#     print(act)\n",
    "#     for exc in act.exchanges():\n",
    "#         td = exc.get(\"temporal_distribution\", None)\n",
    "#         print(\"--\", exc[\"type\"],\"|\", exc,\"|\", td)  \n",
    "#     print (\"\\n\")"
   ]
  },
  {
   "cell_type": "code",
   "execution_count": 46,
   "metadata": {},
   "outputs": [],
   "source": [
    "database_dates = {\n",
    "    \"ei310_IMAGE_SSP2_RCP19_2020_electricity\": datetime.strptime(\"2020\", \"%Y\"),\n",
    "    \"ei310_IMAGE_SSP2_RCP19_2030_electricity\": datetime.strptime(\"2030\", \"%Y\"),\n",
    "    \"ei310_IMAGE_SSP2_RCP19_2040_electricity\": datetime.strptime(\"2040\", \"%Y\"),\n",
    "    db_name: \"dynamic\",\n",
    "}"
   ]
  },
  {
   "cell_type": "code",
   "execution_count": 47,
   "metadata": {},
   "outputs": [
    {
     "name": "stdout",
     "output_type": "stream",
     "text": [
      "         3085519 function calls (3079666 primitive calls) in 9.314 seconds\n",
      "\n",
      "   Ordered by: cumulative time\n",
      "   List reduced from 1023 to 10 due to restriction <10>\n",
      "\n",
      "   ncalls  tottime  percall  cumtime  percall filename:lineno(function)\n",
      "      153    0.088    0.001   16.859    0.110 c:\\Users\\MULLERA\\AppData\\Local\\anaconda3\\envs\\timex_temporalis_local\\Lib\\threading.py:323(wait)\n",
      "   134/76    0.006    0.000   16.033    0.211 c:\\Users\\MULLERA\\AppData\\Local\\anaconda3\\envs\\timex_temporalis_local\\Lib\\queue.py:154(get)\n",
      "        1    0.000    0.000    4.934    4.934 C:\\Users\\MULLERA\\OneDrive - VITO\\Documents\\04_Coding\\tictac_lca\\bw_timex\\timex_lca.py:91(__init__)\n",
      "   112087    0.253    0.000    4.470    0.000 c:\\Users\\MULLERA\\AppData\\Local\\anaconda3\\envs\\timex_temporalis_local\\Lib\\site-packages\\peewee.py:4664(next)\n",
      "   112087    0.334    0.000    4.215    0.000 c:\\Users\\MULLERA\\AppData\\Local\\anaconda3\\envs\\timex_temporalis_local\\Lib\\site-packages\\peewee.py:4578(iterate)\n",
      "    26903    0.224    0.000    4.009    0.000 c:\\Users\\MULLERA\\AppData\\Local\\anaconda3\\envs\\timex_temporalis_local\\Lib\\site-packages\\bw2data\\backends\\base.py:316(__iter__)\n",
      "        1    0.000    0.000    2.897    2.897 c:\\Users\\MULLERA\\AppData\\Local\\anaconda3\\envs\\timex_temporalis_local\\Lib\\site-packages\\bw2calc\\lca.py:384(lci)\n",
      "        1    0.000    0.000    2.404    2.404 c:\\Users\\MULLERA\\AppData\\Local\\anaconda3\\envs\\timex_temporalis_local\\Lib\\site-packages\\bw2calc\\lca.py:411(lci_calculation)\n",
      "        1    0.001    0.001    2.344    2.344 c:\\Users\\MULLERA\\AppData\\Local\\anaconda3\\envs\\timex_temporalis_local\\Lib\\site-packages\\bw2calc\\lca.py:366(solve_linear_system)\n",
      "        1    0.176    0.176    1.941    1.941 C:\\Users\\MULLERA\\OneDrive - VITO\\Documents\\04_Coding\\tictac_lca\\bw_timex\\timex_lca.py:717(prepare_base_lca_inputs)\n",
      "\n",
      "\n"
     ]
    },
    {
     "data": {
      "text/plain": [
       "<pstats.Stats at 0x2c91265d3d0>"
      ]
     },
     "execution_count": 47,
     "metadata": {},
     "output_type": "execute_result"
    }
   ],
   "source": [
    "from bw_timex import TimexLCA\n",
    "FU_node = bd.Database(db_name).get(\"FU\")\n",
    "\n",
    "with Profile() as profile:\n",
    "    tlca = TimexLCA(\n",
    "        demand={FU_node: 1},\n",
    "        method=(\"EF v3.1\", \"climate change\", \"global warming potential (GWP100)\"),\n",
    "        database_dates=database_dates,\n",
    "    )\n",
    "Stats(profile).sort_stats(SortKey.CUMULATIVE).print_stats(10)"
   ]
  },
  {
   "cell_type": "code",
   "execution_count": 48,
   "metadata": {},
   "outputs": [
    {
     "name": "stderr",
     "output_type": "stream",
     "text": [
      "C:\\Users\\MULLERA\\OneDrive - VITO\\Documents\\04_Coding\\tictac_lca\\bw_timex\\timex_lca.py:208: UserWarning: No edge filter function provided. Skipping all edges in background databases.\n",
      "  warnings.warn(\n"
     ]
    },
    {
     "name": "stdout",
     "output_type": "stream",
     "text": [
      "Starting graph traversal\n",
      "Calculation count: 378\n"
     ]
    },
    {
     "name": "stderr",
     "output_type": "stream",
     "text": [
      "C:\\Users\\MULLERA\\OneDrive - VITO\\Documents\\04_Coding\\tictac_lca\\bw_timex\\timeline_builder.py:537: Warning: Reference date 2041-01-01 00:00:00 is higher than all provided dates. Data will be taken from the closest lower year.\n",
      "  warnings.warn(\n",
      "C:\\Users\\MULLERA\\OneDrive - VITO\\Documents\\04_Coding\\tictac_lca\\bw_timex\\timeline_builder.py:537: Warning: Reference date 2042-01-01 00:00:00 is higher than all provided dates. Data will be taken from the closest lower year.\n",
      "  warnings.warn(\n",
      "C:\\Users\\MULLERA\\OneDrive - VITO\\Documents\\04_Coding\\tictac_lca\\bw_timex\\timeline_builder.py:537: Warning: Reference date 2043-01-01 00:00:00 is higher than all provided dates. Data will be taken from the closest lower year.\n",
      "  warnings.warn(\n",
      "C:\\Users\\MULLERA\\OneDrive - VITO\\Documents\\04_Coding\\tictac_lca\\bw_timex\\timeline_builder.py:537: Warning: Reference date 2044-01-01 00:00:00 is higher than all provided dates. Data will be taken from the closest lower year.\n",
      "  warnings.warn(\n",
      "C:\\Users\\MULLERA\\OneDrive - VITO\\Documents\\04_Coding\\tictac_lca\\bw_timex\\timeline_builder.py:537: Warning: Reference date 2045-01-01 00:00:00 is higher than all provided dates. Data will be taken from the closest lower year.\n",
      "  warnings.warn(\n",
      "C:\\Users\\MULLERA\\OneDrive - VITO\\Documents\\04_Coding\\tictac_lca\\bw_timex\\timeline_builder.py:537: Warning: Reference date 2046-01-01 00:00:00 is higher than all provided dates. Data will be taken from the closest lower year.\n",
      "  warnings.warn(\n",
      "C:\\Users\\MULLERA\\OneDrive - VITO\\Documents\\04_Coding\\tictac_lca\\bw_timex\\timeline_builder.py:537: Warning: Reference date 2047-01-01 00:00:00 is higher than all provided dates. Data will be taken from the closest lower year.\n",
      "  warnings.warn(\n",
      "C:\\Users\\MULLERA\\OneDrive - VITO\\Documents\\04_Coding\\tictac_lca\\bw_timex\\timeline_builder.py:537: Warning: Reference date 2048-01-01 00:00:00 is higher than all provided dates. Data will be taken from the closest lower year.\n",
      "  warnings.warn(\n",
      "C:\\Users\\MULLERA\\OneDrive - VITO\\Documents\\04_Coding\\tictac_lca\\bw_timex\\timeline_builder.py:537: Warning: Reference date 2049-01-01 00:00:00 is higher than all provided dates. Data will be taken from the closest lower year.\n",
      "  warnings.warn(\n",
      "C:\\Users\\MULLERA\\OneDrive - VITO\\Documents\\04_Coding\\tictac_lca\\bw_timex\\timeline_builder.py:537: Warning: Reference date 2050-01-01 00:00:00 is higher than all provided dates. Data will be taken from the closest lower year.\n",
      "  warnings.warn(\n",
      "C:\\Users\\MULLERA\\OneDrive - VITO\\Documents\\04_Coding\\tictac_lca\\bw_timex\\timeline_builder.py:537: Warning: Reference date 2051-01-01 00:00:00 is higher than all provided dates. Data will be taken from the closest lower year.\n",
      "  warnings.warn(\n",
      "C:\\Users\\MULLERA\\OneDrive - VITO\\Documents\\04_Coding\\tictac_lca\\bw_timex\\timeline_builder.py:537: Warning: Reference date 2052-01-01 00:00:00 is higher than all provided dates. Data will be taken from the closest lower year.\n",
      "  warnings.warn(\n",
      "C:\\Users\\MULLERA\\OneDrive - VITO\\Documents\\04_Coding\\tictac_lca\\bw_timex\\timeline_builder.py:537: Warning: Reference date 2053-01-01 00:00:00 is higher than all provided dates. Data will be taken from the closest lower year.\n",
      "  warnings.warn(\n",
      "C:\\Users\\MULLERA\\OneDrive - VITO\\Documents\\04_Coding\\tictac_lca\\bw_timex\\timeline_builder.py:537: Warning: Reference date 2054-01-01 00:00:00 is higher than all provided dates. Data will be taken from the closest lower year.\n",
      "  warnings.warn(\n",
      "C:\\Users\\MULLERA\\OneDrive - VITO\\Documents\\04_Coding\\tictac_lca\\bw_timex\\timeline_builder.py:537: Warning: Reference date 2055-01-01 00:00:00 is higher than all provided dates. Data will be taken from the closest lower year.\n",
      "  warnings.warn(\n",
      "C:\\Users\\MULLERA\\OneDrive - VITO\\Documents\\04_Coding\\tictac_lca\\bw_timex\\timeline_builder.py:537: Warning: Reference date 2056-01-01 00:00:00 is higher than all provided dates. Data will be taken from the closest lower year.\n",
      "  warnings.warn(\n",
      "C:\\Users\\MULLERA\\OneDrive - VITO\\Documents\\04_Coding\\tictac_lca\\bw_timex\\timeline_builder.py:537: Warning: Reference date 2057-01-01 00:00:00 is higher than all provided dates. Data will be taken from the closest lower year.\n",
      "  warnings.warn(\n",
      "C:\\Users\\MULLERA\\OneDrive - VITO\\Documents\\04_Coding\\tictac_lca\\bw_timex\\timeline_builder.py:537: Warning: Reference date 2058-01-01 00:00:00 is higher than all provided dates. Data will be taken from the closest lower year.\n",
      "  warnings.warn(\n",
      "C:\\Users\\MULLERA\\OneDrive - VITO\\Documents\\04_Coding\\tictac_lca\\bw_timex\\timeline_builder.py:537: Warning: Reference date 2059-01-01 00:00:00 is higher than all provided dates. Data will be taken from the closest lower year.\n",
      "  warnings.warn(\n"
     ]
    },
    {
     "name": "stdout",
     "output_type": "stream",
     "text": [
      "         11872979 function calls (11417391 primitive calls) in 33.512 seconds\n",
      "\n",
      "   Ordered by: cumulative time\n",
      "   List reduced from 1520 to 10 due to restriction <10>\n",
      "\n",
      "   ncalls  tottime  percall  cumtime  percall filename:lineno(function)\n",
      "  464/101    0.084    0.000   23.012    0.228 c:\\Users\\MULLERA\\AppData\\Local\\anaconda3\\envs\\timex_temporalis_local\\Lib\\queue.py:154(get)\n",
      "      202    0.069    0.000   14.910    0.074 c:\\Users\\MULLERA\\AppData\\Local\\anaconda3\\envs\\timex_temporalis_local\\Lib\\threading.py:637(wait)\n",
      "    88527    0.264    0.000    9.809    0.000 c:\\Users\\MULLERA\\AppData\\Local\\anaconda3\\envs\\timex_temporalis_local\\Lib\\site-packages\\peewee.py:4664(next)\n",
      "    87771    0.340    0.000    9.278    0.000 c:\\Users\\MULLERA\\AppData\\Local\\anaconda3\\envs\\timex_temporalis_local\\Lib\\site-packages\\peewee.py:4578(iterate)\n",
      "3549/3547    0.011    0.000    8.268    0.002 c:\\Users\\MULLERA\\AppData\\Local\\anaconda3\\envs\\timex_temporalis_local\\Lib\\site-packages\\peewee.py:2012(inner)\n",
      "     3547    0.008    0.000    8.196    0.002 c:\\Users\\MULLERA\\AppData\\Local\\anaconda3\\envs\\timex_temporalis_local\\Lib\\site-packages\\peewee.py:2087(execute)\n",
      "     3547    0.033    0.000    8.126    0.002 c:\\Users\\MULLERA\\AppData\\Local\\anaconda3\\envs\\timex_temporalis_local\\Lib\\site-packages\\peewee.py:2260(_execute)\n",
      "        1    0.002    0.002    8.081    8.081 C:\\Users\\MULLERA\\OneDrive - VITO\\Documents\\04_Coding\\tictac_lca\\bw_timex\\timex_lca.py:151(build_timeline)\n",
      "     2409    0.134    0.000    6.624    0.003 c:\\Users\\MULLERA\\AppData\\Local\\anaconda3\\envs\\timex_temporalis_local\\Lib\\site-packages\\bw2data\\utils.py:362(get_node)\n",
      "     3547    0.036    0.000    6.555    0.002 c:\\Users\\MULLERA\\AppData\\Local\\anaconda3\\envs\\timex_temporalis_local\\Lib\\site-packages\\peewee.py:3307(execute)\n",
      "\n",
      "\n"
     ]
    },
    {
     "data": {
      "text/plain": [
       "<pstats.Stats at 0x2c90b2de630>"
      ]
     },
     "execution_count": 48,
     "metadata": {},
     "output_type": "execute_result"
    }
   ],
   "source": [
    "with Profile() as profile:\n",
    "    tlca.build_timeline()\n",
    "    \n",
    "Stats(profile).sort_stats(SortKey.CUMULATIVE).print_stats(10)"
   ]
  },
  {
   "cell_type": "code",
   "execution_count": 49,
   "metadata": {},
   "outputs": [
    {
     "name": "stdout",
     "output_type": "stream",
     "text": [
      "         90711622 function calls (90433195 primitive calls) in 333.622 seconds\n",
      "\n",
      "   Ordered by: cumulative time\n",
      "   List reduced from 1421 to 10 due to restriction <10>\n",
      "\n",
      "   ncalls  tottime  percall  cumtime  percall filename:lineno(function)\n",
      "4847/2745    9.899    0.002  460.554    0.168 c:\\Users\\MULLERA\\AppData\\Local\\anaconda3\\envs\\timex_temporalis_local\\Lib\\queue.py:154(get)\n",
      "     2105    5.970    0.003  418.366    0.199 c:\\Users\\MULLERA\\AppData\\Local\\anaconda3\\envs\\timex_temporalis_local\\Lib\\threading.py:637(wait)\n",
      "       68    0.057    0.001  352.680    5.186 c:\\Users\\MULLERA\\AppData\\Local\\anaconda3\\envs\\timex_temporalis_local\\Lib\\asyncio\\base_events.py:1910(_run_once)\n",
      "     5107   19.687    0.004  266.560    0.052 c:\\Users\\MULLERA\\AppData\\Local\\anaconda3\\envs\\timex_temporalis_local\\Lib\\threading.py:323(wait)\n",
      "     1689    0.132    0.000  140.724    0.083 c:\\Users\\MULLERA\\AppData\\Local\\anaconda3\\envs\\timex_temporalis_local\\Lib\\site-packages\\bw2data\\utils.py:362(get_node)\n",
      "3218/2516    0.012    0.000  125.160    0.050 c:\\Users\\MULLERA\\AppData\\Local\\anaconda3\\envs\\timex_temporalis_local\\Lib\\site-packages\\peewee.py:2012(inner)\n",
      "     2516    0.007    0.000  125.107    0.050 c:\\Users\\MULLERA\\AppData\\Local\\anaconda3\\envs\\timex_temporalis_local\\Lib\\site-packages\\peewee.py:2087(execute)\n",
      "     2280    0.010    0.000  124.701    0.055 c:\\Users\\MULLERA\\AppData\\Local\\anaconda3\\envs\\timex_temporalis_local\\Lib\\site-packages\\peewee.py:7254(__iter__)\n",
      "     2516    0.063    0.000  121.658    0.048 c:\\Users\\MULLERA\\AppData\\Local\\anaconda3\\envs\\timex_temporalis_local\\Lib\\site-packages\\peewee.py:2260(_execute)\n",
      "        1    0.000    0.000   51.660   51.660 C:\\Users\\MULLERA\\OneDrive - VITO\\Documents\\04_Coding\\tictac_lca\\bw_timex\\timex_lca.py:537(build_datapackage)\n",
      "\n",
      "\n"
     ]
    },
    {
     "data": {
      "text/plain": [
       "<pstats.Stats at 0x2c93ec1aff0>"
      ]
     },
     "execution_count": 49,
     "metadata": {},
     "output_type": "execute_result"
    }
   ],
   "source": [
    "with Profile() as profile:\n",
    "    tlca.lci()\n",
    "    \n",
    "Stats(profile).sort_stats(SortKey.CUMULATIVE).print_stats(10)"
   ]
  },
  {
   "cell_type": "code",
   "execution_count": 50,
   "metadata": {},
   "outputs": [
    {
     "name": "stdout",
     "output_type": "stream",
     "text": [
      "         8805 function calls (8801 primitive calls) in 0.017 seconds\n",
      "\n",
      "   Ordered by: cumulative time\n",
      "   List reduced from 257 to 10 due to restriction <10>\n",
      "\n",
      "   ncalls  tottime  percall  cumtime  percall filename:lineno(function)\n",
      "       25    0.007    0.000    0.009    0.000 c:\\Users\\MULLERA\\AppData\\Local\\anaconda3\\envs\\timex_temporalis_local\\Lib\\site-packages\\bw_processing\\datapackage.py:180(filter_by_attribute)\n",
      "        1    0.000    0.000    0.006    0.006 c:\\Users\\MULLERA\\AppData\\Local\\anaconda3\\envs\\timex_temporalis_local\\Lib\\site-packages\\bw2calc\\utils.py:19(consistent_global_index)\n",
      "        1    0.000    0.000    0.005    0.005 c:\\Users\\MULLERA\\AppData\\Local\\anaconda3\\envs\\timex_temporalis_local\\Lib\\site-packages\\bw2calc\\lca.py:283(load_lcia_data)\n",
      "        1    0.000    0.000    0.004    0.004 c:\\Users\\MULLERA\\AppData\\Local\\anaconda3\\envs\\timex_temporalis_local\\Lib\\site-packages\\matrix_utils\\mapped_matrix.py:15(__init__)\n",
      "        1    0.000    0.000    0.003    0.003 c:\\Users\\MULLERA\\AppData\\Local\\anaconda3\\envs\\timex_temporalis_local\\Lib\\site-packages\\matrix_utils\\utils.py:6(filter_groups_for_packages)\n",
      "        2    0.000    0.000    0.003    0.001 c:\\Users\\MULLERA\\AppData\\Local\\anaconda3\\envs\\timex_temporalis_local\\Lib\\site-packages\\matrix_utils\\aggregation.py:5(aggregate_with_sparse)\n",
      "        5    0.000    0.000    0.002    0.000 c:\\Users\\MULLERA\\AppData\\Local\\anaconda3\\envs\\timex_temporalis_local\\Lib\\site-packages\\scipy\\sparse\\_coo.py:27(__init__)\n",
      "        1    0.000    0.000    0.002    0.002 c:\\Users\\MULLERA\\AppData\\Local\\anaconda3\\envs\\timex_temporalis_local\\Lib\\site-packages\\matrix_utils\\mapped_matrix.py:167(map_indices)\n",
      "        1    0.000    0.000    0.002    0.002 c:\\Users\\MULLERA\\AppData\\Local\\anaconda3\\envs\\timex_temporalis_local\\Lib\\site-packages\\matrix_utils\\mapped_matrix.py:184(rebuild_matrix)\n",
      "        1    0.000    0.000    0.002    0.002 c:\\Users\\MULLERA\\AppData\\Local\\anaconda3\\envs\\timex_temporalis_local\\Lib\\site-packages\\matrix_utils\\resource_group.py:166(map_indices)\n",
      "\n",
      "\n"
     ]
    },
    {
     "data": {
      "text/plain": [
       "<pstats.Stats at 0x2c90b3078f0>"
      ]
     },
     "execution_count": 50,
     "metadata": {},
     "output_type": "execute_result"
    }
   ],
   "source": [
    "with Profile() as profile:\n",
    "    tlca.static_lcia()\n",
    "\n",
    "Stats(profile).sort_stats(SortKey.CUMULATIVE).print_stats(10)"
   ]
  },
  {
   "cell_type": "code",
   "execution_count": 51,
   "metadata": {},
   "outputs": [
    {
     "data": {
      "text/plain": [
       "1653790.5231715888"
      ]
     },
     "execution_count": 51,
     "metadata": {},
     "output_type": "execute_result"
    }
   ],
   "source": [
    "tlca.static_score"
   ]
  }
 ],
 "metadata": {
  "kernelspec": {
   "display_name": "timex",
   "language": "python",
   "name": "python3"
  },
  "language_info": {
   "codemirror_mode": {
    "name": "ipython",
    "version": 3
   },
   "file_extension": ".py",
   "mimetype": "text/x-python",
   "name": "python",
   "nbconvert_exporter": "python",
   "pygments_lexer": "ipython3",
   "version": "3.11.12"
  }
 },
 "nbformat": 4,
 "nbformat_minor": 2
}
